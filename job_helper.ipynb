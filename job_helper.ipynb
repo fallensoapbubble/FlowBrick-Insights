{
 "cells": [
  {
   "cell_type": "code",
   "execution_count": 0,
   "metadata": {
    "application/vnd.databricks.v1+cell": {
     "cellMetadata": {
      "byteLimit": 2048000,
      "rowLimit": 10000
     },
     "inputWidgets": {},
     "nuid": "e714699d-725f-455e-8e7a-562498c55342",
     "showTitle": false,
     "tableResultSettingsMap": {},
     "title": ""
    }
   },
   "outputs": [
    {
     "output_type": "display_data",
     "data": {
      "text/html": [
       "<style scoped>\n",
       "  .table-result-container {\n",
       "    max-height: 300px;\n",
       "    overflow: auto;\n",
       "  }\n",
       "  table, th, td {\n",
       "    border: 1px solid black;\n",
       "    border-collapse: collapse;\n",
       "  }\n",
       "  th, td {\n",
       "    padding: 5px;\n",
       "  }\n",
       "  th {\n",
       "    text-align: left;\n",
       "  }\n",
       "</style><div class='table-result-container'><table class='table-result'><thead style='background-color: white'><tr><th>_c0</th><th>_c1</th><th>_c2</th><th>_c3</th></tr></thead><tbody><tr><td>https://www.linkedin.com/jobs/view/4277353126/?eBP=CwEAAAGYgRNcby_KMfZuM7o_bhgQ0uek5G8LIz3U7hjMncVVugI0W2_2x-lIQOk63MgV0pFj1MjE7HhaGb99RkLXZd7jc6H1r_q9un6ncxydzB4Zy4dvHyAMjBZusDk3BCMZXk6r9wePxGnPxBK6dsD_W2mnEKr3amupMQkiN3XZnOFFNNapGVk8qdkqTs0IAI_GeSbrH7zGtVWwYH6tXDFc27dAMFMF2a6J4ilRCR6xI7wl-bnmqR5plOLIXvROJcPcb4SEFZZYlH23vHwdNScpsPGI9Mo916ZU5ALO1qNqiqvKmo51EY2q6fT-5JM1Le5sgtVHSsi5njSw4f2kpL0fyUxR0TUd_ZMhrqCnSG5Kazaq7YI9f6mWYHAifiN_9F1GrdCMA54q9amRH6-AyDbsaL6ADQdVADtsG9iTYgiXgfkrd8sIwiRqXuDridZ34T7CKI_moz3IUU_2uFkqnLIxb8JZ4Z1mOexrhF65qQ6ZrdPpaGrubzWyhnwg9LegBFWPXreSmumgQ3yudbUw7lKA7yf50w&refId=VTdxZjP6Td02BrgNGEyD5A%3D%3D&trackingId=0ZNpZStGR73FRjLBjitcjg%3D%3D&trk=flagship3_job_collections_leaf_page</td><td>Data scientist- Python- AI/ML GEN AI- Across india</td><td>Capgemini Engineering</td><td>Mumbai, Maharashtra, India (Hybrid)</td></tr><tr><td>https://www.linkedin.com/jobs/view/4279260172/?eBP=CwEAAAGYgRNcb2s1qwNtsjoHmBzkZDTfCaIKh4_KcJSW4K5JiGezWlAfSSyLqmqvwEafp0lfK62lGPaszLMuoV1OfHtTiORVAuYwAHvPaZDfL9IxslYvQCgpzQkOvgQn0XY8fm7aSZUuxoz7k7Yc7Lw8BeQ_1F32c10tfeAI-D4CeQhRLnRQBWyyE93S3Pu49_0uyTWM5jVFVUCLPlznkBnUNWydS41ETB_Uo7UraHzR7AcVTBhfZVXxOnND5xaN_rHwAOIR4G2PhIMccU0Xu0o12TqGbUIcmY4R4ecX4uuUmV7S0rJRHU4Y_3LRmfobxeU4olIHHRLzrplIj0vhltiH9ZzHjaBUXZLnl-F-bXK1wDrsKcDaXndTmPDVaAR_y7705p4W04jw3zL90AJC2sOfY3_gua9nr9LNtNp4jInWiQur_pibVwKWpYS7Bpzxe0aPZ3g7RnI4na45YjYWRaqT9qUpQ48A9EOl472r-QKDOLnE4hiNvo309xdSfc-fN0641ulh-irR-8fQPyiA85JS-MGCHHb3&refId=VTdxZjP6Td02BrgNGEyD5A%3D%3D&trackingId=DFyDIfGzjUfLe4OLD7lvgQ%3D%3D&trk=flagship3_job_collections_leaf_page</td><td>Junior Data Scientist</td><td>AB InBev GCC India</td><td>Bengaluru, Karnataka, India (On-site)</td></tr><tr><td>https://www.linkedin.com/jobs/view/4277908502/?eBP=NOT_ELIGIBLE_FOR_CHARGING&refId=VTdxZjP6Td02BrgNGEyD5A%3D%3D&trackingId=wd9LH%2B3Su9OdfoKJvC6W6Q%3D%3D&trk=flagship3_job_collections_leaf_page</td><td>AI ML Intern</td><td>Hubnex Labs</td><td>India (Remote)</td></tr><tr><td>https://www.linkedin.com/jobs/view/4280550072/?eBP=BUDGET_EXHAUSTED_JOB&refId=VTdxZjP6Td02BrgNGEyD5A%3D%3D&trackingId=Ffe%2FR0gnvKjESBdjFIr30A%3D%3D&trk=flagship3_job_collections_leaf_page</td><td>AI Engineering Internship</td><td>Deep Learning Titans</td><td>Bengaluru, Karnataka, India (Remote)</td></tr><tr><td>https://www.linkedin.com/jobs/view/4216659912/?eBP=CwEAAAGYgRNcb7pUVP4u1ndn0ccV-twoDKQpJgzTyFXjquRaqv9YuqDQZUCU45geb-XqNGUhWk2Wa_HxKSjnD0-THpdrzhsQUfpW7l_bR0NrPt7usu5ESbW4P_Ir5Zn2vOah5YPpj6pmUn6XRg58awc94KFovwd6s1aQps8SFuD-2K0YiyNRZe4GtITl9PL-vqqPJZ0DjkdoGpB8enCloNl16jPlUJQuLOqmbgz82Ger8j9uD6yG0Ed0O_pT2zqrhe5vKbeSsicsWej7xA-zmKWxKMW5g9jVUCCACej2rXoqJXlhpCWWFnhlvHunaIFL4U6bY1cr1_H0P6C63_a4gsFrrnvbzqk4xruhemFXZ01c0UoZz59IvX0zy81w9GU5m45E7vf1zrix-zphjYUpFFcBM0o4VnIEeVKGSUiLvueXSVsT-VOf8G88bRZX_7QRNBLu0w3Atq8WjuBgx7-5pvOyNIyvNF96Q2iZoIBmL-6KRWF3UWu1Qc62P_FRZBzoxjEgVozczLPlgnh10st-Vf9XdZuiQD6I&refId=VTdxZjP6Td02BrgNGEyD5A%3D%3D&trackingId=DBYgLD94oNPi0dzDo%2F0TOw%3D%3D&trk=flagship3_job_collections_leaf_page</td><td>Gen AI Researcher</td><td>HCLTech</td><td>Bengaluru, Karnataka, India (On-site)</td></tr><tr><td>https://www.linkedin.com/jobs/view/4274222266/?eBP=BUDGET_EXHAUSTED_JOB&refId=VTdxZjP6Td02BrgNGEyD5A%3D%3D&trackingId=bfRBbJuyo7u9QHzDgWM%2BAQ%3D%3D&trk=flagship3_job_collections_leaf_page</td><td>Data Analyst I</td><td>Navi</td><td>Bengaluru, Karnataka, India (On-site)</td></tr><tr><td>https://www.linkedin.com/jobs/view/4277354782/?eBP=BUDGET_EXHAUSTED_JOB&refId=VTdxZjP6Td02BrgNGEyD5A%3D%3D&trackingId=a62Q7extgMqaT9qRq4geaw%3D%3D&trk=flagship3_job_collections_leaf_page</td><td>Junior Data Analyst</td><td>The Guide</td><td>India (Remote)</td></tr><tr><td>https://www.linkedin.com/jobs/view/4280144071/?eBP=BUDGET_EXHAUSTED_JOB&refId=VTdxZjP6Td02BrgNGEyD5A%3D%3D&trackingId=vgkb%2B2Cf%2FIrsrTqwqKQsDw%3D%3D&trk=flagship3_job_collections_leaf_page</td><td>Python Developer</td><td>LTIMindtree</td><td>India (Remote)</td></tr><tr><td>https://www.linkedin.com/jobs/view/4279278278/?eBP=BUDGET_EXHAUSTED_JOB&refId=VTdxZjP6Td02BrgNGEyD5A%3D%3D&trackingId=uYbbAZHlkuRTf55jYHMLyA%3D%3D&trk=flagship3_job_collections_leaf_page</td><td>Machine Learning Engineer</td><td>Tecnotree Corporation</td><td>Bengaluru, Karnataka, India (Hybrid)</td></tr><tr><td>https://www.linkedin.com/jobs/view/4274305695/?eBP=BUDGET_EXHAUSTED_JOB&refId=VTdxZjP6Td02BrgNGEyD5A%3D%3D&trackingId=fJC15olWXCub2haFX3DtcQ%3D%3D&trk=flagship3_job_collections_leaf_page</td><td>Associate AI Developer (Remote | Flexible Hours)</td><td>Pravartan</td><td>India (Remote)</td></tr><tr><td>https://www.linkedin.com/jobs/view/4279997390/?eBP=BUDGET_EXHAUSTED_JOB&refId=VTdxZjP6Td02BrgNGEyD5A%3D%3D&trackingId=2j8NIR5PQefhdtHQD1wuRA%3D%3D&trk=flagship3_job_collections_leaf_page</td><td>SQL or Python Developer</td><td>HRM Counsel Private Limited</td><td>India (Remote)</td></tr><tr><td>https://www.linkedin.com/jobs/view/4275952439/?eBP=CwEAAAGYgRNpqyHT-WEjS04882Hj9u_yQpEwLAaYqLnkdpMaPI9Wg_Iac36A6p4Iy5bk6RvUNHk3JMh-ZWrIgs3JGFsSjhzAJfdaO0TjVLErO5QWcqIf4HufnKC_roMTu5pGpBSArCNMXcv8UNVlq8vThrmfV7w8jFj-ZB55PsRH_zEy-24RWZ2cKLvbT5eRQG93R6k1m2wGEOo_eRpp5D6-HBqlYEIW5hjAX3tuPVmlSXCWgV6Lo4o-XUXmqJ9AHM_7lToHxLOBsJhvlBQ9TnJzBOuf6JshVnchADnj9ad9eQoS1MClf7ih7S6_UX9dpk9zYmDGeK9HDi54BpF5Q7Y3Yo0bshd2V7-tXh4RxADm-jdoXodWc5nImV6a9j2iB-3yGFXqnYCa3zx3dY8aCXMpA1dTt8mJl97f3f-GKaOTE5GGDpMV7Z3SgEN1SAFU0sKWpTOwIXQIBKNUqWALq53mqeRaAsxeJGKverevXxhdbT28cnx2iPaNVF0OYFPcczgDZrnYEScrKstcClOdakatOKg&refId=jnPkbUaJgtXfmJknzztCHw%3D%3D&trackingId=IiWTfDrqeLuyzXP8wDIhqw%3D%3D&trk=flagship3_job_collections_leaf_page</td><td>Data Scientist</td><td>AB InBev GCC India</td><td>Bengaluru, Karnataka, India (On-site)</td></tr><tr><td>https://www.linkedin.com/jobs/view/4280156304/?eBP=BUDGET_EXHAUSTED_JOB&refId=jnPkbUaJgtXfmJknzztCHw%3D%3D&trackingId=T9T6O7mFfNe749lbQNoeDg%3D%3D&trk=flagship3_job_collections_leaf_page</td><td>Remote Data Science Analyst - 17843</td><td>Turing</td><td>Bengaluru, Karnataka, India (Remote)</td></tr><tr><td>https://www.linkedin.com/jobs/view/4279597899/?eBP=CwEAAAGYgRNprJ7uURE3YHs3KKePwQuCG8SmvwHcI_C6zS1vfVzTIlh3hVa-7bMfEI1B9UwC7e9Da8XXaMFzqUbr9zPz4jPIGApqqrNgVyiNfbuoe0HxY0MlYkBepQ1urxIgdNGl2n7N3SeqazdpmHml7iGKSgUt9_a0DJsU2OJK34RkUh1mMPa-_gmSCm0xuV1G7HTWbJOzEgmyAWd3Z_OjmoA78v_6ZJcv5SMclsmOWK7_hFBIHR9vSRp3DNdCVaNRha2aXirFv7A7PyRv7q1f5vak_-miarZNCZvOHdhK4YE9rxO6knO_sI2KQsFRvy2_TuhQy9Fin8FQlSoE4BAnJIfgmy-BkPoQOx4uSKqCJLvdFfZw1hq2kdbB_3FUnmVb-r_2XPXp47tx2CRET3eFmvHNl6ObAAb6CP0lKZI-vJBdaFmFi-wN0LL4lahTkEDF517_pEmHYhpy813BsCRwAqIENxWYnmv_r_OptZvmwCIz8k8dTtIdFkzj2LpQuIg8d1GZ4CMNQ8ALEOhx0BrxOHICwg&refId=jnPkbUaJgtXfmJknzztCHw%3D%3D&trackingId=OT6kt4M4ESPfkhyKrDQVVg%3D%3D&trk=flagship3_job_collections_leaf_page</td><td>3D Computer Vision Intern</td><td>Sony Research India</td><td>India (Remote)</td></tr><tr><td>https://www.linkedin.com/jobs/view/4272868090/?eBP=CwEAAAGYgRNprBnKCDkS6HutgFZAHbFwjKz_mxCDEc4DKsm5ldmrH_iDFPLDdoU98OPfsrmNBwXZFaDOl2MnBgUyLPUUOO_99W-KWbJaX7NqjBxrBROEtcQ0AxIgfeUwyW8IzabHyjMr42UdHpaIOVpk4LJrvaoeDprmYBucBryTmpAZ7QzkaBikcu1uoUvg82-2uxhZkis7JFEDH0DvS911eFRO_M1gZJSPfJlzuphp5g10GaDtX5HCoaQKZHE3KY_y2Hg0nPrW40tn2gthsxhHxek36o_danT5zIX6eSVrHt3cr1pSu2-kY0qOIhOrzaKgeDTgIsn7LzndfvgSaFiZLvmQoZfjNICSjuNYn_XJ782wxIyMg_OYYXcFqc-dOP35hvsSsk-jH_pnXgoGNA2wLYh2uyUuPm7sq4mo5hmGszOxZMAQ7PXkyP8BVo9ewOC4KHHboyJ5DQ9n2Jp8pC-nVmFy75IYkm3hehPZJLiPx0JSEU-VvxrHlXugCxT1NbNqiYZrUB5AK97EdmBgd9S8gj6_1Q87&refId=jnPkbUaJgtXfmJknzztCHw%3D%3D&trackingId=m4W7sy9k9qaPNDo71rpXpg%3D%3D&trk=flagship3_job_collections_leaf_page</td><td>Machine Learning Engineer</td><td>Capgemini</td><td>Bengaluru, Karnataka, India (Hybrid)</td></tr><tr><td>https://www.linkedin.com/jobs/view/4280599999/?eBP=BUDGET_EXHAUSTED_JOB&refId=jnPkbUaJgtXfmJknzztCHw%3D%3D&trackingId=Ik53abofLEWdZv%2F1KPL%2F2Q%3D%3D&trk=flagship3_job_collections_leaf_page</td><td>AI Engineering Intern (SDE)</td><td>Darwix AI</td><td>Gurugram, Haryana, India (On-site)</td></tr><tr><td>https://www.linkedin.com/jobs/view/4277927708/?eBP=CwEAAAGYgRNprOP_oooAdlJczu9h3w2v6OUArF5QTtQ7c2XXsHXnbzlJNFDwTOXzBgNKtshb_I8au0mhJaNaph73o-Sq3kTmC0mTuTMcx5tsiN9cw1j6UlfgnMAjky6vU6BJJgSYEidJKgYTiRnz2SiRUs2YdefReTWdrZEuSKhcU49AImlIBw1elcmM3o0ikG_YR_I1VgwE7S-d9fWCRHLOCVALQ6AUgWJqBpvgmcppZS2R5WTQJE9JjevIoJQQqowZS7J7O85d6xpx6lPkvfnTzuvk2y0IcpoUzcSxdxx63aUs6eXhEFZnkpUUER_PFGZ7LmjSgIceC5vVETS89V6D4bufUxNsUaeRp6tzpWV0vhkSq7ghEmXxs0x25Hj_UuPqg5fdux97Ad_AjQ4NiOoGd1Qij7-6VQ-V0iS0lBI22hHTPQc-a0cyiZo6zxcVGoMStNhof5NAa3ReUyMTXVRe1b0gSojyi5bynmWu54EHCwCqJgmnvHNLdnvf0bvy5hFP0bD272U2-G-j1nJsZEkPRNWJNQ&refId=jnPkbUaJgtXfmJknzztCHw%3D%3D&trackingId=kpze6nqcO4zCHyRrbznPhw%3D%3D&trk=flagship3_job_collections_leaf_page</td><td>Machine Learning Engineer</td><td>Insight Global</td><td>India (Remote)</td></tr><tr><td>https://www.linkedin.com/jobs/view/4222830764/?eBP=CwEAAAGYgRNprAnr9aF9EkqD1FwbnSS3riVgHFL-xuCtKJRPjLWqeJPTdW0MovTKXX8l1xv8WmT8PhmElm37SglA7Gbg3jJwrnZ4K8P8BUYREm8-U9kIOklwjcPispRP0bHDBbDlocu5HT3x-g6JIjGNaNAFh0Ct87ml0bet3_U4qEHcWMCCf3G1n_77pK_rnzoVtwgQ0VDvzwEDXK33Nv3Oni5Wo5_E1mFVzCACpPROP5SccJJPxz5st_fwUsc--R-SUfaysP_bkbW7cUfJgIB0NEYuPBnPAXDf9IP5Z2r_-9kSaRAD7ugUK_Q87-vdD9IaFM2pA8BjoDahTj0L1tc39IEMFTCSSSINAL9FLkfTxyMLZv8Wuy4w95F6VCh_2f2orGs9KqoTeGl5GYE_LB9VKVeOiIq2jB1VdpA-IBGOk4UnG7tyTDorBZqJoICim7Kcf9ex43w3kRHAToCl-Vqv-kAweAsvwFodK7Kr5RGGuM8M6yrQK6pnKnw5BLQ2Z2tvd9R235oLRAVMVbnM84n3gvaG8Zlu&refId=jnPkbUaJgtXfmJknzztCHw%3D%3D&trackingId=EbKQwPsh7xIkxjtR%2FYQKrw%3D%3D&trk=flagship3_job_collections_leaf_page</td><td>Data science intern</td><td>EVERSANA</td><td>Bengaluru, Karnataka, India (On-site)</td></tr><tr><td>https://www.linkedin.com/jobs/view/4277368921/?eBP=CwEAAAGYgRNprer7s6kT-XxKQaF21PwnVIuzArtqRFD4649C6G5_HhT_1aS2fQaYahV46VNP39vVzuEgFTbtS4jQWB_7Sv7Ute8nXHrl5f1vjmKQjGDcqVyIj6gqkxp51e_Pn8qK3nMfjM_GOFbXzgmI5OAAFxxQ16cEMkHy1ztdL83_ip9Uu2W-ROM3Pu1MomnjNFjZcaexvieEWuKsywKoLH7MZhkTmYFW7gjNAnc72PXTvRY3ZVLG_5xcxbUx8HjZKaIQ6MKf5E25ZkMuvF-UO8MgRbrZ9xZJtnU_Icb6hUUdvUtc_IbEzzfe3jJmryKiHa1mdr6-vEfaKT4EilVD1-6dpcZ0lq9Eub1drlJl74BfvZECDzgMoAE0BlNESB6NouZI45ld6br3YVaCOGS2EpAkqvzuGbGPnn6-BJ4rvRPa0rsAyHkD0Vc6EwxGvA9bPhhw5u-ntdyH4myFgWK6_hFT5w4Z-9JUWAgD5mx7cr7fcMFqIrg3Be4He7OKVXNp91XGJiYyaZmwBVonIotzIXE6Ag&refId=jnPkbUaJgtXfmJknzztCHw%3D%3D&trackingId=AnIAsKIo9zVSD7DvHLzcDA%3D%3D&trk=flagship3_job_collections_leaf_page</td><td>Digital Champaign Internship</td><td>HDFC securities</td><td>Mumbai, Maharashtra, India (On-site)</td></tr><tr><td>https://www.linkedin.com/jobs/view/4274097889/?eBP=CwEAAAGYgRNprQRKbBkb21jUfD2RLxds_f9OBopl9Z-IRr8LXqNd6UKi4Yytfk8EGYmfWCbsEmVol6K6p0iJvMxESg_HeveGXvrKgcZ5L3n0kjzm_ZAZ_0gCPxvPsVx6bzVdnpZT7sYIRXUYjuxjIUied1sraFSw89622eJ9-vKZt0OEGALTPeM6ZqZCQ3LMDsb2NoR2ozoF-5ysHXUGs2s1HPxUS6q1g6zewc1PKXho2p4_dSiT8QLqWD0i0NcZpzy84fvpxRpH1bVyvOEFPQhEG6II8ADuSWsW7liDA3dHejodc2ggSuemWpvk11QoTz8TmBnbR5Htxms4lyK4hmk1OBwBFmaW5O7uvDp0cJERGwe73AYf82qkCdfCf5cX46idm36Xagoub52A1LqIR8RQNoFig88bBS73bl-wFxIWpPptXLzZJpyh1bt8jBC10WwBLvZkMR9tYb9FMRkd3VBm1_g5rPpJ--8Uzmuhn8GUeQjIncwrK40-qNgcUjeb3NjlrZfThMBVK3xRLd7yYnUFNrCH9g&refId=jnPkbUaJgtXfmJknzztCHw%3D%3D&trackingId=jJNRm%2BYr7Q74Y%2BY4QYXD3Q%3D%3D&trk=flagship3_job_collections_leaf_page</td><td>Data Scientist</td><td>Pentair</td><td>Noida, Uttar Pradesh, India (Hybrid)</td></tr><tr><td>https://www.linkedin.com/jobs/view/4274697931/?eBP=BUDGET_EXHAUSTED_JOB&refId=jnPkbUaJgtXfmJknzztCHw%3D%3D&trackingId=b%2FFOO62TY%2BIrjYqTPhpmqA%3D%3D&trk=flagship3_job_collections_leaf_page</td><td>Fresher Cloud Engineer</td><td>CryptoChakra</td><td>India (Remote)</td></tr><tr><td>https://www.linkedin.com/jobs/view/4277577862/?eBP=BUDGET_EXHAUSTED_JOB&refId=jnPkbUaJgtXfmJknzztCHw%3D%3D&trackingId=TmdIiTagaheh8MU7Gd%2FL2A%3D%3D&trk=flagship3_job_collections_leaf_page</td><td>Full Stack Engineer</td><td>Orbital</td><td>Hyderabad, Telangana, India (On-site)</td></tr><tr><td>https://www.linkedin.com/jobs/view/4280159123/?eBP=BUDGET_EXHAUSTED_JOB&refId=wL%2FRMpLMnaJ0PmhOiDKXgA%3D%3D&trackingId=94y1ZHcxTdsmNJo5kSZtRQ%3D%3D&trk=flagship3_job_collections_leaf_page</td><td>Remote Data Science Analyst - 17843</td><td>Turing</td><td>Hyderabad, Telangana, India (Remote)</td></tr><tr><td>https://www.linkedin.com/jobs/view/4279992774/?eBP=BUDGET_EXHAUSTED_JOB&refId=wL%2FRMpLMnaJ0PmhOiDKXgA%3D%3D&trackingId=kImrvh6mYAzViXgBqWIeuw%3D%3D&trk=flagship3_job_collections_leaf_page</td><td>Speech Generation Intern</td><td>Sony Research India</td><td>Bengaluru, Karnataka, India (Remote)</td></tr><tr><td>https://www.linkedin.com/jobs/view/4280776208/?eBP=BUDGET_EXHAUSTED_JOB&refId=wL%2FRMpLMnaJ0PmhOiDKXgA%3D%3D&trackingId=EHXgxqpbXfDHfsbRkKHxjA%3D%3D&trk=flagship3_job_collections_leaf_page</td><td>Python Data Analyst</td><td>Persistent Systems</td><td>Bengaluru, Karnataka, India (On-site)</td></tr><tr><td>https://www.linkedin.com/jobs/view/4275076258/?eBP=BUDGET_EXHAUSTED_JOB&refId=wL%2FRMpLMnaJ0PmhOiDKXgA%3D%3D&trackingId=%2BWunzS%2F5uot4kOkMFZR1jA%3D%3D&trk=flagship3_job_collections_leaf_page</td><td>Full Stack Developer SDE 1</td><td>NxtWave</td><td>Hyderabad, Telangana, India (On-site)</td></tr><tr><td>https://www.linkedin.com/jobs/view/4277562941/?eBP=CwEAAAGYgRQ36KJWeNRiTl4P1fOxEdXUglM7W0wWnlj-FUD4OvaatfSHVGToct-V6k-FTdD6vf9eBfgTvfz_CjlyZQoC69e-Qt9RC8t3lwYCa6lNFBK-bvgf-OovgqJeuRptFUf_xqcDhISYZwY43By2tTgGhNLYZpMreCTfWLJegs5rhro37rbumq2u6kahE6zBKHFpZ5LyiEr7Tb499P0Sze5T8DRJEkEHB7ESzoGdf0lyV6eiqSuzQG7DycDW7uwbIBM6CX1y2pH93yqRNqzOMhurzKKB_1iJVY6YS9tEHRAojOHfGqb24hDgL-GZd8e6TQGYSVlcm70Wo7noiGYpZPa-qMZJK2wD0w3jgaM1O403HF7lPRPTgU8V6ZP4o-7JPCVqGCdvDwASQnppvl4XTeM50fYTcavy61vWNSszNy9_cI4AkyH7TTwoQkkbFBtiz6iNYjOTKMxvmK_uwIEYWl74S6tiy1PHTKjTroqoBreISak5Bi2UtvuzssTmkN6scRMjT8z1r7MQXf9qsayQ6qEA7MzCQbM&refId=wL%2FRMpLMnaJ0PmhOiDKXgA%3D%3D&trackingId=zW0MpxhxrZI3Z0iA8iI3Lg%3D%3D&trk=flagship3_job_collections_leaf_page</td><td>AI - ML</td><td>WNS</td><td>Noida, Uttar Pradesh, India (On-site)</td></tr><tr><td>https://www.linkedin.com/jobs/view/4280831022/?eBP=BUDGET_EXHAUSTED_JOB&refId=wL%2FRMpLMnaJ0PmhOiDKXgA%3D%3D&trackingId=5bOjCxntA6c0UczcZKotvg%3D%3D&trk=flagship3_job_collections_leaf_page</td><td>Full Stack Engineer – AI/ML</td><td>2Base Technologies</td><td>Bengaluru, Karnataka, India (On-site)</td></tr><tr><td>https://www.linkedin.com/jobs/view/4273880274/?eBP=CwEAAAGYgRQ36GdbbgjA4YX2rUBvzoOaln0-D5vjRna3N9-iZ1lnI5vikD8T-NZPb-RNb5ovwVs--4Cgx-Z5WhHJdwmvtzxKZtJ0wUjg7ROxEeNQwqXReXIDhlar7mfWyQr4-DPb_U7xgIQVWg9hJ7gOUuOoJnA_6XPxTfXWUNOexvT_qkg3ucd0hT1uotEH4__jbBJldqXDCAdFtnP0RGIZuaVrtJFw3-2bPUfwpSKdz1J5wAHDMWTz9fWTncqqgRXDxtGHUn8m8U3L5K2_ZuPtYGhDW-rx6RHVvGghxFmh9aQdBda99tX1On7D0UnOtk8xmEr3u0DEBO2cwtKzH4r6b3LcZTDZ-Z1SY_x-hohx7eZNBCzx4czuHVXzGlYn7yEJJ9p5AYvfA5IGMI9gC0IralcK7lXENnQVripR7DCjeP6tvlh8x7PYZmahvQwR3OlmcNK2LNo6tmOUp3Edka2_QLHvLGMhok6AJigGZgg9uXXChgA&refId=wL%2FRMpLMnaJ0PmhOiDKXgA%3D%3D&trackingId=MVIyF4JFHcOa6FGm47LOXg%3D%3D&trk=flagship3_job_collections_leaf_page</td><td>AI Engineer</td><td>Zenduty</td><td>Bangalore Urban, Karnataka, India (On-site)</td></tr><tr><td>https://www.linkedin.com/jobs/view/4219931313/?eBP=CwEAAAGYgRQ36ETVhwHJ1MGAobk8UMYim2dc_9dihoaYx5f8WqdJY4gSSjREJF6MiQuh6uJRw3LKAaUN1SR2_6eWHnKSRuYPPfuR0piYsqNxPBt8eGS-hDo3lbJM6Ni-Kamhf-VD-muRhHj7_JOqjXXY6549a7Bdja4sX38-yiX8ppQZlJR9XSzruOsWNm88EuTpwu3JsdSYkjpkyF8QjLgNhZSA-OjMvF9IhNY7ZZbAJwm08GQsYNRg0lOrBX7LoV68qmzm4Hvnb6dp8PMb_jvJg6PiLY2IRebjvqu4NkPakDYtUnJafqEJoEhFxyhEr-xeOTiNjlPuz84rrgQxlJQkjwdCND_lBelQ50bHKt2peqPvgwmkR02s1p6KpG3goe2ib4btjom_39ZYzG8cQrtSFkaf2LlFu4vFMpFW3Sk0U5Q8xf1jehwx6q5Nd7D0VuvDSxlclhCFNBG3X4CfaXjX2iIsGBuEpigDly1mrk_HXSLGYWp03_4IERkiQ8Rec9xp23olkkHUrfgyEOG_QENAr52dKvF8&refId=wL%2FRMpLMnaJ0PmhOiDKXgA%3D%3D&trackingId=9u1%2FGL3Xr38rRkB0FsVS6Q%3D%3D&trk=flagship3_job_collections_leaf_page</td><td>Software Engineer (AI / NLP / ML)</td><td>Nextiva</td><td>Greater Chennai Area (Hybrid)</td></tr><tr><td>https://www.linkedin.com/jobs/view/4279543215/?eBP=CwEAAAGYgRQ36UlOYVyTOZF_hYfxTDWx5r1tIRN-hCtFStUXTBJ-Z4EHYpIIstgxiA6WO1yEUNYF85Guk9ASZAm9IdzobkyrafGXWtI4d3gYAKAz7WYmcJM1oEcSF3AVnEqgnsCKC0NIa5bywNYhVvAvV7HW-Fcat9Sb3ZKozwotvE9u_QlOKaSnya9lmz9EyFm4xWqicvFDhgNIY2jtQ2C6snx8_SnKPkstorBuJoFRFC_j0kmv0AlaD9vXRILdL_OJRY1wKx07k_f4jx4tSPvTC6Q6MBjiFN4YXg5yUPzZsqsD2QbTfwGfHMXERv6fUWRq8jKREj7yC3Fke0dV8-QAEd0poJip6RHAqobjzZ_QTh32zticN6gnHLuGZ9tuc370aApQUxAVwUkQ3VQoAKnXCwMuFflqDL5-XYp3ZPlKTFvAEHPHXJZEiVWzdI0wqEPQZPtV4ZId5RtKAKVBelhDxnCNebcIrKjZ7i4VMGAGeNyQDwJ-XqOES1dW2Mbyv3uI0kb4g90xN9ePDqDGvLW3VI4jykrYY8E&refId=wL%2FRMpLMnaJ0PmhOiDKXgA%3D%3D&trackingId=SM83wi2ga4rRTDNC%2FmKhUw%3D%3D&trk=flagship3_job_collections_leaf_page</td><td>Data Scientist II</td><td>Talkdesk</td><td>Bengaluru, Karnataka, India (On-site)</td></tr><tr><td>https://www.linkedin.com/jobs/view/4275972625/?eBP=CwEAAAGYgRQ36fbQnx5QxkgMAUj13mmKBsQtKKOFRYaG95z9FdG-Eb53i0Oun4LOgQMgxCkif3giCM514RqQYw1ctItO7lDBskQVQayMD7G1UACKCHxv5L9PBwiTt4Y-b_T-rFOc1MEc6-Kg4q8i6JzQvUfohUrFS9ULMtxCDs_ekVGaDVohU9PWmXmT6v7C-Tx2Jg7rz91tOsRyLiLHphbQsFC-H6-1cLeLEV2X06RsxCUKhPLnNCjhRGpYWENu2E3LRzBWYqYqzRy4CHnVoKjrzFSZmX2Z8Qc4bhSWIEj3IRIk7nP96GJexOtYCmKkG6t6K2e5jZ3cMDmCreo2XuY5Sk5K2NqGmT3Q4sUTlSFkJ87fSnDKIum3DTcuFHCgS8wghD88OAZP9am4UU4VYChvChas-cyLTsmlHSaRIMVHQXOyeGQZ7xczJK1Vdy671NX8xZoSoR7qr_DXAooeiPnMqM2ymm_8WXCuVnMTLh_GBQEF1ITnWyKRIetF9UNwpj5S9AaoK1tIc3iE9ltKvC0nCMZWBdqX&refId=wL%2FRMpLMnaJ0PmhOiDKXgA%3D%3D&trackingId=pEYLZvwd3MzmQGvAnirMjg%3D%3D&trk=flagship3_job_collections_leaf_page</td><td>Data Analyst</td><td>Newsweek</td><td>India (Remote)</td></tr><tr><td>https://www.linkedin.com/jobs/view/4277363295/?eBP=BUDGET_EXHAUSTED_JOB&refId=wL%2FRMpLMnaJ0PmhOiDKXgA%3D%3D&trackingId=2cLqtEczLm%2B40hNj6AHMRQ%3D%3D&trk=flagship3_job_collections_leaf_page</td><td>AI/ML Engineer</td><td>Grow Your Staff</td><td>India (Remote)</td></tr><tr><td>https://www.linkedin.com/jobs/view/4280159123/?eBP=BUDGET_EXHAUSTED_JOB&refId=wL%2FRMpLMnaJ0PmhOiDKXgA%3D%3D&trackingId=94y1ZHcxTdsmNJo5kSZtRQ%3D%3D&trk=flagship3_job_collections_leaf_page</td><td>Remote Data Science Analyst - 17843</td><td>Turing</td><td>Hyderabad, Telangana, India (Remote)</td></tr><tr><td>https://www.linkedin.com/jobs/view/4279992774/?eBP=BUDGET_EXHAUSTED_JOB&refId=wL%2FRMpLMnaJ0PmhOiDKXgA%3D%3D&trackingId=kImrvh6mYAzViXgBqWIeuw%3D%3D&trk=flagship3_job_collections_leaf_page</td><td>Speech Generation Intern</td><td>Sony Research India</td><td>Bengaluru, Karnataka, India (Remote)</td></tr><tr><td>https://www.linkedin.com/jobs/view/4280776208/?eBP=BUDGET_EXHAUSTED_JOB&refId=wL%2FRMpLMnaJ0PmhOiDKXgA%3D%3D&trackingId=EHXgxqpbXfDHfsbRkKHxjA%3D%3D&trk=flagship3_job_collections_leaf_page</td><td>Python Data Analyst</td><td>Persistent Systems</td><td>Bengaluru, Karnataka, India (On-site)</td></tr><tr><td>https://www.linkedin.com/jobs/view/4275076258/?eBP=BUDGET_EXHAUSTED_JOB&refId=wL%2FRMpLMnaJ0PmhOiDKXgA%3D%3D&trackingId=%2BWunzS%2F5uot4kOkMFZR1jA%3D%3D&trk=flagship3_job_collections_leaf_page</td><td>Full Stack Developer SDE 1</td><td>NxtWave</td><td>Hyderabad, Telangana, India (On-site)</td></tr><tr><td>https://www.linkedin.com/jobs/view/4277562941/?eBP=CwEAAAGYgRQ36KJWeNRiTl4P1fOxEdXUglM7W0wWnlj-FUD4OvaatfSHVGToct-V6k-FTdD6vf9eBfgTvfz_CjlyZQoC69e-Qt9RC8t3lwYCa6lNFBK-bvgf-OovgqJeuRptFUf_xqcDhISYZwY43By2tTgGhNLYZpMreCTfWLJegs5rhro37rbumq2u6kahE6zBKHFpZ5LyiEr7Tb499P0Sze5T8DRJEkEHB7ESzoGdf0lyV6eiqSuzQG7DycDW7uwbIBM6CX1y2pH93yqRNqzOMhurzKKB_1iJVY6YS9tEHRAojOHfGqb24hDgL-GZd8e6TQGYSVlcm70Wo7noiGYpZPa-qMZJK2wD0w3jgaM1O403HF7lPRPTgU8V6ZP4o-7JPCVqGCdvDwASQnppvl4XTeM50fYTcavy61vWNSszNy9_cI4AkyH7TTwoQkkbFBtiz6iNYjOTKMxvmK_uwIEYWl74S6tiy1PHTKjTroqoBreISak5Bi2UtvuzssTmkN6scRMjT8z1r7MQXf9qsayQ6qEA7MzCQbM&refId=wL%2FRMpLMnaJ0PmhOiDKXgA%3D%3D&trackingId=zW0MpxhxrZI3Z0iA8iI3Lg%3D%3D&trk=flagship3_job_collections_leaf_page</td><td>AI - ML</td><td>WNS</td><td>Noida, Uttar Pradesh, India (On-site)</td></tr><tr><td>https://www.linkedin.com/jobs/view/4280831022/?eBP=BUDGET_EXHAUSTED_JOB&refId=wL%2FRMpLMnaJ0PmhOiDKXgA%3D%3D&trackingId=5bOjCxntA6c0UczcZKotvg%3D%3D&trk=flagship3_job_collections_leaf_page</td><td>Full Stack Engineer – AI/ML</td><td>2Base Technologies</td><td>Bengaluru, Karnataka, India (On-site)</td></tr><tr><td>https://www.linkedin.com/jobs/view/4273880274/?eBP=CwEAAAGYgRQ36GdbbgjA4YX2rUBvzoOaln0-D5vjRna3N9-iZ1lnI5vikD8T-NZPb-RNb5ovwVs--4Cgx-Z5WhHJdwmvtzxKZtJ0wUjg7ROxEeNQwqXReXIDhlar7mfWyQr4-DPb_U7xgIQVWg9hJ7gOUuOoJnA_6XPxTfXWUNOexvT_qkg3ucd0hT1uotEH4__jbBJldqXDCAdFtnP0RGIZuaVrtJFw3-2bPUfwpSKdz1J5wAHDMWTz9fWTncqqgRXDxtGHUn8m8U3L5K2_ZuPtYGhDW-rx6RHVvGghxFmh9aQdBda99tX1On7D0UnOtk8xmEr3u0DEBO2cwtKzH4r6b3LcZTDZ-Z1SY_x-hohx7eZNBCzx4czuHVXzGlYn7yEJJ9p5AYvfA5IGMI9gC0IralcK7lXENnQVripR7DCjeP6tvlh8x7PYZmahvQwR3OlmcNK2LNo6tmOUp3Edka2_QLHvLGMhok6AJigGZgg9uXXChgA&refId=wL%2FRMpLMnaJ0PmhOiDKXgA%3D%3D&trackingId=MVIyF4JFHcOa6FGm47LOXg%3D%3D&trk=flagship3_job_collections_leaf_page</td><td>AI Engineer</td><td>Zenduty</td><td>Bangalore Urban, Karnataka, India (On-site)</td></tr><tr><td>https://www.linkedin.com/jobs/view/4279273971/?eBP=CwEAAAGYgRQ36HcC61SuAcAS2snyYNEPsiAOHIsdXe4s7KF2-bICtaT3I3RK5t9J6nmjQ2dgvkjVu90zBDbxuqJZ591TrEj2J1kFtkC7C4U7mWQwCkyggpaW3KejlB17XdVk57fM2cQhHfuO8NfYCsnuDml2I8Vxy8M3QXHPvQ_x_uZ7MEcTrODfYVpgi95bpIHXbv0CdBF7a8QFbzUBBF1avK6q307hkkov3cuKvy0sF4_zOZsxxwWrPuM8b_G2AOh30zLqGXFkrCSvXybpwEQY0Y3INb6dT41DHbhtOLQvK4ydkwBTepvGKffHV500x6P3WQKHTq9VIBWIKme9LdYCr70TQ9LFleB72i8uwxFvdSXWmdj02q9Eig6wBMD8eT0ukoYP9U_6F81mSCbcgugzHXYg1RCpOf3J5jNnRpgcZAYGQXQWsdChmbStBTG9oq9TM5p57xRy1R6qCbSJIy6Lmyy91PEqt-G-NGcCNTC5XIQBe2o1uYlDzp7RXiLviz78ZpUmWsrLFBE7cI01WIKj_NM&refId=wL%2FRMpLMnaJ0PmhOiDKXgA%3D%3D&trackingId=TaayOEKtud5QcgfcEDO1%2FQ%3D%3D&trk=flagship3_job_collections_leaf_page</td><td>Python Developer with Javascript and Cloud Environment</td><td>Ampstek</td><td>Bengaluru, Karnataka, India (On-site)</td></tr><tr><td>https://www.linkedin.com/jobs/view/4219931313/?eBP=CwEAAAGYgRQ36ETVhwHJ1MGAobk8UMYim2dc_9dihoaYx5f8WqdJY4gSSjREJF6MiQuh6uJRw3LKAaUN1SR2_6eWHnKSRuYPPfuR0piYsqNxPBt8eGS-hDo3lbJM6Ni-Kamhf-VD-muRhHj7_JOqjXXY6549a7Bdja4sX38-yiX8ppQZlJR9XSzruOsWNm88EuTpwu3JsdSYkjpkyF8QjLgNhZSA-OjMvF9IhNY7ZZbAJwm08GQsYNRg0lOrBX7LoV68qmzm4Hvnb6dp8PMb_jvJg6PiLY2IRebjvqu4NkPakDYtUnJafqEJoEhFxyhEr-xeOTiNjlPuz84rrgQxlJQkjwdCND_lBelQ50bHKt2peqPvgwmkR02s1p6KpG3goe2ib4btjom_39ZYzG8cQrtSFkaf2LlFu4vFMpFW3Sk0U5Q8xf1jehwx6q5Nd7D0VuvDSxlclhCFNBG3X4CfaXjX2iIsGBuEpigDly1mrk_HXSLGYWp03_4IERkiQ8Rec9xp23olkkHUrfgyEOG_QENAr52dKvF8&refId=wL%2FRMpLMnaJ0PmhOiDKXgA%3D%3D&trackingId=9u1%2FGL3Xr38rRkB0FsVS6Q%3D%3D&trk=flagship3_job_collections_leaf_page</td><td>Software Engineer (AI / NLP / ML)</td><td>Nextiva</td><td>Greater Chennai Area (Hybrid)</td></tr><tr><td>https://www.linkedin.com/jobs/view/4279543215/?eBP=CwEAAAGYgRQ36UlOYVyTOZF_hYfxTDWx5r1tIRN-hCtFStUXTBJ-Z4EHYpIIstgxiA6WO1yEUNYF85Guk9ASZAm9IdzobkyrafGXWtI4d3gYAKAz7WYmcJM1oEcSF3AVnEqgnsCKC0NIa5bywNYhVvAvV7HW-Fcat9Sb3ZKozwotvE9u_QlOKaSnya9lmz9EyFm4xWqicvFDhgNIY2jtQ2C6snx8_SnKPkstorBuJoFRFC_j0kmv0AlaD9vXRILdL_OJRY1wKx07k_f4jx4tSPvTC6Q6MBjiFN4YXg5yUPzZsqsD2QbTfwGfHMXERv6fUWRq8jKREj7yC3Fke0dV8-QAEd0poJip6RHAqobjzZ_QTh32zticN6gnHLuGZ9tuc370aApQUxAVwUkQ3VQoAKnXCwMuFflqDL5-XYp3ZPlKTFvAEHPHXJZEiVWzdI0wqEPQZPtV4ZId5RtKAKVBelhDxnCNebcIrKjZ7i4VMGAGeNyQDwJ-XqOES1dW2Mbyv3uI0kb4g90xN9ePDqDGvLW3VI4jykrYY8E&refId=wL%2FRMpLMnaJ0PmhOiDKXgA%3D%3D&trackingId=SM83wi2ga4rRTDNC%2FmKhUw%3D%3D&trk=flagship3_job_collections_leaf_page</td><td>Data Scientist II</td><td>Talkdesk</td><td>Bengaluru, Karnataka, India (On-site)</td></tr><tr><td>https://www.linkedin.com/jobs/view/4275972625/?eBP=CwEAAAGYgRQ36fbQnx5QxkgMAUj13mmKBsQtKKOFRYaG95z9FdG-Eb53i0Oun4LOgQMgxCkif3giCM514RqQYw1ctItO7lDBskQVQayMD7G1UACKCHxv5L9PBwiTt4Y-b_T-rFOc1MEc6-Kg4q8i6JzQvUfohUrFS9ULMtxCDs_ekVGaDVohU9PWmXmT6v7C-Tx2Jg7rz91tOsRyLiLHphbQsFC-H6-1cLeLEV2X06RsxCUKhPLnNCjhRGpYWENu2E3LRzBWYqYqzRy4CHnVoKjrzFSZmX2Z8Qc4bhSWIEj3IRIk7nP96GJexOtYCmKkG6t6K2e5jZ3cMDmCreo2XuY5Sk5K2NqGmT3Q4sUTlSFkJ87fSnDKIum3DTcuFHCgS8wghD88OAZP9am4UU4VYChvChas-cyLTsmlHSaRIMVHQXOyeGQZ7xczJK1Vdy671NX8xZoSoR7qr_DXAooeiPnMqM2ymm_8WXCuVnMTLh_GBQEF1ITnWyKRIetF9UNwpj5S9AaoK1tIc3iE9ltKvC0nCMZWBdqX&refId=wL%2FRMpLMnaJ0PmhOiDKXgA%3D%3D&trackingId=pEYLZvwd3MzmQGvAnirMjg%3D%3D&trk=flagship3_job_collections_leaf_page</td><td>Data Analyst</td><td>Newsweek</td><td>India (Remote)</td></tr><tr><td>https://www.linkedin.com/jobs/view/4277363295/?eBP=BUDGET_EXHAUSTED_JOB&refId=wL%2FRMpLMnaJ0PmhOiDKXgA%3D%3D&trackingId=2cLqtEczLm%2B40hNj6AHMRQ%3D%3D&trk=flagship3_job_collections_leaf_page</td><td>AI/ML Engineer</td><td>Grow Your Staff</td><td>India (Remote)</td></tr><tr><td>https://www.linkedin.com/jobs/view/4278492716/?eBP=CwEAAAGYgRRFuFBhckZrAS5VudGiS-Z0tB6oFiunIjw8tVhEnswlRRUTdJeypIBWAPL9VD9YzC8baKTQ7vEZfb5kLNtvNiJWFnrD6_V316EXy-dU190WN2b7nmyqNta8uY9e6pbPdD0-nHWMflldZMYCH2yN-2yRmGJNf86QFMpIHwnXyVxL2VwZHKea50rQnwFRrXtvgb4_x83FUe8g2qXzOFIALMiV3BFFHLWM7NlBAFnXZxTRkSW87NZX_1xkrDbJaa1AvbaVvHJhR0Rwvpon0uPoJ2w-2LN89p3FW8v8pAEyNsigMdNHtfzTlkZIN2lhT9_dSn_lLyA58k0covtGtU4CiEFDRs_dk_X_px3pyqXxfT5uHUiuNA8rYA_eNHc2wg-OLx7YOd90UnmXuzUcEYN2_PF2do5TbRcEePLImWk1ZZJujIcn_bRdaQKRPXKhs7DhdOGt5p2ygm1D3cFMVro3yvm-Ieo0gEBL7HC04Ke04u5EdMybUpwych-3xMQf3on8yO9rjyBU0oS_wash24HdnS-i&refId=yGFNBlPxF21UuzeReqTmiQ%3D%3D&trackingId=lFXT5nwZJMtcX88C4yyZDg%3D%3D&trk=flagship3_job_collections_leaf_page</td><td>Data Scientist</td><td>Recro</td><td>Bengaluru, Karnataka, India (On-site)</td></tr><tr><td>https://www.linkedin.com/jobs/view/4256657158/?eBP=CwEAAAGYgRRFuPQjPdUnuXNbhSTUa3DsR2af5o5WRykksCD50bJa7vAMHr1AsnsK1SyEAbYyhzNfqCP1y8UuDJ4BVzmdvDf7nLXfOdcHvCnN24CM8VWYaGzDdt0M4X_OPsq5xRUutYRYdhJTY8vAQ0MuSp0nAuRsLg7xn6iRkvH3Znaj0dlVYAEPe6UN_e6BCIBiRBQfLE3bCAIXe8ieg_61odAtv8A_1qkPA0q1TEy8Mc_LYEarWWBovqgzDdO9j3puqSCFQuke-jNekmv6zJAfs4e04HLHGtgTcynB6KRo1fqkWmN7NqiurSeFU2l9UnAbhvd_TcEoC064bI1jsl4pKtzg_VV7hfRa49Fy6LBH07cx8dNaQwGkGFXjPtF8TWuYvCLzEuIYQN-jqVOkCkBErQLXqytsYghiqU3O5-_wL-cI51_s1ESyT8Da4lGcL9qjBWmvZBRuadY2SWwAfq3QgnPlLDmVr07HP5m8Zaab4JHQrzoo3G-379d4zac4SAX23H80ghXWI3HK6gyFdx0mhYlU-u3J&refId=yGFNBlPxF21UuzeReqTmiQ%3D%3D&trackingId=SYr7R7y0UMyI%2BmqkhBLKsQ%3D%3D&trk=flagship3_job_collections_leaf_page</td><td>Machine Learning Engineer</td><td>Wissen Infotech</td><td>Bangalore Urban, Karnataka, India (On-site)</td></tr><tr><td>https://www.linkedin.com/jobs/view/4277376537/?eBP=BUDGET_EXHAUSTED_JOB&refId=yGFNBlPxF21UuzeReqTmiQ%3D%3D&trackingId=4PWmG0XS4s2zVlY8p3E7tg%3D%3D&trk=flagship3_job_collections_leaf_page</td><td>Python Developer</td><td>Persistent Systems</td><td>Bengaluru, Karnataka, India (On-site)</td></tr><tr><td>https://www.linkedin.com/jobs/view/4275634343/?eBP=CwEAAAGYgRRFuZpRI7CwmVXmLlcRPwNOp-7g2l_bGp9Z-pDM0WV_r-L-tvsdPTLHaEIHm5DEyOgqNw9FtDkQVKdPN4MAsJ1c3wQXsodk0TN2hJdNatxIWbhWhBeZMhznBxP_uKWVIwumKsZDCWHgczjvO3rnMhL-1cJwczKG7l18x2SBUokRyOySU3je8JE-r1JtFYoKU2ruDM6wY-Ut9_hrxZ4tpzX4BEG0MFUHYK55W2geybY4jHl3HjpNPWmJEaFIp66ITLQVqubVEZcsQ1wz8lpr_USr5i4ViJffwUAIpXLhuD7v58W44AVA0ifKsUIcsKXPry4L7bN-Gf0iOi85dHUuJ-4ekRRTZRGrnHMnaGSi9ORowZEEpWuNh1wpaSAzDgPEeEqQyuwwzb66VWJ0HwLt6mrDIQxN4BcNccY0VwZpAG2P24tX-j_gXKO4lOUz_xGdAm-QdlI9OLTJQHdUaCwaqdtguPrENTQTLixDsU1U-imps7SrKxBm8gkhLdgFQ7JNxwzejxoejcqiBB2WERRSHQnk&refId=yGFNBlPxF21UuzeReqTmiQ%3D%3D&trackingId=b8uVvbcs1fgYW95uq6InSQ%3D%3D&trk=flagship3_job_collections_leaf_page</td><td>Software Engineer</td><td>Concentrix Catalyst</td><td>Bengaluru, Karnataka, India (On-site)</td></tr><tr><td>https://www.linkedin.com/jobs/view/4279718145/?eBP=BUDGET_EXHAUSTED_JOB&refId=yGFNBlPxF21UuzeReqTmiQ%3D%3D&trackingId=ICwxkNOd8g8NFldyhMblSw%3D%3D&trk=flagship3_job_collections_leaf_page</td><td>Data Analyst</td><td>Circle K</td><td>Gurugram, Haryana, India</td></tr><tr><td>https://www.linkedin.com/jobs/view/4273852689/?eBP=CwEAAAGYgRRFuWTQZmkwvjo62kbbCEiUr9rixhYBvlaoReGdc-Rt6Z2-n7uVDYzKhJsS5t6GTc2pnQckn769pxqp5j2a7IsFe4IIq-5_li4d27u68EOQssdjB-Ou5nZCRgoLrbP02FeUB7c0aA1ioH0ZMEqzWvobh_MWXQwZbxCzq40EtHya9vNvfdYdMxTquq5pC-xDOzn0T3Pa5iBCrlu1H3vjdJyhrx_0fzNMArsS2Pq3dwcerK43BLTBIS4MMEMqlPowVt-k4IG9-6KBp0YQr9Q-S_hzznEE-bzYHMqRyzJpuXf2GQmDchh9oIIDKcq77Udiek5iOHVEwhuBxAPm0j-994yk3YA86z9-z2i9UN2sqhShVZGAAUC8fNJBsrDJRTP5IcTEDTYCEdc0HdrL9NUMaZMBi29RTzOSzk-ovxHcdgVOu-T-gbtKZPMT9OgYJFHCr9Lsw3-L6_Cu3dVRWbn_YIsBLcbHCGT1F3SHfS3wb0c&refId=yGFNBlPxF21UuzeReqTmiQ%3D%3D&trackingId=rt2CSAjWggnS1ywmwW2JVg%3D%3D&trk=flagship3_job_collections_leaf_page</td><td>Python Data Engineer</td><td>Bajaj Technology Services</td><td>Bengaluru, Karnataka, India (On-site)</td></tr><tr><td>https://www.linkedin.com/jobs/view/4273785117/?eBP=CwEAAAGYgRRFudPLdlTej0qcCkcFCeWvR5At16WsTM0ukRyWa_6VK2icxgPY-jX4dt-OBriODZj3yT3A14g6DTJ6wUQzr3quabvzqfqJmaAxg7bs7CwYoFaAfmK2F9rxbIj9YgbpPhDYXHBfRMYMCoXuLQxT7ONvr1uWs6iHYlETCISc3Uo8tOiOs7cDJD64_NQrrIwuS-nkTlWK9FhvhVCs4rFSD15xhBn7zTS2NWLQJt5zN2Imi2Hthrv0K9Y6NnO8ECKoEGi9Vww2mvmG-zeFq6-gM_denR8yJA5jhGs-YRpei_uhWjjfkHXRRXa7QICsOLpNHK1BXa8ZHY_OSzRwngkww4F7Eln08hJxvAXvv-V2rJOIUQxbJ9rKj6_fwndvfclt7b-499v2MyBpT3wK5aay4kUb0syjwiJWejESI9NF64ADyj9XJwWPZsG1tMxz4ujepaHF_hdf5uA9wZEPamKaYHVYR-9uKMkGxlc0I84TLpfcNJNXHQJBr0HTB0LTSqjluLhzeYbmioBNelIP-TG9Bg&refId=yGFNBlPxF21UuzeReqTmiQ%3D%3D&trackingId=GfETrAnq742RlYp486M3WA%3D%3D&trk=flagship3_job_collections_leaf_page</td><td>Computer Vision Engineer</td><td>Droisys</td><td>Noida, Uttar Pradesh, India (On-site)</td></tr><tr><td>https://www.linkedin.com/jobs/view/4280324360/?eBP=NOT_ELIGIBLE_FOR_CHARGING&refId=yGFNBlPxF21UuzeReqTmiQ%3D%3D&trackingId=zzQiWE5hpNsuQgYl%2FlM0bQ%3D%3D&trk=flagship3_job_collections_leaf_page</td><td>Machine Learning & NLP Engineer</td><td>NSKH Tech</td><td>India (Remote)</td></tr><tr><td>https://www.linkedin.com/jobs/view/4275090921/?eBP=CwEAAAGYgRRFuSWl2n8vdOJ0Eeg-08DmlDN00Zq16HZnfs61Q494tHxpxWncjorXi-5hY1zGuRi2xshDT5WgvXNuDkI-bLavvpTZ90I39MQBfFS0edo3hVbamubNJjqXUHmtvCGqgaBtaNMVeGEwjw6vrI8vKca3MyQEx4O1Q0RJuKfHsFlA837o3dmwRGIs1cbjYgPWFU9ZcTGgUYnDUZ0mGeUmjbPneI7aapiEwF6mJNZ4r5ERgIPRmmIDUnR-1XvgSK8JiRlePRXlEcsXSg37RUR0QKSUNYdv6EC0BrFr140CXM3yX6z3nRZ7WcoBrG4rjjdYZDa0X1TPONJ2YGp7kLbvKLJ0L7uWgiJ1mv1UlHFiu9hWasSnQGOG5V-5TlQG-G6HNaXtwij2xPR8ix3X8zKTEItQTxHXDOdho_BSHfq1eN3s7lVGIYwA9Nis0rXOdpjfJKd2rT-6OwGz0L2Ip2AS2U4QV7bIsi8WysPdfp8Umsd9lOH5u4na2a8KnwDFxLAqZpMPpp7xYYpaZYPnLsy0geCa&refId=yGFNBlPxF21UuzeReqTmiQ%3D%3D&trackingId=Br%2FZKCI8YT02vm%2FjkAj4kg%3D%3D&trk=flagship3_job_collections_leaf_page</td><td>Back End Developer</td><td>L&T Technology Services</td><td>Bengaluru, Karnataka, India (On-site)</td></tr><tr><td>https://www.linkedin.com/jobs/view/4226062221/?eBP=BUDGET_EXHAUSTED_JOB&refId=yGFNBlPxF21UuzeReqTmiQ%3D%3D&trackingId=ojyLpXCsM0k79YRIdDbTlg%3D%3D&trk=flagship3_job_collections_leaf_page</td><td>Software development Engineer - Backend</td><td>Pocket FM</td><td>Bangalore Urban, Karnataka, India (Hybrid)</td></tr><tr><td>https://www.linkedin.com/jobs/view/4280333628/?eBP=CwEAAAGYgRRFuo5lXXBHtCItiM_aHbc9JjQrLfK0r3RTSkcB3duh9POyN-Glumh_YDcIdICGpYnfwk4q-yfrTY6N0JffiGi7ek-smGvqfcdTE3QDDQMK7ks0WrPM98N6BQtkdomlvhA8dHVS1Fk2s8XImC-EC8CEz6lRSIhowiEAc1XQJew7dF1qiru-8QvrQP5NLgGHPSmoZwN0dYyCS-MYsR_3BthTZygFVPFjcf-fnTUI6FS7Uxef5G9MTRgrrHjm8zPInZMwfGJnwDRUlbn0lh7SCC0MjEWjgArHcvywXcSuTyYFRnQ_Xu_IrHQsmEayKnUDChclNdwsubXloIN-xpmbpJdPeAjUuEeAKdMKFSff6Wdsng1iqNezqkcwGvr90uCVumCm2q6dwVuvUtINgmdu8hlWUqiXo2kH9t54dHCTj8h5avkHkL3Bqphlm5AARh8dwL90UOYphpZk2eIo5wu2yT8a58aY2TSApJ0-GpBQW-_QrQ&refId=yGFNBlPxF21UuzeReqTmiQ%3D%3D&trackingId=ctnILpLXFm8h%2FfZLkoiljw%3D%3D&trk=flagship3_job_collections_leaf_page</td><td>Data Scientist</td><td>RevX</td><td>India (Remote)</td></tr><tr><td>https://www.linkedin.com/jobs/view/4272010373/?eBP=BUDGET_EXHAUSTED_JOB&refId=gEkwBXWXNmtlPZoL5RoWWg%3D%3D&trackingId=uIztw1HcXagiVne2q6jWTA%3D%3D&trk=flagship3_job_collections_leaf_page</td><td>Data Scientist</td><td>Solytics Partners</td><td>Pune, Maharashtra, India (Hybrid)</td></tr><tr><td>https://www.linkedin.com/jobs/view/4272059799/?eBP=CwEAAAGYgRRfgiSo9pqN1be7N19pFrJSBz1TxVTDl_pu_r-lZP9QNVxxM09x4N9FncAydw4Py2IKKrxVOc5hfTlf6Um6sF7SGLAUedlj5gJTOisFu2BtTyjLY7EhXtK60rElKj0esy_4x7oxwWiOePcVj0wzFvkO3yDXRYr2PHINdwG36CMK6kK8hJAzBd4_7Pu0wI3lOJF-eUC04-rUpgka1_6hX1csODlhWNXqSe65-xH0UDg7FZSB2iWe911or7RcrO2A2mcaI51tH0NTppRZbXErr0_54dDhAjT9NTN6MEvtzw4UeOf_meErH7DBm0j9Ue-yHguGxMyp8C4plbtQb9QwteqwF2DIqs3DzBNi71Vv_WjF8pl2bDLdJFHmdYHObKiBkeupsYS25EDeKQs6If_UUA1DpYj2b8bYcWBKwdN18LFg849TENpuOYUtS22fBhsaQZU22pj1duNAYpE_ez7I6FU2qJzSFU1dUg0uBrowcM4esck2E7EZ2RUbPClz_i581ULFNdRRcCw_4FL-EaSGpH9X&refId=gEkwBXWXNmtlPZoL5RoWWg%3D%3D&trackingId=WcJQRZsZia7V4bNzLlZFEQ%3D%3D&trk=flagship3_job_collections_leaf_page</td><td>Data Scientist</td><td>Zensar Technologies</td><td>Delhi, India (Hybrid)</td></tr><tr><td>https://www.linkedin.com/jobs/view/4277149208/?eBP=BUDGET_EXHAUSTED_JOB&refId=gEkwBXWXNmtlPZoL5RoWWg%3D%3D&trackingId=6%2Ff2L7e0eCC3%2FOG3rhtXDw%3D%3D&trk=flagship3_job_collections_leaf_page</td><td>Gen AI Engineer</td><td>immerso.ai</td><td>Chennai, Tamil Nadu, India (On-site)</td></tr><tr><td>https://www.linkedin.com/jobs/view/4278537311/?eBP=CwEAAAGYgRRfgzqSmu8dp-VcYbCZpHBctSq-tlkX-MkIhH-ptKUeNbbt6Dctp-NtM_cQgZAc0SpauXuFNvmq4mawa1qVD2tkkEthMsELuzmOemnoM7XpeXfBS9zI5X3jk3v_h85qKPpCc7W3mn-l5ecJLNQ2gzDO2LoKZzOsXee9Q1w0no1Qd7DMAfMfdfzKlnjWvSM0cN9SKoK4CnnTm2ZFDPEQoc50dQMkruqQq4vGVy8IJVGYwf4jCK1e5vdhfQC2zNSCNkjEPbJfxaHZjR7P7JyExHQyiydSvg-GUFyyRwfhn1_-ySL1fi7PFEqUEkqHSufcCDIyPhxhMCKHVEzGlmvZubw3w4lJBGRNOKw9TT8B8rRNQG5KB8tWH2L6YGPsiSgG6Gxh-wRzeI2pzx9CC1t6Iai9esOZhgVrlKWp52rTCb8kqMEdVUvpMoWnZ38hqRzSY5jnPbwqecHUstogQosWOPVwrFWxdU1k-ji6RVadz9VQ3u1D0gZREio22q8_avzU44AKH6JAlzLQOGIjLDFMxw&refId=gEkwBXWXNmtlPZoL5RoWWg%3D%3D&trackingId=0x%2BM5XShNriPQHa2HdajqQ%3D%3D&trk=flagship3_job_collections_leaf_page</td><td>Frontend Developer</td><td>DotPe</td><td>Gurugram, Haryana, India (On-site)</td></tr><tr><td>https://www.linkedin.com/jobs/view/4278908810/?eBP=BUDGET_EXHAUSTED_JOB&refId=gEkwBXWXNmtlPZoL5RoWWg%3D%3D&trackingId=jEEzy3XFUgZ0V%2FUtjZQViw%3D%3D&trk=flagship3_job_collections_leaf_page</td><td>Frontend Developer</td><td>Vettam AI</td><td>India (Remote)</td></tr><tr><td>https://www.linkedin.com/jobs/view/4277708203/?eBP=CwEAAAGYgRRfgwq-e5X5f69ME0XUyAsgBAscG4-U8w4jeslv5nmB9MnxCNWMJnBOg7KB1TcgsZp6bTvsakn5p_UsDlcqZKgL3NeHQ0qYlNHgToomkhibOZM3d48473Qoy-wkFSy9ISrbINAIv3eX2p0D9gT4MlMxGnlnMzIaYE7P1977phxVZLo_yHyweH9rJqyhPFAvrpYxX16-3P3SqaqzK7tfu-i0ojRl9AGdBxrqxpypAis4uqW_OqAUQfLbo66x7GpsdzMtDK0s5OLqY4I_CoQMuzEhoXajbzlR5sNh_VRYBZnI9tHvRbtpFBFHgJWdZBpOqoyvqfp2U4QBoo3XlhqxxdckZFBlzp3EdmbbNYH2hQTYU-Ouz_csxpzO9KhDk4_7QjdrtL_MWvGqfYLj0QMr8KN7-yFbE2N2gQg5K2UtDWP7T40wArf45aoOxwHS0lMAvA-aX2PhnMd5P11fWg3H5_C8Q_Hxa3gH445lIBIn8oEc2c-K7kB3EgfvOXPC5cC1KVjMYkep5oTs-HjYKF42dPGC&refId=gEkwBXWXNmtlPZoL5RoWWg%3D%3D&trackingId=3lDIP8vme%2FBzdPkSZwZ9tA%3D%3D&trk=flagship3_job_collections_leaf_page</td><td>Python Developer</td><td>Tech Mahindra</td><td>Bengaluru, Karnataka, India (On-site)</td></tr><tr><td>https://www.linkedin.com/jobs/view/4277704619/?eBP=BUDGET_EXHAUSTED_JOB&refId=gEkwBXWXNmtlPZoL5RoWWg%3D%3D&trackingId=sfPD7JoJZaYvfeYoBH%2F4qQ%3D%3D&trk=flagship3_job_collections_leaf_page</td><td>Data Engineer</td><td>Randstad Enterprise</td><td>India (Remote)</td></tr><tr><td>https://www.linkedin.com/jobs/view/4280807474/?eBP=BUDGET_EXHAUSTED_JOB&refId=gEkwBXWXNmtlPZoL5RoWWg%3D%3D&trackingId=lb43av5HXqIJQI4QSjPnLQ%3D%3D&trk=flagship3_job_collections_leaf_page</td><td>Python Developer</td><td>SmartQ</td><td>Bengaluru, Karnataka, India (On-site)</td></tr><tr><td>https://www.linkedin.com/jobs/view/4254722984/?eBP=BUDGET_EXHAUSTED_JOB&refId=gEkwBXWXNmtlPZoL5RoWWg%3D%3D&trackingId=LDn%2BQm2hD5Uph8UR7iT0Ww%3D%3D&trk=flagship3_job_collections_leaf_page</td><td>Python Developer</td><td>Accolite</td><td>Mumbai Metropolitan Region (Hybrid)</td></tr><tr><td>https://www.linkedin.com/jobs/view/4246225855/?eBP=BUDGET_EXHAUSTED_JOB&refId=gEkwBXWXNmtlPZoL5RoWWg%3D%3D&trackingId=iu6BqIJZZdYzLneoj69J1g%3D%3D&trk=flagship3_job_collections_leaf_page</td><td>Python Developer</td><td>mthree</td><td>Mumbai, Maharashtra, India (Hybrid)</td></tr><tr><td>https://www.linkedin.com/jobs/view/4280800105/?eBP=CwEAAAGYgRRfg4EHQxXCKi9Od5r1oJUEiCPLSTvAar3zedoecmPUQmSmGU5JkEEDlavPVFIplAV0Go_NBpRJqxv0d_LBDu3nOrn8qcKzLaa_5C97iKlJzJ58EHIQeiVZbxmnN1tumBdwgXd9BnqYQz5EpwvXpc2WwrJQpxYX0n4RYk9-6EHydatalAms3HeFt4mumNNnBzsCyIWD8GtEwJFNFNbaUYTWy2waMAF7ppT5ChKmjFJMwE34Q45fSnZFK1LcGSqFrAxsKsXpQPPgTJyf3LEqI1wHVDlRPT5JUjBMdBjEW0WM5Vs8H_GYxn6ikHJz5ORcKi3Pu4V7GOhgLX43t0ND5np6KfQHWKfhozVHoQL_R1PhXFyXX_2_sJQUkvxNKu-gj7A4J6zx1osqYVyC-VM2dRS78ewhninZe3qsuLG3K5VDiiDCwkcrmAerncEkAHpOjcWu-AbScGkYwQPVIoElWS4a6MI3-mEd4dCGPsYqS0TWYA&refId=gEkwBXWXNmtlPZoL5RoWWg%3D%3D&trackingId=QJj7P%2B1mrEjhJriVkhTcqA%3D%3D&trk=flagship3_job_collections_leaf_page</td><td>Data Engineer</td><td>PwC Acceleration Centers</td><td>Bengaluru, Karnataka, India (Hybrid)</td></tr><tr><td>https://www.linkedin.com/jobs/view/4277691099/?eBP=CwEAAAGYgRRs1XFqVl8gKzF_KV_gzTD_jQ2gQdKXwY_x-FFTnLWm58F13ECe9-1WKQYhyhHzuo53AxL3hzabdAmnIbxy7qsGj-YLi69K6umAqnSzOoN-Vp8IakCVwfrHYI1_dU-ykFppjwhdA4geRJXuO0zs5EXrLwIuemNHvXNqwrwbLtj3-rWX7_kCSY6s_XmvCulphH9WhHN__9jbC6Lrv4gt7qIf1eAaFbWl2UPXWzwGTTvB7dH_KDPuPtRBbaGOamL-ASnGUUOYPHPM15d6fgrGOC3YdrEHPIx9t1iDMEGHnttlel7uU2VPj8mO59Z9_4t2FkGj29yv1JAb69-qFRcJX1CQXrnpEODRWGCH7ep7hI03zBJItMMu_9ujmxjzolkoYODxy5tSkjuPadmdAuuYvI03vVDRiSfaMJY0gLGyPrGSOS9xv_aMiFxSs3a4QlQQYJ87w8YgTFcOE6L6a9EXD30XeDLo9BxOC_24KiW4lCmh7WipupGANFXIrMOxHw7tqnWJ7PsDafv4BSl9K5xRnCiC&refId=C1m6O88SDPW5eGDelaudEg%3D%3D&trackingId=4C4umh3tXmrO3ES5CGvXSg%3D%3D&trk=flagship3_job_collections_leaf_page</td><td>Machine Learning Engineer</td><td>Bounteous</td><td>Gurugram, Haryana, India (Hybrid)</td></tr><tr><td>https://www.linkedin.com/jobs/view/4273549803/?eBP=BUDGET_EXHAUSTED_JOB&refId=C1m6O88SDPW5eGDelaudEg%3D%3D&trackingId=GafBCcTcYaFonTnObRdByg%3D%3D&trk=flagship3_job_collections_leaf_page</td><td>URGENT Hiring: Python Developer (LLM)</td><td>AquSag Technologies</td><td>India (Remote)</td></tr><tr><td>https://www.linkedin.com/jobs/view/4268794618/?eBP=CwEAAAGYgRRs1iQKPF0wuM_RALmLun6TeaRpKxhzSjtUGHB_8u-X1riECl5Zt9CibTxScBCl5i9jYJtAzHhxHj2P6xmPW287itDrL5TowVTBVVY-HiUQ1Ig32Q8lu3vg7TjSX0teyR-F_DjsG8eYPXxUoq3ODHtCoTA94BR89Csm_-sfp8A0JnyUFuyc0-XUq1yZeEAitD-JnfL1F9YOiPp3EFtQWIKb2dS4MDD5jG8MOdzt1kI97apCK8gT3FFuM5QNdst8Gud1dy4jnXc17peT0oShgvQXObPL_oqdRE0SfWYzAR8geZUthsRA4X1QO4COzSmwPHQsNsGZlzdGrNcasNjkEAxBNrqQxeS2dl7M4tLJv0MhyvqaUsgj0wEQt02r3vMTD3H2Mn6ZHx8o9NT3XuGjbeTEoT50OiKsF8uN-h4NKB1WOpTXrTWJKAcjioOQfHm90qyOmPZC2D_iopAdE9zjmT5dn-KPrjLggNAr7F91d8XM_6cKAVTf8fY-pWWytf874HFyyVIE1hHXEmrj&refId=C1m6O88SDPW5eGDelaudEg%3D%3D&trackingId=iDuYn4jbqzmNGEX0wMvJBg%3D%3D&trk=flagship3_job_collections_leaf_page</td><td>Machine Learning Engineer</td><td>Prudent Technologies and Consulting, Inc.</td><td>Hyderabad, Telangana, India (On-site)</td></tr><tr><td>https://www.linkedin.com/jobs/view/4272058375/?eBP=CwEAAAGYgRRs1kmwP4FQawpKF8ZVBPBqGPnOvHsUaGtugj8Mju9ElH3hhotzKcCIRKURnosus1zqCejany4wqt8v1bbKVpbwRsDJG7Boe5kgV2k5Je9aT6qxXDzK1zN0CnszVMJPGdG0BEntQ3MZXBi7y9FSOh7BZUI_VijYp3t7Fu4cHcScVDBi8L9J-onuR8WfHlFuNtMNaWsNbZw_6hi9Vw1DwGF0rsfIUMsyjyFllStTJ5sST5ZjwKcPUlndIBX-RE6FVigexDWxrUvYreJWqiIFeo9Ho9iXl4KosQiXppdoTeVP3sLwM0QMhdEvJDUa-MQ94Gz4ibH6OOISs6UIza_zInITEcEyGwSqpoUD4zN8T_Rsr3_i4Md5HUhfMFQYgJ-0B0_zq7ekinZMB0UESNgGqRwSSpYmqFQ4FKzB-F5u06dHdelRWR8C7OxzYD7Q-aI-uIT3u-rRHr79K_QUX2kGmTzoMHEKszOAJxSjT82gyTs&refId=C1m6O88SDPW5eGDelaudEg%3D%3D&trackingId=5BkqcA1paT4QHC7FjQ32BA%3D%3D&trk=flagship3_job_collections_leaf_page</td><td>Machine Learning Engineer</td><td>Dentsu Global Services</td><td>Bengaluru, Karnataka, India (Hybrid)</td></tr><tr><td>https://www.linkedin.com/jobs/view/4278908252/?eBP=CwEAAAGYgRRs1siMaBMJKnH_jpL9yNDwRWEA3Lq93muUB6UXwexKPNCI6kjP6bzPTRPXdQsNyjArpZpAe8dJLNpNP6JUO4V5y28xmUjcg2xD3_zYpYzZ09JmUxFdoJHqSsPgD8iRAtSKyDW-NqggAe3Q4SCeqtyM6GsSmiuqxn2jnQxnRn3fuqWQrWxswonZIalA0MB5LcblUt2Khu7oP04CGssI7ZZjD0rcK1pHHvHjThCYXpDZdfj5DusYXSJubrGKFsOFduf0CQRkBVQsltKIe91gpLYmxr9c6x-2zTRA9zlwJ2W25PjjsHOovEm6cqIHOdEHreBU1ZjfKos-FaYZUZDc4X-5rBLJCs0kQPVIJMVU1enVpn9hFmCKMHKySQcBXZgN6W_PGXxEsZjS43Gxqp7EPQYqBIU9CDNXPKO9vPMZklRCJqfMdx9OuVUGatfai3lmsFW5gTbQFIw7YI09UbTOVwgQPEUdWujrK0urBQHL6YzGkm6n02gbh6lLDdww5M6ymlDKZKYtuMpxle2HxvTSKx5y&refId=C1m6O88SDPW5eGDelaudEg%3D%3D&trackingId=MjqSX2Vx5IBnvUXw56LEKQ%3D%3D&trk=flagship3_job_collections_leaf_page</td><td>Staff Engineer, Frontend React</td><td>Nagarro</td><td>Gurugram, Haryana, India (On-site)</td></tr><tr><td>https://www.linkedin.com/jobs/view/4279379953/?eBP=CwEAAAGYgRRs1ib1k9589ENGdSHnT_0C0JO7oEaTz2WRGOkqA1KJRpEkZ4FBih8Ezag-LC3n6tFdGpO9yQxf1wwcTLdjIT9h08I9B28yR9y4pf3HXkWxwn33lI8Mj866FLc66c6Es4UEJ3EnTFbAbYT9XZCp9UL4nWDyUPmdUTVkKieGIFJ39pZYvl-a7VW_5wxysUQ0brs7CfhcX9ZwUIfpKiB8iN-aUSPbMpzuVgjrpzCTxviqgyWlJVL0I_NRN0Ro0rGmgNIBPXQ1-dyJTtC37WdfcRUFGcRR3B6LDqVrzrQUMke7Ncs47SmqP0dIyZXy9Xk2WPU0ElWBvzBE9QtZOumWt4KyINpAbGro-6XZkTKDClV-kj1C4aATFu4720r-AykXdBCurQH2BCxoLs3yr-IZr4lSOxfgdrXUtlhxYMAdwvthSi9EfLB8ttaqPYCHqFxBhMCOJhb0mjj9FVFjOSDDybPI-9HY3ncY6pQzeondz_j2-jteEKoj8UP2vsRPrBBjLUOsNbKVVsDUiMHxIJVwdCHQjKg&refId=C1m6O88SDPW5eGDelaudEg%3D%3D&trackingId=saIeFq0%2BL%2B3qAgBWcsM7Zg%3D%3D&trk=flagship3_job_collections_leaf_page</td><td>Python Developer</td><td>Ascendion</td><td>Gurugram, Haryana, India (Hybrid)</td></tr><tr><td>https://www.linkedin.com/jobs/view/4277564515/?eBP=CwEAAAGYgRRs1mwdzZY8KoHOJCpQPbUKGF8OBAjaCW1__-vPcjrK5VdPK6l-89wfBiYkJ79GW3jK23Ao4H_ooHGn9FwSt8K9nZZcwXmotFfTkdUK9o3q69qVhIssGi05_VVz04GNbETJysqTmlQitwz7on-dDzOkV_DGDQFgfNDA_Q_d4vXkAOATNwSd1iibuWSpBi3fk1VPlqL8On0eM4-NRgSLrGeyH6ofFryA8KanVV0ZmFiBPebsyc-KXmhUfsuiYy6vudW4tdVM2CUp9ba3GMn8kp1bbb27MGfEi7uYnBAulk7RF7GXHk2ncTUkggxrhWo1bFR6o4w1C2dDElJW-lbEO4bcq_J3huq0Bm-YqJ9e0bqQ5FS38hXiicl-IF0jLUvMI3k3L3qQRDOp8kD-KacNt1MB77qSp_W-kZthhO1IIwSZvgN8YFkwsOs9DHrHzSb1onEedSVOURdzLeJLz-pdpEpFav5cY9FsH1Qj99Xw1BKNdMQGRpV7Rh8cNrHV6YUEgUObEokfTvI5b8_yyOmLdgXP&refId=C1m6O88SDPW5eGDelaudEg%3D%3D&trackingId=xMRf0QisgKsnOZQnoSf0KA%3D%3D&trk=flagship3_job_collections_leaf_page</td><td>Data Science - AI - Pharma</td><td>WNS</td><td>Gurgaon, Haryana, India (On-site)</td></tr><tr><td>https://www.linkedin.com/jobs/view/4278020681/?eBP=BUDGET_EXHAUSTED_JOB&refId=C1m6O88SDPW5eGDelaudEg%3D%3D&trackingId=cxJnqwjCtpIwDuyEgK1ynQ%3D%3D&trk=flagship3_job_collections_leaf_page</td><td>Machine Learning Engineer</td><td>Rail Labs</td><td>Chennai, Tamil Nadu, India (On-site)</td></tr><tr><td>https://www.linkedin.com/jobs/view/4277968906/?eBP=BUDGET_EXHAUSTED_JOB&refId=C1m6O88SDPW5eGDelaudEg%3D%3D&trackingId=WFGWAYyjJXVr1XuzL1Tifw%3D%3D&trk=flagship3_job_collections_leaf_page</td><td>Python Developer</td><td>Leeford Healthcare Limited</td><td>India (Remote)</td></tr><tr><td>https://www.linkedin.com/jobs/view/4277177006/?eBP=CwEAAAGYgRRs1sZFhiGPUmdQ1Xie9cOYSgoCWnCbMQNtnpFZLTCL4oEP50gdFWlStM1HUVNTgkiNtymragb11JOiyVbTaozG3vuX9ifTWtLGKMJDbINe5oCVKRtAKBWJpIoR0l_CWoxOUAMjB2kMpYMPar5GjFutQw4W5T1XOEbun1eoLD3MQcpxFnGMipg2P9ughLRwAsxhw_BvOCiGaZaRokH4SE1P8sFkyzO6Lx8DsH0zdB-5jxL5Xo4KnDTQMa_Xl2fvOelyj5HCw_6yCaLs-iyfJ85mzpAL9Uch-QrZd-Nvd544UCx4zc7kncOP3Z2wTr4DxpzrapMIo0HfVVGzny0fc-JHVfYLfx9rwyhZurcBzwvkGbn0prnsQmAZsR8NSRbM-6Vm9C31CIrZBWsv2pVX-cLIHlXaQ380tKw2N-sPWxBXoqiY4xx8RpaUtNOrZtI_6vv724IEIQL2nPofCT8GoP78LHpzGs6gyPnB1x5nfPuECSl4YevBMSSaEr8T7zlnwrmLrCb5Pctuc7yMeE71gA&refId=C1m6O88SDPW5eGDelaudEg%3D%3D&trackingId=U05hy5i6WL8KY5bLYqqYBA%3D%3D&trk=flagship3_job_collections_leaf_page</td><td>Python Developer</td><td>Saisystems Technology</td><td>India (Remote)</td></tr><tr><td>https://www.linkedin.com/jobs/view/4278114996/?eBP=CwEAAAGYgRRs1nkZlOslwntcuWsPFyV1pGEcInX3CPVIV2q65uRJzQQ5H9SkK_StEiKWzyFGD7HeeAS3sHLR-4NFGNYGyXTAz5nEaUAMMep9iiAn6bUbmuXogBwTACFM0qF_KEP05i0V-W2oCwF9PrdG718sV86xzJkHHxkseHXsYXSuGQn2_xtcGy6qeICpfZ8tY9kqUYWIdEXQ_qIwfpaLs_qR4Rxr_v4TVDUkKnR6Y4dBEBE2jm3XQMsQUMtbQWNncOBoat9PNnIjSwh1SP3kX0FYl85o-E0j1P41XM64eiJJ6t08v2fCZ54AXzX2QMz8Q0zzOzt-8aPNUc5Vyt4QIlGdKL1FUUa1Om3GzYYn0btpZzm8gNlOOuY0IiGojje3CC7YTnOAuxl_KM7pQR360iF5OOorjUwM86RvAb0-SXRKqCEhEecoRJNG2I7HooN58-32wkYmOIZiM4qNiUrlYstffTnkp1pwlB_reZxdqis9GkqEL9REko00WL1GkdFmtVgsgTi428vP_mNAEqjcEEfDdp2q&refId=C1m6O88SDPW5eGDelaudEg%3D%3D&trackingId=5ng2lHPScXAjNKBRiQSI6A%3D%3D&trk=flagship3_job_collections_leaf_page</td><td>Associate Data Scientist</td><td>Circle K</td><td>Gurugram, Haryana, India</td></tr><tr><td>https://www.linkedin.com/jobs/view/4265420956/?eBP=BUDGET_EXHAUSTED_JOB&refId=C1m6O88SDPW5eGDelaudEg%3D%3D&trackingId=DFJ26591hdjGjrMtvLSYiw%3D%3D&trk=flagship3_job_collections_leaf_page</td><td>Machine Learning Specialist</td><td>HCLTech</td><td>Chennai, Tamil Nadu, India (Hybrid)</td></tr><tr><td>https://www.linkedin.com/jobs/view/4280023118/?eBP=CwEAAAGYgRRs1zpWZeynbWzwy0adFww1HlAyAqsypRccBBazJGqCKMIZLYve1_MD9IXXpUVsl50jGHXQ_UwS77GeEn52nK06drWvb1qo_J4eG4-hbo64X55mfHaY8_tT3yE95S8tGoILghFtGMD173nL7PS4bfK8PcgI2l_HcZfGhfUGdAlvljiPWMrC3qI-jjd0btBqGDuX6rDL0wSWuIx20xXTOabLOBE_g3IwyS_FU5nCNDsGfR7CXlEoIfqEtmuKUAFLXKuONKGOw77yB5zjizgmwTI9ff2KEbfO3SzeVDW1BWPPDbFWqydDJh01vUfTnesZ9TBcK0XNyRbwHgj04MSbuj4D8bq2v0ZekKU6TtAhu-xgP0ZtQ5oWHlmkII8hqHYI7MT8oZbF0tCN7jtq4NA5lvAzP7Q9mc2Zes5DUujukxZ6CZKGSl-e5NppTa-DaWmSoDQwnOBlpbdxtUpEDek5tUct2ls8ALP3rj5wianzdse2qAf-JzZ8-FQ-hLry0VuGeslECx2ySDSplKoLoS0&refId=C1m6O88SDPW5eGDelaudEg%3D%3D&trackingId=uE1IRh6xZCUR1ruJ9tuFfw%3D%3D&trk=flagship3_job_collections_leaf_page</td><td>Python Developer</td><td>Talentgigs</td><td>Hyderabad, Telangana, India (On-site)</td></tr><tr><td>https://www.linkedin.com/jobs/view/4280166426/?eBP=BUDGET_EXHAUSTED_JOB&refId=HU7tKKPRmoYAbhpOIfM9nw%3D%3D&trackingId=UphimbfPWaUnNdgaqHZz4w%3D%3D&trk=flagship3_job_collections_leaf_page</td><td>Software Engineer</td><td>Experian</td><td>Hyderabad, Telangana, India (On-site)</td></tr><tr><td>https://www.linkedin.com/jobs/view/4262351983/?eBP=CwEAAAGYgRR6NKQe5qBXWQTiRtSRAHNQFSTEqs120-f4ef2Q2QES8zDs6xDHSD0KYT4s4qEnbIRXEhKeW7Xoz7qufbguP1KuUyOFunYcKBYUZvq07IaN2nRkybvfbSL_xGb69bAWh_5oWYbdx2BBsIXXNH1JxGCpBFj82pVTJJOaWI7CMs_pjmgihX16sKY9lnyKToqIbuiY_Eu8ncekaRwe5wx54zgTXkbcatPXV5x192cP7iISDK1-UIhoAn_BW5nzLIlBuxEnAn_0smILf0FBd8Zy_EmP1JaX97T7KBYdA31AzZO1qJJHO82U2GZF7nGjWL5fPLn241y_PX-BlQ_z6N7r2rV0uzpthKP_8uk_V1tjsf7pKyVPIkJoMXj64uJnYXLrl-x5_cJ1PBx-WSDip8gDUq1nL7JEYoVYyadDe6ndDLkd8d3_7cdUz-ZkibzrgKI3GO5Kp3VFD1C_WgnsL86PDQoZ2Zfo3O8wGhNO85LALXnSW3NecZi2VLGj0R5izsSH-j2w5X5keo4-FzAn7Za4wQ&refId=HU7tKKPRmoYAbhpOIfM9nw%3D%3D&trackingId=fsGoKTsNIqzKbPx2xnB3WQ%3D%3D&trk=flagship3_job_collections_leaf_page</td><td>Senior Software Engineer</td><td>LinkedIn</td><td>Bengaluru, Karnataka, India (Hybrid)</td></tr><tr><td>https://www.linkedin.com/jobs/view/4280506608/?eBP=CwEAAAGYgRR6NA2r9le3XUjXz7X7V6n0o6xybexEahjhI_9_tuRvjFkkUMIkcQ0KBYj2Xu5A2uMhTnhtANGYPy4wZa5_GtoD4ARxEKdVjTU-sckYPxnHgeikfe2GWfcZ_pfWsxd6YOCH_iUoxlrzpvtdfIxTEehwtodeayMDJ7_8saDPPDpxE8hveaAGLKzvtzYkTterR65fU90cVuBcMG3g9zVNK0KDvnIrZVeb0LN7U3h9j-Ux4CJWkLR5xqBvi9_N4xbSGHI--uHve7ic_c43dO-XDXwOZ5ObaDxxGGkRnOdZ0I4NfIIvZvBy_7Jir5ftrESCxIyY1O4ROTqrOWlljylQJFmtnNKkZfBAyGFW69WG5_1JpnR8ybVKQ8T-vsSJ6_z6ciGw4XfMt8q_chyragMUp84ANlkw0UFAIxImVc76s8MO7_2MwKFJnsvUszmxZ1rbRfNDYz2FZzguU9tqLumF4CZUYWE0YeKZ3lZdcr1LHrgSInD1hU9SbWAG1OaB1rT1IsWUoXTYtBk339ys09f7OsWcnBpu6Nvz726HZfi-x_zPV7bREKdkwXiSJIg&refId=HU7tKKPRmoYAbhpOIfM9nw%3D%3D&trackingId=Rqkmx7bWRxaZfbJlkVx0Zg%3D%3D&trk=flagship3_job_collections_leaf_page</td><td>Frontend Engineer</td><td>PhnyX Lab</td><td>Bengaluru, Karnataka, India (Hybrid)</td></tr><tr><td>https://www.linkedin.com/jobs/view/4278247578/?eBP=CwEAAAGYgRR6NDVlY1CSYgLTQ-LKG3slZo4n7nUvoYboawkPGpVD4XFCq0svTsM1FeDjXxQMib7dGAyyHd6E8xGYFmT01G8ifYukCagppVzOFSg5XaSnbnn3lok_3aKJMneUAiLZeiyW_Xj-KSKBM3Fz8ivVSZ48XAKLgaYnB00o2dK6Qrmj13o7mlYNO8W8HheXrnpDwc-Of2xuqSRkSQszrWoa_HNAadb2WCg8zThiilJe22R2slL9iFOHPYQzwZTWXlro9FE94Ku3prIgHn8GC06kYnM134THt8qKybBezldBchpXcBAjI1BtYbdpWek1m4MaP4Os69QaqO-smEF2zNLdNW647cYDHXlokYGUaVbbw9Mr3Ddj2Mw1ASlFIoplvOLp4_6r6-glvL8LzfX9Xy5oJoq_5jZGnqk1Ykr0g5aFZzItbxtF_yHJMh7iqSB29rrbL9-pSscAcrPW55Z6XGGga2SjwaFw2wU5jIYeFOqgPHRJMD2zMuHU2-boPqJ5zMwjfsuBkB1tPAgdL3jtdHTXT7AIhjA&refId=HU7tKKPRmoYAbhpOIfM9nw%3D%3D&trackingId=v6Lv%2BshX7eQApyk%2FDL27Zw%3D%3D&trk=flagship3_job_collections_leaf_page</td><td>Data Analyst</td><td>CareerUS Solutions</td><td>India (Remote)</td></tr><tr><td>https://www.linkedin.com/jobs/view/4273593598/?eBP=BUDGET_EXHAUSTED_JOB&refId=HU7tKKPRmoYAbhpOIfM9nw%3D%3D&trackingId=6sA%2BdRcQceHdBFuZTYLqbQ%3D%3D&trk=flagship3_job_collections_leaf_page</td><td>Python Developer</td><td>Datum Technologies Group</td><td>Bengaluru, Karnataka, India (Remote)</td></tr><tr><td>https://www.linkedin.com/jobs/view/4280141875/?eBP=CwEAAAGYgRR6NCZwe42hSSirH9Sz0o8RusjJYqS6izkOomHgR9MdcjawOgZ54qM87PceWtAp7xAwPHRmjQaWKS-GRwwWDvSD4T5tzSbREZbrjKceNi_08a9L113D9ZYUJL8z9wJM-jxNEfwQ5Gy90coQxMlHA8knzdWPuKpsaZj7gjm9YNfH8yk-3hb0r-rOlRC4bllJeYLMjlU7NUfvzbD0McNRoGgsO3jXLuyJqK6fCDSZk8cYERe5iA-MKPpnqAQG46dpfO6Oq_Bretj1oC7gLjo7Zg8qr_xk4ErdC7C1eymHDZzL951UA_GBzLAI6WFE50Di7F6UyrHtM0u8M3wbxnkimRnIzkS9nsWQiOwW-ONbQPyjHfzmipS7vd8GPVRyt15-0NwhyFUmMo6_e4JS6FYfnTegyRM93C4rPm-CgTvhPW4T75F47lAeuouxHTUA3PbfSQ0U6pTw9-ijjyJuNHPBwXM0M4vguC_44aFBFoDx3ps7TkZ_CNQ2r7RneKUSpg-4oMTdf71qDvbX44b_cy5bQaxiPZA&refId=HU7tKKPRmoYAbhpOIfM9nw%3D%3D&trackingId=1rjv0tcAjR%2Bku%2BxR6Cu06Q%3D%3D&trk=flagship3_job_collections_leaf_page</td><td>Software Development Engineer Test</td><td>Airtel Payments Bank</td><td>Gurugram, Haryana, India (On-site)</td></tr><tr><td>https://www.linkedin.com/jobs/view/4278062997/?eBP=CwEAAAGYgRR6NPjsud-JCM6_LEfbEy-EdUEYodoclOVyau1y8YIyD79YGll_luXVKRAlE5GuX-df0a_9RjU2Lr6VaHNWh7mrhBzQ4PeK7gwvwpj1FMDeJNuMXTjZQPT6KS_jACBktSojJJMvLg08VXmkiogliJEkdeLxRLe4n-Lybg3urosHnBtWZMVA-9LPOUXqZpxAQ7AbIKmufDCLD3TiINiIZPYbew6NnFGkaUl8JaxHb0fuATaCYvTgg-NB5KK8RChGon7xKNk3a4QEAiLldQQ6PdTxbK3bj0yGpIiZY4dh2aPkpb85F3iYwRKt3-bIp2WuBOd0ODQE4TiEvFLcPsnIrbe-zT6Uy9w85slAcdWLTc_MfhzwY-DJKiqDqGpY7-_MZ1SJam1mouq7TkEYGdx991gKAT-e0ZV31-OWwg83vHm-pe6t5ZQsyllbZcLB5eB7bMRLuRluUfPjmvVvxtRwmNvIRMnQOY_0xZm7guZ7jW-SQHPE-NlVngAtRR7Iyxgh3C4LOpcjA0QslhUJmjRXRbEF&refId=HU7tKKPRmoYAbhpOIfM9nw%3D%3D&trackingId=FRZMpeEhbcfD4ZicDPDbRg%3D%3D&trk=flagship3_job_collections_leaf_page</td><td>Python Developer</td><td>Datastack Technologies</td><td>India (Remote)</td></tr><tr><td>https://www.linkedin.com/jobs/view/4278814835/?eBP=CwEAAAGYgRR6NGefh3UFupIXXCqelAz44yWcMnEBVNCb8pCq72QdpZAGlMuO7mudjuSvQiwaJv-NXzntWsRemUACEXBzC0nXaVmo7T2N3BdN1RKpHgXFfOyvdmFkdbZzC6IPW2XYLNI_xdgFVe-b6bNo8DThNYMkntw7tDgFb41irVdPR_M0sjmVQHQ9GBCM7fDjUBSOXq9wIftEGjrpVBQZCH-rjrOjGU2mOOT_1Yloma-TMMJK_sA_KgXmwYuyxJwlataRpEmKiqcuuJ80T4zEldWrpq2Q__5fDEgMDbmcrbrt6DAC8xw6LOG_0PrerW6JT-x5jdG6QlU4dBfrgk3hCdu-BZSaUqmXwohvgM5qcdC6sVllnav_fWUoWH6Vt1qkujTosZPXR7pzNxsPFR3HqfK8TGcUHJFcpt7f0z8aKrkQkkZvySV0W8nzuq-mWjSOgOgfcx0-J2yqfvJWLskAajWTXx0SEEeZ5lIrehEbPD2awPhJ-8QIYUgPCbNe7fo7U7vvzFuGyMUUzwYm5_ApsDNS9xaxKJs&refId=HU7tKKPRmoYAbhpOIfM9nw%3D%3D&trackingId=C1Hou1knVMP8LLc21f9sIQ%3D%3D&trk=flagship3_job_collections_leaf_page</td><td>Python Developer</td><td>Wissen Infotech</td><td>Bangalore Urban, Karnataka, India (On-site)</td></tr><tr><td>https://www.linkedin.com/jobs/view/4274205056/?eBP=CwEAAAGYgRR6NKiilphPR2gIm7WK5LppzWHZC2QQ8QULLHpHrvWEKGPFomAPpntaBx7z6D4riLXYcjffOnca6Jtw_S9pIPMSn7qgwqXh2zKhsaZYmvPdALSoYa93VO7KEpAqi-l39p4iio4Br4CPgIsH8l3KZQsDlIda4mtJTDPdcj6cbeAaDiQ0bgjkgGT8vnDELo4bTN8egb7dOuQvraymjPmy0L_fxblAfIsl89x62mkp2iu5Gbav-cuBdtUQEzU8mgF00L119U-annqtafgvKRgYIbsF2yDa8UaMelt39y-4RB8V_7xeiOf8XBENSKWkmORzLvIGc0i_EuYwWJ5xwy65Og3F-tp_4jJN9pGTOLeXKhiD7-C9S65FU4MiqW2QFgh2RJWKe1n7q_vtjLwwKJwUtQp7M3bB8YMQu7327_CwlpTtqNerkILIr18GPjY23W482tLV5NBmbJgj9lo9ZaNtcHYAUHgEJbpFUFD8lOZc1xPPQH1e55lM1NSfIGL6O69lEZx0e8ta&refId=HU7tKKPRmoYAbhpOIfM9nw%3D%3D&trackingId=um7qcUl4GJbXXYMfJf2TrA%3D%3D&trk=flagship3_job_collections_leaf_page</td><td>Software Engineering- Web</td><td>Carousell Group</td><td>Bengaluru, Karnataka, India (Remote)</td></tr><tr><td>https://www.linkedin.com/jobs/view/4280800394/?eBP=BUDGET_EXHAUSTED_JOB&refId=HU7tKKPRmoYAbhpOIfM9nw%3D%3D&trackingId=4Pvz7lPHap%2BuvWNHLyUg4A%3D%3D&trk=flagship3_job_collections_leaf_page</td><td>GenAI Engineer</td><td>TO THE NEW</td><td>Noida, Uttar Pradesh, India (Hybrid)</td></tr><tr><td>https://www.linkedin.com/jobs/view/4245121446/?eBP=CwEAAAGYgRR6NQ4ZuPW5NoKadsFFZ-VYhS7yKaWQJ7svFhT78q9LhJ2pePvsG8mQUMm5IN4xrQHOtqxHooQCZx3oziZJ4-E4ZLne28DqWuohIHAai1Tf1ra51iZq76X6EMKAlVdDxsc-YnIHLn0SAPvKsgStvtrttjOAUy4QxDMuKJAQ8k6wHsMSVYgf2VR4CCB4HMirLlDv_GCjMJK8_kETemf7_j6bqYZuR9vXNPqmvD4INYwdoFSaMhvmrO2JVKw7BD8_MPi8RygtjZxdxwlYfx6YDZzR55kLV2_W5AP2JCpAQCIzKI-FqWsZkH_MC-I3ZqBJKjBgQVp3YUtvhBzm7D0EvLwqHof1F7U0YeUIBt40A29xLHho9nO9SXAm1Wbz0DGYzopjiqLGWmqU4WY9L571NNxnHjt4VFCM6dFqxC_vuZrOWIepRN4biNd_uaq9rL9Ff9-ETBl7CZ_1rDySG-xdQHshaVqxEBi-W0wtAXoHQFyNIeR3sXs-7xHUWaR7jeNw-oURqvqvHiYkKHMT2rLlnPck43o&refId=HU7tKKPRmoYAbhpOIfM9nw%3D%3D&trackingId=TK35dOditK9QcPiygCvFZA%3D%3D&trk=flagship3_job_collections_leaf_page</td><td>Data Engineer</td><td>Centrilogic</td><td>India (Remote)</td></tr><tr><td>https://www.linkedin.com/jobs/view/4280166426/?eBP=BUDGET_EXHAUSTED_JOB&refId=HU7tKKPRmoYAbhpOIfM9nw%3D%3D&trackingId=UphimbfPWaUnNdgaqHZz4w%3D%3D&trk=flagship3_job_collections_leaf_page</td><td>Software Engineer</td><td>Experian</td><td>Hyderabad, Telangana, India (On-site)</td></tr><tr><td>https://www.linkedin.com/jobs/view/4262351983/?eBP=CwEAAAGYgRR6NKQe5qBXWQTiRtSRAHNQFSTEqs120-f4ef2Q2QES8zDs6xDHSD0KYT4s4qEnbIRXEhKeW7Xoz7qufbguP1KuUyOFunYcKBYUZvq07IaN2nRkybvfbSL_xGb69bAWh_5oWYbdx2BBsIXXNH1JxGCpBFj82pVTJJOaWI7CMs_pjmgihX16sKY9lnyKToqIbuiY_Eu8ncekaRwe5wx54zgTXkbcatPXV5x192cP7iISDK1-UIhoAn_BW5nzLIlBuxEnAn_0smILf0FBd8Zy_EmP1JaX97T7KBYdA31AzZO1qJJHO82U2GZF7nGjWL5fPLn241y_PX-BlQ_z6N7r2rV0uzpthKP_8uk_V1tjsf7pKyVPIkJoMXj64uJnYXLrl-x5_cJ1PBx-WSDip8gDUq1nL7JEYoVYyadDe6ndDLkd8d3_7cdUz-ZkibzrgKI3GO5Kp3VFD1C_WgnsL86PDQoZ2Zfo3O8wGhNO85LALXnSW3NecZi2VLGj0R5izsSH-j2w5X5keo4-FzAn7Za4wQ&refId=HU7tKKPRmoYAbhpOIfM9nw%3D%3D&trackingId=fsGoKTsNIqzKbPx2xnB3WQ%3D%3D&trk=flagship3_job_collections_leaf_page</td><td>Senior Software Engineer</td><td>LinkedIn</td><td>Bengaluru, Karnataka, India (Hybrid)</td></tr><tr><td>https://www.linkedin.com/jobs/view/4280506608/?eBP=CwEAAAGYgRR6NA2r9le3XUjXz7X7V6n0o6xybexEahjhI_9_tuRvjFkkUMIkcQ0KBYj2Xu5A2uMhTnhtANGYPy4wZa5_GtoD4ARxEKdVjTU-sckYPxnHgeikfe2GWfcZ_pfWsxd6YOCH_iUoxlrzpvtdfIxTEehwtodeayMDJ7_8saDPPDpxE8hveaAGLKzvtzYkTterR65fU90cVuBcMG3g9zVNK0KDvnIrZVeb0LN7U3h9j-Ux4CJWkLR5xqBvi9_N4xbSGHI--uHve7ic_c43dO-XDXwOZ5ObaDxxGGkRnOdZ0I4NfIIvZvBy_7Jir5ftrESCxIyY1O4ROTqrOWlljylQJFmtnNKkZfBAyGFW69WG5_1JpnR8ybVKQ8T-vsSJ6_z6ciGw4XfMt8q_chyragMUp84ANlkw0UFAIxImVc76s8MO7_2MwKFJnsvUszmxZ1rbRfNDYz2FZzguU9tqLumF4CZUYWE0YeKZ3lZdcr1LHrgSInD1hU9SbWAG1OaB1rT1IsWUoXTYtBk339ys09f7OsWcnBpu6Nvz726HZfi-x_zPV7bREKdkwXiSJIg&refId=HU7tKKPRmoYAbhpOIfM9nw%3D%3D&trackingId=Rqkmx7bWRxaZfbJlkVx0Zg%3D%3D&trk=flagship3_job_collections_leaf_page</td><td>Frontend Engineer</td><td>PhnyX Lab</td><td>Bengaluru, Karnataka, India (Hybrid)</td></tr><tr><td>https://www.linkedin.com/jobs/view/4278247578/?eBP=CwEAAAGYgRR6NDVlY1CSYgLTQ-LKG3slZo4n7nUvoYboawkPGpVD4XFCq0svTsM1FeDjXxQMib7dGAyyHd6E8xGYFmT01G8ifYukCagppVzOFSg5XaSnbnn3lok_3aKJMneUAiLZeiyW_Xj-KSKBM3Fz8ivVSZ48XAKLgaYnB00o2dK6Qrmj13o7mlYNO8W8HheXrnpDwc-Of2xuqSRkSQszrWoa_HNAadb2WCg8zThiilJe22R2slL9iFOHPYQzwZTWXlro9FE94Ku3prIgHn8GC06kYnM134THt8qKybBezldBchpXcBAjI1BtYbdpWek1m4MaP4Os69QaqO-smEF2zNLdNW647cYDHXlokYGUaVbbw9Mr3Ddj2Mw1ASlFIoplvOLp4_6r6-glvL8LzfX9Xy5oJoq_5jZGnqk1Ykr0g5aFZzItbxtF_yHJMh7iqSB29rrbL9-pSscAcrPW55Z6XGGga2SjwaFw2wU5jIYeFOqgPHRJMD2zMuHU2-boPqJ5zMwjfsuBkB1tPAgdL3jtdHTXT7AIhjA&refId=HU7tKKPRmoYAbhpOIfM9nw%3D%3D&trackingId=v6Lv%2BshX7eQApyk%2FDL27Zw%3D%3D&trk=flagship3_job_collections_leaf_page</td><td>Data Analyst</td><td>CareerUS Solutions</td><td>India (Remote)</td></tr><tr><td>https://www.linkedin.com/jobs/view/4273593598/?eBP=BUDGET_EXHAUSTED_JOB&refId=HU7tKKPRmoYAbhpOIfM9nw%3D%3D&trackingId=6sA%2BdRcQceHdBFuZTYLqbQ%3D%3D&trk=flagship3_job_collections_leaf_page</td><td>Python Developer</td><td>Datum Technologies Group</td><td>Bengaluru, Karnataka, India (Remote)</td></tr><tr><td>https://www.linkedin.com/jobs/view/4280141875/?eBP=CwEAAAGYgRR6NCZwe42hSSirH9Sz0o8RusjJYqS6izkOomHgR9MdcjawOgZ54qM87PceWtAp7xAwPHRmjQaWKS-GRwwWDvSD4T5tzSbREZbrjKceNi_08a9L113D9ZYUJL8z9wJM-jxNEfwQ5Gy90coQxMlHA8knzdWPuKpsaZj7gjm9YNfH8yk-3hb0r-rOlRC4bllJeYLMjlU7NUfvzbD0McNRoGgsO3jXLuyJqK6fCDSZk8cYERe5iA-MKPpnqAQG46dpfO6Oq_Bretj1oC7gLjo7Zg8qr_xk4ErdC7C1eymHDZzL951UA_GBzLAI6WFE50Di7F6UyrHtM0u8M3wbxnkimRnIzkS9nsWQiOwW-ONbQPyjHfzmipS7vd8GPVRyt15-0NwhyFUmMo6_e4JS6FYfnTegyRM93C4rPm-CgTvhPW4T75F47lAeuouxHTUA3PbfSQ0U6pTw9-ijjyJuNHPBwXM0M4vguC_44aFBFoDx3ps7TkZ_CNQ2r7RneKUSpg-4oMTdf71qDvbX44b_cy5bQaxiPZA&refId=HU7tKKPRmoYAbhpOIfM9nw%3D%3D&trackingId=1rjv0tcAjR%2Bku%2BxR6Cu06Q%3D%3D&trk=flagship3_job_collections_leaf_page</td><td>Software Development Engineer Test</td><td>Airtel Payments Bank</td><td>Gurugram, Haryana, India (On-site)</td></tr><tr><td>https://www.linkedin.com/jobs/view/4278062997/?eBP=CwEAAAGYgRR6NPjsud-JCM6_LEfbEy-EdUEYodoclOVyau1y8YIyD79YGll_luXVKRAlE5GuX-df0a_9RjU2Lr6VaHNWh7mrhBzQ4PeK7gwvwpj1FMDeJNuMXTjZQPT6KS_jACBktSojJJMvLg08VXmkiogliJEkdeLxRLe4n-Lybg3urosHnBtWZMVA-9LPOUXqZpxAQ7AbIKmufDCLD3TiINiIZPYbew6NnFGkaUl8JaxHb0fuATaCYvTgg-NB5KK8RChGon7xKNk3a4QEAiLldQQ6PdTxbK3bj0yGpIiZY4dh2aPkpb85F3iYwRKt3-bIp2WuBOd0ODQE4TiEvFLcPsnIrbe-zT6Uy9w85slAcdWLTc_MfhzwY-DJKiqDqGpY7-_MZ1SJam1mouq7TkEYGdx991gKAT-e0ZV31-OWwg83vHm-pe6t5ZQsyllbZcLB5eB7bMRLuRluUfPjmvVvxtRwmNvIRMnQOY_0xZm7guZ7jW-SQHPE-NlVngAtRR7Iyxgh3C4LOpcjA0QslhUJmjRXRbEF&refId=HU7tKKPRmoYAbhpOIfM9nw%3D%3D&trackingId=FRZMpeEhbcfD4ZicDPDbRg%3D%3D&trk=flagship3_job_collections_leaf_page</td><td>Python Developer</td><td>Datastack Technologies</td><td>India (Remote)</td></tr><tr><td>https://www.linkedin.com/jobs/view/4279361445/?eBP=CwEAAAGYgRR6NORvXTqamYdKMa3oFWm4INdL_Du8vD4zs7_I8EhTWgU3GEwYcTGzQiVPtiKqV2cNVjh_LVrp95TPPuTom-uEPXo2BdApc68Etx4J1pzZs_6M9HRkmzUpQPs-cxdM9X1vcv-sSeAMsIpZ-4AQ_8VU2ZmdkQ_7D8Sp0HqO38ag_2bUqNC40Rd1HCdTqpEVl2kTRO5Nfgowu7heBCWlTkdGo8SgovPoV_Orx104JJdS0x6IoXQmAvR7yHLuTK5jYnEe50Z7t-K34ZBpOYIPyZgT6eT4x3DMqls2z0OJQsKDI1M2XcXBVAJgNoI616SvcMurmc_lPP7BEyOfwnn4Cjtzgj41OplARirmeN3UjVicfLP8iBRRxxEXdrcbZn7aBh4ZsyD9mIYCnQUuWk8SAZ6DOz4V6vWl80YYrjz2kH_yQD-dJlQh398Qy1GLruM3uMHyRAxK7FwUY2_ZZ-1SQI6rmXldX8gLWoiqecVibPFtAQYFiptud5dJZM79TRe3L4cZRBAFixHeas6t2byZlqY0&refId=HU7tKKPRmoYAbhpOIfM9nw%3D%3D&trackingId=j4zt5xSJWnK%2F1Do%2Fr3AHRA%3D%3D&trk=flagship3_job_collections_leaf_page</td><td>Junior Developer</td><td>AAA Global</td><td>Mumbai, Maharashtra, India (On-site)</td></tr><tr><td>https://www.linkedin.com/jobs/view/4278814835/?eBP=CwEAAAGYgRR6NGefh3UFupIXXCqelAz44yWcMnEBVNCb8pCq72QdpZAGlMuO7mudjuSvQiwaJv-NXzntWsRemUACEXBzC0nXaVmo7T2N3BdN1RKpHgXFfOyvdmFkdbZzC6IPW2XYLNI_xdgFVe-b6bNo8DThNYMkntw7tDgFb41irVdPR_M0sjmVQHQ9GBCM7fDjUBSOXq9wIftEGjrpVBQZCH-rjrOjGU2mOOT_1Yloma-TMMJK_sA_KgXmwYuyxJwlataRpEmKiqcuuJ80T4zEldWrpq2Q__5fDEgMDbmcrbrt6DAC8xw6LOG_0PrerW6JT-x5jdG6QlU4dBfrgk3hCdu-BZSaUqmXwohvgM5qcdC6sVllnav_fWUoWH6Vt1qkujTosZPXR7pzNxsPFR3HqfK8TGcUHJFcpt7f0z8aKrkQkkZvySV0W8nzuq-mWjSOgOgfcx0-J2yqfvJWLskAajWTXx0SEEeZ5lIrehEbPD2awPhJ-8QIYUgPCbNe7fo7U7vvzFuGyMUUzwYm5_ApsDNS9xaxKJs&refId=HU7tKKPRmoYAbhpOIfM9nw%3D%3D&trackingId=C1Hou1knVMP8LLc21f9sIQ%3D%3D&trk=flagship3_job_collections_leaf_page</td><td>Python Developer</td><td>Wissen Infotech</td><td>Bangalore Urban, Karnataka, India (On-site)</td></tr><tr><td>https://www.linkedin.com/jobs/view/4274205056/?eBP=CwEAAAGYgRR6NKiilphPR2gIm7WK5LppzWHZC2QQ8QULLHpHrvWEKGPFomAPpntaBx7z6D4riLXYcjffOnca6Jtw_S9pIPMSn7qgwqXh2zKhsaZYmvPdALSoYa93VO7KEpAqi-l39p4iio4Br4CPgIsH8l3KZQsDlIda4mtJTDPdcj6cbeAaDiQ0bgjkgGT8vnDELo4bTN8egb7dOuQvraymjPmy0L_fxblAfIsl89x62mkp2iu5Gbav-cuBdtUQEzU8mgF00L119U-annqtafgvKRgYIbsF2yDa8UaMelt39y-4RB8V_7xeiOf8XBENSKWkmORzLvIGc0i_EuYwWJ5xwy65Og3F-tp_4jJN9pGTOLeXKhiD7-C9S65FU4MiqW2QFgh2RJWKe1n7q_vtjLwwKJwUtQp7M3bB8YMQu7327_CwlpTtqNerkILIr18GPjY23W482tLV5NBmbJgj9lo9ZaNtcHYAUHgEJbpFUFD8lOZc1xPPQH1e55lM1NSfIGL6O69lEZx0e8ta&refId=HU7tKKPRmoYAbhpOIfM9nw%3D%3D&trackingId=um7qcUl4GJbXXYMfJf2TrA%3D%3D&trk=flagship3_job_collections_leaf_page</td><td>Software Engineering- Web</td><td>Carousell Group</td><td>Bengaluru, Karnataka, India (Remote)</td></tr><tr><td>https://www.linkedin.com/jobs/view/4280800394/?eBP=BUDGET_EXHAUSTED_JOB&refId=HU7tKKPRmoYAbhpOIfM9nw%3D%3D&trackingId=4Pvz7lPHap%2BuvWNHLyUg4A%3D%3D&trk=flagship3_job_collections_leaf_page</td><td>GenAI Engineer</td><td>TO THE NEW</td><td>Noida, Uttar Pradesh, India (Hybrid)</td></tr><tr><td>https://www.linkedin.com/jobs/view/4245121446/?eBP=CwEAAAGYgRR6NQ4ZuPW5NoKadsFFZ-VYhS7yKaWQJ7svFhT78q9LhJ2pePvsG8mQUMm5IN4xrQHOtqxHooQCZx3oziZJ4-E4ZLne28DqWuohIHAai1Tf1ra51iZq76X6EMKAlVdDxsc-YnIHLn0SAPvKsgStvtrttjOAUy4QxDMuKJAQ8k6wHsMSVYgf2VR4CCB4HMirLlDv_GCjMJK8_kETemf7_j6bqYZuR9vXNPqmvD4INYwdoFSaMhvmrO2JVKw7BD8_MPi8RygtjZxdxwlYfx6YDZzR55kLV2_W5AP2JCpAQCIzKI-FqWsZkH_MC-I3ZqBJKjBgQVp3YUtvhBzm7D0EvLwqHof1F7U0YeUIBt40A29xLHho9nO9SXAm1Wbz0DGYzopjiqLGWmqU4WY9L571NNxnHjt4VFCM6dFqxC_vuZrOWIepRN4biNd_uaq9rL9Ff9-ETBl7CZ_1rDySG-xdQHshaVqxEBi-W0wtAXoHQFyNIeR3sXs-7xHUWaR7jeNw-oURqvqvHiYkKHMT2rLlnPck43o&refId=HU7tKKPRmoYAbhpOIfM9nw%3D%3D&trackingId=TK35dOditK9QcPiygCvFZA%3D%3D&trk=flagship3_job_collections_leaf_page</td><td>Data Engineer</td><td>Centrilogic</td><td>India (Remote)</td></tr><tr><td>https://www.linkedin.com/jobs/view/4278499830/?eBP=BUDGET_EXHAUSTED_JOB&refId=IXn%2B7T6IbKlYbETu2OTZWA%3D%3D&trackingId=UStwSF1dMfSfWZerjTNxQw%3D%3D&trk=flagship3_job_collections_leaf_page</td><td>Data Analyst</td><td>First Screen</td><td>Kochi, Kerala, India (On-site)</td></tr><tr><td>https://www.linkedin.com/jobs/view/4280908957/?eBP=BUDGET_EXHAUSTED_JOB&refId=IXn%2B7T6IbKlYbETu2OTZWA%3D%3D&trackingId=1taqZsfAG7opCHSvh0%2F6WA%3D%3D&trk=flagship3_job_collections_leaf_page</td><td>Python Developer</td><td>PeopleLogic</td><td>Bengaluru, Karnataka, India (On-site)</td></tr><tr><td>https://www.linkedin.com/jobs/view/4275934453/?eBP=CwEAAAGYgRSHYQlBocX1aee5Y4B47a0ilvIj3x2b4sHK_Trxdj1Jw3BI8enV2QTjqlIOpNQIVAsJbqpSRDrcA0Dl9Kc7oC6xHOhQt0mNkzspgwkD5dylunHMN1wcbxHr5AcNc062hukfcPfr5bDuS-ugLCex8-Z2qYI-gMqzj2bbuipWgoo5UCRqRfFTvEdU63wjbQff3ycroIHRft1ZYINsoebENA9Kc_ceshhTTk2mwBDe76bDYg3TxKiB8nPIY_QW9zrULf70UdDf6y5TqQoDltR7W-uIoLzKTT_fe9GyoTTkHRc9eqw_fTs6H6Y7AIZNxZMjDOZTq9QJcLZR23AD9DqvJDLIzfsqhWVD400zgV3KCzTDBm5w0cJEF0kwHkP9h86k_EXOo3kRnKII9ffaXR60l0Sj0WbSlP4x-aanmKn12SvJAJKba0DlFxMLzebBzA1QNmSJBAGSSUWpTtH-eqbiqB5oHsmRLJkVMQCV6ri5mkP-FEsKRSalNC0lClo0QuhdKBKoOZsL-v6aYdRCGamKllAF&refId=IXn%2B7T6IbKlYbETu2OTZWA%3D%3D&trackingId=IFxwCcUSZmZw4y4GsT3Klw%3D%3D&trk=flagship3_job_collections_leaf_page</td><td>Data Engineer</td><td>Mphasis</td><td>Bengaluru, Karnataka, India (On-site)</td></tr><tr><td>https://www.linkedin.com/jobs/view/4266402388/?eBP=BUDGET_EXHAUSTED_JOB&refId=IXn%2B7T6IbKlYbETu2OTZWA%3D%3D&trackingId=wpHESDFp8IN4x8Cct1b2Bw%3D%3D&trk=flagship3_job_collections_leaf_page</td><td>Machine Learning Engineer</td><td>KeyValue Software Systems</td><td>Kochi, Kerala, India (Hybrid)</td></tr><tr><td>https://www.linkedin.com/jobs/view/4279555995/?eBP=CwEAAAGYgRSHYRqbWacCWN9MtaPKozxcrG_Xw1f9bVNPfGcKx_1640uqBQac989WB-NyOCs3gGFhAkalH9bcZ2-zCMTkQXhRCNBsesBEheI7TT-Oykg9k8hWrYTUxCMJn-bLEZKX_0eEQZ7K2M-yWHy8pqiBrYoLMdnOGk-jv2KPToe3IE7dQ8hSO0vNikZooGbKPC6HJc495YbXwo98nonU1XjSJ2YYXKmm7MDWx8eho31ri57siS1oI82KZHJbRSZLtGJnM8oSSlzyUJU640bH9kIaQOobryFnVYgb1RbuW7v_DcqCIdZQDFCDwz5LOm9ATBn-rGk5fKU2PHhzUkLRj9XXznyDgC-5RcXkStJB5x5KbAL462i8TzTTp86Sg83gyqwtTCacswOyncGcgutji9kn_xa17A_yA7BoVtMGD6_uMY37jwyRTpOPeDuiNYItOn7CTUzPl_rTzclstcKHIYsbLb1V7traOKS9OKa5YxCTXt7c_U-yzSpWk3zMXeo1_p8-1VIrkqDTDsf2IJj9ZeuH82lc&refId=IXn%2B7T6IbKlYbETu2OTZWA%3D%3D&trackingId=3oo5CSsTOD0mKIO9wHRQuA%3D%3D&trk=flagship3_job_collections_leaf_page</td><td>React with Python</td><td>InfoBeans</td><td>Pune, Maharashtra, India (Hybrid)</td></tr><tr><td>https://www.linkedin.com/jobs/view/4280083964/?eBP=BUDGET_EXHAUSTED_JOB&refId=IXn%2B7T6IbKlYbETu2OTZWA%3D%3D&trackingId=3H5tkO6JmBNt5S9jIp26Aw%3D%3D&trk=flagship3_job_collections_leaf_page</td><td>Python Developer</td><td>Darwix AI</td><td>Gurugram, Haryana, India (On-site)</td></tr><tr><td>https://www.linkedin.com/jobs/view/4258100629/?eBP=CwEAAAGYgRSHYe1sV6LWIqEQ6ru6OvzRituNgxmjAGmaaj9j3gx64NJ53CI9gA5RNOjye_DEbuHkuprb0UitVU4tZAH4p8dvZ7n1MDxAIECJOaXBYHwTJ34dP6HqrunOJ43dt2WI3ZKJMFvfplBsiIAfsNxxoI0FmzUww8JHP3BsR4XzCRwtfzBxRUoau9Zuk7A3C9m4eVRNiu_PsgWaxMCS4Hq0uiYzh2eM8tLPW8GcBYz-B6IaIb534VsAnN-yqNoaDtWeIQwBL7I-G_3AZ29WfGHZIrsDiO1IQV6mscnkroq25qUiDzn4vWsz8AikZHGrPbtKEMgWu9_tIVWcVYCIpFmrKaXepG8nJPCF9aekkkDJB6hjDrm2yguitj_i19mZyWvmd1zFdhhssn58t8-6foLCJ8YpQP3FX2r_YIz-cOje_oxYRStrqsCknDDBOxiNV5PvNQwEl0MpzsoScvokB8CDasXLDedjjRvKSrMi8ivUDF8qfT6mv3mWi6bI6gN5DKEyzOybHOuENXhfTTuV2s2s5AsxWd257Q&refId=IXn%2B7T6IbKlYbETu2OTZWA%3D%3D&trackingId=pXH%2F%2FqLfOn1BAaIoANYdJA%3D%3D&trk=flagship3_job_collections_leaf_page</td><td>Geospatial Data Science Engineer</td><td>Esri India</td><td>Bengaluru, Karnataka, India (On-site)</td></tr><tr><td>https://www.linkedin.com/jobs/view/4261958705/?eBP=CwEAAAGYgRSHYXq-2tNNLGZi3tyT7Af70M5BL5-Pi_K1HBDcKiynrFGF2e3LcpXQn7iT9HnVzOlx-CnpkI81QJIyQMjgkKxOJI3nHAozocToEZQ3fA8FM88So8qwPhkdgA0R0Z4Kn-9Pql-O5QKZyLmW6zVHMnV-RdAO6yCmmTrL1B_Y7PBA0T4fhfxdScTkIXIrurizBIEud2rMUIf2vmHsAI-LKzNL_0yF5V14BcEo2NyWgjjfOBUUwdlfTEextlrrl5QS-x8qKRmX7i53BJHaPfm_AR8LWQAwffXZBKoqNzF8VWAicfP7ywJG9OZ_V_3QJKJnAd9-FQ-6G5LCgaL9D8U6bc586b-7G72pQjMECQknRCWtw_AWiGFS7jQ-fF75OrI8CwlPPdVhet69yymUs2bNLDYS1tYfToQ3TJejpkM3IBIN6RpZU9im0l7rYGMT4__OiVU3dAw3ryMLBdzvdZORQDpRrS7pZ_5Oi7Qdqo0PJEdZRwKu9nfP3ZRvoiViaZs9vBRD627T2Z8g_WuinGmA_A&refId=IXn%2B7T6IbKlYbETu2OTZWA%3D%3D&trackingId=sgL49RdKujsj8ChiXEJl%2FA%3D%3D&trk=flagship3_job_collections_leaf_page</td><td>Sr. SW Engineer - AI Engineer</td><td>Roku</td><td>Bengaluru, Karnataka, India (Hybrid)</td></tr><tr><td>https://www.linkedin.com/jobs/view/4273865227/?eBP=CwEAAAGYgRSHYS77Qsl81O2Mp7sx0AvQFNJwhMVe_nHP8JEm0Xzl6o25QUzCEIlPnhMADCBlPnKh--GCvDQkcfIhzM2VdmaI8r7HxoucbqVsg7LZVKI3857sU9_rSeJM4CdzeSxL6l8br97iIB9NDPM08DWckEDn04tpxGpR6TMjWA5OnyuZtmVEH4N_aB8wTzQblpqUjPe87M_PjUq9RdA6alw7n0YRPYcsXmtZBcEdsgVUMN_XOwC24irK9Dz3DEP95vsjGGQc5-_QipYdmqTFO9kaW5ggeuGMEDXhIk38EoPGgJKVeklPNplgNa3RShXDOEFjamaQ_xF-PW1WBjodZopHsM9XxpQXxUnI4X0hbmo3hdl-2G2W_wIr63l-LuR5s2cHmV5K_HEd832o0FkmyeEsztYOFpdaWJfNWY50MUEKZiQf4dLiKTD0YCVLo1RE49z05NvYxjt_8ELafBDjCLdsUv7Tw1RWQVXwZUD7IOxgEpYQAbrKlAuaR6QW-5BBkJqfraPycCfnOtXmsoqW9CdtWTP05mU&refId=IXn%2B7T6IbKlYbETu2OTZWA%3D%3D&trackingId=Aq9CnYYL7gA6aWgVJKkajA%3D%3D&trk=flagship3_job_collections_leaf_page</td><td>Python Developer</td><td>Binary Semantics Ltd.</td><td>Gurugram, Haryana, India (On-site)</td></tr><tr><td>https://www.linkedin.com/jobs/view/4278056511/?eBP=CwEAAAGYgRSHYbKyK1t6aUVQpAHioJlUIGYPYPD0qZuJcA5sbG-5yJ9xXlsxCQN2bnrEeJynLuYdC4JOPRlkC5gLy7FDDbQZid1cw80_-l3nv5H07Us-DFcAL9Ef_mamod0c_ysEmpE5Vimg434q9tf8Mbz2FeIMFACwdG-r872fyRHghTCIltJPPziqdJ80MrSvA8dnJ4p6OujhcwkT44tWlkWKF5fk7mBKSavRx1s8oICg-_dHJI1wUitnIM5GFKDfbTthxUCAwDJmz47x_698X7t_wV7zMrFA4JXfVvuWpz7jbnBXvTBO7SmCJJ9p_yhmeOKHFP4qdC5yK8iNMBWiHaYgvtLs5Eo2iJkEA4dEgb3Rsfl-sDiUC4hWQrewrm_QORDlk3dw3ncVMtCzfuAFAsDrwUXsh9HDc2HrbJKxgEsMw8r_KEDWfBrBxWKA0SXOqDBGAIWMipv5zcsratuOC-6SS-1prh480ciACOu-KeD1d0U&refId=IXn%2B7T6IbKlYbETu2OTZWA%3D%3D&trackingId=al86rCGlIBzjPmyb%2FGunXA%3D%3D&trk=flagship3_job_collections_leaf_page</td><td>Python Developer</td><td>Relanto</td><td>Bengaluru, Karnataka, India (On-site)</td></tr><tr><td>https://www.linkedin.com/jobs/view/4277157799/?eBP=BUDGET_EXHAUSTED_JOB&refId=IXn%2B7T6IbKlYbETu2OTZWA%3D%3D&trackingId=ByLFrh0x2XtwoPHts9Y9%2Bw%3D%3D&trk=flagship3_job_collections_leaf_page</td><td>Software Developer</td><td>ZEISS India</td><td>Bengaluru, Karnataka, India (Hybrid)</td></tr><tr><td>https://www.linkedin.com/jobs/view/4280451154/?eBP=BUDGET_EXHAUSTED_JOB&refId=IXn%2B7T6IbKlYbETu2OTZWA%3D%3D&trackingId=nj834IAvHex%2F2%2FuP%2FaCGow%3D%3D&trk=flagship3_job_collections_leaf_page</td><td>Data Engineer</td><td>The Functionary</td><td>India (Remote)</td></tr><tr><td>https://www.linkedin.com/jobs/view/4280159089/?eBP=CwEAAAGYgRShx8mFwInd5Wtz4tKo5vhxu9PGSkhnIpiguzTWBAOASPujb6-ekNUa7oOzCfK_lTshBNbz4-hF-06OQNl2o53OnOA5IX3tX9ImsVQnYl_MgsYMj5Ktfodji77y5QC8P4J531-b_Wzz8OZvLvDs1VEgzeNnRBYTvUyWzELthchmd85APr28okiNzOPXg0EmZZR1HUaZXIMIOrmQzU8LPnbLkZ42sQlt65pQUuw9Cc8EWX0YAsuR1LPF8ZRPveXvJmkh3OR5OjdYCq3cmLH6khN2O4YLqWWfdgIEPzh1RaZi7-M1bSr95-8D0cSUYxg8DjHnYA3mcZH_F-2WhgGWm-_Sg6aAV66rJ2cHHRqqOG6d6OcMeslaR2PHIJWoOWZ30TtjN8-GILlOxT8FiqQAMnAfDV7oGUP7iTyCzcKk-m2CbjqNdGHd0fLhqBIFCqEW1EGRQVxXOZ4nHhtuh0J0xy8-nm0vaV3KzCuikIAHnB1ff_YKxz63Bzi_NXKAysRshfTjZAx7F6sondmOq5y8Y3vwu8wkdQ&refId=MYPN7y%2F6AW6jfo%2Fh5tzXMA%3D%3D&trackingId=xEsgmowR87anJxv07xJlOg%3D%3D&trk=flagship3_job_collections_leaf_page</td><td>Remote Data Science Analyst - 17843</td><td>Turing</td><td>Pune, Maharashtra, India (Remote)</td></tr><tr><td>https://www.linkedin.com/jobs/view/4280346453/?eBP=BUDGET_EXHAUSTED_JOB&refId=MYPN7y%2F6AW6jfo%2Fh5tzXMA%3D%3D&trackingId=wK2%2F8zTdMPzdw6rnTyll%2FQ%3D%3D&trk=flagship3_job_collections_leaf_page</td><td>Computer Vision Intern Remote</td><td>Bhatiyani Astute Intelligence</td><td>Bengaluru, Karnataka, India (On-site)</td></tr><tr><td>https://www.linkedin.com/jobs/view/4280121497/?eBP=BUDGET_EXHAUSTED_JOB&refId=MYPN7y%2F6AW6jfo%2Fh5tzXMA%3D%3D&trackingId=A6Al2m%2F%2BYwDEgZrWC%2FiJ0g%3D%3D&trk=flagship3_job_collections_leaf_page</td><td>Data Scientist (AI/ML+ Python+ regression, classification, clustering+ SQL+ Cloud )- Group Manager-Data Science</td><td>WNS</td><td>Bengaluru, Karnataka, India (On-site)</td></tr><tr><td>https://www.linkedin.com/jobs/view/4275931334/?eBP=CwEAAAGYgRShx8FqwN_v7GT2o3MfO5XqjXZ0FGHQoj4og7uSXcJIn2HiNpBvkII_Q7ImY9L1xITqw6sSMxR5JzU8tFX0lHcnYRMr7p_tGmPLi0ZDAb5NAVn8XS49IWBxcXsevucIDyNe0caqD7Q2otq0yWZxbqrEmIfBK7nOS_VmLYAkzolgTr9wX2iXjfLZAMAjA7ldb4--GBy_JIzFyOQMouNYyHBWmraVEDJOVbJ1D_uxTi4u55aCHzD8_H6hfQV1QUl51dP7ymPq_Dp-6FwklEWpUH_IU7keakb2759MLFl_yxU0tZMZ7-l6DuXO8z5_jcYbmNG51xl2qxz6I2FjFdltlcNgTuyrLR1gRedj135BgEH9qoJ7nV98Rwe89WHqgyNTD7X6tW32AGcgA8nzFVWc7vypg5DZka_Z7rMbZoZPg1preQngKsSrl64cNPEm5I8zpF9d5dX-ljiCyUIWwJvWNymDz1bi5w4jtGY-35bAN7Qum41DijhH4Hl1Y4RtiNmPMkRDg5VsOfXCraSrYSlBK28oGRhm8g&refId=MYPN7y%2F6AW6jfo%2Fh5tzXMA%3D%3D&trackingId=o%2BSADGHi7wkXwyPxEswQjg%3D%3D&trk=flagship3_job_collections_leaf_page</td><td>Artificial Intelligence Engineer</td><td>Grid Dynamics</td><td>Bengaluru, Karnataka, India (On-site)</td></tr><tr><td>https://www.linkedin.com/jobs/view/4275584994/?eBP=BUDGET_EXHAUSTED_JOB&refId=MYPN7y%2F6AW6jfo%2Fh5tzXMA%3D%3D&trackingId=o2rg5nMH7ZJcKQMS8kQ22w%3D%3D&trk=flagship3_job_collections_leaf_page</td><td>Python Developer</td><td>HCLSoftware</td><td>Pune, Maharashtra, India (On-site)</td></tr><tr><td>https://www.linkedin.com/jobs/view/4278123433/?eBP=CwEAAAGYgRShx3TZl56YZ6sZQvVs2waDUhC6-rqA3UnpjkiUH8LlWIxNKEueb0K3nw8sO8B-YtPwHz4oOIO70m_a4zW78NG2_gvj0et2LNfTNWOXKXaxDCWeHcAOWUcrRrBhBR5GtAfkiH8u7bm0M4iNdMoHKh2ZKO22skFrGt8QiimYwXku6N2Y-gDLAPN9w02kMW-75j1dk7FxTtMBrnzQipQfUxY8GPEYbkxGxtX8kAVpwIIgcNi5Ca_R9t7aE8pb65D7Q_1ag5WNR1Z5wu9WVuuNPVEnpJNHFPLN6yZHRMkvWlZwJSY07Q6gnkPdVZWzqd0mtljduNxBjwdN3AiVrecLmWxlYxnUzSp1I_dhIKZQgUPNlKI0p1WHfz0Skq75uBFNoVyg0-_vtjVe6ZYtQLl1VNsH0Zhgvev-qBKjCymk-yLUXhYyGaiKtM4VZUCnT80McFNPusIU1fW47VcWXGkOC7o5NWb-k_GmgXbz65B_wpyLn-MnvRbsoiEfdqJ74H3npBuhFLgp18wfEKfz8VodXaVwaOloRA&refId=MYPN7y%2F6AW6jfo%2Fh5tzXMA%3D%3D&trackingId=vo8pzKwkdxSqJBuE6x8FDA%3D%3D&trk=flagship3_job_collections_leaf_page</td><td>Data Scientist</td><td>Circle K</td><td>Gurugram, Haryana, India</td></tr><tr><td>https://www.linkedin.com/jobs/view/4272012450/?eBP=NOT_ELIGIBLE_FOR_CHARGING&refId=MYPN7y%2F6AW6jfo%2Fh5tzXMA%3D%3D&trackingId=6wdCZjJ1%2BXIG%2BhJWUqQo%2Fg%3D%3D&trk=flagship3_job_collections_leaf_page</td><td>Python developer</td><td>TestUnity</td><td>Bengaluru, Karnataka, India (Hybrid)</td></tr><tr><td>https://www.linkedin.com/jobs/view/4277501095/?eBP=CwEAAAGYgRShyNaVrCDtY-Qlsz6VMJQpihbQdzjtLC4eWhIopdDHYSz9ndUrtFoZAdcFRhKQqGOPA8bpfTSTrHf_e2dcJtVZLOXdlqECRnM4wNMragLJEPkjqQyycjDBjighwpTtGepJ_39O9aVdCB9IdCFaEA7d88oJ4C6NIwqq7zDsQWJw3MAZhJGtCWF2clhOfpDe9IB7xL9PSN4lu0xbBSlGrGGTRnS33imPvSalk2FTPzoXhHJviQqQ64kg0XmUyHagftQTkqEO9ssh0sqbfiWu8l8JoSnS5RJcBXHxjG8WOGsaLwJz6-jDKl2EXMpE2g5fY8_4uoSphNnd6KicmVnSSAM6Y6aQ6WfPJnbADJKDr1uZwLsKeh28Bc42PIUWbnuJE4KENQsBN066UyQklx5hYBZOxLxso7TpgL6m8SU4DcLvxKBMf7ioeYei-8koYchAcXMNF0mMjRPbd2xD-rAg7zZ5__W9TVFxlhmo_QnoOw_wkRoC6xTCvwusafntydV0XtLEoxqMDKZUh_RqgNycyUOz0OU&refId=MYPN7y%2F6AW6jfo%2Fh5tzXMA%3D%3D&trackingId=HELp3b62bEVrf6V4k9dGIg%3D%3D&trk=flagship3_job_collections_leaf_page</td><td>Sr Python Developer</td><td>Nokia</td><td>Bengaluru, Karnataka, India (Hybrid)</td></tr><tr><td>https://www.linkedin.com/jobs/view/4259429652/?eBP=CwEAAAGYgRShyCTm2v1zLa-TznmmKNaOcLt38Hiv-zEr5ob_DK-ejshPNlZ5Cp21eV0occQbdidT4ijq4U-2f8PuijG2Uzkp3FZIY5tJIDi69boyqzK7-khciDQSmObjt0tc7WfllFAb_Q1E65pXsRRI3CUe0ZyKYPdIEWhQ-gQ4GlNfk13_J8bVseT5xZGeeO1M3IKO4a5H9Osw9n5BcCBJspEAW8jiGgtZihJRXcVFqbOIvqeqCoeqmApD97T-9sERYnMHiC-y5pnVtzrhq5Kc02ZAlzN1dlLT0ESuW-ZM9K8d-tdsc6tlZPnc9wV4bJlK9YHVg6Iu2GUcNJRBfDzWjs03DZEhuex1SbkJQfibO-ZuBAjIBCHIsFcQCnWQG0Th4lHStqb9iKL-s8uOH_mLaDzqVBKaGHqxhr8PXq6ybC9mhvOLv1jzW6IKQgEb2QufdyTBsInhagBS6DrMqPodB5a9FrqGka6ekxNHgCPVAXyijLLUcdksQRhMjsx0Z_G8swKnKRQirYgxtFufEeb8qup74Op-HbQ&refId=MYPN7y%2F6AW6jfo%2Fh5tzXMA%3D%3D&trackingId=200YpSPF5ybsudwdVRypmQ%3D%3D&trk=flagship3_job_collections_leaf_page</td><td>Full Stack Developer</td><td>IDFC FIRST Bank</td><td>Chennai, Tamil Nadu, India (On-site)</td></tr><tr><td>https://www.linkedin.com/jobs/view/4277602277/?eBP=CwEAAAGYgRShyKyNJTlmK1pfAeEswA2CFD4VSmKsdET2eKkyr-zpWwkfocl4Pi513-1ZqmWhcsNcBhOdbK-t-7-cRMOMID27yvfUIItsxFdkJJ9qXwC-wT07FzxWYu6v7lynyJdETuYZIwlS7nUeolIIt4wg7GdbpisD9E5QE8z2ZJI95qhTIEaNwfhGjp-hA4UAiVfh_bAFFFUVQseambGS4VmoutUdlBV1UhvflpKOqKzOerMM0Ra69SyS_Gn46ujefliOQ1qfkHtFo2drNouQ1TK54uKN5Q0abQ3Km9lA_4UBdrD4HRDYvuvk8aP4Bo-v_9JJ34GW6HgnIKm4wk9-_iXHBEhReN3Ie9OnSc0BNwQe9ajvKY7R0RQBdSzescg9HqOWLCEsc721Lzy3MrHBCEvg5wTeGXZ_8r40ZQWkoY3oDK7EHD-JQDvD-W5q6XCIJmCFVAkAqKT8Vj-8H0qg_WvbrzoSLhdw2Im6uMYRQpKGAbgMZrSEb142XcbE35hRW_mgku_3gQcpooFPK6o-KHqpbyJYBWuWNQ&refId=MYPN7y%2F6AW6jfo%2Fh5tzXMA%3D%3D&trackingId=4ajm2bGTGhFZwINurlyhtQ%3D%3D&trk=flagship3_job_collections_leaf_page</td><td>Software Engineer</td><td>Nanonets</td><td>Greater Bengaluru Area (Hybrid)</td></tr><tr><td>https://www.linkedin.com/jobs/view/4250486850/?eBP=CwEAAAGYgRShyBsgTWqkc0sMGXqbaMwILYszW005WX-hc-2llOIj4THlwbg43-w4L5Dfw1r_VmYm17TsvoZtA14YSr8dEVIB3WT2VAlx55M2xNgv60okU-EEu4mRTpUv7X4wEGpHaIfqu_KUs_Xu1nNLjvMaNaLFepUqCHVSEioR6yeqnmfhMjEYhTIL913cxhKyXpzbcJuVz-ewgPSZFiX0I-8tJLE4oIhPNsNlPjdQ1ZV8ytrpzORgHkbNywznLHoMe44SMhVWLQPmbSUnhqEwgUknI2DJe6sUzn2HSTCpCCDM23UgxDbkP_-SBWMcvU4frR_eUGCmhNZhZif3iKguFMB-zsfNjyDLABITcqhdDffqYKSMTYxP44iE88HE31rOlfIaktyj9VNbIuaf1j51I06xd9OIPDZ2cGn0F9yaWmwQVm6xwJCmXJTdYJul_6SRMYq-kDwCfXE0uKbg8_UsZwJzOvMDOCbglrwl9T5TOtKtYVIsCFPZeyQUG1Veo-ml3AUvXgeWzqYDJatJExfe-JUtdvPC6XCQ0A&refId=MYPN7y%2F6AW6jfo%2Fh5tzXMA%3D%3D&trackingId=WeMUBb6LktSrAC2b%2BR4LuQ%3D%3D&trk=flagship3_job_collections_leaf_page</td><td>Data Engineer</td><td>PrismHR</td><td>Noida, Uttar Pradesh, India (On-site)</td></tr><tr><td>https://www.linkedin.com/jobs/view/4278206174/?eBP=BUDGET_EXHAUSTED_JOB&refId=MYPN7y%2F6AW6jfo%2Fh5tzXMA%3D%3D&trackingId=kjig2QgL%2BJKE0XkT8BhdlQ%3D%3D&trk=flagship3_job_collections_leaf_page</td><td>Python Developer (FastAPI)</td><td>BeamX TechLabs</td><td>Hyderabad, Telangana, India (On-site)</td></tr><tr><td>https://www.linkedin.com/jobs/view/4272841876/?eBP=CwEAAAGYgRSu0ynzr8P8Zh_cW-9jSXjrS_qD_ijkXkQKOaQGf0LsLdHsRZ-DwPSYTysmKlljRBY8pQmO6EqQwclwqFLgnERhNAtY5gq8KhkXEYyf9uS6E4gQzCrPRYBAmKrJPKuT_r-lxUjOvG24jl8QntUfN2LObLmZTJLLNDEwMDyeU9lIlbeaAfaUSMeFYuA95ZtGGQuiB_0uVRwO80Xq6kIDCJQc22-sgWqI2bpV08dwAtw1---P4v213iEemww7xUrJ20GBHZqa0emJ6Rmw_qofG2FsopS4scFrlozbcjrjm6pJWW4ZKvBdw_YS7VSqoL-38_hL7f9J5g3Ze-rr8_JxRcJC_0GnVUeXBv8uMjQA1Hlsw2VtE8XSxyITgGXEBSodgR3ByRmtgGP3xC_2JUfwVGrsnJtC2WjynA1tISE43vUpGxk5YL4maPz_6hOPxT18iM_bsoLZ_hnW3qPqo-aT1OMI270wierN8j8DIJar3-NvhomM6otbeRHXH6eUP8ep6gje_a0QNKRml8bmvwavvfny&refId=EBSmkZioQQPAVNqYw9%2BGTw%3D%3D&trackingId=Nt7moGcXYyt1NFl6DeQTPw%3D%3D&trk=flagship3_job_collections_leaf_page</td><td>AWS Data Engineer</td><td>Iris Software Inc.</td><td>Noida, Uttar Pradesh, India (Hybrid)</td></tr><tr><td>https://www.linkedin.com/jobs/view/4267691249/?eBP=BUDGET_EXHAUSTED_JOB&refId=EBSmkZioQQPAVNqYw9%2BGTw%3D%3D&trackingId=jvJ8zzz7u1YO4DzFOgsNsg%3D%3D&trk=flagship3_job_collections_leaf_page</td><td>Growth Data Scientist</td><td>Moniepoint Group</td><td>Bengaluru, Karnataka, India (Remote)</td></tr><tr><td>https://www.linkedin.com/jobs/view/4278747387/?eBP=CwEAAAGYgRSu0_p5cl5v3mLO6Nrj5rBUTuwsarA-ZZ3LQM6FeBFfjJo4rTuFOBqqgOc3S6Z7TaIrXTJdVGksrGkpqOyzBUFbpsbfodRTE-uoPyjoJMckbq-BT3wQ1cHUThsWJcFJLCCNHbtZR0S9gu8OLPzp0uXZoVANOPTHmzv23ev3yyR3IuJjX7Js6wvDdK_Ok9RW0hCtDH7nE5_Rzq6u0yuk7ilOqOtPJzkDA-yr3_SBI4OM_Cud2o6Vw05b7WJ1YnJNXsF2VyoxSvBAD78r6sqo7ik_wcV2KQ4dfspR7Aa5zW_Ek4MqJKiBcYOzJUv8F9xX1VbvzheHIIs4huD3sfkhwWBDifPhRyJ-U2JuuxP1GxaZheNY-oOiNfN1f6A9f9N3shITlywtzHrL360ZhSOJ7Hz7LilrZJBMToatEBnj1hh4lN46nAYJd7Cjc9g99LwJngvXz60SmTQGnQ5-ZJlc68Q68qOGCngF_58ZnKwLgFczuDGmMY-NkZm0wqiO-rVIildPN-F7_hZzh-TW3BsSG6Ux&refId=EBSmkZioQQPAVNqYw9%2BGTw%3D%3D&trackingId=aMWpnZNin2TgYCEE4diZOQ%3D%3D&trk=flagship3_job_collections_leaf_page</td><td>Data Engineer</td><td>Flywire</td><td>Bengaluru, Karnataka, India (Hybrid)</td></tr><tr><td>https://www.linkedin.com/jobs/view/4280132856/?eBP=BUDGET_EXHAUSTED_JOB&refId=EBSmkZioQQPAVNqYw9%2BGTw%3D%3D&trackingId=ngW3Yk868pVEItMSY3NA0Q%3D%3D&trk=flagship3_job_collections_leaf_page</td><td>Full Stack Engineer</td><td>PepsiCo</td><td>Hyderabad, Telangana, India (Hybrid)</td></tr><tr><td>https://www.linkedin.com/jobs/view/4271280137/?eBP=BUDGET_EXHAUSTED_JOB&refId=EBSmkZioQQPAVNqYw9%2BGTw%3D%3D&trackingId=bdAO%2B8jQWxFPiKwb%2BtuITQ%3D%3D&trk=flagship3_job_collections_leaf_page</td><td>Python Developer</td><td>NAV India</td><td>Jaipur, Rajasthan, India (On-site)</td></tr><tr><td>https://www.linkedin.com/jobs/view/4274202231/?eBP=CwEAAAGYgRSu0yaS5y0Tlyf9xBApUYTOI7z9t7vCRy-UpuwVe8LHwLPPPSDP5usEqCvifDix2UfFfJDB5XbQjCpBXhWP2QEUX4Co9o_DtYFAVor-i_EIq0wm2Shz_tF2npe2wEBta6aXYekMlhupQgBnwLnPsWQqT2NWVsqsWdbEcD4fcleIjRQKBN6QPYTswg0WuMs0RiCeF37VanKAMQr8fD_vkC05EY9jSQPRWt7Ia93X4RYe07BDfAoOzDNKPS_x2IPWkzH7UdYg-9eZXt1hT2Xs3XCepIuIU1S6-ZgyBEnWmvFkdjQ-gnkrTB_PMzAcLir0l8JL41KqH1mzEHiPeU1w1z7E-2epjVf3A2vVLsiqAVT3MjsT0j6spbBNpzGJIZghUUjumbVt-gAlawdo-ysZPalZoTp5TQHPFWoShSD6JBTbDIlG6BuAWN_xZs802mfDtjb90aiDZ8er5qTQgelf9Rj1IGLrc8Lr3pau8M0BBnMnzHmy_w9Xn58jFItBOm1gLFUbZ6b6BFIzgETE1_JC9u2kcxtUnQ&refId=EBSmkZioQQPAVNqYw9%2BGTw%3D%3D&trackingId=jiwVMb1aegFvy%2B%2BFBpo9NQ%3D%3D&trk=flagship3_job_collections_leaf_page</td><td>Python Developer</td><td>Vista Applied Solutions Group Inc</td><td>Bengaluru, Karnataka, India (On-site)</td></tr><tr><td>https://www.linkedin.com/jobs/view/4274041586/?eBP=BUDGET_EXHAUSTED_JOB&refId=EBSmkZioQQPAVNqYw9%2BGTw%3D%3D&trackingId=S4Y%2FTvkNT3bBUSG0zusF%2FQ%3D%3D&trk=flagship3_job_collections_leaf_page</td><td>Data Engineer</td><td>ThoughtFocus</td><td>Bangalore Urban, Karnataka, India (Hybrid)</td></tr><tr><td>https://www.linkedin.com/jobs/view/4278056971/?eBP=NOT_ELIGIBLE_FOR_CHARGING&refId=EBSmkZioQQPAVNqYw9%2BGTw%3D%3D&trackingId=tL0tOK7WsLfWzkrArNyvwQ%3D%3D&trk=flagship3_job_collections_leaf_page</td><td>Python Developer</td><td>Prometteur Solutions Pvt. Ltd.</td><td>Mulshi, Maharashtra, India (On-site)</td></tr><tr><td>https://www.linkedin.com/jobs/view/4278053425/?eBP=CwEAAAGYgRSu1JdlAnupeNTWOdazeBSeU8sxuLlcsHSgon2rNXsn2NvNBEF_-CKKsPUW5pVnXEFlQX5NspJzCJXXOeEhXU056x63pBZkq9veyp49TKSoq0Ntjtkga9QZogZUeGyAXARlBDY-uzdhOHDZO3R0TQ15PVTTerJ-0iLYIwcpTJz5GGFibUvm8dBAogl1zKcUuNFLW_AfWfbQfFQMix8uvJSactJ5iStb4cHz5dSnuT1J1S6Z5HbGm0kFLl2PjqT1oBLjkp8cpWwYU9ttuc3WqHRzYIi2GLAA9ITusOeHZN_EnA4ptz-0jaLTIp2rMhPi0L8R2Ax3ED02oGckv0z6hKZ2hQYVddWBEEPX__CabULQ09DB9yIpv-avZkEoVEaFlbfB5uZGTTiorUI0eo-CpdV0koEQ8rpdM2aNjZHsujK0s5Slw0Ag-3YZxHDeMMhC0C1lnG-oUFeMe5K-fmJw18joX3YEIlbv6bH1aLZnQfA3yKIt_H2WezN6gUiHrzg8z_MS7g3AcINptRSW0lSgVl6LPn4qew&refId=EBSmkZioQQPAVNqYw9%2BGTw%3D%3D&trackingId=yIrVVI4nggaCSczQpcSVfA%3D%3D&trk=flagship3_job_collections_leaf_page</td><td>Python Developer</td><td>NIIT</td><td>Gurugram, Haryana, India (On-site)</td></tr><tr><td>https://www.linkedin.com/jobs/view/4266230981/?eBP=BUDGET_EXHAUSTED_JOB&refId=EBSmkZioQQPAVNqYw9%2BGTw%3D%3D&trackingId=SAUSa3RE1GC3zL4q5zM5aw%3D%3D&trk=flagship3_job_collections_leaf_page</td><td>Lead - Data Analytics</td><td>Freshworks</td><td>Bengaluru, Karnataka, India (On-site)</td></tr><tr><td>https://www.linkedin.com/jobs/view/4277616307/?eBP=CwEAAAGYgRSu1OciLGpKKAU34yDQCFpmdP9i-d7AFG8kAQYoawBXq0-Wz4gW39Alnen7imlNrXWBA_hbYAPYX4AwNRpLIw8ETriJmMJQiZwQhP4tTzBHej7b6Cbt82AHjcw9ay4cp5qmmWf8YOXomY0PcZaQc-rdi8SYeX_yjZDHLCB8EIObMHyT7zxFL0Pt_rXoSKDZMppSsGXnOtI7WpF5Vc254-lGLQllbsNbstcgLQcbPNB7yBN15fgsLSTKyAjlqXjBkqBhz2zSL3hP09s_nwHLsq_UKm1xxxNYlbBZKKlv6HV5DkAzAQpdCp3eZ55QdESTw6pa509xdX4evMiTVfN9WUJfxCvbvAQHMHQOZjTk5AoYdib3N5q5mKTUV40K0vNxowotLUnLa-nq0iQOJI98sg3vme94eXmYwhOnXLeLvCUApZMX-Ni1d6U&refId=EBSmkZioQQPAVNqYw9%2BGTw%3D%3D&trackingId=u36Ji%2BX3P%2FKdP%2FWPadPnTg%3D%3D&trk=flagship3_job_collections_leaf_page</td><td>Associate QA Engineer</td><td>Cendyn</td><td>Hyderabad, Telangana, India (Hybrid)</td></tr></tbody></table></div>"
      ]
     },
     "metadata": {
      "application/vnd.databricks.v1+output": {
       "addedWidgets": {},
       "aggData": [],
       "aggError": "",
       "aggOverflow": false,
       "aggSchema": [],
       "aggSeriesLimitReached": false,
       "aggType": "",
       "arguments": {},
       "columnCustomDisplayInfos": {},
       "data": [
        [
         "https://www.linkedin.com/jobs/view/4277353126/?eBP=CwEAAAGYgRNcby_KMfZuM7o_bhgQ0uek5G8LIz3U7hjMncVVugI0W2_2x-lIQOk63MgV0pFj1MjE7HhaGb99RkLXZd7jc6H1r_q9un6ncxydzB4Zy4dvHyAMjBZusDk3BCMZXk6r9wePxGnPxBK6dsD_W2mnEKr3amupMQkiN3XZnOFFNNapGVk8qdkqTs0IAI_GeSbrH7zGtVWwYH6tXDFc27dAMFMF2a6J4ilRCR6xI7wl-bnmqR5plOLIXvROJcPcb4SEFZZYlH23vHwdNScpsPGI9Mo916ZU5ALO1qNqiqvKmo51EY2q6fT-5JM1Le5sgtVHSsi5njSw4f2kpL0fyUxR0TUd_ZMhrqCnSG5Kazaq7YI9f6mWYHAifiN_9F1GrdCMA54q9amRH6-AyDbsaL6ADQdVADtsG9iTYgiXgfkrd8sIwiRqXuDridZ34T7CKI_moz3IUU_2uFkqnLIxb8JZ4Z1mOexrhF65qQ6ZrdPpaGrubzWyhnwg9LegBFWPXreSmumgQ3yudbUw7lKA7yf50w&refId=VTdxZjP6Td02BrgNGEyD5A%3D%3D&trackingId=0ZNpZStGR73FRjLBjitcjg%3D%3D&trk=flagship3_job_collections_leaf_page",
         "Data scientist- Python- AI/ML GEN AI- Across india",
         "Capgemini Engineering",
         "Mumbai, Maharashtra, India (Hybrid)"
        ],
        [
         "https://www.linkedin.com/jobs/view/4279260172/?eBP=CwEAAAGYgRNcb2s1qwNtsjoHmBzkZDTfCaIKh4_KcJSW4K5JiGezWlAfSSyLqmqvwEafp0lfK62lGPaszLMuoV1OfHtTiORVAuYwAHvPaZDfL9IxslYvQCgpzQkOvgQn0XY8fm7aSZUuxoz7k7Yc7Lw8BeQ_1F32c10tfeAI-D4CeQhRLnRQBWyyE93S3Pu49_0uyTWM5jVFVUCLPlznkBnUNWydS41ETB_Uo7UraHzR7AcVTBhfZVXxOnND5xaN_rHwAOIR4G2PhIMccU0Xu0o12TqGbUIcmY4R4ecX4uuUmV7S0rJRHU4Y_3LRmfobxeU4olIHHRLzrplIj0vhltiH9ZzHjaBUXZLnl-F-bXK1wDrsKcDaXndTmPDVaAR_y7705p4W04jw3zL90AJC2sOfY3_gua9nr9LNtNp4jInWiQur_pibVwKWpYS7Bpzxe0aPZ3g7RnI4na45YjYWRaqT9qUpQ48A9EOl472r-QKDOLnE4hiNvo309xdSfc-fN0641ulh-irR-8fQPyiA85JS-MGCHHb3&refId=VTdxZjP6Td02BrgNGEyD5A%3D%3D&trackingId=DFyDIfGzjUfLe4OLD7lvgQ%3D%3D&trk=flagship3_job_collections_leaf_page",
         "Junior Data Scientist",
         "AB InBev GCC India",
         "Bengaluru, Karnataka, India (On-site)"
        ],
        [
         "https://www.linkedin.com/jobs/view/4277908502/?eBP=NOT_ELIGIBLE_FOR_CHARGING&refId=VTdxZjP6Td02BrgNGEyD5A%3D%3D&trackingId=wd9LH%2B3Su9OdfoKJvC6W6Q%3D%3D&trk=flagship3_job_collections_leaf_page",
         "AI ML Intern",
         "Hubnex Labs",
         "India (Remote)"
        ],
        [
         "https://www.linkedin.com/jobs/view/4280550072/?eBP=BUDGET_EXHAUSTED_JOB&refId=VTdxZjP6Td02BrgNGEyD5A%3D%3D&trackingId=Ffe%2FR0gnvKjESBdjFIr30A%3D%3D&trk=flagship3_job_collections_leaf_page",
         "AI Engineering Internship",
         "Deep Learning Titans",
         "Bengaluru, Karnataka, India (Remote)"
        ],
        [
         "https://www.linkedin.com/jobs/view/4216659912/?eBP=CwEAAAGYgRNcb7pUVP4u1ndn0ccV-twoDKQpJgzTyFXjquRaqv9YuqDQZUCU45geb-XqNGUhWk2Wa_HxKSjnD0-THpdrzhsQUfpW7l_bR0NrPt7usu5ESbW4P_Ir5Zn2vOah5YPpj6pmUn6XRg58awc94KFovwd6s1aQps8SFuD-2K0YiyNRZe4GtITl9PL-vqqPJZ0DjkdoGpB8enCloNl16jPlUJQuLOqmbgz82Ger8j9uD6yG0Ed0O_pT2zqrhe5vKbeSsicsWej7xA-zmKWxKMW5g9jVUCCACej2rXoqJXlhpCWWFnhlvHunaIFL4U6bY1cr1_H0P6C63_a4gsFrrnvbzqk4xruhemFXZ01c0UoZz59IvX0zy81w9GU5m45E7vf1zrix-zphjYUpFFcBM0o4VnIEeVKGSUiLvueXSVsT-VOf8G88bRZX_7QRNBLu0w3Atq8WjuBgx7-5pvOyNIyvNF96Q2iZoIBmL-6KRWF3UWu1Qc62P_FRZBzoxjEgVozczLPlgnh10st-Vf9XdZuiQD6I&refId=VTdxZjP6Td02BrgNGEyD5A%3D%3D&trackingId=DBYgLD94oNPi0dzDo%2F0TOw%3D%3D&trk=flagship3_job_collections_leaf_page",
         "Gen AI Researcher",
         "HCLTech",
         "Bengaluru, Karnataka, India (On-site)"
        ],
        [
         "https://www.linkedin.com/jobs/view/4274222266/?eBP=BUDGET_EXHAUSTED_JOB&refId=VTdxZjP6Td02BrgNGEyD5A%3D%3D&trackingId=bfRBbJuyo7u9QHzDgWM%2BAQ%3D%3D&trk=flagship3_job_collections_leaf_page",
         "Data Analyst I",
         "Navi",
         "Bengaluru, Karnataka, India (On-site)"
        ],
        [
         "https://www.linkedin.com/jobs/view/4277354782/?eBP=BUDGET_EXHAUSTED_JOB&refId=VTdxZjP6Td02BrgNGEyD5A%3D%3D&trackingId=a62Q7extgMqaT9qRq4geaw%3D%3D&trk=flagship3_job_collections_leaf_page",
         "Junior Data Analyst",
         "The Guide",
         "India (Remote)"
        ],
        [
         "https://www.linkedin.com/jobs/view/4280144071/?eBP=BUDGET_EXHAUSTED_JOB&refId=VTdxZjP6Td02BrgNGEyD5A%3D%3D&trackingId=vgkb%2B2Cf%2FIrsrTqwqKQsDw%3D%3D&trk=flagship3_job_collections_leaf_page",
         "Python Developer",
         "LTIMindtree",
         "India (Remote)"
        ],
        [
         "https://www.linkedin.com/jobs/view/4279278278/?eBP=BUDGET_EXHAUSTED_JOB&refId=VTdxZjP6Td02BrgNGEyD5A%3D%3D&trackingId=uYbbAZHlkuRTf55jYHMLyA%3D%3D&trk=flagship3_job_collections_leaf_page",
         "Machine Learning Engineer",
         "Tecnotree Corporation",
         "Bengaluru, Karnataka, India (Hybrid)"
        ],
        [
         "https://www.linkedin.com/jobs/view/4274305695/?eBP=BUDGET_EXHAUSTED_JOB&refId=VTdxZjP6Td02BrgNGEyD5A%3D%3D&trackingId=fJC15olWXCub2haFX3DtcQ%3D%3D&trk=flagship3_job_collections_leaf_page",
         "Associate AI Developer (Remote | Flexible Hours)",
         "Pravartan",
         "India (Remote)"
        ],
        [
         "https://www.linkedin.com/jobs/view/4279997390/?eBP=BUDGET_EXHAUSTED_JOB&refId=VTdxZjP6Td02BrgNGEyD5A%3D%3D&trackingId=2j8NIR5PQefhdtHQD1wuRA%3D%3D&trk=flagship3_job_collections_leaf_page",
         "SQL or Python Developer",
         "HRM Counsel Private Limited",
         "India (Remote)"
        ],
        [
         "https://www.linkedin.com/jobs/view/4275952439/?eBP=CwEAAAGYgRNpqyHT-WEjS04882Hj9u_yQpEwLAaYqLnkdpMaPI9Wg_Iac36A6p4Iy5bk6RvUNHk3JMh-ZWrIgs3JGFsSjhzAJfdaO0TjVLErO5QWcqIf4HufnKC_roMTu5pGpBSArCNMXcv8UNVlq8vThrmfV7w8jFj-ZB55PsRH_zEy-24RWZ2cKLvbT5eRQG93R6k1m2wGEOo_eRpp5D6-HBqlYEIW5hjAX3tuPVmlSXCWgV6Lo4o-XUXmqJ9AHM_7lToHxLOBsJhvlBQ9TnJzBOuf6JshVnchADnj9ad9eQoS1MClf7ih7S6_UX9dpk9zYmDGeK9HDi54BpF5Q7Y3Yo0bshd2V7-tXh4RxADm-jdoXodWc5nImV6a9j2iB-3yGFXqnYCa3zx3dY8aCXMpA1dTt8mJl97f3f-GKaOTE5GGDpMV7Z3SgEN1SAFU0sKWpTOwIXQIBKNUqWALq53mqeRaAsxeJGKverevXxhdbT28cnx2iPaNVF0OYFPcczgDZrnYEScrKstcClOdakatOKg&refId=jnPkbUaJgtXfmJknzztCHw%3D%3D&trackingId=IiWTfDrqeLuyzXP8wDIhqw%3D%3D&trk=flagship3_job_collections_leaf_page",
         "Data Scientist",
         "AB InBev GCC India",
         "Bengaluru, Karnataka, India (On-site)"
        ],
        [
         "https://www.linkedin.com/jobs/view/4280156304/?eBP=BUDGET_EXHAUSTED_JOB&refId=jnPkbUaJgtXfmJknzztCHw%3D%3D&trackingId=T9T6O7mFfNe749lbQNoeDg%3D%3D&trk=flagship3_job_collections_leaf_page",
         "Remote Data Science Analyst - 17843",
         "Turing",
         "Bengaluru, Karnataka, India (Remote)"
        ],
        [
         "https://www.linkedin.com/jobs/view/4279597899/?eBP=CwEAAAGYgRNprJ7uURE3YHs3KKePwQuCG8SmvwHcI_C6zS1vfVzTIlh3hVa-7bMfEI1B9UwC7e9Da8XXaMFzqUbr9zPz4jPIGApqqrNgVyiNfbuoe0HxY0MlYkBepQ1urxIgdNGl2n7N3SeqazdpmHml7iGKSgUt9_a0DJsU2OJK34RkUh1mMPa-_gmSCm0xuV1G7HTWbJOzEgmyAWd3Z_OjmoA78v_6ZJcv5SMclsmOWK7_hFBIHR9vSRp3DNdCVaNRha2aXirFv7A7PyRv7q1f5vak_-miarZNCZvOHdhK4YE9rxO6knO_sI2KQsFRvy2_TuhQy9Fin8FQlSoE4BAnJIfgmy-BkPoQOx4uSKqCJLvdFfZw1hq2kdbB_3FUnmVb-r_2XPXp47tx2CRET3eFmvHNl6ObAAb6CP0lKZI-vJBdaFmFi-wN0LL4lahTkEDF517_pEmHYhpy813BsCRwAqIENxWYnmv_r_OptZvmwCIz8k8dTtIdFkzj2LpQuIg8d1GZ4CMNQ8ALEOhx0BrxOHICwg&refId=jnPkbUaJgtXfmJknzztCHw%3D%3D&trackingId=OT6kt4M4ESPfkhyKrDQVVg%3D%3D&trk=flagship3_job_collections_leaf_page",
         "3D Computer Vision Intern",
         "Sony Research India",
         "India (Remote)"
        ],
        [
         "https://www.linkedin.com/jobs/view/4272868090/?eBP=CwEAAAGYgRNprBnKCDkS6HutgFZAHbFwjKz_mxCDEc4DKsm5ldmrH_iDFPLDdoU98OPfsrmNBwXZFaDOl2MnBgUyLPUUOO_99W-KWbJaX7NqjBxrBROEtcQ0AxIgfeUwyW8IzabHyjMr42UdHpaIOVpk4LJrvaoeDprmYBucBryTmpAZ7QzkaBikcu1uoUvg82-2uxhZkis7JFEDH0DvS911eFRO_M1gZJSPfJlzuphp5g10GaDtX5HCoaQKZHE3KY_y2Hg0nPrW40tn2gthsxhHxek36o_danT5zIX6eSVrHt3cr1pSu2-kY0qOIhOrzaKgeDTgIsn7LzndfvgSaFiZLvmQoZfjNICSjuNYn_XJ782wxIyMg_OYYXcFqc-dOP35hvsSsk-jH_pnXgoGNA2wLYh2uyUuPm7sq4mo5hmGszOxZMAQ7PXkyP8BVo9ewOC4KHHboyJ5DQ9n2Jp8pC-nVmFy75IYkm3hehPZJLiPx0JSEU-VvxrHlXugCxT1NbNqiYZrUB5AK97EdmBgd9S8gj6_1Q87&refId=jnPkbUaJgtXfmJknzztCHw%3D%3D&trackingId=m4W7sy9k9qaPNDo71rpXpg%3D%3D&trk=flagship3_job_collections_leaf_page",
         "Machine Learning Engineer",
         "Capgemini",
         "Bengaluru, Karnataka, India (Hybrid)"
        ],
        [
         "https://www.linkedin.com/jobs/view/4280599999/?eBP=BUDGET_EXHAUSTED_JOB&refId=jnPkbUaJgtXfmJknzztCHw%3D%3D&trackingId=Ik53abofLEWdZv%2F1KPL%2F2Q%3D%3D&trk=flagship3_job_collections_leaf_page",
         "AI Engineering Intern (SDE)",
         "Darwix AI",
         "Gurugram, Haryana, India (On-site)"
        ],
        [
         "https://www.linkedin.com/jobs/view/4277927708/?eBP=CwEAAAGYgRNprOP_oooAdlJczu9h3w2v6OUArF5QTtQ7c2XXsHXnbzlJNFDwTOXzBgNKtshb_I8au0mhJaNaph73o-Sq3kTmC0mTuTMcx5tsiN9cw1j6UlfgnMAjky6vU6BJJgSYEidJKgYTiRnz2SiRUs2YdefReTWdrZEuSKhcU49AImlIBw1elcmM3o0ikG_YR_I1VgwE7S-d9fWCRHLOCVALQ6AUgWJqBpvgmcppZS2R5WTQJE9JjevIoJQQqowZS7J7O85d6xpx6lPkvfnTzuvk2y0IcpoUzcSxdxx63aUs6eXhEFZnkpUUER_PFGZ7LmjSgIceC5vVETS89V6D4bufUxNsUaeRp6tzpWV0vhkSq7ghEmXxs0x25Hj_UuPqg5fdux97Ad_AjQ4NiOoGd1Qij7-6VQ-V0iS0lBI22hHTPQc-a0cyiZo6zxcVGoMStNhof5NAa3ReUyMTXVRe1b0gSojyi5bynmWu54EHCwCqJgmnvHNLdnvf0bvy5hFP0bD272U2-G-j1nJsZEkPRNWJNQ&refId=jnPkbUaJgtXfmJknzztCHw%3D%3D&trackingId=kpze6nqcO4zCHyRrbznPhw%3D%3D&trk=flagship3_job_collections_leaf_page",
         "Machine Learning Engineer",
         "Insight Global",
         "India (Remote)"
        ],
        [
         "https://www.linkedin.com/jobs/view/4222830764/?eBP=CwEAAAGYgRNprAnr9aF9EkqD1FwbnSS3riVgHFL-xuCtKJRPjLWqeJPTdW0MovTKXX8l1xv8WmT8PhmElm37SglA7Gbg3jJwrnZ4K8P8BUYREm8-U9kIOklwjcPispRP0bHDBbDlocu5HT3x-g6JIjGNaNAFh0Ct87ml0bet3_U4qEHcWMCCf3G1n_77pK_rnzoVtwgQ0VDvzwEDXK33Nv3Oni5Wo5_E1mFVzCACpPROP5SccJJPxz5st_fwUsc--R-SUfaysP_bkbW7cUfJgIB0NEYuPBnPAXDf9IP5Z2r_-9kSaRAD7ugUK_Q87-vdD9IaFM2pA8BjoDahTj0L1tc39IEMFTCSSSINAL9FLkfTxyMLZv8Wuy4w95F6VCh_2f2orGs9KqoTeGl5GYE_LB9VKVeOiIq2jB1VdpA-IBGOk4UnG7tyTDorBZqJoICim7Kcf9ex43w3kRHAToCl-Vqv-kAweAsvwFodK7Kr5RGGuM8M6yrQK6pnKnw5BLQ2Z2tvd9R235oLRAVMVbnM84n3gvaG8Zlu&refId=jnPkbUaJgtXfmJknzztCHw%3D%3D&trackingId=EbKQwPsh7xIkxjtR%2FYQKrw%3D%3D&trk=flagship3_job_collections_leaf_page",
         "Data science intern",
         "EVERSANA",
         "Bengaluru, Karnataka, India (On-site)"
        ],
        [
         "https://www.linkedin.com/jobs/view/4277368921/?eBP=CwEAAAGYgRNprer7s6kT-XxKQaF21PwnVIuzArtqRFD4649C6G5_HhT_1aS2fQaYahV46VNP39vVzuEgFTbtS4jQWB_7Sv7Ute8nXHrl5f1vjmKQjGDcqVyIj6gqkxp51e_Pn8qK3nMfjM_GOFbXzgmI5OAAFxxQ16cEMkHy1ztdL83_ip9Uu2W-ROM3Pu1MomnjNFjZcaexvieEWuKsywKoLH7MZhkTmYFW7gjNAnc72PXTvRY3ZVLG_5xcxbUx8HjZKaIQ6MKf5E25ZkMuvF-UO8MgRbrZ9xZJtnU_Icb6hUUdvUtc_IbEzzfe3jJmryKiHa1mdr6-vEfaKT4EilVD1-6dpcZ0lq9Eub1drlJl74BfvZECDzgMoAE0BlNESB6NouZI45ld6br3YVaCOGS2EpAkqvzuGbGPnn6-BJ4rvRPa0rsAyHkD0Vc6EwxGvA9bPhhw5u-ntdyH4myFgWK6_hFT5w4Z-9JUWAgD5mx7cr7fcMFqIrg3Be4He7OKVXNp91XGJiYyaZmwBVonIotzIXE6Ag&refId=jnPkbUaJgtXfmJknzztCHw%3D%3D&trackingId=AnIAsKIo9zVSD7DvHLzcDA%3D%3D&trk=flagship3_job_collections_leaf_page",
         "Digital Champaign Internship",
         "HDFC securities",
         "Mumbai, Maharashtra, India (On-site)"
        ],
        [
         "https://www.linkedin.com/jobs/view/4274097889/?eBP=CwEAAAGYgRNprQRKbBkb21jUfD2RLxds_f9OBopl9Z-IRr8LXqNd6UKi4Yytfk8EGYmfWCbsEmVol6K6p0iJvMxESg_HeveGXvrKgcZ5L3n0kjzm_ZAZ_0gCPxvPsVx6bzVdnpZT7sYIRXUYjuxjIUied1sraFSw89622eJ9-vKZt0OEGALTPeM6ZqZCQ3LMDsb2NoR2ozoF-5ysHXUGs2s1HPxUS6q1g6zewc1PKXho2p4_dSiT8QLqWD0i0NcZpzy84fvpxRpH1bVyvOEFPQhEG6II8ADuSWsW7liDA3dHejodc2ggSuemWpvk11QoTz8TmBnbR5Htxms4lyK4hmk1OBwBFmaW5O7uvDp0cJERGwe73AYf82qkCdfCf5cX46idm36Xagoub52A1LqIR8RQNoFig88bBS73bl-wFxIWpPptXLzZJpyh1bt8jBC10WwBLvZkMR9tYb9FMRkd3VBm1_g5rPpJ--8Uzmuhn8GUeQjIncwrK40-qNgcUjeb3NjlrZfThMBVK3xRLd7yYnUFNrCH9g&refId=jnPkbUaJgtXfmJknzztCHw%3D%3D&trackingId=jJNRm%2BYr7Q74Y%2BY4QYXD3Q%3D%3D&trk=flagship3_job_collections_leaf_page",
         "Data Scientist",
         "Pentair",
         "Noida, Uttar Pradesh, India (Hybrid)"
        ],
        [
         "https://www.linkedin.com/jobs/view/4274697931/?eBP=BUDGET_EXHAUSTED_JOB&refId=jnPkbUaJgtXfmJknzztCHw%3D%3D&trackingId=b%2FFOO62TY%2BIrjYqTPhpmqA%3D%3D&trk=flagship3_job_collections_leaf_page",
         "Fresher Cloud Engineer",
         "CryptoChakra",
         "India (Remote)"
        ],
        [
         "https://www.linkedin.com/jobs/view/4277577862/?eBP=BUDGET_EXHAUSTED_JOB&refId=jnPkbUaJgtXfmJknzztCHw%3D%3D&trackingId=TmdIiTagaheh8MU7Gd%2FL2A%3D%3D&trk=flagship3_job_collections_leaf_page",
         "Full Stack Engineer",
         "Orbital",
         "Hyderabad, Telangana, India (On-site)"
        ],
        [
         "https://www.linkedin.com/jobs/view/4280159123/?eBP=BUDGET_EXHAUSTED_JOB&refId=wL%2FRMpLMnaJ0PmhOiDKXgA%3D%3D&trackingId=94y1ZHcxTdsmNJo5kSZtRQ%3D%3D&trk=flagship3_job_collections_leaf_page",
         "Remote Data Science Analyst - 17843",
         "Turing",
         "Hyderabad, Telangana, India (Remote)"
        ],
        [
         "https://www.linkedin.com/jobs/view/4279992774/?eBP=BUDGET_EXHAUSTED_JOB&refId=wL%2FRMpLMnaJ0PmhOiDKXgA%3D%3D&trackingId=kImrvh6mYAzViXgBqWIeuw%3D%3D&trk=flagship3_job_collections_leaf_page",
         "Speech Generation Intern",
         "Sony Research India",
         "Bengaluru, Karnataka, India (Remote)"
        ],
        [
         "https://www.linkedin.com/jobs/view/4280776208/?eBP=BUDGET_EXHAUSTED_JOB&refId=wL%2FRMpLMnaJ0PmhOiDKXgA%3D%3D&trackingId=EHXgxqpbXfDHfsbRkKHxjA%3D%3D&trk=flagship3_job_collections_leaf_page",
         "Python Data Analyst",
         "Persistent Systems",
         "Bengaluru, Karnataka, India (On-site)"
        ],
        [
         "https://www.linkedin.com/jobs/view/4275076258/?eBP=BUDGET_EXHAUSTED_JOB&refId=wL%2FRMpLMnaJ0PmhOiDKXgA%3D%3D&trackingId=%2BWunzS%2F5uot4kOkMFZR1jA%3D%3D&trk=flagship3_job_collections_leaf_page",
         "Full Stack Developer SDE 1",
         "NxtWave",
         "Hyderabad, Telangana, India (On-site)"
        ],
        [
         "https://www.linkedin.com/jobs/view/4277562941/?eBP=CwEAAAGYgRQ36KJWeNRiTl4P1fOxEdXUglM7W0wWnlj-FUD4OvaatfSHVGToct-V6k-FTdD6vf9eBfgTvfz_CjlyZQoC69e-Qt9RC8t3lwYCa6lNFBK-bvgf-OovgqJeuRptFUf_xqcDhISYZwY43By2tTgGhNLYZpMreCTfWLJegs5rhro37rbumq2u6kahE6zBKHFpZ5LyiEr7Tb499P0Sze5T8DRJEkEHB7ESzoGdf0lyV6eiqSuzQG7DycDW7uwbIBM6CX1y2pH93yqRNqzOMhurzKKB_1iJVY6YS9tEHRAojOHfGqb24hDgL-GZd8e6TQGYSVlcm70Wo7noiGYpZPa-qMZJK2wD0w3jgaM1O403HF7lPRPTgU8V6ZP4o-7JPCVqGCdvDwASQnppvl4XTeM50fYTcavy61vWNSszNy9_cI4AkyH7TTwoQkkbFBtiz6iNYjOTKMxvmK_uwIEYWl74S6tiy1PHTKjTroqoBreISak5Bi2UtvuzssTmkN6scRMjT8z1r7MQXf9qsayQ6qEA7MzCQbM&refId=wL%2FRMpLMnaJ0PmhOiDKXgA%3D%3D&trackingId=zW0MpxhxrZI3Z0iA8iI3Lg%3D%3D&trk=flagship3_job_collections_leaf_page",
         "AI - ML",
         "WNS",
         "Noida, Uttar Pradesh, India (On-site)"
        ],
        [
         "https://www.linkedin.com/jobs/view/4280831022/?eBP=BUDGET_EXHAUSTED_JOB&refId=wL%2FRMpLMnaJ0PmhOiDKXgA%3D%3D&trackingId=5bOjCxntA6c0UczcZKotvg%3D%3D&trk=flagship3_job_collections_leaf_page",
         "Full Stack Engineer – AI/ML",
         "2Base Technologies",
         "Bengaluru, Karnataka, India (On-site)"
        ],
        [
         "https://www.linkedin.com/jobs/view/4273880274/?eBP=CwEAAAGYgRQ36GdbbgjA4YX2rUBvzoOaln0-D5vjRna3N9-iZ1lnI5vikD8T-NZPb-RNb5ovwVs--4Cgx-Z5WhHJdwmvtzxKZtJ0wUjg7ROxEeNQwqXReXIDhlar7mfWyQr4-DPb_U7xgIQVWg9hJ7gOUuOoJnA_6XPxTfXWUNOexvT_qkg3ucd0hT1uotEH4__jbBJldqXDCAdFtnP0RGIZuaVrtJFw3-2bPUfwpSKdz1J5wAHDMWTz9fWTncqqgRXDxtGHUn8m8U3L5K2_ZuPtYGhDW-rx6RHVvGghxFmh9aQdBda99tX1On7D0UnOtk8xmEr3u0DEBO2cwtKzH4r6b3LcZTDZ-Z1SY_x-hohx7eZNBCzx4czuHVXzGlYn7yEJJ9p5AYvfA5IGMI9gC0IralcK7lXENnQVripR7DCjeP6tvlh8x7PYZmahvQwR3OlmcNK2LNo6tmOUp3Edka2_QLHvLGMhok6AJigGZgg9uXXChgA&refId=wL%2FRMpLMnaJ0PmhOiDKXgA%3D%3D&trackingId=MVIyF4JFHcOa6FGm47LOXg%3D%3D&trk=flagship3_job_collections_leaf_page",
         "AI Engineer",
         "Zenduty",
         "Bangalore Urban, Karnataka, India (On-site)"
        ],
        [
         "https://www.linkedin.com/jobs/view/4219931313/?eBP=CwEAAAGYgRQ36ETVhwHJ1MGAobk8UMYim2dc_9dihoaYx5f8WqdJY4gSSjREJF6MiQuh6uJRw3LKAaUN1SR2_6eWHnKSRuYPPfuR0piYsqNxPBt8eGS-hDo3lbJM6Ni-Kamhf-VD-muRhHj7_JOqjXXY6549a7Bdja4sX38-yiX8ppQZlJR9XSzruOsWNm88EuTpwu3JsdSYkjpkyF8QjLgNhZSA-OjMvF9IhNY7ZZbAJwm08GQsYNRg0lOrBX7LoV68qmzm4Hvnb6dp8PMb_jvJg6PiLY2IRebjvqu4NkPakDYtUnJafqEJoEhFxyhEr-xeOTiNjlPuz84rrgQxlJQkjwdCND_lBelQ50bHKt2peqPvgwmkR02s1p6KpG3goe2ib4btjom_39ZYzG8cQrtSFkaf2LlFu4vFMpFW3Sk0U5Q8xf1jehwx6q5Nd7D0VuvDSxlclhCFNBG3X4CfaXjX2iIsGBuEpigDly1mrk_HXSLGYWp03_4IERkiQ8Rec9xp23olkkHUrfgyEOG_QENAr52dKvF8&refId=wL%2FRMpLMnaJ0PmhOiDKXgA%3D%3D&trackingId=9u1%2FGL3Xr38rRkB0FsVS6Q%3D%3D&trk=flagship3_job_collections_leaf_page",
         "Software Engineer (AI / NLP / ML)",
         "Nextiva",
         "Greater Chennai Area (Hybrid)"
        ],
        [
         "https://www.linkedin.com/jobs/view/4279543215/?eBP=CwEAAAGYgRQ36UlOYVyTOZF_hYfxTDWx5r1tIRN-hCtFStUXTBJ-Z4EHYpIIstgxiA6WO1yEUNYF85Guk9ASZAm9IdzobkyrafGXWtI4d3gYAKAz7WYmcJM1oEcSF3AVnEqgnsCKC0NIa5bywNYhVvAvV7HW-Fcat9Sb3ZKozwotvE9u_QlOKaSnya9lmz9EyFm4xWqicvFDhgNIY2jtQ2C6snx8_SnKPkstorBuJoFRFC_j0kmv0AlaD9vXRILdL_OJRY1wKx07k_f4jx4tSPvTC6Q6MBjiFN4YXg5yUPzZsqsD2QbTfwGfHMXERv6fUWRq8jKREj7yC3Fke0dV8-QAEd0poJip6RHAqobjzZ_QTh32zticN6gnHLuGZ9tuc370aApQUxAVwUkQ3VQoAKnXCwMuFflqDL5-XYp3ZPlKTFvAEHPHXJZEiVWzdI0wqEPQZPtV4ZId5RtKAKVBelhDxnCNebcIrKjZ7i4VMGAGeNyQDwJ-XqOES1dW2Mbyv3uI0kb4g90xN9ePDqDGvLW3VI4jykrYY8E&refId=wL%2FRMpLMnaJ0PmhOiDKXgA%3D%3D&trackingId=SM83wi2ga4rRTDNC%2FmKhUw%3D%3D&trk=flagship3_job_collections_leaf_page",
         "Data Scientist II",
         "Talkdesk",
         "Bengaluru, Karnataka, India (On-site)"
        ],
        [
         "https://www.linkedin.com/jobs/view/4275972625/?eBP=CwEAAAGYgRQ36fbQnx5QxkgMAUj13mmKBsQtKKOFRYaG95z9FdG-Eb53i0Oun4LOgQMgxCkif3giCM514RqQYw1ctItO7lDBskQVQayMD7G1UACKCHxv5L9PBwiTt4Y-b_T-rFOc1MEc6-Kg4q8i6JzQvUfohUrFS9ULMtxCDs_ekVGaDVohU9PWmXmT6v7C-Tx2Jg7rz91tOsRyLiLHphbQsFC-H6-1cLeLEV2X06RsxCUKhPLnNCjhRGpYWENu2E3LRzBWYqYqzRy4CHnVoKjrzFSZmX2Z8Qc4bhSWIEj3IRIk7nP96GJexOtYCmKkG6t6K2e5jZ3cMDmCreo2XuY5Sk5K2NqGmT3Q4sUTlSFkJ87fSnDKIum3DTcuFHCgS8wghD88OAZP9am4UU4VYChvChas-cyLTsmlHSaRIMVHQXOyeGQZ7xczJK1Vdy671NX8xZoSoR7qr_DXAooeiPnMqM2ymm_8WXCuVnMTLh_GBQEF1ITnWyKRIetF9UNwpj5S9AaoK1tIc3iE9ltKvC0nCMZWBdqX&refId=wL%2FRMpLMnaJ0PmhOiDKXgA%3D%3D&trackingId=pEYLZvwd3MzmQGvAnirMjg%3D%3D&trk=flagship3_job_collections_leaf_page",
         "Data Analyst",
         "Newsweek",
         "India (Remote)"
        ],
        [
         "https://www.linkedin.com/jobs/view/4277363295/?eBP=BUDGET_EXHAUSTED_JOB&refId=wL%2FRMpLMnaJ0PmhOiDKXgA%3D%3D&trackingId=2cLqtEczLm%2B40hNj6AHMRQ%3D%3D&trk=flagship3_job_collections_leaf_page",
         "AI/ML Engineer",
         "Grow Your Staff",
         "India (Remote)"
        ],
        [
         "https://www.linkedin.com/jobs/view/4280159123/?eBP=BUDGET_EXHAUSTED_JOB&refId=wL%2FRMpLMnaJ0PmhOiDKXgA%3D%3D&trackingId=94y1ZHcxTdsmNJo5kSZtRQ%3D%3D&trk=flagship3_job_collections_leaf_page",
         "Remote Data Science Analyst - 17843",
         "Turing",
         "Hyderabad, Telangana, India (Remote)"
        ],
        [
         "https://www.linkedin.com/jobs/view/4279992774/?eBP=BUDGET_EXHAUSTED_JOB&refId=wL%2FRMpLMnaJ0PmhOiDKXgA%3D%3D&trackingId=kImrvh6mYAzViXgBqWIeuw%3D%3D&trk=flagship3_job_collections_leaf_page",
         "Speech Generation Intern",
         "Sony Research India",
         "Bengaluru, Karnataka, India (Remote)"
        ],
        [
         "https://www.linkedin.com/jobs/view/4280776208/?eBP=BUDGET_EXHAUSTED_JOB&refId=wL%2FRMpLMnaJ0PmhOiDKXgA%3D%3D&trackingId=EHXgxqpbXfDHfsbRkKHxjA%3D%3D&trk=flagship3_job_collections_leaf_page",
         "Python Data Analyst",
         "Persistent Systems",
         "Bengaluru, Karnataka, India (On-site)"
        ],
        [
         "https://www.linkedin.com/jobs/view/4275076258/?eBP=BUDGET_EXHAUSTED_JOB&refId=wL%2FRMpLMnaJ0PmhOiDKXgA%3D%3D&trackingId=%2BWunzS%2F5uot4kOkMFZR1jA%3D%3D&trk=flagship3_job_collections_leaf_page",
         "Full Stack Developer SDE 1",
         "NxtWave",
         "Hyderabad, Telangana, India (On-site)"
        ],
        [
         "https://www.linkedin.com/jobs/view/4277562941/?eBP=CwEAAAGYgRQ36KJWeNRiTl4P1fOxEdXUglM7W0wWnlj-FUD4OvaatfSHVGToct-V6k-FTdD6vf9eBfgTvfz_CjlyZQoC69e-Qt9RC8t3lwYCa6lNFBK-bvgf-OovgqJeuRptFUf_xqcDhISYZwY43By2tTgGhNLYZpMreCTfWLJegs5rhro37rbumq2u6kahE6zBKHFpZ5LyiEr7Tb499P0Sze5T8DRJEkEHB7ESzoGdf0lyV6eiqSuzQG7DycDW7uwbIBM6CX1y2pH93yqRNqzOMhurzKKB_1iJVY6YS9tEHRAojOHfGqb24hDgL-GZd8e6TQGYSVlcm70Wo7noiGYpZPa-qMZJK2wD0w3jgaM1O403HF7lPRPTgU8V6ZP4o-7JPCVqGCdvDwASQnppvl4XTeM50fYTcavy61vWNSszNy9_cI4AkyH7TTwoQkkbFBtiz6iNYjOTKMxvmK_uwIEYWl74S6tiy1PHTKjTroqoBreISak5Bi2UtvuzssTmkN6scRMjT8z1r7MQXf9qsayQ6qEA7MzCQbM&refId=wL%2FRMpLMnaJ0PmhOiDKXgA%3D%3D&trackingId=zW0MpxhxrZI3Z0iA8iI3Lg%3D%3D&trk=flagship3_job_collections_leaf_page",
         "AI - ML",
         "WNS",
         "Noida, Uttar Pradesh, India (On-site)"
        ],
        [
         "https://www.linkedin.com/jobs/view/4280831022/?eBP=BUDGET_EXHAUSTED_JOB&refId=wL%2FRMpLMnaJ0PmhOiDKXgA%3D%3D&trackingId=5bOjCxntA6c0UczcZKotvg%3D%3D&trk=flagship3_job_collections_leaf_page",
         "Full Stack Engineer – AI/ML",
         "2Base Technologies",
         "Bengaluru, Karnataka, India (On-site)"
        ],
        [
         "https://www.linkedin.com/jobs/view/4273880274/?eBP=CwEAAAGYgRQ36GdbbgjA4YX2rUBvzoOaln0-D5vjRna3N9-iZ1lnI5vikD8T-NZPb-RNb5ovwVs--4Cgx-Z5WhHJdwmvtzxKZtJ0wUjg7ROxEeNQwqXReXIDhlar7mfWyQr4-DPb_U7xgIQVWg9hJ7gOUuOoJnA_6XPxTfXWUNOexvT_qkg3ucd0hT1uotEH4__jbBJldqXDCAdFtnP0RGIZuaVrtJFw3-2bPUfwpSKdz1J5wAHDMWTz9fWTncqqgRXDxtGHUn8m8U3L5K2_ZuPtYGhDW-rx6RHVvGghxFmh9aQdBda99tX1On7D0UnOtk8xmEr3u0DEBO2cwtKzH4r6b3LcZTDZ-Z1SY_x-hohx7eZNBCzx4czuHVXzGlYn7yEJJ9p5AYvfA5IGMI9gC0IralcK7lXENnQVripR7DCjeP6tvlh8x7PYZmahvQwR3OlmcNK2LNo6tmOUp3Edka2_QLHvLGMhok6AJigGZgg9uXXChgA&refId=wL%2FRMpLMnaJ0PmhOiDKXgA%3D%3D&trackingId=MVIyF4JFHcOa6FGm47LOXg%3D%3D&trk=flagship3_job_collections_leaf_page",
         "AI Engineer",
         "Zenduty",
         "Bangalore Urban, Karnataka, India (On-site)"
        ],
        [
         "https://www.linkedin.com/jobs/view/4279273971/?eBP=CwEAAAGYgRQ36HcC61SuAcAS2snyYNEPsiAOHIsdXe4s7KF2-bICtaT3I3RK5t9J6nmjQ2dgvkjVu90zBDbxuqJZ591TrEj2J1kFtkC7C4U7mWQwCkyggpaW3KejlB17XdVk57fM2cQhHfuO8NfYCsnuDml2I8Vxy8M3QXHPvQ_x_uZ7MEcTrODfYVpgi95bpIHXbv0CdBF7a8QFbzUBBF1avK6q307hkkov3cuKvy0sF4_zOZsxxwWrPuM8b_G2AOh30zLqGXFkrCSvXybpwEQY0Y3INb6dT41DHbhtOLQvK4ydkwBTepvGKffHV500x6P3WQKHTq9VIBWIKme9LdYCr70TQ9LFleB72i8uwxFvdSXWmdj02q9Eig6wBMD8eT0ukoYP9U_6F81mSCbcgugzHXYg1RCpOf3J5jNnRpgcZAYGQXQWsdChmbStBTG9oq9TM5p57xRy1R6qCbSJIy6Lmyy91PEqt-G-NGcCNTC5XIQBe2o1uYlDzp7RXiLviz78ZpUmWsrLFBE7cI01WIKj_NM&refId=wL%2FRMpLMnaJ0PmhOiDKXgA%3D%3D&trackingId=TaayOEKtud5QcgfcEDO1%2FQ%3D%3D&trk=flagship3_job_collections_leaf_page",
         "Python Developer with Javascript and Cloud Environment",
         "Ampstek",
         "Bengaluru, Karnataka, India (On-site)"
        ],
        [
         "https://www.linkedin.com/jobs/view/4219931313/?eBP=CwEAAAGYgRQ36ETVhwHJ1MGAobk8UMYim2dc_9dihoaYx5f8WqdJY4gSSjREJF6MiQuh6uJRw3LKAaUN1SR2_6eWHnKSRuYPPfuR0piYsqNxPBt8eGS-hDo3lbJM6Ni-Kamhf-VD-muRhHj7_JOqjXXY6549a7Bdja4sX38-yiX8ppQZlJR9XSzruOsWNm88EuTpwu3JsdSYkjpkyF8QjLgNhZSA-OjMvF9IhNY7ZZbAJwm08GQsYNRg0lOrBX7LoV68qmzm4Hvnb6dp8PMb_jvJg6PiLY2IRebjvqu4NkPakDYtUnJafqEJoEhFxyhEr-xeOTiNjlPuz84rrgQxlJQkjwdCND_lBelQ50bHKt2peqPvgwmkR02s1p6KpG3goe2ib4btjom_39ZYzG8cQrtSFkaf2LlFu4vFMpFW3Sk0U5Q8xf1jehwx6q5Nd7D0VuvDSxlclhCFNBG3X4CfaXjX2iIsGBuEpigDly1mrk_HXSLGYWp03_4IERkiQ8Rec9xp23olkkHUrfgyEOG_QENAr52dKvF8&refId=wL%2FRMpLMnaJ0PmhOiDKXgA%3D%3D&trackingId=9u1%2FGL3Xr38rRkB0FsVS6Q%3D%3D&trk=flagship3_job_collections_leaf_page",
         "Software Engineer (AI / NLP / ML)",
         "Nextiva",
         "Greater Chennai Area (Hybrid)"
        ],
        [
         "https://www.linkedin.com/jobs/view/4279543215/?eBP=CwEAAAGYgRQ36UlOYVyTOZF_hYfxTDWx5r1tIRN-hCtFStUXTBJ-Z4EHYpIIstgxiA6WO1yEUNYF85Guk9ASZAm9IdzobkyrafGXWtI4d3gYAKAz7WYmcJM1oEcSF3AVnEqgnsCKC0NIa5bywNYhVvAvV7HW-Fcat9Sb3ZKozwotvE9u_QlOKaSnya9lmz9EyFm4xWqicvFDhgNIY2jtQ2C6snx8_SnKPkstorBuJoFRFC_j0kmv0AlaD9vXRILdL_OJRY1wKx07k_f4jx4tSPvTC6Q6MBjiFN4YXg5yUPzZsqsD2QbTfwGfHMXERv6fUWRq8jKREj7yC3Fke0dV8-QAEd0poJip6RHAqobjzZ_QTh32zticN6gnHLuGZ9tuc370aApQUxAVwUkQ3VQoAKnXCwMuFflqDL5-XYp3ZPlKTFvAEHPHXJZEiVWzdI0wqEPQZPtV4ZId5RtKAKVBelhDxnCNebcIrKjZ7i4VMGAGeNyQDwJ-XqOES1dW2Mbyv3uI0kb4g90xN9ePDqDGvLW3VI4jykrYY8E&refId=wL%2FRMpLMnaJ0PmhOiDKXgA%3D%3D&trackingId=SM83wi2ga4rRTDNC%2FmKhUw%3D%3D&trk=flagship3_job_collections_leaf_page",
         "Data Scientist II",
         "Talkdesk",
         "Bengaluru, Karnataka, India (On-site)"
        ],
        [
         "https://www.linkedin.com/jobs/view/4275972625/?eBP=CwEAAAGYgRQ36fbQnx5QxkgMAUj13mmKBsQtKKOFRYaG95z9FdG-Eb53i0Oun4LOgQMgxCkif3giCM514RqQYw1ctItO7lDBskQVQayMD7G1UACKCHxv5L9PBwiTt4Y-b_T-rFOc1MEc6-Kg4q8i6JzQvUfohUrFS9ULMtxCDs_ekVGaDVohU9PWmXmT6v7C-Tx2Jg7rz91tOsRyLiLHphbQsFC-H6-1cLeLEV2X06RsxCUKhPLnNCjhRGpYWENu2E3LRzBWYqYqzRy4CHnVoKjrzFSZmX2Z8Qc4bhSWIEj3IRIk7nP96GJexOtYCmKkG6t6K2e5jZ3cMDmCreo2XuY5Sk5K2NqGmT3Q4sUTlSFkJ87fSnDKIum3DTcuFHCgS8wghD88OAZP9am4UU4VYChvChas-cyLTsmlHSaRIMVHQXOyeGQZ7xczJK1Vdy671NX8xZoSoR7qr_DXAooeiPnMqM2ymm_8WXCuVnMTLh_GBQEF1ITnWyKRIetF9UNwpj5S9AaoK1tIc3iE9ltKvC0nCMZWBdqX&refId=wL%2FRMpLMnaJ0PmhOiDKXgA%3D%3D&trackingId=pEYLZvwd3MzmQGvAnirMjg%3D%3D&trk=flagship3_job_collections_leaf_page",
         "Data Analyst",
         "Newsweek",
         "India (Remote)"
        ],
        [
         "https://www.linkedin.com/jobs/view/4277363295/?eBP=BUDGET_EXHAUSTED_JOB&refId=wL%2FRMpLMnaJ0PmhOiDKXgA%3D%3D&trackingId=2cLqtEczLm%2B40hNj6AHMRQ%3D%3D&trk=flagship3_job_collections_leaf_page",
         "AI/ML Engineer",
         "Grow Your Staff",
         "India (Remote)"
        ],
        [
         "https://www.linkedin.com/jobs/view/4278492716/?eBP=CwEAAAGYgRRFuFBhckZrAS5VudGiS-Z0tB6oFiunIjw8tVhEnswlRRUTdJeypIBWAPL9VD9YzC8baKTQ7vEZfb5kLNtvNiJWFnrD6_V316EXy-dU190WN2b7nmyqNta8uY9e6pbPdD0-nHWMflldZMYCH2yN-2yRmGJNf86QFMpIHwnXyVxL2VwZHKea50rQnwFRrXtvgb4_x83FUe8g2qXzOFIALMiV3BFFHLWM7NlBAFnXZxTRkSW87NZX_1xkrDbJaa1AvbaVvHJhR0Rwvpon0uPoJ2w-2LN89p3FW8v8pAEyNsigMdNHtfzTlkZIN2lhT9_dSn_lLyA58k0covtGtU4CiEFDRs_dk_X_px3pyqXxfT5uHUiuNA8rYA_eNHc2wg-OLx7YOd90UnmXuzUcEYN2_PF2do5TbRcEePLImWk1ZZJujIcn_bRdaQKRPXKhs7DhdOGt5p2ygm1D3cFMVro3yvm-Ieo0gEBL7HC04Ke04u5EdMybUpwych-3xMQf3on8yO9rjyBU0oS_wash24HdnS-i&refId=yGFNBlPxF21UuzeReqTmiQ%3D%3D&trackingId=lFXT5nwZJMtcX88C4yyZDg%3D%3D&trk=flagship3_job_collections_leaf_page",
         "Data Scientist",
         "Recro",
         "Bengaluru, Karnataka, India (On-site)"
        ],
        [
         "https://www.linkedin.com/jobs/view/4256657158/?eBP=CwEAAAGYgRRFuPQjPdUnuXNbhSTUa3DsR2af5o5WRykksCD50bJa7vAMHr1AsnsK1SyEAbYyhzNfqCP1y8UuDJ4BVzmdvDf7nLXfOdcHvCnN24CM8VWYaGzDdt0M4X_OPsq5xRUutYRYdhJTY8vAQ0MuSp0nAuRsLg7xn6iRkvH3Znaj0dlVYAEPe6UN_e6BCIBiRBQfLE3bCAIXe8ieg_61odAtv8A_1qkPA0q1TEy8Mc_LYEarWWBovqgzDdO9j3puqSCFQuke-jNekmv6zJAfs4e04HLHGtgTcynB6KRo1fqkWmN7NqiurSeFU2l9UnAbhvd_TcEoC064bI1jsl4pKtzg_VV7hfRa49Fy6LBH07cx8dNaQwGkGFXjPtF8TWuYvCLzEuIYQN-jqVOkCkBErQLXqytsYghiqU3O5-_wL-cI51_s1ESyT8Da4lGcL9qjBWmvZBRuadY2SWwAfq3QgnPlLDmVr07HP5m8Zaab4JHQrzoo3G-379d4zac4SAX23H80ghXWI3HK6gyFdx0mhYlU-u3J&refId=yGFNBlPxF21UuzeReqTmiQ%3D%3D&trackingId=SYr7R7y0UMyI%2BmqkhBLKsQ%3D%3D&trk=flagship3_job_collections_leaf_page",
         "Machine Learning Engineer",
         "Wissen Infotech",
         "Bangalore Urban, Karnataka, India (On-site)"
        ],
        [
         "https://www.linkedin.com/jobs/view/4277376537/?eBP=BUDGET_EXHAUSTED_JOB&refId=yGFNBlPxF21UuzeReqTmiQ%3D%3D&trackingId=4PWmG0XS4s2zVlY8p3E7tg%3D%3D&trk=flagship3_job_collections_leaf_page",
         "Python Developer",
         "Persistent Systems",
         "Bengaluru, Karnataka, India (On-site)"
        ],
        [
         "https://www.linkedin.com/jobs/view/4275634343/?eBP=CwEAAAGYgRRFuZpRI7CwmVXmLlcRPwNOp-7g2l_bGp9Z-pDM0WV_r-L-tvsdPTLHaEIHm5DEyOgqNw9FtDkQVKdPN4MAsJ1c3wQXsodk0TN2hJdNatxIWbhWhBeZMhznBxP_uKWVIwumKsZDCWHgczjvO3rnMhL-1cJwczKG7l18x2SBUokRyOySU3je8JE-r1JtFYoKU2ruDM6wY-Ut9_hrxZ4tpzX4BEG0MFUHYK55W2geybY4jHl3HjpNPWmJEaFIp66ITLQVqubVEZcsQ1wz8lpr_USr5i4ViJffwUAIpXLhuD7v58W44AVA0ifKsUIcsKXPry4L7bN-Gf0iOi85dHUuJ-4ekRRTZRGrnHMnaGSi9ORowZEEpWuNh1wpaSAzDgPEeEqQyuwwzb66VWJ0HwLt6mrDIQxN4BcNccY0VwZpAG2P24tX-j_gXKO4lOUz_xGdAm-QdlI9OLTJQHdUaCwaqdtguPrENTQTLixDsU1U-imps7SrKxBm8gkhLdgFQ7JNxwzejxoejcqiBB2WERRSHQnk&refId=yGFNBlPxF21UuzeReqTmiQ%3D%3D&trackingId=b8uVvbcs1fgYW95uq6InSQ%3D%3D&trk=flagship3_job_collections_leaf_page",
         "Software Engineer",
         "Concentrix Catalyst",
         "Bengaluru, Karnataka, India (On-site)"
        ],
        [
         "https://www.linkedin.com/jobs/view/4279718145/?eBP=BUDGET_EXHAUSTED_JOB&refId=yGFNBlPxF21UuzeReqTmiQ%3D%3D&trackingId=ICwxkNOd8g8NFldyhMblSw%3D%3D&trk=flagship3_job_collections_leaf_page",
         "Data Analyst",
         "Circle K",
         "Gurugram, Haryana, India"
        ],
        [
         "https://www.linkedin.com/jobs/view/4273852689/?eBP=CwEAAAGYgRRFuWTQZmkwvjo62kbbCEiUr9rixhYBvlaoReGdc-Rt6Z2-n7uVDYzKhJsS5t6GTc2pnQckn769pxqp5j2a7IsFe4IIq-5_li4d27u68EOQssdjB-Ou5nZCRgoLrbP02FeUB7c0aA1ioH0ZMEqzWvobh_MWXQwZbxCzq40EtHya9vNvfdYdMxTquq5pC-xDOzn0T3Pa5iBCrlu1H3vjdJyhrx_0fzNMArsS2Pq3dwcerK43BLTBIS4MMEMqlPowVt-k4IG9-6KBp0YQr9Q-S_hzznEE-bzYHMqRyzJpuXf2GQmDchh9oIIDKcq77Udiek5iOHVEwhuBxAPm0j-994yk3YA86z9-z2i9UN2sqhShVZGAAUC8fNJBsrDJRTP5IcTEDTYCEdc0HdrL9NUMaZMBi29RTzOSzk-ovxHcdgVOu-T-gbtKZPMT9OgYJFHCr9Lsw3-L6_Cu3dVRWbn_YIsBLcbHCGT1F3SHfS3wb0c&refId=yGFNBlPxF21UuzeReqTmiQ%3D%3D&trackingId=rt2CSAjWggnS1ywmwW2JVg%3D%3D&trk=flagship3_job_collections_leaf_page",
         "Python Data Engineer",
         "Bajaj Technology Services",
         "Bengaluru, Karnataka, India (On-site)"
        ],
        [
         "https://www.linkedin.com/jobs/view/4273785117/?eBP=CwEAAAGYgRRFudPLdlTej0qcCkcFCeWvR5At16WsTM0ukRyWa_6VK2icxgPY-jX4dt-OBriODZj3yT3A14g6DTJ6wUQzr3quabvzqfqJmaAxg7bs7CwYoFaAfmK2F9rxbIj9YgbpPhDYXHBfRMYMCoXuLQxT7ONvr1uWs6iHYlETCISc3Uo8tOiOs7cDJD64_NQrrIwuS-nkTlWK9FhvhVCs4rFSD15xhBn7zTS2NWLQJt5zN2Imi2Hthrv0K9Y6NnO8ECKoEGi9Vww2mvmG-zeFq6-gM_denR8yJA5jhGs-YRpei_uhWjjfkHXRRXa7QICsOLpNHK1BXa8ZHY_OSzRwngkww4F7Eln08hJxvAXvv-V2rJOIUQxbJ9rKj6_fwndvfclt7b-499v2MyBpT3wK5aay4kUb0syjwiJWejESI9NF64ADyj9XJwWPZsG1tMxz4ujepaHF_hdf5uA9wZEPamKaYHVYR-9uKMkGxlc0I84TLpfcNJNXHQJBr0HTB0LTSqjluLhzeYbmioBNelIP-TG9Bg&refId=yGFNBlPxF21UuzeReqTmiQ%3D%3D&trackingId=GfETrAnq742RlYp486M3WA%3D%3D&trk=flagship3_job_collections_leaf_page",
         "Computer Vision Engineer",
         "Droisys",
         "Noida, Uttar Pradesh, India (On-site)"
        ],
        [
         "https://www.linkedin.com/jobs/view/4280324360/?eBP=NOT_ELIGIBLE_FOR_CHARGING&refId=yGFNBlPxF21UuzeReqTmiQ%3D%3D&trackingId=zzQiWE5hpNsuQgYl%2FlM0bQ%3D%3D&trk=flagship3_job_collections_leaf_page",
         "Machine Learning & NLP Engineer",
         "NSKH Tech",
         "India (Remote)"
        ],
        [
         "https://www.linkedin.com/jobs/view/4275090921/?eBP=CwEAAAGYgRRFuSWl2n8vdOJ0Eeg-08DmlDN00Zq16HZnfs61Q494tHxpxWncjorXi-5hY1zGuRi2xshDT5WgvXNuDkI-bLavvpTZ90I39MQBfFS0edo3hVbamubNJjqXUHmtvCGqgaBtaNMVeGEwjw6vrI8vKca3MyQEx4O1Q0RJuKfHsFlA837o3dmwRGIs1cbjYgPWFU9ZcTGgUYnDUZ0mGeUmjbPneI7aapiEwF6mJNZ4r5ERgIPRmmIDUnR-1XvgSK8JiRlePRXlEcsXSg37RUR0QKSUNYdv6EC0BrFr140CXM3yX6z3nRZ7WcoBrG4rjjdYZDa0X1TPONJ2YGp7kLbvKLJ0L7uWgiJ1mv1UlHFiu9hWasSnQGOG5V-5TlQG-G6HNaXtwij2xPR8ix3X8zKTEItQTxHXDOdho_BSHfq1eN3s7lVGIYwA9Nis0rXOdpjfJKd2rT-6OwGz0L2Ip2AS2U4QV7bIsi8WysPdfp8Umsd9lOH5u4na2a8KnwDFxLAqZpMPpp7xYYpaZYPnLsy0geCa&refId=yGFNBlPxF21UuzeReqTmiQ%3D%3D&trackingId=Br%2FZKCI8YT02vm%2FjkAj4kg%3D%3D&trk=flagship3_job_collections_leaf_page",
         "Back End Developer",
         "L&T Technology Services",
         "Bengaluru, Karnataka, India (On-site)"
        ],
        [
         "https://www.linkedin.com/jobs/view/4226062221/?eBP=BUDGET_EXHAUSTED_JOB&refId=yGFNBlPxF21UuzeReqTmiQ%3D%3D&trackingId=ojyLpXCsM0k79YRIdDbTlg%3D%3D&trk=flagship3_job_collections_leaf_page",
         "Software development Engineer - Backend",
         "Pocket FM",
         "Bangalore Urban, Karnataka, India (Hybrid)"
        ],
        [
         "https://www.linkedin.com/jobs/view/4280333628/?eBP=CwEAAAGYgRRFuo5lXXBHtCItiM_aHbc9JjQrLfK0r3RTSkcB3duh9POyN-Glumh_YDcIdICGpYnfwk4q-yfrTY6N0JffiGi7ek-smGvqfcdTE3QDDQMK7ks0WrPM98N6BQtkdomlvhA8dHVS1Fk2s8XImC-EC8CEz6lRSIhowiEAc1XQJew7dF1qiru-8QvrQP5NLgGHPSmoZwN0dYyCS-MYsR_3BthTZygFVPFjcf-fnTUI6FS7Uxef5G9MTRgrrHjm8zPInZMwfGJnwDRUlbn0lh7SCC0MjEWjgArHcvywXcSuTyYFRnQ_Xu_IrHQsmEayKnUDChclNdwsubXloIN-xpmbpJdPeAjUuEeAKdMKFSff6Wdsng1iqNezqkcwGvr90uCVumCm2q6dwVuvUtINgmdu8hlWUqiXo2kH9t54dHCTj8h5avkHkL3Bqphlm5AARh8dwL90UOYphpZk2eIo5wu2yT8a58aY2TSApJ0-GpBQW-_QrQ&refId=yGFNBlPxF21UuzeReqTmiQ%3D%3D&trackingId=ctnILpLXFm8h%2FfZLkoiljw%3D%3D&trk=flagship3_job_collections_leaf_page",
         "Data Scientist",
         "RevX",
         "India (Remote)"
        ],
        [
         "https://www.linkedin.com/jobs/view/4272010373/?eBP=BUDGET_EXHAUSTED_JOB&refId=gEkwBXWXNmtlPZoL5RoWWg%3D%3D&trackingId=uIztw1HcXagiVne2q6jWTA%3D%3D&trk=flagship3_job_collections_leaf_page",
         "Data Scientist",
         "Solytics Partners",
         "Pune, Maharashtra, India (Hybrid)"
        ],
        [
         "https://www.linkedin.com/jobs/view/4272059799/?eBP=CwEAAAGYgRRfgiSo9pqN1be7N19pFrJSBz1TxVTDl_pu_r-lZP9QNVxxM09x4N9FncAydw4Py2IKKrxVOc5hfTlf6Um6sF7SGLAUedlj5gJTOisFu2BtTyjLY7EhXtK60rElKj0esy_4x7oxwWiOePcVj0wzFvkO3yDXRYr2PHINdwG36CMK6kK8hJAzBd4_7Pu0wI3lOJF-eUC04-rUpgka1_6hX1csODlhWNXqSe65-xH0UDg7FZSB2iWe911or7RcrO2A2mcaI51tH0NTppRZbXErr0_54dDhAjT9NTN6MEvtzw4UeOf_meErH7DBm0j9Ue-yHguGxMyp8C4plbtQb9QwteqwF2DIqs3DzBNi71Vv_WjF8pl2bDLdJFHmdYHObKiBkeupsYS25EDeKQs6If_UUA1DpYj2b8bYcWBKwdN18LFg849TENpuOYUtS22fBhsaQZU22pj1duNAYpE_ez7I6FU2qJzSFU1dUg0uBrowcM4esck2E7EZ2RUbPClz_i581ULFNdRRcCw_4FL-EaSGpH9X&refId=gEkwBXWXNmtlPZoL5RoWWg%3D%3D&trackingId=WcJQRZsZia7V4bNzLlZFEQ%3D%3D&trk=flagship3_job_collections_leaf_page",
         "Data Scientist",
         "Zensar Technologies",
         "Delhi, India (Hybrid)"
        ],
        [
         "https://www.linkedin.com/jobs/view/4277149208/?eBP=BUDGET_EXHAUSTED_JOB&refId=gEkwBXWXNmtlPZoL5RoWWg%3D%3D&trackingId=6%2Ff2L7e0eCC3%2FOG3rhtXDw%3D%3D&trk=flagship3_job_collections_leaf_page",
         "Gen AI Engineer",
         "immerso.ai",
         "Chennai, Tamil Nadu, India (On-site)"
        ],
        [
         "https://www.linkedin.com/jobs/view/4278537311/?eBP=CwEAAAGYgRRfgzqSmu8dp-VcYbCZpHBctSq-tlkX-MkIhH-ptKUeNbbt6Dctp-NtM_cQgZAc0SpauXuFNvmq4mawa1qVD2tkkEthMsELuzmOemnoM7XpeXfBS9zI5X3jk3v_h85qKPpCc7W3mn-l5ecJLNQ2gzDO2LoKZzOsXee9Q1w0no1Qd7DMAfMfdfzKlnjWvSM0cN9SKoK4CnnTm2ZFDPEQoc50dQMkruqQq4vGVy8IJVGYwf4jCK1e5vdhfQC2zNSCNkjEPbJfxaHZjR7P7JyExHQyiydSvg-GUFyyRwfhn1_-ySL1fi7PFEqUEkqHSufcCDIyPhxhMCKHVEzGlmvZubw3w4lJBGRNOKw9TT8B8rRNQG5KB8tWH2L6YGPsiSgG6Gxh-wRzeI2pzx9CC1t6Iai9esOZhgVrlKWp52rTCb8kqMEdVUvpMoWnZ38hqRzSY5jnPbwqecHUstogQosWOPVwrFWxdU1k-ji6RVadz9VQ3u1D0gZREio22q8_avzU44AKH6JAlzLQOGIjLDFMxw&refId=gEkwBXWXNmtlPZoL5RoWWg%3D%3D&trackingId=0x%2BM5XShNriPQHa2HdajqQ%3D%3D&trk=flagship3_job_collections_leaf_page",
         "Frontend Developer",
         "DotPe",
         "Gurugram, Haryana, India (On-site)"
        ],
        [
         "https://www.linkedin.com/jobs/view/4278908810/?eBP=BUDGET_EXHAUSTED_JOB&refId=gEkwBXWXNmtlPZoL5RoWWg%3D%3D&trackingId=jEEzy3XFUgZ0V%2FUtjZQViw%3D%3D&trk=flagship3_job_collections_leaf_page",
         "Frontend Developer",
         "Vettam AI",
         "India (Remote)"
        ],
        [
         "https://www.linkedin.com/jobs/view/4277708203/?eBP=CwEAAAGYgRRfgwq-e5X5f69ME0XUyAsgBAscG4-U8w4jeslv5nmB9MnxCNWMJnBOg7KB1TcgsZp6bTvsakn5p_UsDlcqZKgL3NeHQ0qYlNHgToomkhibOZM3d48473Qoy-wkFSy9ISrbINAIv3eX2p0D9gT4MlMxGnlnMzIaYE7P1977phxVZLo_yHyweH9rJqyhPFAvrpYxX16-3P3SqaqzK7tfu-i0ojRl9AGdBxrqxpypAis4uqW_OqAUQfLbo66x7GpsdzMtDK0s5OLqY4I_CoQMuzEhoXajbzlR5sNh_VRYBZnI9tHvRbtpFBFHgJWdZBpOqoyvqfp2U4QBoo3XlhqxxdckZFBlzp3EdmbbNYH2hQTYU-Ouz_csxpzO9KhDk4_7QjdrtL_MWvGqfYLj0QMr8KN7-yFbE2N2gQg5K2UtDWP7T40wArf45aoOxwHS0lMAvA-aX2PhnMd5P11fWg3H5_C8Q_Hxa3gH445lIBIn8oEc2c-K7kB3EgfvOXPC5cC1KVjMYkep5oTs-HjYKF42dPGC&refId=gEkwBXWXNmtlPZoL5RoWWg%3D%3D&trackingId=3lDIP8vme%2FBzdPkSZwZ9tA%3D%3D&trk=flagship3_job_collections_leaf_page",
         "Python Developer",
         "Tech Mahindra",
         "Bengaluru, Karnataka, India (On-site)"
        ],
        [
         "https://www.linkedin.com/jobs/view/4277704619/?eBP=BUDGET_EXHAUSTED_JOB&refId=gEkwBXWXNmtlPZoL5RoWWg%3D%3D&trackingId=sfPD7JoJZaYvfeYoBH%2F4qQ%3D%3D&trk=flagship3_job_collections_leaf_page",
         "Data Engineer",
         "Randstad Enterprise",
         "India (Remote)"
        ],
        [
         "https://www.linkedin.com/jobs/view/4280807474/?eBP=BUDGET_EXHAUSTED_JOB&refId=gEkwBXWXNmtlPZoL5RoWWg%3D%3D&trackingId=lb43av5HXqIJQI4QSjPnLQ%3D%3D&trk=flagship3_job_collections_leaf_page",
         "Python Developer",
         "SmartQ",
         "Bengaluru, Karnataka, India (On-site)"
        ],
        [
         "https://www.linkedin.com/jobs/view/4254722984/?eBP=BUDGET_EXHAUSTED_JOB&refId=gEkwBXWXNmtlPZoL5RoWWg%3D%3D&trackingId=LDn%2BQm2hD5Uph8UR7iT0Ww%3D%3D&trk=flagship3_job_collections_leaf_page",
         "Python Developer",
         "Accolite",
         "Mumbai Metropolitan Region (Hybrid)"
        ],
        [
         "https://www.linkedin.com/jobs/view/4246225855/?eBP=BUDGET_EXHAUSTED_JOB&refId=gEkwBXWXNmtlPZoL5RoWWg%3D%3D&trackingId=iu6BqIJZZdYzLneoj69J1g%3D%3D&trk=flagship3_job_collections_leaf_page",
         "Python Developer",
         "mthree",
         "Mumbai, Maharashtra, India (Hybrid)"
        ],
        [
         "https://www.linkedin.com/jobs/view/4280800105/?eBP=CwEAAAGYgRRfg4EHQxXCKi9Od5r1oJUEiCPLSTvAar3zedoecmPUQmSmGU5JkEEDlavPVFIplAV0Go_NBpRJqxv0d_LBDu3nOrn8qcKzLaa_5C97iKlJzJ58EHIQeiVZbxmnN1tumBdwgXd9BnqYQz5EpwvXpc2WwrJQpxYX0n4RYk9-6EHydatalAms3HeFt4mumNNnBzsCyIWD8GtEwJFNFNbaUYTWy2waMAF7ppT5ChKmjFJMwE34Q45fSnZFK1LcGSqFrAxsKsXpQPPgTJyf3LEqI1wHVDlRPT5JUjBMdBjEW0WM5Vs8H_GYxn6ikHJz5ORcKi3Pu4V7GOhgLX43t0ND5np6KfQHWKfhozVHoQL_R1PhXFyXX_2_sJQUkvxNKu-gj7A4J6zx1osqYVyC-VM2dRS78ewhninZe3qsuLG3K5VDiiDCwkcrmAerncEkAHpOjcWu-AbScGkYwQPVIoElWS4a6MI3-mEd4dCGPsYqS0TWYA&refId=gEkwBXWXNmtlPZoL5RoWWg%3D%3D&trackingId=QJj7P%2B1mrEjhJriVkhTcqA%3D%3D&trk=flagship3_job_collections_leaf_page",
         "Data Engineer",
         "PwC Acceleration Centers",
         "Bengaluru, Karnataka, India (Hybrid)"
        ],
        [
         "https://www.linkedin.com/jobs/view/4277691099/?eBP=CwEAAAGYgRRs1XFqVl8gKzF_KV_gzTD_jQ2gQdKXwY_x-FFTnLWm58F13ECe9-1WKQYhyhHzuo53AxL3hzabdAmnIbxy7qsGj-YLi69K6umAqnSzOoN-Vp8IakCVwfrHYI1_dU-ykFppjwhdA4geRJXuO0zs5EXrLwIuemNHvXNqwrwbLtj3-rWX7_kCSY6s_XmvCulphH9WhHN__9jbC6Lrv4gt7qIf1eAaFbWl2UPXWzwGTTvB7dH_KDPuPtRBbaGOamL-ASnGUUOYPHPM15d6fgrGOC3YdrEHPIx9t1iDMEGHnttlel7uU2VPj8mO59Z9_4t2FkGj29yv1JAb69-qFRcJX1CQXrnpEODRWGCH7ep7hI03zBJItMMu_9ujmxjzolkoYODxy5tSkjuPadmdAuuYvI03vVDRiSfaMJY0gLGyPrGSOS9xv_aMiFxSs3a4QlQQYJ87w8YgTFcOE6L6a9EXD30XeDLo9BxOC_24KiW4lCmh7WipupGANFXIrMOxHw7tqnWJ7PsDafv4BSl9K5xRnCiC&refId=C1m6O88SDPW5eGDelaudEg%3D%3D&trackingId=4C4umh3tXmrO3ES5CGvXSg%3D%3D&trk=flagship3_job_collections_leaf_page",
         "Machine Learning Engineer",
         "Bounteous",
         "Gurugram, Haryana, India (Hybrid)"
        ],
        [
         "https://www.linkedin.com/jobs/view/4273549803/?eBP=BUDGET_EXHAUSTED_JOB&refId=C1m6O88SDPW5eGDelaudEg%3D%3D&trackingId=GafBCcTcYaFonTnObRdByg%3D%3D&trk=flagship3_job_collections_leaf_page",
         "URGENT Hiring: Python Developer (LLM)",
         "AquSag Technologies",
         "India (Remote)"
        ],
        [
         "https://www.linkedin.com/jobs/view/4268794618/?eBP=CwEAAAGYgRRs1iQKPF0wuM_RALmLun6TeaRpKxhzSjtUGHB_8u-X1riECl5Zt9CibTxScBCl5i9jYJtAzHhxHj2P6xmPW287itDrL5TowVTBVVY-HiUQ1Ig32Q8lu3vg7TjSX0teyR-F_DjsG8eYPXxUoq3ODHtCoTA94BR89Csm_-sfp8A0JnyUFuyc0-XUq1yZeEAitD-JnfL1F9YOiPp3EFtQWIKb2dS4MDD5jG8MOdzt1kI97apCK8gT3FFuM5QNdst8Gud1dy4jnXc17peT0oShgvQXObPL_oqdRE0SfWYzAR8geZUthsRA4X1QO4COzSmwPHQsNsGZlzdGrNcasNjkEAxBNrqQxeS2dl7M4tLJv0MhyvqaUsgj0wEQt02r3vMTD3H2Mn6ZHx8o9NT3XuGjbeTEoT50OiKsF8uN-h4NKB1WOpTXrTWJKAcjioOQfHm90qyOmPZC2D_iopAdE9zjmT5dn-KPrjLggNAr7F91d8XM_6cKAVTf8fY-pWWytf874HFyyVIE1hHXEmrj&refId=C1m6O88SDPW5eGDelaudEg%3D%3D&trackingId=iDuYn4jbqzmNGEX0wMvJBg%3D%3D&trk=flagship3_job_collections_leaf_page",
         "Machine Learning Engineer",
         "Prudent Technologies and Consulting, Inc.",
         "Hyderabad, Telangana, India (On-site)"
        ],
        [
         "https://www.linkedin.com/jobs/view/4272058375/?eBP=CwEAAAGYgRRs1kmwP4FQawpKF8ZVBPBqGPnOvHsUaGtugj8Mju9ElH3hhotzKcCIRKURnosus1zqCejany4wqt8v1bbKVpbwRsDJG7Boe5kgV2k5Je9aT6qxXDzK1zN0CnszVMJPGdG0BEntQ3MZXBi7y9FSOh7BZUI_VijYp3t7Fu4cHcScVDBi8L9J-onuR8WfHlFuNtMNaWsNbZw_6hi9Vw1DwGF0rsfIUMsyjyFllStTJ5sST5ZjwKcPUlndIBX-RE6FVigexDWxrUvYreJWqiIFeo9Ho9iXl4KosQiXppdoTeVP3sLwM0QMhdEvJDUa-MQ94Gz4ibH6OOISs6UIza_zInITEcEyGwSqpoUD4zN8T_Rsr3_i4Md5HUhfMFQYgJ-0B0_zq7ekinZMB0UESNgGqRwSSpYmqFQ4FKzB-F5u06dHdelRWR8C7OxzYD7Q-aI-uIT3u-rRHr79K_QUX2kGmTzoMHEKszOAJxSjT82gyTs&refId=C1m6O88SDPW5eGDelaudEg%3D%3D&trackingId=5BkqcA1paT4QHC7FjQ32BA%3D%3D&trk=flagship3_job_collections_leaf_page",
         "Machine Learning Engineer",
         "Dentsu Global Services",
         "Bengaluru, Karnataka, India (Hybrid)"
        ],
        [
         "https://www.linkedin.com/jobs/view/4278908252/?eBP=CwEAAAGYgRRs1siMaBMJKnH_jpL9yNDwRWEA3Lq93muUB6UXwexKPNCI6kjP6bzPTRPXdQsNyjArpZpAe8dJLNpNP6JUO4V5y28xmUjcg2xD3_zYpYzZ09JmUxFdoJHqSsPgD8iRAtSKyDW-NqggAe3Q4SCeqtyM6GsSmiuqxn2jnQxnRn3fuqWQrWxswonZIalA0MB5LcblUt2Khu7oP04CGssI7ZZjD0rcK1pHHvHjThCYXpDZdfj5DusYXSJubrGKFsOFduf0CQRkBVQsltKIe91gpLYmxr9c6x-2zTRA9zlwJ2W25PjjsHOovEm6cqIHOdEHreBU1ZjfKos-FaYZUZDc4X-5rBLJCs0kQPVIJMVU1enVpn9hFmCKMHKySQcBXZgN6W_PGXxEsZjS43Gxqp7EPQYqBIU9CDNXPKO9vPMZklRCJqfMdx9OuVUGatfai3lmsFW5gTbQFIw7YI09UbTOVwgQPEUdWujrK0urBQHL6YzGkm6n02gbh6lLDdww5M6ymlDKZKYtuMpxle2HxvTSKx5y&refId=C1m6O88SDPW5eGDelaudEg%3D%3D&trackingId=MjqSX2Vx5IBnvUXw56LEKQ%3D%3D&trk=flagship3_job_collections_leaf_page",
         "Staff Engineer, Frontend React",
         "Nagarro",
         "Gurugram, Haryana, India (On-site)"
        ],
        [
         "https://www.linkedin.com/jobs/view/4279379953/?eBP=CwEAAAGYgRRs1ib1k9589ENGdSHnT_0C0JO7oEaTz2WRGOkqA1KJRpEkZ4FBih8Ezag-LC3n6tFdGpO9yQxf1wwcTLdjIT9h08I9B28yR9y4pf3HXkWxwn33lI8Mj866FLc66c6Es4UEJ3EnTFbAbYT9XZCp9UL4nWDyUPmdUTVkKieGIFJ39pZYvl-a7VW_5wxysUQ0brs7CfhcX9ZwUIfpKiB8iN-aUSPbMpzuVgjrpzCTxviqgyWlJVL0I_NRN0Ro0rGmgNIBPXQ1-dyJTtC37WdfcRUFGcRR3B6LDqVrzrQUMke7Ncs47SmqP0dIyZXy9Xk2WPU0ElWBvzBE9QtZOumWt4KyINpAbGro-6XZkTKDClV-kj1C4aATFu4720r-AykXdBCurQH2BCxoLs3yr-IZr4lSOxfgdrXUtlhxYMAdwvthSi9EfLB8ttaqPYCHqFxBhMCOJhb0mjj9FVFjOSDDybPI-9HY3ncY6pQzeondz_j2-jteEKoj8UP2vsRPrBBjLUOsNbKVVsDUiMHxIJVwdCHQjKg&refId=C1m6O88SDPW5eGDelaudEg%3D%3D&trackingId=saIeFq0%2BL%2B3qAgBWcsM7Zg%3D%3D&trk=flagship3_job_collections_leaf_page",
         "Python Developer",
         "Ascendion",
         "Gurugram, Haryana, India (Hybrid)"
        ],
        [
         "https://www.linkedin.com/jobs/view/4277564515/?eBP=CwEAAAGYgRRs1mwdzZY8KoHOJCpQPbUKGF8OBAjaCW1__-vPcjrK5VdPK6l-89wfBiYkJ79GW3jK23Ao4H_ooHGn9FwSt8K9nZZcwXmotFfTkdUK9o3q69qVhIssGi05_VVz04GNbETJysqTmlQitwz7on-dDzOkV_DGDQFgfNDA_Q_d4vXkAOATNwSd1iibuWSpBi3fk1VPlqL8On0eM4-NRgSLrGeyH6ofFryA8KanVV0ZmFiBPebsyc-KXmhUfsuiYy6vudW4tdVM2CUp9ba3GMn8kp1bbb27MGfEi7uYnBAulk7RF7GXHk2ncTUkggxrhWo1bFR6o4w1C2dDElJW-lbEO4bcq_J3huq0Bm-YqJ9e0bqQ5FS38hXiicl-IF0jLUvMI3k3L3qQRDOp8kD-KacNt1MB77qSp_W-kZthhO1IIwSZvgN8YFkwsOs9DHrHzSb1onEedSVOURdzLeJLz-pdpEpFav5cY9FsH1Qj99Xw1BKNdMQGRpV7Rh8cNrHV6YUEgUObEokfTvI5b8_yyOmLdgXP&refId=C1m6O88SDPW5eGDelaudEg%3D%3D&trackingId=xMRf0QisgKsnOZQnoSf0KA%3D%3D&trk=flagship3_job_collections_leaf_page",
         "Data Science - AI - Pharma",
         "WNS",
         "Gurgaon, Haryana, India (On-site)"
        ],
        [
         "https://www.linkedin.com/jobs/view/4278020681/?eBP=BUDGET_EXHAUSTED_JOB&refId=C1m6O88SDPW5eGDelaudEg%3D%3D&trackingId=cxJnqwjCtpIwDuyEgK1ynQ%3D%3D&trk=flagship3_job_collections_leaf_page",
         "Machine Learning Engineer",
         "Rail Labs",
         "Chennai, Tamil Nadu, India (On-site)"
        ],
        [
         "https://www.linkedin.com/jobs/view/4277968906/?eBP=BUDGET_EXHAUSTED_JOB&refId=C1m6O88SDPW5eGDelaudEg%3D%3D&trackingId=WFGWAYyjJXVr1XuzL1Tifw%3D%3D&trk=flagship3_job_collections_leaf_page",
         "Python Developer",
         "Leeford Healthcare Limited",
         "India (Remote)"
        ],
        [
         "https://www.linkedin.com/jobs/view/4277177006/?eBP=CwEAAAGYgRRs1sZFhiGPUmdQ1Xie9cOYSgoCWnCbMQNtnpFZLTCL4oEP50gdFWlStM1HUVNTgkiNtymragb11JOiyVbTaozG3vuX9ifTWtLGKMJDbINe5oCVKRtAKBWJpIoR0l_CWoxOUAMjB2kMpYMPar5GjFutQw4W5T1XOEbun1eoLD3MQcpxFnGMipg2P9ughLRwAsxhw_BvOCiGaZaRokH4SE1P8sFkyzO6Lx8DsH0zdB-5jxL5Xo4KnDTQMa_Xl2fvOelyj5HCw_6yCaLs-iyfJ85mzpAL9Uch-QrZd-Nvd544UCx4zc7kncOP3Z2wTr4DxpzrapMIo0HfVVGzny0fc-JHVfYLfx9rwyhZurcBzwvkGbn0prnsQmAZsR8NSRbM-6Vm9C31CIrZBWsv2pVX-cLIHlXaQ380tKw2N-sPWxBXoqiY4xx8RpaUtNOrZtI_6vv724IEIQL2nPofCT8GoP78LHpzGs6gyPnB1x5nfPuECSl4YevBMSSaEr8T7zlnwrmLrCb5Pctuc7yMeE71gA&refId=C1m6O88SDPW5eGDelaudEg%3D%3D&trackingId=U05hy5i6WL8KY5bLYqqYBA%3D%3D&trk=flagship3_job_collections_leaf_page",
         "Python Developer",
         "Saisystems Technology",
         "India (Remote)"
        ],
        [
         "https://www.linkedin.com/jobs/view/4278114996/?eBP=CwEAAAGYgRRs1nkZlOslwntcuWsPFyV1pGEcInX3CPVIV2q65uRJzQQ5H9SkK_StEiKWzyFGD7HeeAS3sHLR-4NFGNYGyXTAz5nEaUAMMep9iiAn6bUbmuXogBwTACFM0qF_KEP05i0V-W2oCwF9PrdG718sV86xzJkHHxkseHXsYXSuGQn2_xtcGy6qeICpfZ8tY9kqUYWIdEXQ_qIwfpaLs_qR4Rxr_v4TVDUkKnR6Y4dBEBE2jm3XQMsQUMtbQWNncOBoat9PNnIjSwh1SP3kX0FYl85o-E0j1P41XM64eiJJ6t08v2fCZ54AXzX2QMz8Q0zzOzt-8aPNUc5Vyt4QIlGdKL1FUUa1Om3GzYYn0btpZzm8gNlOOuY0IiGojje3CC7YTnOAuxl_KM7pQR360iF5OOorjUwM86RvAb0-SXRKqCEhEecoRJNG2I7HooN58-32wkYmOIZiM4qNiUrlYstffTnkp1pwlB_reZxdqis9GkqEL9REko00WL1GkdFmtVgsgTi428vP_mNAEqjcEEfDdp2q&refId=C1m6O88SDPW5eGDelaudEg%3D%3D&trackingId=5ng2lHPScXAjNKBRiQSI6A%3D%3D&trk=flagship3_job_collections_leaf_page",
         "Associate Data Scientist",
         "Circle K",
         "Gurugram, Haryana, India"
        ],
        [
         "https://www.linkedin.com/jobs/view/4265420956/?eBP=BUDGET_EXHAUSTED_JOB&refId=C1m6O88SDPW5eGDelaudEg%3D%3D&trackingId=DFJ26591hdjGjrMtvLSYiw%3D%3D&trk=flagship3_job_collections_leaf_page",
         "Machine Learning Specialist",
         "HCLTech",
         "Chennai, Tamil Nadu, India (Hybrid)"
        ],
        [
         "https://www.linkedin.com/jobs/view/4280023118/?eBP=CwEAAAGYgRRs1zpWZeynbWzwy0adFww1HlAyAqsypRccBBazJGqCKMIZLYve1_MD9IXXpUVsl50jGHXQ_UwS77GeEn52nK06drWvb1qo_J4eG4-hbo64X55mfHaY8_tT3yE95S8tGoILghFtGMD173nL7PS4bfK8PcgI2l_HcZfGhfUGdAlvljiPWMrC3qI-jjd0btBqGDuX6rDL0wSWuIx20xXTOabLOBE_g3IwyS_FU5nCNDsGfR7CXlEoIfqEtmuKUAFLXKuONKGOw77yB5zjizgmwTI9ff2KEbfO3SzeVDW1BWPPDbFWqydDJh01vUfTnesZ9TBcK0XNyRbwHgj04MSbuj4D8bq2v0ZekKU6TtAhu-xgP0ZtQ5oWHlmkII8hqHYI7MT8oZbF0tCN7jtq4NA5lvAzP7Q9mc2Zes5DUujukxZ6CZKGSl-e5NppTa-DaWmSoDQwnOBlpbdxtUpEDek5tUct2ls8ALP3rj5wianzdse2qAf-JzZ8-FQ-hLry0VuGeslECx2ySDSplKoLoS0&refId=C1m6O88SDPW5eGDelaudEg%3D%3D&trackingId=uE1IRh6xZCUR1ruJ9tuFfw%3D%3D&trk=flagship3_job_collections_leaf_page",
         "Python Developer",
         "Talentgigs",
         "Hyderabad, Telangana, India (On-site)"
        ],
        [
         "https://www.linkedin.com/jobs/view/4280166426/?eBP=BUDGET_EXHAUSTED_JOB&refId=HU7tKKPRmoYAbhpOIfM9nw%3D%3D&trackingId=UphimbfPWaUnNdgaqHZz4w%3D%3D&trk=flagship3_job_collections_leaf_page",
         "Software Engineer",
         "Experian",
         "Hyderabad, Telangana, India (On-site)"
        ],
        [
         "https://www.linkedin.com/jobs/view/4262351983/?eBP=CwEAAAGYgRR6NKQe5qBXWQTiRtSRAHNQFSTEqs120-f4ef2Q2QES8zDs6xDHSD0KYT4s4qEnbIRXEhKeW7Xoz7qufbguP1KuUyOFunYcKBYUZvq07IaN2nRkybvfbSL_xGb69bAWh_5oWYbdx2BBsIXXNH1JxGCpBFj82pVTJJOaWI7CMs_pjmgihX16sKY9lnyKToqIbuiY_Eu8ncekaRwe5wx54zgTXkbcatPXV5x192cP7iISDK1-UIhoAn_BW5nzLIlBuxEnAn_0smILf0FBd8Zy_EmP1JaX97T7KBYdA31AzZO1qJJHO82U2GZF7nGjWL5fPLn241y_PX-BlQ_z6N7r2rV0uzpthKP_8uk_V1tjsf7pKyVPIkJoMXj64uJnYXLrl-x5_cJ1PBx-WSDip8gDUq1nL7JEYoVYyadDe6ndDLkd8d3_7cdUz-ZkibzrgKI3GO5Kp3VFD1C_WgnsL86PDQoZ2Zfo3O8wGhNO85LALXnSW3NecZi2VLGj0R5izsSH-j2w5X5keo4-FzAn7Za4wQ&refId=HU7tKKPRmoYAbhpOIfM9nw%3D%3D&trackingId=fsGoKTsNIqzKbPx2xnB3WQ%3D%3D&trk=flagship3_job_collections_leaf_page",
         "Senior Software Engineer",
         "LinkedIn",
         "Bengaluru, Karnataka, India (Hybrid)"
        ],
        [
         "https://www.linkedin.com/jobs/view/4280506608/?eBP=CwEAAAGYgRR6NA2r9le3XUjXz7X7V6n0o6xybexEahjhI_9_tuRvjFkkUMIkcQ0KBYj2Xu5A2uMhTnhtANGYPy4wZa5_GtoD4ARxEKdVjTU-sckYPxnHgeikfe2GWfcZ_pfWsxd6YOCH_iUoxlrzpvtdfIxTEehwtodeayMDJ7_8saDPPDpxE8hveaAGLKzvtzYkTterR65fU90cVuBcMG3g9zVNK0KDvnIrZVeb0LN7U3h9j-Ux4CJWkLR5xqBvi9_N4xbSGHI--uHve7ic_c43dO-XDXwOZ5ObaDxxGGkRnOdZ0I4NfIIvZvBy_7Jir5ftrESCxIyY1O4ROTqrOWlljylQJFmtnNKkZfBAyGFW69WG5_1JpnR8ybVKQ8T-vsSJ6_z6ciGw4XfMt8q_chyragMUp84ANlkw0UFAIxImVc76s8MO7_2MwKFJnsvUszmxZ1rbRfNDYz2FZzguU9tqLumF4CZUYWE0YeKZ3lZdcr1LHrgSInD1hU9SbWAG1OaB1rT1IsWUoXTYtBk339ys09f7OsWcnBpu6Nvz726HZfi-x_zPV7bREKdkwXiSJIg&refId=HU7tKKPRmoYAbhpOIfM9nw%3D%3D&trackingId=Rqkmx7bWRxaZfbJlkVx0Zg%3D%3D&trk=flagship3_job_collections_leaf_page",
         "Frontend Engineer",
         "PhnyX Lab",
         "Bengaluru, Karnataka, India (Hybrid)"
        ],
        [
         "https://www.linkedin.com/jobs/view/4278247578/?eBP=CwEAAAGYgRR6NDVlY1CSYgLTQ-LKG3slZo4n7nUvoYboawkPGpVD4XFCq0svTsM1FeDjXxQMib7dGAyyHd6E8xGYFmT01G8ifYukCagppVzOFSg5XaSnbnn3lok_3aKJMneUAiLZeiyW_Xj-KSKBM3Fz8ivVSZ48XAKLgaYnB00o2dK6Qrmj13o7mlYNO8W8HheXrnpDwc-Of2xuqSRkSQszrWoa_HNAadb2WCg8zThiilJe22R2slL9iFOHPYQzwZTWXlro9FE94Ku3prIgHn8GC06kYnM134THt8qKybBezldBchpXcBAjI1BtYbdpWek1m4MaP4Os69QaqO-smEF2zNLdNW647cYDHXlokYGUaVbbw9Mr3Ddj2Mw1ASlFIoplvOLp4_6r6-glvL8LzfX9Xy5oJoq_5jZGnqk1Ykr0g5aFZzItbxtF_yHJMh7iqSB29rrbL9-pSscAcrPW55Z6XGGga2SjwaFw2wU5jIYeFOqgPHRJMD2zMuHU2-boPqJ5zMwjfsuBkB1tPAgdL3jtdHTXT7AIhjA&refId=HU7tKKPRmoYAbhpOIfM9nw%3D%3D&trackingId=v6Lv%2BshX7eQApyk%2FDL27Zw%3D%3D&trk=flagship3_job_collections_leaf_page",
         "Data Analyst",
         "CareerUS Solutions",
         "India (Remote)"
        ],
        [
         "https://www.linkedin.com/jobs/view/4273593598/?eBP=BUDGET_EXHAUSTED_JOB&refId=HU7tKKPRmoYAbhpOIfM9nw%3D%3D&trackingId=6sA%2BdRcQceHdBFuZTYLqbQ%3D%3D&trk=flagship3_job_collections_leaf_page",
         "Python Developer",
         "Datum Technologies Group",
         "Bengaluru, Karnataka, India (Remote)"
        ],
        [
         "https://www.linkedin.com/jobs/view/4280141875/?eBP=CwEAAAGYgRR6NCZwe42hSSirH9Sz0o8RusjJYqS6izkOomHgR9MdcjawOgZ54qM87PceWtAp7xAwPHRmjQaWKS-GRwwWDvSD4T5tzSbREZbrjKceNi_08a9L113D9ZYUJL8z9wJM-jxNEfwQ5Gy90coQxMlHA8knzdWPuKpsaZj7gjm9YNfH8yk-3hb0r-rOlRC4bllJeYLMjlU7NUfvzbD0McNRoGgsO3jXLuyJqK6fCDSZk8cYERe5iA-MKPpnqAQG46dpfO6Oq_Bretj1oC7gLjo7Zg8qr_xk4ErdC7C1eymHDZzL951UA_GBzLAI6WFE50Di7F6UyrHtM0u8M3wbxnkimRnIzkS9nsWQiOwW-ONbQPyjHfzmipS7vd8GPVRyt15-0NwhyFUmMo6_e4JS6FYfnTegyRM93C4rPm-CgTvhPW4T75F47lAeuouxHTUA3PbfSQ0U6pTw9-ijjyJuNHPBwXM0M4vguC_44aFBFoDx3ps7TkZ_CNQ2r7RneKUSpg-4oMTdf71qDvbX44b_cy5bQaxiPZA&refId=HU7tKKPRmoYAbhpOIfM9nw%3D%3D&trackingId=1rjv0tcAjR%2Bku%2BxR6Cu06Q%3D%3D&trk=flagship3_job_collections_leaf_page",
         "Software Development Engineer Test",
         "Airtel Payments Bank",
         "Gurugram, Haryana, India (On-site)"
        ],
        [
         "https://www.linkedin.com/jobs/view/4278062997/?eBP=CwEAAAGYgRR6NPjsud-JCM6_LEfbEy-EdUEYodoclOVyau1y8YIyD79YGll_luXVKRAlE5GuX-df0a_9RjU2Lr6VaHNWh7mrhBzQ4PeK7gwvwpj1FMDeJNuMXTjZQPT6KS_jACBktSojJJMvLg08VXmkiogliJEkdeLxRLe4n-Lybg3urosHnBtWZMVA-9LPOUXqZpxAQ7AbIKmufDCLD3TiINiIZPYbew6NnFGkaUl8JaxHb0fuATaCYvTgg-NB5KK8RChGon7xKNk3a4QEAiLldQQ6PdTxbK3bj0yGpIiZY4dh2aPkpb85F3iYwRKt3-bIp2WuBOd0ODQE4TiEvFLcPsnIrbe-zT6Uy9w85slAcdWLTc_MfhzwY-DJKiqDqGpY7-_MZ1SJam1mouq7TkEYGdx991gKAT-e0ZV31-OWwg83vHm-pe6t5ZQsyllbZcLB5eB7bMRLuRluUfPjmvVvxtRwmNvIRMnQOY_0xZm7guZ7jW-SQHPE-NlVngAtRR7Iyxgh3C4LOpcjA0QslhUJmjRXRbEF&refId=HU7tKKPRmoYAbhpOIfM9nw%3D%3D&trackingId=FRZMpeEhbcfD4ZicDPDbRg%3D%3D&trk=flagship3_job_collections_leaf_page",
         "Python Developer",
         "Datastack Technologies",
         "India (Remote)"
        ],
        [
         "https://www.linkedin.com/jobs/view/4278814835/?eBP=CwEAAAGYgRR6NGefh3UFupIXXCqelAz44yWcMnEBVNCb8pCq72QdpZAGlMuO7mudjuSvQiwaJv-NXzntWsRemUACEXBzC0nXaVmo7T2N3BdN1RKpHgXFfOyvdmFkdbZzC6IPW2XYLNI_xdgFVe-b6bNo8DThNYMkntw7tDgFb41irVdPR_M0sjmVQHQ9GBCM7fDjUBSOXq9wIftEGjrpVBQZCH-rjrOjGU2mOOT_1Yloma-TMMJK_sA_KgXmwYuyxJwlataRpEmKiqcuuJ80T4zEldWrpq2Q__5fDEgMDbmcrbrt6DAC8xw6LOG_0PrerW6JT-x5jdG6QlU4dBfrgk3hCdu-BZSaUqmXwohvgM5qcdC6sVllnav_fWUoWH6Vt1qkujTosZPXR7pzNxsPFR3HqfK8TGcUHJFcpt7f0z8aKrkQkkZvySV0W8nzuq-mWjSOgOgfcx0-J2yqfvJWLskAajWTXx0SEEeZ5lIrehEbPD2awPhJ-8QIYUgPCbNe7fo7U7vvzFuGyMUUzwYm5_ApsDNS9xaxKJs&refId=HU7tKKPRmoYAbhpOIfM9nw%3D%3D&trackingId=C1Hou1knVMP8LLc21f9sIQ%3D%3D&trk=flagship3_job_collections_leaf_page",
         "Python Developer",
         "Wissen Infotech",
         "Bangalore Urban, Karnataka, India (On-site)"
        ],
        [
         "https://www.linkedin.com/jobs/view/4274205056/?eBP=CwEAAAGYgRR6NKiilphPR2gIm7WK5LppzWHZC2QQ8QULLHpHrvWEKGPFomAPpntaBx7z6D4riLXYcjffOnca6Jtw_S9pIPMSn7qgwqXh2zKhsaZYmvPdALSoYa93VO7KEpAqi-l39p4iio4Br4CPgIsH8l3KZQsDlIda4mtJTDPdcj6cbeAaDiQ0bgjkgGT8vnDELo4bTN8egb7dOuQvraymjPmy0L_fxblAfIsl89x62mkp2iu5Gbav-cuBdtUQEzU8mgF00L119U-annqtafgvKRgYIbsF2yDa8UaMelt39y-4RB8V_7xeiOf8XBENSKWkmORzLvIGc0i_EuYwWJ5xwy65Og3F-tp_4jJN9pGTOLeXKhiD7-C9S65FU4MiqW2QFgh2RJWKe1n7q_vtjLwwKJwUtQp7M3bB8YMQu7327_CwlpTtqNerkILIr18GPjY23W482tLV5NBmbJgj9lo9ZaNtcHYAUHgEJbpFUFD8lOZc1xPPQH1e55lM1NSfIGL6O69lEZx0e8ta&refId=HU7tKKPRmoYAbhpOIfM9nw%3D%3D&trackingId=um7qcUl4GJbXXYMfJf2TrA%3D%3D&trk=flagship3_job_collections_leaf_page",
         "Software Engineering- Web",
         "Carousell Group",
         "Bengaluru, Karnataka, India (Remote)"
        ],
        [
         "https://www.linkedin.com/jobs/view/4280800394/?eBP=BUDGET_EXHAUSTED_JOB&refId=HU7tKKPRmoYAbhpOIfM9nw%3D%3D&trackingId=4Pvz7lPHap%2BuvWNHLyUg4A%3D%3D&trk=flagship3_job_collections_leaf_page",
         "GenAI Engineer",
         "TO THE NEW",
         "Noida, Uttar Pradesh, India (Hybrid)"
        ],
        [
         "https://www.linkedin.com/jobs/view/4245121446/?eBP=CwEAAAGYgRR6NQ4ZuPW5NoKadsFFZ-VYhS7yKaWQJ7svFhT78q9LhJ2pePvsG8mQUMm5IN4xrQHOtqxHooQCZx3oziZJ4-E4ZLne28DqWuohIHAai1Tf1ra51iZq76X6EMKAlVdDxsc-YnIHLn0SAPvKsgStvtrttjOAUy4QxDMuKJAQ8k6wHsMSVYgf2VR4CCB4HMirLlDv_GCjMJK8_kETemf7_j6bqYZuR9vXNPqmvD4INYwdoFSaMhvmrO2JVKw7BD8_MPi8RygtjZxdxwlYfx6YDZzR55kLV2_W5AP2JCpAQCIzKI-FqWsZkH_MC-I3ZqBJKjBgQVp3YUtvhBzm7D0EvLwqHof1F7U0YeUIBt40A29xLHho9nO9SXAm1Wbz0DGYzopjiqLGWmqU4WY9L571NNxnHjt4VFCM6dFqxC_vuZrOWIepRN4biNd_uaq9rL9Ff9-ETBl7CZ_1rDySG-xdQHshaVqxEBi-W0wtAXoHQFyNIeR3sXs-7xHUWaR7jeNw-oURqvqvHiYkKHMT2rLlnPck43o&refId=HU7tKKPRmoYAbhpOIfM9nw%3D%3D&trackingId=TK35dOditK9QcPiygCvFZA%3D%3D&trk=flagship3_job_collections_leaf_page",
         "Data Engineer",
         "Centrilogic",
         "India (Remote)"
        ],
        [
         "https://www.linkedin.com/jobs/view/4280166426/?eBP=BUDGET_EXHAUSTED_JOB&refId=HU7tKKPRmoYAbhpOIfM9nw%3D%3D&trackingId=UphimbfPWaUnNdgaqHZz4w%3D%3D&trk=flagship3_job_collections_leaf_page",
         "Software Engineer",
         "Experian",
         "Hyderabad, Telangana, India (On-site)"
        ],
        [
         "https://www.linkedin.com/jobs/view/4262351983/?eBP=CwEAAAGYgRR6NKQe5qBXWQTiRtSRAHNQFSTEqs120-f4ef2Q2QES8zDs6xDHSD0KYT4s4qEnbIRXEhKeW7Xoz7qufbguP1KuUyOFunYcKBYUZvq07IaN2nRkybvfbSL_xGb69bAWh_5oWYbdx2BBsIXXNH1JxGCpBFj82pVTJJOaWI7CMs_pjmgihX16sKY9lnyKToqIbuiY_Eu8ncekaRwe5wx54zgTXkbcatPXV5x192cP7iISDK1-UIhoAn_BW5nzLIlBuxEnAn_0smILf0FBd8Zy_EmP1JaX97T7KBYdA31AzZO1qJJHO82U2GZF7nGjWL5fPLn241y_PX-BlQ_z6N7r2rV0uzpthKP_8uk_V1tjsf7pKyVPIkJoMXj64uJnYXLrl-x5_cJ1PBx-WSDip8gDUq1nL7JEYoVYyadDe6ndDLkd8d3_7cdUz-ZkibzrgKI3GO5Kp3VFD1C_WgnsL86PDQoZ2Zfo3O8wGhNO85LALXnSW3NecZi2VLGj0R5izsSH-j2w5X5keo4-FzAn7Za4wQ&refId=HU7tKKPRmoYAbhpOIfM9nw%3D%3D&trackingId=fsGoKTsNIqzKbPx2xnB3WQ%3D%3D&trk=flagship3_job_collections_leaf_page",
         "Senior Software Engineer",
         "LinkedIn",
         "Bengaluru, Karnataka, India (Hybrid)"
        ],
        [
         "https://www.linkedin.com/jobs/view/4280506608/?eBP=CwEAAAGYgRR6NA2r9le3XUjXz7X7V6n0o6xybexEahjhI_9_tuRvjFkkUMIkcQ0KBYj2Xu5A2uMhTnhtANGYPy4wZa5_GtoD4ARxEKdVjTU-sckYPxnHgeikfe2GWfcZ_pfWsxd6YOCH_iUoxlrzpvtdfIxTEehwtodeayMDJ7_8saDPPDpxE8hveaAGLKzvtzYkTterR65fU90cVuBcMG3g9zVNK0KDvnIrZVeb0LN7U3h9j-Ux4CJWkLR5xqBvi9_N4xbSGHI--uHve7ic_c43dO-XDXwOZ5ObaDxxGGkRnOdZ0I4NfIIvZvBy_7Jir5ftrESCxIyY1O4ROTqrOWlljylQJFmtnNKkZfBAyGFW69WG5_1JpnR8ybVKQ8T-vsSJ6_z6ciGw4XfMt8q_chyragMUp84ANlkw0UFAIxImVc76s8MO7_2MwKFJnsvUszmxZ1rbRfNDYz2FZzguU9tqLumF4CZUYWE0YeKZ3lZdcr1LHrgSInD1hU9SbWAG1OaB1rT1IsWUoXTYtBk339ys09f7OsWcnBpu6Nvz726HZfi-x_zPV7bREKdkwXiSJIg&refId=HU7tKKPRmoYAbhpOIfM9nw%3D%3D&trackingId=Rqkmx7bWRxaZfbJlkVx0Zg%3D%3D&trk=flagship3_job_collections_leaf_page",
         "Frontend Engineer",
         "PhnyX Lab",
         "Bengaluru, Karnataka, India (Hybrid)"
        ],
        [
         "https://www.linkedin.com/jobs/view/4278247578/?eBP=CwEAAAGYgRR6NDVlY1CSYgLTQ-LKG3slZo4n7nUvoYboawkPGpVD4XFCq0svTsM1FeDjXxQMib7dGAyyHd6E8xGYFmT01G8ifYukCagppVzOFSg5XaSnbnn3lok_3aKJMneUAiLZeiyW_Xj-KSKBM3Fz8ivVSZ48XAKLgaYnB00o2dK6Qrmj13o7mlYNO8W8HheXrnpDwc-Of2xuqSRkSQszrWoa_HNAadb2WCg8zThiilJe22R2slL9iFOHPYQzwZTWXlro9FE94Ku3prIgHn8GC06kYnM134THt8qKybBezldBchpXcBAjI1BtYbdpWek1m4MaP4Os69QaqO-smEF2zNLdNW647cYDHXlokYGUaVbbw9Mr3Ddj2Mw1ASlFIoplvOLp4_6r6-glvL8LzfX9Xy5oJoq_5jZGnqk1Ykr0g5aFZzItbxtF_yHJMh7iqSB29rrbL9-pSscAcrPW55Z6XGGga2SjwaFw2wU5jIYeFOqgPHRJMD2zMuHU2-boPqJ5zMwjfsuBkB1tPAgdL3jtdHTXT7AIhjA&refId=HU7tKKPRmoYAbhpOIfM9nw%3D%3D&trackingId=v6Lv%2BshX7eQApyk%2FDL27Zw%3D%3D&trk=flagship3_job_collections_leaf_page",
         "Data Analyst",
         "CareerUS Solutions",
         "India (Remote)"
        ],
        [
         "https://www.linkedin.com/jobs/view/4273593598/?eBP=BUDGET_EXHAUSTED_JOB&refId=HU7tKKPRmoYAbhpOIfM9nw%3D%3D&trackingId=6sA%2BdRcQceHdBFuZTYLqbQ%3D%3D&trk=flagship3_job_collections_leaf_page",
         "Python Developer",
         "Datum Technologies Group",
         "Bengaluru, Karnataka, India (Remote)"
        ],
        [
         "https://www.linkedin.com/jobs/view/4280141875/?eBP=CwEAAAGYgRR6NCZwe42hSSirH9Sz0o8RusjJYqS6izkOomHgR9MdcjawOgZ54qM87PceWtAp7xAwPHRmjQaWKS-GRwwWDvSD4T5tzSbREZbrjKceNi_08a9L113D9ZYUJL8z9wJM-jxNEfwQ5Gy90coQxMlHA8knzdWPuKpsaZj7gjm9YNfH8yk-3hb0r-rOlRC4bllJeYLMjlU7NUfvzbD0McNRoGgsO3jXLuyJqK6fCDSZk8cYERe5iA-MKPpnqAQG46dpfO6Oq_Bretj1oC7gLjo7Zg8qr_xk4ErdC7C1eymHDZzL951UA_GBzLAI6WFE50Di7F6UyrHtM0u8M3wbxnkimRnIzkS9nsWQiOwW-ONbQPyjHfzmipS7vd8GPVRyt15-0NwhyFUmMo6_e4JS6FYfnTegyRM93C4rPm-CgTvhPW4T75F47lAeuouxHTUA3PbfSQ0U6pTw9-ijjyJuNHPBwXM0M4vguC_44aFBFoDx3ps7TkZ_CNQ2r7RneKUSpg-4oMTdf71qDvbX44b_cy5bQaxiPZA&refId=HU7tKKPRmoYAbhpOIfM9nw%3D%3D&trackingId=1rjv0tcAjR%2Bku%2BxR6Cu06Q%3D%3D&trk=flagship3_job_collections_leaf_page",
         "Software Development Engineer Test",
         "Airtel Payments Bank",
         "Gurugram, Haryana, India (On-site)"
        ],
        [
         "https://www.linkedin.com/jobs/view/4278062997/?eBP=CwEAAAGYgRR6NPjsud-JCM6_LEfbEy-EdUEYodoclOVyau1y8YIyD79YGll_luXVKRAlE5GuX-df0a_9RjU2Lr6VaHNWh7mrhBzQ4PeK7gwvwpj1FMDeJNuMXTjZQPT6KS_jACBktSojJJMvLg08VXmkiogliJEkdeLxRLe4n-Lybg3urosHnBtWZMVA-9LPOUXqZpxAQ7AbIKmufDCLD3TiINiIZPYbew6NnFGkaUl8JaxHb0fuATaCYvTgg-NB5KK8RChGon7xKNk3a4QEAiLldQQ6PdTxbK3bj0yGpIiZY4dh2aPkpb85F3iYwRKt3-bIp2WuBOd0ODQE4TiEvFLcPsnIrbe-zT6Uy9w85slAcdWLTc_MfhzwY-DJKiqDqGpY7-_MZ1SJam1mouq7TkEYGdx991gKAT-e0ZV31-OWwg83vHm-pe6t5ZQsyllbZcLB5eB7bMRLuRluUfPjmvVvxtRwmNvIRMnQOY_0xZm7guZ7jW-SQHPE-NlVngAtRR7Iyxgh3C4LOpcjA0QslhUJmjRXRbEF&refId=HU7tKKPRmoYAbhpOIfM9nw%3D%3D&trackingId=FRZMpeEhbcfD4ZicDPDbRg%3D%3D&trk=flagship3_job_collections_leaf_page",
         "Python Developer",
         "Datastack Technologies",
         "India (Remote)"
        ],
        [
         "https://www.linkedin.com/jobs/view/4279361445/?eBP=CwEAAAGYgRR6NORvXTqamYdKMa3oFWm4INdL_Du8vD4zs7_I8EhTWgU3GEwYcTGzQiVPtiKqV2cNVjh_LVrp95TPPuTom-uEPXo2BdApc68Etx4J1pzZs_6M9HRkmzUpQPs-cxdM9X1vcv-sSeAMsIpZ-4AQ_8VU2ZmdkQ_7D8Sp0HqO38ag_2bUqNC40Rd1HCdTqpEVl2kTRO5Nfgowu7heBCWlTkdGo8SgovPoV_Orx104JJdS0x6IoXQmAvR7yHLuTK5jYnEe50Z7t-K34ZBpOYIPyZgT6eT4x3DMqls2z0OJQsKDI1M2XcXBVAJgNoI616SvcMurmc_lPP7BEyOfwnn4Cjtzgj41OplARirmeN3UjVicfLP8iBRRxxEXdrcbZn7aBh4ZsyD9mIYCnQUuWk8SAZ6DOz4V6vWl80YYrjz2kH_yQD-dJlQh398Qy1GLruM3uMHyRAxK7FwUY2_ZZ-1SQI6rmXldX8gLWoiqecVibPFtAQYFiptud5dJZM79TRe3L4cZRBAFixHeas6t2byZlqY0&refId=HU7tKKPRmoYAbhpOIfM9nw%3D%3D&trackingId=j4zt5xSJWnK%2F1Do%2Fr3AHRA%3D%3D&trk=flagship3_job_collections_leaf_page",
         "Junior Developer",
         "AAA Global",
         "Mumbai, Maharashtra, India (On-site)"
        ],
        [
         "https://www.linkedin.com/jobs/view/4278814835/?eBP=CwEAAAGYgRR6NGefh3UFupIXXCqelAz44yWcMnEBVNCb8pCq72QdpZAGlMuO7mudjuSvQiwaJv-NXzntWsRemUACEXBzC0nXaVmo7T2N3BdN1RKpHgXFfOyvdmFkdbZzC6IPW2XYLNI_xdgFVe-b6bNo8DThNYMkntw7tDgFb41irVdPR_M0sjmVQHQ9GBCM7fDjUBSOXq9wIftEGjrpVBQZCH-rjrOjGU2mOOT_1Yloma-TMMJK_sA_KgXmwYuyxJwlataRpEmKiqcuuJ80T4zEldWrpq2Q__5fDEgMDbmcrbrt6DAC8xw6LOG_0PrerW6JT-x5jdG6QlU4dBfrgk3hCdu-BZSaUqmXwohvgM5qcdC6sVllnav_fWUoWH6Vt1qkujTosZPXR7pzNxsPFR3HqfK8TGcUHJFcpt7f0z8aKrkQkkZvySV0W8nzuq-mWjSOgOgfcx0-J2yqfvJWLskAajWTXx0SEEeZ5lIrehEbPD2awPhJ-8QIYUgPCbNe7fo7U7vvzFuGyMUUzwYm5_ApsDNS9xaxKJs&refId=HU7tKKPRmoYAbhpOIfM9nw%3D%3D&trackingId=C1Hou1knVMP8LLc21f9sIQ%3D%3D&trk=flagship3_job_collections_leaf_page",
         "Python Developer",
         "Wissen Infotech",
         "Bangalore Urban, Karnataka, India (On-site)"
        ],
        [
         "https://www.linkedin.com/jobs/view/4274205056/?eBP=CwEAAAGYgRR6NKiilphPR2gIm7WK5LppzWHZC2QQ8QULLHpHrvWEKGPFomAPpntaBx7z6D4riLXYcjffOnca6Jtw_S9pIPMSn7qgwqXh2zKhsaZYmvPdALSoYa93VO7KEpAqi-l39p4iio4Br4CPgIsH8l3KZQsDlIda4mtJTDPdcj6cbeAaDiQ0bgjkgGT8vnDELo4bTN8egb7dOuQvraymjPmy0L_fxblAfIsl89x62mkp2iu5Gbav-cuBdtUQEzU8mgF00L119U-annqtafgvKRgYIbsF2yDa8UaMelt39y-4RB8V_7xeiOf8XBENSKWkmORzLvIGc0i_EuYwWJ5xwy65Og3F-tp_4jJN9pGTOLeXKhiD7-C9S65FU4MiqW2QFgh2RJWKe1n7q_vtjLwwKJwUtQp7M3bB8YMQu7327_CwlpTtqNerkILIr18GPjY23W482tLV5NBmbJgj9lo9ZaNtcHYAUHgEJbpFUFD8lOZc1xPPQH1e55lM1NSfIGL6O69lEZx0e8ta&refId=HU7tKKPRmoYAbhpOIfM9nw%3D%3D&trackingId=um7qcUl4GJbXXYMfJf2TrA%3D%3D&trk=flagship3_job_collections_leaf_page",
         "Software Engineering- Web",
         "Carousell Group",
         "Bengaluru, Karnataka, India (Remote)"
        ],
        [
         "https://www.linkedin.com/jobs/view/4280800394/?eBP=BUDGET_EXHAUSTED_JOB&refId=HU7tKKPRmoYAbhpOIfM9nw%3D%3D&trackingId=4Pvz7lPHap%2BuvWNHLyUg4A%3D%3D&trk=flagship3_job_collections_leaf_page",
         "GenAI Engineer",
         "TO THE NEW",
         "Noida, Uttar Pradesh, India (Hybrid)"
        ],
        [
         "https://www.linkedin.com/jobs/view/4245121446/?eBP=CwEAAAGYgRR6NQ4ZuPW5NoKadsFFZ-VYhS7yKaWQJ7svFhT78q9LhJ2pePvsG8mQUMm5IN4xrQHOtqxHooQCZx3oziZJ4-E4ZLne28DqWuohIHAai1Tf1ra51iZq76X6EMKAlVdDxsc-YnIHLn0SAPvKsgStvtrttjOAUy4QxDMuKJAQ8k6wHsMSVYgf2VR4CCB4HMirLlDv_GCjMJK8_kETemf7_j6bqYZuR9vXNPqmvD4INYwdoFSaMhvmrO2JVKw7BD8_MPi8RygtjZxdxwlYfx6YDZzR55kLV2_W5AP2JCpAQCIzKI-FqWsZkH_MC-I3ZqBJKjBgQVp3YUtvhBzm7D0EvLwqHof1F7U0YeUIBt40A29xLHho9nO9SXAm1Wbz0DGYzopjiqLGWmqU4WY9L571NNxnHjt4VFCM6dFqxC_vuZrOWIepRN4biNd_uaq9rL9Ff9-ETBl7CZ_1rDySG-xdQHshaVqxEBi-W0wtAXoHQFyNIeR3sXs-7xHUWaR7jeNw-oURqvqvHiYkKHMT2rLlnPck43o&refId=HU7tKKPRmoYAbhpOIfM9nw%3D%3D&trackingId=TK35dOditK9QcPiygCvFZA%3D%3D&trk=flagship3_job_collections_leaf_page",
         "Data Engineer",
         "Centrilogic",
         "India (Remote)"
        ],
        [
         "https://www.linkedin.com/jobs/view/4278499830/?eBP=BUDGET_EXHAUSTED_JOB&refId=IXn%2B7T6IbKlYbETu2OTZWA%3D%3D&trackingId=UStwSF1dMfSfWZerjTNxQw%3D%3D&trk=flagship3_job_collections_leaf_page",
         "Data Analyst",
         "First Screen",
         "Kochi, Kerala, India (On-site)"
        ],
        [
         "https://www.linkedin.com/jobs/view/4280908957/?eBP=BUDGET_EXHAUSTED_JOB&refId=IXn%2B7T6IbKlYbETu2OTZWA%3D%3D&trackingId=1taqZsfAG7opCHSvh0%2F6WA%3D%3D&trk=flagship3_job_collections_leaf_page",
         "Python Developer",
         "PeopleLogic",
         "Bengaluru, Karnataka, India (On-site)"
        ],
        [
         "https://www.linkedin.com/jobs/view/4275934453/?eBP=CwEAAAGYgRSHYQlBocX1aee5Y4B47a0ilvIj3x2b4sHK_Trxdj1Jw3BI8enV2QTjqlIOpNQIVAsJbqpSRDrcA0Dl9Kc7oC6xHOhQt0mNkzspgwkD5dylunHMN1wcbxHr5AcNc062hukfcPfr5bDuS-ugLCex8-Z2qYI-gMqzj2bbuipWgoo5UCRqRfFTvEdU63wjbQff3ycroIHRft1ZYINsoebENA9Kc_ceshhTTk2mwBDe76bDYg3TxKiB8nPIY_QW9zrULf70UdDf6y5TqQoDltR7W-uIoLzKTT_fe9GyoTTkHRc9eqw_fTs6H6Y7AIZNxZMjDOZTq9QJcLZR23AD9DqvJDLIzfsqhWVD400zgV3KCzTDBm5w0cJEF0kwHkP9h86k_EXOo3kRnKII9ffaXR60l0Sj0WbSlP4x-aanmKn12SvJAJKba0DlFxMLzebBzA1QNmSJBAGSSUWpTtH-eqbiqB5oHsmRLJkVMQCV6ri5mkP-FEsKRSalNC0lClo0QuhdKBKoOZsL-v6aYdRCGamKllAF&refId=IXn%2B7T6IbKlYbETu2OTZWA%3D%3D&trackingId=IFxwCcUSZmZw4y4GsT3Klw%3D%3D&trk=flagship3_job_collections_leaf_page",
         "Data Engineer",
         "Mphasis",
         "Bengaluru, Karnataka, India (On-site)"
        ],
        [
         "https://www.linkedin.com/jobs/view/4266402388/?eBP=BUDGET_EXHAUSTED_JOB&refId=IXn%2B7T6IbKlYbETu2OTZWA%3D%3D&trackingId=wpHESDFp8IN4x8Cct1b2Bw%3D%3D&trk=flagship3_job_collections_leaf_page",
         "Machine Learning Engineer",
         "KeyValue Software Systems",
         "Kochi, Kerala, India (Hybrid)"
        ],
        [
         "https://www.linkedin.com/jobs/view/4279555995/?eBP=CwEAAAGYgRSHYRqbWacCWN9MtaPKozxcrG_Xw1f9bVNPfGcKx_1640uqBQac989WB-NyOCs3gGFhAkalH9bcZ2-zCMTkQXhRCNBsesBEheI7TT-Oykg9k8hWrYTUxCMJn-bLEZKX_0eEQZ7K2M-yWHy8pqiBrYoLMdnOGk-jv2KPToe3IE7dQ8hSO0vNikZooGbKPC6HJc495YbXwo98nonU1XjSJ2YYXKmm7MDWx8eho31ri57siS1oI82KZHJbRSZLtGJnM8oSSlzyUJU640bH9kIaQOobryFnVYgb1RbuW7v_DcqCIdZQDFCDwz5LOm9ATBn-rGk5fKU2PHhzUkLRj9XXznyDgC-5RcXkStJB5x5KbAL462i8TzTTp86Sg83gyqwtTCacswOyncGcgutji9kn_xa17A_yA7BoVtMGD6_uMY37jwyRTpOPeDuiNYItOn7CTUzPl_rTzclstcKHIYsbLb1V7traOKS9OKa5YxCTXt7c_U-yzSpWk3zMXeo1_p8-1VIrkqDTDsf2IJj9ZeuH82lc&refId=IXn%2B7T6IbKlYbETu2OTZWA%3D%3D&trackingId=3oo5CSsTOD0mKIO9wHRQuA%3D%3D&trk=flagship3_job_collections_leaf_page",
         "React with Python",
         "InfoBeans",
         "Pune, Maharashtra, India (Hybrid)"
        ],
        [
         "https://www.linkedin.com/jobs/view/4280083964/?eBP=BUDGET_EXHAUSTED_JOB&refId=IXn%2B7T6IbKlYbETu2OTZWA%3D%3D&trackingId=3H5tkO6JmBNt5S9jIp26Aw%3D%3D&trk=flagship3_job_collections_leaf_page",
         "Python Developer",
         "Darwix AI",
         "Gurugram, Haryana, India (On-site)"
        ],
        [
         "https://www.linkedin.com/jobs/view/4258100629/?eBP=CwEAAAGYgRSHYe1sV6LWIqEQ6ru6OvzRituNgxmjAGmaaj9j3gx64NJ53CI9gA5RNOjye_DEbuHkuprb0UitVU4tZAH4p8dvZ7n1MDxAIECJOaXBYHwTJ34dP6HqrunOJ43dt2WI3ZKJMFvfplBsiIAfsNxxoI0FmzUww8JHP3BsR4XzCRwtfzBxRUoau9Zuk7A3C9m4eVRNiu_PsgWaxMCS4Hq0uiYzh2eM8tLPW8GcBYz-B6IaIb534VsAnN-yqNoaDtWeIQwBL7I-G_3AZ29WfGHZIrsDiO1IQV6mscnkroq25qUiDzn4vWsz8AikZHGrPbtKEMgWu9_tIVWcVYCIpFmrKaXepG8nJPCF9aekkkDJB6hjDrm2yguitj_i19mZyWvmd1zFdhhssn58t8-6foLCJ8YpQP3FX2r_YIz-cOje_oxYRStrqsCknDDBOxiNV5PvNQwEl0MpzsoScvokB8CDasXLDedjjRvKSrMi8ivUDF8qfT6mv3mWi6bI6gN5DKEyzOybHOuENXhfTTuV2s2s5AsxWd257Q&refId=IXn%2B7T6IbKlYbETu2OTZWA%3D%3D&trackingId=pXH%2F%2FqLfOn1BAaIoANYdJA%3D%3D&trk=flagship3_job_collections_leaf_page",
         "Geospatial Data Science Engineer",
         "Esri India",
         "Bengaluru, Karnataka, India (On-site)"
        ],
        [
         "https://www.linkedin.com/jobs/view/4261958705/?eBP=CwEAAAGYgRSHYXq-2tNNLGZi3tyT7Af70M5BL5-Pi_K1HBDcKiynrFGF2e3LcpXQn7iT9HnVzOlx-CnpkI81QJIyQMjgkKxOJI3nHAozocToEZQ3fA8FM88So8qwPhkdgA0R0Z4Kn-9Pql-O5QKZyLmW6zVHMnV-RdAO6yCmmTrL1B_Y7PBA0T4fhfxdScTkIXIrurizBIEud2rMUIf2vmHsAI-LKzNL_0yF5V14BcEo2NyWgjjfOBUUwdlfTEextlrrl5QS-x8qKRmX7i53BJHaPfm_AR8LWQAwffXZBKoqNzF8VWAicfP7ywJG9OZ_V_3QJKJnAd9-FQ-6G5LCgaL9D8U6bc586b-7G72pQjMECQknRCWtw_AWiGFS7jQ-fF75OrI8CwlPPdVhet69yymUs2bNLDYS1tYfToQ3TJejpkM3IBIN6RpZU9im0l7rYGMT4__OiVU3dAw3ryMLBdzvdZORQDpRrS7pZ_5Oi7Qdqo0PJEdZRwKu9nfP3ZRvoiViaZs9vBRD627T2Z8g_WuinGmA_A&refId=IXn%2B7T6IbKlYbETu2OTZWA%3D%3D&trackingId=sgL49RdKujsj8ChiXEJl%2FA%3D%3D&trk=flagship3_job_collections_leaf_page",
         "Sr. SW Engineer - AI Engineer",
         "Roku",
         "Bengaluru, Karnataka, India (Hybrid)"
        ],
        [
         "https://www.linkedin.com/jobs/view/4273865227/?eBP=CwEAAAGYgRSHYS77Qsl81O2Mp7sx0AvQFNJwhMVe_nHP8JEm0Xzl6o25QUzCEIlPnhMADCBlPnKh--GCvDQkcfIhzM2VdmaI8r7HxoucbqVsg7LZVKI3857sU9_rSeJM4CdzeSxL6l8br97iIB9NDPM08DWckEDn04tpxGpR6TMjWA5OnyuZtmVEH4N_aB8wTzQblpqUjPe87M_PjUq9RdA6alw7n0YRPYcsXmtZBcEdsgVUMN_XOwC24irK9Dz3DEP95vsjGGQc5-_QipYdmqTFO9kaW5ggeuGMEDXhIk38EoPGgJKVeklPNplgNa3RShXDOEFjamaQ_xF-PW1WBjodZopHsM9XxpQXxUnI4X0hbmo3hdl-2G2W_wIr63l-LuR5s2cHmV5K_HEd832o0FkmyeEsztYOFpdaWJfNWY50MUEKZiQf4dLiKTD0YCVLo1RE49z05NvYxjt_8ELafBDjCLdsUv7Tw1RWQVXwZUD7IOxgEpYQAbrKlAuaR6QW-5BBkJqfraPycCfnOtXmsoqW9CdtWTP05mU&refId=IXn%2B7T6IbKlYbETu2OTZWA%3D%3D&trackingId=Aq9CnYYL7gA6aWgVJKkajA%3D%3D&trk=flagship3_job_collections_leaf_page",
         "Python Developer",
         "Binary Semantics Ltd.",
         "Gurugram, Haryana, India (On-site)"
        ],
        [
         "https://www.linkedin.com/jobs/view/4278056511/?eBP=CwEAAAGYgRSHYbKyK1t6aUVQpAHioJlUIGYPYPD0qZuJcA5sbG-5yJ9xXlsxCQN2bnrEeJynLuYdC4JOPRlkC5gLy7FDDbQZid1cw80_-l3nv5H07Us-DFcAL9Ef_mamod0c_ysEmpE5Vimg434q9tf8Mbz2FeIMFACwdG-r872fyRHghTCIltJPPziqdJ80MrSvA8dnJ4p6OujhcwkT44tWlkWKF5fk7mBKSavRx1s8oICg-_dHJI1wUitnIM5GFKDfbTthxUCAwDJmz47x_698X7t_wV7zMrFA4JXfVvuWpz7jbnBXvTBO7SmCJJ9p_yhmeOKHFP4qdC5yK8iNMBWiHaYgvtLs5Eo2iJkEA4dEgb3Rsfl-sDiUC4hWQrewrm_QORDlk3dw3ncVMtCzfuAFAsDrwUXsh9HDc2HrbJKxgEsMw8r_KEDWfBrBxWKA0SXOqDBGAIWMipv5zcsratuOC-6SS-1prh480ciACOu-KeD1d0U&refId=IXn%2B7T6IbKlYbETu2OTZWA%3D%3D&trackingId=al86rCGlIBzjPmyb%2FGunXA%3D%3D&trk=flagship3_job_collections_leaf_page",
         "Python Developer",
         "Relanto",
         "Bengaluru, Karnataka, India (On-site)"
        ],
        [
         "https://www.linkedin.com/jobs/view/4277157799/?eBP=BUDGET_EXHAUSTED_JOB&refId=IXn%2B7T6IbKlYbETu2OTZWA%3D%3D&trackingId=ByLFrh0x2XtwoPHts9Y9%2Bw%3D%3D&trk=flagship3_job_collections_leaf_page",
         "Software Developer",
         "ZEISS India",
         "Bengaluru, Karnataka, India (Hybrid)"
        ],
        [
         "https://www.linkedin.com/jobs/view/4280451154/?eBP=BUDGET_EXHAUSTED_JOB&refId=IXn%2B7T6IbKlYbETu2OTZWA%3D%3D&trackingId=nj834IAvHex%2F2%2FuP%2FaCGow%3D%3D&trk=flagship3_job_collections_leaf_page",
         "Data Engineer",
         "The Functionary",
         "India (Remote)"
        ],
        [
         "https://www.linkedin.com/jobs/view/4280159089/?eBP=CwEAAAGYgRShx8mFwInd5Wtz4tKo5vhxu9PGSkhnIpiguzTWBAOASPujb6-ekNUa7oOzCfK_lTshBNbz4-hF-06OQNl2o53OnOA5IX3tX9ImsVQnYl_MgsYMj5Ktfodji77y5QC8P4J531-b_Wzz8OZvLvDs1VEgzeNnRBYTvUyWzELthchmd85APr28okiNzOPXg0EmZZR1HUaZXIMIOrmQzU8LPnbLkZ42sQlt65pQUuw9Cc8EWX0YAsuR1LPF8ZRPveXvJmkh3OR5OjdYCq3cmLH6khN2O4YLqWWfdgIEPzh1RaZi7-M1bSr95-8D0cSUYxg8DjHnYA3mcZH_F-2WhgGWm-_Sg6aAV66rJ2cHHRqqOG6d6OcMeslaR2PHIJWoOWZ30TtjN8-GILlOxT8FiqQAMnAfDV7oGUP7iTyCzcKk-m2CbjqNdGHd0fLhqBIFCqEW1EGRQVxXOZ4nHhtuh0J0xy8-nm0vaV3KzCuikIAHnB1ff_YKxz63Bzi_NXKAysRshfTjZAx7F6sondmOq5y8Y3vwu8wkdQ&refId=MYPN7y%2F6AW6jfo%2Fh5tzXMA%3D%3D&trackingId=xEsgmowR87anJxv07xJlOg%3D%3D&trk=flagship3_job_collections_leaf_page",
         "Remote Data Science Analyst - 17843",
         "Turing",
         "Pune, Maharashtra, India (Remote)"
        ],
        [
         "https://www.linkedin.com/jobs/view/4280346453/?eBP=BUDGET_EXHAUSTED_JOB&refId=MYPN7y%2F6AW6jfo%2Fh5tzXMA%3D%3D&trackingId=wK2%2F8zTdMPzdw6rnTyll%2FQ%3D%3D&trk=flagship3_job_collections_leaf_page",
         "Computer Vision Intern Remote",
         "Bhatiyani Astute Intelligence",
         "Bengaluru, Karnataka, India (On-site)"
        ],
        [
         "https://www.linkedin.com/jobs/view/4280121497/?eBP=BUDGET_EXHAUSTED_JOB&refId=MYPN7y%2F6AW6jfo%2Fh5tzXMA%3D%3D&trackingId=A6Al2m%2F%2BYwDEgZrWC%2FiJ0g%3D%3D&trk=flagship3_job_collections_leaf_page",
         "Data Scientist (AI/ML+ Python+ regression, classification, clustering+ SQL+ Cloud )- Group Manager-Data Science",
         "WNS",
         "Bengaluru, Karnataka, India (On-site)"
        ],
        [
         "https://www.linkedin.com/jobs/view/4275931334/?eBP=CwEAAAGYgRShx8FqwN_v7GT2o3MfO5XqjXZ0FGHQoj4og7uSXcJIn2HiNpBvkII_Q7ImY9L1xITqw6sSMxR5JzU8tFX0lHcnYRMr7p_tGmPLi0ZDAb5NAVn8XS49IWBxcXsevucIDyNe0caqD7Q2otq0yWZxbqrEmIfBK7nOS_VmLYAkzolgTr9wX2iXjfLZAMAjA7ldb4--GBy_JIzFyOQMouNYyHBWmraVEDJOVbJ1D_uxTi4u55aCHzD8_H6hfQV1QUl51dP7ymPq_Dp-6FwklEWpUH_IU7keakb2759MLFl_yxU0tZMZ7-l6DuXO8z5_jcYbmNG51xl2qxz6I2FjFdltlcNgTuyrLR1gRedj135BgEH9qoJ7nV98Rwe89WHqgyNTD7X6tW32AGcgA8nzFVWc7vypg5DZka_Z7rMbZoZPg1preQngKsSrl64cNPEm5I8zpF9d5dX-ljiCyUIWwJvWNymDz1bi5w4jtGY-35bAN7Qum41DijhH4Hl1Y4RtiNmPMkRDg5VsOfXCraSrYSlBK28oGRhm8g&refId=MYPN7y%2F6AW6jfo%2Fh5tzXMA%3D%3D&trackingId=o%2BSADGHi7wkXwyPxEswQjg%3D%3D&trk=flagship3_job_collections_leaf_page",
         "Artificial Intelligence Engineer",
         "Grid Dynamics",
         "Bengaluru, Karnataka, India (On-site)"
        ],
        [
         "https://www.linkedin.com/jobs/view/4275584994/?eBP=BUDGET_EXHAUSTED_JOB&refId=MYPN7y%2F6AW6jfo%2Fh5tzXMA%3D%3D&trackingId=o2rg5nMH7ZJcKQMS8kQ22w%3D%3D&trk=flagship3_job_collections_leaf_page",
         "Python Developer",
         "HCLSoftware",
         "Pune, Maharashtra, India (On-site)"
        ],
        [
         "https://www.linkedin.com/jobs/view/4278123433/?eBP=CwEAAAGYgRShx3TZl56YZ6sZQvVs2waDUhC6-rqA3UnpjkiUH8LlWIxNKEueb0K3nw8sO8B-YtPwHz4oOIO70m_a4zW78NG2_gvj0et2LNfTNWOXKXaxDCWeHcAOWUcrRrBhBR5GtAfkiH8u7bm0M4iNdMoHKh2ZKO22skFrGt8QiimYwXku6N2Y-gDLAPN9w02kMW-75j1dk7FxTtMBrnzQipQfUxY8GPEYbkxGxtX8kAVpwIIgcNi5Ca_R9t7aE8pb65D7Q_1ag5WNR1Z5wu9WVuuNPVEnpJNHFPLN6yZHRMkvWlZwJSY07Q6gnkPdVZWzqd0mtljduNxBjwdN3AiVrecLmWxlYxnUzSp1I_dhIKZQgUPNlKI0p1WHfz0Skq75uBFNoVyg0-_vtjVe6ZYtQLl1VNsH0Zhgvev-qBKjCymk-yLUXhYyGaiKtM4VZUCnT80McFNPusIU1fW47VcWXGkOC7o5NWb-k_GmgXbz65B_wpyLn-MnvRbsoiEfdqJ74H3npBuhFLgp18wfEKfz8VodXaVwaOloRA&refId=MYPN7y%2F6AW6jfo%2Fh5tzXMA%3D%3D&trackingId=vo8pzKwkdxSqJBuE6x8FDA%3D%3D&trk=flagship3_job_collections_leaf_page",
         "Data Scientist",
         "Circle K",
         "Gurugram, Haryana, India"
        ],
        [
         "https://www.linkedin.com/jobs/view/4272012450/?eBP=NOT_ELIGIBLE_FOR_CHARGING&refId=MYPN7y%2F6AW6jfo%2Fh5tzXMA%3D%3D&trackingId=6wdCZjJ1%2BXIG%2BhJWUqQo%2Fg%3D%3D&trk=flagship3_job_collections_leaf_page",
         "Python developer",
         "TestUnity",
         "Bengaluru, Karnataka, India (Hybrid)"
        ],
        [
         "https://www.linkedin.com/jobs/view/4277501095/?eBP=CwEAAAGYgRShyNaVrCDtY-Qlsz6VMJQpihbQdzjtLC4eWhIopdDHYSz9ndUrtFoZAdcFRhKQqGOPA8bpfTSTrHf_e2dcJtVZLOXdlqECRnM4wNMragLJEPkjqQyycjDBjighwpTtGepJ_39O9aVdCB9IdCFaEA7d88oJ4C6NIwqq7zDsQWJw3MAZhJGtCWF2clhOfpDe9IB7xL9PSN4lu0xbBSlGrGGTRnS33imPvSalk2FTPzoXhHJviQqQ64kg0XmUyHagftQTkqEO9ssh0sqbfiWu8l8JoSnS5RJcBXHxjG8WOGsaLwJz6-jDKl2EXMpE2g5fY8_4uoSphNnd6KicmVnSSAM6Y6aQ6WfPJnbADJKDr1uZwLsKeh28Bc42PIUWbnuJE4KENQsBN066UyQklx5hYBZOxLxso7TpgL6m8SU4DcLvxKBMf7ioeYei-8koYchAcXMNF0mMjRPbd2xD-rAg7zZ5__W9TVFxlhmo_QnoOw_wkRoC6xTCvwusafntydV0XtLEoxqMDKZUh_RqgNycyUOz0OU&refId=MYPN7y%2F6AW6jfo%2Fh5tzXMA%3D%3D&trackingId=HELp3b62bEVrf6V4k9dGIg%3D%3D&trk=flagship3_job_collections_leaf_page",
         "Sr Python Developer",
         "Nokia",
         "Bengaluru, Karnataka, India (Hybrid)"
        ],
        [
         "https://www.linkedin.com/jobs/view/4259429652/?eBP=CwEAAAGYgRShyCTm2v1zLa-TznmmKNaOcLt38Hiv-zEr5ob_DK-ejshPNlZ5Cp21eV0occQbdidT4ijq4U-2f8PuijG2Uzkp3FZIY5tJIDi69boyqzK7-khciDQSmObjt0tc7WfllFAb_Q1E65pXsRRI3CUe0ZyKYPdIEWhQ-gQ4GlNfk13_J8bVseT5xZGeeO1M3IKO4a5H9Osw9n5BcCBJspEAW8jiGgtZihJRXcVFqbOIvqeqCoeqmApD97T-9sERYnMHiC-y5pnVtzrhq5Kc02ZAlzN1dlLT0ESuW-ZM9K8d-tdsc6tlZPnc9wV4bJlK9YHVg6Iu2GUcNJRBfDzWjs03DZEhuex1SbkJQfibO-ZuBAjIBCHIsFcQCnWQG0Th4lHStqb9iKL-s8uOH_mLaDzqVBKaGHqxhr8PXq6ybC9mhvOLv1jzW6IKQgEb2QufdyTBsInhagBS6DrMqPodB5a9FrqGka6ekxNHgCPVAXyijLLUcdksQRhMjsx0Z_G8swKnKRQirYgxtFufEeb8qup74Op-HbQ&refId=MYPN7y%2F6AW6jfo%2Fh5tzXMA%3D%3D&trackingId=200YpSPF5ybsudwdVRypmQ%3D%3D&trk=flagship3_job_collections_leaf_page",
         "Full Stack Developer",
         "IDFC FIRST Bank",
         "Chennai, Tamil Nadu, India (On-site)"
        ],
        [
         "https://www.linkedin.com/jobs/view/4277602277/?eBP=CwEAAAGYgRShyKyNJTlmK1pfAeEswA2CFD4VSmKsdET2eKkyr-zpWwkfocl4Pi513-1ZqmWhcsNcBhOdbK-t-7-cRMOMID27yvfUIItsxFdkJJ9qXwC-wT07FzxWYu6v7lynyJdETuYZIwlS7nUeolIIt4wg7GdbpisD9E5QE8z2ZJI95qhTIEaNwfhGjp-hA4UAiVfh_bAFFFUVQseambGS4VmoutUdlBV1UhvflpKOqKzOerMM0Ra69SyS_Gn46ujefliOQ1qfkHtFo2drNouQ1TK54uKN5Q0abQ3Km9lA_4UBdrD4HRDYvuvk8aP4Bo-v_9JJ34GW6HgnIKm4wk9-_iXHBEhReN3Ie9OnSc0BNwQe9ajvKY7R0RQBdSzescg9HqOWLCEsc721Lzy3MrHBCEvg5wTeGXZ_8r40ZQWkoY3oDK7EHD-JQDvD-W5q6XCIJmCFVAkAqKT8Vj-8H0qg_WvbrzoSLhdw2Im6uMYRQpKGAbgMZrSEb142XcbE35hRW_mgku_3gQcpooFPK6o-KHqpbyJYBWuWNQ&refId=MYPN7y%2F6AW6jfo%2Fh5tzXMA%3D%3D&trackingId=4ajm2bGTGhFZwINurlyhtQ%3D%3D&trk=flagship3_job_collections_leaf_page",
         "Software Engineer",
         "Nanonets",
         "Greater Bengaluru Area (Hybrid)"
        ],
        [
         "https://www.linkedin.com/jobs/view/4250486850/?eBP=CwEAAAGYgRShyBsgTWqkc0sMGXqbaMwILYszW005WX-hc-2llOIj4THlwbg43-w4L5Dfw1r_VmYm17TsvoZtA14YSr8dEVIB3WT2VAlx55M2xNgv60okU-EEu4mRTpUv7X4wEGpHaIfqu_KUs_Xu1nNLjvMaNaLFepUqCHVSEioR6yeqnmfhMjEYhTIL913cxhKyXpzbcJuVz-ewgPSZFiX0I-8tJLE4oIhPNsNlPjdQ1ZV8ytrpzORgHkbNywznLHoMe44SMhVWLQPmbSUnhqEwgUknI2DJe6sUzn2HSTCpCCDM23UgxDbkP_-SBWMcvU4frR_eUGCmhNZhZif3iKguFMB-zsfNjyDLABITcqhdDffqYKSMTYxP44iE88HE31rOlfIaktyj9VNbIuaf1j51I06xd9OIPDZ2cGn0F9yaWmwQVm6xwJCmXJTdYJul_6SRMYq-kDwCfXE0uKbg8_UsZwJzOvMDOCbglrwl9T5TOtKtYVIsCFPZeyQUG1Veo-ml3AUvXgeWzqYDJatJExfe-JUtdvPC6XCQ0A&refId=MYPN7y%2F6AW6jfo%2Fh5tzXMA%3D%3D&trackingId=WeMUBb6LktSrAC2b%2BR4LuQ%3D%3D&trk=flagship3_job_collections_leaf_page",
         "Data Engineer",
         "PrismHR",
         "Noida, Uttar Pradesh, India (On-site)"
        ],
        [
         "https://www.linkedin.com/jobs/view/4278206174/?eBP=BUDGET_EXHAUSTED_JOB&refId=MYPN7y%2F6AW6jfo%2Fh5tzXMA%3D%3D&trackingId=kjig2QgL%2BJKE0XkT8BhdlQ%3D%3D&trk=flagship3_job_collections_leaf_page",
         "Python Developer (FastAPI)",
         "BeamX TechLabs",
         "Hyderabad, Telangana, India (On-site)"
        ],
        [
         "https://www.linkedin.com/jobs/view/4272841876/?eBP=CwEAAAGYgRSu0ynzr8P8Zh_cW-9jSXjrS_qD_ijkXkQKOaQGf0LsLdHsRZ-DwPSYTysmKlljRBY8pQmO6EqQwclwqFLgnERhNAtY5gq8KhkXEYyf9uS6E4gQzCrPRYBAmKrJPKuT_r-lxUjOvG24jl8QntUfN2LObLmZTJLLNDEwMDyeU9lIlbeaAfaUSMeFYuA95ZtGGQuiB_0uVRwO80Xq6kIDCJQc22-sgWqI2bpV08dwAtw1---P4v213iEemww7xUrJ20GBHZqa0emJ6Rmw_qofG2FsopS4scFrlozbcjrjm6pJWW4ZKvBdw_YS7VSqoL-38_hL7f9J5g3Ze-rr8_JxRcJC_0GnVUeXBv8uMjQA1Hlsw2VtE8XSxyITgGXEBSodgR3ByRmtgGP3xC_2JUfwVGrsnJtC2WjynA1tISE43vUpGxk5YL4maPz_6hOPxT18iM_bsoLZ_hnW3qPqo-aT1OMI270wierN8j8DIJar3-NvhomM6otbeRHXH6eUP8ep6gje_a0QNKRml8bmvwavvfny&refId=EBSmkZioQQPAVNqYw9%2BGTw%3D%3D&trackingId=Nt7moGcXYyt1NFl6DeQTPw%3D%3D&trk=flagship3_job_collections_leaf_page",
         "AWS Data Engineer",
         "Iris Software Inc.",
         "Noida, Uttar Pradesh, India (Hybrid)"
        ],
        [
         "https://www.linkedin.com/jobs/view/4267691249/?eBP=BUDGET_EXHAUSTED_JOB&refId=EBSmkZioQQPAVNqYw9%2BGTw%3D%3D&trackingId=jvJ8zzz7u1YO4DzFOgsNsg%3D%3D&trk=flagship3_job_collections_leaf_page",
         "Growth Data Scientist",
         "Moniepoint Group",
         "Bengaluru, Karnataka, India (Remote)"
        ],
        [
         "https://www.linkedin.com/jobs/view/4278747387/?eBP=CwEAAAGYgRSu0_p5cl5v3mLO6Nrj5rBUTuwsarA-ZZ3LQM6FeBFfjJo4rTuFOBqqgOc3S6Z7TaIrXTJdVGksrGkpqOyzBUFbpsbfodRTE-uoPyjoJMckbq-BT3wQ1cHUThsWJcFJLCCNHbtZR0S9gu8OLPzp0uXZoVANOPTHmzv23ev3yyR3IuJjX7Js6wvDdK_Ok9RW0hCtDH7nE5_Rzq6u0yuk7ilOqOtPJzkDA-yr3_SBI4OM_Cud2o6Vw05b7WJ1YnJNXsF2VyoxSvBAD78r6sqo7ik_wcV2KQ4dfspR7Aa5zW_Ek4MqJKiBcYOzJUv8F9xX1VbvzheHIIs4huD3sfkhwWBDifPhRyJ-U2JuuxP1GxaZheNY-oOiNfN1f6A9f9N3shITlywtzHrL360ZhSOJ7Hz7LilrZJBMToatEBnj1hh4lN46nAYJd7Cjc9g99LwJngvXz60SmTQGnQ5-ZJlc68Q68qOGCngF_58ZnKwLgFczuDGmMY-NkZm0wqiO-rVIildPN-F7_hZzh-TW3BsSG6Ux&refId=EBSmkZioQQPAVNqYw9%2BGTw%3D%3D&trackingId=aMWpnZNin2TgYCEE4diZOQ%3D%3D&trk=flagship3_job_collections_leaf_page",
         "Data Engineer",
         "Flywire",
         "Bengaluru, Karnataka, India (Hybrid)"
        ],
        [
         "https://www.linkedin.com/jobs/view/4280132856/?eBP=BUDGET_EXHAUSTED_JOB&refId=EBSmkZioQQPAVNqYw9%2BGTw%3D%3D&trackingId=ngW3Yk868pVEItMSY3NA0Q%3D%3D&trk=flagship3_job_collections_leaf_page",
         "Full Stack Engineer",
         "PepsiCo",
         "Hyderabad, Telangana, India (Hybrid)"
        ],
        [
         "https://www.linkedin.com/jobs/view/4271280137/?eBP=BUDGET_EXHAUSTED_JOB&refId=EBSmkZioQQPAVNqYw9%2BGTw%3D%3D&trackingId=bdAO%2B8jQWxFPiKwb%2BtuITQ%3D%3D&trk=flagship3_job_collections_leaf_page",
         "Python Developer",
         "NAV India",
         "Jaipur, Rajasthan, India (On-site)"
        ],
        [
         "https://www.linkedin.com/jobs/view/4274202231/?eBP=CwEAAAGYgRSu0yaS5y0Tlyf9xBApUYTOI7z9t7vCRy-UpuwVe8LHwLPPPSDP5usEqCvifDix2UfFfJDB5XbQjCpBXhWP2QEUX4Co9o_DtYFAVor-i_EIq0wm2Shz_tF2npe2wEBta6aXYekMlhupQgBnwLnPsWQqT2NWVsqsWdbEcD4fcleIjRQKBN6QPYTswg0WuMs0RiCeF37VanKAMQr8fD_vkC05EY9jSQPRWt7Ia93X4RYe07BDfAoOzDNKPS_x2IPWkzH7UdYg-9eZXt1hT2Xs3XCepIuIU1S6-ZgyBEnWmvFkdjQ-gnkrTB_PMzAcLir0l8JL41KqH1mzEHiPeU1w1z7E-2epjVf3A2vVLsiqAVT3MjsT0j6spbBNpzGJIZghUUjumbVt-gAlawdo-ysZPalZoTp5TQHPFWoShSD6JBTbDIlG6BuAWN_xZs802mfDtjb90aiDZ8er5qTQgelf9Rj1IGLrc8Lr3pau8M0BBnMnzHmy_w9Xn58jFItBOm1gLFUbZ6b6BFIzgETE1_JC9u2kcxtUnQ&refId=EBSmkZioQQPAVNqYw9%2BGTw%3D%3D&trackingId=jiwVMb1aegFvy%2B%2BFBpo9NQ%3D%3D&trk=flagship3_job_collections_leaf_page",
         "Python Developer",
         "Vista Applied Solutions Group Inc",
         "Bengaluru, Karnataka, India (On-site)"
        ],
        [
         "https://www.linkedin.com/jobs/view/4274041586/?eBP=BUDGET_EXHAUSTED_JOB&refId=EBSmkZioQQPAVNqYw9%2BGTw%3D%3D&trackingId=S4Y%2FTvkNT3bBUSG0zusF%2FQ%3D%3D&trk=flagship3_job_collections_leaf_page",
         "Data Engineer",
         "ThoughtFocus",
         "Bangalore Urban, Karnataka, India (Hybrid)"
        ],
        [
         "https://www.linkedin.com/jobs/view/4278056971/?eBP=NOT_ELIGIBLE_FOR_CHARGING&refId=EBSmkZioQQPAVNqYw9%2BGTw%3D%3D&trackingId=tL0tOK7WsLfWzkrArNyvwQ%3D%3D&trk=flagship3_job_collections_leaf_page",
         "Python Developer",
         "Prometteur Solutions Pvt. Ltd.",
         "Mulshi, Maharashtra, India (On-site)"
        ],
        [
         "https://www.linkedin.com/jobs/view/4278053425/?eBP=CwEAAAGYgRSu1JdlAnupeNTWOdazeBSeU8sxuLlcsHSgon2rNXsn2NvNBEF_-CKKsPUW5pVnXEFlQX5NspJzCJXXOeEhXU056x63pBZkq9veyp49TKSoq0Ntjtkga9QZogZUeGyAXARlBDY-uzdhOHDZO3R0TQ15PVTTerJ-0iLYIwcpTJz5GGFibUvm8dBAogl1zKcUuNFLW_AfWfbQfFQMix8uvJSactJ5iStb4cHz5dSnuT1J1S6Z5HbGm0kFLl2PjqT1oBLjkp8cpWwYU9ttuc3WqHRzYIi2GLAA9ITusOeHZN_EnA4ptz-0jaLTIp2rMhPi0L8R2Ax3ED02oGckv0z6hKZ2hQYVddWBEEPX__CabULQ09DB9yIpv-avZkEoVEaFlbfB5uZGTTiorUI0eo-CpdV0koEQ8rpdM2aNjZHsujK0s5Slw0Ag-3YZxHDeMMhC0C1lnG-oUFeMe5K-fmJw18joX3YEIlbv6bH1aLZnQfA3yKIt_H2WezN6gUiHrzg8z_MS7g3AcINptRSW0lSgVl6LPn4qew&refId=EBSmkZioQQPAVNqYw9%2BGTw%3D%3D&trackingId=yIrVVI4nggaCSczQpcSVfA%3D%3D&trk=flagship3_job_collections_leaf_page",
         "Python Developer",
         "NIIT",
         "Gurugram, Haryana, India (On-site)"
        ],
        [
         "https://www.linkedin.com/jobs/view/4266230981/?eBP=BUDGET_EXHAUSTED_JOB&refId=EBSmkZioQQPAVNqYw9%2BGTw%3D%3D&trackingId=SAUSa3RE1GC3zL4q5zM5aw%3D%3D&trk=flagship3_job_collections_leaf_page",
         "Lead - Data Analytics",
         "Freshworks",
         "Bengaluru, Karnataka, India (On-site)"
        ],
        [
         "https://www.linkedin.com/jobs/view/4277616307/?eBP=CwEAAAGYgRSu1OciLGpKKAU34yDQCFpmdP9i-d7AFG8kAQYoawBXq0-Wz4gW39Alnen7imlNrXWBA_hbYAPYX4AwNRpLIw8ETriJmMJQiZwQhP4tTzBHej7b6Cbt82AHjcw9ay4cp5qmmWf8YOXomY0PcZaQc-rdi8SYeX_yjZDHLCB8EIObMHyT7zxFL0Pt_rXoSKDZMppSsGXnOtI7WpF5Vc254-lGLQllbsNbstcgLQcbPNB7yBN15fgsLSTKyAjlqXjBkqBhz2zSL3hP09s_nwHLsq_UKm1xxxNYlbBZKKlv6HV5DkAzAQpdCp3eZ55QdESTw6pa509xdX4evMiTVfN9WUJfxCvbvAQHMHQOZjTk5AoYdib3N5q5mKTUV40K0vNxowotLUnLa-nq0iQOJI98sg3vme94eXmYwhOnXLeLvCUApZMX-Ni1d6U&refId=EBSmkZioQQPAVNqYw9%2BGTw%3D%3D&trackingId=u36Ji%2BX3P%2FKdP%2FWPadPnTg%3D%3D&trk=flagship3_job_collections_leaf_page",
         "Associate QA Engineer",
         "Cendyn",
         "Hyderabad, Telangana, India (Hybrid)"
        ]
       ],
       "datasetInfos": [],
       "dbfsResultPath": null,
       "isJsonSchema": true,
       "metadata": {},
       "overflow": false,
       "plotOptions": {
        "customPlotOptions": {},
        "displayType": "table",
        "pivotAggregation": null,
        "pivotColumns": null,
        "xColumns": null,
        "yColumns": null
       },
       "removedWidgets": [],
       "schema": [
        {
         "metadata": "{}",
         "name": "_c0",
         "type": "\"string\""
        },
        {
         "metadata": "{}",
         "name": "_c1",
         "type": "\"string\""
        },
        {
         "metadata": "{}",
         "name": "_c2",
         "type": "\"string\""
        },
        {
         "metadata": "{}",
         "name": "_c3",
         "type": "\"string\""
        }
       ],
       "type": "table"
      }
     },
     "output_type": "display_data"
    }
   ],
   "source": [
    "df_jobs = spark.read.format('csv')\\\n",
    "    .option(\"header\", \"false\")\\\n",
    "    .option(\"inferSchema\", \"true\")\\\n",
    "    .load(\"/Volumes/mycatz/default/myvolz/Book1.csv\")\n",
    "display(df_jobs)\n"
   ]
  },
  {
   "cell_type": "code",
   "execution_count": 0,
   "metadata": {
    "application/vnd.databricks.v1+cell": {
     "cellMetadata": {
      "byteLimit": 2048000,
      "rowLimit": 10000
     },
     "inputWidgets": {},
     "nuid": "54be288b-552d-4c9f-99e2-20089af13ffe",
     "showTitle": false,
     "tableResultSettingsMap": {},
     "title": ""
    }
   },
   "outputs": [
    {
     "output_type": "execute_result",
     "data": {
      "text/plain": [
       "138"
      ]
     },
     "execution_count": 3,
     "metadata": {},
     "output_type": "execute_result"
    }
   ],
   "source": [
    "df_jobs.count()"
   ]
  },
  {
   "cell_type": "code",
   "execution_count": 0,
   "metadata": {
    "application/vnd.databricks.v1+cell": {
     "cellMetadata": {
      "byteLimit": 2048000,
      "rowLimit": 10000
     },
     "inputWidgets": {},
     "nuid": "e9e57db4-1081-4768-beca-4d8c794e3d03",
     "showTitle": false,
     "tableResultSettingsMap": {},
     "title": ""
    }
   },
   "outputs": [
    {
     "output_type": "stream",
     "name": "stdout",
     "output_type": "stream",
     "text": [
      "DataFrame with proper column names:\n+----------------------------------------------------------------------------------------------------------------------------------------------------------------------------------------------------------------------------------------------------------------------------------------------------------------------------------------------------------------------------------------------------------------------------------------------------------------------------------------------------------------------------------------------------------------------------------------------------------------------------------------------------------------------------------------------------------------------------------------+--------------------------------------------------+---------------------------+-------------------------------------+\n|job_url                                                                                                                                                                                                                                                                                                                                                                                                                                                                                                                                                                                                                                                                                                                                 |job_details                                       |company                    |location_details                     |\n+----------------------------------------------------------------------------------------------------------------------------------------------------------------------------------------------------------------------------------------------------------------------------------------------------------------------------------------------------------------------------------------------------------------------------------------------------------------------------------------------------------------------------------------------------------------------------------------------------------------------------------------------------------------------------------------------------------------------------------------+--------------------------------------------------+---------------------------+-------------------------------------+\n|https://www.linkedin.com/jobs/view/4277353126/?eBP=CwEAAAGYgRNcby_KMfZuM7o_bhgQ0uek5G8LIz3U7hjMncVVugI0W2_2x-lIQOk63MgV0pFj1MjE7HhaGb99RkLXZd7jc6H1r_q9un6ncxydzB4Zy4dvHyAMjBZusDk3BCMZXk6r9wePxGnPxBK6dsD_W2mnEKr3amupMQkiN3XZnOFFNNapGVk8qdkqTs0IAI_GeSbrH7zGtVWwYH6tXDFc27dAMFMF2a6J4ilRCR6xI7wl-bnmqR5plOLIXvROJcPcb4SEFZZYlH23vHwdNScpsPGI9Mo916ZU5ALO1qNqiqvKmo51EY2q6fT-5JM1Le5sgtVHSsi5njSw4f2kpL0fyUxR0TUd_ZMhrqCnSG5Kazaq7YI9f6mWYHAifiN_9F1GrdCMA54q9amRH6-AyDbsaL6ADQdVADtsG9iTYgiXgfkrd8sIwiRqXuDridZ34T7CKI_moz3IUU_2uFkqnLIxb8JZ4Z1mOexrhF65qQ6ZrdPpaGrubzWyhnwg9LegBFWPXreSmumgQ3yudbUw7lKA7yf50w&refId=VTdxZjP6Td02BrgNGEyD5A%3D%3D&trackingId=0ZNpZStGR73FRjLBjitcjg%3D%3D&trk=flagship3_job_collections_leaf_page    |Data scientist- Python- AI/ML GEN AI- Across india|Capgemini Engineering      |Mumbai, Maharashtra, India (Hybrid)  |\n|https://www.linkedin.com/jobs/view/4279260172/?eBP=CwEAAAGYgRNcb2s1qwNtsjoHmBzkZDTfCaIKh4_KcJSW4K5JiGezWlAfSSyLqmqvwEafp0lfK62lGPaszLMuoV1OfHtTiORVAuYwAHvPaZDfL9IxslYvQCgpzQkOvgQn0XY8fm7aSZUuxoz7k7Yc7Lw8BeQ_1F32c10tfeAI-D4CeQhRLnRQBWyyE93S3Pu49_0uyTWM5jVFVUCLPlznkBnUNWydS41ETB_Uo7UraHzR7AcVTBhfZVXxOnND5xaN_rHwAOIR4G2PhIMccU0Xu0o12TqGbUIcmY4R4ecX4uuUmV7S0rJRHU4Y_3LRmfobxeU4olIHHRLzrplIj0vhltiH9ZzHjaBUXZLnl-F-bXK1wDrsKcDaXndTmPDVaAR_y7705p4W04jw3zL90AJC2sOfY3_gua9nr9LNtNp4jInWiQur_pibVwKWpYS7Bpzxe0aPZ3g7RnI4na45YjYWRaqT9qUpQ48A9EOl472r-QKDOLnE4hiNvo309xdSfc-fN0641ulh-irR-8fQPyiA85JS-MGCHHb3&refId=VTdxZjP6Td02BrgNGEyD5A%3D%3D&trackingId=DFyDIfGzjUfLe4OLD7lvgQ%3D%3D&trk=flagship3_job_collections_leaf_page  |Junior Data Scientist                             |AB InBev GCC India         |Bengaluru, Karnataka, India (On-site)|\n|https://www.linkedin.com/jobs/view/4277908502/?eBP=NOT_ELIGIBLE_FOR_CHARGING&refId=VTdxZjP6Td02BrgNGEyD5A%3D%3D&trackingId=wd9LH%2B3Su9OdfoKJvC6W6Q%3D%3D&trk=flagship3_job_collections_leaf_page                                                                                                                                                                                                                                                                                                                                                                                                                                                                                                                                       |AI ML Intern                                      |Hubnex Labs                |India (Remote)                       |\n|https://www.linkedin.com/jobs/view/4280550072/?eBP=BUDGET_EXHAUSTED_JOB&refId=VTdxZjP6Td02BrgNGEyD5A%3D%3D&trackingId=Ffe%2FR0gnvKjESBdjFIr30A%3D%3D&trk=flagship3_job_collections_leaf_page                                                                                                                                                                                                                                                                                                                                                                                                                                                                                                                                            |AI Engineering Internship                         |Deep Learning Titans       |Bengaluru, Karnataka, India (Remote) |\n|https://www.linkedin.com/jobs/view/4216659912/?eBP=CwEAAAGYgRNcb7pUVP4u1ndn0ccV-twoDKQpJgzTyFXjquRaqv9YuqDQZUCU45geb-XqNGUhWk2Wa_HxKSjnD0-THpdrzhsQUfpW7l_bR0NrPt7usu5ESbW4P_Ir5Zn2vOah5YPpj6pmUn6XRg58awc94KFovwd6s1aQps8SFuD-2K0YiyNRZe4GtITl9PL-vqqPJZ0DjkdoGpB8enCloNl16jPlUJQuLOqmbgz82Ger8j9uD6yG0Ed0O_pT2zqrhe5vKbeSsicsWej7xA-zmKWxKMW5g9jVUCCACej2rXoqJXlhpCWWFnhlvHunaIFL4U6bY1cr1_H0P6C63_a4gsFrrnvbzqk4xruhemFXZ01c0UoZz59IvX0zy81w9GU5m45E7vf1zrix-zphjYUpFFcBM0o4VnIEeVKGSUiLvueXSVsT-VOf8G88bRZX_7QRNBLu0w3Atq8WjuBgx7-5pvOyNIyvNF96Q2iZoIBmL-6KRWF3UWu1Qc62P_FRZBzoxjEgVozczLPlgnh10st-Vf9XdZuiQD6I&refId=VTdxZjP6Td02BrgNGEyD5A%3D%3D&trackingId=DBYgLD94oNPi0dzDo%2F0TOw%3D%3D&trk=flagship3_job_collections_leaf_page|Gen AI Researcher                                 |HCLTech                    |Bengaluru, Karnataka, India (On-site)|\n|https://www.linkedin.com/jobs/view/4274222266/?eBP=BUDGET_EXHAUSTED_JOB&refId=VTdxZjP6Td02BrgNGEyD5A%3D%3D&trackingId=bfRBbJuyo7u9QHzDgWM%2BAQ%3D%3D&trk=flagship3_job_collections_leaf_page                                                                                                                                                                                                                                                                                                                                                                                                                                                                                                                                            |Data Analyst I                                    |Navi                       |Bengaluru, Karnataka, India (On-site)|\n|https://www.linkedin.com/jobs/view/4277354782/?eBP=BUDGET_EXHAUSTED_JOB&refId=VTdxZjP6Td02BrgNGEyD5A%3D%3D&trackingId=a62Q7extgMqaT9qRq4geaw%3D%3D&trk=flagship3_job_collections_leaf_page                                                                                                                                                                                                                                                                                                                                                                                                                                                                                                                                              |Junior Data Analyst                               |The Guide                  |India (Remote)                       |\n|https://www.linkedin.com/jobs/view/4280144071/?eBP=BUDGET_EXHAUSTED_JOB&refId=VTdxZjP6Td02BrgNGEyD5A%3D%3D&trackingId=vgkb%2B2Cf%2FIrsrTqwqKQsDw%3D%3D&trk=flagship3_job_collections_leaf_page                                                                                                                                                                                                                                                                                                                                                                                                                                                                                                                                          |Python Developer                                  |LTIMindtree                |India (Remote)                       |\n|https://www.linkedin.com/jobs/view/4279278278/?eBP=BUDGET_EXHAUSTED_JOB&refId=VTdxZjP6Td02BrgNGEyD5A%3D%3D&trackingId=uYbbAZHlkuRTf55jYHMLyA%3D%3D&trk=flagship3_job_collections_leaf_page                                                                                                                                                                                                                                                                                                                                                                                                                                                                                                                                              |Machine Learning Engineer                         |Tecnotree Corporation      |Bengaluru, Karnataka, India (Hybrid) |\n|https://www.linkedin.com/jobs/view/4274305695/?eBP=BUDGET_EXHAUSTED_JOB&refId=VTdxZjP6Td02BrgNGEyD5A%3D%3D&trackingId=fJC15olWXCub2haFX3DtcQ%3D%3D&trk=flagship3_job_collections_leaf_page                                                                                                                                                                                                                                                                                                                                                                                                                                                                                                                                              |Associate AI Developer (Remote | Flexible Hours)  |Pravartan                  |India (Remote)                       |\n|https://www.linkedin.com/jobs/view/4279997390/?eBP=BUDGET_EXHAUSTED_JOB&refId=VTdxZjP6Td02BrgNGEyD5A%3D%3D&trackingId=2j8NIR5PQefhdtHQD1wuRA%3D%3D&trk=flagship3_job_collections_leaf_page                                                                                                                                                                                                                                                                                                                                                                                                                                                                                                                                              |SQL or Python Developer                           |HRM Counsel Private Limited|India (Remote)                       |\n|https://www.linkedin.com/jobs/view/4275952439/?eBP=CwEAAAGYgRNpqyHT-WEjS04882Hj9u_yQpEwLAaYqLnkdpMaPI9Wg_Iac36A6p4Iy5bk6RvUNHk3JMh-ZWrIgs3JGFsSjhzAJfdaO0TjVLErO5QWcqIf4HufnKC_roMTu5pGpBSArCNMXcv8UNVlq8vThrmfV7w8jFj-ZB55PsRH_zEy-24RWZ2cKLvbT5eRQG93R6k1m2wGEOo_eRpp5D6-HBqlYEIW5hjAX3tuPVmlSXCWgV6Lo4o-XUXmqJ9AHM_7lToHxLOBsJhvlBQ9TnJzBOuf6JshVnchADnj9ad9eQoS1MClf7ih7S6_UX9dpk9zYmDGeK9HDi54BpF5Q7Y3Yo0bshd2V7-tXh4RxADm-jdoXodWc5nImV6a9j2iB-3yGFXqnYCa3zx3dY8aCXMpA1dTt8mJl97f3f-GKaOTE5GGDpMV7Z3SgEN1SAFU0sKWpTOwIXQIBKNUqWALq53mqeRaAsxeJGKverevXxhdbT28cnx2iPaNVF0OYFPcczgDZrnYEScrKstcClOdakatOKg&refId=jnPkbUaJgtXfmJknzztCHw%3D%3D&trackingId=IiWTfDrqeLuyzXP8wDIhqw%3D%3D&trk=flagship3_job_collections_leaf_page       |Data Scientist                                    |AB InBev GCC India         |Bengaluru, Karnataka, India (On-site)|\n|https://www.linkedin.com/jobs/view/4280156304/?eBP=BUDGET_EXHAUSTED_JOB&refId=jnPkbUaJgtXfmJknzztCHw%3D%3D&trackingId=T9T6O7mFfNe749lbQNoeDg%3D%3D&trk=flagship3_job_collections_leaf_page                                                                                                                                                                                                                                                                                                                                                                                                                                                                                                                                              |Remote Data Science Analyst - 17843               |Turing                     |Bengaluru, Karnataka, India (Remote) |\n|https://www.linkedin.com/jobs/view/4279597899/?eBP=CwEAAAGYgRNprJ7uURE3YHs3KKePwQuCG8SmvwHcI_C6zS1vfVzTIlh3hVa-7bMfEI1B9UwC7e9Da8XXaMFzqUbr9zPz4jPIGApqqrNgVyiNfbuoe0HxY0MlYkBepQ1urxIgdNGl2n7N3SeqazdpmHml7iGKSgUt9_a0DJsU2OJK34RkUh1mMPa-_gmSCm0xuV1G7HTWbJOzEgmyAWd3Z_OjmoA78v_6ZJcv5SMclsmOWK7_hFBIHR9vSRp3DNdCVaNRha2aXirFv7A7PyRv7q1f5vak_-miarZNCZvOHdhK4YE9rxO6knO_sI2KQsFRvy2_TuhQy9Fin8FQlSoE4BAnJIfgmy-BkPoQOx4uSKqCJLvdFfZw1hq2kdbB_3FUnmVb-r_2XPXp47tx2CRET3eFmvHNl6ObAAb6CP0lKZI-vJBdaFmFi-wN0LL4lahTkEDF517_pEmHYhpy813BsCRwAqIENxWYnmv_r_OptZvmwCIz8k8dTtIdFkzj2LpQuIg8d1GZ4CMNQ8ALEOhx0BrxOHICwg&refId=jnPkbUaJgtXfmJknzztCHw%3D%3D&trackingId=OT6kt4M4ESPfkhyKrDQVVg%3D%3D&trk=flagship3_job_collections_leaf_page    |3D Computer Vision Intern                         |Sony Research India        |India (Remote)                       |\n|https://www.linkedin.com/jobs/view/4272868090/?eBP=CwEAAAGYgRNprBnKCDkS6HutgFZAHbFwjKz_mxCDEc4DKsm5ldmrH_iDFPLDdoU98OPfsrmNBwXZFaDOl2MnBgUyLPUUOO_99W-KWbJaX7NqjBxrBROEtcQ0AxIgfeUwyW8IzabHyjMr42UdHpaIOVpk4LJrvaoeDprmYBucBryTmpAZ7QzkaBikcu1uoUvg82-2uxhZkis7JFEDH0DvS911eFRO_M1gZJSPfJlzuphp5g10GaDtX5HCoaQKZHE3KY_y2Hg0nPrW40tn2gthsxhHxek36o_danT5zIX6eSVrHt3cr1pSu2-kY0qOIhOrzaKgeDTgIsn7LzndfvgSaFiZLvmQoZfjNICSjuNYn_XJ782wxIyMg_OYYXcFqc-dOP35hvsSsk-jH_pnXgoGNA2wLYh2uyUuPm7sq4mo5hmGszOxZMAQ7PXkyP8BVo9ewOC4KHHboyJ5DQ9n2Jp8pC-nVmFy75IYkm3hehPZJLiPx0JSEU-VvxrHlXugCxT1NbNqiYZrUB5AK97EdmBgd9S8gj6_1Q87&refId=jnPkbUaJgtXfmJknzztCHw%3D%3D&trackingId=m4W7sy9k9qaPNDo71rpXpg%3D%3D&trk=flagship3_job_collections_leaf_page  |Machine Learning Engineer                         |Capgemini                  |Bengaluru, Karnataka, India (Hybrid) |\n|https://www.linkedin.com/jobs/view/4280599999/?eBP=BUDGET_EXHAUSTED_JOB&refId=jnPkbUaJgtXfmJknzztCHw%3D%3D&trackingId=Ik53abofLEWdZv%2F1KPL%2F2Q%3D%3D&trk=flagship3_job_collections_leaf_page                                                                                                                                                                                                                                                                                                                                                                                                                                                                                                                                          |AI Engineering Intern (SDE)                       |Darwix AI                  |Gurugram, Haryana, India (On-site)   |\n|https://www.linkedin.com/jobs/view/4277927708/?eBP=CwEAAAGYgRNprOP_oooAdlJczu9h3w2v6OUArF5QTtQ7c2XXsHXnbzlJNFDwTOXzBgNKtshb_I8au0mhJaNaph73o-Sq3kTmC0mTuTMcx5tsiN9cw1j6UlfgnMAjky6vU6BJJgSYEidJKgYTiRnz2SiRUs2YdefReTWdrZEuSKhcU49AImlIBw1elcmM3o0ikG_YR_I1VgwE7S-d9fWCRHLOCVALQ6AUgWJqBpvgmcppZS2R5WTQJE9JjevIoJQQqowZS7J7O85d6xpx6lPkvfnTzuvk2y0IcpoUzcSxdxx63aUs6eXhEFZnkpUUER_PFGZ7LmjSgIceC5vVETS89V6D4bufUxNsUaeRp6tzpWV0vhkSq7ghEmXxs0x25Hj_UuPqg5fdux97Ad_AjQ4NiOoGd1Qij7-6VQ-V0iS0lBI22hHTPQc-a0cyiZo6zxcVGoMStNhof5NAa3ReUyMTXVRe1b0gSojyi5bynmWu54EHCwCqJgmnvHNLdnvf0bvy5hFP0bD272U2-G-j1nJsZEkPRNWJNQ&refId=jnPkbUaJgtXfmJknzztCHw%3D%3D&trackingId=kpze6nqcO4zCHyRrbznPhw%3D%3D&trk=flagship3_job_collections_leaf_page    |Machine Learning Engineer                         |Insight Global             |India (Remote)                       |\n|https://www.linkedin.com/jobs/view/4222830764/?eBP=CwEAAAGYgRNprAnr9aF9EkqD1FwbnSS3riVgHFL-xuCtKJRPjLWqeJPTdW0MovTKXX8l1xv8WmT8PhmElm37SglA7Gbg3jJwrnZ4K8P8BUYREm8-U9kIOklwjcPispRP0bHDBbDlocu5HT3x-g6JIjGNaNAFh0Ct87ml0bet3_U4qEHcWMCCf3G1n_77pK_rnzoVtwgQ0VDvzwEDXK33Nv3Oni5Wo5_E1mFVzCACpPROP5SccJJPxz5st_fwUsc--R-SUfaysP_bkbW7cUfJgIB0NEYuPBnPAXDf9IP5Z2r_-9kSaRAD7ugUK_Q87-vdD9IaFM2pA8BjoDahTj0L1tc39IEMFTCSSSINAL9FLkfTxyMLZv8Wuy4w95F6VCh_2f2orGs9KqoTeGl5GYE_LB9VKVeOiIq2jB1VdpA-IBGOk4UnG7tyTDorBZqJoICim7Kcf9ex43w3kRHAToCl-Vqv-kAweAsvwFodK7Kr5RGGuM8M6yrQK6pnKnw5BLQ2Z2tvd9R235oLRAVMVbnM84n3gvaG8Zlu&refId=jnPkbUaJgtXfmJknzztCHw%3D%3D&trackingId=EbKQwPsh7xIkxjtR%2FYQKrw%3D%3D&trk=flagship3_job_collections_leaf_page|Data science intern                               |EVERSANA                   |Bengaluru, Karnataka, India (On-site)|\n|https://www.linkedin.com/jobs/view/4277368921/?eBP=CwEAAAGYgRNprer7s6kT-XxKQaF21PwnVIuzArtqRFD4649C6G5_HhT_1aS2fQaYahV46VNP39vVzuEgFTbtS4jQWB_7Sv7Ute8nXHrl5f1vjmKQjGDcqVyIj6gqkxp51e_Pn8qK3nMfjM_GOFbXzgmI5OAAFxxQ16cEMkHy1ztdL83_ip9Uu2W-ROM3Pu1MomnjNFjZcaexvieEWuKsywKoLH7MZhkTmYFW7gjNAnc72PXTvRY3ZVLG_5xcxbUx8HjZKaIQ6MKf5E25ZkMuvF-UO8MgRbrZ9xZJtnU_Icb6hUUdvUtc_IbEzzfe3jJmryKiHa1mdr6-vEfaKT4EilVD1-6dpcZ0lq9Eub1drlJl74BfvZECDzgMoAE0BlNESB6NouZI45ld6br3YVaCOGS2EpAkqvzuGbGPnn6-BJ4rvRPa0rsAyHkD0Vc6EwxGvA9bPhhw5u-ntdyH4myFgWK6_hFT5w4Z-9JUWAgD5mx7cr7fcMFqIrg3Be4He7OKVXNp91XGJiYyaZmwBVonIotzIXE6Ag&refId=jnPkbUaJgtXfmJknzztCHw%3D%3D&trackingId=AnIAsKIo9zVSD7DvHLzcDA%3D%3D&trk=flagship3_job_collections_leaf_page    |Digital Champaign Internship                      |HDFC securities            |Mumbai, Maharashtra, India (On-site) |\n|https://www.linkedin.com/jobs/view/4274097889/?eBP=CwEAAAGYgRNprQRKbBkb21jUfD2RLxds_f9OBopl9Z-IRr8LXqNd6UKi4Yytfk8EGYmfWCbsEmVol6K6p0iJvMxESg_HeveGXvrKgcZ5L3n0kjzm_ZAZ_0gCPxvPsVx6bzVdnpZT7sYIRXUYjuxjIUied1sraFSw89622eJ9-vKZt0OEGALTPeM6ZqZCQ3LMDsb2NoR2ozoF-5ysHXUGs2s1HPxUS6q1g6zewc1PKXho2p4_dSiT8QLqWD0i0NcZpzy84fvpxRpH1bVyvOEFPQhEG6II8ADuSWsW7liDA3dHejodc2ggSuemWpvk11QoTz8TmBnbR5Htxms4lyK4hmk1OBwBFmaW5O7uvDp0cJERGwe73AYf82qkCdfCf5cX46idm36Xagoub52A1LqIR8RQNoFig88bBS73bl-wFxIWpPptXLzZJpyh1bt8jBC10WwBLvZkMR9tYb9FMRkd3VBm1_g5rPpJ--8Uzmuhn8GUeQjIncwrK40-qNgcUjeb3NjlrZfThMBVK3xRLd7yYnUFNrCH9g&refId=jnPkbUaJgtXfmJknzztCHw%3D%3D&trackingId=jJNRm%2BYr7Q74Y%2BY4QYXD3Q%3D%3D&trk=flagship3_job_collections_leaf_page|Data Scientist                                    |Pentair                    |Noida, Uttar Pradesh, India (Hybrid) |\n+----------------------------------------------------------------------------------------------------------------------------------------------------------------------------------------------------------------------------------------------------------------------------------------------------------------------------------------------------------------------------------------------------------------------------------------------------------------------------------------------------------------------------------------------------------------------------------------------------------------------------------------------------------------------------------------------------------------------------------------+--------------------------------------------------+---------------------------+-------------------------------------+\nonly showing top 20 rows\n"
     ]
    }
   ],
   "source": [
    "from pyspark.sql.functions import col\n",
    "\n",
    "# Rename the default columns to something descriptive\n",
    "df_jobs = df_jobs.toDF(\"job_url\", \"job_details\", \"company\", \"location_details\")\n",
    "\n",
    "print(\"DataFrame with proper column names:\")\n",
    "df_jobs.show(truncate=False)"
   ]
  },
  {
   "cell_type": "code",
   "execution_count": 0,
   "metadata": {
    "application/vnd.databricks.v1+cell": {
     "cellMetadata": {
      "byteLimit": 2048000,
      "rowLimit": 10000
     },
     "inputWidgets": {},
     "nuid": "98176c74-75d1-4f1a-9598-6763fa6974b4",
     "showTitle": false,
     "tableResultSettingsMap": {},
     "title": ""
    }
   },
   "outputs": [
    {
     "output_type": "stream",
     "name": "stdout",
     "output_type": "stream",
     "text": [
      "Selected just two columns:\n+--------------------------------------------------+---------------------------+\n|job_details                                       |company                    |\n+--------------------------------------------------+---------------------------+\n|Data scientist- Python- AI/ML GEN AI- Across india|Capgemini Engineering      |\n|Junior Data Scientist                             |AB InBev GCC India         |\n|AI ML Intern                                      |Hubnex Labs                |\n|AI Engineering Internship                         |Deep Learning Titans       |\n|Gen AI Researcher                                 |HCLTech                    |\n|Data Analyst I                                    |Navi                       |\n|Junior Data Analyst                               |The Guide                  |\n|Python Developer                                  |LTIMindtree                |\n|Machine Learning Engineer                         |Tecnotree Corporation      |\n|Associate AI Developer (Remote | Flexible Hours)  |Pravartan                  |\n|SQL or Python Developer                           |HRM Counsel Private Limited|\n|Data Scientist                                    |AB InBev GCC India         |\n|Remote Data Science Analyst - 17843               |Turing                     |\n|3D Computer Vision Intern                         |Sony Research India        |\n|Machine Learning Engineer                         |Capgemini                  |\n|AI Engineering Intern (SDE)                       |Darwix AI                  |\n|Machine Learning Engineer                         |Insight Global             |\n|Data science intern                               |EVERSANA                   |\n|Digital Champaign Internship                      |HDFC securities            |\n|Data Scientist                                    |Pentair                    |\n+--------------------------------------------------+---------------------------+\nonly showing top 20 rows\n"
     ]
    }
   ],
   "source": [
    "# Select just the job details and company name\n",
    "df_selected = df_jobs.select(\"job_details\", \"company\")\n",
    "\n",
    "print(\"Selected just two columns:\")\n",
    "df_selected.show(truncate=False)"
   ]
  },
  {
   "cell_type": "code",
   "execution_count": 0,
   "metadata": {
    "application/vnd.databricks.v1+cell": {
     "cellMetadata": {
      "byteLimit": 2048000,
      "rowLimit": 10000
     },
     "inputWidgets": {},
     "nuid": "e9103ad9-87c4-48ad-9ffe-8de0eddbd48e",
     "showTitle": false,
     "tableResultSettingsMap": {},
     "title": ""
    }
   },
   "outputs": [
    {
     "output_type": "stream",
     "name": "stdout",
     "output_type": "stream",
     "text": [
      "Filtered to show only Capgemini jobs:\n"
     ]
    },
    {
     "output_type": "display_data",
     "data": {
      "text/html": [
       "<style scoped>\n",
       "  .table-result-container {\n",
       "    max-height: 300px;\n",
       "    overflow: auto;\n",
       "  }\n",
       "  table, th, td {\n",
       "    border: 1px solid black;\n",
       "    border-collapse: collapse;\n",
       "  }\n",
       "  th, td {\n",
       "    padding: 5px;\n",
       "  }\n",
       "  th {\n",
       "    text-align: left;\n",
       "  }\n",
       "</style><div class='table-result-container'><table class='table-result'><thead style='background-color: white'><tr><th>job_url</th><th>job_details</th><th>company</th><th>location_details</th></tr></thead><tbody><tr><td>https://www.linkedin.com/jobs/view/4277353126/?eBP=CwEAAAGYgRNcby_KMfZuM7o_bhgQ0uek5G8LIz3U7hjMncVVugI0W2_2x-lIQOk63MgV0pFj1MjE7HhaGb99RkLXZd7jc6H1r_q9un6ncxydzB4Zy4dvHyAMjBZusDk3BCMZXk6r9wePxGnPxBK6dsD_W2mnEKr3amupMQkiN3XZnOFFNNapGVk8qdkqTs0IAI_GeSbrH7zGtVWwYH6tXDFc27dAMFMF2a6J4ilRCR6xI7wl-bnmqR5plOLIXvROJcPcb4SEFZZYlH23vHwdNScpsPGI9Mo916ZU5ALO1qNqiqvKmo51EY2q6fT-5JM1Le5sgtVHSsi5njSw4f2kpL0fyUxR0TUd_ZMhrqCnSG5Kazaq7YI9f6mWYHAifiN_9F1GrdCMA54q9amRH6-AyDbsaL6ADQdVADtsG9iTYgiXgfkrd8sIwiRqXuDridZ34T7CKI_moz3IUU_2uFkqnLIxb8JZ4Z1mOexrhF65qQ6ZrdPpaGrubzWyhnwg9LegBFWPXreSmumgQ3yudbUw7lKA7yf50w&refId=VTdxZjP6Td02BrgNGEyD5A%3D%3D&trackingId=0ZNpZStGR73FRjLBjitcjg%3D%3D&trk=flagship3_job_collections_leaf_page</td><td>Data scientist- Python- AI/ML GEN AI- Across india</td><td>Capgemini Engineering</td><td>Mumbai, Maharashtra, India (Hybrid)</td></tr></tbody></table></div>"
      ]
     },
     "metadata": {
      "application/vnd.databricks.v1+output": {
       "addedWidgets": {},
       "aggData": [],
       "aggError": "",
       "aggOverflow": false,
       "aggSchema": [],
       "aggSeriesLimitReached": false,
       "aggType": "",
       "arguments": {},
       "columnCustomDisplayInfos": {},
       "data": [
        [
         "https://www.linkedin.com/jobs/view/4277353126/?eBP=CwEAAAGYgRNcby_KMfZuM7o_bhgQ0uek5G8LIz3U7hjMncVVugI0W2_2x-lIQOk63MgV0pFj1MjE7HhaGb99RkLXZd7jc6H1r_q9un6ncxydzB4Zy4dvHyAMjBZusDk3BCMZXk6r9wePxGnPxBK6dsD_W2mnEKr3amupMQkiN3XZnOFFNNapGVk8qdkqTs0IAI_GeSbrH7zGtVWwYH6tXDFc27dAMFMF2a6J4ilRCR6xI7wl-bnmqR5plOLIXvROJcPcb4SEFZZYlH23vHwdNScpsPGI9Mo916ZU5ALO1qNqiqvKmo51EY2q6fT-5JM1Le5sgtVHSsi5njSw4f2kpL0fyUxR0TUd_ZMhrqCnSG5Kazaq7YI9f6mWYHAifiN_9F1GrdCMA54q9amRH6-AyDbsaL6ADQdVADtsG9iTYgiXgfkrd8sIwiRqXuDridZ34T7CKI_moz3IUU_2uFkqnLIxb8JZ4Z1mOexrhF65qQ6ZrdPpaGrubzWyhnwg9LegBFWPXreSmumgQ3yudbUw7lKA7yf50w&refId=VTdxZjP6Td02BrgNGEyD5A%3D%3D&trackingId=0ZNpZStGR73FRjLBjitcjg%3D%3D&trk=flagship3_job_collections_leaf_page",
         "Data scientist- Python- AI/ML GEN AI- Across india",
         "Capgemini Engineering",
         "Mumbai, Maharashtra, India (Hybrid)"
        ]
       ],
       "datasetInfos": [],
       "dbfsResultPath": null,
       "isJsonSchema": true,
       "metadata": {},
       "overflow": false,
       "plotOptions": {
        "customPlotOptions": {},
        "displayType": "table",
        "pivotAggregation": null,
        "pivotColumns": null,
        "xColumns": null,
        "yColumns": null
       },
       "removedWidgets": [],
       "schema": [
        {
         "metadata": "{}",
         "name": "job_url",
         "type": "\"string\""
        },
        {
         "metadata": "{}",
         "name": "job_details",
         "type": "\"string\""
        },
        {
         "metadata": "{}",
         "name": "company",
         "type": "\"string\""
        },
        {
         "metadata": "{}",
         "name": "location_details",
         "type": "\"string\""
        }
       ],
       "type": "table"
      }
     },
     "output_type": "display_data"
    }
   ],
   "source": [
    "# Filter for jobs from 'Capgemini Engineering'\n",
    "df_filtered = df_jobs.filter(col(\"company\") == \"Capgemini Engineering\")\n",
    "\n",
    "print(\"Filtered to show only Capgemini jobs:\")\n",
    "display(df_filtered)"
   ]
  },
  {
   "cell_type": "code",
   "execution_count": 0,
   "metadata": {
    "application/vnd.databricks.v1+cell": {
     "cellMetadata": {
      "byteLimit": 2048000,
      "rowLimit": 10000
     },
     "inputWidgets": {},
     "nuid": "a11c1a07-d59a-4676-a64c-ea00bc5ddabd",
     "showTitle": false,
     "tableResultSettingsMap": {},
     "title": ""
    }
   },
   "outputs": [
    {
     "output_type": "stream",
     "name": "stdout",
     "output_type": "stream",
     "text": [
      "Job counts per company:\n"
     ]
    },
    {
     "output_type": "display_data",
     "data": {
      "text/html": [
       "<style scoped>\n",
       "  .table-result-container {\n",
       "    max-height: 300px;\n",
       "    overflow: auto;\n",
       "  }\n",
       "  table, th, td {\n",
       "    border: 1px solid black;\n",
       "    border-collapse: collapse;\n",
       "  }\n",
       "  th, td {\n",
       "    padding: 5px;\n",
       "  }\n",
       "  th {\n",
       "    text-align: left;\n",
       "  }\n",
       "</style><div class='table-result-container'><table class='table-result'><thead style='background-color: white'><tr><th>company</th><th>job_count</th></tr></thead><tbody><tr><td>Turing</td><td>4</td></tr><tr><td>WNS</td><td>4</td></tr><tr><td>Wissen Infotech</td><td>3</td></tr><tr><td>Circle K</td><td>3</td></tr><tr><td>Persistent Systems</td><td>3</td></tr><tr><td>Sony Research India</td><td>3</td></tr><tr><td>Zenduty</td><td>2</td></tr><tr><td>Grow Your Staff</td><td>2</td></tr><tr><td>Talkdesk</td><td>2</td></tr><tr><td>Experian</td><td>2</td></tr><tr><td>PhnyX Lab</td><td>2</td></tr><tr><td>TO THE NEW</td><td>2</td></tr><tr><td>2Base Technologies</td><td>2</td></tr><tr><td>NxtWave</td><td>2</td></tr><tr><td>Datastack Technologies</td><td>2</td></tr><tr><td>Airtel Payments Bank</td><td>2</td></tr><tr><td>Carousell Group</td><td>2</td></tr><tr><td>HCLTech</td><td>2</td></tr><tr><td>Datum Technologies Group</td><td>2</td></tr><tr><td>Centrilogic</td><td>2</td></tr><tr><td>Darwix AI</td><td>2</td></tr><tr><td>CareerUS Solutions</td><td>2</td></tr><tr><td>Newsweek</td><td>2</td></tr><tr><td>AB InBev GCC India</td><td>2</td></tr><tr><td>LinkedIn</td><td>2</td></tr><tr><td>Nextiva</td><td>2</td></tr><tr><td>Accolite</td><td>1</td></tr><tr><td>ThoughtFocus</td><td>1</td></tr><tr><td>Nagarro</td><td>1</td></tr><tr><td>KeyValue Software Systems</td><td>1</td></tr><tr><td>Mphasis</td><td>1</td></tr><tr><td>AquSag Technologies</td><td>1</td></tr><tr><td>Tecnotree Corporation</td><td>1</td></tr><tr><td>Solytics Partners</td><td>1</td></tr><tr><td>Nokia</td><td>1</td></tr><tr><td>PepsiCo</td><td>1</td></tr><tr><td>HRM Counsel Private Limited</td><td>1</td></tr><tr><td>Pocket FM</td><td>1</td></tr><tr><td>Rail Labs</td><td>1</td></tr><tr><td>Flywire</td><td>1</td></tr><tr><td>RevX</td><td>1</td></tr><tr><td>NIIT</td><td>1</td></tr><tr><td>Cendyn</td><td>1</td></tr><tr><td>PwC Acceleration Centers</td><td>1</td></tr><tr><td>Zensar Technologies</td><td>1</td></tr><tr><td>HDFC securities</td><td>1</td></tr><tr><td>BeamX TechLabs</td><td>1</td></tr><tr><td>Iris Software Inc.</td><td>1</td></tr><tr><td>LTIMindtree</td><td>1</td></tr><tr><td>AAA Global</td><td>1</td></tr><tr><td>The Functionary</td><td>1</td></tr><tr><td>Orbital</td><td>1</td></tr><tr><td>The Guide</td><td>1</td></tr><tr><td>ZEISS India</td><td>1</td></tr><tr><td>Ampstek</td><td>1</td></tr><tr><td>Vista Applied Solutions Group Inc</td><td>1</td></tr><tr><td>Relanto</td><td>1</td></tr><tr><td>PeopleLogic</td><td>1</td></tr><tr><td>Bounteous</td><td>1</td></tr><tr><td>EVERSANA</td><td>1</td></tr><tr><td>Binary Semantics Ltd.</td><td>1</td></tr><tr><td>TestUnity</td><td>1</td></tr><tr><td>Prudent Technologies and Consulting, Inc.</td><td>1</td></tr><tr><td>Hubnex Labs</td><td>1</td></tr><tr><td>Esri India</td><td>1</td></tr><tr><td>DotPe</td><td>1</td></tr><tr><td>Deep Learning Titans</td><td>1</td></tr><tr><td>Capgemini</td><td>1</td></tr><tr><td>Insight Global</td><td>1</td></tr><tr><td>Recro</td><td>1</td></tr><tr><td>Tech Mahindra</td><td>1</td></tr><tr><td>Nanonets</td><td>1</td></tr><tr><td>HCLSoftware</td><td>1</td></tr><tr><td>Freshworks</td><td>1</td></tr><tr><td>mthree</td><td>1</td></tr><tr><td>L&T Technology Services</td><td>1</td></tr><tr><td>Pentair</td><td>1</td></tr><tr><td>Grid Dynamics</td><td>1</td></tr><tr><td>Roku</td><td>1</td></tr><tr><td>Saisystems Technology</td><td>1</td></tr><tr><td>immerso.ai</td><td>1</td></tr><tr><td>Prometteur Solutions Pvt. Ltd.</td><td>1</td></tr><tr><td>Ascendion</td><td>1</td></tr><tr><td>Pravartan</td><td>1</td></tr><tr><td>Capgemini Engineering</td><td>1</td></tr><tr><td>Randstad Enterprise</td><td>1</td></tr><tr><td>Bhatiyani Astute Intelligence</td><td>1</td></tr><tr><td>Vettam AI</td><td>1</td></tr><tr><td>Concentrix Catalyst</td><td>1</td></tr><tr><td>Bajaj Technology Services</td><td>1</td></tr><tr><td>Droisys</td><td>1</td></tr><tr><td>CryptoChakra</td><td>1</td></tr><tr><td>PrismHR</td><td>1</td></tr><tr><td>Moniepoint Group</td><td>1</td></tr><tr><td>Dentsu Global Services</td><td>1</td></tr><tr><td>Talentgigs</td><td>1</td></tr><tr><td>SmartQ</td><td>1</td></tr><tr><td>First Screen</td><td>1</td></tr><tr><td>Leeford Healthcare Limited</td><td>1</td></tr><tr><td>InfoBeans</td><td>1</td></tr><tr><td>NAV India</td><td>1</td></tr><tr><td>NSKH Tech</td><td>1</td></tr><tr><td>Navi</td><td>1</td></tr><tr><td>IDFC FIRST Bank</td><td>1</td></tr><tr><td>TCS</td><td>1</td></tr></tbody></table></div>"
      ]
     },
     "metadata": {
      "application/vnd.databricks.v1+output": {
       "addedWidgets": {},
       "aggData": [],
       "aggError": "",
       "aggOverflow": false,
       "aggSchema": [],
       "aggSeriesLimitReached": false,
       "aggType": "",
       "arguments": {},
       "columnCustomDisplayInfos": {},
       "data": [
        [
         "Turing",
         4
        ],
        [
         "WNS",
         4
        ],
        [
         "Wissen Infotech",
         3
        ],
        [
         "Circle K",
         3
        ],
        [
         "Persistent Systems",
         3
        ],
        [
         "Sony Research India",
         3
        ],
        [
         "Zenduty",
         2
        ],
        [
         "Grow Your Staff",
         2
        ],
        [
         "Talkdesk",
         2
        ],
        [
         "Experian",
         2
        ],
        [
         "PhnyX Lab",
         2
        ],
        [
         "TO THE NEW",
         2
        ],
        [
         "2Base Technologies",
         2
        ],
        [
         "NxtWave",
         2
        ],
        [
         "Datastack Technologies",
         2
        ],
        [
         "Airtel Payments Bank",
         2
        ],
        [
         "Carousell Group",
         2
        ],
        [
         "HCLTech",
         2
        ],
        [
         "Datum Technologies Group",
         2
        ],
        [
         "Centrilogic",
         2
        ],
        [
         "Darwix AI",
         2
        ],
        [
         "CareerUS Solutions",
         2
        ],
        [
         "Newsweek",
         2
        ],
        [
         "AB InBev GCC India",
         2
        ],
        [
         "LinkedIn",
         2
        ],
        [
         "Nextiva",
         2
        ],
        [
         "Accolite",
         1
        ],
        [
         "ThoughtFocus",
         1
        ],
        [
         "Nagarro",
         1
        ],
        [
         "KeyValue Software Systems",
         1
        ],
        [
         "Mphasis",
         1
        ],
        [
         "AquSag Technologies",
         1
        ],
        [
         "Tecnotree Corporation",
         1
        ],
        [
         "Solytics Partners",
         1
        ],
        [
         "Nokia",
         1
        ],
        [
         "PepsiCo",
         1
        ],
        [
         "HRM Counsel Private Limited",
         1
        ],
        [
         "Pocket FM",
         1
        ],
        [
         "Rail Labs",
         1
        ],
        [
         "Flywire",
         1
        ],
        [
         "RevX",
         1
        ],
        [
         "NIIT",
         1
        ],
        [
         "Cendyn",
         1
        ],
        [
         "PwC Acceleration Centers",
         1
        ],
        [
         "Zensar Technologies",
         1
        ],
        [
         "HDFC securities",
         1
        ],
        [
         "BeamX TechLabs",
         1
        ],
        [
         "Iris Software Inc.",
         1
        ],
        [
         "LTIMindtree",
         1
        ],
        [
         "AAA Global",
         1
        ],
        [
         "The Functionary",
         1
        ],
        [
         "Orbital",
         1
        ],
        [
         "The Guide",
         1
        ],
        [
         "ZEISS India",
         1
        ],
        [
         "Ampstek",
         1
        ],
        [
         "Vista Applied Solutions Group Inc",
         1
        ],
        [
         "Relanto",
         1
        ],
        [
         "PeopleLogic",
         1
        ],
        [
         "Bounteous",
         1
        ],
        [
         "EVERSANA",
         1
        ],
        [
         "Binary Semantics Ltd.",
         1
        ],
        [
         "TestUnity",
         1
        ],
        [
         "Prudent Technologies and Consulting, Inc.",
         1
        ],
        [
         "Hubnex Labs",
         1
        ],
        [
         "Esri India",
         1
        ],
        [
         "DotPe",
         1
        ],
        [
         "Deep Learning Titans",
         1
        ],
        [
         "Capgemini",
         1
        ],
        [
         "Insight Global",
         1
        ],
        [
         "Recro",
         1
        ],
        [
         "Tech Mahindra",
         1
        ],
        [
         "Nanonets",
         1
        ],
        [
         "HCLSoftware",
         1
        ],
        [
         "Freshworks",
         1
        ],
        [
         "mthree",
         1
        ],
        [
         "L&T Technology Services",
         1
        ],
        [
         "Pentair",
         1
        ],
        [
         "Grid Dynamics",
         1
        ],
        [
         "Roku",
         1
        ],
        [
         "Saisystems Technology",
         1
        ],
        [
         "immerso.ai",
         1
        ],
        [
         "Prometteur Solutions Pvt. Ltd.",
         1
        ],
        [
         "Ascendion",
         1
        ],
        [
         "Pravartan",
         1
        ],
        [
         "Capgemini Engineering",
         1
        ],
        [
         "Randstad Enterprise",
         1
        ],
        [
         "Bhatiyani Astute Intelligence",
         1
        ],
        [
         "Vettam AI",
         1
        ],
        [
         "Concentrix Catalyst",
         1
        ],
        [
         "Bajaj Technology Services",
         1
        ],
        [
         "Droisys",
         1
        ],
        [
         "CryptoChakra",
         1
        ],
        [
         "PrismHR",
         1
        ],
        [
         "Moniepoint Group",
         1
        ],
        [
         "Dentsu Global Services",
         1
        ],
        [
         "Talentgigs",
         1
        ],
        [
         "SmartQ",
         1
        ],
        [
         "First Screen",
         1
        ],
        [
         "Leeford Healthcare Limited",
         1
        ],
        [
         "InfoBeans",
         1
        ],
        [
         "NAV India",
         1
        ],
        [
         "NSKH Tech",
         1
        ],
        [
         "Navi",
         1
        ],
        [
         "IDFC FIRST Bank",
         1
        ],
        [
         "TCS",
         1
        ]
       ],
       "datasetInfos": [],
       "dbfsResultPath": null,
       "isJsonSchema": true,
       "metadata": {},
       "overflow": false,
       "plotOptions": {
        "customPlotOptions": {},
        "displayType": "table",
        "pivotAggregation": null,
        "pivotColumns": null,
        "xColumns": null,
        "yColumns": null
       },
       "removedWidgets": [],
       "schema": [
        {
         "metadata": "{}",
         "name": "company",
         "type": "\"string\""
        },
        {
         "metadata": "{}",
         "name": "job_count",
         "type": "\"long\""
        }
       ],
       "type": "table"
      }
     },
     "output_type": "display_data"
    }
   ],
   "source": [
    "from pyspark.sql.functions import count\n",
    "\n",
    "# Create a new DataFrame with an additional row for another company\n",
    "new_row = spark.createDataFrame([\n",
    "    (\"http://another-url.com\", \"Data Analyst\", \"TCS\", \"Pune, Maharashtra, India (On-site)\")\n",
    "], df_jobs.columns)\n",
    "\n",
    "df_combined = df_jobs.union(new_row)\n",
    "\n",
    "# Now, group by company and count the job listings\n",
    "df_counts = df_combined.groupBy(\"company\").agg(count(\"*\").alias(\"job_count\")).orderBy(col(\"job_count\").desc())\n",
    "\n",
    "print(\"Job counts per company:\")\n",
    "display(df_counts)"
   ]
  },
  {
   "cell_type": "code",
   "execution_count": 0,
   "metadata": {
    "application/vnd.databricks.v1+cell": {
     "cellMetadata": {
      "byteLimit": 2048000,
      "rowLimit": 10000
     },
     "inputWidgets": {},
     "nuid": "6ae35d26-074c-4307-b855-e720e268aa54",
     "showTitle": false,
     "tableResultSettingsMap": {},
     "title": ""
    }
   },
   "outputs": [
    {
     "output_type": "display_data",
     "data": {
      "text/html": [
       "<style scoped>\n",
       "  .table-result-container {\n",
       "    max-height: 300px;\n",
       "    overflow: auto;\n",
       "  }\n",
       "  table, th, td {\n",
       "    border: 1px solid black;\n",
       "    border-collapse: collapse;\n",
       "  }\n",
       "  th, td {\n",
       "    padding: 5px;\n",
       "  }\n",
       "  th {\n",
       "    text-align: left;\n",
       "  }\n",
       "</style><div class='table-result-container'><table class='table-result'><thead style='background-color: white'><tr><th>job_url</th><th>job_details</th><th>company</th><th>location_details</th><th>company_clean</th></tr></thead><tbody><tr><td>https://www.linkedin.com/jobs/view/4277353126/?eBP=CwEAAAGYgRNcby_KMfZuM7o_bhgQ0uek5G8LIz3U7hjMncVVugI0W2_2x-lIQOk63MgV0pFj1MjE7HhaGb99RkLXZd7jc6H1r_q9un6ncxydzB4Zy4dvHyAMjBZusDk3BCMZXk6r9wePxGnPxBK6dsD_W2mnEKr3amupMQkiN3XZnOFFNNapGVk8qdkqTs0IAI_GeSbrH7zGtVWwYH6tXDFc27dAMFMF2a6J4ilRCR6xI7wl-bnmqR5plOLIXvROJcPcb4SEFZZYlH23vHwdNScpsPGI9Mo916ZU5ALO1qNqiqvKmo51EY2q6fT-5JM1Le5sgtVHSsi5njSw4f2kpL0fyUxR0TUd_ZMhrqCnSG5Kazaq7YI9f6mWYHAifiN_9F1GrdCMA54q9amRH6-AyDbsaL6ADQdVADtsG9iTYgiXgfkrd8sIwiRqXuDridZ34T7CKI_moz3IUU_2uFkqnLIxb8JZ4Z1mOexrhF65qQ6ZrdPpaGrubzWyhnwg9LegBFWPXreSmumgQ3yudbUw7lKA7yf50w&refId=VTdxZjP6Td02BrgNGEyD5A%3D%3D&trackingId=0ZNpZStGR73FRjLBjitcjg%3D%3D&trk=flagship3_job_collections_leaf_page</td><td>Data scientist- Python- AI/ML GEN AI- Across india</td><td>Capgemini Engineering</td><td>Mumbai, Maharashtra, India (Hybrid)</td><td>capgemini engineering</td></tr><tr><td>https://www.linkedin.com/jobs/view/4279260172/?eBP=CwEAAAGYgRNcb2s1qwNtsjoHmBzkZDTfCaIKh4_KcJSW4K5JiGezWlAfSSyLqmqvwEafp0lfK62lGPaszLMuoV1OfHtTiORVAuYwAHvPaZDfL9IxslYvQCgpzQkOvgQn0XY8fm7aSZUuxoz7k7Yc7Lw8BeQ_1F32c10tfeAI-D4CeQhRLnRQBWyyE93S3Pu49_0uyTWM5jVFVUCLPlznkBnUNWydS41ETB_Uo7UraHzR7AcVTBhfZVXxOnND5xaN_rHwAOIR4G2PhIMccU0Xu0o12TqGbUIcmY4R4ecX4uuUmV7S0rJRHU4Y_3LRmfobxeU4olIHHRLzrplIj0vhltiH9ZzHjaBUXZLnl-F-bXK1wDrsKcDaXndTmPDVaAR_y7705p4W04jw3zL90AJC2sOfY3_gua9nr9LNtNp4jInWiQur_pibVwKWpYS7Bpzxe0aPZ3g7RnI4na45YjYWRaqT9qUpQ48A9EOl472r-QKDOLnE4hiNvo309xdSfc-fN0641ulh-irR-8fQPyiA85JS-MGCHHb3&refId=VTdxZjP6Td02BrgNGEyD5A%3D%3D&trackingId=DFyDIfGzjUfLe4OLD7lvgQ%3D%3D&trk=flagship3_job_collections_leaf_page</td><td>Junior Data Scientist</td><td>AB InBev GCC India</td><td>Bengaluru, Karnataka, India (On-site)</td><td>ab inbev gcc india</td></tr><tr><td>https://www.linkedin.com/jobs/view/4277908502/?eBP=NOT_ELIGIBLE_FOR_CHARGING&refId=VTdxZjP6Td02BrgNGEyD5A%3D%3D&trackingId=wd9LH%2B3Su9OdfoKJvC6W6Q%3D%3D&trk=flagship3_job_collections_leaf_page</td><td>AI ML Intern</td><td>Hubnex Labs</td><td>India (Remote)</td><td>hubnex labs</td></tr><tr><td>https://www.linkedin.com/jobs/view/4280550072/?eBP=BUDGET_EXHAUSTED_JOB&refId=VTdxZjP6Td02BrgNGEyD5A%3D%3D&trackingId=Ffe%2FR0gnvKjESBdjFIr30A%3D%3D&trk=flagship3_job_collections_leaf_page</td><td>AI Engineering Internship</td><td>Deep Learning Titans</td><td>Bengaluru, Karnataka, India (Remote)</td><td>deep learning titans</td></tr><tr><td>https://www.linkedin.com/jobs/view/4216659912/?eBP=CwEAAAGYgRNcb7pUVP4u1ndn0ccV-twoDKQpJgzTyFXjquRaqv9YuqDQZUCU45geb-XqNGUhWk2Wa_HxKSjnD0-THpdrzhsQUfpW7l_bR0NrPt7usu5ESbW4P_Ir5Zn2vOah5YPpj6pmUn6XRg58awc94KFovwd6s1aQps8SFuD-2K0YiyNRZe4GtITl9PL-vqqPJZ0DjkdoGpB8enCloNl16jPlUJQuLOqmbgz82Ger8j9uD6yG0Ed0O_pT2zqrhe5vKbeSsicsWej7xA-zmKWxKMW5g9jVUCCACej2rXoqJXlhpCWWFnhlvHunaIFL4U6bY1cr1_H0P6C63_a4gsFrrnvbzqk4xruhemFXZ01c0UoZz59IvX0zy81w9GU5m45E7vf1zrix-zphjYUpFFcBM0o4VnIEeVKGSUiLvueXSVsT-VOf8G88bRZX_7QRNBLu0w3Atq8WjuBgx7-5pvOyNIyvNF96Q2iZoIBmL-6KRWF3UWu1Qc62P_FRZBzoxjEgVozczLPlgnh10st-Vf9XdZuiQD6I&refId=VTdxZjP6Td02BrgNGEyD5A%3D%3D&trackingId=DBYgLD94oNPi0dzDo%2F0TOw%3D%3D&trk=flagship3_job_collections_leaf_page</td><td>Gen AI Researcher</td><td>HCLTech</td><td>Bengaluru, Karnataka, India (On-site)</td><td>hcltech</td></tr><tr><td>https://www.linkedin.com/jobs/view/4274222266/?eBP=BUDGET_EXHAUSTED_JOB&refId=VTdxZjP6Td02BrgNGEyD5A%3D%3D&trackingId=bfRBbJuyo7u9QHzDgWM%2BAQ%3D%3D&trk=flagship3_job_collections_leaf_page</td><td>Data Analyst I</td><td>Navi</td><td>Bengaluru, Karnataka, India (On-site)</td><td>navi</td></tr><tr><td>https://www.linkedin.com/jobs/view/4277354782/?eBP=BUDGET_EXHAUSTED_JOB&refId=VTdxZjP6Td02BrgNGEyD5A%3D%3D&trackingId=a62Q7extgMqaT9qRq4geaw%3D%3D&trk=flagship3_job_collections_leaf_page</td><td>Junior Data Analyst</td><td>The Guide</td><td>India (Remote)</td><td>the guide</td></tr><tr><td>https://www.linkedin.com/jobs/view/4280144071/?eBP=BUDGET_EXHAUSTED_JOB&refId=VTdxZjP6Td02BrgNGEyD5A%3D%3D&trackingId=vgkb%2B2Cf%2FIrsrTqwqKQsDw%3D%3D&trk=flagship3_job_collections_leaf_page</td><td>Python Developer</td><td>LTIMindtree</td><td>India (Remote)</td><td>ltimindtree</td></tr><tr><td>https://www.linkedin.com/jobs/view/4279278278/?eBP=BUDGET_EXHAUSTED_JOB&refId=VTdxZjP6Td02BrgNGEyD5A%3D%3D&trackingId=uYbbAZHlkuRTf55jYHMLyA%3D%3D&trk=flagship3_job_collections_leaf_page</td><td>Machine Learning Engineer</td><td>Tecnotree Corporation</td><td>Bengaluru, Karnataka, India (Hybrid)</td><td>tecnotree corporation</td></tr><tr><td>https://www.linkedin.com/jobs/view/4274305695/?eBP=BUDGET_EXHAUSTED_JOB&refId=VTdxZjP6Td02BrgNGEyD5A%3D%3D&trackingId=fJC15olWXCub2haFX3DtcQ%3D%3D&trk=flagship3_job_collections_leaf_page</td><td>Associate AI Developer (Remote | Flexible Hours)</td><td>Pravartan</td><td>India (Remote)</td><td>pravartan</td></tr><tr><td>https://www.linkedin.com/jobs/view/4279997390/?eBP=BUDGET_EXHAUSTED_JOB&refId=VTdxZjP6Td02BrgNGEyD5A%3D%3D&trackingId=2j8NIR5PQefhdtHQD1wuRA%3D%3D&trk=flagship3_job_collections_leaf_page</td><td>SQL or Python Developer</td><td>HRM Counsel Private Limited</td><td>India (Remote)</td><td>hrm counsel private limited</td></tr><tr><td>https://www.linkedin.com/jobs/view/4275952439/?eBP=CwEAAAGYgRNpqyHT-WEjS04882Hj9u_yQpEwLAaYqLnkdpMaPI9Wg_Iac36A6p4Iy5bk6RvUNHk3JMh-ZWrIgs3JGFsSjhzAJfdaO0TjVLErO5QWcqIf4HufnKC_roMTu5pGpBSArCNMXcv8UNVlq8vThrmfV7w8jFj-ZB55PsRH_zEy-24RWZ2cKLvbT5eRQG93R6k1m2wGEOo_eRpp5D6-HBqlYEIW5hjAX3tuPVmlSXCWgV6Lo4o-XUXmqJ9AHM_7lToHxLOBsJhvlBQ9TnJzBOuf6JshVnchADnj9ad9eQoS1MClf7ih7S6_UX9dpk9zYmDGeK9HDi54BpF5Q7Y3Yo0bshd2V7-tXh4RxADm-jdoXodWc5nImV6a9j2iB-3yGFXqnYCa3zx3dY8aCXMpA1dTt8mJl97f3f-GKaOTE5GGDpMV7Z3SgEN1SAFU0sKWpTOwIXQIBKNUqWALq53mqeRaAsxeJGKverevXxhdbT28cnx2iPaNVF0OYFPcczgDZrnYEScrKstcClOdakatOKg&refId=jnPkbUaJgtXfmJknzztCHw%3D%3D&trackingId=IiWTfDrqeLuyzXP8wDIhqw%3D%3D&trk=flagship3_job_collections_leaf_page</td><td>Data Scientist</td><td>AB InBev GCC India</td><td>Bengaluru, Karnataka, India (On-site)</td><td>ab inbev gcc india</td></tr><tr><td>https://www.linkedin.com/jobs/view/4280156304/?eBP=BUDGET_EXHAUSTED_JOB&refId=jnPkbUaJgtXfmJknzztCHw%3D%3D&trackingId=T9T6O7mFfNe749lbQNoeDg%3D%3D&trk=flagship3_job_collections_leaf_page</td><td>Remote Data Science Analyst - 17843</td><td>Turing</td><td>Bengaluru, Karnataka, India (Remote)</td><td>turing</td></tr><tr><td>https://www.linkedin.com/jobs/view/4279597899/?eBP=CwEAAAGYgRNprJ7uURE3YHs3KKePwQuCG8SmvwHcI_C6zS1vfVzTIlh3hVa-7bMfEI1B9UwC7e9Da8XXaMFzqUbr9zPz4jPIGApqqrNgVyiNfbuoe0HxY0MlYkBepQ1urxIgdNGl2n7N3SeqazdpmHml7iGKSgUt9_a0DJsU2OJK34RkUh1mMPa-_gmSCm0xuV1G7HTWbJOzEgmyAWd3Z_OjmoA78v_6ZJcv5SMclsmOWK7_hFBIHR9vSRp3DNdCVaNRha2aXirFv7A7PyRv7q1f5vak_-miarZNCZvOHdhK4YE9rxO6knO_sI2KQsFRvy2_TuhQy9Fin8FQlSoE4BAnJIfgmy-BkPoQOx4uSKqCJLvdFfZw1hq2kdbB_3FUnmVb-r_2XPXp47tx2CRET3eFmvHNl6ObAAb6CP0lKZI-vJBdaFmFi-wN0LL4lahTkEDF517_pEmHYhpy813BsCRwAqIENxWYnmv_r_OptZvmwCIz8k8dTtIdFkzj2LpQuIg8d1GZ4CMNQ8ALEOhx0BrxOHICwg&refId=jnPkbUaJgtXfmJknzztCHw%3D%3D&trackingId=OT6kt4M4ESPfkhyKrDQVVg%3D%3D&trk=flagship3_job_collections_leaf_page</td><td>3D Computer Vision Intern</td><td>Sony Research India</td><td>India (Remote)</td><td>sony research india</td></tr><tr><td>https://www.linkedin.com/jobs/view/4272868090/?eBP=CwEAAAGYgRNprBnKCDkS6HutgFZAHbFwjKz_mxCDEc4DKsm5ldmrH_iDFPLDdoU98OPfsrmNBwXZFaDOl2MnBgUyLPUUOO_99W-KWbJaX7NqjBxrBROEtcQ0AxIgfeUwyW8IzabHyjMr42UdHpaIOVpk4LJrvaoeDprmYBucBryTmpAZ7QzkaBikcu1uoUvg82-2uxhZkis7JFEDH0DvS911eFRO_M1gZJSPfJlzuphp5g10GaDtX5HCoaQKZHE3KY_y2Hg0nPrW40tn2gthsxhHxek36o_danT5zIX6eSVrHt3cr1pSu2-kY0qOIhOrzaKgeDTgIsn7LzndfvgSaFiZLvmQoZfjNICSjuNYn_XJ782wxIyMg_OYYXcFqc-dOP35hvsSsk-jH_pnXgoGNA2wLYh2uyUuPm7sq4mo5hmGszOxZMAQ7PXkyP8BVo9ewOC4KHHboyJ5DQ9n2Jp8pC-nVmFy75IYkm3hehPZJLiPx0JSEU-VvxrHlXugCxT1NbNqiYZrUB5AK97EdmBgd9S8gj6_1Q87&refId=jnPkbUaJgtXfmJknzztCHw%3D%3D&trackingId=m4W7sy9k9qaPNDo71rpXpg%3D%3D&trk=flagship3_job_collections_leaf_page</td><td>Machine Learning Engineer</td><td>Capgemini</td><td>Bengaluru, Karnataka, India (Hybrid)</td><td>capgemini</td></tr><tr><td>https://www.linkedin.com/jobs/view/4280599999/?eBP=BUDGET_EXHAUSTED_JOB&refId=jnPkbUaJgtXfmJknzztCHw%3D%3D&trackingId=Ik53abofLEWdZv%2F1KPL%2F2Q%3D%3D&trk=flagship3_job_collections_leaf_page</td><td>AI Engineering Intern (SDE)</td><td>Darwix AI</td><td>Gurugram, Haryana, India (On-site)</td><td>darwix ai</td></tr><tr><td>https://www.linkedin.com/jobs/view/4277927708/?eBP=CwEAAAGYgRNprOP_oooAdlJczu9h3w2v6OUArF5QTtQ7c2XXsHXnbzlJNFDwTOXzBgNKtshb_I8au0mhJaNaph73o-Sq3kTmC0mTuTMcx5tsiN9cw1j6UlfgnMAjky6vU6BJJgSYEidJKgYTiRnz2SiRUs2YdefReTWdrZEuSKhcU49AImlIBw1elcmM3o0ikG_YR_I1VgwE7S-d9fWCRHLOCVALQ6AUgWJqBpvgmcppZS2R5WTQJE9JjevIoJQQqowZS7J7O85d6xpx6lPkvfnTzuvk2y0IcpoUzcSxdxx63aUs6eXhEFZnkpUUER_PFGZ7LmjSgIceC5vVETS89V6D4bufUxNsUaeRp6tzpWV0vhkSq7ghEmXxs0x25Hj_UuPqg5fdux97Ad_AjQ4NiOoGd1Qij7-6VQ-V0iS0lBI22hHTPQc-a0cyiZo6zxcVGoMStNhof5NAa3ReUyMTXVRe1b0gSojyi5bynmWu54EHCwCqJgmnvHNLdnvf0bvy5hFP0bD272U2-G-j1nJsZEkPRNWJNQ&refId=jnPkbUaJgtXfmJknzztCHw%3D%3D&trackingId=kpze6nqcO4zCHyRrbznPhw%3D%3D&trk=flagship3_job_collections_leaf_page</td><td>Machine Learning Engineer</td><td>Insight Global</td><td>India (Remote)</td><td>insight global</td></tr><tr><td>https://www.linkedin.com/jobs/view/4222830764/?eBP=CwEAAAGYgRNprAnr9aF9EkqD1FwbnSS3riVgHFL-xuCtKJRPjLWqeJPTdW0MovTKXX8l1xv8WmT8PhmElm37SglA7Gbg3jJwrnZ4K8P8BUYREm8-U9kIOklwjcPispRP0bHDBbDlocu5HT3x-g6JIjGNaNAFh0Ct87ml0bet3_U4qEHcWMCCf3G1n_77pK_rnzoVtwgQ0VDvzwEDXK33Nv3Oni5Wo5_E1mFVzCACpPROP5SccJJPxz5st_fwUsc--R-SUfaysP_bkbW7cUfJgIB0NEYuPBnPAXDf9IP5Z2r_-9kSaRAD7ugUK_Q87-vdD9IaFM2pA8BjoDahTj0L1tc39IEMFTCSSSINAL9FLkfTxyMLZv8Wuy4w95F6VCh_2f2orGs9KqoTeGl5GYE_LB9VKVeOiIq2jB1VdpA-IBGOk4UnG7tyTDorBZqJoICim7Kcf9ex43w3kRHAToCl-Vqv-kAweAsvwFodK7Kr5RGGuM8M6yrQK6pnKnw5BLQ2Z2tvd9R235oLRAVMVbnM84n3gvaG8Zlu&refId=jnPkbUaJgtXfmJknzztCHw%3D%3D&trackingId=EbKQwPsh7xIkxjtR%2FYQKrw%3D%3D&trk=flagship3_job_collections_leaf_page</td><td>Data science intern</td><td>EVERSANA</td><td>Bengaluru, Karnataka, India (On-site)</td><td>eversana</td></tr><tr><td>https://www.linkedin.com/jobs/view/4277368921/?eBP=CwEAAAGYgRNprer7s6kT-XxKQaF21PwnVIuzArtqRFD4649C6G5_HhT_1aS2fQaYahV46VNP39vVzuEgFTbtS4jQWB_7Sv7Ute8nXHrl5f1vjmKQjGDcqVyIj6gqkxp51e_Pn8qK3nMfjM_GOFbXzgmI5OAAFxxQ16cEMkHy1ztdL83_ip9Uu2W-ROM3Pu1MomnjNFjZcaexvieEWuKsywKoLH7MZhkTmYFW7gjNAnc72PXTvRY3ZVLG_5xcxbUx8HjZKaIQ6MKf5E25ZkMuvF-UO8MgRbrZ9xZJtnU_Icb6hUUdvUtc_IbEzzfe3jJmryKiHa1mdr6-vEfaKT4EilVD1-6dpcZ0lq9Eub1drlJl74BfvZECDzgMoAE0BlNESB6NouZI45ld6br3YVaCOGS2EpAkqvzuGbGPnn6-BJ4rvRPa0rsAyHkD0Vc6EwxGvA9bPhhw5u-ntdyH4myFgWK6_hFT5w4Z-9JUWAgD5mx7cr7fcMFqIrg3Be4He7OKVXNp91XGJiYyaZmwBVonIotzIXE6Ag&refId=jnPkbUaJgtXfmJknzztCHw%3D%3D&trackingId=AnIAsKIo9zVSD7DvHLzcDA%3D%3D&trk=flagship3_job_collections_leaf_page</td><td>Digital Champaign Internship</td><td>HDFC securities</td><td>Mumbai, Maharashtra, India (On-site)</td><td>hdfc securities</td></tr><tr><td>https://www.linkedin.com/jobs/view/4274097889/?eBP=CwEAAAGYgRNprQRKbBkb21jUfD2RLxds_f9OBopl9Z-IRr8LXqNd6UKi4Yytfk8EGYmfWCbsEmVol6K6p0iJvMxESg_HeveGXvrKgcZ5L3n0kjzm_ZAZ_0gCPxvPsVx6bzVdnpZT7sYIRXUYjuxjIUied1sraFSw89622eJ9-vKZt0OEGALTPeM6ZqZCQ3LMDsb2NoR2ozoF-5ysHXUGs2s1HPxUS6q1g6zewc1PKXho2p4_dSiT8QLqWD0i0NcZpzy84fvpxRpH1bVyvOEFPQhEG6II8ADuSWsW7liDA3dHejodc2ggSuemWpvk11QoTz8TmBnbR5Htxms4lyK4hmk1OBwBFmaW5O7uvDp0cJERGwe73AYf82qkCdfCf5cX46idm36Xagoub52A1LqIR8RQNoFig88bBS73bl-wFxIWpPptXLzZJpyh1bt8jBC10WwBLvZkMR9tYb9FMRkd3VBm1_g5rPpJ--8Uzmuhn8GUeQjIncwrK40-qNgcUjeb3NjlrZfThMBVK3xRLd7yYnUFNrCH9g&refId=jnPkbUaJgtXfmJknzztCHw%3D%3D&trackingId=jJNRm%2BYr7Q74Y%2BY4QYXD3Q%3D%3D&trk=flagship3_job_collections_leaf_page</td><td>Data Scientist</td><td>Pentair</td><td>Noida, Uttar Pradesh, India (Hybrid)</td><td>pentair</td></tr><tr><td>https://www.linkedin.com/jobs/view/4274697931/?eBP=BUDGET_EXHAUSTED_JOB&refId=jnPkbUaJgtXfmJknzztCHw%3D%3D&trackingId=b%2FFOO62TY%2BIrjYqTPhpmqA%3D%3D&trk=flagship3_job_collections_leaf_page</td><td>Fresher Cloud Engineer</td><td>CryptoChakra</td><td>India (Remote)</td><td>cryptochakra</td></tr><tr><td>https://www.linkedin.com/jobs/view/4277577862/?eBP=BUDGET_EXHAUSTED_JOB&refId=jnPkbUaJgtXfmJknzztCHw%3D%3D&trackingId=TmdIiTagaheh8MU7Gd%2FL2A%3D%3D&trk=flagship3_job_collections_leaf_page</td><td>Full Stack Engineer</td><td>Orbital</td><td>Hyderabad, Telangana, India (On-site)</td><td>orbital</td></tr><tr><td>https://www.linkedin.com/jobs/view/4280159123/?eBP=BUDGET_EXHAUSTED_JOB&refId=wL%2FRMpLMnaJ0PmhOiDKXgA%3D%3D&trackingId=94y1ZHcxTdsmNJo5kSZtRQ%3D%3D&trk=flagship3_job_collections_leaf_page</td><td>Remote Data Science Analyst - 17843</td><td>Turing</td><td>Hyderabad, Telangana, India (Remote)</td><td>turing</td></tr><tr><td>https://www.linkedin.com/jobs/view/4279992774/?eBP=BUDGET_EXHAUSTED_JOB&refId=wL%2FRMpLMnaJ0PmhOiDKXgA%3D%3D&trackingId=kImrvh6mYAzViXgBqWIeuw%3D%3D&trk=flagship3_job_collections_leaf_page</td><td>Speech Generation Intern</td><td>Sony Research India</td><td>Bengaluru, Karnataka, India (Remote)</td><td>sony research india</td></tr><tr><td>https://www.linkedin.com/jobs/view/4280776208/?eBP=BUDGET_EXHAUSTED_JOB&refId=wL%2FRMpLMnaJ0PmhOiDKXgA%3D%3D&trackingId=EHXgxqpbXfDHfsbRkKHxjA%3D%3D&trk=flagship3_job_collections_leaf_page</td><td>Python Data Analyst</td><td>Persistent Systems</td><td>Bengaluru, Karnataka, India (On-site)</td><td>persistent systems</td></tr><tr><td>https://www.linkedin.com/jobs/view/4275076258/?eBP=BUDGET_EXHAUSTED_JOB&refId=wL%2FRMpLMnaJ0PmhOiDKXgA%3D%3D&trackingId=%2BWunzS%2F5uot4kOkMFZR1jA%3D%3D&trk=flagship3_job_collections_leaf_page</td><td>Full Stack Developer SDE 1</td><td>NxtWave</td><td>Hyderabad, Telangana, India (On-site)</td><td>nxtwave</td></tr><tr><td>https://www.linkedin.com/jobs/view/4277562941/?eBP=CwEAAAGYgRQ36KJWeNRiTl4P1fOxEdXUglM7W0wWnlj-FUD4OvaatfSHVGToct-V6k-FTdD6vf9eBfgTvfz_CjlyZQoC69e-Qt9RC8t3lwYCa6lNFBK-bvgf-OovgqJeuRptFUf_xqcDhISYZwY43By2tTgGhNLYZpMreCTfWLJegs5rhro37rbumq2u6kahE6zBKHFpZ5LyiEr7Tb499P0Sze5T8DRJEkEHB7ESzoGdf0lyV6eiqSuzQG7DycDW7uwbIBM6CX1y2pH93yqRNqzOMhurzKKB_1iJVY6YS9tEHRAojOHfGqb24hDgL-GZd8e6TQGYSVlcm70Wo7noiGYpZPa-qMZJK2wD0w3jgaM1O403HF7lPRPTgU8V6ZP4o-7JPCVqGCdvDwASQnppvl4XTeM50fYTcavy61vWNSszNy9_cI4AkyH7TTwoQkkbFBtiz6iNYjOTKMxvmK_uwIEYWl74S6tiy1PHTKjTroqoBreISak5Bi2UtvuzssTmkN6scRMjT8z1r7MQXf9qsayQ6qEA7MzCQbM&refId=wL%2FRMpLMnaJ0PmhOiDKXgA%3D%3D&trackingId=zW0MpxhxrZI3Z0iA8iI3Lg%3D%3D&trk=flagship3_job_collections_leaf_page</td><td>AI - ML</td><td>WNS</td><td>Noida, Uttar Pradesh, India (On-site)</td><td>wns</td></tr><tr><td>https://www.linkedin.com/jobs/view/4280831022/?eBP=BUDGET_EXHAUSTED_JOB&refId=wL%2FRMpLMnaJ0PmhOiDKXgA%3D%3D&trackingId=5bOjCxntA6c0UczcZKotvg%3D%3D&trk=flagship3_job_collections_leaf_page</td><td>Full Stack Engineer – AI/ML</td><td>2Base Technologies</td><td>Bengaluru, Karnataka, India (On-site)</td><td>2base technologies</td></tr><tr><td>https://www.linkedin.com/jobs/view/4273880274/?eBP=CwEAAAGYgRQ36GdbbgjA4YX2rUBvzoOaln0-D5vjRna3N9-iZ1lnI5vikD8T-NZPb-RNb5ovwVs--4Cgx-Z5WhHJdwmvtzxKZtJ0wUjg7ROxEeNQwqXReXIDhlar7mfWyQr4-DPb_U7xgIQVWg9hJ7gOUuOoJnA_6XPxTfXWUNOexvT_qkg3ucd0hT1uotEH4__jbBJldqXDCAdFtnP0RGIZuaVrtJFw3-2bPUfwpSKdz1J5wAHDMWTz9fWTncqqgRXDxtGHUn8m8U3L5K2_ZuPtYGhDW-rx6RHVvGghxFmh9aQdBda99tX1On7D0UnOtk8xmEr3u0DEBO2cwtKzH4r6b3LcZTDZ-Z1SY_x-hohx7eZNBCzx4czuHVXzGlYn7yEJJ9p5AYvfA5IGMI9gC0IralcK7lXENnQVripR7DCjeP6tvlh8x7PYZmahvQwR3OlmcNK2LNo6tmOUp3Edka2_QLHvLGMhok6AJigGZgg9uXXChgA&refId=wL%2FRMpLMnaJ0PmhOiDKXgA%3D%3D&trackingId=MVIyF4JFHcOa6FGm47LOXg%3D%3D&trk=flagship3_job_collections_leaf_page</td><td>AI Engineer</td><td>Zenduty</td><td>Bangalore Urban, Karnataka, India (On-site)</td><td>zenduty</td></tr><tr><td>https://www.linkedin.com/jobs/view/4219931313/?eBP=CwEAAAGYgRQ36ETVhwHJ1MGAobk8UMYim2dc_9dihoaYx5f8WqdJY4gSSjREJF6MiQuh6uJRw3LKAaUN1SR2_6eWHnKSRuYPPfuR0piYsqNxPBt8eGS-hDo3lbJM6Ni-Kamhf-VD-muRhHj7_JOqjXXY6549a7Bdja4sX38-yiX8ppQZlJR9XSzruOsWNm88EuTpwu3JsdSYkjpkyF8QjLgNhZSA-OjMvF9IhNY7ZZbAJwm08GQsYNRg0lOrBX7LoV68qmzm4Hvnb6dp8PMb_jvJg6PiLY2IRebjvqu4NkPakDYtUnJafqEJoEhFxyhEr-xeOTiNjlPuz84rrgQxlJQkjwdCND_lBelQ50bHKt2peqPvgwmkR02s1p6KpG3goe2ib4btjom_39ZYzG8cQrtSFkaf2LlFu4vFMpFW3Sk0U5Q8xf1jehwx6q5Nd7D0VuvDSxlclhCFNBG3X4CfaXjX2iIsGBuEpigDly1mrk_HXSLGYWp03_4IERkiQ8Rec9xp23olkkHUrfgyEOG_QENAr52dKvF8&refId=wL%2FRMpLMnaJ0PmhOiDKXgA%3D%3D&trackingId=9u1%2FGL3Xr38rRkB0FsVS6Q%3D%3D&trk=flagship3_job_collections_leaf_page</td><td>Software Engineer (AI / NLP / ML)</td><td>Nextiva</td><td>Greater Chennai Area (Hybrid)</td><td>nextiva</td></tr><tr><td>https://www.linkedin.com/jobs/view/4279543215/?eBP=CwEAAAGYgRQ36UlOYVyTOZF_hYfxTDWx5r1tIRN-hCtFStUXTBJ-Z4EHYpIIstgxiA6WO1yEUNYF85Guk9ASZAm9IdzobkyrafGXWtI4d3gYAKAz7WYmcJM1oEcSF3AVnEqgnsCKC0NIa5bywNYhVvAvV7HW-Fcat9Sb3ZKozwotvE9u_QlOKaSnya9lmz9EyFm4xWqicvFDhgNIY2jtQ2C6snx8_SnKPkstorBuJoFRFC_j0kmv0AlaD9vXRILdL_OJRY1wKx07k_f4jx4tSPvTC6Q6MBjiFN4YXg5yUPzZsqsD2QbTfwGfHMXERv6fUWRq8jKREj7yC3Fke0dV8-QAEd0poJip6RHAqobjzZ_QTh32zticN6gnHLuGZ9tuc370aApQUxAVwUkQ3VQoAKnXCwMuFflqDL5-XYp3ZPlKTFvAEHPHXJZEiVWzdI0wqEPQZPtV4ZId5RtKAKVBelhDxnCNebcIrKjZ7i4VMGAGeNyQDwJ-XqOES1dW2Mbyv3uI0kb4g90xN9ePDqDGvLW3VI4jykrYY8E&refId=wL%2FRMpLMnaJ0PmhOiDKXgA%3D%3D&trackingId=SM83wi2ga4rRTDNC%2FmKhUw%3D%3D&trk=flagship3_job_collections_leaf_page</td><td>Data Scientist II</td><td>Talkdesk</td><td>Bengaluru, Karnataka, India (On-site)</td><td>talkdesk</td></tr><tr><td>https://www.linkedin.com/jobs/view/4275972625/?eBP=CwEAAAGYgRQ36fbQnx5QxkgMAUj13mmKBsQtKKOFRYaG95z9FdG-Eb53i0Oun4LOgQMgxCkif3giCM514RqQYw1ctItO7lDBskQVQayMD7G1UACKCHxv5L9PBwiTt4Y-b_T-rFOc1MEc6-Kg4q8i6JzQvUfohUrFS9ULMtxCDs_ekVGaDVohU9PWmXmT6v7C-Tx2Jg7rz91tOsRyLiLHphbQsFC-H6-1cLeLEV2X06RsxCUKhPLnNCjhRGpYWENu2E3LRzBWYqYqzRy4CHnVoKjrzFSZmX2Z8Qc4bhSWIEj3IRIk7nP96GJexOtYCmKkG6t6K2e5jZ3cMDmCreo2XuY5Sk5K2NqGmT3Q4sUTlSFkJ87fSnDKIum3DTcuFHCgS8wghD88OAZP9am4UU4VYChvChas-cyLTsmlHSaRIMVHQXOyeGQZ7xczJK1Vdy671NX8xZoSoR7qr_DXAooeiPnMqM2ymm_8WXCuVnMTLh_GBQEF1ITnWyKRIetF9UNwpj5S9AaoK1tIc3iE9ltKvC0nCMZWBdqX&refId=wL%2FRMpLMnaJ0PmhOiDKXgA%3D%3D&trackingId=pEYLZvwd3MzmQGvAnirMjg%3D%3D&trk=flagship3_job_collections_leaf_page</td><td>Data Analyst</td><td>Newsweek</td><td>India (Remote)</td><td>newsweek</td></tr><tr><td>https://www.linkedin.com/jobs/view/4277363295/?eBP=BUDGET_EXHAUSTED_JOB&refId=wL%2FRMpLMnaJ0PmhOiDKXgA%3D%3D&trackingId=2cLqtEczLm%2B40hNj6AHMRQ%3D%3D&trk=flagship3_job_collections_leaf_page</td><td>AI/ML Engineer</td><td>Grow Your Staff</td><td>India (Remote)</td><td>grow your staff</td></tr><tr><td>https://www.linkedin.com/jobs/view/4280159123/?eBP=BUDGET_EXHAUSTED_JOB&refId=wL%2FRMpLMnaJ0PmhOiDKXgA%3D%3D&trackingId=94y1ZHcxTdsmNJo5kSZtRQ%3D%3D&trk=flagship3_job_collections_leaf_page</td><td>Remote Data Science Analyst - 17843</td><td>Turing</td><td>Hyderabad, Telangana, India (Remote)</td><td>turing</td></tr><tr><td>https://www.linkedin.com/jobs/view/4279992774/?eBP=BUDGET_EXHAUSTED_JOB&refId=wL%2FRMpLMnaJ0PmhOiDKXgA%3D%3D&trackingId=kImrvh6mYAzViXgBqWIeuw%3D%3D&trk=flagship3_job_collections_leaf_page</td><td>Speech Generation Intern</td><td>Sony Research India</td><td>Bengaluru, Karnataka, India (Remote)</td><td>sony research india</td></tr><tr><td>https://www.linkedin.com/jobs/view/4280776208/?eBP=BUDGET_EXHAUSTED_JOB&refId=wL%2FRMpLMnaJ0PmhOiDKXgA%3D%3D&trackingId=EHXgxqpbXfDHfsbRkKHxjA%3D%3D&trk=flagship3_job_collections_leaf_page</td><td>Python Data Analyst</td><td>Persistent Systems</td><td>Bengaluru, Karnataka, India (On-site)</td><td>persistent systems</td></tr><tr><td>https://www.linkedin.com/jobs/view/4275076258/?eBP=BUDGET_EXHAUSTED_JOB&refId=wL%2FRMpLMnaJ0PmhOiDKXgA%3D%3D&trackingId=%2BWunzS%2F5uot4kOkMFZR1jA%3D%3D&trk=flagship3_job_collections_leaf_page</td><td>Full Stack Developer SDE 1</td><td>NxtWave</td><td>Hyderabad, Telangana, India (On-site)</td><td>nxtwave</td></tr><tr><td>https://www.linkedin.com/jobs/view/4277562941/?eBP=CwEAAAGYgRQ36KJWeNRiTl4P1fOxEdXUglM7W0wWnlj-FUD4OvaatfSHVGToct-V6k-FTdD6vf9eBfgTvfz_CjlyZQoC69e-Qt9RC8t3lwYCa6lNFBK-bvgf-OovgqJeuRptFUf_xqcDhISYZwY43By2tTgGhNLYZpMreCTfWLJegs5rhro37rbumq2u6kahE6zBKHFpZ5LyiEr7Tb499P0Sze5T8DRJEkEHB7ESzoGdf0lyV6eiqSuzQG7DycDW7uwbIBM6CX1y2pH93yqRNqzOMhurzKKB_1iJVY6YS9tEHRAojOHfGqb24hDgL-GZd8e6TQGYSVlcm70Wo7noiGYpZPa-qMZJK2wD0w3jgaM1O403HF7lPRPTgU8V6ZP4o-7JPCVqGCdvDwASQnppvl4XTeM50fYTcavy61vWNSszNy9_cI4AkyH7TTwoQkkbFBtiz6iNYjOTKMxvmK_uwIEYWl74S6tiy1PHTKjTroqoBreISak5Bi2UtvuzssTmkN6scRMjT8z1r7MQXf9qsayQ6qEA7MzCQbM&refId=wL%2FRMpLMnaJ0PmhOiDKXgA%3D%3D&trackingId=zW0MpxhxrZI3Z0iA8iI3Lg%3D%3D&trk=flagship3_job_collections_leaf_page</td><td>AI - ML</td><td>WNS</td><td>Noida, Uttar Pradesh, India (On-site)</td><td>wns</td></tr><tr><td>https://www.linkedin.com/jobs/view/4280831022/?eBP=BUDGET_EXHAUSTED_JOB&refId=wL%2FRMpLMnaJ0PmhOiDKXgA%3D%3D&trackingId=5bOjCxntA6c0UczcZKotvg%3D%3D&trk=flagship3_job_collections_leaf_page</td><td>Full Stack Engineer – AI/ML</td><td>2Base Technologies</td><td>Bengaluru, Karnataka, India (On-site)</td><td>2base technologies</td></tr><tr><td>https://www.linkedin.com/jobs/view/4273880274/?eBP=CwEAAAGYgRQ36GdbbgjA4YX2rUBvzoOaln0-D5vjRna3N9-iZ1lnI5vikD8T-NZPb-RNb5ovwVs--4Cgx-Z5WhHJdwmvtzxKZtJ0wUjg7ROxEeNQwqXReXIDhlar7mfWyQr4-DPb_U7xgIQVWg9hJ7gOUuOoJnA_6XPxTfXWUNOexvT_qkg3ucd0hT1uotEH4__jbBJldqXDCAdFtnP0RGIZuaVrtJFw3-2bPUfwpSKdz1J5wAHDMWTz9fWTncqqgRXDxtGHUn8m8U3L5K2_ZuPtYGhDW-rx6RHVvGghxFmh9aQdBda99tX1On7D0UnOtk8xmEr3u0DEBO2cwtKzH4r6b3LcZTDZ-Z1SY_x-hohx7eZNBCzx4czuHVXzGlYn7yEJJ9p5AYvfA5IGMI9gC0IralcK7lXENnQVripR7DCjeP6tvlh8x7PYZmahvQwR3OlmcNK2LNo6tmOUp3Edka2_QLHvLGMhok6AJigGZgg9uXXChgA&refId=wL%2FRMpLMnaJ0PmhOiDKXgA%3D%3D&trackingId=MVIyF4JFHcOa6FGm47LOXg%3D%3D&trk=flagship3_job_collections_leaf_page</td><td>AI Engineer</td><td>Zenduty</td><td>Bangalore Urban, Karnataka, India (On-site)</td><td>zenduty</td></tr><tr><td>https://www.linkedin.com/jobs/view/4279273971/?eBP=CwEAAAGYgRQ36HcC61SuAcAS2snyYNEPsiAOHIsdXe4s7KF2-bICtaT3I3RK5t9J6nmjQ2dgvkjVu90zBDbxuqJZ591TrEj2J1kFtkC7C4U7mWQwCkyggpaW3KejlB17XdVk57fM2cQhHfuO8NfYCsnuDml2I8Vxy8M3QXHPvQ_x_uZ7MEcTrODfYVpgi95bpIHXbv0CdBF7a8QFbzUBBF1avK6q307hkkov3cuKvy0sF4_zOZsxxwWrPuM8b_G2AOh30zLqGXFkrCSvXybpwEQY0Y3INb6dT41DHbhtOLQvK4ydkwBTepvGKffHV500x6P3WQKHTq9VIBWIKme9LdYCr70TQ9LFleB72i8uwxFvdSXWmdj02q9Eig6wBMD8eT0ukoYP9U_6F81mSCbcgugzHXYg1RCpOf3J5jNnRpgcZAYGQXQWsdChmbStBTG9oq9TM5p57xRy1R6qCbSJIy6Lmyy91PEqt-G-NGcCNTC5XIQBe2o1uYlDzp7RXiLviz78ZpUmWsrLFBE7cI01WIKj_NM&refId=wL%2FRMpLMnaJ0PmhOiDKXgA%3D%3D&trackingId=TaayOEKtud5QcgfcEDO1%2FQ%3D%3D&trk=flagship3_job_collections_leaf_page</td><td>Python Developer with Javascript and Cloud Environment</td><td>Ampstek</td><td>Bengaluru, Karnataka, India (On-site)</td><td>ampstek</td></tr><tr><td>https://www.linkedin.com/jobs/view/4219931313/?eBP=CwEAAAGYgRQ36ETVhwHJ1MGAobk8UMYim2dc_9dihoaYx5f8WqdJY4gSSjREJF6MiQuh6uJRw3LKAaUN1SR2_6eWHnKSRuYPPfuR0piYsqNxPBt8eGS-hDo3lbJM6Ni-Kamhf-VD-muRhHj7_JOqjXXY6549a7Bdja4sX38-yiX8ppQZlJR9XSzruOsWNm88EuTpwu3JsdSYkjpkyF8QjLgNhZSA-OjMvF9IhNY7ZZbAJwm08GQsYNRg0lOrBX7LoV68qmzm4Hvnb6dp8PMb_jvJg6PiLY2IRebjvqu4NkPakDYtUnJafqEJoEhFxyhEr-xeOTiNjlPuz84rrgQxlJQkjwdCND_lBelQ50bHKt2peqPvgwmkR02s1p6KpG3goe2ib4btjom_39ZYzG8cQrtSFkaf2LlFu4vFMpFW3Sk0U5Q8xf1jehwx6q5Nd7D0VuvDSxlclhCFNBG3X4CfaXjX2iIsGBuEpigDly1mrk_HXSLGYWp03_4IERkiQ8Rec9xp23olkkHUrfgyEOG_QENAr52dKvF8&refId=wL%2FRMpLMnaJ0PmhOiDKXgA%3D%3D&trackingId=9u1%2FGL3Xr38rRkB0FsVS6Q%3D%3D&trk=flagship3_job_collections_leaf_page</td><td>Software Engineer (AI / NLP / ML)</td><td>Nextiva</td><td>Greater Chennai Area (Hybrid)</td><td>nextiva</td></tr><tr><td>https://www.linkedin.com/jobs/view/4279543215/?eBP=CwEAAAGYgRQ36UlOYVyTOZF_hYfxTDWx5r1tIRN-hCtFStUXTBJ-Z4EHYpIIstgxiA6WO1yEUNYF85Guk9ASZAm9IdzobkyrafGXWtI4d3gYAKAz7WYmcJM1oEcSF3AVnEqgnsCKC0NIa5bywNYhVvAvV7HW-Fcat9Sb3ZKozwotvE9u_QlOKaSnya9lmz9EyFm4xWqicvFDhgNIY2jtQ2C6snx8_SnKPkstorBuJoFRFC_j0kmv0AlaD9vXRILdL_OJRY1wKx07k_f4jx4tSPvTC6Q6MBjiFN4YXg5yUPzZsqsD2QbTfwGfHMXERv6fUWRq8jKREj7yC3Fke0dV8-QAEd0poJip6RHAqobjzZ_QTh32zticN6gnHLuGZ9tuc370aApQUxAVwUkQ3VQoAKnXCwMuFflqDL5-XYp3ZPlKTFvAEHPHXJZEiVWzdI0wqEPQZPtV4ZId5RtKAKVBelhDxnCNebcIrKjZ7i4VMGAGeNyQDwJ-XqOES1dW2Mbyv3uI0kb4g90xN9ePDqDGvLW3VI4jykrYY8E&refId=wL%2FRMpLMnaJ0PmhOiDKXgA%3D%3D&trackingId=SM83wi2ga4rRTDNC%2FmKhUw%3D%3D&trk=flagship3_job_collections_leaf_page</td><td>Data Scientist II</td><td>Talkdesk</td><td>Bengaluru, Karnataka, India (On-site)</td><td>talkdesk</td></tr><tr><td>https://www.linkedin.com/jobs/view/4275972625/?eBP=CwEAAAGYgRQ36fbQnx5QxkgMAUj13mmKBsQtKKOFRYaG95z9FdG-Eb53i0Oun4LOgQMgxCkif3giCM514RqQYw1ctItO7lDBskQVQayMD7G1UACKCHxv5L9PBwiTt4Y-b_T-rFOc1MEc6-Kg4q8i6JzQvUfohUrFS9ULMtxCDs_ekVGaDVohU9PWmXmT6v7C-Tx2Jg7rz91tOsRyLiLHphbQsFC-H6-1cLeLEV2X06RsxCUKhPLnNCjhRGpYWENu2E3LRzBWYqYqzRy4CHnVoKjrzFSZmX2Z8Qc4bhSWIEj3IRIk7nP96GJexOtYCmKkG6t6K2e5jZ3cMDmCreo2XuY5Sk5K2NqGmT3Q4sUTlSFkJ87fSnDKIum3DTcuFHCgS8wghD88OAZP9am4UU4VYChvChas-cyLTsmlHSaRIMVHQXOyeGQZ7xczJK1Vdy671NX8xZoSoR7qr_DXAooeiPnMqM2ymm_8WXCuVnMTLh_GBQEF1ITnWyKRIetF9UNwpj5S9AaoK1tIc3iE9ltKvC0nCMZWBdqX&refId=wL%2FRMpLMnaJ0PmhOiDKXgA%3D%3D&trackingId=pEYLZvwd3MzmQGvAnirMjg%3D%3D&trk=flagship3_job_collections_leaf_page</td><td>Data Analyst</td><td>Newsweek</td><td>India (Remote)</td><td>newsweek</td></tr><tr><td>https://www.linkedin.com/jobs/view/4277363295/?eBP=BUDGET_EXHAUSTED_JOB&refId=wL%2FRMpLMnaJ0PmhOiDKXgA%3D%3D&trackingId=2cLqtEczLm%2B40hNj6AHMRQ%3D%3D&trk=flagship3_job_collections_leaf_page</td><td>AI/ML Engineer</td><td>Grow Your Staff</td><td>India (Remote)</td><td>grow your staff</td></tr><tr><td>https://www.linkedin.com/jobs/view/4278492716/?eBP=CwEAAAGYgRRFuFBhckZrAS5VudGiS-Z0tB6oFiunIjw8tVhEnswlRRUTdJeypIBWAPL9VD9YzC8baKTQ7vEZfb5kLNtvNiJWFnrD6_V316EXy-dU190WN2b7nmyqNta8uY9e6pbPdD0-nHWMflldZMYCH2yN-2yRmGJNf86QFMpIHwnXyVxL2VwZHKea50rQnwFRrXtvgb4_x83FUe8g2qXzOFIALMiV3BFFHLWM7NlBAFnXZxTRkSW87NZX_1xkrDbJaa1AvbaVvHJhR0Rwvpon0uPoJ2w-2LN89p3FW8v8pAEyNsigMdNHtfzTlkZIN2lhT9_dSn_lLyA58k0covtGtU4CiEFDRs_dk_X_px3pyqXxfT5uHUiuNA8rYA_eNHc2wg-OLx7YOd90UnmXuzUcEYN2_PF2do5TbRcEePLImWk1ZZJujIcn_bRdaQKRPXKhs7DhdOGt5p2ygm1D3cFMVro3yvm-Ieo0gEBL7HC04Ke04u5EdMybUpwych-3xMQf3on8yO9rjyBU0oS_wash24HdnS-i&refId=yGFNBlPxF21UuzeReqTmiQ%3D%3D&trackingId=lFXT5nwZJMtcX88C4yyZDg%3D%3D&trk=flagship3_job_collections_leaf_page</td><td>Data Scientist</td><td>Recro</td><td>Bengaluru, Karnataka, India (On-site)</td><td>recro</td></tr><tr><td>https://www.linkedin.com/jobs/view/4256657158/?eBP=CwEAAAGYgRRFuPQjPdUnuXNbhSTUa3DsR2af5o5WRykksCD50bJa7vAMHr1AsnsK1SyEAbYyhzNfqCP1y8UuDJ4BVzmdvDf7nLXfOdcHvCnN24CM8VWYaGzDdt0M4X_OPsq5xRUutYRYdhJTY8vAQ0MuSp0nAuRsLg7xn6iRkvH3Znaj0dlVYAEPe6UN_e6BCIBiRBQfLE3bCAIXe8ieg_61odAtv8A_1qkPA0q1TEy8Mc_LYEarWWBovqgzDdO9j3puqSCFQuke-jNekmv6zJAfs4e04HLHGtgTcynB6KRo1fqkWmN7NqiurSeFU2l9UnAbhvd_TcEoC064bI1jsl4pKtzg_VV7hfRa49Fy6LBH07cx8dNaQwGkGFXjPtF8TWuYvCLzEuIYQN-jqVOkCkBErQLXqytsYghiqU3O5-_wL-cI51_s1ESyT8Da4lGcL9qjBWmvZBRuadY2SWwAfq3QgnPlLDmVr07HP5m8Zaab4JHQrzoo3G-379d4zac4SAX23H80ghXWI3HK6gyFdx0mhYlU-u3J&refId=yGFNBlPxF21UuzeReqTmiQ%3D%3D&trackingId=SYr7R7y0UMyI%2BmqkhBLKsQ%3D%3D&trk=flagship3_job_collections_leaf_page</td><td>Machine Learning Engineer</td><td>Wissen Infotech</td><td>Bangalore Urban, Karnataka, India (On-site)</td><td>wissen infotech</td></tr><tr><td>https://www.linkedin.com/jobs/view/4277376537/?eBP=BUDGET_EXHAUSTED_JOB&refId=yGFNBlPxF21UuzeReqTmiQ%3D%3D&trackingId=4PWmG0XS4s2zVlY8p3E7tg%3D%3D&trk=flagship3_job_collections_leaf_page</td><td>Python Developer</td><td>Persistent Systems</td><td>Bengaluru, Karnataka, India (On-site)</td><td>persistent systems</td></tr><tr><td>https://www.linkedin.com/jobs/view/4275634343/?eBP=CwEAAAGYgRRFuZpRI7CwmVXmLlcRPwNOp-7g2l_bGp9Z-pDM0WV_r-L-tvsdPTLHaEIHm5DEyOgqNw9FtDkQVKdPN4MAsJ1c3wQXsodk0TN2hJdNatxIWbhWhBeZMhznBxP_uKWVIwumKsZDCWHgczjvO3rnMhL-1cJwczKG7l18x2SBUokRyOySU3je8JE-r1JtFYoKU2ruDM6wY-Ut9_hrxZ4tpzX4BEG0MFUHYK55W2geybY4jHl3HjpNPWmJEaFIp66ITLQVqubVEZcsQ1wz8lpr_USr5i4ViJffwUAIpXLhuD7v58W44AVA0ifKsUIcsKXPry4L7bN-Gf0iOi85dHUuJ-4ekRRTZRGrnHMnaGSi9ORowZEEpWuNh1wpaSAzDgPEeEqQyuwwzb66VWJ0HwLt6mrDIQxN4BcNccY0VwZpAG2P24tX-j_gXKO4lOUz_xGdAm-QdlI9OLTJQHdUaCwaqdtguPrENTQTLixDsU1U-imps7SrKxBm8gkhLdgFQ7JNxwzejxoejcqiBB2WERRSHQnk&refId=yGFNBlPxF21UuzeReqTmiQ%3D%3D&trackingId=b8uVvbcs1fgYW95uq6InSQ%3D%3D&trk=flagship3_job_collections_leaf_page</td><td>Software Engineer</td><td>Concentrix Catalyst</td><td>Bengaluru, Karnataka, India (On-site)</td><td>concentrix catalyst</td></tr><tr><td>https://www.linkedin.com/jobs/view/4279718145/?eBP=BUDGET_EXHAUSTED_JOB&refId=yGFNBlPxF21UuzeReqTmiQ%3D%3D&trackingId=ICwxkNOd8g8NFldyhMblSw%3D%3D&trk=flagship3_job_collections_leaf_page</td><td>Data Analyst</td><td>Circle K</td><td>Gurugram, Haryana, India</td><td>circle k</td></tr><tr><td>https://www.linkedin.com/jobs/view/4273852689/?eBP=CwEAAAGYgRRFuWTQZmkwvjo62kbbCEiUr9rixhYBvlaoReGdc-Rt6Z2-n7uVDYzKhJsS5t6GTc2pnQckn769pxqp5j2a7IsFe4IIq-5_li4d27u68EOQssdjB-Ou5nZCRgoLrbP02FeUB7c0aA1ioH0ZMEqzWvobh_MWXQwZbxCzq40EtHya9vNvfdYdMxTquq5pC-xDOzn0T3Pa5iBCrlu1H3vjdJyhrx_0fzNMArsS2Pq3dwcerK43BLTBIS4MMEMqlPowVt-k4IG9-6KBp0YQr9Q-S_hzznEE-bzYHMqRyzJpuXf2GQmDchh9oIIDKcq77Udiek5iOHVEwhuBxAPm0j-994yk3YA86z9-z2i9UN2sqhShVZGAAUC8fNJBsrDJRTP5IcTEDTYCEdc0HdrL9NUMaZMBi29RTzOSzk-ovxHcdgVOu-T-gbtKZPMT9OgYJFHCr9Lsw3-L6_Cu3dVRWbn_YIsBLcbHCGT1F3SHfS3wb0c&refId=yGFNBlPxF21UuzeReqTmiQ%3D%3D&trackingId=rt2CSAjWggnS1ywmwW2JVg%3D%3D&trk=flagship3_job_collections_leaf_page</td><td>Python Data Engineer</td><td>Bajaj Technology Services</td><td>Bengaluru, Karnataka, India (On-site)</td><td>bajaj technology services</td></tr><tr><td>https://www.linkedin.com/jobs/view/4273785117/?eBP=CwEAAAGYgRRFudPLdlTej0qcCkcFCeWvR5At16WsTM0ukRyWa_6VK2icxgPY-jX4dt-OBriODZj3yT3A14g6DTJ6wUQzr3quabvzqfqJmaAxg7bs7CwYoFaAfmK2F9rxbIj9YgbpPhDYXHBfRMYMCoXuLQxT7ONvr1uWs6iHYlETCISc3Uo8tOiOs7cDJD64_NQrrIwuS-nkTlWK9FhvhVCs4rFSD15xhBn7zTS2NWLQJt5zN2Imi2Hthrv0K9Y6NnO8ECKoEGi9Vww2mvmG-zeFq6-gM_denR8yJA5jhGs-YRpei_uhWjjfkHXRRXa7QICsOLpNHK1BXa8ZHY_OSzRwngkww4F7Eln08hJxvAXvv-V2rJOIUQxbJ9rKj6_fwndvfclt7b-499v2MyBpT3wK5aay4kUb0syjwiJWejESI9NF64ADyj9XJwWPZsG1tMxz4ujepaHF_hdf5uA9wZEPamKaYHVYR-9uKMkGxlc0I84TLpfcNJNXHQJBr0HTB0LTSqjluLhzeYbmioBNelIP-TG9Bg&refId=yGFNBlPxF21UuzeReqTmiQ%3D%3D&trackingId=GfETrAnq742RlYp486M3WA%3D%3D&trk=flagship3_job_collections_leaf_page</td><td>Computer Vision Engineer</td><td>Droisys</td><td>Noida, Uttar Pradesh, India (On-site)</td><td>droisys</td></tr><tr><td>https://www.linkedin.com/jobs/view/4280324360/?eBP=NOT_ELIGIBLE_FOR_CHARGING&refId=yGFNBlPxF21UuzeReqTmiQ%3D%3D&trackingId=zzQiWE5hpNsuQgYl%2FlM0bQ%3D%3D&trk=flagship3_job_collections_leaf_page</td><td>Machine Learning & NLP Engineer</td><td>NSKH Tech</td><td>India (Remote)</td><td>nskh tech</td></tr><tr><td>https://www.linkedin.com/jobs/view/4275090921/?eBP=CwEAAAGYgRRFuSWl2n8vdOJ0Eeg-08DmlDN00Zq16HZnfs61Q494tHxpxWncjorXi-5hY1zGuRi2xshDT5WgvXNuDkI-bLavvpTZ90I39MQBfFS0edo3hVbamubNJjqXUHmtvCGqgaBtaNMVeGEwjw6vrI8vKca3MyQEx4O1Q0RJuKfHsFlA837o3dmwRGIs1cbjYgPWFU9ZcTGgUYnDUZ0mGeUmjbPneI7aapiEwF6mJNZ4r5ERgIPRmmIDUnR-1XvgSK8JiRlePRXlEcsXSg37RUR0QKSUNYdv6EC0BrFr140CXM3yX6z3nRZ7WcoBrG4rjjdYZDa0X1TPONJ2YGp7kLbvKLJ0L7uWgiJ1mv1UlHFiu9hWasSnQGOG5V-5TlQG-G6HNaXtwij2xPR8ix3X8zKTEItQTxHXDOdho_BSHfq1eN3s7lVGIYwA9Nis0rXOdpjfJKd2rT-6OwGz0L2Ip2AS2U4QV7bIsi8WysPdfp8Umsd9lOH5u4na2a8KnwDFxLAqZpMPpp7xYYpaZYPnLsy0geCa&refId=yGFNBlPxF21UuzeReqTmiQ%3D%3D&trackingId=Br%2FZKCI8YT02vm%2FjkAj4kg%3D%3D&trk=flagship3_job_collections_leaf_page</td><td>Back End Developer</td><td>L&T Technology Services</td><td>Bengaluru, Karnataka, India (On-site)</td><td>l&t technology services</td></tr><tr><td>https://www.linkedin.com/jobs/view/4226062221/?eBP=BUDGET_EXHAUSTED_JOB&refId=yGFNBlPxF21UuzeReqTmiQ%3D%3D&trackingId=ojyLpXCsM0k79YRIdDbTlg%3D%3D&trk=flagship3_job_collections_leaf_page</td><td>Software development Engineer - Backend</td><td>Pocket FM</td><td>Bangalore Urban, Karnataka, India (Hybrid)</td><td>pocket fm</td></tr><tr><td>https://www.linkedin.com/jobs/view/4280333628/?eBP=CwEAAAGYgRRFuo5lXXBHtCItiM_aHbc9JjQrLfK0r3RTSkcB3duh9POyN-Glumh_YDcIdICGpYnfwk4q-yfrTY6N0JffiGi7ek-smGvqfcdTE3QDDQMK7ks0WrPM98N6BQtkdomlvhA8dHVS1Fk2s8XImC-EC8CEz6lRSIhowiEAc1XQJew7dF1qiru-8QvrQP5NLgGHPSmoZwN0dYyCS-MYsR_3BthTZygFVPFjcf-fnTUI6FS7Uxef5G9MTRgrrHjm8zPInZMwfGJnwDRUlbn0lh7SCC0MjEWjgArHcvywXcSuTyYFRnQ_Xu_IrHQsmEayKnUDChclNdwsubXloIN-xpmbpJdPeAjUuEeAKdMKFSff6Wdsng1iqNezqkcwGvr90uCVumCm2q6dwVuvUtINgmdu8hlWUqiXo2kH9t54dHCTj8h5avkHkL3Bqphlm5AARh8dwL90UOYphpZk2eIo5wu2yT8a58aY2TSApJ0-GpBQW-_QrQ&refId=yGFNBlPxF21UuzeReqTmiQ%3D%3D&trackingId=ctnILpLXFm8h%2FfZLkoiljw%3D%3D&trk=flagship3_job_collections_leaf_page</td><td>Data Scientist</td><td>RevX</td><td>India (Remote)</td><td>revx</td></tr><tr><td>https://www.linkedin.com/jobs/view/4272010373/?eBP=BUDGET_EXHAUSTED_JOB&refId=gEkwBXWXNmtlPZoL5RoWWg%3D%3D&trackingId=uIztw1HcXagiVne2q6jWTA%3D%3D&trk=flagship3_job_collections_leaf_page</td><td>Data Scientist</td><td>Solytics Partners</td><td>Pune, Maharashtra, India (Hybrid)</td><td>solytics partners</td></tr><tr><td>https://www.linkedin.com/jobs/view/4272059799/?eBP=CwEAAAGYgRRfgiSo9pqN1be7N19pFrJSBz1TxVTDl_pu_r-lZP9QNVxxM09x4N9FncAydw4Py2IKKrxVOc5hfTlf6Um6sF7SGLAUedlj5gJTOisFu2BtTyjLY7EhXtK60rElKj0esy_4x7oxwWiOePcVj0wzFvkO3yDXRYr2PHINdwG36CMK6kK8hJAzBd4_7Pu0wI3lOJF-eUC04-rUpgka1_6hX1csODlhWNXqSe65-xH0UDg7FZSB2iWe911or7RcrO2A2mcaI51tH0NTppRZbXErr0_54dDhAjT9NTN6MEvtzw4UeOf_meErH7DBm0j9Ue-yHguGxMyp8C4plbtQb9QwteqwF2DIqs3DzBNi71Vv_WjF8pl2bDLdJFHmdYHObKiBkeupsYS25EDeKQs6If_UUA1DpYj2b8bYcWBKwdN18LFg849TENpuOYUtS22fBhsaQZU22pj1duNAYpE_ez7I6FU2qJzSFU1dUg0uBrowcM4esck2E7EZ2RUbPClz_i581ULFNdRRcCw_4FL-EaSGpH9X&refId=gEkwBXWXNmtlPZoL5RoWWg%3D%3D&trackingId=WcJQRZsZia7V4bNzLlZFEQ%3D%3D&trk=flagship3_job_collections_leaf_page</td><td>Data Scientist</td><td>Zensar Technologies</td><td>Delhi, India (Hybrid)</td><td>zensar technologies</td></tr><tr><td>https://www.linkedin.com/jobs/view/4277149208/?eBP=BUDGET_EXHAUSTED_JOB&refId=gEkwBXWXNmtlPZoL5RoWWg%3D%3D&trackingId=6%2Ff2L7e0eCC3%2FOG3rhtXDw%3D%3D&trk=flagship3_job_collections_leaf_page</td><td>Gen AI Engineer</td><td>immerso.ai</td><td>Chennai, Tamil Nadu, India (On-site)</td><td>immerso.ai</td></tr><tr><td>https://www.linkedin.com/jobs/view/4278537311/?eBP=CwEAAAGYgRRfgzqSmu8dp-VcYbCZpHBctSq-tlkX-MkIhH-ptKUeNbbt6Dctp-NtM_cQgZAc0SpauXuFNvmq4mawa1qVD2tkkEthMsELuzmOemnoM7XpeXfBS9zI5X3jk3v_h85qKPpCc7W3mn-l5ecJLNQ2gzDO2LoKZzOsXee9Q1w0no1Qd7DMAfMfdfzKlnjWvSM0cN9SKoK4CnnTm2ZFDPEQoc50dQMkruqQq4vGVy8IJVGYwf4jCK1e5vdhfQC2zNSCNkjEPbJfxaHZjR7P7JyExHQyiydSvg-GUFyyRwfhn1_-ySL1fi7PFEqUEkqHSufcCDIyPhxhMCKHVEzGlmvZubw3w4lJBGRNOKw9TT8B8rRNQG5KB8tWH2L6YGPsiSgG6Gxh-wRzeI2pzx9CC1t6Iai9esOZhgVrlKWp52rTCb8kqMEdVUvpMoWnZ38hqRzSY5jnPbwqecHUstogQosWOPVwrFWxdU1k-ji6RVadz9VQ3u1D0gZREio22q8_avzU44AKH6JAlzLQOGIjLDFMxw&refId=gEkwBXWXNmtlPZoL5RoWWg%3D%3D&trackingId=0x%2BM5XShNriPQHa2HdajqQ%3D%3D&trk=flagship3_job_collections_leaf_page</td><td>Frontend Developer</td><td>DotPe</td><td>Gurugram, Haryana, India (On-site)</td><td>dotpe</td></tr><tr><td>https://www.linkedin.com/jobs/view/4278908810/?eBP=BUDGET_EXHAUSTED_JOB&refId=gEkwBXWXNmtlPZoL5RoWWg%3D%3D&trackingId=jEEzy3XFUgZ0V%2FUtjZQViw%3D%3D&trk=flagship3_job_collections_leaf_page</td><td>Frontend Developer</td><td>Vettam AI</td><td>India (Remote)</td><td>vettam ai</td></tr><tr><td>https://www.linkedin.com/jobs/view/4277708203/?eBP=CwEAAAGYgRRfgwq-e5X5f69ME0XUyAsgBAscG4-U8w4jeslv5nmB9MnxCNWMJnBOg7KB1TcgsZp6bTvsakn5p_UsDlcqZKgL3NeHQ0qYlNHgToomkhibOZM3d48473Qoy-wkFSy9ISrbINAIv3eX2p0D9gT4MlMxGnlnMzIaYE7P1977phxVZLo_yHyweH9rJqyhPFAvrpYxX16-3P3SqaqzK7tfu-i0ojRl9AGdBxrqxpypAis4uqW_OqAUQfLbo66x7GpsdzMtDK0s5OLqY4I_CoQMuzEhoXajbzlR5sNh_VRYBZnI9tHvRbtpFBFHgJWdZBpOqoyvqfp2U4QBoo3XlhqxxdckZFBlzp3EdmbbNYH2hQTYU-Ouz_csxpzO9KhDk4_7QjdrtL_MWvGqfYLj0QMr8KN7-yFbE2N2gQg5K2UtDWP7T40wArf45aoOxwHS0lMAvA-aX2PhnMd5P11fWg3H5_C8Q_Hxa3gH445lIBIn8oEc2c-K7kB3EgfvOXPC5cC1KVjMYkep5oTs-HjYKF42dPGC&refId=gEkwBXWXNmtlPZoL5RoWWg%3D%3D&trackingId=3lDIP8vme%2FBzdPkSZwZ9tA%3D%3D&trk=flagship3_job_collections_leaf_page</td><td>Python Developer</td><td>Tech Mahindra</td><td>Bengaluru, Karnataka, India (On-site)</td><td>tech mahindra</td></tr><tr><td>https://www.linkedin.com/jobs/view/4277704619/?eBP=BUDGET_EXHAUSTED_JOB&refId=gEkwBXWXNmtlPZoL5RoWWg%3D%3D&trackingId=sfPD7JoJZaYvfeYoBH%2F4qQ%3D%3D&trk=flagship3_job_collections_leaf_page</td><td>Data Engineer</td><td>Randstad Enterprise</td><td>India (Remote)</td><td>randstad enterprise</td></tr><tr><td>https://www.linkedin.com/jobs/view/4280807474/?eBP=BUDGET_EXHAUSTED_JOB&refId=gEkwBXWXNmtlPZoL5RoWWg%3D%3D&trackingId=lb43av5HXqIJQI4QSjPnLQ%3D%3D&trk=flagship3_job_collections_leaf_page</td><td>Python Developer</td><td>SmartQ</td><td>Bengaluru, Karnataka, India (On-site)</td><td>smartq</td></tr><tr><td>https://www.linkedin.com/jobs/view/4254722984/?eBP=BUDGET_EXHAUSTED_JOB&refId=gEkwBXWXNmtlPZoL5RoWWg%3D%3D&trackingId=LDn%2BQm2hD5Uph8UR7iT0Ww%3D%3D&trk=flagship3_job_collections_leaf_page</td><td>Python Developer</td><td>Accolite</td><td>Mumbai Metropolitan Region (Hybrid)</td><td>accolite</td></tr><tr><td>https://www.linkedin.com/jobs/view/4246225855/?eBP=BUDGET_EXHAUSTED_JOB&refId=gEkwBXWXNmtlPZoL5RoWWg%3D%3D&trackingId=iu6BqIJZZdYzLneoj69J1g%3D%3D&trk=flagship3_job_collections_leaf_page</td><td>Python Developer</td><td>mthree</td><td>Mumbai, Maharashtra, India (Hybrid)</td><td>mthree</td></tr><tr><td>https://www.linkedin.com/jobs/view/4280800105/?eBP=CwEAAAGYgRRfg4EHQxXCKi9Od5r1oJUEiCPLSTvAar3zedoecmPUQmSmGU5JkEEDlavPVFIplAV0Go_NBpRJqxv0d_LBDu3nOrn8qcKzLaa_5C97iKlJzJ58EHIQeiVZbxmnN1tumBdwgXd9BnqYQz5EpwvXpc2WwrJQpxYX0n4RYk9-6EHydatalAms3HeFt4mumNNnBzsCyIWD8GtEwJFNFNbaUYTWy2waMAF7ppT5ChKmjFJMwE34Q45fSnZFK1LcGSqFrAxsKsXpQPPgTJyf3LEqI1wHVDlRPT5JUjBMdBjEW0WM5Vs8H_GYxn6ikHJz5ORcKi3Pu4V7GOhgLX43t0ND5np6KfQHWKfhozVHoQL_R1PhXFyXX_2_sJQUkvxNKu-gj7A4J6zx1osqYVyC-VM2dRS78ewhninZe3qsuLG3K5VDiiDCwkcrmAerncEkAHpOjcWu-AbScGkYwQPVIoElWS4a6MI3-mEd4dCGPsYqS0TWYA&refId=gEkwBXWXNmtlPZoL5RoWWg%3D%3D&trackingId=QJj7P%2B1mrEjhJriVkhTcqA%3D%3D&trk=flagship3_job_collections_leaf_page</td><td>Data Engineer</td><td>PwC Acceleration Centers</td><td>Bengaluru, Karnataka, India (Hybrid)</td><td>pwc acceleration centers</td></tr><tr><td>https://www.linkedin.com/jobs/view/4277691099/?eBP=CwEAAAGYgRRs1XFqVl8gKzF_KV_gzTD_jQ2gQdKXwY_x-FFTnLWm58F13ECe9-1WKQYhyhHzuo53AxL3hzabdAmnIbxy7qsGj-YLi69K6umAqnSzOoN-Vp8IakCVwfrHYI1_dU-ykFppjwhdA4geRJXuO0zs5EXrLwIuemNHvXNqwrwbLtj3-rWX7_kCSY6s_XmvCulphH9WhHN__9jbC6Lrv4gt7qIf1eAaFbWl2UPXWzwGTTvB7dH_KDPuPtRBbaGOamL-ASnGUUOYPHPM15d6fgrGOC3YdrEHPIx9t1iDMEGHnttlel7uU2VPj8mO59Z9_4t2FkGj29yv1JAb69-qFRcJX1CQXrnpEODRWGCH7ep7hI03zBJItMMu_9ujmxjzolkoYODxy5tSkjuPadmdAuuYvI03vVDRiSfaMJY0gLGyPrGSOS9xv_aMiFxSs3a4QlQQYJ87w8YgTFcOE6L6a9EXD30XeDLo9BxOC_24KiW4lCmh7WipupGANFXIrMOxHw7tqnWJ7PsDafv4BSl9K5xRnCiC&refId=C1m6O88SDPW5eGDelaudEg%3D%3D&trackingId=4C4umh3tXmrO3ES5CGvXSg%3D%3D&trk=flagship3_job_collections_leaf_page</td><td>Machine Learning Engineer</td><td>Bounteous</td><td>Gurugram, Haryana, India (Hybrid)</td><td>bounteous</td></tr><tr><td>https://www.linkedin.com/jobs/view/4273549803/?eBP=BUDGET_EXHAUSTED_JOB&refId=C1m6O88SDPW5eGDelaudEg%3D%3D&trackingId=GafBCcTcYaFonTnObRdByg%3D%3D&trk=flagship3_job_collections_leaf_page</td><td>URGENT Hiring: Python Developer (LLM)</td><td>AquSag Technologies</td><td>India (Remote)</td><td>aqusag technologies</td></tr><tr><td>https://www.linkedin.com/jobs/view/4268794618/?eBP=CwEAAAGYgRRs1iQKPF0wuM_RALmLun6TeaRpKxhzSjtUGHB_8u-X1riECl5Zt9CibTxScBCl5i9jYJtAzHhxHj2P6xmPW287itDrL5TowVTBVVY-HiUQ1Ig32Q8lu3vg7TjSX0teyR-F_DjsG8eYPXxUoq3ODHtCoTA94BR89Csm_-sfp8A0JnyUFuyc0-XUq1yZeEAitD-JnfL1F9YOiPp3EFtQWIKb2dS4MDD5jG8MOdzt1kI97apCK8gT3FFuM5QNdst8Gud1dy4jnXc17peT0oShgvQXObPL_oqdRE0SfWYzAR8geZUthsRA4X1QO4COzSmwPHQsNsGZlzdGrNcasNjkEAxBNrqQxeS2dl7M4tLJv0MhyvqaUsgj0wEQt02r3vMTD3H2Mn6ZHx8o9NT3XuGjbeTEoT50OiKsF8uN-h4NKB1WOpTXrTWJKAcjioOQfHm90qyOmPZC2D_iopAdE9zjmT5dn-KPrjLggNAr7F91d8XM_6cKAVTf8fY-pWWytf874HFyyVIE1hHXEmrj&refId=C1m6O88SDPW5eGDelaudEg%3D%3D&trackingId=iDuYn4jbqzmNGEX0wMvJBg%3D%3D&trk=flagship3_job_collections_leaf_page</td><td>Machine Learning Engineer</td><td>Prudent Technologies and Consulting, Inc.</td><td>Hyderabad, Telangana, India (On-site)</td><td>prudent technologies and consulting, inc.</td></tr><tr><td>https://www.linkedin.com/jobs/view/4272058375/?eBP=CwEAAAGYgRRs1kmwP4FQawpKF8ZVBPBqGPnOvHsUaGtugj8Mju9ElH3hhotzKcCIRKURnosus1zqCejany4wqt8v1bbKVpbwRsDJG7Boe5kgV2k5Je9aT6qxXDzK1zN0CnszVMJPGdG0BEntQ3MZXBi7y9FSOh7BZUI_VijYp3t7Fu4cHcScVDBi8L9J-onuR8WfHlFuNtMNaWsNbZw_6hi9Vw1DwGF0rsfIUMsyjyFllStTJ5sST5ZjwKcPUlndIBX-RE6FVigexDWxrUvYreJWqiIFeo9Ho9iXl4KosQiXppdoTeVP3sLwM0QMhdEvJDUa-MQ94Gz4ibH6OOISs6UIza_zInITEcEyGwSqpoUD4zN8T_Rsr3_i4Md5HUhfMFQYgJ-0B0_zq7ekinZMB0UESNgGqRwSSpYmqFQ4FKzB-F5u06dHdelRWR8C7OxzYD7Q-aI-uIT3u-rRHr79K_QUX2kGmTzoMHEKszOAJxSjT82gyTs&refId=C1m6O88SDPW5eGDelaudEg%3D%3D&trackingId=5BkqcA1paT4QHC7FjQ32BA%3D%3D&trk=flagship3_job_collections_leaf_page</td><td>Machine Learning Engineer</td><td>Dentsu Global Services</td><td>Bengaluru, Karnataka, India (Hybrid)</td><td>dentsu global services</td></tr><tr><td>https://www.linkedin.com/jobs/view/4278908252/?eBP=CwEAAAGYgRRs1siMaBMJKnH_jpL9yNDwRWEA3Lq93muUB6UXwexKPNCI6kjP6bzPTRPXdQsNyjArpZpAe8dJLNpNP6JUO4V5y28xmUjcg2xD3_zYpYzZ09JmUxFdoJHqSsPgD8iRAtSKyDW-NqggAe3Q4SCeqtyM6GsSmiuqxn2jnQxnRn3fuqWQrWxswonZIalA0MB5LcblUt2Khu7oP04CGssI7ZZjD0rcK1pHHvHjThCYXpDZdfj5DusYXSJubrGKFsOFduf0CQRkBVQsltKIe91gpLYmxr9c6x-2zTRA9zlwJ2W25PjjsHOovEm6cqIHOdEHreBU1ZjfKos-FaYZUZDc4X-5rBLJCs0kQPVIJMVU1enVpn9hFmCKMHKySQcBXZgN6W_PGXxEsZjS43Gxqp7EPQYqBIU9CDNXPKO9vPMZklRCJqfMdx9OuVUGatfai3lmsFW5gTbQFIw7YI09UbTOVwgQPEUdWujrK0urBQHL6YzGkm6n02gbh6lLDdww5M6ymlDKZKYtuMpxle2HxvTSKx5y&refId=C1m6O88SDPW5eGDelaudEg%3D%3D&trackingId=MjqSX2Vx5IBnvUXw56LEKQ%3D%3D&trk=flagship3_job_collections_leaf_page</td><td>Staff Engineer, Frontend React</td><td>Nagarro</td><td>Gurugram, Haryana, India (On-site)</td><td>nagarro</td></tr><tr><td>https://www.linkedin.com/jobs/view/4279379953/?eBP=CwEAAAGYgRRs1ib1k9589ENGdSHnT_0C0JO7oEaTz2WRGOkqA1KJRpEkZ4FBih8Ezag-LC3n6tFdGpO9yQxf1wwcTLdjIT9h08I9B28yR9y4pf3HXkWxwn33lI8Mj866FLc66c6Es4UEJ3EnTFbAbYT9XZCp9UL4nWDyUPmdUTVkKieGIFJ39pZYvl-a7VW_5wxysUQ0brs7CfhcX9ZwUIfpKiB8iN-aUSPbMpzuVgjrpzCTxviqgyWlJVL0I_NRN0Ro0rGmgNIBPXQ1-dyJTtC37WdfcRUFGcRR3B6LDqVrzrQUMke7Ncs47SmqP0dIyZXy9Xk2WPU0ElWBvzBE9QtZOumWt4KyINpAbGro-6XZkTKDClV-kj1C4aATFu4720r-AykXdBCurQH2BCxoLs3yr-IZr4lSOxfgdrXUtlhxYMAdwvthSi9EfLB8ttaqPYCHqFxBhMCOJhb0mjj9FVFjOSDDybPI-9HY3ncY6pQzeondz_j2-jteEKoj8UP2vsRPrBBjLUOsNbKVVsDUiMHxIJVwdCHQjKg&refId=C1m6O88SDPW5eGDelaudEg%3D%3D&trackingId=saIeFq0%2BL%2B3qAgBWcsM7Zg%3D%3D&trk=flagship3_job_collections_leaf_page</td><td>Python Developer</td><td>Ascendion</td><td>Gurugram, Haryana, India (Hybrid)</td><td>ascendion</td></tr><tr><td>https://www.linkedin.com/jobs/view/4277564515/?eBP=CwEAAAGYgRRs1mwdzZY8KoHOJCpQPbUKGF8OBAjaCW1__-vPcjrK5VdPK6l-89wfBiYkJ79GW3jK23Ao4H_ooHGn9FwSt8K9nZZcwXmotFfTkdUK9o3q69qVhIssGi05_VVz04GNbETJysqTmlQitwz7on-dDzOkV_DGDQFgfNDA_Q_d4vXkAOATNwSd1iibuWSpBi3fk1VPlqL8On0eM4-NRgSLrGeyH6ofFryA8KanVV0ZmFiBPebsyc-KXmhUfsuiYy6vudW4tdVM2CUp9ba3GMn8kp1bbb27MGfEi7uYnBAulk7RF7GXHk2ncTUkggxrhWo1bFR6o4w1C2dDElJW-lbEO4bcq_J3huq0Bm-YqJ9e0bqQ5FS38hXiicl-IF0jLUvMI3k3L3qQRDOp8kD-KacNt1MB77qSp_W-kZthhO1IIwSZvgN8YFkwsOs9DHrHzSb1onEedSVOURdzLeJLz-pdpEpFav5cY9FsH1Qj99Xw1BKNdMQGRpV7Rh8cNrHV6YUEgUObEokfTvI5b8_yyOmLdgXP&refId=C1m6O88SDPW5eGDelaudEg%3D%3D&trackingId=xMRf0QisgKsnOZQnoSf0KA%3D%3D&trk=flagship3_job_collections_leaf_page</td><td>Data Science - AI - Pharma</td><td>WNS</td><td>Gurgaon, Haryana, India (On-site)</td><td>wns</td></tr><tr><td>https://www.linkedin.com/jobs/view/4278020681/?eBP=BUDGET_EXHAUSTED_JOB&refId=C1m6O88SDPW5eGDelaudEg%3D%3D&trackingId=cxJnqwjCtpIwDuyEgK1ynQ%3D%3D&trk=flagship3_job_collections_leaf_page</td><td>Machine Learning Engineer</td><td>Rail Labs</td><td>Chennai, Tamil Nadu, India (On-site)</td><td>rail labs</td></tr><tr><td>https://www.linkedin.com/jobs/view/4277968906/?eBP=BUDGET_EXHAUSTED_JOB&refId=C1m6O88SDPW5eGDelaudEg%3D%3D&trackingId=WFGWAYyjJXVr1XuzL1Tifw%3D%3D&trk=flagship3_job_collections_leaf_page</td><td>Python Developer</td><td>Leeford Healthcare Limited</td><td>India (Remote)</td><td>leeford healthcare limited</td></tr><tr><td>https://www.linkedin.com/jobs/view/4277177006/?eBP=CwEAAAGYgRRs1sZFhiGPUmdQ1Xie9cOYSgoCWnCbMQNtnpFZLTCL4oEP50gdFWlStM1HUVNTgkiNtymragb11JOiyVbTaozG3vuX9ifTWtLGKMJDbINe5oCVKRtAKBWJpIoR0l_CWoxOUAMjB2kMpYMPar5GjFutQw4W5T1XOEbun1eoLD3MQcpxFnGMipg2P9ughLRwAsxhw_BvOCiGaZaRokH4SE1P8sFkyzO6Lx8DsH0zdB-5jxL5Xo4KnDTQMa_Xl2fvOelyj5HCw_6yCaLs-iyfJ85mzpAL9Uch-QrZd-Nvd544UCx4zc7kncOP3Z2wTr4DxpzrapMIo0HfVVGzny0fc-JHVfYLfx9rwyhZurcBzwvkGbn0prnsQmAZsR8NSRbM-6Vm9C31CIrZBWsv2pVX-cLIHlXaQ380tKw2N-sPWxBXoqiY4xx8RpaUtNOrZtI_6vv724IEIQL2nPofCT8GoP78LHpzGs6gyPnB1x5nfPuECSl4YevBMSSaEr8T7zlnwrmLrCb5Pctuc7yMeE71gA&refId=C1m6O88SDPW5eGDelaudEg%3D%3D&trackingId=U05hy5i6WL8KY5bLYqqYBA%3D%3D&trk=flagship3_job_collections_leaf_page</td><td>Python Developer</td><td>Saisystems Technology</td><td>India (Remote)</td><td>saisystems technology</td></tr><tr><td>https://www.linkedin.com/jobs/view/4278114996/?eBP=CwEAAAGYgRRs1nkZlOslwntcuWsPFyV1pGEcInX3CPVIV2q65uRJzQQ5H9SkK_StEiKWzyFGD7HeeAS3sHLR-4NFGNYGyXTAz5nEaUAMMep9iiAn6bUbmuXogBwTACFM0qF_KEP05i0V-W2oCwF9PrdG718sV86xzJkHHxkseHXsYXSuGQn2_xtcGy6qeICpfZ8tY9kqUYWIdEXQ_qIwfpaLs_qR4Rxr_v4TVDUkKnR6Y4dBEBE2jm3XQMsQUMtbQWNncOBoat9PNnIjSwh1SP3kX0FYl85o-E0j1P41XM64eiJJ6t08v2fCZ54AXzX2QMz8Q0zzOzt-8aPNUc5Vyt4QIlGdKL1FUUa1Om3GzYYn0btpZzm8gNlOOuY0IiGojje3CC7YTnOAuxl_KM7pQR360iF5OOorjUwM86RvAb0-SXRKqCEhEecoRJNG2I7HooN58-32wkYmOIZiM4qNiUrlYstffTnkp1pwlB_reZxdqis9GkqEL9REko00WL1GkdFmtVgsgTi428vP_mNAEqjcEEfDdp2q&refId=C1m6O88SDPW5eGDelaudEg%3D%3D&trackingId=5ng2lHPScXAjNKBRiQSI6A%3D%3D&trk=flagship3_job_collections_leaf_page</td><td>Associate Data Scientist</td><td>Circle K</td><td>Gurugram, Haryana, India</td><td>circle k</td></tr><tr><td>https://www.linkedin.com/jobs/view/4265420956/?eBP=BUDGET_EXHAUSTED_JOB&refId=C1m6O88SDPW5eGDelaudEg%3D%3D&trackingId=DFJ26591hdjGjrMtvLSYiw%3D%3D&trk=flagship3_job_collections_leaf_page</td><td>Machine Learning Specialist</td><td>HCLTech</td><td>Chennai, Tamil Nadu, India (Hybrid)</td><td>hcltech</td></tr><tr><td>https://www.linkedin.com/jobs/view/4280023118/?eBP=CwEAAAGYgRRs1zpWZeynbWzwy0adFww1HlAyAqsypRccBBazJGqCKMIZLYve1_MD9IXXpUVsl50jGHXQ_UwS77GeEn52nK06drWvb1qo_J4eG4-hbo64X55mfHaY8_tT3yE95S8tGoILghFtGMD173nL7PS4bfK8PcgI2l_HcZfGhfUGdAlvljiPWMrC3qI-jjd0btBqGDuX6rDL0wSWuIx20xXTOabLOBE_g3IwyS_FU5nCNDsGfR7CXlEoIfqEtmuKUAFLXKuONKGOw77yB5zjizgmwTI9ff2KEbfO3SzeVDW1BWPPDbFWqydDJh01vUfTnesZ9TBcK0XNyRbwHgj04MSbuj4D8bq2v0ZekKU6TtAhu-xgP0ZtQ5oWHlmkII8hqHYI7MT8oZbF0tCN7jtq4NA5lvAzP7Q9mc2Zes5DUujukxZ6CZKGSl-e5NppTa-DaWmSoDQwnOBlpbdxtUpEDek5tUct2ls8ALP3rj5wianzdse2qAf-JzZ8-FQ-hLry0VuGeslECx2ySDSplKoLoS0&refId=C1m6O88SDPW5eGDelaudEg%3D%3D&trackingId=uE1IRh6xZCUR1ruJ9tuFfw%3D%3D&trk=flagship3_job_collections_leaf_page</td><td>Python Developer</td><td>Talentgigs</td><td>Hyderabad, Telangana, India (On-site)</td><td>talentgigs</td></tr><tr><td>https://www.linkedin.com/jobs/view/4280166426/?eBP=BUDGET_EXHAUSTED_JOB&refId=HU7tKKPRmoYAbhpOIfM9nw%3D%3D&trackingId=UphimbfPWaUnNdgaqHZz4w%3D%3D&trk=flagship3_job_collections_leaf_page</td><td>Software Engineer</td><td>Experian</td><td>Hyderabad, Telangana, India (On-site)</td><td>experian</td></tr><tr><td>https://www.linkedin.com/jobs/view/4262351983/?eBP=CwEAAAGYgRR6NKQe5qBXWQTiRtSRAHNQFSTEqs120-f4ef2Q2QES8zDs6xDHSD0KYT4s4qEnbIRXEhKeW7Xoz7qufbguP1KuUyOFunYcKBYUZvq07IaN2nRkybvfbSL_xGb69bAWh_5oWYbdx2BBsIXXNH1JxGCpBFj82pVTJJOaWI7CMs_pjmgihX16sKY9lnyKToqIbuiY_Eu8ncekaRwe5wx54zgTXkbcatPXV5x192cP7iISDK1-UIhoAn_BW5nzLIlBuxEnAn_0smILf0FBd8Zy_EmP1JaX97T7KBYdA31AzZO1qJJHO82U2GZF7nGjWL5fPLn241y_PX-BlQ_z6N7r2rV0uzpthKP_8uk_V1tjsf7pKyVPIkJoMXj64uJnYXLrl-x5_cJ1PBx-WSDip8gDUq1nL7JEYoVYyadDe6ndDLkd8d3_7cdUz-ZkibzrgKI3GO5Kp3VFD1C_WgnsL86PDQoZ2Zfo3O8wGhNO85LALXnSW3NecZi2VLGj0R5izsSH-j2w5X5keo4-FzAn7Za4wQ&refId=HU7tKKPRmoYAbhpOIfM9nw%3D%3D&trackingId=fsGoKTsNIqzKbPx2xnB3WQ%3D%3D&trk=flagship3_job_collections_leaf_page</td><td>Senior Software Engineer</td><td>LinkedIn</td><td>Bengaluru, Karnataka, India (Hybrid)</td><td>linkedin</td></tr><tr><td>https://www.linkedin.com/jobs/view/4280506608/?eBP=CwEAAAGYgRR6NA2r9le3XUjXz7X7V6n0o6xybexEahjhI_9_tuRvjFkkUMIkcQ0KBYj2Xu5A2uMhTnhtANGYPy4wZa5_GtoD4ARxEKdVjTU-sckYPxnHgeikfe2GWfcZ_pfWsxd6YOCH_iUoxlrzpvtdfIxTEehwtodeayMDJ7_8saDPPDpxE8hveaAGLKzvtzYkTterR65fU90cVuBcMG3g9zVNK0KDvnIrZVeb0LN7U3h9j-Ux4CJWkLR5xqBvi9_N4xbSGHI--uHve7ic_c43dO-XDXwOZ5ObaDxxGGkRnOdZ0I4NfIIvZvBy_7Jir5ftrESCxIyY1O4ROTqrOWlljylQJFmtnNKkZfBAyGFW69WG5_1JpnR8ybVKQ8T-vsSJ6_z6ciGw4XfMt8q_chyragMUp84ANlkw0UFAIxImVc76s8MO7_2MwKFJnsvUszmxZ1rbRfNDYz2FZzguU9tqLumF4CZUYWE0YeKZ3lZdcr1LHrgSInD1hU9SbWAG1OaB1rT1IsWUoXTYtBk339ys09f7OsWcnBpu6Nvz726HZfi-x_zPV7bREKdkwXiSJIg&refId=HU7tKKPRmoYAbhpOIfM9nw%3D%3D&trackingId=Rqkmx7bWRxaZfbJlkVx0Zg%3D%3D&trk=flagship3_job_collections_leaf_page</td><td>Frontend Engineer</td><td>PhnyX Lab</td><td>Bengaluru, Karnataka, India (Hybrid)</td><td>phnyx lab</td></tr><tr><td>https://www.linkedin.com/jobs/view/4278247578/?eBP=CwEAAAGYgRR6NDVlY1CSYgLTQ-LKG3slZo4n7nUvoYboawkPGpVD4XFCq0svTsM1FeDjXxQMib7dGAyyHd6E8xGYFmT01G8ifYukCagppVzOFSg5XaSnbnn3lok_3aKJMneUAiLZeiyW_Xj-KSKBM3Fz8ivVSZ48XAKLgaYnB00o2dK6Qrmj13o7mlYNO8W8HheXrnpDwc-Of2xuqSRkSQszrWoa_HNAadb2WCg8zThiilJe22R2slL9iFOHPYQzwZTWXlro9FE94Ku3prIgHn8GC06kYnM134THt8qKybBezldBchpXcBAjI1BtYbdpWek1m4MaP4Os69QaqO-smEF2zNLdNW647cYDHXlokYGUaVbbw9Mr3Ddj2Mw1ASlFIoplvOLp4_6r6-glvL8LzfX9Xy5oJoq_5jZGnqk1Ykr0g5aFZzItbxtF_yHJMh7iqSB29rrbL9-pSscAcrPW55Z6XGGga2SjwaFw2wU5jIYeFOqgPHRJMD2zMuHU2-boPqJ5zMwjfsuBkB1tPAgdL3jtdHTXT7AIhjA&refId=HU7tKKPRmoYAbhpOIfM9nw%3D%3D&trackingId=v6Lv%2BshX7eQApyk%2FDL27Zw%3D%3D&trk=flagship3_job_collections_leaf_page</td><td>Data Analyst</td><td>CareerUS Solutions</td><td>India (Remote)</td><td>careerus solutions</td></tr><tr><td>https://www.linkedin.com/jobs/view/4273593598/?eBP=BUDGET_EXHAUSTED_JOB&refId=HU7tKKPRmoYAbhpOIfM9nw%3D%3D&trackingId=6sA%2BdRcQceHdBFuZTYLqbQ%3D%3D&trk=flagship3_job_collections_leaf_page</td><td>Python Developer</td><td>Datum Technologies Group</td><td>Bengaluru, Karnataka, India (Remote)</td><td>datum technologies group</td></tr><tr><td>https://www.linkedin.com/jobs/view/4280141875/?eBP=CwEAAAGYgRR6NCZwe42hSSirH9Sz0o8RusjJYqS6izkOomHgR9MdcjawOgZ54qM87PceWtAp7xAwPHRmjQaWKS-GRwwWDvSD4T5tzSbREZbrjKceNi_08a9L113D9ZYUJL8z9wJM-jxNEfwQ5Gy90coQxMlHA8knzdWPuKpsaZj7gjm9YNfH8yk-3hb0r-rOlRC4bllJeYLMjlU7NUfvzbD0McNRoGgsO3jXLuyJqK6fCDSZk8cYERe5iA-MKPpnqAQG46dpfO6Oq_Bretj1oC7gLjo7Zg8qr_xk4ErdC7C1eymHDZzL951UA_GBzLAI6WFE50Di7F6UyrHtM0u8M3wbxnkimRnIzkS9nsWQiOwW-ONbQPyjHfzmipS7vd8GPVRyt15-0NwhyFUmMo6_e4JS6FYfnTegyRM93C4rPm-CgTvhPW4T75F47lAeuouxHTUA3PbfSQ0U6pTw9-ijjyJuNHPBwXM0M4vguC_44aFBFoDx3ps7TkZ_CNQ2r7RneKUSpg-4oMTdf71qDvbX44b_cy5bQaxiPZA&refId=HU7tKKPRmoYAbhpOIfM9nw%3D%3D&trackingId=1rjv0tcAjR%2Bku%2BxR6Cu06Q%3D%3D&trk=flagship3_job_collections_leaf_page</td><td>Software Development Engineer Test</td><td>Airtel Payments Bank</td><td>Gurugram, Haryana, India (On-site)</td><td>airtel payments bank</td></tr><tr><td>https://www.linkedin.com/jobs/view/4278062997/?eBP=CwEAAAGYgRR6NPjsud-JCM6_LEfbEy-EdUEYodoclOVyau1y8YIyD79YGll_luXVKRAlE5GuX-df0a_9RjU2Lr6VaHNWh7mrhBzQ4PeK7gwvwpj1FMDeJNuMXTjZQPT6KS_jACBktSojJJMvLg08VXmkiogliJEkdeLxRLe4n-Lybg3urosHnBtWZMVA-9LPOUXqZpxAQ7AbIKmufDCLD3TiINiIZPYbew6NnFGkaUl8JaxHb0fuATaCYvTgg-NB5KK8RChGon7xKNk3a4QEAiLldQQ6PdTxbK3bj0yGpIiZY4dh2aPkpb85F3iYwRKt3-bIp2WuBOd0ODQE4TiEvFLcPsnIrbe-zT6Uy9w85slAcdWLTc_MfhzwY-DJKiqDqGpY7-_MZ1SJam1mouq7TkEYGdx991gKAT-e0ZV31-OWwg83vHm-pe6t5ZQsyllbZcLB5eB7bMRLuRluUfPjmvVvxtRwmNvIRMnQOY_0xZm7guZ7jW-SQHPE-NlVngAtRR7Iyxgh3C4LOpcjA0QslhUJmjRXRbEF&refId=HU7tKKPRmoYAbhpOIfM9nw%3D%3D&trackingId=FRZMpeEhbcfD4ZicDPDbRg%3D%3D&trk=flagship3_job_collections_leaf_page</td><td>Python Developer</td><td>Datastack Technologies</td><td>India (Remote)</td><td>datastack technologies</td></tr><tr><td>https://www.linkedin.com/jobs/view/4278814835/?eBP=CwEAAAGYgRR6NGefh3UFupIXXCqelAz44yWcMnEBVNCb8pCq72QdpZAGlMuO7mudjuSvQiwaJv-NXzntWsRemUACEXBzC0nXaVmo7T2N3BdN1RKpHgXFfOyvdmFkdbZzC6IPW2XYLNI_xdgFVe-b6bNo8DThNYMkntw7tDgFb41irVdPR_M0sjmVQHQ9GBCM7fDjUBSOXq9wIftEGjrpVBQZCH-rjrOjGU2mOOT_1Yloma-TMMJK_sA_KgXmwYuyxJwlataRpEmKiqcuuJ80T4zEldWrpq2Q__5fDEgMDbmcrbrt6DAC8xw6LOG_0PrerW6JT-x5jdG6QlU4dBfrgk3hCdu-BZSaUqmXwohvgM5qcdC6sVllnav_fWUoWH6Vt1qkujTosZPXR7pzNxsPFR3HqfK8TGcUHJFcpt7f0z8aKrkQkkZvySV0W8nzuq-mWjSOgOgfcx0-J2yqfvJWLskAajWTXx0SEEeZ5lIrehEbPD2awPhJ-8QIYUgPCbNe7fo7U7vvzFuGyMUUzwYm5_ApsDNS9xaxKJs&refId=HU7tKKPRmoYAbhpOIfM9nw%3D%3D&trackingId=C1Hou1knVMP8LLc21f9sIQ%3D%3D&trk=flagship3_job_collections_leaf_page</td><td>Python Developer</td><td>Wissen Infotech</td><td>Bangalore Urban, Karnataka, India (On-site)</td><td>wissen infotech</td></tr><tr><td>https://www.linkedin.com/jobs/view/4274205056/?eBP=CwEAAAGYgRR6NKiilphPR2gIm7WK5LppzWHZC2QQ8QULLHpHrvWEKGPFomAPpntaBx7z6D4riLXYcjffOnca6Jtw_S9pIPMSn7qgwqXh2zKhsaZYmvPdALSoYa93VO7KEpAqi-l39p4iio4Br4CPgIsH8l3KZQsDlIda4mtJTDPdcj6cbeAaDiQ0bgjkgGT8vnDELo4bTN8egb7dOuQvraymjPmy0L_fxblAfIsl89x62mkp2iu5Gbav-cuBdtUQEzU8mgF00L119U-annqtafgvKRgYIbsF2yDa8UaMelt39y-4RB8V_7xeiOf8XBENSKWkmORzLvIGc0i_EuYwWJ5xwy65Og3F-tp_4jJN9pGTOLeXKhiD7-C9S65FU4MiqW2QFgh2RJWKe1n7q_vtjLwwKJwUtQp7M3bB8YMQu7327_CwlpTtqNerkILIr18GPjY23W482tLV5NBmbJgj9lo9ZaNtcHYAUHgEJbpFUFD8lOZc1xPPQH1e55lM1NSfIGL6O69lEZx0e8ta&refId=HU7tKKPRmoYAbhpOIfM9nw%3D%3D&trackingId=um7qcUl4GJbXXYMfJf2TrA%3D%3D&trk=flagship3_job_collections_leaf_page</td><td>Software Engineering- Web</td><td>Carousell Group</td><td>Bengaluru, Karnataka, India (Remote)</td><td>carousell group</td></tr><tr><td>https://www.linkedin.com/jobs/view/4280800394/?eBP=BUDGET_EXHAUSTED_JOB&refId=HU7tKKPRmoYAbhpOIfM9nw%3D%3D&trackingId=4Pvz7lPHap%2BuvWNHLyUg4A%3D%3D&trk=flagship3_job_collections_leaf_page</td><td>GenAI Engineer</td><td>TO THE NEW</td><td>Noida, Uttar Pradesh, India (Hybrid)</td><td>to the new</td></tr><tr><td>https://www.linkedin.com/jobs/view/4245121446/?eBP=CwEAAAGYgRR6NQ4ZuPW5NoKadsFFZ-VYhS7yKaWQJ7svFhT78q9LhJ2pePvsG8mQUMm5IN4xrQHOtqxHooQCZx3oziZJ4-E4ZLne28DqWuohIHAai1Tf1ra51iZq76X6EMKAlVdDxsc-YnIHLn0SAPvKsgStvtrttjOAUy4QxDMuKJAQ8k6wHsMSVYgf2VR4CCB4HMirLlDv_GCjMJK8_kETemf7_j6bqYZuR9vXNPqmvD4INYwdoFSaMhvmrO2JVKw7BD8_MPi8RygtjZxdxwlYfx6YDZzR55kLV2_W5AP2JCpAQCIzKI-FqWsZkH_MC-I3ZqBJKjBgQVp3YUtvhBzm7D0EvLwqHof1F7U0YeUIBt40A29xLHho9nO9SXAm1Wbz0DGYzopjiqLGWmqU4WY9L571NNxnHjt4VFCM6dFqxC_vuZrOWIepRN4biNd_uaq9rL9Ff9-ETBl7CZ_1rDySG-xdQHshaVqxEBi-W0wtAXoHQFyNIeR3sXs-7xHUWaR7jeNw-oURqvqvHiYkKHMT2rLlnPck43o&refId=HU7tKKPRmoYAbhpOIfM9nw%3D%3D&trackingId=TK35dOditK9QcPiygCvFZA%3D%3D&trk=flagship3_job_collections_leaf_page</td><td>Data Engineer</td><td>Centrilogic</td><td>India (Remote)</td><td>centrilogic</td></tr><tr><td>https://www.linkedin.com/jobs/view/4280166426/?eBP=BUDGET_EXHAUSTED_JOB&refId=HU7tKKPRmoYAbhpOIfM9nw%3D%3D&trackingId=UphimbfPWaUnNdgaqHZz4w%3D%3D&trk=flagship3_job_collections_leaf_page</td><td>Software Engineer</td><td>Experian</td><td>Hyderabad, Telangana, India (On-site)</td><td>experian</td></tr><tr><td>https://www.linkedin.com/jobs/view/4262351983/?eBP=CwEAAAGYgRR6NKQe5qBXWQTiRtSRAHNQFSTEqs120-f4ef2Q2QES8zDs6xDHSD0KYT4s4qEnbIRXEhKeW7Xoz7qufbguP1KuUyOFunYcKBYUZvq07IaN2nRkybvfbSL_xGb69bAWh_5oWYbdx2BBsIXXNH1JxGCpBFj82pVTJJOaWI7CMs_pjmgihX16sKY9lnyKToqIbuiY_Eu8ncekaRwe5wx54zgTXkbcatPXV5x192cP7iISDK1-UIhoAn_BW5nzLIlBuxEnAn_0smILf0FBd8Zy_EmP1JaX97T7KBYdA31AzZO1qJJHO82U2GZF7nGjWL5fPLn241y_PX-BlQ_z6N7r2rV0uzpthKP_8uk_V1tjsf7pKyVPIkJoMXj64uJnYXLrl-x5_cJ1PBx-WSDip8gDUq1nL7JEYoVYyadDe6ndDLkd8d3_7cdUz-ZkibzrgKI3GO5Kp3VFD1C_WgnsL86PDQoZ2Zfo3O8wGhNO85LALXnSW3NecZi2VLGj0R5izsSH-j2w5X5keo4-FzAn7Za4wQ&refId=HU7tKKPRmoYAbhpOIfM9nw%3D%3D&trackingId=fsGoKTsNIqzKbPx2xnB3WQ%3D%3D&trk=flagship3_job_collections_leaf_page</td><td>Senior Software Engineer</td><td>LinkedIn</td><td>Bengaluru, Karnataka, India (Hybrid)</td><td>linkedin</td></tr><tr><td>https://www.linkedin.com/jobs/view/4280506608/?eBP=CwEAAAGYgRR6NA2r9le3XUjXz7X7V6n0o6xybexEahjhI_9_tuRvjFkkUMIkcQ0KBYj2Xu5A2uMhTnhtANGYPy4wZa5_GtoD4ARxEKdVjTU-sckYPxnHgeikfe2GWfcZ_pfWsxd6YOCH_iUoxlrzpvtdfIxTEehwtodeayMDJ7_8saDPPDpxE8hveaAGLKzvtzYkTterR65fU90cVuBcMG3g9zVNK0KDvnIrZVeb0LN7U3h9j-Ux4CJWkLR5xqBvi9_N4xbSGHI--uHve7ic_c43dO-XDXwOZ5ObaDxxGGkRnOdZ0I4NfIIvZvBy_7Jir5ftrESCxIyY1O4ROTqrOWlljylQJFmtnNKkZfBAyGFW69WG5_1JpnR8ybVKQ8T-vsSJ6_z6ciGw4XfMt8q_chyragMUp84ANlkw0UFAIxImVc76s8MO7_2MwKFJnsvUszmxZ1rbRfNDYz2FZzguU9tqLumF4CZUYWE0YeKZ3lZdcr1LHrgSInD1hU9SbWAG1OaB1rT1IsWUoXTYtBk339ys09f7OsWcnBpu6Nvz726HZfi-x_zPV7bREKdkwXiSJIg&refId=HU7tKKPRmoYAbhpOIfM9nw%3D%3D&trackingId=Rqkmx7bWRxaZfbJlkVx0Zg%3D%3D&trk=flagship3_job_collections_leaf_page</td><td>Frontend Engineer</td><td>PhnyX Lab</td><td>Bengaluru, Karnataka, India (Hybrid)</td><td>phnyx lab</td></tr><tr><td>https://www.linkedin.com/jobs/view/4278247578/?eBP=CwEAAAGYgRR6NDVlY1CSYgLTQ-LKG3slZo4n7nUvoYboawkPGpVD4XFCq0svTsM1FeDjXxQMib7dGAyyHd6E8xGYFmT01G8ifYukCagppVzOFSg5XaSnbnn3lok_3aKJMneUAiLZeiyW_Xj-KSKBM3Fz8ivVSZ48XAKLgaYnB00o2dK6Qrmj13o7mlYNO8W8HheXrnpDwc-Of2xuqSRkSQszrWoa_HNAadb2WCg8zThiilJe22R2slL9iFOHPYQzwZTWXlro9FE94Ku3prIgHn8GC06kYnM134THt8qKybBezldBchpXcBAjI1BtYbdpWek1m4MaP4Os69QaqO-smEF2zNLdNW647cYDHXlokYGUaVbbw9Mr3Ddj2Mw1ASlFIoplvOLp4_6r6-glvL8LzfX9Xy5oJoq_5jZGnqk1Ykr0g5aFZzItbxtF_yHJMh7iqSB29rrbL9-pSscAcrPW55Z6XGGga2SjwaFw2wU5jIYeFOqgPHRJMD2zMuHU2-boPqJ5zMwjfsuBkB1tPAgdL3jtdHTXT7AIhjA&refId=HU7tKKPRmoYAbhpOIfM9nw%3D%3D&trackingId=v6Lv%2BshX7eQApyk%2FDL27Zw%3D%3D&trk=flagship3_job_collections_leaf_page</td><td>Data Analyst</td><td>CareerUS Solutions</td><td>India (Remote)</td><td>careerus solutions</td></tr><tr><td>https://www.linkedin.com/jobs/view/4273593598/?eBP=BUDGET_EXHAUSTED_JOB&refId=HU7tKKPRmoYAbhpOIfM9nw%3D%3D&trackingId=6sA%2BdRcQceHdBFuZTYLqbQ%3D%3D&trk=flagship3_job_collections_leaf_page</td><td>Python Developer</td><td>Datum Technologies Group</td><td>Bengaluru, Karnataka, India (Remote)</td><td>datum technologies group</td></tr><tr><td>https://www.linkedin.com/jobs/view/4280141875/?eBP=CwEAAAGYgRR6NCZwe42hSSirH9Sz0o8RusjJYqS6izkOomHgR9MdcjawOgZ54qM87PceWtAp7xAwPHRmjQaWKS-GRwwWDvSD4T5tzSbREZbrjKceNi_08a9L113D9ZYUJL8z9wJM-jxNEfwQ5Gy90coQxMlHA8knzdWPuKpsaZj7gjm9YNfH8yk-3hb0r-rOlRC4bllJeYLMjlU7NUfvzbD0McNRoGgsO3jXLuyJqK6fCDSZk8cYERe5iA-MKPpnqAQG46dpfO6Oq_Bretj1oC7gLjo7Zg8qr_xk4ErdC7C1eymHDZzL951UA_GBzLAI6WFE50Di7F6UyrHtM0u8M3wbxnkimRnIzkS9nsWQiOwW-ONbQPyjHfzmipS7vd8GPVRyt15-0NwhyFUmMo6_e4JS6FYfnTegyRM93C4rPm-CgTvhPW4T75F47lAeuouxHTUA3PbfSQ0U6pTw9-ijjyJuNHPBwXM0M4vguC_44aFBFoDx3ps7TkZ_CNQ2r7RneKUSpg-4oMTdf71qDvbX44b_cy5bQaxiPZA&refId=HU7tKKPRmoYAbhpOIfM9nw%3D%3D&trackingId=1rjv0tcAjR%2Bku%2BxR6Cu06Q%3D%3D&trk=flagship3_job_collections_leaf_page</td><td>Software Development Engineer Test</td><td>Airtel Payments Bank</td><td>Gurugram, Haryana, India (On-site)</td><td>airtel payments bank</td></tr><tr><td>https://www.linkedin.com/jobs/view/4278062997/?eBP=CwEAAAGYgRR6NPjsud-JCM6_LEfbEy-EdUEYodoclOVyau1y8YIyD79YGll_luXVKRAlE5GuX-df0a_9RjU2Lr6VaHNWh7mrhBzQ4PeK7gwvwpj1FMDeJNuMXTjZQPT6KS_jACBktSojJJMvLg08VXmkiogliJEkdeLxRLe4n-Lybg3urosHnBtWZMVA-9LPOUXqZpxAQ7AbIKmufDCLD3TiINiIZPYbew6NnFGkaUl8JaxHb0fuATaCYvTgg-NB5KK8RChGon7xKNk3a4QEAiLldQQ6PdTxbK3bj0yGpIiZY4dh2aPkpb85F3iYwRKt3-bIp2WuBOd0ODQE4TiEvFLcPsnIrbe-zT6Uy9w85slAcdWLTc_MfhzwY-DJKiqDqGpY7-_MZ1SJam1mouq7TkEYGdx991gKAT-e0ZV31-OWwg83vHm-pe6t5ZQsyllbZcLB5eB7bMRLuRluUfPjmvVvxtRwmNvIRMnQOY_0xZm7guZ7jW-SQHPE-NlVngAtRR7Iyxgh3C4LOpcjA0QslhUJmjRXRbEF&refId=HU7tKKPRmoYAbhpOIfM9nw%3D%3D&trackingId=FRZMpeEhbcfD4ZicDPDbRg%3D%3D&trk=flagship3_job_collections_leaf_page</td><td>Python Developer</td><td>Datastack Technologies</td><td>India (Remote)</td><td>datastack technologies</td></tr><tr><td>https://www.linkedin.com/jobs/view/4279361445/?eBP=CwEAAAGYgRR6NORvXTqamYdKMa3oFWm4INdL_Du8vD4zs7_I8EhTWgU3GEwYcTGzQiVPtiKqV2cNVjh_LVrp95TPPuTom-uEPXo2BdApc68Etx4J1pzZs_6M9HRkmzUpQPs-cxdM9X1vcv-sSeAMsIpZ-4AQ_8VU2ZmdkQ_7D8Sp0HqO38ag_2bUqNC40Rd1HCdTqpEVl2kTRO5Nfgowu7heBCWlTkdGo8SgovPoV_Orx104JJdS0x6IoXQmAvR7yHLuTK5jYnEe50Z7t-K34ZBpOYIPyZgT6eT4x3DMqls2z0OJQsKDI1M2XcXBVAJgNoI616SvcMurmc_lPP7BEyOfwnn4Cjtzgj41OplARirmeN3UjVicfLP8iBRRxxEXdrcbZn7aBh4ZsyD9mIYCnQUuWk8SAZ6DOz4V6vWl80YYrjz2kH_yQD-dJlQh398Qy1GLruM3uMHyRAxK7FwUY2_ZZ-1SQI6rmXldX8gLWoiqecVibPFtAQYFiptud5dJZM79TRe3L4cZRBAFixHeas6t2byZlqY0&refId=HU7tKKPRmoYAbhpOIfM9nw%3D%3D&trackingId=j4zt5xSJWnK%2F1Do%2Fr3AHRA%3D%3D&trk=flagship3_job_collections_leaf_page</td><td>Junior Developer</td><td>AAA Global</td><td>Mumbai, Maharashtra, India (On-site)</td><td>aaa global</td></tr><tr><td>https://www.linkedin.com/jobs/view/4278814835/?eBP=CwEAAAGYgRR6NGefh3UFupIXXCqelAz44yWcMnEBVNCb8pCq72QdpZAGlMuO7mudjuSvQiwaJv-NXzntWsRemUACEXBzC0nXaVmo7T2N3BdN1RKpHgXFfOyvdmFkdbZzC6IPW2XYLNI_xdgFVe-b6bNo8DThNYMkntw7tDgFb41irVdPR_M0sjmVQHQ9GBCM7fDjUBSOXq9wIftEGjrpVBQZCH-rjrOjGU2mOOT_1Yloma-TMMJK_sA_KgXmwYuyxJwlataRpEmKiqcuuJ80T4zEldWrpq2Q__5fDEgMDbmcrbrt6DAC8xw6LOG_0PrerW6JT-x5jdG6QlU4dBfrgk3hCdu-BZSaUqmXwohvgM5qcdC6sVllnav_fWUoWH6Vt1qkujTosZPXR7pzNxsPFR3HqfK8TGcUHJFcpt7f0z8aKrkQkkZvySV0W8nzuq-mWjSOgOgfcx0-J2yqfvJWLskAajWTXx0SEEeZ5lIrehEbPD2awPhJ-8QIYUgPCbNe7fo7U7vvzFuGyMUUzwYm5_ApsDNS9xaxKJs&refId=HU7tKKPRmoYAbhpOIfM9nw%3D%3D&trackingId=C1Hou1knVMP8LLc21f9sIQ%3D%3D&trk=flagship3_job_collections_leaf_page</td><td>Python Developer</td><td>Wissen Infotech</td><td>Bangalore Urban, Karnataka, India (On-site)</td><td>wissen infotech</td></tr><tr><td>https://www.linkedin.com/jobs/view/4274205056/?eBP=CwEAAAGYgRR6NKiilphPR2gIm7WK5LppzWHZC2QQ8QULLHpHrvWEKGPFomAPpntaBx7z6D4riLXYcjffOnca6Jtw_S9pIPMSn7qgwqXh2zKhsaZYmvPdALSoYa93VO7KEpAqi-l39p4iio4Br4CPgIsH8l3KZQsDlIda4mtJTDPdcj6cbeAaDiQ0bgjkgGT8vnDELo4bTN8egb7dOuQvraymjPmy0L_fxblAfIsl89x62mkp2iu5Gbav-cuBdtUQEzU8mgF00L119U-annqtafgvKRgYIbsF2yDa8UaMelt39y-4RB8V_7xeiOf8XBENSKWkmORzLvIGc0i_EuYwWJ5xwy65Og3F-tp_4jJN9pGTOLeXKhiD7-C9S65FU4MiqW2QFgh2RJWKe1n7q_vtjLwwKJwUtQp7M3bB8YMQu7327_CwlpTtqNerkILIr18GPjY23W482tLV5NBmbJgj9lo9ZaNtcHYAUHgEJbpFUFD8lOZc1xPPQH1e55lM1NSfIGL6O69lEZx0e8ta&refId=HU7tKKPRmoYAbhpOIfM9nw%3D%3D&trackingId=um7qcUl4GJbXXYMfJf2TrA%3D%3D&trk=flagship3_job_collections_leaf_page</td><td>Software Engineering- Web</td><td>Carousell Group</td><td>Bengaluru, Karnataka, India (Remote)</td><td>carousell group</td></tr><tr><td>https://www.linkedin.com/jobs/view/4280800394/?eBP=BUDGET_EXHAUSTED_JOB&refId=HU7tKKPRmoYAbhpOIfM9nw%3D%3D&trackingId=4Pvz7lPHap%2BuvWNHLyUg4A%3D%3D&trk=flagship3_job_collections_leaf_page</td><td>GenAI Engineer</td><td>TO THE NEW</td><td>Noida, Uttar Pradesh, India (Hybrid)</td><td>to the new</td></tr><tr><td>https://www.linkedin.com/jobs/view/4245121446/?eBP=CwEAAAGYgRR6NQ4ZuPW5NoKadsFFZ-VYhS7yKaWQJ7svFhT78q9LhJ2pePvsG8mQUMm5IN4xrQHOtqxHooQCZx3oziZJ4-E4ZLne28DqWuohIHAai1Tf1ra51iZq76X6EMKAlVdDxsc-YnIHLn0SAPvKsgStvtrttjOAUy4QxDMuKJAQ8k6wHsMSVYgf2VR4CCB4HMirLlDv_GCjMJK8_kETemf7_j6bqYZuR9vXNPqmvD4INYwdoFSaMhvmrO2JVKw7BD8_MPi8RygtjZxdxwlYfx6YDZzR55kLV2_W5AP2JCpAQCIzKI-FqWsZkH_MC-I3ZqBJKjBgQVp3YUtvhBzm7D0EvLwqHof1F7U0YeUIBt40A29xLHho9nO9SXAm1Wbz0DGYzopjiqLGWmqU4WY9L571NNxnHjt4VFCM6dFqxC_vuZrOWIepRN4biNd_uaq9rL9Ff9-ETBl7CZ_1rDySG-xdQHshaVqxEBi-W0wtAXoHQFyNIeR3sXs-7xHUWaR7jeNw-oURqvqvHiYkKHMT2rLlnPck43o&refId=HU7tKKPRmoYAbhpOIfM9nw%3D%3D&trackingId=TK35dOditK9QcPiygCvFZA%3D%3D&trk=flagship3_job_collections_leaf_page</td><td>Data Engineer</td><td>Centrilogic</td><td>India (Remote)</td><td>centrilogic</td></tr><tr><td>https://www.linkedin.com/jobs/view/4278499830/?eBP=BUDGET_EXHAUSTED_JOB&refId=IXn%2B7T6IbKlYbETu2OTZWA%3D%3D&trackingId=UStwSF1dMfSfWZerjTNxQw%3D%3D&trk=flagship3_job_collections_leaf_page</td><td>Data Analyst</td><td>First Screen</td><td>Kochi, Kerala, India (On-site)</td><td>first screen</td></tr><tr><td>https://www.linkedin.com/jobs/view/4280908957/?eBP=BUDGET_EXHAUSTED_JOB&refId=IXn%2B7T6IbKlYbETu2OTZWA%3D%3D&trackingId=1taqZsfAG7opCHSvh0%2F6WA%3D%3D&trk=flagship3_job_collections_leaf_page</td><td>Python Developer</td><td>PeopleLogic</td><td>Bengaluru, Karnataka, India (On-site)</td><td>peoplelogic</td></tr><tr><td>https://www.linkedin.com/jobs/view/4275934453/?eBP=CwEAAAGYgRSHYQlBocX1aee5Y4B47a0ilvIj3x2b4sHK_Trxdj1Jw3BI8enV2QTjqlIOpNQIVAsJbqpSRDrcA0Dl9Kc7oC6xHOhQt0mNkzspgwkD5dylunHMN1wcbxHr5AcNc062hukfcPfr5bDuS-ugLCex8-Z2qYI-gMqzj2bbuipWgoo5UCRqRfFTvEdU63wjbQff3ycroIHRft1ZYINsoebENA9Kc_ceshhTTk2mwBDe76bDYg3TxKiB8nPIY_QW9zrULf70UdDf6y5TqQoDltR7W-uIoLzKTT_fe9GyoTTkHRc9eqw_fTs6H6Y7AIZNxZMjDOZTq9QJcLZR23AD9DqvJDLIzfsqhWVD400zgV3KCzTDBm5w0cJEF0kwHkP9h86k_EXOo3kRnKII9ffaXR60l0Sj0WbSlP4x-aanmKn12SvJAJKba0DlFxMLzebBzA1QNmSJBAGSSUWpTtH-eqbiqB5oHsmRLJkVMQCV6ri5mkP-FEsKRSalNC0lClo0QuhdKBKoOZsL-v6aYdRCGamKllAF&refId=IXn%2B7T6IbKlYbETu2OTZWA%3D%3D&trackingId=IFxwCcUSZmZw4y4GsT3Klw%3D%3D&trk=flagship3_job_collections_leaf_page</td><td>Data Engineer</td><td>Mphasis</td><td>Bengaluru, Karnataka, India (On-site)</td><td>mphasis</td></tr><tr><td>https://www.linkedin.com/jobs/view/4266402388/?eBP=BUDGET_EXHAUSTED_JOB&refId=IXn%2B7T6IbKlYbETu2OTZWA%3D%3D&trackingId=wpHESDFp8IN4x8Cct1b2Bw%3D%3D&trk=flagship3_job_collections_leaf_page</td><td>Machine Learning Engineer</td><td>KeyValue Software Systems</td><td>Kochi, Kerala, India (Hybrid)</td><td>keyvalue software systems</td></tr><tr><td>https://www.linkedin.com/jobs/view/4279555995/?eBP=CwEAAAGYgRSHYRqbWacCWN9MtaPKozxcrG_Xw1f9bVNPfGcKx_1640uqBQac989WB-NyOCs3gGFhAkalH9bcZ2-zCMTkQXhRCNBsesBEheI7TT-Oykg9k8hWrYTUxCMJn-bLEZKX_0eEQZ7K2M-yWHy8pqiBrYoLMdnOGk-jv2KPToe3IE7dQ8hSO0vNikZooGbKPC6HJc495YbXwo98nonU1XjSJ2YYXKmm7MDWx8eho31ri57siS1oI82KZHJbRSZLtGJnM8oSSlzyUJU640bH9kIaQOobryFnVYgb1RbuW7v_DcqCIdZQDFCDwz5LOm9ATBn-rGk5fKU2PHhzUkLRj9XXznyDgC-5RcXkStJB5x5KbAL462i8TzTTp86Sg83gyqwtTCacswOyncGcgutji9kn_xa17A_yA7BoVtMGD6_uMY37jwyRTpOPeDuiNYItOn7CTUzPl_rTzclstcKHIYsbLb1V7traOKS9OKa5YxCTXt7c_U-yzSpWk3zMXeo1_p8-1VIrkqDTDsf2IJj9ZeuH82lc&refId=IXn%2B7T6IbKlYbETu2OTZWA%3D%3D&trackingId=3oo5CSsTOD0mKIO9wHRQuA%3D%3D&trk=flagship3_job_collections_leaf_page</td><td>React with Python</td><td>InfoBeans</td><td>Pune, Maharashtra, India (Hybrid)</td><td>infobeans</td></tr><tr><td>https://www.linkedin.com/jobs/view/4280083964/?eBP=BUDGET_EXHAUSTED_JOB&refId=IXn%2B7T6IbKlYbETu2OTZWA%3D%3D&trackingId=3H5tkO6JmBNt5S9jIp26Aw%3D%3D&trk=flagship3_job_collections_leaf_page</td><td>Python Developer</td><td>Darwix AI</td><td>Gurugram, Haryana, India (On-site)</td><td>darwix ai</td></tr><tr><td>https://www.linkedin.com/jobs/view/4258100629/?eBP=CwEAAAGYgRSHYe1sV6LWIqEQ6ru6OvzRituNgxmjAGmaaj9j3gx64NJ53CI9gA5RNOjye_DEbuHkuprb0UitVU4tZAH4p8dvZ7n1MDxAIECJOaXBYHwTJ34dP6HqrunOJ43dt2WI3ZKJMFvfplBsiIAfsNxxoI0FmzUww8JHP3BsR4XzCRwtfzBxRUoau9Zuk7A3C9m4eVRNiu_PsgWaxMCS4Hq0uiYzh2eM8tLPW8GcBYz-B6IaIb534VsAnN-yqNoaDtWeIQwBL7I-G_3AZ29WfGHZIrsDiO1IQV6mscnkroq25qUiDzn4vWsz8AikZHGrPbtKEMgWu9_tIVWcVYCIpFmrKaXepG8nJPCF9aekkkDJB6hjDrm2yguitj_i19mZyWvmd1zFdhhssn58t8-6foLCJ8YpQP3FX2r_YIz-cOje_oxYRStrqsCknDDBOxiNV5PvNQwEl0MpzsoScvokB8CDasXLDedjjRvKSrMi8ivUDF8qfT6mv3mWi6bI6gN5DKEyzOybHOuENXhfTTuV2s2s5AsxWd257Q&refId=IXn%2B7T6IbKlYbETu2OTZWA%3D%3D&trackingId=pXH%2F%2FqLfOn1BAaIoANYdJA%3D%3D&trk=flagship3_job_collections_leaf_page</td><td>Geospatial Data Science Engineer</td><td>Esri India</td><td>Bengaluru, Karnataka, India (On-site)</td><td>esri india</td></tr><tr><td>https://www.linkedin.com/jobs/view/4261958705/?eBP=CwEAAAGYgRSHYXq-2tNNLGZi3tyT7Af70M5BL5-Pi_K1HBDcKiynrFGF2e3LcpXQn7iT9HnVzOlx-CnpkI81QJIyQMjgkKxOJI3nHAozocToEZQ3fA8FM88So8qwPhkdgA0R0Z4Kn-9Pql-O5QKZyLmW6zVHMnV-RdAO6yCmmTrL1B_Y7PBA0T4fhfxdScTkIXIrurizBIEud2rMUIf2vmHsAI-LKzNL_0yF5V14BcEo2NyWgjjfOBUUwdlfTEextlrrl5QS-x8qKRmX7i53BJHaPfm_AR8LWQAwffXZBKoqNzF8VWAicfP7ywJG9OZ_V_3QJKJnAd9-FQ-6G5LCgaL9D8U6bc586b-7G72pQjMECQknRCWtw_AWiGFS7jQ-fF75OrI8CwlPPdVhet69yymUs2bNLDYS1tYfToQ3TJejpkM3IBIN6RpZU9im0l7rYGMT4__OiVU3dAw3ryMLBdzvdZORQDpRrS7pZ_5Oi7Qdqo0PJEdZRwKu9nfP3ZRvoiViaZs9vBRD627T2Z8g_WuinGmA_A&refId=IXn%2B7T6IbKlYbETu2OTZWA%3D%3D&trackingId=sgL49RdKujsj8ChiXEJl%2FA%3D%3D&trk=flagship3_job_collections_leaf_page</td><td>Sr. SW Engineer - AI Engineer</td><td>Roku</td><td>Bengaluru, Karnataka, India (Hybrid)</td><td>roku</td></tr><tr><td>https://www.linkedin.com/jobs/view/4273865227/?eBP=CwEAAAGYgRSHYS77Qsl81O2Mp7sx0AvQFNJwhMVe_nHP8JEm0Xzl6o25QUzCEIlPnhMADCBlPnKh--GCvDQkcfIhzM2VdmaI8r7HxoucbqVsg7LZVKI3857sU9_rSeJM4CdzeSxL6l8br97iIB9NDPM08DWckEDn04tpxGpR6TMjWA5OnyuZtmVEH4N_aB8wTzQblpqUjPe87M_PjUq9RdA6alw7n0YRPYcsXmtZBcEdsgVUMN_XOwC24irK9Dz3DEP95vsjGGQc5-_QipYdmqTFO9kaW5ggeuGMEDXhIk38EoPGgJKVeklPNplgNa3RShXDOEFjamaQ_xF-PW1WBjodZopHsM9XxpQXxUnI4X0hbmo3hdl-2G2W_wIr63l-LuR5s2cHmV5K_HEd832o0FkmyeEsztYOFpdaWJfNWY50MUEKZiQf4dLiKTD0YCVLo1RE49z05NvYxjt_8ELafBDjCLdsUv7Tw1RWQVXwZUD7IOxgEpYQAbrKlAuaR6QW-5BBkJqfraPycCfnOtXmsoqW9CdtWTP05mU&refId=IXn%2B7T6IbKlYbETu2OTZWA%3D%3D&trackingId=Aq9CnYYL7gA6aWgVJKkajA%3D%3D&trk=flagship3_job_collections_leaf_page</td><td>Python Developer</td><td>Binary Semantics Ltd.</td><td>Gurugram, Haryana, India (On-site)</td><td>binary semantics ltd.</td></tr><tr><td>https://www.linkedin.com/jobs/view/4278056511/?eBP=CwEAAAGYgRSHYbKyK1t6aUVQpAHioJlUIGYPYPD0qZuJcA5sbG-5yJ9xXlsxCQN2bnrEeJynLuYdC4JOPRlkC5gLy7FDDbQZid1cw80_-l3nv5H07Us-DFcAL9Ef_mamod0c_ysEmpE5Vimg434q9tf8Mbz2FeIMFACwdG-r872fyRHghTCIltJPPziqdJ80MrSvA8dnJ4p6OujhcwkT44tWlkWKF5fk7mBKSavRx1s8oICg-_dHJI1wUitnIM5GFKDfbTthxUCAwDJmz47x_698X7t_wV7zMrFA4JXfVvuWpz7jbnBXvTBO7SmCJJ9p_yhmeOKHFP4qdC5yK8iNMBWiHaYgvtLs5Eo2iJkEA4dEgb3Rsfl-sDiUC4hWQrewrm_QORDlk3dw3ncVMtCzfuAFAsDrwUXsh9HDc2HrbJKxgEsMw8r_KEDWfBrBxWKA0SXOqDBGAIWMipv5zcsratuOC-6SS-1prh480ciACOu-KeD1d0U&refId=IXn%2B7T6IbKlYbETu2OTZWA%3D%3D&trackingId=al86rCGlIBzjPmyb%2FGunXA%3D%3D&trk=flagship3_job_collections_leaf_page</td><td>Python Developer</td><td>Relanto</td><td>Bengaluru, Karnataka, India (On-site)</td><td>relanto</td></tr><tr><td>https://www.linkedin.com/jobs/view/4277157799/?eBP=BUDGET_EXHAUSTED_JOB&refId=IXn%2B7T6IbKlYbETu2OTZWA%3D%3D&trackingId=ByLFrh0x2XtwoPHts9Y9%2Bw%3D%3D&trk=flagship3_job_collections_leaf_page</td><td>Software Developer</td><td>ZEISS India</td><td>Bengaluru, Karnataka, India (Hybrid)</td><td>zeiss india</td></tr><tr><td>https://www.linkedin.com/jobs/view/4280451154/?eBP=BUDGET_EXHAUSTED_JOB&refId=IXn%2B7T6IbKlYbETu2OTZWA%3D%3D&trackingId=nj834IAvHex%2F2%2FuP%2FaCGow%3D%3D&trk=flagship3_job_collections_leaf_page</td><td>Data Engineer</td><td>The Functionary</td><td>India (Remote)</td><td>the functionary</td></tr><tr><td>https://www.linkedin.com/jobs/view/4280159089/?eBP=CwEAAAGYgRShx8mFwInd5Wtz4tKo5vhxu9PGSkhnIpiguzTWBAOASPujb6-ekNUa7oOzCfK_lTshBNbz4-hF-06OQNl2o53OnOA5IX3tX9ImsVQnYl_MgsYMj5Ktfodji77y5QC8P4J531-b_Wzz8OZvLvDs1VEgzeNnRBYTvUyWzELthchmd85APr28okiNzOPXg0EmZZR1HUaZXIMIOrmQzU8LPnbLkZ42sQlt65pQUuw9Cc8EWX0YAsuR1LPF8ZRPveXvJmkh3OR5OjdYCq3cmLH6khN2O4YLqWWfdgIEPzh1RaZi7-M1bSr95-8D0cSUYxg8DjHnYA3mcZH_F-2WhgGWm-_Sg6aAV66rJ2cHHRqqOG6d6OcMeslaR2PHIJWoOWZ30TtjN8-GILlOxT8FiqQAMnAfDV7oGUP7iTyCzcKk-m2CbjqNdGHd0fLhqBIFCqEW1EGRQVxXOZ4nHhtuh0J0xy8-nm0vaV3KzCuikIAHnB1ff_YKxz63Bzi_NXKAysRshfTjZAx7F6sondmOq5y8Y3vwu8wkdQ&refId=MYPN7y%2F6AW6jfo%2Fh5tzXMA%3D%3D&trackingId=xEsgmowR87anJxv07xJlOg%3D%3D&trk=flagship3_job_collections_leaf_page</td><td>Remote Data Science Analyst - 17843</td><td>Turing</td><td>Pune, Maharashtra, India (Remote)</td><td>turing</td></tr><tr><td>https://www.linkedin.com/jobs/view/4280346453/?eBP=BUDGET_EXHAUSTED_JOB&refId=MYPN7y%2F6AW6jfo%2Fh5tzXMA%3D%3D&trackingId=wK2%2F8zTdMPzdw6rnTyll%2FQ%3D%3D&trk=flagship3_job_collections_leaf_page</td><td>Computer Vision Intern Remote</td><td>Bhatiyani Astute Intelligence</td><td>Bengaluru, Karnataka, India (On-site)</td><td>bhatiyani astute intelligence</td></tr><tr><td>https://www.linkedin.com/jobs/view/4280121497/?eBP=BUDGET_EXHAUSTED_JOB&refId=MYPN7y%2F6AW6jfo%2Fh5tzXMA%3D%3D&trackingId=A6Al2m%2F%2BYwDEgZrWC%2FiJ0g%3D%3D&trk=flagship3_job_collections_leaf_page</td><td>Data Scientist (AI/ML+ Python+ regression, classification, clustering+ SQL+ Cloud )- Group Manager-Data Science</td><td>WNS</td><td>Bengaluru, Karnataka, India (On-site)</td><td>wns</td></tr><tr><td>https://www.linkedin.com/jobs/view/4275931334/?eBP=CwEAAAGYgRShx8FqwN_v7GT2o3MfO5XqjXZ0FGHQoj4og7uSXcJIn2HiNpBvkII_Q7ImY9L1xITqw6sSMxR5JzU8tFX0lHcnYRMr7p_tGmPLi0ZDAb5NAVn8XS49IWBxcXsevucIDyNe0caqD7Q2otq0yWZxbqrEmIfBK7nOS_VmLYAkzolgTr9wX2iXjfLZAMAjA7ldb4--GBy_JIzFyOQMouNYyHBWmraVEDJOVbJ1D_uxTi4u55aCHzD8_H6hfQV1QUl51dP7ymPq_Dp-6FwklEWpUH_IU7keakb2759MLFl_yxU0tZMZ7-l6DuXO8z5_jcYbmNG51xl2qxz6I2FjFdltlcNgTuyrLR1gRedj135BgEH9qoJ7nV98Rwe89WHqgyNTD7X6tW32AGcgA8nzFVWc7vypg5DZka_Z7rMbZoZPg1preQngKsSrl64cNPEm5I8zpF9d5dX-ljiCyUIWwJvWNymDz1bi5w4jtGY-35bAN7Qum41DijhH4Hl1Y4RtiNmPMkRDg5VsOfXCraSrYSlBK28oGRhm8g&refId=MYPN7y%2F6AW6jfo%2Fh5tzXMA%3D%3D&trackingId=o%2BSADGHi7wkXwyPxEswQjg%3D%3D&trk=flagship3_job_collections_leaf_page</td><td>Artificial Intelligence Engineer</td><td>Grid Dynamics</td><td>Bengaluru, Karnataka, India (On-site)</td><td>grid dynamics</td></tr><tr><td>https://www.linkedin.com/jobs/view/4275584994/?eBP=BUDGET_EXHAUSTED_JOB&refId=MYPN7y%2F6AW6jfo%2Fh5tzXMA%3D%3D&trackingId=o2rg5nMH7ZJcKQMS8kQ22w%3D%3D&trk=flagship3_job_collections_leaf_page</td><td>Python Developer</td><td>HCLSoftware</td><td>Pune, Maharashtra, India (On-site)</td><td>hclsoftware</td></tr><tr><td>https://www.linkedin.com/jobs/view/4278123433/?eBP=CwEAAAGYgRShx3TZl56YZ6sZQvVs2waDUhC6-rqA3UnpjkiUH8LlWIxNKEueb0K3nw8sO8B-YtPwHz4oOIO70m_a4zW78NG2_gvj0et2LNfTNWOXKXaxDCWeHcAOWUcrRrBhBR5GtAfkiH8u7bm0M4iNdMoHKh2ZKO22skFrGt8QiimYwXku6N2Y-gDLAPN9w02kMW-75j1dk7FxTtMBrnzQipQfUxY8GPEYbkxGxtX8kAVpwIIgcNi5Ca_R9t7aE8pb65D7Q_1ag5WNR1Z5wu9WVuuNPVEnpJNHFPLN6yZHRMkvWlZwJSY07Q6gnkPdVZWzqd0mtljduNxBjwdN3AiVrecLmWxlYxnUzSp1I_dhIKZQgUPNlKI0p1WHfz0Skq75uBFNoVyg0-_vtjVe6ZYtQLl1VNsH0Zhgvev-qBKjCymk-yLUXhYyGaiKtM4VZUCnT80McFNPusIU1fW47VcWXGkOC7o5NWb-k_GmgXbz65B_wpyLn-MnvRbsoiEfdqJ74H3npBuhFLgp18wfEKfz8VodXaVwaOloRA&refId=MYPN7y%2F6AW6jfo%2Fh5tzXMA%3D%3D&trackingId=vo8pzKwkdxSqJBuE6x8FDA%3D%3D&trk=flagship3_job_collections_leaf_page</td><td>Data Scientist</td><td>Circle K</td><td>Gurugram, Haryana, India</td><td>circle k</td></tr><tr><td>https://www.linkedin.com/jobs/view/4272012450/?eBP=NOT_ELIGIBLE_FOR_CHARGING&refId=MYPN7y%2F6AW6jfo%2Fh5tzXMA%3D%3D&trackingId=6wdCZjJ1%2BXIG%2BhJWUqQo%2Fg%3D%3D&trk=flagship3_job_collections_leaf_page</td><td>Python developer</td><td>TestUnity</td><td>Bengaluru, Karnataka, India (Hybrid)</td><td>testunity</td></tr><tr><td>https://www.linkedin.com/jobs/view/4277501095/?eBP=CwEAAAGYgRShyNaVrCDtY-Qlsz6VMJQpihbQdzjtLC4eWhIopdDHYSz9ndUrtFoZAdcFRhKQqGOPA8bpfTSTrHf_e2dcJtVZLOXdlqECRnM4wNMragLJEPkjqQyycjDBjighwpTtGepJ_39O9aVdCB9IdCFaEA7d88oJ4C6NIwqq7zDsQWJw3MAZhJGtCWF2clhOfpDe9IB7xL9PSN4lu0xbBSlGrGGTRnS33imPvSalk2FTPzoXhHJviQqQ64kg0XmUyHagftQTkqEO9ssh0sqbfiWu8l8JoSnS5RJcBXHxjG8WOGsaLwJz6-jDKl2EXMpE2g5fY8_4uoSphNnd6KicmVnSSAM6Y6aQ6WfPJnbADJKDr1uZwLsKeh28Bc42PIUWbnuJE4KENQsBN066UyQklx5hYBZOxLxso7TpgL6m8SU4DcLvxKBMf7ioeYei-8koYchAcXMNF0mMjRPbd2xD-rAg7zZ5__W9TVFxlhmo_QnoOw_wkRoC6xTCvwusafntydV0XtLEoxqMDKZUh_RqgNycyUOz0OU&refId=MYPN7y%2F6AW6jfo%2Fh5tzXMA%3D%3D&trackingId=HELp3b62bEVrf6V4k9dGIg%3D%3D&trk=flagship3_job_collections_leaf_page</td><td>Sr Python Developer</td><td>Nokia</td><td>Bengaluru, Karnataka, India (Hybrid)</td><td>nokia</td></tr><tr><td>https://www.linkedin.com/jobs/view/4259429652/?eBP=CwEAAAGYgRShyCTm2v1zLa-TznmmKNaOcLt38Hiv-zEr5ob_DK-ejshPNlZ5Cp21eV0occQbdidT4ijq4U-2f8PuijG2Uzkp3FZIY5tJIDi69boyqzK7-khciDQSmObjt0tc7WfllFAb_Q1E65pXsRRI3CUe0ZyKYPdIEWhQ-gQ4GlNfk13_J8bVseT5xZGeeO1M3IKO4a5H9Osw9n5BcCBJspEAW8jiGgtZihJRXcVFqbOIvqeqCoeqmApD97T-9sERYnMHiC-y5pnVtzrhq5Kc02ZAlzN1dlLT0ESuW-ZM9K8d-tdsc6tlZPnc9wV4bJlK9YHVg6Iu2GUcNJRBfDzWjs03DZEhuex1SbkJQfibO-ZuBAjIBCHIsFcQCnWQG0Th4lHStqb9iKL-s8uOH_mLaDzqVBKaGHqxhr8PXq6ybC9mhvOLv1jzW6IKQgEb2QufdyTBsInhagBS6DrMqPodB5a9FrqGka6ekxNHgCPVAXyijLLUcdksQRhMjsx0Z_G8swKnKRQirYgxtFufEeb8qup74Op-HbQ&refId=MYPN7y%2F6AW6jfo%2Fh5tzXMA%3D%3D&trackingId=200YpSPF5ybsudwdVRypmQ%3D%3D&trk=flagship3_job_collections_leaf_page</td><td>Full Stack Developer</td><td>IDFC FIRST Bank</td><td>Chennai, Tamil Nadu, India (On-site)</td><td>idfc first bank</td></tr><tr><td>https://www.linkedin.com/jobs/view/4277602277/?eBP=CwEAAAGYgRShyKyNJTlmK1pfAeEswA2CFD4VSmKsdET2eKkyr-zpWwkfocl4Pi513-1ZqmWhcsNcBhOdbK-t-7-cRMOMID27yvfUIItsxFdkJJ9qXwC-wT07FzxWYu6v7lynyJdETuYZIwlS7nUeolIIt4wg7GdbpisD9E5QE8z2ZJI95qhTIEaNwfhGjp-hA4UAiVfh_bAFFFUVQseambGS4VmoutUdlBV1UhvflpKOqKzOerMM0Ra69SyS_Gn46ujefliOQ1qfkHtFo2drNouQ1TK54uKN5Q0abQ3Km9lA_4UBdrD4HRDYvuvk8aP4Bo-v_9JJ34GW6HgnIKm4wk9-_iXHBEhReN3Ie9OnSc0BNwQe9ajvKY7R0RQBdSzescg9HqOWLCEsc721Lzy3MrHBCEvg5wTeGXZ_8r40ZQWkoY3oDK7EHD-JQDvD-W5q6XCIJmCFVAkAqKT8Vj-8H0qg_WvbrzoSLhdw2Im6uMYRQpKGAbgMZrSEb142XcbE35hRW_mgku_3gQcpooFPK6o-KHqpbyJYBWuWNQ&refId=MYPN7y%2F6AW6jfo%2Fh5tzXMA%3D%3D&trackingId=4ajm2bGTGhFZwINurlyhtQ%3D%3D&trk=flagship3_job_collections_leaf_page</td><td>Software Engineer</td><td>Nanonets</td><td>Greater Bengaluru Area (Hybrid)</td><td>nanonets</td></tr><tr><td>https://www.linkedin.com/jobs/view/4250486850/?eBP=CwEAAAGYgRShyBsgTWqkc0sMGXqbaMwILYszW005WX-hc-2llOIj4THlwbg43-w4L5Dfw1r_VmYm17TsvoZtA14YSr8dEVIB3WT2VAlx55M2xNgv60okU-EEu4mRTpUv7X4wEGpHaIfqu_KUs_Xu1nNLjvMaNaLFepUqCHVSEioR6yeqnmfhMjEYhTIL913cxhKyXpzbcJuVz-ewgPSZFiX0I-8tJLE4oIhPNsNlPjdQ1ZV8ytrpzORgHkbNywznLHoMe44SMhVWLQPmbSUnhqEwgUknI2DJe6sUzn2HSTCpCCDM23UgxDbkP_-SBWMcvU4frR_eUGCmhNZhZif3iKguFMB-zsfNjyDLABITcqhdDffqYKSMTYxP44iE88HE31rOlfIaktyj9VNbIuaf1j51I06xd9OIPDZ2cGn0F9yaWmwQVm6xwJCmXJTdYJul_6SRMYq-kDwCfXE0uKbg8_UsZwJzOvMDOCbglrwl9T5TOtKtYVIsCFPZeyQUG1Veo-ml3AUvXgeWzqYDJatJExfe-JUtdvPC6XCQ0A&refId=MYPN7y%2F6AW6jfo%2Fh5tzXMA%3D%3D&trackingId=WeMUBb6LktSrAC2b%2BR4LuQ%3D%3D&trk=flagship3_job_collections_leaf_page</td><td>Data Engineer</td><td>PrismHR</td><td>Noida, Uttar Pradesh, India (On-site)</td><td>prismhr</td></tr><tr><td>https://www.linkedin.com/jobs/view/4278206174/?eBP=BUDGET_EXHAUSTED_JOB&refId=MYPN7y%2F6AW6jfo%2Fh5tzXMA%3D%3D&trackingId=kjig2QgL%2BJKE0XkT8BhdlQ%3D%3D&trk=flagship3_job_collections_leaf_page</td><td>Python Developer (FastAPI)</td><td>BeamX TechLabs</td><td>Hyderabad, Telangana, India (On-site)</td><td>beamx techlabs</td></tr><tr><td>https://www.linkedin.com/jobs/view/4272841876/?eBP=CwEAAAGYgRSu0ynzr8P8Zh_cW-9jSXjrS_qD_ijkXkQKOaQGf0LsLdHsRZ-DwPSYTysmKlljRBY8pQmO6EqQwclwqFLgnERhNAtY5gq8KhkXEYyf9uS6E4gQzCrPRYBAmKrJPKuT_r-lxUjOvG24jl8QntUfN2LObLmZTJLLNDEwMDyeU9lIlbeaAfaUSMeFYuA95ZtGGQuiB_0uVRwO80Xq6kIDCJQc22-sgWqI2bpV08dwAtw1---P4v213iEemww7xUrJ20GBHZqa0emJ6Rmw_qofG2FsopS4scFrlozbcjrjm6pJWW4ZKvBdw_YS7VSqoL-38_hL7f9J5g3Ze-rr8_JxRcJC_0GnVUeXBv8uMjQA1Hlsw2VtE8XSxyITgGXEBSodgR3ByRmtgGP3xC_2JUfwVGrsnJtC2WjynA1tISE43vUpGxk5YL4maPz_6hOPxT18iM_bsoLZ_hnW3qPqo-aT1OMI270wierN8j8DIJar3-NvhomM6otbeRHXH6eUP8ep6gje_a0QNKRml8bmvwavvfny&refId=EBSmkZioQQPAVNqYw9%2BGTw%3D%3D&trackingId=Nt7moGcXYyt1NFl6DeQTPw%3D%3D&trk=flagship3_job_collections_leaf_page</td><td>AWS Data Engineer</td><td>Iris Software Inc.</td><td>Noida, Uttar Pradesh, India (Hybrid)</td><td>iris software inc.</td></tr><tr><td>https://www.linkedin.com/jobs/view/4267691249/?eBP=BUDGET_EXHAUSTED_JOB&refId=EBSmkZioQQPAVNqYw9%2BGTw%3D%3D&trackingId=jvJ8zzz7u1YO4DzFOgsNsg%3D%3D&trk=flagship3_job_collections_leaf_page</td><td>Growth Data Scientist</td><td>Moniepoint Group</td><td>Bengaluru, Karnataka, India (Remote)</td><td>moniepoint group</td></tr><tr><td>https://www.linkedin.com/jobs/view/4278747387/?eBP=CwEAAAGYgRSu0_p5cl5v3mLO6Nrj5rBUTuwsarA-ZZ3LQM6FeBFfjJo4rTuFOBqqgOc3S6Z7TaIrXTJdVGksrGkpqOyzBUFbpsbfodRTE-uoPyjoJMckbq-BT3wQ1cHUThsWJcFJLCCNHbtZR0S9gu8OLPzp0uXZoVANOPTHmzv23ev3yyR3IuJjX7Js6wvDdK_Ok9RW0hCtDH7nE5_Rzq6u0yuk7ilOqOtPJzkDA-yr3_SBI4OM_Cud2o6Vw05b7WJ1YnJNXsF2VyoxSvBAD78r6sqo7ik_wcV2KQ4dfspR7Aa5zW_Ek4MqJKiBcYOzJUv8F9xX1VbvzheHIIs4huD3sfkhwWBDifPhRyJ-U2JuuxP1GxaZheNY-oOiNfN1f6A9f9N3shITlywtzHrL360ZhSOJ7Hz7LilrZJBMToatEBnj1hh4lN46nAYJd7Cjc9g99LwJngvXz60SmTQGnQ5-ZJlc68Q68qOGCngF_58ZnKwLgFczuDGmMY-NkZm0wqiO-rVIildPN-F7_hZzh-TW3BsSG6Ux&refId=EBSmkZioQQPAVNqYw9%2BGTw%3D%3D&trackingId=aMWpnZNin2TgYCEE4diZOQ%3D%3D&trk=flagship3_job_collections_leaf_page</td><td>Data Engineer</td><td>Flywire</td><td>Bengaluru, Karnataka, India (Hybrid)</td><td>flywire</td></tr><tr><td>https://www.linkedin.com/jobs/view/4280132856/?eBP=BUDGET_EXHAUSTED_JOB&refId=EBSmkZioQQPAVNqYw9%2BGTw%3D%3D&trackingId=ngW3Yk868pVEItMSY3NA0Q%3D%3D&trk=flagship3_job_collections_leaf_page</td><td>Full Stack Engineer</td><td>PepsiCo</td><td>Hyderabad, Telangana, India (Hybrid)</td><td>pepsico</td></tr><tr><td>https://www.linkedin.com/jobs/view/4271280137/?eBP=BUDGET_EXHAUSTED_JOB&refId=EBSmkZioQQPAVNqYw9%2BGTw%3D%3D&trackingId=bdAO%2B8jQWxFPiKwb%2BtuITQ%3D%3D&trk=flagship3_job_collections_leaf_page</td><td>Python Developer</td><td>NAV India</td><td>Jaipur, Rajasthan, India (On-site)</td><td>nav india</td></tr><tr><td>https://www.linkedin.com/jobs/view/4274202231/?eBP=CwEAAAGYgRSu0yaS5y0Tlyf9xBApUYTOI7z9t7vCRy-UpuwVe8LHwLPPPSDP5usEqCvifDix2UfFfJDB5XbQjCpBXhWP2QEUX4Co9o_DtYFAVor-i_EIq0wm2Shz_tF2npe2wEBta6aXYekMlhupQgBnwLnPsWQqT2NWVsqsWdbEcD4fcleIjRQKBN6QPYTswg0WuMs0RiCeF37VanKAMQr8fD_vkC05EY9jSQPRWt7Ia93X4RYe07BDfAoOzDNKPS_x2IPWkzH7UdYg-9eZXt1hT2Xs3XCepIuIU1S6-ZgyBEnWmvFkdjQ-gnkrTB_PMzAcLir0l8JL41KqH1mzEHiPeU1w1z7E-2epjVf3A2vVLsiqAVT3MjsT0j6spbBNpzGJIZghUUjumbVt-gAlawdo-ysZPalZoTp5TQHPFWoShSD6JBTbDIlG6BuAWN_xZs802mfDtjb90aiDZ8er5qTQgelf9Rj1IGLrc8Lr3pau8M0BBnMnzHmy_w9Xn58jFItBOm1gLFUbZ6b6BFIzgETE1_JC9u2kcxtUnQ&refId=EBSmkZioQQPAVNqYw9%2BGTw%3D%3D&trackingId=jiwVMb1aegFvy%2B%2BFBpo9NQ%3D%3D&trk=flagship3_job_collections_leaf_page</td><td>Python Developer</td><td>Vista Applied Solutions Group Inc</td><td>Bengaluru, Karnataka, India (On-site)</td><td>vista applied solutions group inc</td></tr><tr><td>https://www.linkedin.com/jobs/view/4274041586/?eBP=BUDGET_EXHAUSTED_JOB&refId=EBSmkZioQQPAVNqYw9%2BGTw%3D%3D&trackingId=S4Y%2FTvkNT3bBUSG0zusF%2FQ%3D%3D&trk=flagship3_job_collections_leaf_page</td><td>Data Engineer</td><td>ThoughtFocus</td><td>Bangalore Urban, Karnataka, India (Hybrid)</td><td>thoughtfocus</td></tr><tr><td>https://www.linkedin.com/jobs/view/4278056971/?eBP=NOT_ELIGIBLE_FOR_CHARGING&refId=EBSmkZioQQPAVNqYw9%2BGTw%3D%3D&trackingId=tL0tOK7WsLfWzkrArNyvwQ%3D%3D&trk=flagship3_job_collections_leaf_page</td><td>Python Developer</td><td>Prometteur Solutions Pvt. Ltd.</td><td>Mulshi, Maharashtra, India (On-site)</td><td>prometteur solutions pvt. ltd.</td></tr><tr><td>https://www.linkedin.com/jobs/view/4278053425/?eBP=CwEAAAGYgRSu1JdlAnupeNTWOdazeBSeU8sxuLlcsHSgon2rNXsn2NvNBEF_-CKKsPUW5pVnXEFlQX5NspJzCJXXOeEhXU056x63pBZkq9veyp49TKSoq0Ntjtkga9QZogZUeGyAXARlBDY-uzdhOHDZO3R0TQ15PVTTerJ-0iLYIwcpTJz5GGFibUvm8dBAogl1zKcUuNFLW_AfWfbQfFQMix8uvJSactJ5iStb4cHz5dSnuT1J1S6Z5HbGm0kFLl2PjqT1oBLjkp8cpWwYU9ttuc3WqHRzYIi2GLAA9ITusOeHZN_EnA4ptz-0jaLTIp2rMhPi0L8R2Ax3ED02oGckv0z6hKZ2hQYVddWBEEPX__CabULQ09DB9yIpv-avZkEoVEaFlbfB5uZGTTiorUI0eo-CpdV0koEQ8rpdM2aNjZHsujK0s5Slw0Ag-3YZxHDeMMhC0C1lnG-oUFeMe5K-fmJw18joX3YEIlbv6bH1aLZnQfA3yKIt_H2WezN6gUiHrzg8z_MS7g3AcINptRSW0lSgVl6LPn4qew&refId=EBSmkZioQQPAVNqYw9%2BGTw%3D%3D&trackingId=yIrVVI4nggaCSczQpcSVfA%3D%3D&trk=flagship3_job_collections_leaf_page</td><td>Python Developer</td><td>NIIT</td><td>Gurugram, Haryana, India (On-site)</td><td>niit</td></tr><tr><td>https://www.linkedin.com/jobs/view/4266230981/?eBP=BUDGET_EXHAUSTED_JOB&refId=EBSmkZioQQPAVNqYw9%2BGTw%3D%3D&trackingId=SAUSa3RE1GC3zL4q5zM5aw%3D%3D&trk=flagship3_job_collections_leaf_page</td><td>Lead - Data Analytics</td><td>Freshworks</td><td>Bengaluru, Karnataka, India (On-site)</td><td>freshworks</td></tr><tr><td>https://www.linkedin.com/jobs/view/4277616307/?eBP=CwEAAAGYgRSu1OciLGpKKAU34yDQCFpmdP9i-d7AFG8kAQYoawBXq0-Wz4gW39Alnen7imlNrXWBA_hbYAPYX4AwNRpLIw8ETriJmMJQiZwQhP4tTzBHej7b6Cbt82AHjcw9ay4cp5qmmWf8YOXomY0PcZaQc-rdi8SYeX_yjZDHLCB8EIObMHyT7zxFL0Pt_rXoSKDZMppSsGXnOtI7WpF5Vc254-lGLQllbsNbstcgLQcbPNB7yBN15fgsLSTKyAjlqXjBkqBhz2zSL3hP09s_nwHLsq_UKm1xxxNYlbBZKKlv6HV5DkAzAQpdCp3eZ55QdESTw6pa509xdX4evMiTVfN9WUJfxCvbvAQHMHQOZjTk5AoYdib3N5q5mKTUV40K0vNxowotLUnLa-nq0iQOJI98sg3vme94eXmYwhOnXLeLvCUApZMX-Ni1d6U&refId=EBSmkZioQQPAVNqYw9%2BGTw%3D%3D&trackingId=u36Ji%2BX3P%2FKdP%2FWPadPnTg%3D%3D&trk=flagship3_job_collections_leaf_page</td><td>Associate QA Engineer</td><td>Cendyn</td><td>Hyderabad, Telangana, India (Hybrid)</td><td>cendyn</td></tr></tbody></table></div>"
      ]
     },
     "metadata": {
      "application/vnd.databricks.v1+output": {
       "addedWidgets": {},
       "aggData": [],
       "aggError": "",
       "aggOverflow": false,
       "aggSchema": [],
       "aggSeriesLimitReached": false,
       "aggType": "",
       "arguments": {},
       "columnCustomDisplayInfos": {},
       "data": [
        [
         "https://www.linkedin.com/jobs/view/4277353126/?eBP=CwEAAAGYgRNcby_KMfZuM7o_bhgQ0uek5G8LIz3U7hjMncVVugI0W2_2x-lIQOk63MgV0pFj1MjE7HhaGb99RkLXZd7jc6H1r_q9un6ncxydzB4Zy4dvHyAMjBZusDk3BCMZXk6r9wePxGnPxBK6dsD_W2mnEKr3amupMQkiN3XZnOFFNNapGVk8qdkqTs0IAI_GeSbrH7zGtVWwYH6tXDFc27dAMFMF2a6J4ilRCR6xI7wl-bnmqR5plOLIXvROJcPcb4SEFZZYlH23vHwdNScpsPGI9Mo916ZU5ALO1qNqiqvKmo51EY2q6fT-5JM1Le5sgtVHSsi5njSw4f2kpL0fyUxR0TUd_ZMhrqCnSG5Kazaq7YI9f6mWYHAifiN_9F1GrdCMA54q9amRH6-AyDbsaL6ADQdVADtsG9iTYgiXgfkrd8sIwiRqXuDridZ34T7CKI_moz3IUU_2uFkqnLIxb8JZ4Z1mOexrhF65qQ6ZrdPpaGrubzWyhnwg9LegBFWPXreSmumgQ3yudbUw7lKA7yf50w&refId=VTdxZjP6Td02BrgNGEyD5A%3D%3D&trackingId=0ZNpZStGR73FRjLBjitcjg%3D%3D&trk=flagship3_job_collections_leaf_page",
         "Data scientist- Python- AI/ML GEN AI- Across india",
         "Capgemini Engineering",
         "Mumbai, Maharashtra, India (Hybrid)",
         "capgemini engineering"
        ],
        [
         "https://www.linkedin.com/jobs/view/4279260172/?eBP=CwEAAAGYgRNcb2s1qwNtsjoHmBzkZDTfCaIKh4_KcJSW4K5JiGezWlAfSSyLqmqvwEafp0lfK62lGPaszLMuoV1OfHtTiORVAuYwAHvPaZDfL9IxslYvQCgpzQkOvgQn0XY8fm7aSZUuxoz7k7Yc7Lw8BeQ_1F32c10tfeAI-D4CeQhRLnRQBWyyE93S3Pu49_0uyTWM5jVFVUCLPlznkBnUNWydS41ETB_Uo7UraHzR7AcVTBhfZVXxOnND5xaN_rHwAOIR4G2PhIMccU0Xu0o12TqGbUIcmY4R4ecX4uuUmV7S0rJRHU4Y_3LRmfobxeU4olIHHRLzrplIj0vhltiH9ZzHjaBUXZLnl-F-bXK1wDrsKcDaXndTmPDVaAR_y7705p4W04jw3zL90AJC2sOfY3_gua9nr9LNtNp4jInWiQur_pibVwKWpYS7Bpzxe0aPZ3g7RnI4na45YjYWRaqT9qUpQ48A9EOl472r-QKDOLnE4hiNvo309xdSfc-fN0641ulh-irR-8fQPyiA85JS-MGCHHb3&refId=VTdxZjP6Td02BrgNGEyD5A%3D%3D&trackingId=DFyDIfGzjUfLe4OLD7lvgQ%3D%3D&trk=flagship3_job_collections_leaf_page",
         "Junior Data Scientist",
         "AB InBev GCC India",
         "Bengaluru, Karnataka, India (On-site)",
         "ab inbev gcc india"
        ],
        [
         "https://www.linkedin.com/jobs/view/4277908502/?eBP=NOT_ELIGIBLE_FOR_CHARGING&refId=VTdxZjP6Td02BrgNGEyD5A%3D%3D&trackingId=wd9LH%2B3Su9OdfoKJvC6W6Q%3D%3D&trk=flagship3_job_collections_leaf_page",
         "AI ML Intern",
         "Hubnex Labs",
         "India (Remote)",
         "hubnex labs"
        ],
        [
         "https://www.linkedin.com/jobs/view/4280550072/?eBP=BUDGET_EXHAUSTED_JOB&refId=VTdxZjP6Td02BrgNGEyD5A%3D%3D&trackingId=Ffe%2FR0gnvKjESBdjFIr30A%3D%3D&trk=flagship3_job_collections_leaf_page",
         "AI Engineering Internship",
         "Deep Learning Titans",
         "Bengaluru, Karnataka, India (Remote)",
         "deep learning titans"
        ],
        [
         "https://www.linkedin.com/jobs/view/4216659912/?eBP=CwEAAAGYgRNcb7pUVP4u1ndn0ccV-twoDKQpJgzTyFXjquRaqv9YuqDQZUCU45geb-XqNGUhWk2Wa_HxKSjnD0-THpdrzhsQUfpW7l_bR0NrPt7usu5ESbW4P_Ir5Zn2vOah5YPpj6pmUn6XRg58awc94KFovwd6s1aQps8SFuD-2K0YiyNRZe4GtITl9PL-vqqPJZ0DjkdoGpB8enCloNl16jPlUJQuLOqmbgz82Ger8j9uD6yG0Ed0O_pT2zqrhe5vKbeSsicsWej7xA-zmKWxKMW5g9jVUCCACej2rXoqJXlhpCWWFnhlvHunaIFL4U6bY1cr1_H0P6C63_a4gsFrrnvbzqk4xruhemFXZ01c0UoZz59IvX0zy81w9GU5m45E7vf1zrix-zphjYUpFFcBM0o4VnIEeVKGSUiLvueXSVsT-VOf8G88bRZX_7QRNBLu0w3Atq8WjuBgx7-5pvOyNIyvNF96Q2iZoIBmL-6KRWF3UWu1Qc62P_FRZBzoxjEgVozczLPlgnh10st-Vf9XdZuiQD6I&refId=VTdxZjP6Td02BrgNGEyD5A%3D%3D&trackingId=DBYgLD94oNPi0dzDo%2F0TOw%3D%3D&trk=flagship3_job_collections_leaf_page",
         "Gen AI Researcher",
         "HCLTech",
         "Bengaluru, Karnataka, India (On-site)",
         "hcltech"
        ],
        [
         "https://www.linkedin.com/jobs/view/4274222266/?eBP=BUDGET_EXHAUSTED_JOB&refId=VTdxZjP6Td02BrgNGEyD5A%3D%3D&trackingId=bfRBbJuyo7u9QHzDgWM%2BAQ%3D%3D&trk=flagship3_job_collections_leaf_page",
         "Data Analyst I",
         "Navi",
         "Bengaluru, Karnataka, India (On-site)",
         "navi"
        ],
        [
         "https://www.linkedin.com/jobs/view/4277354782/?eBP=BUDGET_EXHAUSTED_JOB&refId=VTdxZjP6Td02BrgNGEyD5A%3D%3D&trackingId=a62Q7extgMqaT9qRq4geaw%3D%3D&trk=flagship3_job_collections_leaf_page",
         "Junior Data Analyst",
         "The Guide",
         "India (Remote)",
         "the guide"
        ],
        [
         "https://www.linkedin.com/jobs/view/4280144071/?eBP=BUDGET_EXHAUSTED_JOB&refId=VTdxZjP6Td02BrgNGEyD5A%3D%3D&trackingId=vgkb%2B2Cf%2FIrsrTqwqKQsDw%3D%3D&trk=flagship3_job_collections_leaf_page",
         "Python Developer",
         "LTIMindtree",
         "India (Remote)",
         "ltimindtree"
        ],
        [
         "https://www.linkedin.com/jobs/view/4279278278/?eBP=BUDGET_EXHAUSTED_JOB&refId=VTdxZjP6Td02BrgNGEyD5A%3D%3D&trackingId=uYbbAZHlkuRTf55jYHMLyA%3D%3D&trk=flagship3_job_collections_leaf_page",
         "Machine Learning Engineer",
         "Tecnotree Corporation",
         "Bengaluru, Karnataka, India (Hybrid)",
         "tecnotree corporation"
        ],
        [
         "https://www.linkedin.com/jobs/view/4274305695/?eBP=BUDGET_EXHAUSTED_JOB&refId=VTdxZjP6Td02BrgNGEyD5A%3D%3D&trackingId=fJC15olWXCub2haFX3DtcQ%3D%3D&trk=flagship3_job_collections_leaf_page",
         "Associate AI Developer (Remote | Flexible Hours)",
         "Pravartan",
         "India (Remote)",
         "pravartan"
        ],
        [
         "https://www.linkedin.com/jobs/view/4279997390/?eBP=BUDGET_EXHAUSTED_JOB&refId=VTdxZjP6Td02BrgNGEyD5A%3D%3D&trackingId=2j8NIR5PQefhdtHQD1wuRA%3D%3D&trk=flagship3_job_collections_leaf_page",
         "SQL or Python Developer",
         "HRM Counsel Private Limited",
         "India (Remote)",
         "hrm counsel private limited"
        ],
        [
         "https://www.linkedin.com/jobs/view/4275952439/?eBP=CwEAAAGYgRNpqyHT-WEjS04882Hj9u_yQpEwLAaYqLnkdpMaPI9Wg_Iac36A6p4Iy5bk6RvUNHk3JMh-ZWrIgs3JGFsSjhzAJfdaO0TjVLErO5QWcqIf4HufnKC_roMTu5pGpBSArCNMXcv8UNVlq8vThrmfV7w8jFj-ZB55PsRH_zEy-24RWZ2cKLvbT5eRQG93R6k1m2wGEOo_eRpp5D6-HBqlYEIW5hjAX3tuPVmlSXCWgV6Lo4o-XUXmqJ9AHM_7lToHxLOBsJhvlBQ9TnJzBOuf6JshVnchADnj9ad9eQoS1MClf7ih7S6_UX9dpk9zYmDGeK9HDi54BpF5Q7Y3Yo0bshd2V7-tXh4RxADm-jdoXodWc5nImV6a9j2iB-3yGFXqnYCa3zx3dY8aCXMpA1dTt8mJl97f3f-GKaOTE5GGDpMV7Z3SgEN1SAFU0sKWpTOwIXQIBKNUqWALq53mqeRaAsxeJGKverevXxhdbT28cnx2iPaNVF0OYFPcczgDZrnYEScrKstcClOdakatOKg&refId=jnPkbUaJgtXfmJknzztCHw%3D%3D&trackingId=IiWTfDrqeLuyzXP8wDIhqw%3D%3D&trk=flagship3_job_collections_leaf_page",
         "Data Scientist",
         "AB InBev GCC India",
         "Bengaluru, Karnataka, India (On-site)",
         "ab inbev gcc india"
        ],
        [
         "https://www.linkedin.com/jobs/view/4280156304/?eBP=BUDGET_EXHAUSTED_JOB&refId=jnPkbUaJgtXfmJknzztCHw%3D%3D&trackingId=T9T6O7mFfNe749lbQNoeDg%3D%3D&trk=flagship3_job_collections_leaf_page",
         "Remote Data Science Analyst - 17843",
         "Turing",
         "Bengaluru, Karnataka, India (Remote)",
         "turing"
        ],
        [
         "https://www.linkedin.com/jobs/view/4279597899/?eBP=CwEAAAGYgRNprJ7uURE3YHs3KKePwQuCG8SmvwHcI_C6zS1vfVzTIlh3hVa-7bMfEI1B9UwC7e9Da8XXaMFzqUbr9zPz4jPIGApqqrNgVyiNfbuoe0HxY0MlYkBepQ1urxIgdNGl2n7N3SeqazdpmHml7iGKSgUt9_a0DJsU2OJK34RkUh1mMPa-_gmSCm0xuV1G7HTWbJOzEgmyAWd3Z_OjmoA78v_6ZJcv5SMclsmOWK7_hFBIHR9vSRp3DNdCVaNRha2aXirFv7A7PyRv7q1f5vak_-miarZNCZvOHdhK4YE9rxO6knO_sI2KQsFRvy2_TuhQy9Fin8FQlSoE4BAnJIfgmy-BkPoQOx4uSKqCJLvdFfZw1hq2kdbB_3FUnmVb-r_2XPXp47tx2CRET3eFmvHNl6ObAAb6CP0lKZI-vJBdaFmFi-wN0LL4lahTkEDF517_pEmHYhpy813BsCRwAqIENxWYnmv_r_OptZvmwCIz8k8dTtIdFkzj2LpQuIg8d1GZ4CMNQ8ALEOhx0BrxOHICwg&refId=jnPkbUaJgtXfmJknzztCHw%3D%3D&trackingId=OT6kt4M4ESPfkhyKrDQVVg%3D%3D&trk=flagship3_job_collections_leaf_page",
         "3D Computer Vision Intern",
         "Sony Research India",
         "India (Remote)",
         "sony research india"
        ],
        [
         "https://www.linkedin.com/jobs/view/4272868090/?eBP=CwEAAAGYgRNprBnKCDkS6HutgFZAHbFwjKz_mxCDEc4DKsm5ldmrH_iDFPLDdoU98OPfsrmNBwXZFaDOl2MnBgUyLPUUOO_99W-KWbJaX7NqjBxrBROEtcQ0AxIgfeUwyW8IzabHyjMr42UdHpaIOVpk4LJrvaoeDprmYBucBryTmpAZ7QzkaBikcu1uoUvg82-2uxhZkis7JFEDH0DvS911eFRO_M1gZJSPfJlzuphp5g10GaDtX5HCoaQKZHE3KY_y2Hg0nPrW40tn2gthsxhHxek36o_danT5zIX6eSVrHt3cr1pSu2-kY0qOIhOrzaKgeDTgIsn7LzndfvgSaFiZLvmQoZfjNICSjuNYn_XJ782wxIyMg_OYYXcFqc-dOP35hvsSsk-jH_pnXgoGNA2wLYh2uyUuPm7sq4mo5hmGszOxZMAQ7PXkyP8BVo9ewOC4KHHboyJ5DQ9n2Jp8pC-nVmFy75IYkm3hehPZJLiPx0JSEU-VvxrHlXugCxT1NbNqiYZrUB5AK97EdmBgd9S8gj6_1Q87&refId=jnPkbUaJgtXfmJknzztCHw%3D%3D&trackingId=m4W7sy9k9qaPNDo71rpXpg%3D%3D&trk=flagship3_job_collections_leaf_page",
         "Machine Learning Engineer",
         "Capgemini",
         "Bengaluru, Karnataka, India (Hybrid)",
         "capgemini"
        ],
        [
         "https://www.linkedin.com/jobs/view/4280599999/?eBP=BUDGET_EXHAUSTED_JOB&refId=jnPkbUaJgtXfmJknzztCHw%3D%3D&trackingId=Ik53abofLEWdZv%2F1KPL%2F2Q%3D%3D&trk=flagship3_job_collections_leaf_page",
         "AI Engineering Intern (SDE)",
         "Darwix AI",
         "Gurugram, Haryana, India (On-site)",
         "darwix ai"
        ],
        [
         "https://www.linkedin.com/jobs/view/4277927708/?eBP=CwEAAAGYgRNprOP_oooAdlJczu9h3w2v6OUArF5QTtQ7c2XXsHXnbzlJNFDwTOXzBgNKtshb_I8au0mhJaNaph73o-Sq3kTmC0mTuTMcx5tsiN9cw1j6UlfgnMAjky6vU6BJJgSYEidJKgYTiRnz2SiRUs2YdefReTWdrZEuSKhcU49AImlIBw1elcmM3o0ikG_YR_I1VgwE7S-d9fWCRHLOCVALQ6AUgWJqBpvgmcppZS2R5WTQJE9JjevIoJQQqowZS7J7O85d6xpx6lPkvfnTzuvk2y0IcpoUzcSxdxx63aUs6eXhEFZnkpUUER_PFGZ7LmjSgIceC5vVETS89V6D4bufUxNsUaeRp6tzpWV0vhkSq7ghEmXxs0x25Hj_UuPqg5fdux97Ad_AjQ4NiOoGd1Qij7-6VQ-V0iS0lBI22hHTPQc-a0cyiZo6zxcVGoMStNhof5NAa3ReUyMTXVRe1b0gSojyi5bynmWu54EHCwCqJgmnvHNLdnvf0bvy5hFP0bD272U2-G-j1nJsZEkPRNWJNQ&refId=jnPkbUaJgtXfmJknzztCHw%3D%3D&trackingId=kpze6nqcO4zCHyRrbznPhw%3D%3D&trk=flagship3_job_collections_leaf_page",
         "Machine Learning Engineer",
         "Insight Global",
         "India (Remote)",
         "insight global"
        ],
        [
         "https://www.linkedin.com/jobs/view/4222830764/?eBP=CwEAAAGYgRNprAnr9aF9EkqD1FwbnSS3riVgHFL-xuCtKJRPjLWqeJPTdW0MovTKXX8l1xv8WmT8PhmElm37SglA7Gbg3jJwrnZ4K8P8BUYREm8-U9kIOklwjcPispRP0bHDBbDlocu5HT3x-g6JIjGNaNAFh0Ct87ml0bet3_U4qEHcWMCCf3G1n_77pK_rnzoVtwgQ0VDvzwEDXK33Nv3Oni5Wo5_E1mFVzCACpPROP5SccJJPxz5st_fwUsc--R-SUfaysP_bkbW7cUfJgIB0NEYuPBnPAXDf9IP5Z2r_-9kSaRAD7ugUK_Q87-vdD9IaFM2pA8BjoDahTj0L1tc39IEMFTCSSSINAL9FLkfTxyMLZv8Wuy4w95F6VCh_2f2orGs9KqoTeGl5GYE_LB9VKVeOiIq2jB1VdpA-IBGOk4UnG7tyTDorBZqJoICim7Kcf9ex43w3kRHAToCl-Vqv-kAweAsvwFodK7Kr5RGGuM8M6yrQK6pnKnw5BLQ2Z2tvd9R235oLRAVMVbnM84n3gvaG8Zlu&refId=jnPkbUaJgtXfmJknzztCHw%3D%3D&trackingId=EbKQwPsh7xIkxjtR%2FYQKrw%3D%3D&trk=flagship3_job_collections_leaf_page",
         "Data science intern",
         "EVERSANA",
         "Bengaluru, Karnataka, India (On-site)",
         "eversana"
        ],
        [
         "https://www.linkedin.com/jobs/view/4277368921/?eBP=CwEAAAGYgRNprer7s6kT-XxKQaF21PwnVIuzArtqRFD4649C6G5_HhT_1aS2fQaYahV46VNP39vVzuEgFTbtS4jQWB_7Sv7Ute8nXHrl5f1vjmKQjGDcqVyIj6gqkxp51e_Pn8qK3nMfjM_GOFbXzgmI5OAAFxxQ16cEMkHy1ztdL83_ip9Uu2W-ROM3Pu1MomnjNFjZcaexvieEWuKsywKoLH7MZhkTmYFW7gjNAnc72PXTvRY3ZVLG_5xcxbUx8HjZKaIQ6MKf5E25ZkMuvF-UO8MgRbrZ9xZJtnU_Icb6hUUdvUtc_IbEzzfe3jJmryKiHa1mdr6-vEfaKT4EilVD1-6dpcZ0lq9Eub1drlJl74BfvZECDzgMoAE0BlNESB6NouZI45ld6br3YVaCOGS2EpAkqvzuGbGPnn6-BJ4rvRPa0rsAyHkD0Vc6EwxGvA9bPhhw5u-ntdyH4myFgWK6_hFT5w4Z-9JUWAgD5mx7cr7fcMFqIrg3Be4He7OKVXNp91XGJiYyaZmwBVonIotzIXE6Ag&refId=jnPkbUaJgtXfmJknzztCHw%3D%3D&trackingId=AnIAsKIo9zVSD7DvHLzcDA%3D%3D&trk=flagship3_job_collections_leaf_page",
         "Digital Champaign Internship",
         "HDFC securities",
         "Mumbai, Maharashtra, India (On-site)",
         "hdfc securities"
        ],
        [
         "https://www.linkedin.com/jobs/view/4274097889/?eBP=CwEAAAGYgRNprQRKbBkb21jUfD2RLxds_f9OBopl9Z-IRr8LXqNd6UKi4Yytfk8EGYmfWCbsEmVol6K6p0iJvMxESg_HeveGXvrKgcZ5L3n0kjzm_ZAZ_0gCPxvPsVx6bzVdnpZT7sYIRXUYjuxjIUied1sraFSw89622eJ9-vKZt0OEGALTPeM6ZqZCQ3LMDsb2NoR2ozoF-5ysHXUGs2s1HPxUS6q1g6zewc1PKXho2p4_dSiT8QLqWD0i0NcZpzy84fvpxRpH1bVyvOEFPQhEG6II8ADuSWsW7liDA3dHejodc2ggSuemWpvk11QoTz8TmBnbR5Htxms4lyK4hmk1OBwBFmaW5O7uvDp0cJERGwe73AYf82qkCdfCf5cX46idm36Xagoub52A1LqIR8RQNoFig88bBS73bl-wFxIWpPptXLzZJpyh1bt8jBC10WwBLvZkMR9tYb9FMRkd3VBm1_g5rPpJ--8Uzmuhn8GUeQjIncwrK40-qNgcUjeb3NjlrZfThMBVK3xRLd7yYnUFNrCH9g&refId=jnPkbUaJgtXfmJknzztCHw%3D%3D&trackingId=jJNRm%2BYr7Q74Y%2BY4QYXD3Q%3D%3D&trk=flagship3_job_collections_leaf_page",
         "Data Scientist",
         "Pentair",
         "Noida, Uttar Pradesh, India (Hybrid)",
         "pentair"
        ],
        [
         "https://www.linkedin.com/jobs/view/4274697931/?eBP=BUDGET_EXHAUSTED_JOB&refId=jnPkbUaJgtXfmJknzztCHw%3D%3D&trackingId=b%2FFOO62TY%2BIrjYqTPhpmqA%3D%3D&trk=flagship3_job_collections_leaf_page",
         "Fresher Cloud Engineer",
         "CryptoChakra",
         "India (Remote)",
         "cryptochakra"
        ],
        [
         "https://www.linkedin.com/jobs/view/4277577862/?eBP=BUDGET_EXHAUSTED_JOB&refId=jnPkbUaJgtXfmJknzztCHw%3D%3D&trackingId=TmdIiTagaheh8MU7Gd%2FL2A%3D%3D&trk=flagship3_job_collections_leaf_page",
         "Full Stack Engineer",
         "Orbital",
         "Hyderabad, Telangana, India (On-site)",
         "orbital"
        ],
        [
         "https://www.linkedin.com/jobs/view/4280159123/?eBP=BUDGET_EXHAUSTED_JOB&refId=wL%2FRMpLMnaJ0PmhOiDKXgA%3D%3D&trackingId=94y1ZHcxTdsmNJo5kSZtRQ%3D%3D&trk=flagship3_job_collections_leaf_page",
         "Remote Data Science Analyst - 17843",
         "Turing",
         "Hyderabad, Telangana, India (Remote)",
         "turing"
        ],
        [
         "https://www.linkedin.com/jobs/view/4279992774/?eBP=BUDGET_EXHAUSTED_JOB&refId=wL%2FRMpLMnaJ0PmhOiDKXgA%3D%3D&trackingId=kImrvh6mYAzViXgBqWIeuw%3D%3D&trk=flagship3_job_collections_leaf_page",
         "Speech Generation Intern",
         "Sony Research India",
         "Bengaluru, Karnataka, India (Remote)",
         "sony research india"
        ],
        [
         "https://www.linkedin.com/jobs/view/4280776208/?eBP=BUDGET_EXHAUSTED_JOB&refId=wL%2FRMpLMnaJ0PmhOiDKXgA%3D%3D&trackingId=EHXgxqpbXfDHfsbRkKHxjA%3D%3D&trk=flagship3_job_collections_leaf_page",
         "Python Data Analyst",
         "Persistent Systems",
         "Bengaluru, Karnataka, India (On-site)",
         "persistent systems"
        ],
        [
         "https://www.linkedin.com/jobs/view/4275076258/?eBP=BUDGET_EXHAUSTED_JOB&refId=wL%2FRMpLMnaJ0PmhOiDKXgA%3D%3D&trackingId=%2BWunzS%2F5uot4kOkMFZR1jA%3D%3D&trk=flagship3_job_collections_leaf_page",
         "Full Stack Developer SDE 1",
         "NxtWave",
         "Hyderabad, Telangana, India (On-site)",
         "nxtwave"
        ],
        [
         "https://www.linkedin.com/jobs/view/4277562941/?eBP=CwEAAAGYgRQ36KJWeNRiTl4P1fOxEdXUglM7W0wWnlj-FUD4OvaatfSHVGToct-V6k-FTdD6vf9eBfgTvfz_CjlyZQoC69e-Qt9RC8t3lwYCa6lNFBK-bvgf-OovgqJeuRptFUf_xqcDhISYZwY43By2tTgGhNLYZpMreCTfWLJegs5rhro37rbumq2u6kahE6zBKHFpZ5LyiEr7Tb499P0Sze5T8DRJEkEHB7ESzoGdf0lyV6eiqSuzQG7DycDW7uwbIBM6CX1y2pH93yqRNqzOMhurzKKB_1iJVY6YS9tEHRAojOHfGqb24hDgL-GZd8e6TQGYSVlcm70Wo7noiGYpZPa-qMZJK2wD0w3jgaM1O403HF7lPRPTgU8V6ZP4o-7JPCVqGCdvDwASQnppvl4XTeM50fYTcavy61vWNSszNy9_cI4AkyH7TTwoQkkbFBtiz6iNYjOTKMxvmK_uwIEYWl74S6tiy1PHTKjTroqoBreISak5Bi2UtvuzssTmkN6scRMjT8z1r7MQXf9qsayQ6qEA7MzCQbM&refId=wL%2FRMpLMnaJ0PmhOiDKXgA%3D%3D&trackingId=zW0MpxhxrZI3Z0iA8iI3Lg%3D%3D&trk=flagship3_job_collections_leaf_page",
         "AI - ML",
         "WNS",
         "Noida, Uttar Pradesh, India (On-site)",
         "wns"
        ],
        [
         "https://www.linkedin.com/jobs/view/4280831022/?eBP=BUDGET_EXHAUSTED_JOB&refId=wL%2FRMpLMnaJ0PmhOiDKXgA%3D%3D&trackingId=5bOjCxntA6c0UczcZKotvg%3D%3D&trk=flagship3_job_collections_leaf_page",
         "Full Stack Engineer – AI/ML",
         "2Base Technologies",
         "Bengaluru, Karnataka, India (On-site)",
         "2base technologies"
        ],
        [
         "https://www.linkedin.com/jobs/view/4273880274/?eBP=CwEAAAGYgRQ36GdbbgjA4YX2rUBvzoOaln0-D5vjRna3N9-iZ1lnI5vikD8T-NZPb-RNb5ovwVs--4Cgx-Z5WhHJdwmvtzxKZtJ0wUjg7ROxEeNQwqXReXIDhlar7mfWyQr4-DPb_U7xgIQVWg9hJ7gOUuOoJnA_6XPxTfXWUNOexvT_qkg3ucd0hT1uotEH4__jbBJldqXDCAdFtnP0RGIZuaVrtJFw3-2bPUfwpSKdz1J5wAHDMWTz9fWTncqqgRXDxtGHUn8m8U3L5K2_ZuPtYGhDW-rx6RHVvGghxFmh9aQdBda99tX1On7D0UnOtk8xmEr3u0DEBO2cwtKzH4r6b3LcZTDZ-Z1SY_x-hohx7eZNBCzx4czuHVXzGlYn7yEJJ9p5AYvfA5IGMI9gC0IralcK7lXENnQVripR7DCjeP6tvlh8x7PYZmahvQwR3OlmcNK2LNo6tmOUp3Edka2_QLHvLGMhok6AJigGZgg9uXXChgA&refId=wL%2FRMpLMnaJ0PmhOiDKXgA%3D%3D&trackingId=MVIyF4JFHcOa6FGm47LOXg%3D%3D&trk=flagship3_job_collections_leaf_page",
         "AI Engineer",
         "Zenduty",
         "Bangalore Urban, Karnataka, India (On-site)",
         "zenduty"
        ],
        [
         "https://www.linkedin.com/jobs/view/4219931313/?eBP=CwEAAAGYgRQ36ETVhwHJ1MGAobk8UMYim2dc_9dihoaYx5f8WqdJY4gSSjREJF6MiQuh6uJRw3LKAaUN1SR2_6eWHnKSRuYPPfuR0piYsqNxPBt8eGS-hDo3lbJM6Ni-Kamhf-VD-muRhHj7_JOqjXXY6549a7Bdja4sX38-yiX8ppQZlJR9XSzruOsWNm88EuTpwu3JsdSYkjpkyF8QjLgNhZSA-OjMvF9IhNY7ZZbAJwm08GQsYNRg0lOrBX7LoV68qmzm4Hvnb6dp8PMb_jvJg6PiLY2IRebjvqu4NkPakDYtUnJafqEJoEhFxyhEr-xeOTiNjlPuz84rrgQxlJQkjwdCND_lBelQ50bHKt2peqPvgwmkR02s1p6KpG3goe2ib4btjom_39ZYzG8cQrtSFkaf2LlFu4vFMpFW3Sk0U5Q8xf1jehwx6q5Nd7D0VuvDSxlclhCFNBG3X4CfaXjX2iIsGBuEpigDly1mrk_HXSLGYWp03_4IERkiQ8Rec9xp23olkkHUrfgyEOG_QENAr52dKvF8&refId=wL%2FRMpLMnaJ0PmhOiDKXgA%3D%3D&trackingId=9u1%2FGL3Xr38rRkB0FsVS6Q%3D%3D&trk=flagship3_job_collections_leaf_page",
         "Software Engineer (AI / NLP / ML)",
         "Nextiva",
         "Greater Chennai Area (Hybrid)",
         "nextiva"
        ],
        [
         "https://www.linkedin.com/jobs/view/4279543215/?eBP=CwEAAAGYgRQ36UlOYVyTOZF_hYfxTDWx5r1tIRN-hCtFStUXTBJ-Z4EHYpIIstgxiA6WO1yEUNYF85Guk9ASZAm9IdzobkyrafGXWtI4d3gYAKAz7WYmcJM1oEcSF3AVnEqgnsCKC0NIa5bywNYhVvAvV7HW-Fcat9Sb3ZKozwotvE9u_QlOKaSnya9lmz9EyFm4xWqicvFDhgNIY2jtQ2C6snx8_SnKPkstorBuJoFRFC_j0kmv0AlaD9vXRILdL_OJRY1wKx07k_f4jx4tSPvTC6Q6MBjiFN4YXg5yUPzZsqsD2QbTfwGfHMXERv6fUWRq8jKREj7yC3Fke0dV8-QAEd0poJip6RHAqobjzZ_QTh32zticN6gnHLuGZ9tuc370aApQUxAVwUkQ3VQoAKnXCwMuFflqDL5-XYp3ZPlKTFvAEHPHXJZEiVWzdI0wqEPQZPtV4ZId5RtKAKVBelhDxnCNebcIrKjZ7i4VMGAGeNyQDwJ-XqOES1dW2Mbyv3uI0kb4g90xN9ePDqDGvLW3VI4jykrYY8E&refId=wL%2FRMpLMnaJ0PmhOiDKXgA%3D%3D&trackingId=SM83wi2ga4rRTDNC%2FmKhUw%3D%3D&trk=flagship3_job_collections_leaf_page",
         "Data Scientist II",
         "Talkdesk",
         "Bengaluru, Karnataka, India (On-site)",
         "talkdesk"
        ],
        [
         "https://www.linkedin.com/jobs/view/4275972625/?eBP=CwEAAAGYgRQ36fbQnx5QxkgMAUj13mmKBsQtKKOFRYaG95z9FdG-Eb53i0Oun4LOgQMgxCkif3giCM514RqQYw1ctItO7lDBskQVQayMD7G1UACKCHxv5L9PBwiTt4Y-b_T-rFOc1MEc6-Kg4q8i6JzQvUfohUrFS9ULMtxCDs_ekVGaDVohU9PWmXmT6v7C-Tx2Jg7rz91tOsRyLiLHphbQsFC-H6-1cLeLEV2X06RsxCUKhPLnNCjhRGpYWENu2E3LRzBWYqYqzRy4CHnVoKjrzFSZmX2Z8Qc4bhSWIEj3IRIk7nP96GJexOtYCmKkG6t6K2e5jZ3cMDmCreo2XuY5Sk5K2NqGmT3Q4sUTlSFkJ87fSnDKIum3DTcuFHCgS8wghD88OAZP9am4UU4VYChvChas-cyLTsmlHSaRIMVHQXOyeGQZ7xczJK1Vdy671NX8xZoSoR7qr_DXAooeiPnMqM2ymm_8WXCuVnMTLh_GBQEF1ITnWyKRIetF9UNwpj5S9AaoK1tIc3iE9ltKvC0nCMZWBdqX&refId=wL%2FRMpLMnaJ0PmhOiDKXgA%3D%3D&trackingId=pEYLZvwd3MzmQGvAnirMjg%3D%3D&trk=flagship3_job_collections_leaf_page",
         "Data Analyst",
         "Newsweek",
         "India (Remote)",
         "newsweek"
        ],
        [
         "https://www.linkedin.com/jobs/view/4277363295/?eBP=BUDGET_EXHAUSTED_JOB&refId=wL%2FRMpLMnaJ0PmhOiDKXgA%3D%3D&trackingId=2cLqtEczLm%2B40hNj6AHMRQ%3D%3D&trk=flagship3_job_collections_leaf_page",
         "AI/ML Engineer",
         "Grow Your Staff",
         "India (Remote)",
         "grow your staff"
        ],
        [
         "https://www.linkedin.com/jobs/view/4280159123/?eBP=BUDGET_EXHAUSTED_JOB&refId=wL%2FRMpLMnaJ0PmhOiDKXgA%3D%3D&trackingId=94y1ZHcxTdsmNJo5kSZtRQ%3D%3D&trk=flagship3_job_collections_leaf_page",
         "Remote Data Science Analyst - 17843",
         "Turing",
         "Hyderabad, Telangana, India (Remote)",
         "turing"
        ],
        [
         "https://www.linkedin.com/jobs/view/4279992774/?eBP=BUDGET_EXHAUSTED_JOB&refId=wL%2FRMpLMnaJ0PmhOiDKXgA%3D%3D&trackingId=kImrvh6mYAzViXgBqWIeuw%3D%3D&trk=flagship3_job_collections_leaf_page",
         "Speech Generation Intern",
         "Sony Research India",
         "Bengaluru, Karnataka, India (Remote)",
         "sony research india"
        ],
        [
         "https://www.linkedin.com/jobs/view/4280776208/?eBP=BUDGET_EXHAUSTED_JOB&refId=wL%2FRMpLMnaJ0PmhOiDKXgA%3D%3D&trackingId=EHXgxqpbXfDHfsbRkKHxjA%3D%3D&trk=flagship3_job_collections_leaf_page",
         "Python Data Analyst",
         "Persistent Systems",
         "Bengaluru, Karnataka, India (On-site)",
         "persistent systems"
        ],
        [
         "https://www.linkedin.com/jobs/view/4275076258/?eBP=BUDGET_EXHAUSTED_JOB&refId=wL%2FRMpLMnaJ0PmhOiDKXgA%3D%3D&trackingId=%2BWunzS%2F5uot4kOkMFZR1jA%3D%3D&trk=flagship3_job_collections_leaf_page",
         "Full Stack Developer SDE 1",
         "NxtWave",
         "Hyderabad, Telangana, India (On-site)",
         "nxtwave"
        ],
        [
         "https://www.linkedin.com/jobs/view/4277562941/?eBP=CwEAAAGYgRQ36KJWeNRiTl4P1fOxEdXUglM7W0wWnlj-FUD4OvaatfSHVGToct-V6k-FTdD6vf9eBfgTvfz_CjlyZQoC69e-Qt9RC8t3lwYCa6lNFBK-bvgf-OovgqJeuRptFUf_xqcDhISYZwY43By2tTgGhNLYZpMreCTfWLJegs5rhro37rbumq2u6kahE6zBKHFpZ5LyiEr7Tb499P0Sze5T8DRJEkEHB7ESzoGdf0lyV6eiqSuzQG7DycDW7uwbIBM6CX1y2pH93yqRNqzOMhurzKKB_1iJVY6YS9tEHRAojOHfGqb24hDgL-GZd8e6TQGYSVlcm70Wo7noiGYpZPa-qMZJK2wD0w3jgaM1O403HF7lPRPTgU8V6ZP4o-7JPCVqGCdvDwASQnppvl4XTeM50fYTcavy61vWNSszNy9_cI4AkyH7TTwoQkkbFBtiz6iNYjOTKMxvmK_uwIEYWl74S6tiy1PHTKjTroqoBreISak5Bi2UtvuzssTmkN6scRMjT8z1r7MQXf9qsayQ6qEA7MzCQbM&refId=wL%2FRMpLMnaJ0PmhOiDKXgA%3D%3D&trackingId=zW0MpxhxrZI3Z0iA8iI3Lg%3D%3D&trk=flagship3_job_collections_leaf_page",
         "AI - ML",
         "WNS",
         "Noida, Uttar Pradesh, India (On-site)",
         "wns"
        ],
        [
         "https://www.linkedin.com/jobs/view/4280831022/?eBP=BUDGET_EXHAUSTED_JOB&refId=wL%2FRMpLMnaJ0PmhOiDKXgA%3D%3D&trackingId=5bOjCxntA6c0UczcZKotvg%3D%3D&trk=flagship3_job_collections_leaf_page",
         "Full Stack Engineer – AI/ML",
         "2Base Technologies",
         "Bengaluru, Karnataka, India (On-site)",
         "2base technologies"
        ],
        [
         "https://www.linkedin.com/jobs/view/4273880274/?eBP=CwEAAAGYgRQ36GdbbgjA4YX2rUBvzoOaln0-D5vjRna3N9-iZ1lnI5vikD8T-NZPb-RNb5ovwVs--4Cgx-Z5WhHJdwmvtzxKZtJ0wUjg7ROxEeNQwqXReXIDhlar7mfWyQr4-DPb_U7xgIQVWg9hJ7gOUuOoJnA_6XPxTfXWUNOexvT_qkg3ucd0hT1uotEH4__jbBJldqXDCAdFtnP0RGIZuaVrtJFw3-2bPUfwpSKdz1J5wAHDMWTz9fWTncqqgRXDxtGHUn8m8U3L5K2_ZuPtYGhDW-rx6RHVvGghxFmh9aQdBda99tX1On7D0UnOtk8xmEr3u0DEBO2cwtKzH4r6b3LcZTDZ-Z1SY_x-hohx7eZNBCzx4czuHVXzGlYn7yEJJ9p5AYvfA5IGMI9gC0IralcK7lXENnQVripR7DCjeP6tvlh8x7PYZmahvQwR3OlmcNK2LNo6tmOUp3Edka2_QLHvLGMhok6AJigGZgg9uXXChgA&refId=wL%2FRMpLMnaJ0PmhOiDKXgA%3D%3D&trackingId=MVIyF4JFHcOa6FGm47LOXg%3D%3D&trk=flagship3_job_collections_leaf_page",
         "AI Engineer",
         "Zenduty",
         "Bangalore Urban, Karnataka, India (On-site)",
         "zenduty"
        ],
        [
         "https://www.linkedin.com/jobs/view/4279273971/?eBP=CwEAAAGYgRQ36HcC61SuAcAS2snyYNEPsiAOHIsdXe4s7KF2-bICtaT3I3RK5t9J6nmjQ2dgvkjVu90zBDbxuqJZ591TrEj2J1kFtkC7C4U7mWQwCkyggpaW3KejlB17XdVk57fM2cQhHfuO8NfYCsnuDml2I8Vxy8M3QXHPvQ_x_uZ7MEcTrODfYVpgi95bpIHXbv0CdBF7a8QFbzUBBF1avK6q307hkkov3cuKvy0sF4_zOZsxxwWrPuM8b_G2AOh30zLqGXFkrCSvXybpwEQY0Y3INb6dT41DHbhtOLQvK4ydkwBTepvGKffHV500x6P3WQKHTq9VIBWIKme9LdYCr70TQ9LFleB72i8uwxFvdSXWmdj02q9Eig6wBMD8eT0ukoYP9U_6F81mSCbcgugzHXYg1RCpOf3J5jNnRpgcZAYGQXQWsdChmbStBTG9oq9TM5p57xRy1R6qCbSJIy6Lmyy91PEqt-G-NGcCNTC5XIQBe2o1uYlDzp7RXiLviz78ZpUmWsrLFBE7cI01WIKj_NM&refId=wL%2FRMpLMnaJ0PmhOiDKXgA%3D%3D&trackingId=TaayOEKtud5QcgfcEDO1%2FQ%3D%3D&trk=flagship3_job_collections_leaf_page",
         "Python Developer with Javascript and Cloud Environment",
         "Ampstek",
         "Bengaluru, Karnataka, India (On-site)",
         "ampstek"
        ],
        [
         "https://www.linkedin.com/jobs/view/4219931313/?eBP=CwEAAAGYgRQ36ETVhwHJ1MGAobk8UMYim2dc_9dihoaYx5f8WqdJY4gSSjREJF6MiQuh6uJRw3LKAaUN1SR2_6eWHnKSRuYPPfuR0piYsqNxPBt8eGS-hDo3lbJM6Ni-Kamhf-VD-muRhHj7_JOqjXXY6549a7Bdja4sX38-yiX8ppQZlJR9XSzruOsWNm88EuTpwu3JsdSYkjpkyF8QjLgNhZSA-OjMvF9IhNY7ZZbAJwm08GQsYNRg0lOrBX7LoV68qmzm4Hvnb6dp8PMb_jvJg6PiLY2IRebjvqu4NkPakDYtUnJafqEJoEhFxyhEr-xeOTiNjlPuz84rrgQxlJQkjwdCND_lBelQ50bHKt2peqPvgwmkR02s1p6KpG3goe2ib4btjom_39ZYzG8cQrtSFkaf2LlFu4vFMpFW3Sk0U5Q8xf1jehwx6q5Nd7D0VuvDSxlclhCFNBG3X4CfaXjX2iIsGBuEpigDly1mrk_HXSLGYWp03_4IERkiQ8Rec9xp23olkkHUrfgyEOG_QENAr52dKvF8&refId=wL%2FRMpLMnaJ0PmhOiDKXgA%3D%3D&trackingId=9u1%2FGL3Xr38rRkB0FsVS6Q%3D%3D&trk=flagship3_job_collections_leaf_page",
         "Software Engineer (AI / NLP / ML)",
         "Nextiva",
         "Greater Chennai Area (Hybrid)",
         "nextiva"
        ],
        [
         "https://www.linkedin.com/jobs/view/4279543215/?eBP=CwEAAAGYgRQ36UlOYVyTOZF_hYfxTDWx5r1tIRN-hCtFStUXTBJ-Z4EHYpIIstgxiA6WO1yEUNYF85Guk9ASZAm9IdzobkyrafGXWtI4d3gYAKAz7WYmcJM1oEcSF3AVnEqgnsCKC0NIa5bywNYhVvAvV7HW-Fcat9Sb3ZKozwotvE9u_QlOKaSnya9lmz9EyFm4xWqicvFDhgNIY2jtQ2C6snx8_SnKPkstorBuJoFRFC_j0kmv0AlaD9vXRILdL_OJRY1wKx07k_f4jx4tSPvTC6Q6MBjiFN4YXg5yUPzZsqsD2QbTfwGfHMXERv6fUWRq8jKREj7yC3Fke0dV8-QAEd0poJip6RHAqobjzZ_QTh32zticN6gnHLuGZ9tuc370aApQUxAVwUkQ3VQoAKnXCwMuFflqDL5-XYp3ZPlKTFvAEHPHXJZEiVWzdI0wqEPQZPtV4ZId5RtKAKVBelhDxnCNebcIrKjZ7i4VMGAGeNyQDwJ-XqOES1dW2Mbyv3uI0kb4g90xN9ePDqDGvLW3VI4jykrYY8E&refId=wL%2FRMpLMnaJ0PmhOiDKXgA%3D%3D&trackingId=SM83wi2ga4rRTDNC%2FmKhUw%3D%3D&trk=flagship3_job_collections_leaf_page",
         "Data Scientist II",
         "Talkdesk",
         "Bengaluru, Karnataka, India (On-site)",
         "talkdesk"
        ],
        [
         "https://www.linkedin.com/jobs/view/4275972625/?eBP=CwEAAAGYgRQ36fbQnx5QxkgMAUj13mmKBsQtKKOFRYaG95z9FdG-Eb53i0Oun4LOgQMgxCkif3giCM514RqQYw1ctItO7lDBskQVQayMD7G1UACKCHxv5L9PBwiTt4Y-b_T-rFOc1MEc6-Kg4q8i6JzQvUfohUrFS9ULMtxCDs_ekVGaDVohU9PWmXmT6v7C-Tx2Jg7rz91tOsRyLiLHphbQsFC-H6-1cLeLEV2X06RsxCUKhPLnNCjhRGpYWENu2E3LRzBWYqYqzRy4CHnVoKjrzFSZmX2Z8Qc4bhSWIEj3IRIk7nP96GJexOtYCmKkG6t6K2e5jZ3cMDmCreo2XuY5Sk5K2NqGmT3Q4sUTlSFkJ87fSnDKIum3DTcuFHCgS8wghD88OAZP9am4UU4VYChvChas-cyLTsmlHSaRIMVHQXOyeGQZ7xczJK1Vdy671NX8xZoSoR7qr_DXAooeiPnMqM2ymm_8WXCuVnMTLh_GBQEF1ITnWyKRIetF9UNwpj5S9AaoK1tIc3iE9ltKvC0nCMZWBdqX&refId=wL%2FRMpLMnaJ0PmhOiDKXgA%3D%3D&trackingId=pEYLZvwd3MzmQGvAnirMjg%3D%3D&trk=flagship3_job_collections_leaf_page",
         "Data Analyst",
         "Newsweek",
         "India (Remote)",
         "newsweek"
        ],
        [
         "https://www.linkedin.com/jobs/view/4277363295/?eBP=BUDGET_EXHAUSTED_JOB&refId=wL%2FRMpLMnaJ0PmhOiDKXgA%3D%3D&trackingId=2cLqtEczLm%2B40hNj6AHMRQ%3D%3D&trk=flagship3_job_collections_leaf_page",
         "AI/ML Engineer",
         "Grow Your Staff",
         "India (Remote)",
         "grow your staff"
        ],
        [
         "https://www.linkedin.com/jobs/view/4278492716/?eBP=CwEAAAGYgRRFuFBhckZrAS5VudGiS-Z0tB6oFiunIjw8tVhEnswlRRUTdJeypIBWAPL9VD9YzC8baKTQ7vEZfb5kLNtvNiJWFnrD6_V316EXy-dU190WN2b7nmyqNta8uY9e6pbPdD0-nHWMflldZMYCH2yN-2yRmGJNf86QFMpIHwnXyVxL2VwZHKea50rQnwFRrXtvgb4_x83FUe8g2qXzOFIALMiV3BFFHLWM7NlBAFnXZxTRkSW87NZX_1xkrDbJaa1AvbaVvHJhR0Rwvpon0uPoJ2w-2LN89p3FW8v8pAEyNsigMdNHtfzTlkZIN2lhT9_dSn_lLyA58k0covtGtU4CiEFDRs_dk_X_px3pyqXxfT5uHUiuNA8rYA_eNHc2wg-OLx7YOd90UnmXuzUcEYN2_PF2do5TbRcEePLImWk1ZZJujIcn_bRdaQKRPXKhs7DhdOGt5p2ygm1D3cFMVro3yvm-Ieo0gEBL7HC04Ke04u5EdMybUpwych-3xMQf3on8yO9rjyBU0oS_wash24HdnS-i&refId=yGFNBlPxF21UuzeReqTmiQ%3D%3D&trackingId=lFXT5nwZJMtcX88C4yyZDg%3D%3D&trk=flagship3_job_collections_leaf_page",
         "Data Scientist",
         "Recro",
         "Bengaluru, Karnataka, India (On-site)",
         "recro"
        ],
        [
         "https://www.linkedin.com/jobs/view/4256657158/?eBP=CwEAAAGYgRRFuPQjPdUnuXNbhSTUa3DsR2af5o5WRykksCD50bJa7vAMHr1AsnsK1SyEAbYyhzNfqCP1y8UuDJ4BVzmdvDf7nLXfOdcHvCnN24CM8VWYaGzDdt0M4X_OPsq5xRUutYRYdhJTY8vAQ0MuSp0nAuRsLg7xn6iRkvH3Znaj0dlVYAEPe6UN_e6BCIBiRBQfLE3bCAIXe8ieg_61odAtv8A_1qkPA0q1TEy8Mc_LYEarWWBovqgzDdO9j3puqSCFQuke-jNekmv6zJAfs4e04HLHGtgTcynB6KRo1fqkWmN7NqiurSeFU2l9UnAbhvd_TcEoC064bI1jsl4pKtzg_VV7hfRa49Fy6LBH07cx8dNaQwGkGFXjPtF8TWuYvCLzEuIYQN-jqVOkCkBErQLXqytsYghiqU3O5-_wL-cI51_s1ESyT8Da4lGcL9qjBWmvZBRuadY2SWwAfq3QgnPlLDmVr07HP5m8Zaab4JHQrzoo3G-379d4zac4SAX23H80ghXWI3HK6gyFdx0mhYlU-u3J&refId=yGFNBlPxF21UuzeReqTmiQ%3D%3D&trackingId=SYr7R7y0UMyI%2BmqkhBLKsQ%3D%3D&trk=flagship3_job_collections_leaf_page",
         "Machine Learning Engineer",
         "Wissen Infotech",
         "Bangalore Urban, Karnataka, India (On-site)",
         "wissen infotech"
        ],
        [
         "https://www.linkedin.com/jobs/view/4277376537/?eBP=BUDGET_EXHAUSTED_JOB&refId=yGFNBlPxF21UuzeReqTmiQ%3D%3D&trackingId=4PWmG0XS4s2zVlY8p3E7tg%3D%3D&trk=flagship3_job_collections_leaf_page",
         "Python Developer",
         "Persistent Systems",
         "Bengaluru, Karnataka, India (On-site)",
         "persistent systems"
        ],
        [
         "https://www.linkedin.com/jobs/view/4275634343/?eBP=CwEAAAGYgRRFuZpRI7CwmVXmLlcRPwNOp-7g2l_bGp9Z-pDM0WV_r-L-tvsdPTLHaEIHm5DEyOgqNw9FtDkQVKdPN4MAsJ1c3wQXsodk0TN2hJdNatxIWbhWhBeZMhznBxP_uKWVIwumKsZDCWHgczjvO3rnMhL-1cJwczKG7l18x2SBUokRyOySU3je8JE-r1JtFYoKU2ruDM6wY-Ut9_hrxZ4tpzX4BEG0MFUHYK55W2geybY4jHl3HjpNPWmJEaFIp66ITLQVqubVEZcsQ1wz8lpr_USr5i4ViJffwUAIpXLhuD7v58W44AVA0ifKsUIcsKXPry4L7bN-Gf0iOi85dHUuJ-4ekRRTZRGrnHMnaGSi9ORowZEEpWuNh1wpaSAzDgPEeEqQyuwwzb66VWJ0HwLt6mrDIQxN4BcNccY0VwZpAG2P24tX-j_gXKO4lOUz_xGdAm-QdlI9OLTJQHdUaCwaqdtguPrENTQTLixDsU1U-imps7SrKxBm8gkhLdgFQ7JNxwzejxoejcqiBB2WERRSHQnk&refId=yGFNBlPxF21UuzeReqTmiQ%3D%3D&trackingId=b8uVvbcs1fgYW95uq6InSQ%3D%3D&trk=flagship3_job_collections_leaf_page",
         "Software Engineer",
         "Concentrix Catalyst",
         "Bengaluru, Karnataka, India (On-site)",
         "concentrix catalyst"
        ],
        [
         "https://www.linkedin.com/jobs/view/4279718145/?eBP=BUDGET_EXHAUSTED_JOB&refId=yGFNBlPxF21UuzeReqTmiQ%3D%3D&trackingId=ICwxkNOd8g8NFldyhMblSw%3D%3D&trk=flagship3_job_collections_leaf_page",
         "Data Analyst",
         "Circle K",
         "Gurugram, Haryana, India",
         "circle k"
        ],
        [
         "https://www.linkedin.com/jobs/view/4273852689/?eBP=CwEAAAGYgRRFuWTQZmkwvjo62kbbCEiUr9rixhYBvlaoReGdc-Rt6Z2-n7uVDYzKhJsS5t6GTc2pnQckn769pxqp5j2a7IsFe4IIq-5_li4d27u68EOQssdjB-Ou5nZCRgoLrbP02FeUB7c0aA1ioH0ZMEqzWvobh_MWXQwZbxCzq40EtHya9vNvfdYdMxTquq5pC-xDOzn0T3Pa5iBCrlu1H3vjdJyhrx_0fzNMArsS2Pq3dwcerK43BLTBIS4MMEMqlPowVt-k4IG9-6KBp0YQr9Q-S_hzznEE-bzYHMqRyzJpuXf2GQmDchh9oIIDKcq77Udiek5iOHVEwhuBxAPm0j-994yk3YA86z9-z2i9UN2sqhShVZGAAUC8fNJBsrDJRTP5IcTEDTYCEdc0HdrL9NUMaZMBi29RTzOSzk-ovxHcdgVOu-T-gbtKZPMT9OgYJFHCr9Lsw3-L6_Cu3dVRWbn_YIsBLcbHCGT1F3SHfS3wb0c&refId=yGFNBlPxF21UuzeReqTmiQ%3D%3D&trackingId=rt2CSAjWggnS1ywmwW2JVg%3D%3D&trk=flagship3_job_collections_leaf_page",
         "Python Data Engineer",
         "Bajaj Technology Services",
         "Bengaluru, Karnataka, India (On-site)",
         "bajaj technology services"
        ],
        [
         "https://www.linkedin.com/jobs/view/4273785117/?eBP=CwEAAAGYgRRFudPLdlTej0qcCkcFCeWvR5At16WsTM0ukRyWa_6VK2icxgPY-jX4dt-OBriODZj3yT3A14g6DTJ6wUQzr3quabvzqfqJmaAxg7bs7CwYoFaAfmK2F9rxbIj9YgbpPhDYXHBfRMYMCoXuLQxT7ONvr1uWs6iHYlETCISc3Uo8tOiOs7cDJD64_NQrrIwuS-nkTlWK9FhvhVCs4rFSD15xhBn7zTS2NWLQJt5zN2Imi2Hthrv0K9Y6NnO8ECKoEGi9Vww2mvmG-zeFq6-gM_denR8yJA5jhGs-YRpei_uhWjjfkHXRRXa7QICsOLpNHK1BXa8ZHY_OSzRwngkww4F7Eln08hJxvAXvv-V2rJOIUQxbJ9rKj6_fwndvfclt7b-499v2MyBpT3wK5aay4kUb0syjwiJWejESI9NF64ADyj9XJwWPZsG1tMxz4ujepaHF_hdf5uA9wZEPamKaYHVYR-9uKMkGxlc0I84TLpfcNJNXHQJBr0HTB0LTSqjluLhzeYbmioBNelIP-TG9Bg&refId=yGFNBlPxF21UuzeReqTmiQ%3D%3D&trackingId=GfETrAnq742RlYp486M3WA%3D%3D&trk=flagship3_job_collections_leaf_page",
         "Computer Vision Engineer",
         "Droisys",
         "Noida, Uttar Pradesh, India (On-site)",
         "droisys"
        ],
        [
         "https://www.linkedin.com/jobs/view/4280324360/?eBP=NOT_ELIGIBLE_FOR_CHARGING&refId=yGFNBlPxF21UuzeReqTmiQ%3D%3D&trackingId=zzQiWE5hpNsuQgYl%2FlM0bQ%3D%3D&trk=flagship3_job_collections_leaf_page",
         "Machine Learning & NLP Engineer",
         "NSKH Tech",
         "India (Remote)",
         "nskh tech"
        ],
        [
         "https://www.linkedin.com/jobs/view/4275090921/?eBP=CwEAAAGYgRRFuSWl2n8vdOJ0Eeg-08DmlDN00Zq16HZnfs61Q494tHxpxWncjorXi-5hY1zGuRi2xshDT5WgvXNuDkI-bLavvpTZ90I39MQBfFS0edo3hVbamubNJjqXUHmtvCGqgaBtaNMVeGEwjw6vrI8vKca3MyQEx4O1Q0RJuKfHsFlA837o3dmwRGIs1cbjYgPWFU9ZcTGgUYnDUZ0mGeUmjbPneI7aapiEwF6mJNZ4r5ERgIPRmmIDUnR-1XvgSK8JiRlePRXlEcsXSg37RUR0QKSUNYdv6EC0BrFr140CXM3yX6z3nRZ7WcoBrG4rjjdYZDa0X1TPONJ2YGp7kLbvKLJ0L7uWgiJ1mv1UlHFiu9hWasSnQGOG5V-5TlQG-G6HNaXtwij2xPR8ix3X8zKTEItQTxHXDOdho_BSHfq1eN3s7lVGIYwA9Nis0rXOdpjfJKd2rT-6OwGz0L2Ip2AS2U4QV7bIsi8WysPdfp8Umsd9lOH5u4na2a8KnwDFxLAqZpMPpp7xYYpaZYPnLsy0geCa&refId=yGFNBlPxF21UuzeReqTmiQ%3D%3D&trackingId=Br%2FZKCI8YT02vm%2FjkAj4kg%3D%3D&trk=flagship3_job_collections_leaf_page",
         "Back End Developer",
         "L&T Technology Services",
         "Bengaluru, Karnataka, India (On-site)",
         "l&t technology services"
        ],
        [
         "https://www.linkedin.com/jobs/view/4226062221/?eBP=BUDGET_EXHAUSTED_JOB&refId=yGFNBlPxF21UuzeReqTmiQ%3D%3D&trackingId=ojyLpXCsM0k79YRIdDbTlg%3D%3D&trk=flagship3_job_collections_leaf_page",
         "Software development Engineer - Backend",
         "Pocket FM",
         "Bangalore Urban, Karnataka, India (Hybrid)",
         "pocket fm"
        ],
        [
         "https://www.linkedin.com/jobs/view/4280333628/?eBP=CwEAAAGYgRRFuo5lXXBHtCItiM_aHbc9JjQrLfK0r3RTSkcB3duh9POyN-Glumh_YDcIdICGpYnfwk4q-yfrTY6N0JffiGi7ek-smGvqfcdTE3QDDQMK7ks0WrPM98N6BQtkdomlvhA8dHVS1Fk2s8XImC-EC8CEz6lRSIhowiEAc1XQJew7dF1qiru-8QvrQP5NLgGHPSmoZwN0dYyCS-MYsR_3BthTZygFVPFjcf-fnTUI6FS7Uxef5G9MTRgrrHjm8zPInZMwfGJnwDRUlbn0lh7SCC0MjEWjgArHcvywXcSuTyYFRnQ_Xu_IrHQsmEayKnUDChclNdwsubXloIN-xpmbpJdPeAjUuEeAKdMKFSff6Wdsng1iqNezqkcwGvr90uCVumCm2q6dwVuvUtINgmdu8hlWUqiXo2kH9t54dHCTj8h5avkHkL3Bqphlm5AARh8dwL90UOYphpZk2eIo5wu2yT8a58aY2TSApJ0-GpBQW-_QrQ&refId=yGFNBlPxF21UuzeReqTmiQ%3D%3D&trackingId=ctnILpLXFm8h%2FfZLkoiljw%3D%3D&trk=flagship3_job_collections_leaf_page",
         "Data Scientist",
         "RevX",
         "India (Remote)",
         "revx"
        ],
        [
         "https://www.linkedin.com/jobs/view/4272010373/?eBP=BUDGET_EXHAUSTED_JOB&refId=gEkwBXWXNmtlPZoL5RoWWg%3D%3D&trackingId=uIztw1HcXagiVne2q6jWTA%3D%3D&trk=flagship3_job_collections_leaf_page",
         "Data Scientist",
         "Solytics Partners",
         "Pune, Maharashtra, India (Hybrid)",
         "solytics partners"
        ],
        [
         "https://www.linkedin.com/jobs/view/4272059799/?eBP=CwEAAAGYgRRfgiSo9pqN1be7N19pFrJSBz1TxVTDl_pu_r-lZP9QNVxxM09x4N9FncAydw4Py2IKKrxVOc5hfTlf6Um6sF7SGLAUedlj5gJTOisFu2BtTyjLY7EhXtK60rElKj0esy_4x7oxwWiOePcVj0wzFvkO3yDXRYr2PHINdwG36CMK6kK8hJAzBd4_7Pu0wI3lOJF-eUC04-rUpgka1_6hX1csODlhWNXqSe65-xH0UDg7FZSB2iWe911or7RcrO2A2mcaI51tH0NTppRZbXErr0_54dDhAjT9NTN6MEvtzw4UeOf_meErH7DBm0j9Ue-yHguGxMyp8C4plbtQb9QwteqwF2DIqs3DzBNi71Vv_WjF8pl2bDLdJFHmdYHObKiBkeupsYS25EDeKQs6If_UUA1DpYj2b8bYcWBKwdN18LFg849TENpuOYUtS22fBhsaQZU22pj1duNAYpE_ez7I6FU2qJzSFU1dUg0uBrowcM4esck2E7EZ2RUbPClz_i581ULFNdRRcCw_4FL-EaSGpH9X&refId=gEkwBXWXNmtlPZoL5RoWWg%3D%3D&trackingId=WcJQRZsZia7V4bNzLlZFEQ%3D%3D&trk=flagship3_job_collections_leaf_page",
         "Data Scientist",
         "Zensar Technologies",
         "Delhi, India (Hybrid)",
         "zensar technologies"
        ],
        [
         "https://www.linkedin.com/jobs/view/4277149208/?eBP=BUDGET_EXHAUSTED_JOB&refId=gEkwBXWXNmtlPZoL5RoWWg%3D%3D&trackingId=6%2Ff2L7e0eCC3%2FOG3rhtXDw%3D%3D&trk=flagship3_job_collections_leaf_page",
         "Gen AI Engineer",
         "immerso.ai",
         "Chennai, Tamil Nadu, India (On-site)",
         "immerso.ai"
        ],
        [
         "https://www.linkedin.com/jobs/view/4278537311/?eBP=CwEAAAGYgRRfgzqSmu8dp-VcYbCZpHBctSq-tlkX-MkIhH-ptKUeNbbt6Dctp-NtM_cQgZAc0SpauXuFNvmq4mawa1qVD2tkkEthMsELuzmOemnoM7XpeXfBS9zI5X3jk3v_h85qKPpCc7W3mn-l5ecJLNQ2gzDO2LoKZzOsXee9Q1w0no1Qd7DMAfMfdfzKlnjWvSM0cN9SKoK4CnnTm2ZFDPEQoc50dQMkruqQq4vGVy8IJVGYwf4jCK1e5vdhfQC2zNSCNkjEPbJfxaHZjR7P7JyExHQyiydSvg-GUFyyRwfhn1_-ySL1fi7PFEqUEkqHSufcCDIyPhxhMCKHVEzGlmvZubw3w4lJBGRNOKw9TT8B8rRNQG5KB8tWH2L6YGPsiSgG6Gxh-wRzeI2pzx9CC1t6Iai9esOZhgVrlKWp52rTCb8kqMEdVUvpMoWnZ38hqRzSY5jnPbwqecHUstogQosWOPVwrFWxdU1k-ji6RVadz9VQ3u1D0gZREio22q8_avzU44AKH6JAlzLQOGIjLDFMxw&refId=gEkwBXWXNmtlPZoL5RoWWg%3D%3D&trackingId=0x%2BM5XShNriPQHa2HdajqQ%3D%3D&trk=flagship3_job_collections_leaf_page",
         "Frontend Developer",
         "DotPe",
         "Gurugram, Haryana, India (On-site)",
         "dotpe"
        ],
        [
         "https://www.linkedin.com/jobs/view/4278908810/?eBP=BUDGET_EXHAUSTED_JOB&refId=gEkwBXWXNmtlPZoL5RoWWg%3D%3D&trackingId=jEEzy3XFUgZ0V%2FUtjZQViw%3D%3D&trk=flagship3_job_collections_leaf_page",
         "Frontend Developer",
         "Vettam AI",
         "India (Remote)",
         "vettam ai"
        ],
        [
         "https://www.linkedin.com/jobs/view/4277708203/?eBP=CwEAAAGYgRRfgwq-e5X5f69ME0XUyAsgBAscG4-U8w4jeslv5nmB9MnxCNWMJnBOg7KB1TcgsZp6bTvsakn5p_UsDlcqZKgL3NeHQ0qYlNHgToomkhibOZM3d48473Qoy-wkFSy9ISrbINAIv3eX2p0D9gT4MlMxGnlnMzIaYE7P1977phxVZLo_yHyweH9rJqyhPFAvrpYxX16-3P3SqaqzK7tfu-i0ojRl9AGdBxrqxpypAis4uqW_OqAUQfLbo66x7GpsdzMtDK0s5OLqY4I_CoQMuzEhoXajbzlR5sNh_VRYBZnI9tHvRbtpFBFHgJWdZBpOqoyvqfp2U4QBoo3XlhqxxdckZFBlzp3EdmbbNYH2hQTYU-Ouz_csxpzO9KhDk4_7QjdrtL_MWvGqfYLj0QMr8KN7-yFbE2N2gQg5K2UtDWP7T40wArf45aoOxwHS0lMAvA-aX2PhnMd5P11fWg3H5_C8Q_Hxa3gH445lIBIn8oEc2c-K7kB3EgfvOXPC5cC1KVjMYkep5oTs-HjYKF42dPGC&refId=gEkwBXWXNmtlPZoL5RoWWg%3D%3D&trackingId=3lDIP8vme%2FBzdPkSZwZ9tA%3D%3D&trk=flagship3_job_collections_leaf_page",
         "Python Developer",
         "Tech Mahindra",
         "Bengaluru, Karnataka, India (On-site)",
         "tech mahindra"
        ],
        [
         "https://www.linkedin.com/jobs/view/4277704619/?eBP=BUDGET_EXHAUSTED_JOB&refId=gEkwBXWXNmtlPZoL5RoWWg%3D%3D&trackingId=sfPD7JoJZaYvfeYoBH%2F4qQ%3D%3D&trk=flagship3_job_collections_leaf_page",
         "Data Engineer",
         "Randstad Enterprise",
         "India (Remote)",
         "randstad enterprise"
        ],
        [
         "https://www.linkedin.com/jobs/view/4280807474/?eBP=BUDGET_EXHAUSTED_JOB&refId=gEkwBXWXNmtlPZoL5RoWWg%3D%3D&trackingId=lb43av5HXqIJQI4QSjPnLQ%3D%3D&trk=flagship3_job_collections_leaf_page",
         "Python Developer",
         "SmartQ",
         "Bengaluru, Karnataka, India (On-site)",
         "smartq"
        ],
        [
         "https://www.linkedin.com/jobs/view/4254722984/?eBP=BUDGET_EXHAUSTED_JOB&refId=gEkwBXWXNmtlPZoL5RoWWg%3D%3D&trackingId=LDn%2BQm2hD5Uph8UR7iT0Ww%3D%3D&trk=flagship3_job_collections_leaf_page",
         "Python Developer",
         "Accolite",
         "Mumbai Metropolitan Region (Hybrid)",
         "accolite"
        ],
        [
         "https://www.linkedin.com/jobs/view/4246225855/?eBP=BUDGET_EXHAUSTED_JOB&refId=gEkwBXWXNmtlPZoL5RoWWg%3D%3D&trackingId=iu6BqIJZZdYzLneoj69J1g%3D%3D&trk=flagship3_job_collections_leaf_page",
         "Python Developer",
         "mthree",
         "Mumbai, Maharashtra, India (Hybrid)",
         "mthree"
        ],
        [
         "https://www.linkedin.com/jobs/view/4280800105/?eBP=CwEAAAGYgRRfg4EHQxXCKi9Od5r1oJUEiCPLSTvAar3zedoecmPUQmSmGU5JkEEDlavPVFIplAV0Go_NBpRJqxv0d_LBDu3nOrn8qcKzLaa_5C97iKlJzJ58EHIQeiVZbxmnN1tumBdwgXd9BnqYQz5EpwvXpc2WwrJQpxYX0n4RYk9-6EHydatalAms3HeFt4mumNNnBzsCyIWD8GtEwJFNFNbaUYTWy2waMAF7ppT5ChKmjFJMwE34Q45fSnZFK1LcGSqFrAxsKsXpQPPgTJyf3LEqI1wHVDlRPT5JUjBMdBjEW0WM5Vs8H_GYxn6ikHJz5ORcKi3Pu4V7GOhgLX43t0ND5np6KfQHWKfhozVHoQL_R1PhXFyXX_2_sJQUkvxNKu-gj7A4J6zx1osqYVyC-VM2dRS78ewhninZe3qsuLG3K5VDiiDCwkcrmAerncEkAHpOjcWu-AbScGkYwQPVIoElWS4a6MI3-mEd4dCGPsYqS0TWYA&refId=gEkwBXWXNmtlPZoL5RoWWg%3D%3D&trackingId=QJj7P%2B1mrEjhJriVkhTcqA%3D%3D&trk=flagship3_job_collections_leaf_page",
         "Data Engineer",
         "PwC Acceleration Centers",
         "Bengaluru, Karnataka, India (Hybrid)",
         "pwc acceleration centers"
        ],
        [
         "https://www.linkedin.com/jobs/view/4277691099/?eBP=CwEAAAGYgRRs1XFqVl8gKzF_KV_gzTD_jQ2gQdKXwY_x-FFTnLWm58F13ECe9-1WKQYhyhHzuo53AxL3hzabdAmnIbxy7qsGj-YLi69K6umAqnSzOoN-Vp8IakCVwfrHYI1_dU-ykFppjwhdA4geRJXuO0zs5EXrLwIuemNHvXNqwrwbLtj3-rWX7_kCSY6s_XmvCulphH9WhHN__9jbC6Lrv4gt7qIf1eAaFbWl2UPXWzwGTTvB7dH_KDPuPtRBbaGOamL-ASnGUUOYPHPM15d6fgrGOC3YdrEHPIx9t1iDMEGHnttlel7uU2VPj8mO59Z9_4t2FkGj29yv1JAb69-qFRcJX1CQXrnpEODRWGCH7ep7hI03zBJItMMu_9ujmxjzolkoYODxy5tSkjuPadmdAuuYvI03vVDRiSfaMJY0gLGyPrGSOS9xv_aMiFxSs3a4QlQQYJ87w8YgTFcOE6L6a9EXD30XeDLo9BxOC_24KiW4lCmh7WipupGANFXIrMOxHw7tqnWJ7PsDafv4BSl9K5xRnCiC&refId=C1m6O88SDPW5eGDelaudEg%3D%3D&trackingId=4C4umh3tXmrO3ES5CGvXSg%3D%3D&trk=flagship3_job_collections_leaf_page",
         "Machine Learning Engineer",
         "Bounteous",
         "Gurugram, Haryana, India (Hybrid)",
         "bounteous"
        ],
        [
         "https://www.linkedin.com/jobs/view/4273549803/?eBP=BUDGET_EXHAUSTED_JOB&refId=C1m6O88SDPW5eGDelaudEg%3D%3D&trackingId=GafBCcTcYaFonTnObRdByg%3D%3D&trk=flagship3_job_collections_leaf_page",
         "URGENT Hiring: Python Developer (LLM)",
         "AquSag Technologies",
         "India (Remote)",
         "aqusag technologies"
        ],
        [
         "https://www.linkedin.com/jobs/view/4268794618/?eBP=CwEAAAGYgRRs1iQKPF0wuM_RALmLun6TeaRpKxhzSjtUGHB_8u-X1riECl5Zt9CibTxScBCl5i9jYJtAzHhxHj2P6xmPW287itDrL5TowVTBVVY-HiUQ1Ig32Q8lu3vg7TjSX0teyR-F_DjsG8eYPXxUoq3ODHtCoTA94BR89Csm_-sfp8A0JnyUFuyc0-XUq1yZeEAitD-JnfL1F9YOiPp3EFtQWIKb2dS4MDD5jG8MOdzt1kI97apCK8gT3FFuM5QNdst8Gud1dy4jnXc17peT0oShgvQXObPL_oqdRE0SfWYzAR8geZUthsRA4X1QO4COzSmwPHQsNsGZlzdGrNcasNjkEAxBNrqQxeS2dl7M4tLJv0MhyvqaUsgj0wEQt02r3vMTD3H2Mn6ZHx8o9NT3XuGjbeTEoT50OiKsF8uN-h4NKB1WOpTXrTWJKAcjioOQfHm90qyOmPZC2D_iopAdE9zjmT5dn-KPrjLggNAr7F91d8XM_6cKAVTf8fY-pWWytf874HFyyVIE1hHXEmrj&refId=C1m6O88SDPW5eGDelaudEg%3D%3D&trackingId=iDuYn4jbqzmNGEX0wMvJBg%3D%3D&trk=flagship3_job_collections_leaf_page",
         "Machine Learning Engineer",
         "Prudent Technologies and Consulting, Inc.",
         "Hyderabad, Telangana, India (On-site)",
         "prudent technologies and consulting, inc."
        ],
        [
         "https://www.linkedin.com/jobs/view/4272058375/?eBP=CwEAAAGYgRRs1kmwP4FQawpKF8ZVBPBqGPnOvHsUaGtugj8Mju9ElH3hhotzKcCIRKURnosus1zqCejany4wqt8v1bbKVpbwRsDJG7Boe5kgV2k5Je9aT6qxXDzK1zN0CnszVMJPGdG0BEntQ3MZXBi7y9FSOh7BZUI_VijYp3t7Fu4cHcScVDBi8L9J-onuR8WfHlFuNtMNaWsNbZw_6hi9Vw1DwGF0rsfIUMsyjyFllStTJ5sST5ZjwKcPUlndIBX-RE6FVigexDWxrUvYreJWqiIFeo9Ho9iXl4KosQiXppdoTeVP3sLwM0QMhdEvJDUa-MQ94Gz4ibH6OOISs6UIza_zInITEcEyGwSqpoUD4zN8T_Rsr3_i4Md5HUhfMFQYgJ-0B0_zq7ekinZMB0UESNgGqRwSSpYmqFQ4FKzB-F5u06dHdelRWR8C7OxzYD7Q-aI-uIT3u-rRHr79K_QUX2kGmTzoMHEKszOAJxSjT82gyTs&refId=C1m6O88SDPW5eGDelaudEg%3D%3D&trackingId=5BkqcA1paT4QHC7FjQ32BA%3D%3D&trk=flagship3_job_collections_leaf_page",
         "Machine Learning Engineer",
         "Dentsu Global Services",
         "Bengaluru, Karnataka, India (Hybrid)",
         "dentsu global services"
        ],
        [
         "https://www.linkedin.com/jobs/view/4278908252/?eBP=CwEAAAGYgRRs1siMaBMJKnH_jpL9yNDwRWEA3Lq93muUB6UXwexKPNCI6kjP6bzPTRPXdQsNyjArpZpAe8dJLNpNP6JUO4V5y28xmUjcg2xD3_zYpYzZ09JmUxFdoJHqSsPgD8iRAtSKyDW-NqggAe3Q4SCeqtyM6GsSmiuqxn2jnQxnRn3fuqWQrWxswonZIalA0MB5LcblUt2Khu7oP04CGssI7ZZjD0rcK1pHHvHjThCYXpDZdfj5DusYXSJubrGKFsOFduf0CQRkBVQsltKIe91gpLYmxr9c6x-2zTRA9zlwJ2W25PjjsHOovEm6cqIHOdEHreBU1ZjfKos-FaYZUZDc4X-5rBLJCs0kQPVIJMVU1enVpn9hFmCKMHKySQcBXZgN6W_PGXxEsZjS43Gxqp7EPQYqBIU9CDNXPKO9vPMZklRCJqfMdx9OuVUGatfai3lmsFW5gTbQFIw7YI09UbTOVwgQPEUdWujrK0urBQHL6YzGkm6n02gbh6lLDdww5M6ymlDKZKYtuMpxle2HxvTSKx5y&refId=C1m6O88SDPW5eGDelaudEg%3D%3D&trackingId=MjqSX2Vx5IBnvUXw56LEKQ%3D%3D&trk=flagship3_job_collections_leaf_page",
         "Staff Engineer, Frontend React",
         "Nagarro",
         "Gurugram, Haryana, India (On-site)",
         "nagarro"
        ],
        [
         "https://www.linkedin.com/jobs/view/4279379953/?eBP=CwEAAAGYgRRs1ib1k9589ENGdSHnT_0C0JO7oEaTz2WRGOkqA1KJRpEkZ4FBih8Ezag-LC3n6tFdGpO9yQxf1wwcTLdjIT9h08I9B28yR9y4pf3HXkWxwn33lI8Mj866FLc66c6Es4UEJ3EnTFbAbYT9XZCp9UL4nWDyUPmdUTVkKieGIFJ39pZYvl-a7VW_5wxysUQ0brs7CfhcX9ZwUIfpKiB8iN-aUSPbMpzuVgjrpzCTxviqgyWlJVL0I_NRN0Ro0rGmgNIBPXQ1-dyJTtC37WdfcRUFGcRR3B6LDqVrzrQUMke7Ncs47SmqP0dIyZXy9Xk2WPU0ElWBvzBE9QtZOumWt4KyINpAbGro-6XZkTKDClV-kj1C4aATFu4720r-AykXdBCurQH2BCxoLs3yr-IZr4lSOxfgdrXUtlhxYMAdwvthSi9EfLB8ttaqPYCHqFxBhMCOJhb0mjj9FVFjOSDDybPI-9HY3ncY6pQzeondz_j2-jteEKoj8UP2vsRPrBBjLUOsNbKVVsDUiMHxIJVwdCHQjKg&refId=C1m6O88SDPW5eGDelaudEg%3D%3D&trackingId=saIeFq0%2BL%2B3qAgBWcsM7Zg%3D%3D&trk=flagship3_job_collections_leaf_page",
         "Python Developer",
         "Ascendion",
         "Gurugram, Haryana, India (Hybrid)",
         "ascendion"
        ],
        [
         "https://www.linkedin.com/jobs/view/4277564515/?eBP=CwEAAAGYgRRs1mwdzZY8KoHOJCpQPbUKGF8OBAjaCW1__-vPcjrK5VdPK6l-89wfBiYkJ79GW3jK23Ao4H_ooHGn9FwSt8K9nZZcwXmotFfTkdUK9o3q69qVhIssGi05_VVz04GNbETJysqTmlQitwz7on-dDzOkV_DGDQFgfNDA_Q_d4vXkAOATNwSd1iibuWSpBi3fk1VPlqL8On0eM4-NRgSLrGeyH6ofFryA8KanVV0ZmFiBPebsyc-KXmhUfsuiYy6vudW4tdVM2CUp9ba3GMn8kp1bbb27MGfEi7uYnBAulk7RF7GXHk2ncTUkggxrhWo1bFR6o4w1C2dDElJW-lbEO4bcq_J3huq0Bm-YqJ9e0bqQ5FS38hXiicl-IF0jLUvMI3k3L3qQRDOp8kD-KacNt1MB77qSp_W-kZthhO1IIwSZvgN8YFkwsOs9DHrHzSb1onEedSVOURdzLeJLz-pdpEpFav5cY9FsH1Qj99Xw1BKNdMQGRpV7Rh8cNrHV6YUEgUObEokfTvI5b8_yyOmLdgXP&refId=C1m6O88SDPW5eGDelaudEg%3D%3D&trackingId=xMRf0QisgKsnOZQnoSf0KA%3D%3D&trk=flagship3_job_collections_leaf_page",
         "Data Science - AI - Pharma",
         "WNS",
         "Gurgaon, Haryana, India (On-site)",
         "wns"
        ],
        [
         "https://www.linkedin.com/jobs/view/4278020681/?eBP=BUDGET_EXHAUSTED_JOB&refId=C1m6O88SDPW5eGDelaudEg%3D%3D&trackingId=cxJnqwjCtpIwDuyEgK1ynQ%3D%3D&trk=flagship3_job_collections_leaf_page",
         "Machine Learning Engineer",
         "Rail Labs",
         "Chennai, Tamil Nadu, India (On-site)",
         "rail labs"
        ],
        [
         "https://www.linkedin.com/jobs/view/4277968906/?eBP=BUDGET_EXHAUSTED_JOB&refId=C1m6O88SDPW5eGDelaudEg%3D%3D&trackingId=WFGWAYyjJXVr1XuzL1Tifw%3D%3D&trk=flagship3_job_collections_leaf_page",
         "Python Developer",
         "Leeford Healthcare Limited",
         "India (Remote)",
         "leeford healthcare limited"
        ],
        [
         "https://www.linkedin.com/jobs/view/4277177006/?eBP=CwEAAAGYgRRs1sZFhiGPUmdQ1Xie9cOYSgoCWnCbMQNtnpFZLTCL4oEP50gdFWlStM1HUVNTgkiNtymragb11JOiyVbTaozG3vuX9ifTWtLGKMJDbINe5oCVKRtAKBWJpIoR0l_CWoxOUAMjB2kMpYMPar5GjFutQw4W5T1XOEbun1eoLD3MQcpxFnGMipg2P9ughLRwAsxhw_BvOCiGaZaRokH4SE1P8sFkyzO6Lx8DsH0zdB-5jxL5Xo4KnDTQMa_Xl2fvOelyj5HCw_6yCaLs-iyfJ85mzpAL9Uch-QrZd-Nvd544UCx4zc7kncOP3Z2wTr4DxpzrapMIo0HfVVGzny0fc-JHVfYLfx9rwyhZurcBzwvkGbn0prnsQmAZsR8NSRbM-6Vm9C31CIrZBWsv2pVX-cLIHlXaQ380tKw2N-sPWxBXoqiY4xx8RpaUtNOrZtI_6vv724IEIQL2nPofCT8GoP78LHpzGs6gyPnB1x5nfPuECSl4YevBMSSaEr8T7zlnwrmLrCb5Pctuc7yMeE71gA&refId=C1m6O88SDPW5eGDelaudEg%3D%3D&trackingId=U05hy5i6WL8KY5bLYqqYBA%3D%3D&trk=flagship3_job_collections_leaf_page",
         "Python Developer",
         "Saisystems Technology",
         "India (Remote)",
         "saisystems technology"
        ],
        [
         "https://www.linkedin.com/jobs/view/4278114996/?eBP=CwEAAAGYgRRs1nkZlOslwntcuWsPFyV1pGEcInX3CPVIV2q65uRJzQQ5H9SkK_StEiKWzyFGD7HeeAS3sHLR-4NFGNYGyXTAz5nEaUAMMep9iiAn6bUbmuXogBwTACFM0qF_KEP05i0V-W2oCwF9PrdG718sV86xzJkHHxkseHXsYXSuGQn2_xtcGy6qeICpfZ8tY9kqUYWIdEXQ_qIwfpaLs_qR4Rxr_v4TVDUkKnR6Y4dBEBE2jm3XQMsQUMtbQWNncOBoat9PNnIjSwh1SP3kX0FYl85o-E0j1P41XM64eiJJ6t08v2fCZ54AXzX2QMz8Q0zzOzt-8aPNUc5Vyt4QIlGdKL1FUUa1Om3GzYYn0btpZzm8gNlOOuY0IiGojje3CC7YTnOAuxl_KM7pQR360iF5OOorjUwM86RvAb0-SXRKqCEhEecoRJNG2I7HooN58-32wkYmOIZiM4qNiUrlYstffTnkp1pwlB_reZxdqis9GkqEL9REko00WL1GkdFmtVgsgTi428vP_mNAEqjcEEfDdp2q&refId=C1m6O88SDPW5eGDelaudEg%3D%3D&trackingId=5ng2lHPScXAjNKBRiQSI6A%3D%3D&trk=flagship3_job_collections_leaf_page",
         "Associate Data Scientist",
         "Circle K",
         "Gurugram, Haryana, India",
         "circle k"
        ],
        [
         "https://www.linkedin.com/jobs/view/4265420956/?eBP=BUDGET_EXHAUSTED_JOB&refId=C1m6O88SDPW5eGDelaudEg%3D%3D&trackingId=DFJ26591hdjGjrMtvLSYiw%3D%3D&trk=flagship3_job_collections_leaf_page",
         "Machine Learning Specialist",
         "HCLTech",
         "Chennai, Tamil Nadu, India (Hybrid)",
         "hcltech"
        ],
        [
         "https://www.linkedin.com/jobs/view/4280023118/?eBP=CwEAAAGYgRRs1zpWZeynbWzwy0adFww1HlAyAqsypRccBBazJGqCKMIZLYve1_MD9IXXpUVsl50jGHXQ_UwS77GeEn52nK06drWvb1qo_J4eG4-hbo64X55mfHaY8_tT3yE95S8tGoILghFtGMD173nL7PS4bfK8PcgI2l_HcZfGhfUGdAlvljiPWMrC3qI-jjd0btBqGDuX6rDL0wSWuIx20xXTOabLOBE_g3IwyS_FU5nCNDsGfR7CXlEoIfqEtmuKUAFLXKuONKGOw77yB5zjizgmwTI9ff2KEbfO3SzeVDW1BWPPDbFWqydDJh01vUfTnesZ9TBcK0XNyRbwHgj04MSbuj4D8bq2v0ZekKU6TtAhu-xgP0ZtQ5oWHlmkII8hqHYI7MT8oZbF0tCN7jtq4NA5lvAzP7Q9mc2Zes5DUujukxZ6CZKGSl-e5NppTa-DaWmSoDQwnOBlpbdxtUpEDek5tUct2ls8ALP3rj5wianzdse2qAf-JzZ8-FQ-hLry0VuGeslECx2ySDSplKoLoS0&refId=C1m6O88SDPW5eGDelaudEg%3D%3D&trackingId=uE1IRh6xZCUR1ruJ9tuFfw%3D%3D&trk=flagship3_job_collections_leaf_page",
         "Python Developer",
         "Talentgigs",
         "Hyderabad, Telangana, India (On-site)",
         "talentgigs"
        ],
        [
         "https://www.linkedin.com/jobs/view/4280166426/?eBP=BUDGET_EXHAUSTED_JOB&refId=HU7tKKPRmoYAbhpOIfM9nw%3D%3D&trackingId=UphimbfPWaUnNdgaqHZz4w%3D%3D&trk=flagship3_job_collections_leaf_page",
         "Software Engineer",
         "Experian",
         "Hyderabad, Telangana, India (On-site)",
         "experian"
        ],
        [
         "https://www.linkedin.com/jobs/view/4262351983/?eBP=CwEAAAGYgRR6NKQe5qBXWQTiRtSRAHNQFSTEqs120-f4ef2Q2QES8zDs6xDHSD0KYT4s4qEnbIRXEhKeW7Xoz7qufbguP1KuUyOFunYcKBYUZvq07IaN2nRkybvfbSL_xGb69bAWh_5oWYbdx2BBsIXXNH1JxGCpBFj82pVTJJOaWI7CMs_pjmgihX16sKY9lnyKToqIbuiY_Eu8ncekaRwe5wx54zgTXkbcatPXV5x192cP7iISDK1-UIhoAn_BW5nzLIlBuxEnAn_0smILf0FBd8Zy_EmP1JaX97T7KBYdA31AzZO1qJJHO82U2GZF7nGjWL5fPLn241y_PX-BlQ_z6N7r2rV0uzpthKP_8uk_V1tjsf7pKyVPIkJoMXj64uJnYXLrl-x5_cJ1PBx-WSDip8gDUq1nL7JEYoVYyadDe6ndDLkd8d3_7cdUz-ZkibzrgKI3GO5Kp3VFD1C_WgnsL86PDQoZ2Zfo3O8wGhNO85LALXnSW3NecZi2VLGj0R5izsSH-j2w5X5keo4-FzAn7Za4wQ&refId=HU7tKKPRmoYAbhpOIfM9nw%3D%3D&trackingId=fsGoKTsNIqzKbPx2xnB3WQ%3D%3D&trk=flagship3_job_collections_leaf_page",
         "Senior Software Engineer",
         "LinkedIn",
         "Bengaluru, Karnataka, India (Hybrid)",
         "linkedin"
        ],
        [
         "https://www.linkedin.com/jobs/view/4280506608/?eBP=CwEAAAGYgRR6NA2r9le3XUjXz7X7V6n0o6xybexEahjhI_9_tuRvjFkkUMIkcQ0KBYj2Xu5A2uMhTnhtANGYPy4wZa5_GtoD4ARxEKdVjTU-sckYPxnHgeikfe2GWfcZ_pfWsxd6YOCH_iUoxlrzpvtdfIxTEehwtodeayMDJ7_8saDPPDpxE8hveaAGLKzvtzYkTterR65fU90cVuBcMG3g9zVNK0KDvnIrZVeb0LN7U3h9j-Ux4CJWkLR5xqBvi9_N4xbSGHI--uHve7ic_c43dO-XDXwOZ5ObaDxxGGkRnOdZ0I4NfIIvZvBy_7Jir5ftrESCxIyY1O4ROTqrOWlljylQJFmtnNKkZfBAyGFW69WG5_1JpnR8ybVKQ8T-vsSJ6_z6ciGw4XfMt8q_chyragMUp84ANlkw0UFAIxImVc76s8MO7_2MwKFJnsvUszmxZ1rbRfNDYz2FZzguU9tqLumF4CZUYWE0YeKZ3lZdcr1LHrgSInD1hU9SbWAG1OaB1rT1IsWUoXTYtBk339ys09f7OsWcnBpu6Nvz726HZfi-x_zPV7bREKdkwXiSJIg&refId=HU7tKKPRmoYAbhpOIfM9nw%3D%3D&trackingId=Rqkmx7bWRxaZfbJlkVx0Zg%3D%3D&trk=flagship3_job_collections_leaf_page",
         "Frontend Engineer",
         "PhnyX Lab",
         "Bengaluru, Karnataka, India (Hybrid)",
         "phnyx lab"
        ],
        [
         "https://www.linkedin.com/jobs/view/4278247578/?eBP=CwEAAAGYgRR6NDVlY1CSYgLTQ-LKG3slZo4n7nUvoYboawkPGpVD4XFCq0svTsM1FeDjXxQMib7dGAyyHd6E8xGYFmT01G8ifYukCagppVzOFSg5XaSnbnn3lok_3aKJMneUAiLZeiyW_Xj-KSKBM3Fz8ivVSZ48XAKLgaYnB00o2dK6Qrmj13o7mlYNO8W8HheXrnpDwc-Of2xuqSRkSQszrWoa_HNAadb2WCg8zThiilJe22R2slL9iFOHPYQzwZTWXlro9FE94Ku3prIgHn8GC06kYnM134THt8qKybBezldBchpXcBAjI1BtYbdpWek1m4MaP4Os69QaqO-smEF2zNLdNW647cYDHXlokYGUaVbbw9Mr3Ddj2Mw1ASlFIoplvOLp4_6r6-glvL8LzfX9Xy5oJoq_5jZGnqk1Ykr0g5aFZzItbxtF_yHJMh7iqSB29rrbL9-pSscAcrPW55Z6XGGga2SjwaFw2wU5jIYeFOqgPHRJMD2zMuHU2-boPqJ5zMwjfsuBkB1tPAgdL3jtdHTXT7AIhjA&refId=HU7tKKPRmoYAbhpOIfM9nw%3D%3D&trackingId=v6Lv%2BshX7eQApyk%2FDL27Zw%3D%3D&trk=flagship3_job_collections_leaf_page",
         "Data Analyst",
         "CareerUS Solutions",
         "India (Remote)",
         "careerus solutions"
        ],
        [
         "https://www.linkedin.com/jobs/view/4273593598/?eBP=BUDGET_EXHAUSTED_JOB&refId=HU7tKKPRmoYAbhpOIfM9nw%3D%3D&trackingId=6sA%2BdRcQceHdBFuZTYLqbQ%3D%3D&trk=flagship3_job_collections_leaf_page",
         "Python Developer",
         "Datum Technologies Group",
         "Bengaluru, Karnataka, India (Remote)",
         "datum technologies group"
        ],
        [
         "https://www.linkedin.com/jobs/view/4280141875/?eBP=CwEAAAGYgRR6NCZwe42hSSirH9Sz0o8RusjJYqS6izkOomHgR9MdcjawOgZ54qM87PceWtAp7xAwPHRmjQaWKS-GRwwWDvSD4T5tzSbREZbrjKceNi_08a9L113D9ZYUJL8z9wJM-jxNEfwQ5Gy90coQxMlHA8knzdWPuKpsaZj7gjm9YNfH8yk-3hb0r-rOlRC4bllJeYLMjlU7NUfvzbD0McNRoGgsO3jXLuyJqK6fCDSZk8cYERe5iA-MKPpnqAQG46dpfO6Oq_Bretj1oC7gLjo7Zg8qr_xk4ErdC7C1eymHDZzL951UA_GBzLAI6WFE50Di7F6UyrHtM0u8M3wbxnkimRnIzkS9nsWQiOwW-ONbQPyjHfzmipS7vd8GPVRyt15-0NwhyFUmMo6_e4JS6FYfnTegyRM93C4rPm-CgTvhPW4T75F47lAeuouxHTUA3PbfSQ0U6pTw9-ijjyJuNHPBwXM0M4vguC_44aFBFoDx3ps7TkZ_CNQ2r7RneKUSpg-4oMTdf71qDvbX44b_cy5bQaxiPZA&refId=HU7tKKPRmoYAbhpOIfM9nw%3D%3D&trackingId=1rjv0tcAjR%2Bku%2BxR6Cu06Q%3D%3D&trk=flagship3_job_collections_leaf_page",
         "Software Development Engineer Test",
         "Airtel Payments Bank",
         "Gurugram, Haryana, India (On-site)",
         "airtel payments bank"
        ],
        [
         "https://www.linkedin.com/jobs/view/4278062997/?eBP=CwEAAAGYgRR6NPjsud-JCM6_LEfbEy-EdUEYodoclOVyau1y8YIyD79YGll_luXVKRAlE5GuX-df0a_9RjU2Lr6VaHNWh7mrhBzQ4PeK7gwvwpj1FMDeJNuMXTjZQPT6KS_jACBktSojJJMvLg08VXmkiogliJEkdeLxRLe4n-Lybg3urosHnBtWZMVA-9LPOUXqZpxAQ7AbIKmufDCLD3TiINiIZPYbew6NnFGkaUl8JaxHb0fuATaCYvTgg-NB5KK8RChGon7xKNk3a4QEAiLldQQ6PdTxbK3bj0yGpIiZY4dh2aPkpb85F3iYwRKt3-bIp2WuBOd0ODQE4TiEvFLcPsnIrbe-zT6Uy9w85slAcdWLTc_MfhzwY-DJKiqDqGpY7-_MZ1SJam1mouq7TkEYGdx991gKAT-e0ZV31-OWwg83vHm-pe6t5ZQsyllbZcLB5eB7bMRLuRluUfPjmvVvxtRwmNvIRMnQOY_0xZm7guZ7jW-SQHPE-NlVngAtRR7Iyxgh3C4LOpcjA0QslhUJmjRXRbEF&refId=HU7tKKPRmoYAbhpOIfM9nw%3D%3D&trackingId=FRZMpeEhbcfD4ZicDPDbRg%3D%3D&trk=flagship3_job_collections_leaf_page",
         "Python Developer",
         "Datastack Technologies",
         "India (Remote)",
         "datastack technologies"
        ],
        [
         "https://www.linkedin.com/jobs/view/4278814835/?eBP=CwEAAAGYgRR6NGefh3UFupIXXCqelAz44yWcMnEBVNCb8pCq72QdpZAGlMuO7mudjuSvQiwaJv-NXzntWsRemUACEXBzC0nXaVmo7T2N3BdN1RKpHgXFfOyvdmFkdbZzC6IPW2XYLNI_xdgFVe-b6bNo8DThNYMkntw7tDgFb41irVdPR_M0sjmVQHQ9GBCM7fDjUBSOXq9wIftEGjrpVBQZCH-rjrOjGU2mOOT_1Yloma-TMMJK_sA_KgXmwYuyxJwlataRpEmKiqcuuJ80T4zEldWrpq2Q__5fDEgMDbmcrbrt6DAC8xw6LOG_0PrerW6JT-x5jdG6QlU4dBfrgk3hCdu-BZSaUqmXwohvgM5qcdC6sVllnav_fWUoWH6Vt1qkujTosZPXR7pzNxsPFR3HqfK8TGcUHJFcpt7f0z8aKrkQkkZvySV0W8nzuq-mWjSOgOgfcx0-J2yqfvJWLskAajWTXx0SEEeZ5lIrehEbPD2awPhJ-8QIYUgPCbNe7fo7U7vvzFuGyMUUzwYm5_ApsDNS9xaxKJs&refId=HU7tKKPRmoYAbhpOIfM9nw%3D%3D&trackingId=C1Hou1knVMP8LLc21f9sIQ%3D%3D&trk=flagship3_job_collections_leaf_page",
         "Python Developer",
         "Wissen Infotech",
         "Bangalore Urban, Karnataka, India (On-site)",
         "wissen infotech"
        ],
        [
         "https://www.linkedin.com/jobs/view/4274205056/?eBP=CwEAAAGYgRR6NKiilphPR2gIm7WK5LppzWHZC2QQ8QULLHpHrvWEKGPFomAPpntaBx7z6D4riLXYcjffOnca6Jtw_S9pIPMSn7qgwqXh2zKhsaZYmvPdALSoYa93VO7KEpAqi-l39p4iio4Br4CPgIsH8l3KZQsDlIda4mtJTDPdcj6cbeAaDiQ0bgjkgGT8vnDELo4bTN8egb7dOuQvraymjPmy0L_fxblAfIsl89x62mkp2iu5Gbav-cuBdtUQEzU8mgF00L119U-annqtafgvKRgYIbsF2yDa8UaMelt39y-4RB8V_7xeiOf8XBENSKWkmORzLvIGc0i_EuYwWJ5xwy65Og3F-tp_4jJN9pGTOLeXKhiD7-C9S65FU4MiqW2QFgh2RJWKe1n7q_vtjLwwKJwUtQp7M3bB8YMQu7327_CwlpTtqNerkILIr18GPjY23W482tLV5NBmbJgj9lo9ZaNtcHYAUHgEJbpFUFD8lOZc1xPPQH1e55lM1NSfIGL6O69lEZx0e8ta&refId=HU7tKKPRmoYAbhpOIfM9nw%3D%3D&trackingId=um7qcUl4GJbXXYMfJf2TrA%3D%3D&trk=flagship3_job_collections_leaf_page",
         "Software Engineering- Web",
         "Carousell Group",
         "Bengaluru, Karnataka, India (Remote)",
         "carousell group"
        ],
        [
         "https://www.linkedin.com/jobs/view/4280800394/?eBP=BUDGET_EXHAUSTED_JOB&refId=HU7tKKPRmoYAbhpOIfM9nw%3D%3D&trackingId=4Pvz7lPHap%2BuvWNHLyUg4A%3D%3D&trk=flagship3_job_collections_leaf_page",
         "GenAI Engineer",
         "TO THE NEW",
         "Noida, Uttar Pradesh, India (Hybrid)",
         "to the new"
        ],
        [
         "https://www.linkedin.com/jobs/view/4245121446/?eBP=CwEAAAGYgRR6NQ4ZuPW5NoKadsFFZ-VYhS7yKaWQJ7svFhT78q9LhJ2pePvsG8mQUMm5IN4xrQHOtqxHooQCZx3oziZJ4-E4ZLne28DqWuohIHAai1Tf1ra51iZq76X6EMKAlVdDxsc-YnIHLn0SAPvKsgStvtrttjOAUy4QxDMuKJAQ8k6wHsMSVYgf2VR4CCB4HMirLlDv_GCjMJK8_kETemf7_j6bqYZuR9vXNPqmvD4INYwdoFSaMhvmrO2JVKw7BD8_MPi8RygtjZxdxwlYfx6YDZzR55kLV2_W5AP2JCpAQCIzKI-FqWsZkH_MC-I3ZqBJKjBgQVp3YUtvhBzm7D0EvLwqHof1F7U0YeUIBt40A29xLHho9nO9SXAm1Wbz0DGYzopjiqLGWmqU4WY9L571NNxnHjt4VFCM6dFqxC_vuZrOWIepRN4biNd_uaq9rL9Ff9-ETBl7CZ_1rDySG-xdQHshaVqxEBi-W0wtAXoHQFyNIeR3sXs-7xHUWaR7jeNw-oURqvqvHiYkKHMT2rLlnPck43o&refId=HU7tKKPRmoYAbhpOIfM9nw%3D%3D&trackingId=TK35dOditK9QcPiygCvFZA%3D%3D&trk=flagship3_job_collections_leaf_page",
         "Data Engineer",
         "Centrilogic",
         "India (Remote)",
         "centrilogic"
        ],
        [
         "https://www.linkedin.com/jobs/view/4280166426/?eBP=BUDGET_EXHAUSTED_JOB&refId=HU7tKKPRmoYAbhpOIfM9nw%3D%3D&trackingId=UphimbfPWaUnNdgaqHZz4w%3D%3D&trk=flagship3_job_collections_leaf_page",
         "Software Engineer",
         "Experian",
         "Hyderabad, Telangana, India (On-site)",
         "experian"
        ],
        [
         "https://www.linkedin.com/jobs/view/4262351983/?eBP=CwEAAAGYgRR6NKQe5qBXWQTiRtSRAHNQFSTEqs120-f4ef2Q2QES8zDs6xDHSD0KYT4s4qEnbIRXEhKeW7Xoz7qufbguP1KuUyOFunYcKBYUZvq07IaN2nRkybvfbSL_xGb69bAWh_5oWYbdx2BBsIXXNH1JxGCpBFj82pVTJJOaWI7CMs_pjmgihX16sKY9lnyKToqIbuiY_Eu8ncekaRwe5wx54zgTXkbcatPXV5x192cP7iISDK1-UIhoAn_BW5nzLIlBuxEnAn_0smILf0FBd8Zy_EmP1JaX97T7KBYdA31AzZO1qJJHO82U2GZF7nGjWL5fPLn241y_PX-BlQ_z6N7r2rV0uzpthKP_8uk_V1tjsf7pKyVPIkJoMXj64uJnYXLrl-x5_cJ1PBx-WSDip8gDUq1nL7JEYoVYyadDe6ndDLkd8d3_7cdUz-ZkibzrgKI3GO5Kp3VFD1C_WgnsL86PDQoZ2Zfo3O8wGhNO85LALXnSW3NecZi2VLGj0R5izsSH-j2w5X5keo4-FzAn7Za4wQ&refId=HU7tKKPRmoYAbhpOIfM9nw%3D%3D&trackingId=fsGoKTsNIqzKbPx2xnB3WQ%3D%3D&trk=flagship3_job_collections_leaf_page",
         "Senior Software Engineer",
         "LinkedIn",
         "Bengaluru, Karnataka, India (Hybrid)",
         "linkedin"
        ],
        [
         "https://www.linkedin.com/jobs/view/4280506608/?eBP=CwEAAAGYgRR6NA2r9le3XUjXz7X7V6n0o6xybexEahjhI_9_tuRvjFkkUMIkcQ0KBYj2Xu5A2uMhTnhtANGYPy4wZa5_GtoD4ARxEKdVjTU-sckYPxnHgeikfe2GWfcZ_pfWsxd6YOCH_iUoxlrzpvtdfIxTEehwtodeayMDJ7_8saDPPDpxE8hveaAGLKzvtzYkTterR65fU90cVuBcMG3g9zVNK0KDvnIrZVeb0LN7U3h9j-Ux4CJWkLR5xqBvi9_N4xbSGHI--uHve7ic_c43dO-XDXwOZ5ObaDxxGGkRnOdZ0I4NfIIvZvBy_7Jir5ftrESCxIyY1O4ROTqrOWlljylQJFmtnNKkZfBAyGFW69WG5_1JpnR8ybVKQ8T-vsSJ6_z6ciGw4XfMt8q_chyragMUp84ANlkw0UFAIxImVc76s8MO7_2MwKFJnsvUszmxZ1rbRfNDYz2FZzguU9tqLumF4CZUYWE0YeKZ3lZdcr1LHrgSInD1hU9SbWAG1OaB1rT1IsWUoXTYtBk339ys09f7OsWcnBpu6Nvz726HZfi-x_zPV7bREKdkwXiSJIg&refId=HU7tKKPRmoYAbhpOIfM9nw%3D%3D&trackingId=Rqkmx7bWRxaZfbJlkVx0Zg%3D%3D&trk=flagship3_job_collections_leaf_page",
         "Frontend Engineer",
         "PhnyX Lab",
         "Bengaluru, Karnataka, India (Hybrid)",
         "phnyx lab"
        ],
        [
         "https://www.linkedin.com/jobs/view/4278247578/?eBP=CwEAAAGYgRR6NDVlY1CSYgLTQ-LKG3slZo4n7nUvoYboawkPGpVD4XFCq0svTsM1FeDjXxQMib7dGAyyHd6E8xGYFmT01G8ifYukCagppVzOFSg5XaSnbnn3lok_3aKJMneUAiLZeiyW_Xj-KSKBM3Fz8ivVSZ48XAKLgaYnB00o2dK6Qrmj13o7mlYNO8W8HheXrnpDwc-Of2xuqSRkSQszrWoa_HNAadb2WCg8zThiilJe22R2slL9iFOHPYQzwZTWXlro9FE94Ku3prIgHn8GC06kYnM134THt8qKybBezldBchpXcBAjI1BtYbdpWek1m4MaP4Os69QaqO-smEF2zNLdNW647cYDHXlokYGUaVbbw9Mr3Ddj2Mw1ASlFIoplvOLp4_6r6-glvL8LzfX9Xy5oJoq_5jZGnqk1Ykr0g5aFZzItbxtF_yHJMh7iqSB29rrbL9-pSscAcrPW55Z6XGGga2SjwaFw2wU5jIYeFOqgPHRJMD2zMuHU2-boPqJ5zMwjfsuBkB1tPAgdL3jtdHTXT7AIhjA&refId=HU7tKKPRmoYAbhpOIfM9nw%3D%3D&trackingId=v6Lv%2BshX7eQApyk%2FDL27Zw%3D%3D&trk=flagship3_job_collections_leaf_page",
         "Data Analyst",
         "CareerUS Solutions",
         "India (Remote)",
         "careerus solutions"
        ],
        [
         "https://www.linkedin.com/jobs/view/4273593598/?eBP=BUDGET_EXHAUSTED_JOB&refId=HU7tKKPRmoYAbhpOIfM9nw%3D%3D&trackingId=6sA%2BdRcQceHdBFuZTYLqbQ%3D%3D&trk=flagship3_job_collections_leaf_page",
         "Python Developer",
         "Datum Technologies Group",
         "Bengaluru, Karnataka, India (Remote)",
         "datum technologies group"
        ],
        [
         "https://www.linkedin.com/jobs/view/4280141875/?eBP=CwEAAAGYgRR6NCZwe42hSSirH9Sz0o8RusjJYqS6izkOomHgR9MdcjawOgZ54qM87PceWtAp7xAwPHRmjQaWKS-GRwwWDvSD4T5tzSbREZbrjKceNi_08a9L113D9ZYUJL8z9wJM-jxNEfwQ5Gy90coQxMlHA8knzdWPuKpsaZj7gjm9YNfH8yk-3hb0r-rOlRC4bllJeYLMjlU7NUfvzbD0McNRoGgsO3jXLuyJqK6fCDSZk8cYERe5iA-MKPpnqAQG46dpfO6Oq_Bretj1oC7gLjo7Zg8qr_xk4ErdC7C1eymHDZzL951UA_GBzLAI6WFE50Di7F6UyrHtM0u8M3wbxnkimRnIzkS9nsWQiOwW-ONbQPyjHfzmipS7vd8GPVRyt15-0NwhyFUmMo6_e4JS6FYfnTegyRM93C4rPm-CgTvhPW4T75F47lAeuouxHTUA3PbfSQ0U6pTw9-ijjyJuNHPBwXM0M4vguC_44aFBFoDx3ps7TkZ_CNQ2r7RneKUSpg-4oMTdf71qDvbX44b_cy5bQaxiPZA&refId=HU7tKKPRmoYAbhpOIfM9nw%3D%3D&trackingId=1rjv0tcAjR%2Bku%2BxR6Cu06Q%3D%3D&trk=flagship3_job_collections_leaf_page",
         "Software Development Engineer Test",
         "Airtel Payments Bank",
         "Gurugram, Haryana, India (On-site)",
         "airtel payments bank"
        ],
        [
         "https://www.linkedin.com/jobs/view/4278062997/?eBP=CwEAAAGYgRR6NPjsud-JCM6_LEfbEy-EdUEYodoclOVyau1y8YIyD79YGll_luXVKRAlE5GuX-df0a_9RjU2Lr6VaHNWh7mrhBzQ4PeK7gwvwpj1FMDeJNuMXTjZQPT6KS_jACBktSojJJMvLg08VXmkiogliJEkdeLxRLe4n-Lybg3urosHnBtWZMVA-9LPOUXqZpxAQ7AbIKmufDCLD3TiINiIZPYbew6NnFGkaUl8JaxHb0fuATaCYvTgg-NB5KK8RChGon7xKNk3a4QEAiLldQQ6PdTxbK3bj0yGpIiZY4dh2aPkpb85F3iYwRKt3-bIp2WuBOd0ODQE4TiEvFLcPsnIrbe-zT6Uy9w85slAcdWLTc_MfhzwY-DJKiqDqGpY7-_MZ1SJam1mouq7TkEYGdx991gKAT-e0ZV31-OWwg83vHm-pe6t5ZQsyllbZcLB5eB7bMRLuRluUfPjmvVvxtRwmNvIRMnQOY_0xZm7guZ7jW-SQHPE-NlVngAtRR7Iyxgh3C4LOpcjA0QslhUJmjRXRbEF&refId=HU7tKKPRmoYAbhpOIfM9nw%3D%3D&trackingId=FRZMpeEhbcfD4ZicDPDbRg%3D%3D&trk=flagship3_job_collections_leaf_page",
         "Python Developer",
         "Datastack Technologies",
         "India (Remote)",
         "datastack technologies"
        ],
        [
         "https://www.linkedin.com/jobs/view/4279361445/?eBP=CwEAAAGYgRR6NORvXTqamYdKMa3oFWm4INdL_Du8vD4zs7_I8EhTWgU3GEwYcTGzQiVPtiKqV2cNVjh_LVrp95TPPuTom-uEPXo2BdApc68Etx4J1pzZs_6M9HRkmzUpQPs-cxdM9X1vcv-sSeAMsIpZ-4AQ_8VU2ZmdkQ_7D8Sp0HqO38ag_2bUqNC40Rd1HCdTqpEVl2kTRO5Nfgowu7heBCWlTkdGo8SgovPoV_Orx104JJdS0x6IoXQmAvR7yHLuTK5jYnEe50Z7t-K34ZBpOYIPyZgT6eT4x3DMqls2z0OJQsKDI1M2XcXBVAJgNoI616SvcMurmc_lPP7BEyOfwnn4Cjtzgj41OplARirmeN3UjVicfLP8iBRRxxEXdrcbZn7aBh4ZsyD9mIYCnQUuWk8SAZ6DOz4V6vWl80YYrjz2kH_yQD-dJlQh398Qy1GLruM3uMHyRAxK7FwUY2_ZZ-1SQI6rmXldX8gLWoiqecVibPFtAQYFiptud5dJZM79TRe3L4cZRBAFixHeas6t2byZlqY0&refId=HU7tKKPRmoYAbhpOIfM9nw%3D%3D&trackingId=j4zt5xSJWnK%2F1Do%2Fr3AHRA%3D%3D&trk=flagship3_job_collections_leaf_page",
         "Junior Developer",
         "AAA Global",
         "Mumbai, Maharashtra, India (On-site)",
         "aaa global"
        ],
        [
         "https://www.linkedin.com/jobs/view/4278814835/?eBP=CwEAAAGYgRR6NGefh3UFupIXXCqelAz44yWcMnEBVNCb8pCq72QdpZAGlMuO7mudjuSvQiwaJv-NXzntWsRemUACEXBzC0nXaVmo7T2N3BdN1RKpHgXFfOyvdmFkdbZzC6IPW2XYLNI_xdgFVe-b6bNo8DThNYMkntw7tDgFb41irVdPR_M0sjmVQHQ9GBCM7fDjUBSOXq9wIftEGjrpVBQZCH-rjrOjGU2mOOT_1Yloma-TMMJK_sA_KgXmwYuyxJwlataRpEmKiqcuuJ80T4zEldWrpq2Q__5fDEgMDbmcrbrt6DAC8xw6LOG_0PrerW6JT-x5jdG6QlU4dBfrgk3hCdu-BZSaUqmXwohvgM5qcdC6sVllnav_fWUoWH6Vt1qkujTosZPXR7pzNxsPFR3HqfK8TGcUHJFcpt7f0z8aKrkQkkZvySV0W8nzuq-mWjSOgOgfcx0-J2yqfvJWLskAajWTXx0SEEeZ5lIrehEbPD2awPhJ-8QIYUgPCbNe7fo7U7vvzFuGyMUUzwYm5_ApsDNS9xaxKJs&refId=HU7tKKPRmoYAbhpOIfM9nw%3D%3D&trackingId=C1Hou1knVMP8LLc21f9sIQ%3D%3D&trk=flagship3_job_collections_leaf_page",
         "Python Developer",
         "Wissen Infotech",
         "Bangalore Urban, Karnataka, India (On-site)",
         "wissen infotech"
        ],
        [
         "https://www.linkedin.com/jobs/view/4274205056/?eBP=CwEAAAGYgRR6NKiilphPR2gIm7WK5LppzWHZC2QQ8QULLHpHrvWEKGPFomAPpntaBx7z6D4riLXYcjffOnca6Jtw_S9pIPMSn7qgwqXh2zKhsaZYmvPdALSoYa93VO7KEpAqi-l39p4iio4Br4CPgIsH8l3KZQsDlIda4mtJTDPdcj6cbeAaDiQ0bgjkgGT8vnDELo4bTN8egb7dOuQvraymjPmy0L_fxblAfIsl89x62mkp2iu5Gbav-cuBdtUQEzU8mgF00L119U-annqtafgvKRgYIbsF2yDa8UaMelt39y-4RB8V_7xeiOf8XBENSKWkmORzLvIGc0i_EuYwWJ5xwy65Og3F-tp_4jJN9pGTOLeXKhiD7-C9S65FU4MiqW2QFgh2RJWKe1n7q_vtjLwwKJwUtQp7M3bB8YMQu7327_CwlpTtqNerkILIr18GPjY23W482tLV5NBmbJgj9lo9ZaNtcHYAUHgEJbpFUFD8lOZc1xPPQH1e55lM1NSfIGL6O69lEZx0e8ta&refId=HU7tKKPRmoYAbhpOIfM9nw%3D%3D&trackingId=um7qcUl4GJbXXYMfJf2TrA%3D%3D&trk=flagship3_job_collections_leaf_page",
         "Software Engineering- Web",
         "Carousell Group",
         "Bengaluru, Karnataka, India (Remote)",
         "carousell group"
        ],
        [
         "https://www.linkedin.com/jobs/view/4280800394/?eBP=BUDGET_EXHAUSTED_JOB&refId=HU7tKKPRmoYAbhpOIfM9nw%3D%3D&trackingId=4Pvz7lPHap%2BuvWNHLyUg4A%3D%3D&trk=flagship3_job_collections_leaf_page",
         "GenAI Engineer",
         "TO THE NEW",
         "Noida, Uttar Pradesh, India (Hybrid)",
         "to the new"
        ],
        [
         "https://www.linkedin.com/jobs/view/4245121446/?eBP=CwEAAAGYgRR6NQ4ZuPW5NoKadsFFZ-VYhS7yKaWQJ7svFhT78q9LhJ2pePvsG8mQUMm5IN4xrQHOtqxHooQCZx3oziZJ4-E4ZLne28DqWuohIHAai1Tf1ra51iZq76X6EMKAlVdDxsc-YnIHLn0SAPvKsgStvtrttjOAUy4QxDMuKJAQ8k6wHsMSVYgf2VR4CCB4HMirLlDv_GCjMJK8_kETemf7_j6bqYZuR9vXNPqmvD4INYwdoFSaMhvmrO2JVKw7BD8_MPi8RygtjZxdxwlYfx6YDZzR55kLV2_W5AP2JCpAQCIzKI-FqWsZkH_MC-I3ZqBJKjBgQVp3YUtvhBzm7D0EvLwqHof1F7U0YeUIBt40A29xLHho9nO9SXAm1Wbz0DGYzopjiqLGWmqU4WY9L571NNxnHjt4VFCM6dFqxC_vuZrOWIepRN4biNd_uaq9rL9Ff9-ETBl7CZ_1rDySG-xdQHshaVqxEBi-W0wtAXoHQFyNIeR3sXs-7xHUWaR7jeNw-oURqvqvHiYkKHMT2rLlnPck43o&refId=HU7tKKPRmoYAbhpOIfM9nw%3D%3D&trackingId=TK35dOditK9QcPiygCvFZA%3D%3D&trk=flagship3_job_collections_leaf_page",
         "Data Engineer",
         "Centrilogic",
         "India (Remote)",
         "centrilogic"
        ],
        [
         "https://www.linkedin.com/jobs/view/4278499830/?eBP=BUDGET_EXHAUSTED_JOB&refId=IXn%2B7T6IbKlYbETu2OTZWA%3D%3D&trackingId=UStwSF1dMfSfWZerjTNxQw%3D%3D&trk=flagship3_job_collections_leaf_page",
         "Data Analyst",
         "First Screen",
         "Kochi, Kerala, India (On-site)",
         "first screen"
        ],
        [
         "https://www.linkedin.com/jobs/view/4280908957/?eBP=BUDGET_EXHAUSTED_JOB&refId=IXn%2B7T6IbKlYbETu2OTZWA%3D%3D&trackingId=1taqZsfAG7opCHSvh0%2F6WA%3D%3D&trk=flagship3_job_collections_leaf_page",
         "Python Developer",
         "PeopleLogic",
         "Bengaluru, Karnataka, India (On-site)",
         "peoplelogic"
        ],
        [
         "https://www.linkedin.com/jobs/view/4275934453/?eBP=CwEAAAGYgRSHYQlBocX1aee5Y4B47a0ilvIj3x2b4sHK_Trxdj1Jw3BI8enV2QTjqlIOpNQIVAsJbqpSRDrcA0Dl9Kc7oC6xHOhQt0mNkzspgwkD5dylunHMN1wcbxHr5AcNc062hukfcPfr5bDuS-ugLCex8-Z2qYI-gMqzj2bbuipWgoo5UCRqRfFTvEdU63wjbQff3ycroIHRft1ZYINsoebENA9Kc_ceshhTTk2mwBDe76bDYg3TxKiB8nPIY_QW9zrULf70UdDf6y5TqQoDltR7W-uIoLzKTT_fe9GyoTTkHRc9eqw_fTs6H6Y7AIZNxZMjDOZTq9QJcLZR23AD9DqvJDLIzfsqhWVD400zgV3KCzTDBm5w0cJEF0kwHkP9h86k_EXOo3kRnKII9ffaXR60l0Sj0WbSlP4x-aanmKn12SvJAJKba0DlFxMLzebBzA1QNmSJBAGSSUWpTtH-eqbiqB5oHsmRLJkVMQCV6ri5mkP-FEsKRSalNC0lClo0QuhdKBKoOZsL-v6aYdRCGamKllAF&refId=IXn%2B7T6IbKlYbETu2OTZWA%3D%3D&trackingId=IFxwCcUSZmZw4y4GsT3Klw%3D%3D&trk=flagship3_job_collections_leaf_page",
         "Data Engineer",
         "Mphasis",
         "Bengaluru, Karnataka, India (On-site)",
         "mphasis"
        ],
        [
         "https://www.linkedin.com/jobs/view/4266402388/?eBP=BUDGET_EXHAUSTED_JOB&refId=IXn%2B7T6IbKlYbETu2OTZWA%3D%3D&trackingId=wpHESDFp8IN4x8Cct1b2Bw%3D%3D&trk=flagship3_job_collections_leaf_page",
         "Machine Learning Engineer",
         "KeyValue Software Systems",
         "Kochi, Kerala, India (Hybrid)",
         "keyvalue software systems"
        ],
        [
         "https://www.linkedin.com/jobs/view/4279555995/?eBP=CwEAAAGYgRSHYRqbWacCWN9MtaPKozxcrG_Xw1f9bVNPfGcKx_1640uqBQac989WB-NyOCs3gGFhAkalH9bcZ2-zCMTkQXhRCNBsesBEheI7TT-Oykg9k8hWrYTUxCMJn-bLEZKX_0eEQZ7K2M-yWHy8pqiBrYoLMdnOGk-jv2KPToe3IE7dQ8hSO0vNikZooGbKPC6HJc495YbXwo98nonU1XjSJ2YYXKmm7MDWx8eho31ri57siS1oI82KZHJbRSZLtGJnM8oSSlzyUJU640bH9kIaQOobryFnVYgb1RbuW7v_DcqCIdZQDFCDwz5LOm9ATBn-rGk5fKU2PHhzUkLRj9XXznyDgC-5RcXkStJB5x5KbAL462i8TzTTp86Sg83gyqwtTCacswOyncGcgutji9kn_xa17A_yA7BoVtMGD6_uMY37jwyRTpOPeDuiNYItOn7CTUzPl_rTzclstcKHIYsbLb1V7traOKS9OKa5YxCTXt7c_U-yzSpWk3zMXeo1_p8-1VIrkqDTDsf2IJj9ZeuH82lc&refId=IXn%2B7T6IbKlYbETu2OTZWA%3D%3D&trackingId=3oo5CSsTOD0mKIO9wHRQuA%3D%3D&trk=flagship3_job_collections_leaf_page",
         "React with Python",
         "InfoBeans",
         "Pune, Maharashtra, India (Hybrid)",
         "infobeans"
        ],
        [
         "https://www.linkedin.com/jobs/view/4280083964/?eBP=BUDGET_EXHAUSTED_JOB&refId=IXn%2B7T6IbKlYbETu2OTZWA%3D%3D&trackingId=3H5tkO6JmBNt5S9jIp26Aw%3D%3D&trk=flagship3_job_collections_leaf_page",
         "Python Developer",
         "Darwix AI",
         "Gurugram, Haryana, India (On-site)",
         "darwix ai"
        ],
        [
         "https://www.linkedin.com/jobs/view/4258100629/?eBP=CwEAAAGYgRSHYe1sV6LWIqEQ6ru6OvzRituNgxmjAGmaaj9j3gx64NJ53CI9gA5RNOjye_DEbuHkuprb0UitVU4tZAH4p8dvZ7n1MDxAIECJOaXBYHwTJ34dP6HqrunOJ43dt2WI3ZKJMFvfplBsiIAfsNxxoI0FmzUww8JHP3BsR4XzCRwtfzBxRUoau9Zuk7A3C9m4eVRNiu_PsgWaxMCS4Hq0uiYzh2eM8tLPW8GcBYz-B6IaIb534VsAnN-yqNoaDtWeIQwBL7I-G_3AZ29WfGHZIrsDiO1IQV6mscnkroq25qUiDzn4vWsz8AikZHGrPbtKEMgWu9_tIVWcVYCIpFmrKaXepG8nJPCF9aekkkDJB6hjDrm2yguitj_i19mZyWvmd1zFdhhssn58t8-6foLCJ8YpQP3FX2r_YIz-cOje_oxYRStrqsCknDDBOxiNV5PvNQwEl0MpzsoScvokB8CDasXLDedjjRvKSrMi8ivUDF8qfT6mv3mWi6bI6gN5DKEyzOybHOuENXhfTTuV2s2s5AsxWd257Q&refId=IXn%2B7T6IbKlYbETu2OTZWA%3D%3D&trackingId=pXH%2F%2FqLfOn1BAaIoANYdJA%3D%3D&trk=flagship3_job_collections_leaf_page",
         "Geospatial Data Science Engineer",
         "Esri India",
         "Bengaluru, Karnataka, India (On-site)",
         "esri india"
        ],
        [
         "https://www.linkedin.com/jobs/view/4261958705/?eBP=CwEAAAGYgRSHYXq-2tNNLGZi3tyT7Af70M5BL5-Pi_K1HBDcKiynrFGF2e3LcpXQn7iT9HnVzOlx-CnpkI81QJIyQMjgkKxOJI3nHAozocToEZQ3fA8FM88So8qwPhkdgA0R0Z4Kn-9Pql-O5QKZyLmW6zVHMnV-RdAO6yCmmTrL1B_Y7PBA0T4fhfxdScTkIXIrurizBIEud2rMUIf2vmHsAI-LKzNL_0yF5V14BcEo2NyWgjjfOBUUwdlfTEextlrrl5QS-x8qKRmX7i53BJHaPfm_AR8LWQAwffXZBKoqNzF8VWAicfP7ywJG9OZ_V_3QJKJnAd9-FQ-6G5LCgaL9D8U6bc586b-7G72pQjMECQknRCWtw_AWiGFS7jQ-fF75OrI8CwlPPdVhet69yymUs2bNLDYS1tYfToQ3TJejpkM3IBIN6RpZU9im0l7rYGMT4__OiVU3dAw3ryMLBdzvdZORQDpRrS7pZ_5Oi7Qdqo0PJEdZRwKu9nfP3ZRvoiViaZs9vBRD627T2Z8g_WuinGmA_A&refId=IXn%2B7T6IbKlYbETu2OTZWA%3D%3D&trackingId=sgL49RdKujsj8ChiXEJl%2FA%3D%3D&trk=flagship3_job_collections_leaf_page",
         "Sr. SW Engineer - AI Engineer",
         "Roku",
         "Bengaluru, Karnataka, India (Hybrid)",
         "roku"
        ],
        [
         "https://www.linkedin.com/jobs/view/4273865227/?eBP=CwEAAAGYgRSHYS77Qsl81O2Mp7sx0AvQFNJwhMVe_nHP8JEm0Xzl6o25QUzCEIlPnhMADCBlPnKh--GCvDQkcfIhzM2VdmaI8r7HxoucbqVsg7LZVKI3857sU9_rSeJM4CdzeSxL6l8br97iIB9NDPM08DWckEDn04tpxGpR6TMjWA5OnyuZtmVEH4N_aB8wTzQblpqUjPe87M_PjUq9RdA6alw7n0YRPYcsXmtZBcEdsgVUMN_XOwC24irK9Dz3DEP95vsjGGQc5-_QipYdmqTFO9kaW5ggeuGMEDXhIk38EoPGgJKVeklPNplgNa3RShXDOEFjamaQ_xF-PW1WBjodZopHsM9XxpQXxUnI4X0hbmo3hdl-2G2W_wIr63l-LuR5s2cHmV5K_HEd832o0FkmyeEsztYOFpdaWJfNWY50MUEKZiQf4dLiKTD0YCVLo1RE49z05NvYxjt_8ELafBDjCLdsUv7Tw1RWQVXwZUD7IOxgEpYQAbrKlAuaR6QW-5BBkJqfraPycCfnOtXmsoqW9CdtWTP05mU&refId=IXn%2B7T6IbKlYbETu2OTZWA%3D%3D&trackingId=Aq9CnYYL7gA6aWgVJKkajA%3D%3D&trk=flagship3_job_collections_leaf_page",
         "Python Developer",
         "Binary Semantics Ltd.",
         "Gurugram, Haryana, India (On-site)",
         "binary semantics ltd."
        ],
        [
         "https://www.linkedin.com/jobs/view/4278056511/?eBP=CwEAAAGYgRSHYbKyK1t6aUVQpAHioJlUIGYPYPD0qZuJcA5sbG-5yJ9xXlsxCQN2bnrEeJynLuYdC4JOPRlkC5gLy7FDDbQZid1cw80_-l3nv5H07Us-DFcAL9Ef_mamod0c_ysEmpE5Vimg434q9tf8Mbz2FeIMFACwdG-r872fyRHghTCIltJPPziqdJ80MrSvA8dnJ4p6OujhcwkT44tWlkWKF5fk7mBKSavRx1s8oICg-_dHJI1wUitnIM5GFKDfbTthxUCAwDJmz47x_698X7t_wV7zMrFA4JXfVvuWpz7jbnBXvTBO7SmCJJ9p_yhmeOKHFP4qdC5yK8iNMBWiHaYgvtLs5Eo2iJkEA4dEgb3Rsfl-sDiUC4hWQrewrm_QORDlk3dw3ncVMtCzfuAFAsDrwUXsh9HDc2HrbJKxgEsMw8r_KEDWfBrBxWKA0SXOqDBGAIWMipv5zcsratuOC-6SS-1prh480ciACOu-KeD1d0U&refId=IXn%2B7T6IbKlYbETu2OTZWA%3D%3D&trackingId=al86rCGlIBzjPmyb%2FGunXA%3D%3D&trk=flagship3_job_collections_leaf_page",
         "Python Developer",
         "Relanto",
         "Bengaluru, Karnataka, India (On-site)",
         "relanto"
        ],
        [
         "https://www.linkedin.com/jobs/view/4277157799/?eBP=BUDGET_EXHAUSTED_JOB&refId=IXn%2B7T6IbKlYbETu2OTZWA%3D%3D&trackingId=ByLFrh0x2XtwoPHts9Y9%2Bw%3D%3D&trk=flagship3_job_collections_leaf_page",
         "Software Developer",
         "ZEISS India",
         "Bengaluru, Karnataka, India (Hybrid)",
         "zeiss india"
        ],
        [
         "https://www.linkedin.com/jobs/view/4280451154/?eBP=BUDGET_EXHAUSTED_JOB&refId=IXn%2B7T6IbKlYbETu2OTZWA%3D%3D&trackingId=nj834IAvHex%2F2%2FuP%2FaCGow%3D%3D&trk=flagship3_job_collections_leaf_page",
         "Data Engineer",
         "The Functionary",
         "India (Remote)",
         "the functionary"
        ],
        [
         "https://www.linkedin.com/jobs/view/4280159089/?eBP=CwEAAAGYgRShx8mFwInd5Wtz4tKo5vhxu9PGSkhnIpiguzTWBAOASPujb6-ekNUa7oOzCfK_lTshBNbz4-hF-06OQNl2o53OnOA5IX3tX9ImsVQnYl_MgsYMj5Ktfodji77y5QC8P4J531-b_Wzz8OZvLvDs1VEgzeNnRBYTvUyWzELthchmd85APr28okiNzOPXg0EmZZR1HUaZXIMIOrmQzU8LPnbLkZ42sQlt65pQUuw9Cc8EWX0YAsuR1LPF8ZRPveXvJmkh3OR5OjdYCq3cmLH6khN2O4YLqWWfdgIEPzh1RaZi7-M1bSr95-8D0cSUYxg8DjHnYA3mcZH_F-2WhgGWm-_Sg6aAV66rJ2cHHRqqOG6d6OcMeslaR2PHIJWoOWZ30TtjN8-GILlOxT8FiqQAMnAfDV7oGUP7iTyCzcKk-m2CbjqNdGHd0fLhqBIFCqEW1EGRQVxXOZ4nHhtuh0J0xy8-nm0vaV3KzCuikIAHnB1ff_YKxz63Bzi_NXKAysRshfTjZAx7F6sondmOq5y8Y3vwu8wkdQ&refId=MYPN7y%2F6AW6jfo%2Fh5tzXMA%3D%3D&trackingId=xEsgmowR87anJxv07xJlOg%3D%3D&trk=flagship3_job_collections_leaf_page",
         "Remote Data Science Analyst - 17843",
         "Turing",
         "Pune, Maharashtra, India (Remote)",
         "turing"
        ],
        [
         "https://www.linkedin.com/jobs/view/4280346453/?eBP=BUDGET_EXHAUSTED_JOB&refId=MYPN7y%2F6AW6jfo%2Fh5tzXMA%3D%3D&trackingId=wK2%2F8zTdMPzdw6rnTyll%2FQ%3D%3D&trk=flagship3_job_collections_leaf_page",
         "Computer Vision Intern Remote",
         "Bhatiyani Astute Intelligence",
         "Bengaluru, Karnataka, India (On-site)",
         "bhatiyani astute intelligence"
        ],
        [
         "https://www.linkedin.com/jobs/view/4280121497/?eBP=BUDGET_EXHAUSTED_JOB&refId=MYPN7y%2F6AW6jfo%2Fh5tzXMA%3D%3D&trackingId=A6Al2m%2F%2BYwDEgZrWC%2FiJ0g%3D%3D&trk=flagship3_job_collections_leaf_page",
         "Data Scientist (AI/ML+ Python+ regression, classification, clustering+ SQL+ Cloud )- Group Manager-Data Science",
         "WNS",
         "Bengaluru, Karnataka, India (On-site)",
         "wns"
        ],
        [
         "https://www.linkedin.com/jobs/view/4275931334/?eBP=CwEAAAGYgRShx8FqwN_v7GT2o3MfO5XqjXZ0FGHQoj4og7uSXcJIn2HiNpBvkII_Q7ImY9L1xITqw6sSMxR5JzU8tFX0lHcnYRMr7p_tGmPLi0ZDAb5NAVn8XS49IWBxcXsevucIDyNe0caqD7Q2otq0yWZxbqrEmIfBK7nOS_VmLYAkzolgTr9wX2iXjfLZAMAjA7ldb4--GBy_JIzFyOQMouNYyHBWmraVEDJOVbJ1D_uxTi4u55aCHzD8_H6hfQV1QUl51dP7ymPq_Dp-6FwklEWpUH_IU7keakb2759MLFl_yxU0tZMZ7-l6DuXO8z5_jcYbmNG51xl2qxz6I2FjFdltlcNgTuyrLR1gRedj135BgEH9qoJ7nV98Rwe89WHqgyNTD7X6tW32AGcgA8nzFVWc7vypg5DZka_Z7rMbZoZPg1preQngKsSrl64cNPEm5I8zpF9d5dX-ljiCyUIWwJvWNymDz1bi5w4jtGY-35bAN7Qum41DijhH4Hl1Y4RtiNmPMkRDg5VsOfXCraSrYSlBK28oGRhm8g&refId=MYPN7y%2F6AW6jfo%2Fh5tzXMA%3D%3D&trackingId=o%2BSADGHi7wkXwyPxEswQjg%3D%3D&trk=flagship3_job_collections_leaf_page",
         "Artificial Intelligence Engineer",
         "Grid Dynamics",
         "Bengaluru, Karnataka, India (On-site)",
         "grid dynamics"
        ],
        [
         "https://www.linkedin.com/jobs/view/4275584994/?eBP=BUDGET_EXHAUSTED_JOB&refId=MYPN7y%2F6AW6jfo%2Fh5tzXMA%3D%3D&trackingId=o2rg5nMH7ZJcKQMS8kQ22w%3D%3D&trk=flagship3_job_collections_leaf_page",
         "Python Developer",
         "HCLSoftware",
         "Pune, Maharashtra, India (On-site)",
         "hclsoftware"
        ],
        [
         "https://www.linkedin.com/jobs/view/4278123433/?eBP=CwEAAAGYgRShx3TZl56YZ6sZQvVs2waDUhC6-rqA3UnpjkiUH8LlWIxNKEueb0K3nw8sO8B-YtPwHz4oOIO70m_a4zW78NG2_gvj0et2LNfTNWOXKXaxDCWeHcAOWUcrRrBhBR5GtAfkiH8u7bm0M4iNdMoHKh2ZKO22skFrGt8QiimYwXku6N2Y-gDLAPN9w02kMW-75j1dk7FxTtMBrnzQipQfUxY8GPEYbkxGxtX8kAVpwIIgcNi5Ca_R9t7aE8pb65D7Q_1ag5WNR1Z5wu9WVuuNPVEnpJNHFPLN6yZHRMkvWlZwJSY07Q6gnkPdVZWzqd0mtljduNxBjwdN3AiVrecLmWxlYxnUzSp1I_dhIKZQgUPNlKI0p1WHfz0Skq75uBFNoVyg0-_vtjVe6ZYtQLl1VNsH0Zhgvev-qBKjCymk-yLUXhYyGaiKtM4VZUCnT80McFNPusIU1fW47VcWXGkOC7o5NWb-k_GmgXbz65B_wpyLn-MnvRbsoiEfdqJ74H3npBuhFLgp18wfEKfz8VodXaVwaOloRA&refId=MYPN7y%2F6AW6jfo%2Fh5tzXMA%3D%3D&trackingId=vo8pzKwkdxSqJBuE6x8FDA%3D%3D&trk=flagship3_job_collections_leaf_page",
         "Data Scientist",
         "Circle K",
         "Gurugram, Haryana, India",
         "circle k"
        ],
        [
         "https://www.linkedin.com/jobs/view/4272012450/?eBP=NOT_ELIGIBLE_FOR_CHARGING&refId=MYPN7y%2F6AW6jfo%2Fh5tzXMA%3D%3D&trackingId=6wdCZjJ1%2BXIG%2BhJWUqQo%2Fg%3D%3D&trk=flagship3_job_collections_leaf_page",
         "Python developer",
         "TestUnity",
         "Bengaluru, Karnataka, India (Hybrid)",
         "testunity"
        ],
        [
         "https://www.linkedin.com/jobs/view/4277501095/?eBP=CwEAAAGYgRShyNaVrCDtY-Qlsz6VMJQpihbQdzjtLC4eWhIopdDHYSz9ndUrtFoZAdcFRhKQqGOPA8bpfTSTrHf_e2dcJtVZLOXdlqECRnM4wNMragLJEPkjqQyycjDBjighwpTtGepJ_39O9aVdCB9IdCFaEA7d88oJ4C6NIwqq7zDsQWJw3MAZhJGtCWF2clhOfpDe9IB7xL9PSN4lu0xbBSlGrGGTRnS33imPvSalk2FTPzoXhHJviQqQ64kg0XmUyHagftQTkqEO9ssh0sqbfiWu8l8JoSnS5RJcBXHxjG8WOGsaLwJz6-jDKl2EXMpE2g5fY8_4uoSphNnd6KicmVnSSAM6Y6aQ6WfPJnbADJKDr1uZwLsKeh28Bc42PIUWbnuJE4KENQsBN066UyQklx5hYBZOxLxso7TpgL6m8SU4DcLvxKBMf7ioeYei-8koYchAcXMNF0mMjRPbd2xD-rAg7zZ5__W9TVFxlhmo_QnoOw_wkRoC6xTCvwusafntydV0XtLEoxqMDKZUh_RqgNycyUOz0OU&refId=MYPN7y%2F6AW6jfo%2Fh5tzXMA%3D%3D&trackingId=HELp3b62bEVrf6V4k9dGIg%3D%3D&trk=flagship3_job_collections_leaf_page",
         "Sr Python Developer",
         "Nokia",
         "Bengaluru, Karnataka, India (Hybrid)",
         "nokia"
        ],
        [
         "https://www.linkedin.com/jobs/view/4259429652/?eBP=CwEAAAGYgRShyCTm2v1zLa-TznmmKNaOcLt38Hiv-zEr5ob_DK-ejshPNlZ5Cp21eV0occQbdidT4ijq4U-2f8PuijG2Uzkp3FZIY5tJIDi69boyqzK7-khciDQSmObjt0tc7WfllFAb_Q1E65pXsRRI3CUe0ZyKYPdIEWhQ-gQ4GlNfk13_J8bVseT5xZGeeO1M3IKO4a5H9Osw9n5BcCBJspEAW8jiGgtZihJRXcVFqbOIvqeqCoeqmApD97T-9sERYnMHiC-y5pnVtzrhq5Kc02ZAlzN1dlLT0ESuW-ZM9K8d-tdsc6tlZPnc9wV4bJlK9YHVg6Iu2GUcNJRBfDzWjs03DZEhuex1SbkJQfibO-ZuBAjIBCHIsFcQCnWQG0Th4lHStqb9iKL-s8uOH_mLaDzqVBKaGHqxhr8PXq6ybC9mhvOLv1jzW6IKQgEb2QufdyTBsInhagBS6DrMqPodB5a9FrqGka6ekxNHgCPVAXyijLLUcdksQRhMjsx0Z_G8swKnKRQirYgxtFufEeb8qup74Op-HbQ&refId=MYPN7y%2F6AW6jfo%2Fh5tzXMA%3D%3D&trackingId=200YpSPF5ybsudwdVRypmQ%3D%3D&trk=flagship3_job_collections_leaf_page",
         "Full Stack Developer",
         "IDFC FIRST Bank",
         "Chennai, Tamil Nadu, India (On-site)",
         "idfc first bank"
        ],
        [
         "https://www.linkedin.com/jobs/view/4277602277/?eBP=CwEAAAGYgRShyKyNJTlmK1pfAeEswA2CFD4VSmKsdET2eKkyr-zpWwkfocl4Pi513-1ZqmWhcsNcBhOdbK-t-7-cRMOMID27yvfUIItsxFdkJJ9qXwC-wT07FzxWYu6v7lynyJdETuYZIwlS7nUeolIIt4wg7GdbpisD9E5QE8z2ZJI95qhTIEaNwfhGjp-hA4UAiVfh_bAFFFUVQseambGS4VmoutUdlBV1UhvflpKOqKzOerMM0Ra69SyS_Gn46ujefliOQ1qfkHtFo2drNouQ1TK54uKN5Q0abQ3Km9lA_4UBdrD4HRDYvuvk8aP4Bo-v_9JJ34GW6HgnIKm4wk9-_iXHBEhReN3Ie9OnSc0BNwQe9ajvKY7R0RQBdSzescg9HqOWLCEsc721Lzy3MrHBCEvg5wTeGXZ_8r40ZQWkoY3oDK7EHD-JQDvD-W5q6XCIJmCFVAkAqKT8Vj-8H0qg_WvbrzoSLhdw2Im6uMYRQpKGAbgMZrSEb142XcbE35hRW_mgku_3gQcpooFPK6o-KHqpbyJYBWuWNQ&refId=MYPN7y%2F6AW6jfo%2Fh5tzXMA%3D%3D&trackingId=4ajm2bGTGhFZwINurlyhtQ%3D%3D&trk=flagship3_job_collections_leaf_page",
         "Software Engineer",
         "Nanonets",
         "Greater Bengaluru Area (Hybrid)",
         "nanonets"
        ],
        [
         "https://www.linkedin.com/jobs/view/4250486850/?eBP=CwEAAAGYgRShyBsgTWqkc0sMGXqbaMwILYszW005WX-hc-2llOIj4THlwbg43-w4L5Dfw1r_VmYm17TsvoZtA14YSr8dEVIB3WT2VAlx55M2xNgv60okU-EEu4mRTpUv7X4wEGpHaIfqu_KUs_Xu1nNLjvMaNaLFepUqCHVSEioR6yeqnmfhMjEYhTIL913cxhKyXpzbcJuVz-ewgPSZFiX0I-8tJLE4oIhPNsNlPjdQ1ZV8ytrpzORgHkbNywznLHoMe44SMhVWLQPmbSUnhqEwgUknI2DJe6sUzn2HSTCpCCDM23UgxDbkP_-SBWMcvU4frR_eUGCmhNZhZif3iKguFMB-zsfNjyDLABITcqhdDffqYKSMTYxP44iE88HE31rOlfIaktyj9VNbIuaf1j51I06xd9OIPDZ2cGn0F9yaWmwQVm6xwJCmXJTdYJul_6SRMYq-kDwCfXE0uKbg8_UsZwJzOvMDOCbglrwl9T5TOtKtYVIsCFPZeyQUG1Veo-ml3AUvXgeWzqYDJatJExfe-JUtdvPC6XCQ0A&refId=MYPN7y%2F6AW6jfo%2Fh5tzXMA%3D%3D&trackingId=WeMUBb6LktSrAC2b%2BR4LuQ%3D%3D&trk=flagship3_job_collections_leaf_page",
         "Data Engineer",
         "PrismHR",
         "Noida, Uttar Pradesh, India (On-site)",
         "prismhr"
        ],
        [
         "https://www.linkedin.com/jobs/view/4278206174/?eBP=BUDGET_EXHAUSTED_JOB&refId=MYPN7y%2F6AW6jfo%2Fh5tzXMA%3D%3D&trackingId=kjig2QgL%2BJKE0XkT8BhdlQ%3D%3D&trk=flagship3_job_collections_leaf_page",
         "Python Developer (FastAPI)",
         "BeamX TechLabs",
         "Hyderabad, Telangana, India (On-site)",
         "beamx techlabs"
        ],
        [
         "https://www.linkedin.com/jobs/view/4272841876/?eBP=CwEAAAGYgRSu0ynzr8P8Zh_cW-9jSXjrS_qD_ijkXkQKOaQGf0LsLdHsRZ-DwPSYTysmKlljRBY8pQmO6EqQwclwqFLgnERhNAtY5gq8KhkXEYyf9uS6E4gQzCrPRYBAmKrJPKuT_r-lxUjOvG24jl8QntUfN2LObLmZTJLLNDEwMDyeU9lIlbeaAfaUSMeFYuA95ZtGGQuiB_0uVRwO80Xq6kIDCJQc22-sgWqI2bpV08dwAtw1---P4v213iEemww7xUrJ20GBHZqa0emJ6Rmw_qofG2FsopS4scFrlozbcjrjm6pJWW4ZKvBdw_YS7VSqoL-38_hL7f9J5g3Ze-rr8_JxRcJC_0GnVUeXBv8uMjQA1Hlsw2VtE8XSxyITgGXEBSodgR3ByRmtgGP3xC_2JUfwVGrsnJtC2WjynA1tISE43vUpGxk5YL4maPz_6hOPxT18iM_bsoLZ_hnW3qPqo-aT1OMI270wierN8j8DIJar3-NvhomM6otbeRHXH6eUP8ep6gje_a0QNKRml8bmvwavvfny&refId=EBSmkZioQQPAVNqYw9%2BGTw%3D%3D&trackingId=Nt7moGcXYyt1NFl6DeQTPw%3D%3D&trk=flagship3_job_collections_leaf_page",
         "AWS Data Engineer",
         "Iris Software Inc.",
         "Noida, Uttar Pradesh, India (Hybrid)",
         "iris software inc."
        ],
        [
         "https://www.linkedin.com/jobs/view/4267691249/?eBP=BUDGET_EXHAUSTED_JOB&refId=EBSmkZioQQPAVNqYw9%2BGTw%3D%3D&trackingId=jvJ8zzz7u1YO4DzFOgsNsg%3D%3D&trk=flagship3_job_collections_leaf_page",
         "Growth Data Scientist",
         "Moniepoint Group",
         "Bengaluru, Karnataka, India (Remote)",
         "moniepoint group"
        ],
        [
         "https://www.linkedin.com/jobs/view/4278747387/?eBP=CwEAAAGYgRSu0_p5cl5v3mLO6Nrj5rBUTuwsarA-ZZ3LQM6FeBFfjJo4rTuFOBqqgOc3S6Z7TaIrXTJdVGksrGkpqOyzBUFbpsbfodRTE-uoPyjoJMckbq-BT3wQ1cHUThsWJcFJLCCNHbtZR0S9gu8OLPzp0uXZoVANOPTHmzv23ev3yyR3IuJjX7Js6wvDdK_Ok9RW0hCtDH7nE5_Rzq6u0yuk7ilOqOtPJzkDA-yr3_SBI4OM_Cud2o6Vw05b7WJ1YnJNXsF2VyoxSvBAD78r6sqo7ik_wcV2KQ4dfspR7Aa5zW_Ek4MqJKiBcYOzJUv8F9xX1VbvzheHIIs4huD3sfkhwWBDifPhRyJ-U2JuuxP1GxaZheNY-oOiNfN1f6A9f9N3shITlywtzHrL360ZhSOJ7Hz7LilrZJBMToatEBnj1hh4lN46nAYJd7Cjc9g99LwJngvXz60SmTQGnQ5-ZJlc68Q68qOGCngF_58ZnKwLgFczuDGmMY-NkZm0wqiO-rVIildPN-F7_hZzh-TW3BsSG6Ux&refId=EBSmkZioQQPAVNqYw9%2BGTw%3D%3D&trackingId=aMWpnZNin2TgYCEE4diZOQ%3D%3D&trk=flagship3_job_collections_leaf_page",
         "Data Engineer",
         "Flywire",
         "Bengaluru, Karnataka, India (Hybrid)",
         "flywire"
        ],
        [
         "https://www.linkedin.com/jobs/view/4280132856/?eBP=BUDGET_EXHAUSTED_JOB&refId=EBSmkZioQQPAVNqYw9%2BGTw%3D%3D&trackingId=ngW3Yk868pVEItMSY3NA0Q%3D%3D&trk=flagship3_job_collections_leaf_page",
         "Full Stack Engineer",
         "PepsiCo",
         "Hyderabad, Telangana, India (Hybrid)",
         "pepsico"
        ],
        [
         "https://www.linkedin.com/jobs/view/4271280137/?eBP=BUDGET_EXHAUSTED_JOB&refId=EBSmkZioQQPAVNqYw9%2BGTw%3D%3D&trackingId=bdAO%2B8jQWxFPiKwb%2BtuITQ%3D%3D&trk=flagship3_job_collections_leaf_page",
         "Python Developer",
         "NAV India",
         "Jaipur, Rajasthan, India (On-site)",
         "nav india"
        ],
        [
         "https://www.linkedin.com/jobs/view/4274202231/?eBP=CwEAAAGYgRSu0yaS5y0Tlyf9xBApUYTOI7z9t7vCRy-UpuwVe8LHwLPPPSDP5usEqCvifDix2UfFfJDB5XbQjCpBXhWP2QEUX4Co9o_DtYFAVor-i_EIq0wm2Shz_tF2npe2wEBta6aXYekMlhupQgBnwLnPsWQqT2NWVsqsWdbEcD4fcleIjRQKBN6QPYTswg0WuMs0RiCeF37VanKAMQr8fD_vkC05EY9jSQPRWt7Ia93X4RYe07BDfAoOzDNKPS_x2IPWkzH7UdYg-9eZXt1hT2Xs3XCepIuIU1S6-ZgyBEnWmvFkdjQ-gnkrTB_PMzAcLir0l8JL41KqH1mzEHiPeU1w1z7E-2epjVf3A2vVLsiqAVT3MjsT0j6spbBNpzGJIZghUUjumbVt-gAlawdo-ysZPalZoTp5TQHPFWoShSD6JBTbDIlG6BuAWN_xZs802mfDtjb90aiDZ8er5qTQgelf9Rj1IGLrc8Lr3pau8M0BBnMnzHmy_w9Xn58jFItBOm1gLFUbZ6b6BFIzgETE1_JC9u2kcxtUnQ&refId=EBSmkZioQQPAVNqYw9%2BGTw%3D%3D&trackingId=jiwVMb1aegFvy%2B%2BFBpo9NQ%3D%3D&trk=flagship3_job_collections_leaf_page",
         "Python Developer",
         "Vista Applied Solutions Group Inc",
         "Bengaluru, Karnataka, India (On-site)",
         "vista applied solutions group inc"
        ],
        [
         "https://www.linkedin.com/jobs/view/4274041586/?eBP=BUDGET_EXHAUSTED_JOB&refId=EBSmkZioQQPAVNqYw9%2BGTw%3D%3D&trackingId=S4Y%2FTvkNT3bBUSG0zusF%2FQ%3D%3D&trk=flagship3_job_collections_leaf_page",
         "Data Engineer",
         "ThoughtFocus",
         "Bangalore Urban, Karnataka, India (Hybrid)",
         "thoughtfocus"
        ],
        [
         "https://www.linkedin.com/jobs/view/4278056971/?eBP=NOT_ELIGIBLE_FOR_CHARGING&refId=EBSmkZioQQPAVNqYw9%2BGTw%3D%3D&trackingId=tL0tOK7WsLfWzkrArNyvwQ%3D%3D&trk=flagship3_job_collections_leaf_page",
         "Python Developer",
         "Prometteur Solutions Pvt. Ltd.",
         "Mulshi, Maharashtra, India (On-site)",
         "prometteur solutions pvt. ltd."
        ],
        [
         "https://www.linkedin.com/jobs/view/4278053425/?eBP=CwEAAAGYgRSu1JdlAnupeNTWOdazeBSeU8sxuLlcsHSgon2rNXsn2NvNBEF_-CKKsPUW5pVnXEFlQX5NspJzCJXXOeEhXU056x63pBZkq9veyp49TKSoq0Ntjtkga9QZogZUeGyAXARlBDY-uzdhOHDZO3R0TQ15PVTTerJ-0iLYIwcpTJz5GGFibUvm8dBAogl1zKcUuNFLW_AfWfbQfFQMix8uvJSactJ5iStb4cHz5dSnuT1J1S6Z5HbGm0kFLl2PjqT1oBLjkp8cpWwYU9ttuc3WqHRzYIi2GLAA9ITusOeHZN_EnA4ptz-0jaLTIp2rMhPi0L8R2Ax3ED02oGckv0z6hKZ2hQYVddWBEEPX__CabULQ09DB9yIpv-avZkEoVEaFlbfB5uZGTTiorUI0eo-CpdV0koEQ8rpdM2aNjZHsujK0s5Slw0Ag-3YZxHDeMMhC0C1lnG-oUFeMe5K-fmJw18joX3YEIlbv6bH1aLZnQfA3yKIt_H2WezN6gUiHrzg8z_MS7g3AcINptRSW0lSgVl6LPn4qew&refId=EBSmkZioQQPAVNqYw9%2BGTw%3D%3D&trackingId=yIrVVI4nggaCSczQpcSVfA%3D%3D&trk=flagship3_job_collections_leaf_page",
         "Python Developer",
         "NIIT",
         "Gurugram, Haryana, India (On-site)",
         "niit"
        ],
        [
         "https://www.linkedin.com/jobs/view/4266230981/?eBP=BUDGET_EXHAUSTED_JOB&refId=EBSmkZioQQPAVNqYw9%2BGTw%3D%3D&trackingId=SAUSa3RE1GC3zL4q5zM5aw%3D%3D&trk=flagship3_job_collections_leaf_page",
         "Lead - Data Analytics",
         "Freshworks",
         "Bengaluru, Karnataka, India (On-site)",
         "freshworks"
        ],
        [
         "https://www.linkedin.com/jobs/view/4277616307/?eBP=CwEAAAGYgRSu1OciLGpKKAU34yDQCFpmdP9i-d7AFG8kAQYoawBXq0-Wz4gW39Alnen7imlNrXWBA_hbYAPYX4AwNRpLIw8ETriJmMJQiZwQhP4tTzBHej7b6Cbt82AHjcw9ay4cp5qmmWf8YOXomY0PcZaQc-rdi8SYeX_yjZDHLCB8EIObMHyT7zxFL0Pt_rXoSKDZMppSsGXnOtI7WpF5Vc254-lGLQllbsNbstcgLQcbPNB7yBN15fgsLSTKyAjlqXjBkqBhz2zSL3hP09s_nwHLsq_UKm1xxxNYlbBZKKlv6HV5DkAzAQpdCp3eZ55QdESTw6pa509xdX4evMiTVfN9WUJfxCvbvAQHMHQOZjTk5AoYdib3N5q5mKTUV40K0vNxowotLUnLa-nq0iQOJI98sg3vme94eXmYwhOnXLeLvCUApZMX-Ni1d6U&refId=EBSmkZioQQPAVNqYw9%2BGTw%3D%3D&trackingId=u36Ji%2BX3P%2FKdP%2FWPadPnTg%3D%3D&trk=flagship3_job_collections_leaf_page",
         "Associate QA Engineer",
         "Cendyn",
         "Hyderabad, Telangana, India (Hybrid)",
         "cendyn"
        ]
       ],
       "datasetInfos": [],
       "dbfsResultPath": null,
       "isJsonSchema": true,
       "metadata": {},
       "overflow": false,
       "plotOptions": {
        "customPlotOptions": {},
        "displayType": "table",
        "pivotAggregation": null,
        "pivotColumns": null,
        "xColumns": null,
        "yColumns": null
       },
       "removedWidgets": [],
       "schema": [
        {
         "metadata": "{}",
         "name": "job_url",
         "type": "\"string\""
        },
        {
         "metadata": "{}",
         "name": "job_details",
         "type": "\"string\""
        },
        {
         "metadata": "{}",
         "name": "company",
         "type": "\"string\""
        },
        {
         "metadata": "{}",
         "name": "location_details",
         "type": "\"string\""
        },
        {
         "metadata": "{}",
         "name": "company_clean",
         "type": "\"string\""
        }
       ],
       "type": "table"
      }
     },
     "output_type": "display_data"
    }
   ],
   "source": [
    "from pyspark.sql.functions import lower, trim\n",
    "\n",
    "df_transformed = df_jobs.withColumn(\"company_clean\", trim(lower(col(\"company\"))))\n",
    "display(df_transformed)"
   ]
  },
  {
   "cell_type": "code",
   "execution_count": 0,
   "metadata": {
    "application/vnd.databricks.v1+cell": {
     "cellMetadata": {
      "byteLimit": 2048000,
      "rowLimit": 10000
     },
     "inputWidgets": {},
     "nuid": "c0ccd307-f90e-4e85-9a0c-60c5c10ee99b",
     "showTitle": false,
     "tableResultSettingsMap": {},
     "title": ""
    }
   },
   "outputs": [
    {
     "output_type": "display_data",
     "data": {
      "text/html": [
       "<style scoped>\n",
       "  .table-result-container {\n",
       "    max-height: 300px;\n",
       "    overflow: auto;\n",
       "  }\n",
       "  table, th, td {\n",
       "    border: 1px solid black;\n",
       "    border-collapse: collapse;\n",
       "  }\n",
       "  th, td {\n",
       "    padding: 5px;\n",
       "  }\n",
       "  th {\n",
       "    text-align: left;\n",
       "  }\n",
       "</style><div class='table-result-container'><table class='table-result'><thead style='background-color: white'><tr><th>job_url</th><th>job_details</th><th>company</th><th>location_details</th><th>company_clean</th><th>city</th><th>job_type</th></tr></thead><tbody><tr><td>https://www.linkedin.com/jobs/view/4277353126/?eBP=CwEAAAGYgRNcby_KMfZuM7o_bhgQ0uek5G8LIz3U7hjMncVVugI0W2_2x-lIQOk63MgV0pFj1MjE7HhaGb99RkLXZd7jc6H1r_q9un6ncxydzB4Zy4dvHyAMjBZusDk3BCMZXk6r9wePxGnPxBK6dsD_W2mnEKr3amupMQkiN3XZnOFFNNapGVk8qdkqTs0IAI_GeSbrH7zGtVWwYH6tXDFc27dAMFMF2a6J4ilRCR6xI7wl-bnmqR5plOLIXvROJcPcb4SEFZZYlH23vHwdNScpsPGI9Mo916ZU5ALO1qNqiqvKmo51EY2q6fT-5JM1Le5sgtVHSsi5njSw4f2kpL0fyUxR0TUd_ZMhrqCnSG5Kazaq7YI9f6mWYHAifiN_9F1GrdCMA54q9amRH6-AyDbsaL6ADQdVADtsG9iTYgiXgfkrd8sIwiRqXuDridZ34T7CKI_moz3IUU_2uFkqnLIxb8JZ4Z1mOexrhF65qQ6ZrdPpaGrubzWyhnwg9LegBFWPXreSmumgQ3yudbUw7lKA7yf50w&refId=VTdxZjP6Td02BrgNGEyD5A%3D%3D&trackingId=0ZNpZStGR73FRjLBjitcjg%3D%3D&trk=flagship3_job_collections_leaf_page</td><td>Data scientist- Python- AI/ML GEN AI- Across india</td><td>Capgemini Engineering</td><td>Mumbai, Maharashtra, India (Hybrid)</td><td>capgemini engineering</td><td>Mumbai</td><td>Hybrid</td></tr><tr><td>https://www.linkedin.com/jobs/view/4279260172/?eBP=CwEAAAGYgRNcb2s1qwNtsjoHmBzkZDTfCaIKh4_KcJSW4K5JiGezWlAfSSyLqmqvwEafp0lfK62lGPaszLMuoV1OfHtTiORVAuYwAHvPaZDfL9IxslYvQCgpzQkOvgQn0XY8fm7aSZUuxoz7k7Yc7Lw8BeQ_1F32c10tfeAI-D4CeQhRLnRQBWyyE93S3Pu49_0uyTWM5jVFVUCLPlznkBnUNWydS41ETB_Uo7UraHzR7AcVTBhfZVXxOnND5xaN_rHwAOIR4G2PhIMccU0Xu0o12TqGbUIcmY4R4ecX4uuUmV7S0rJRHU4Y_3LRmfobxeU4olIHHRLzrplIj0vhltiH9ZzHjaBUXZLnl-F-bXK1wDrsKcDaXndTmPDVaAR_y7705p4W04jw3zL90AJC2sOfY3_gua9nr9LNtNp4jInWiQur_pibVwKWpYS7Bpzxe0aPZ3g7RnI4na45YjYWRaqT9qUpQ48A9EOl472r-QKDOLnE4hiNvo309xdSfc-fN0641ulh-irR-8fQPyiA85JS-MGCHHb3&refId=VTdxZjP6Td02BrgNGEyD5A%3D%3D&trackingId=DFyDIfGzjUfLe4OLD7lvgQ%3D%3D&trk=flagship3_job_collections_leaf_page</td><td>Junior Data Scientist</td><td>AB InBev GCC India</td><td>Bengaluru, Karnataka, India (On-site)</td><td>ab inbev gcc india</td><td>Bengaluru</td><td>On-site</td></tr><tr><td>https://www.linkedin.com/jobs/view/4277908502/?eBP=NOT_ELIGIBLE_FOR_CHARGING&refId=VTdxZjP6Td02BrgNGEyD5A%3D%3D&trackingId=wd9LH%2B3Su9OdfoKJvC6W6Q%3D%3D&trk=flagship3_job_collections_leaf_page</td><td>AI ML Intern</td><td>Hubnex Labs</td><td>India (Remote)</td><td>hubnex labs</td><td>India (Remote)</td><td>Remote</td></tr><tr><td>https://www.linkedin.com/jobs/view/4280550072/?eBP=BUDGET_EXHAUSTED_JOB&refId=VTdxZjP6Td02BrgNGEyD5A%3D%3D&trackingId=Ffe%2FR0gnvKjESBdjFIr30A%3D%3D&trk=flagship3_job_collections_leaf_page</td><td>AI Engineering Internship</td><td>Deep Learning Titans</td><td>Bengaluru, Karnataka, India (Remote)</td><td>deep learning titans</td><td>Bengaluru</td><td>Remote</td></tr><tr><td>https://www.linkedin.com/jobs/view/4216659912/?eBP=CwEAAAGYgRNcb7pUVP4u1ndn0ccV-twoDKQpJgzTyFXjquRaqv9YuqDQZUCU45geb-XqNGUhWk2Wa_HxKSjnD0-THpdrzhsQUfpW7l_bR0NrPt7usu5ESbW4P_Ir5Zn2vOah5YPpj6pmUn6XRg58awc94KFovwd6s1aQps8SFuD-2K0YiyNRZe4GtITl9PL-vqqPJZ0DjkdoGpB8enCloNl16jPlUJQuLOqmbgz82Ger8j9uD6yG0Ed0O_pT2zqrhe5vKbeSsicsWej7xA-zmKWxKMW5g9jVUCCACej2rXoqJXlhpCWWFnhlvHunaIFL4U6bY1cr1_H0P6C63_a4gsFrrnvbzqk4xruhemFXZ01c0UoZz59IvX0zy81w9GU5m45E7vf1zrix-zphjYUpFFcBM0o4VnIEeVKGSUiLvueXSVsT-VOf8G88bRZX_7QRNBLu0w3Atq8WjuBgx7-5pvOyNIyvNF96Q2iZoIBmL-6KRWF3UWu1Qc62P_FRZBzoxjEgVozczLPlgnh10st-Vf9XdZuiQD6I&refId=VTdxZjP6Td02BrgNGEyD5A%3D%3D&trackingId=DBYgLD94oNPi0dzDo%2F0TOw%3D%3D&trk=flagship3_job_collections_leaf_page</td><td>Gen AI Researcher</td><td>HCLTech</td><td>Bengaluru, Karnataka, India (On-site)</td><td>hcltech</td><td>Bengaluru</td><td>On-site</td></tr><tr><td>https://www.linkedin.com/jobs/view/4274222266/?eBP=BUDGET_EXHAUSTED_JOB&refId=VTdxZjP6Td02BrgNGEyD5A%3D%3D&trackingId=bfRBbJuyo7u9QHzDgWM%2BAQ%3D%3D&trk=flagship3_job_collections_leaf_page</td><td>Data Analyst I</td><td>Navi</td><td>Bengaluru, Karnataka, India (On-site)</td><td>navi</td><td>Bengaluru</td><td>On-site</td></tr><tr><td>https://www.linkedin.com/jobs/view/4277354782/?eBP=BUDGET_EXHAUSTED_JOB&refId=VTdxZjP6Td02BrgNGEyD5A%3D%3D&trackingId=a62Q7extgMqaT9qRq4geaw%3D%3D&trk=flagship3_job_collections_leaf_page</td><td>Junior Data Analyst</td><td>The Guide</td><td>India (Remote)</td><td>the guide</td><td>India (Remote)</td><td>Remote</td></tr><tr><td>https://www.linkedin.com/jobs/view/4280144071/?eBP=BUDGET_EXHAUSTED_JOB&refId=VTdxZjP6Td02BrgNGEyD5A%3D%3D&trackingId=vgkb%2B2Cf%2FIrsrTqwqKQsDw%3D%3D&trk=flagship3_job_collections_leaf_page</td><td>Python Developer</td><td>LTIMindtree</td><td>India (Remote)</td><td>ltimindtree</td><td>India (Remote)</td><td>Remote</td></tr><tr><td>https://www.linkedin.com/jobs/view/4279278278/?eBP=BUDGET_EXHAUSTED_JOB&refId=VTdxZjP6Td02BrgNGEyD5A%3D%3D&trackingId=uYbbAZHlkuRTf55jYHMLyA%3D%3D&trk=flagship3_job_collections_leaf_page</td><td>Machine Learning Engineer</td><td>Tecnotree Corporation</td><td>Bengaluru, Karnataka, India (Hybrid)</td><td>tecnotree corporation</td><td>Bengaluru</td><td>Hybrid</td></tr><tr><td>https://www.linkedin.com/jobs/view/4274305695/?eBP=BUDGET_EXHAUSTED_JOB&refId=VTdxZjP6Td02BrgNGEyD5A%3D%3D&trackingId=fJC15olWXCub2haFX3DtcQ%3D%3D&trk=flagship3_job_collections_leaf_page</td><td>Associate AI Developer (Remote | Flexible Hours)</td><td>Pravartan</td><td>India (Remote)</td><td>pravartan</td><td>India (Remote)</td><td>Remote</td></tr><tr><td>https://www.linkedin.com/jobs/view/4279997390/?eBP=BUDGET_EXHAUSTED_JOB&refId=VTdxZjP6Td02BrgNGEyD5A%3D%3D&trackingId=2j8NIR5PQefhdtHQD1wuRA%3D%3D&trk=flagship3_job_collections_leaf_page</td><td>SQL or Python Developer</td><td>HRM Counsel Private Limited</td><td>India (Remote)</td><td>hrm counsel private limited</td><td>India (Remote)</td><td>Remote</td></tr><tr><td>https://www.linkedin.com/jobs/view/4275952439/?eBP=CwEAAAGYgRNpqyHT-WEjS04882Hj9u_yQpEwLAaYqLnkdpMaPI9Wg_Iac36A6p4Iy5bk6RvUNHk3JMh-ZWrIgs3JGFsSjhzAJfdaO0TjVLErO5QWcqIf4HufnKC_roMTu5pGpBSArCNMXcv8UNVlq8vThrmfV7w8jFj-ZB55PsRH_zEy-24RWZ2cKLvbT5eRQG93R6k1m2wGEOo_eRpp5D6-HBqlYEIW5hjAX3tuPVmlSXCWgV6Lo4o-XUXmqJ9AHM_7lToHxLOBsJhvlBQ9TnJzBOuf6JshVnchADnj9ad9eQoS1MClf7ih7S6_UX9dpk9zYmDGeK9HDi54BpF5Q7Y3Yo0bshd2V7-tXh4RxADm-jdoXodWc5nImV6a9j2iB-3yGFXqnYCa3zx3dY8aCXMpA1dTt8mJl97f3f-GKaOTE5GGDpMV7Z3SgEN1SAFU0sKWpTOwIXQIBKNUqWALq53mqeRaAsxeJGKverevXxhdbT28cnx2iPaNVF0OYFPcczgDZrnYEScrKstcClOdakatOKg&refId=jnPkbUaJgtXfmJknzztCHw%3D%3D&trackingId=IiWTfDrqeLuyzXP8wDIhqw%3D%3D&trk=flagship3_job_collections_leaf_page</td><td>Data Scientist</td><td>AB InBev GCC India</td><td>Bengaluru, Karnataka, India (On-site)</td><td>ab inbev gcc india</td><td>Bengaluru</td><td>On-site</td></tr><tr><td>https://www.linkedin.com/jobs/view/4280156304/?eBP=BUDGET_EXHAUSTED_JOB&refId=jnPkbUaJgtXfmJknzztCHw%3D%3D&trackingId=T9T6O7mFfNe749lbQNoeDg%3D%3D&trk=flagship3_job_collections_leaf_page</td><td>Remote Data Science Analyst - 17843</td><td>Turing</td><td>Bengaluru, Karnataka, India (Remote)</td><td>turing</td><td>Bengaluru</td><td>Remote</td></tr><tr><td>https://www.linkedin.com/jobs/view/4279597899/?eBP=CwEAAAGYgRNprJ7uURE3YHs3KKePwQuCG8SmvwHcI_C6zS1vfVzTIlh3hVa-7bMfEI1B9UwC7e9Da8XXaMFzqUbr9zPz4jPIGApqqrNgVyiNfbuoe0HxY0MlYkBepQ1urxIgdNGl2n7N3SeqazdpmHml7iGKSgUt9_a0DJsU2OJK34RkUh1mMPa-_gmSCm0xuV1G7HTWbJOzEgmyAWd3Z_OjmoA78v_6ZJcv5SMclsmOWK7_hFBIHR9vSRp3DNdCVaNRha2aXirFv7A7PyRv7q1f5vak_-miarZNCZvOHdhK4YE9rxO6knO_sI2KQsFRvy2_TuhQy9Fin8FQlSoE4BAnJIfgmy-BkPoQOx4uSKqCJLvdFfZw1hq2kdbB_3FUnmVb-r_2XPXp47tx2CRET3eFmvHNl6ObAAb6CP0lKZI-vJBdaFmFi-wN0LL4lahTkEDF517_pEmHYhpy813BsCRwAqIENxWYnmv_r_OptZvmwCIz8k8dTtIdFkzj2LpQuIg8d1GZ4CMNQ8ALEOhx0BrxOHICwg&refId=jnPkbUaJgtXfmJknzztCHw%3D%3D&trackingId=OT6kt4M4ESPfkhyKrDQVVg%3D%3D&trk=flagship3_job_collections_leaf_page</td><td>3D Computer Vision Intern</td><td>Sony Research India</td><td>India (Remote)</td><td>sony research india</td><td>India (Remote)</td><td>Remote</td></tr><tr><td>https://www.linkedin.com/jobs/view/4272868090/?eBP=CwEAAAGYgRNprBnKCDkS6HutgFZAHbFwjKz_mxCDEc4DKsm5ldmrH_iDFPLDdoU98OPfsrmNBwXZFaDOl2MnBgUyLPUUOO_99W-KWbJaX7NqjBxrBROEtcQ0AxIgfeUwyW8IzabHyjMr42UdHpaIOVpk4LJrvaoeDprmYBucBryTmpAZ7QzkaBikcu1uoUvg82-2uxhZkis7JFEDH0DvS911eFRO_M1gZJSPfJlzuphp5g10GaDtX5HCoaQKZHE3KY_y2Hg0nPrW40tn2gthsxhHxek36o_danT5zIX6eSVrHt3cr1pSu2-kY0qOIhOrzaKgeDTgIsn7LzndfvgSaFiZLvmQoZfjNICSjuNYn_XJ782wxIyMg_OYYXcFqc-dOP35hvsSsk-jH_pnXgoGNA2wLYh2uyUuPm7sq4mo5hmGszOxZMAQ7PXkyP8BVo9ewOC4KHHboyJ5DQ9n2Jp8pC-nVmFy75IYkm3hehPZJLiPx0JSEU-VvxrHlXugCxT1NbNqiYZrUB5AK97EdmBgd9S8gj6_1Q87&refId=jnPkbUaJgtXfmJknzztCHw%3D%3D&trackingId=m4W7sy9k9qaPNDo71rpXpg%3D%3D&trk=flagship3_job_collections_leaf_page</td><td>Machine Learning Engineer</td><td>Capgemini</td><td>Bengaluru, Karnataka, India (Hybrid)</td><td>capgemini</td><td>Bengaluru</td><td>Hybrid</td></tr><tr><td>https://www.linkedin.com/jobs/view/4280599999/?eBP=BUDGET_EXHAUSTED_JOB&refId=jnPkbUaJgtXfmJknzztCHw%3D%3D&trackingId=Ik53abofLEWdZv%2F1KPL%2F2Q%3D%3D&trk=flagship3_job_collections_leaf_page</td><td>AI Engineering Intern (SDE)</td><td>Darwix AI</td><td>Gurugram, Haryana, India (On-site)</td><td>darwix ai</td><td>Gurugram</td><td>On-site</td></tr><tr><td>https://www.linkedin.com/jobs/view/4277927708/?eBP=CwEAAAGYgRNprOP_oooAdlJczu9h3w2v6OUArF5QTtQ7c2XXsHXnbzlJNFDwTOXzBgNKtshb_I8au0mhJaNaph73o-Sq3kTmC0mTuTMcx5tsiN9cw1j6UlfgnMAjky6vU6BJJgSYEidJKgYTiRnz2SiRUs2YdefReTWdrZEuSKhcU49AImlIBw1elcmM3o0ikG_YR_I1VgwE7S-d9fWCRHLOCVALQ6AUgWJqBpvgmcppZS2R5WTQJE9JjevIoJQQqowZS7J7O85d6xpx6lPkvfnTzuvk2y0IcpoUzcSxdxx63aUs6eXhEFZnkpUUER_PFGZ7LmjSgIceC5vVETS89V6D4bufUxNsUaeRp6tzpWV0vhkSq7ghEmXxs0x25Hj_UuPqg5fdux97Ad_AjQ4NiOoGd1Qij7-6VQ-V0iS0lBI22hHTPQc-a0cyiZo6zxcVGoMStNhof5NAa3ReUyMTXVRe1b0gSojyi5bynmWu54EHCwCqJgmnvHNLdnvf0bvy5hFP0bD272U2-G-j1nJsZEkPRNWJNQ&refId=jnPkbUaJgtXfmJknzztCHw%3D%3D&trackingId=kpze6nqcO4zCHyRrbznPhw%3D%3D&trk=flagship3_job_collections_leaf_page</td><td>Machine Learning Engineer</td><td>Insight Global</td><td>India (Remote)</td><td>insight global</td><td>India (Remote)</td><td>Remote</td></tr><tr><td>https://www.linkedin.com/jobs/view/4222830764/?eBP=CwEAAAGYgRNprAnr9aF9EkqD1FwbnSS3riVgHFL-xuCtKJRPjLWqeJPTdW0MovTKXX8l1xv8WmT8PhmElm37SglA7Gbg3jJwrnZ4K8P8BUYREm8-U9kIOklwjcPispRP0bHDBbDlocu5HT3x-g6JIjGNaNAFh0Ct87ml0bet3_U4qEHcWMCCf3G1n_77pK_rnzoVtwgQ0VDvzwEDXK33Nv3Oni5Wo5_E1mFVzCACpPROP5SccJJPxz5st_fwUsc--R-SUfaysP_bkbW7cUfJgIB0NEYuPBnPAXDf9IP5Z2r_-9kSaRAD7ugUK_Q87-vdD9IaFM2pA8BjoDahTj0L1tc39IEMFTCSSSINAL9FLkfTxyMLZv8Wuy4w95F6VCh_2f2orGs9KqoTeGl5GYE_LB9VKVeOiIq2jB1VdpA-IBGOk4UnG7tyTDorBZqJoICim7Kcf9ex43w3kRHAToCl-Vqv-kAweAsvwFodK7Kr5RGGuM8M6yrQK6pnKnw5BLQ2Z2tvd9R235oLRAVMVbnM84n3gvaG8Zlu&refId=jnPkbUaJgtXfmJknzztCHw%3D%3D&trackingId=EbKQwPsh7xIkxjtR%2FYQKrw%3D%3D&trk=flagship3_job_collections_leaf_page</td><td>Data science intern</td><td>EVERSANA</td><td>Bengaluru, Karnataka, India (On-site)</td><td>eversana</td><td>Bengaluru</td><td>On-site</td></tr><tr><td>https://www.linkedin.com/jobs/view/4277368921/?eBP=CwEAAAGYgRNprer7s6kT-XxKQaF21PwnVIuzArtqRFD4649C6G5_HhT_1aS2fQaYahV46VNP39vVzuEgFTbtS4jQWB_7Sv7Ute8nXHrl5f1vjmKQjGDcqVyIj6gqkxp51e_Pn8qK3nMfjM_GOFbXzgmI5OAAFxxQ16cEMkHy1ztdL83_ip9Uu2W-ROM3Pu1MomnjNFjZcaexvieEWuKsywKoLH7MZhkTmYFW7gjNAnc72PXTvRY3ZVLG_5xcxbUx8HjZKaIQ6MKf5E25ZkMuvF-UO8MgRbrZ9xZJtnU_Icb6hUUdvUtc_IbEzzfe3jJmryKiHa1mdr6-vEfaKT4EilVD1-6dpcZ0lq9Eub1drlJl74BfvZECDzgMoAE0BlNESB6NouZI45ld6br3YVaCOGS2EpAkqvzuGbGPnn6-BJ4rvRPa0rsAyHkD0Vc6EwxGvA9bPhhw5u-ntdyH4myFgWK6_hFT5w4Z-9JUWAgD5mx7cr7fcMFqIrg3Be4He7OKVXNp91XGJiYyaZmwBVonIotzIXE6Ag&refId=jnPkbUaJgtXfmJknzztCHw%3D%3D&trackingId=AnIAsKIo9zVSD7DvHLzcDA%3D%3D&trk=flagship3_job_collections_leaf_page</td><td>Digital Champaign Internship</td><td>HDFC securities</td><td>Mumbai, Maharashtra, India (On-site)</td><td>hdfc securities</td><td>Mumbai</td><td>On-site</td></tr><tr><td>https://www.linkedin.com/jobs/view/4274097889/?eBP=CwEAAAGYgRNprQRKbBkb21jUfD2RLxds_f9OBopl9Z-IRr8LXqNd6UKi4Yytfk8EGYmfWCbsEmVol6K6p0iJvMxESg_HeveGXvrKgcZ5L3n0kjzm_ZAZ_0gCPxvPsVx6bzVdnpZT7sYIRXUYjuxjIUied1sraFSw89622eJ9-vKZt0OEGALTPeM6ZqZCQ3LMDsb2NoR2ozoF-5ysHXUGs2s1HPxUS6q1g6zewc1PKXho2p4_dSiT8QLqWD0i0NcZpzy84fvpxRpH1bVyvOEFPQhEG6II8ADuSWsW7liDA3dHejodc2ggSuemWpvk11QoTz8TmBnbR5Htxms4lyK4hmk1OBwBFmaW5O7uvDp0cJERGwe73AYf82qkCdfCf5cX46idm36Xagoub52A1LqIR8RQNoFig88bBS73bl-wFxIWpPptXLzZJpyh1bt8jBC10WwBLvZkMR9tYb9FMRkd3VBm1_g5rPpJ--8Uzmuhn8GUeQjIncwrK40-qNgcUjeb3NjlrZfThMBVK3xRLd7yYnUFNrCH9g&refId=jnPkbUaJgtXfmJknzztCHw%3D%3D&trackingId=jJNRm%2BYr7Q74Y%2BY4QYXD3Q%3D%3D&trk=flagship3_job_collections_leaf_page</td><td>Data Scientist</td><td>Pentair</td><td>Noida, Uttar Pradesh, India (Hybrid)</td><td>pentair</td><td>Noida</td><td>Hybrid</td></tr><tr><td>https://www.linkedin.com/jobs/view/4274697931/?eBP=BUDGET_EXHAUSTED_JOB&refId=jnPkbUaJgtXfmJknzztCHw%3D%3D&trackingId=b%2FFOO62TY%2BIrjYqTPhpmqA%3D%3D&trk=flagship3_job_collections_leaf_page</td><td>Fresher Cloud Engineer</td><td>CryptoChakra</td><td>India (Remote)</td><td>cryptochakra</td><td>India (Remote)</td><td>Remote</td></tr><tr><td>https://www.linkedin.com/jobs/view/4277577862/?eBP=BUDGET_EXHAUSTED_JOB&refId=jnPkbUaJgtXfmJknzztCHw%3D%3D&trackingId=TmdIiTagaheh8MU7Gd%2FL2A%3D%3D&trk=flagship3_job_collections_leaf_page</td><td>Full Stack Engineer</td><td>Orbital</td><td>Hyderabad, Telangana, India (On-site)</td><td>orbital</td><td>Hyderabad</td><td>On-site</td></tr><tr><td>https://www.linkedin.com/jobs/view/4280159123/?eBP=BUDGET_EXHAUSTED_JOB&refId=wL%2FRMpLMnaJ0PmhOiDKXgA%3D%3D&trackingId=94y1ZHcxTdsmNJo5kSZtRQ%3D%3D&trk=flagship3_job_collections_leaf_page</td><td>Remote Data Science Analyst - 17843</td><td>Turing</td><td>Hyderabad, Telangana, India (Remote)</td><td>turing</td><td>Hyderabad</td><td>Remote</td></tr><tr><td>https://www.linkedin.com/jobs/view/4279992774/?eBP=BUDGET_EXHAUSTED_JOB&refId=wL%2FRMpLMnaJ0PmhOiDKXgA%3D%3D&trackingId=kImrvh6mYAzViXgBqWIeuw%3D%3D&trk=flagship3_job_collections_leaf_page</td><td>Speech Generation Intern</td><td>Sony Research India</td><td>Bengaluru, Karnataka, India (Remote)</td><td>sony research india</td><td>Bengaluru</td><td>Remote</td></tr><tr><td>https://www.linkedin.com/jobs/view/4280776208/?eBP=BUDGET_EXHAUSTED_JOB&refId=wL%2FRMpLMnaJ0PmhOiDKXgA%3D%3D&trackingId=EHXgxqpbXfDHfsbRkKHxjA%3D%3D&trk=flagship3_job_collections_leaf_page</td><td>Python Data Analyst</td><td>Persistent Systems</td><td>Bengaluru, Karnataka, India (On-site)</td><td>persistent systems</td><td>Bengaluru</td><td>On-site</td></tr><tr><td>https://www.linkedin.com/jobs/view/4275076258/?eBP=BUDGET_EXHAUSTED_JOB&refId=wL%2FRMpLMnaJ0PmhOiDKXgA%3D%3D&trackingId=%2BWunzS%2F5uot4kOkMFZR1jA%3D%3D&trk=flagship3_job_collections_leaf_page</td><td>Full Stack Developer SDE 1</td><td>NxtWave</td><td>Hyderabad, Telangana, India (On-site)</td><td>nxtwave</td><td>Hyderabad</td><td>On-site</td></tr><tr><td>https://www.linkedin.com/jobs/view/4277562941/?eBP=CwEAAAGYgRQ36KJWeNRiTl4P1fOxEdXUglM7W0wWnlj-FUD4OvaatfSHVGToct-V6k-FTdD6vf9eBfgTvfz_CjlyZQoC69e-Qt9RC8t3lwYCa6lNFBK-bvgf-OovgqJeuRptFUf_xqcDhISYZwY43By2tTgGhNLYZpMreCTfWLJegs5rhro37rbumq2u6kahE6zBKHFpZ5LyiEr7Tb499P0Sze5T8DRJEkEHB7ESzoGdf0lyV6eiqSuzQG7DycDW7uwbIBM6CX1y2pH93yqRNqzOMhurzKKB_1iJVY6YS9tEHRAojOHfGqb24hDgL-GZd8e6TQGYSVlcm70Wo7noiGYpZPa-qMZJK2wD0w3jgaM1O403HF7lPRPTgU8V6ZP4o-7JPCVqGCdvDwASQnppvl4XTeM50fYTcavy61vWNSszNy9_cI4AkyH7TTwoQkkbFBtiz6iNYjOTKMxvmK_uwIEYWl74S6tiy1PHTKjTroqoBreISak5Bi2UtvuzssTmkN6scRMjT8z1r7MQXf9qsayQ6qEA7MzCQbM&refId=wL%2FRMpLMnaJ0PmhOiDKXgA%3D%3D&trackingId=zW0MpxhxrZI3Z0iA8iI3Lg%3D%3D&trk=flagship3_job_collections_leaf_page</td><td>AI - ML</td><td>WNS</td><td>Noida, Uttar Pradesh, India (On-site)</td><td>wns</td><td>Noida</td><td>On-site</td></tr><tr><td>https://www.linkedin.com/jobs/view/4280831022/?eBP=BUDGET_EXHAUSTED_JOB&refId=wL%2FRMpLMnaJ0PmhOiDKXgA%3D%3D&trackingId=5bOjCxntA6c0UczcZKotvg%3D%3D&trk=flagship3_job_collections_leaf_page</td><td>Full Stack Engineer – AI/ML</td><td>2Base Technologies</td><td>Bengaluru, Karnataka, India (On-site)</td><td>2base technologies</td><td>Bengaluru</td><td>On-site</td></tr><tr><td>https://www.linkedin.com/jobs/view/4273880274/?eBP=CwEAAAGYgRQ36GdbbgjA4YX2rUBvzoOaln0-D5vjRna3N9-iZ1lnI5vikD8T-NZPb-RNb5ovwVs--4Cgx-Z5WhHJdwmvtzxKZtJ0wUjg7ROxEeNQwqXReXIDhlar7mfWyQr4-DPb_U7xgIQVWg9hJ7gOUuOoJnA_6XPxTfXWUNOexvT_qkg3ucd0hT1uotEH4__jbBJldqXDCAdFtnP0RGIZuaVrtJFw3-2bPUfwpSKdz1J5wAHDMWTz9fWTncqqgRXDxtGHUn8m8U3L5K2_ZuPtYGhDW-rx6RHVvGghxFmh9aQdBda99tX1On7D0UnOtk8xmEr3u0DEBO2cwtKzH4r6b3LcZTDZ-Z1SY_x-hohx7eZNBCzx4czuHVXzGlYn7yEJJ9p5AYvfA5IGMI9gC0IralcK7lXENnQVripR7DCjeP6tvlh8x7PYZmahvQwR3OlmcNK2LNo6tmOUp3Edka2_QLHvLGMhok6AJigGZgg9uXXChgA&refId=wL%2FRMpLMnaJ0PmhOiDKXgA%3D%3D&trackingId=MVIyF4JFHcOa6FGm47LOXg%3D%3D&trk=flagship3_job_collections_leaf_page</td><td>AI Engineer</td><td>Zenduty</td><td>Bangalore Urban, Karnataka, India (On-site)</td><td>zenduty</td><td>Bangalore Urban</td><td>On-site</td></tr><tr><td>https://www.linkedin.com/jobs/view/4219931313/?eBP=CwEAAAGYgRQ36ETVhwHJ1MGAobk8UMYim2dc_9dihoaYx5f8WqdJY4gSSjREJF6MiQuh6uJRw3LKAaUN1SR2_6eWHnKSRuYPPfuR0piYsqNxPBt8eGS-hDo3lbJM6Ni-Kamhf-VD-muRhHj7_JOqjXXY6549a7Bdja4sX38-yiX8ppQZlJR9XSzruOsWNm88EuTpwu3JsdSYkjpkyF8QjLgNhZSA-OjMvF9IhNY7ZZbAJwm08GQsYNRg0lOrBX7LoV68qmzm4Hvnb6dp8PMb_jvJg6PiLY2IRebjvqu4NkPakDYtUnJafqEJoEhFxyhEr-xeOTiNjlPuz84rrgQxlJQkjwdCND_lBelQ50bHKt2peqPvgwmkR02s1p6KpG3goe2ib4btjom_39ZYzG8cQrtSFkaf2LlFu4vFMpFW3Sk0U5Q8xf1jehwx6q5Nd7D0VuvDSxlclhCFNBG3X4CfaXjX2iIsGBuEpigDly1mrk_HXSLGYWp03_4IERkiQ8Rec9xp23olkkHUrfgyEOG_QENAr52dKvF8&refId=wL%2FRMpLMnaJ0PmhOiDKXgA%3D%3D&trackingId=9u1%2FGL3Xr38rRkB0FsVS6Q%3D%3D&trk=flagship3_job_collections_leaf_page</td><td>Software Engineer (AI / NLP / ML)</td><td>Nextiva</td><td>Greater Chennai Area (Hybrid)</td><td>nextiva</td><td>Greater Chennai Area (Hybrid)</td><td>Hybrid</td></tr><tr><td>https://www.linkedin.com/jobs/view/4279543215/?eBP=CwEAAAGYgRQ36UlOYVyTOZF_hYfxTDWx5r1tIRN-hCtFStUXTBJ-Z4EHYpIIstgxiA6WO1yEUNYF85Guk9ASZAm9IdzobkyrafGXWtI4d3gYAKAz7WYmcJM1oEcSF3AVnEqgnsCKC0NIa5bywNYhVvAvV7HW-Fcat9Sb3ZKozwotvE9u_QlOKaSnya9lmz9EyFm4xWqicvFDhgNIY2jtQ2C6snx8_SnKPkstorBuJoFRFC_j0kmv0AlaD9vXRILdL_OJRY1wKx07k_f4jx4tSPvTC6Q6MBjiFN4YXg5yUPzZsqsD2QbTfwGfHMXERv6fUWRq8jKREj7yC3Fke0dV8-QAEd0poJip6RHAqobjzZ_QTh32zticN6gnHLuGZ9tuc370aApQUxAVwUkQ3VQoAKnXCwMuFflqDL5-XYp3ZPlKTFvAEHPHXJZEiVWzdI0wqEPQZPtV4ZId5RtKAKVBelhDxnCNebcIrKjZ7i4VMGAGeNyQDwJ-XqOES1dW2Mbyv3uI0kb4g90xN9ePDqDGvLW3VI4jykrYY8E&refId=wL%2FRMpLMnaJ0PmhOiDKXgA%3D%3D&trackingId=SM83wi2ga4rRTDNC%2FmKhUw%3D%3D&trk=flagship3_job_collections_leaf_page</td><td>Data Scientist II</td><td>Talkdesk</td><td>Bengaluru, Karnataka, India (On-site)</td><td>talkdesk</td><td>Bengaluru</td><td>On-site</td></tr><tr><td>https://www.linkedin.com/jobs/view/4275972625/?eBP=CwEAAAGYgRQ36fbQnx5QxkgMAUj13mmKBsQtKKOFRYaG95z9FdG-Eb53i0Oun4LOgQMgxCkif3giCM514RqQYw1ctItO7lDBskQVQayMD7G1UACKCHxv5L9PBwiTt4Y-b_T-rFOc1MEc6-Kg4q8i6JzQvUfohUrFS9ULMtxCDs_ekVGaDVohU9PWmXmT6v7C-Tx2Jg7rz91tOsRyLiLHphbQsFC-H6-1cLeLEV2X06RsxCUKhPLnNCjhRGpYWENu2E3LRzBWYqYqzRy4CHnVoKjrzFSZmX2Z8Qc4bhSWIEj3IRIk7nP96GJexOtYCmKkG6t6K2e5jZ3cMDmCreo2XuY5Sk5K2NqGmT3Q4sUTlSFkJ87fSnDKIum3DTcuFHCgS8wghD88OAZP9am4UU4VYChvChas-cyLTsmlHSaRIMVHQXOyeGQZ7xczJK1Vdy671NX8xZoSoR7qr_DXAooeiPnMqM2ymm_8WXCuVnMTLh_GBQEF1ITnWyKRIetF9UNwpj5S9AaoK1tIc3iE9ltKvC0nCMZWBdqX&refId=wL%2FRMpLMnaJ0PmhOiDKXgA%3D%3D&trackingId=pEYLZvwd3MzmQGvAnirMjg%3D%3D&trk=flagship3_job_collections_leaf_page</td><td>Data Analyst</td><td>Newsweek</td><td>India (Remote)</td><td>newsweek</td><td>India (Remote)</td><td>Remote</td></tr><tr><td>https://www.linkedin.com/jobs/view/4277363295/?eBP=BUDGET_EXHAUSTED_JOB&refId=wL%2FRMpLMnaJ0PmhOiDKXgA%3D%3D&trackingId=2cLqtEczLm%2B40hNj6AHMRQ%3D%3D&trk=flagship3_job_collections_leaf_page</td><td>AI/ML Engineer</td><td>Grow Your Staff</td><td>India (Remote)</td><td>grow your staff</td><td>India (Remote)</td><td>Remote</td></tr><tr><td>https://www.linkedin.com/jobs/view/4280159123/?eBP=BUDGET_EXHAUSTED_JOB&refId=wL%2FRMpLMnaJ0PmhOiDKXgA%3D%3D&trackingId=94y1ZHcxTdsmNJo5kSZtRQ%3D%3D&trk=flagship3_job_collections_leaf_page</td><td>Remote Data Science Analyst - 17843</td><td>Turing</td><td>Hyderabad, Telangana, India (Remote)</td><td>turing</td><td>Hyderabad</td><td>Remote</td></tr><tr><td>https://www.linkedin.com/jobs/view/4279992774/?eBP=BUDGET_EXHAUSTED_JOB&refId=wL%2FRMpLMnaJ0PmhOiDKXgA%3D%3D&trackingId=kImrvh6mYAzViXgBqWIeuw%3D%3D&trk=flagship3_job_collections_leaf_page</td><td>Speech Generation Intern</td><td>Sony Research India</td><td>Bengaluru, Karnataka, India (Remote)</td><td>sony research india</td><td>Bengaluru</td><td>Remote</td></tr><tr><td>https://www.linkedin.com/jobs/view/4280776208/?eBP=BUDGET_EXHAUSTED_JOB&refId=wL%2FRMpLMnaJ0PmhOiDKXgA%3D%3D&trackingId=EHXgxqpbXfDHfsbRkKHxjA%3D%3D&trk=flagship3_job_collections_leaf_page</td><td>Python Data Analyst</td><td>Persistent Systems</td><td>Bengaluru, Karnataka, India (On-site)</td><td>persistent systems</td><td>Bengaluru</td><td>On-site</td></tr><tr><td>https://www.linkedin.com/jobs/view/4275076258/?eBP=BUDGET_EXHAUSTED_JOB&refId=wL%2FRMpLMnaJ0PmhOiDKXgA%3D%3D&trackingId=%2BWunzS%2F5uot4kOkMFZR1jA%3D%3D&trk=flagship3_job_collections_leaf_page</td><td>Full Stack Developer SDE 1</td><td>NxtWave</td><td>Hyderabad, Telangana, India (On-site)</td><td>nxtwave</td><td>Hyderabad</td><td>On-site</td></tr><tr><td>https://www.linkedin.com/jobs/view/4277562941/?eBP=CwEAAAGYgRQ36KJWeNRiTl4P1fOxEdXUglM7W0wWnlj-FUD4OvaatfSHVGToct-V6k-FTdD6vf9eBfgTvfz_CjlyZQoC69e-Qt9RC8t3lwYCa6lNFBK-bvgf-OovgqJeuRptFUf_xqcDhISYZwY43By2tTgGhNLYZpMreCTfWLJegs5rhro37rbumq2u6kahE6zBKHFpZ5LyiEr7Tb499P0Sze5T8DRJEkEHB7ESzoGdf0lyV6eiqSuzQG7DycDW7uwbIBM6CX1y2pH93yqRNqzOMhurzKKB_1iJVY6YS9tEHRAojOHfGqb24hDgL-GZd8e6TQGYSVlcm70Wo7noiGYpZPa-qMZJK2wD0w3jgaM1O403HF7lPRPTgU8V6ZP4o-7JPCVqGCdvDwASQnppvl4XTeM50fYTcavy61vWNSszNy9_cI4AkyH7TTwoQkkbFBtiz6iNYjOTKMxvmK_uwIEYWl74S6tiy1PHTKjTroqoBreISak5Bi2UtvuzssTmkN6scRMjT8z1r7MQXf9qsayQ6qEA7MzCQbM&refId=wL%2FRMpLMnaJ0PmhOiDKXgA%3D%3D&trackingId=zW0MpxhxrZI3Z0iA8iI3Lg%3D%3D&trk=flagship3_job_collections_leaf_page</td><td>AI - ML</td><td>WNS</td><td>Noida, Uttar Pradesh, India (On-site)</td><td>wns</td><td>Noida</td><td>On-site</td></tr><tr><td>https://www.linkedin.com/jobs/view/4280831022/?eBP=BUDGET_EXHAUSTED_JOB&refId=wL%2FRMpLMnaJ0PmhOiDKXgA%3D%3D&trackingId=5bOjCxntA6c0UczcZKotvg%3D%3D&trk=flagship3_job_collections_leaf_page</td><td>Full Stack Engineer – AI/ML</td><td>2Base Technologies</td><td>Bengaluru, Karnataka, India (On-site)</td><td>2base technologies</td><td>Bengaluru</td><td>On-site</td></tr><tr><td>https://www.linkedin.com/jobs/view/4273880274/?eBP=CwEAAAGYgRQ36GdbbgjA4YX2rUBvzoOaln0-D5vjRna3N9-iZ1lnI5vikD8T-NZPb-RNb5ovwVs--4Cgx-Z5WhHJdwmvtzxKZtJ0wUjg7ROxEeNQwqXReXIDhlar7mfWyQr4-DPb_U7xgIQVWg9hJ7gOUuOoJnA_6XPxTfXWUNOexvT_qkg3ucd0hT1uotEH4__jbBJldqXDCAdFtnP0RGIZuaVrtJFw3-2bPUfwpSKdz1J5wAHDMWTz9fWTncqqgRXDxtGHUn8m8U3L5K2_ZuPtYGhDW-rx6RHVvGghxFmh9aQdBda99tX1On7D0UnOtk8xmEr3u0DEBO2cwtKzH4r6b3LcZTDZ-Z1SY_x-hohx7eZNBCzx4czuHVXzGlYn7yEJJ9p5AYvfA5IGMI9gC0IralcK7lXENnQVripR7DCjeP6tvlh8x7PYZmahvQwR3OlmcNK2LNo6tmOUp3Edka2_QLHvLGMhok6AJigGZgg9uXXChgA&refId=wL%2FRMpLMnaJ0PmhOiDKXgA%3D%3D&trackingId=MVIyF4JFHcOa6FGm47LOXg%3D%3D&trk=flagship3_job_collections_leaf_page</td><td>AI Engineer</td><td>Zenduty</td><td>Bangalore Urban, Karnataka, India (On-site)</td><td>zenduty</td><td>Bangalore Urban</td><td>On-site</td></tr><tr><td>https://www.linkedin.com/jobs/view/4279273971/?eBP=CwEAAAGYgRQ36HcC61SuAcAS2snyYNEPsiAOHIsdXe4s7KF2-bICtaT3I3RK5t9J6nmjQ2dgvkjVu90zBDbxuqJZ591TrEj2J1kFtkC7C4U7mWQwCkyggpaW3KejlB17XdVk57fM2cQhHfuO8NfYCsnuDml2I8Vxy8M3QXHPvQ_x_uZ7MEcTrODfYVpgi95bpIHXbv0CdBF7a8QFbzUBBF1avK6q307hkkov3cuKvy0sF4_zOZsxxwWrPuM8b_G2AOh30zLqGXFkrCSvXybpwEQY0Y3INb6dT41DHbhtOLQvK4ydkwBTepvGKffHV500x6P3WQKHTq9VIBWIKme9LdYCr70TQ9LFleB72i8uwxFvdSXWmdj02q9Eig6wBMD8eT0ukoYP9U_6F81mSCbcgugzHXYg1RCpOf3J5jNnRpgcZAYGQXQWsdChmbStBTG9oq9TM5p57xRy1R6qCbSJIy6Lmyy91PEqt-G-NGcCNTC5XIQBe2o1uYlDzp7RXiLviz78ZpUmWsrLFBE7cI01WIKj_NM&refId=wL%2FRMpLMnaJ0PmhOiDKXgA%3D%3D&trackingId=TaayOEKtud5QcgfcEDO1%2FQ%3D%3D&trk=flagship3_job_collections_leaf_page</td><td>Python Developer with Javascript and Cloud Environment</td><td>Ampstek</td><td>Bengaluru, Karnataka, India (On-site)</td><td>ampstek</td><td>Bengaluru</td><td>On-site</td></tr><tr><td>https://www.linkedin.com/jobs/view/4219931313/?eBP=CwEAAAGYgRQ36ETVhwHJ1MGAobk8UMYim2dc_9dihoaYx5f8WqdJY4gSSjREJF6MiQuh6uJRw3LKAaUN1SR2_6eWHnKSRuYPPfuR0piYsqNxPBt8eGS-hDo3lbJM6Ni-Kamhf-VD-muRhHj7_JOqjXXY6549a7Bdja4sX38-yiX8ppQZlJR9XSzruOsWNm88EuTpwu3JsdSYkjpkyF8QjLgNhZSA-OjMvF9IhNY7ZZbAJwm08GQsYNRg0lOrBX7LoV68qmzm4Hvnb6dp8PMb_jvJg6PiLY2IRebjvqu4NkPakDYtUnJafqEJoEhFxyhEr-xeOTiNjlPuz84rrgQxlJQkjwdCND_lBelQ50bHKt2peqPvgwmkR02s1p6KpG3goe2ib4btjom_39ZYzG8cQrtSFkaf2LlFu4vFMpFW3Sk0U5Q8xf1jehwx6q5Nd7D0VuvDSxlclhCFNBG3X4CfaXjX2iIsGBuEpigDly1mrk_HXSLGYWp03_4IERkiQ8Rec9xp23olkkHUrfgyEOG_QENAr52dKvF8&refId=wL%2FRMpLMnaJ0PmhOiDKXgA%3D%3D&trackingId=9u1%2FGL3Xr38rRkB0FsVS6Q%3D%3D&trk=flagship3_job_collections_leaf_page</td><td>Software Engineer (AI / NLP / ML)</td><td>Nextiva</td><td>Greater Chennai Area (Hybrid)</td><td>nextiva</td><td>Greater Chennai Area (Hybrid)</td><td>Hybrid</td></tr><tr><td>https://www.linkedin.com/jobs/view/4279543215/?eBP=CwEAAAGYgRQ36UlOYVyTOZF_hYfxTDWx5r1tIRN-hCtFStUXTBJ-Z4EHYpIIstgxiA6WO1yEUNYF85Guk9ASZAm9IdzobkyrafGXWtI4d3gYAKAz7WYmcJM1oEcSF3AVnEqgnsCKC0NIa5bywNYhVvAvV7HW-Fcat9Sb3ZKozwotvE9u_QlOKaSnya9lmz9EyFm4xWqicvFDhgNIY2jtQ2C6snx8_SnKPkstorBuJoFRFC_j0kmv0AlaD9vXRILdL_OJRY1wKx07k_f4jx4tSPvTC6Q6MBjiFN4YXg5yUPzZsqsD2QbTfwGfHMXERv6fUWRq8jKREj7yC3Fke0dV8-QAEd0poJip6RHAqobjzZ_QTh32zticN6gnHLuGZ9tuc370aApQUxAVwUkQ3VQoAKnXCwMuFflqDL5-XYp3ZPlKTFvAEHPHXJZEiVWzdI0wqEPQZPtV4ZId5RtKAKVBelhDxnCNebcIrKjZ7i4VMGAGeNyQDwJ-XqOES1dW2Mbyv3uI0kb4g90xN9ePDqDGvLW3VI4jykrYY8E&refId=wL%2FRMpLMnaJ0PmhOiDKXgA%3D%3D&trackingId=SM83wi2ga4rRTDNC%2FmKhUw%3D%3D&trk=flagship3_job_collections_leaf_page</td><td>Data Scientist II</td><td>Talkdesk</td><td>Bengaluru, Karnataka, India (On-site)</td><td>talkdesk</td><td>Bengaluru</td><td>On-site</td></tr><tr><td>https://www.linkedin.com/jobs/view/4275972625/?eBP=CwEAAAGYgRQ36fbQnx5QxkgMAUj13mmKBsQtKKOFRYaG95z9FdG-Eb53i0Oun4LOgQMgxCkif3giCM514RqQYw1ctItO7lDBskQVQayMD7G1UACKCHxv5L9PBwiTt4Y-b_T-rFOc1MEc6-Kg4q8i6JzQvUfohUrFS9ULMtxCDs_ekVGaDVohU9PWmXmT6v7C-Tx2Jg7rz91tOsRyLiLHphbQsFC-H6-1cLeLEV2X06RsxCUKhPLnNCjhRGpYWENu2E3LRzBWYqYqzRy4CHnVoKjrzFSZmX2Z8Qc4bhSWIEj3IRIk7nP96GJexOtYCmKkG6t6K2e5jZ3cMDmCreo2XuY5Sk5K2NqGmT3Q4sUTlSFkJ87fSnDKIum3DTcuFHCgS8wghD88OAZP9am4UU4VYChvChas-cyLTsmlHSaRIMVHQXOyeGQZ7xczJK1Vdy671NX8xZoSoR7qr_DXAooeiPnMqM2ymm_8WXCuVnMTLh_GBQEF1ITnWyKRIetF9UNwpj5S9AaoK1tIc3iE9ltKvC0nCMZWBdqX&refId=wL%2FRMpLMnaJ0PmhOiDKXgA%3D%3D&trackingId=pEYLZvwd3MzmQGvAnirMjg%3D%3D&trk=flagship3_job_collections_leaf_page</td><td>Data Analyst</td><td>Newsweek</td><td>India (Remote)</td><td>newsweek</td><td>India (Remote)</td><td>Remote</td></tr><tr><td>https://www.linkedin.com/jobs/view/4277363295/?eBP=BUDGET_EXHAUSTED_JOB&refId=wL%2FRMpLMnaJ0PmhOiDKXgA%3D%3D&trackingId=2cLqtEczLm%2B40hNj6AHMRQ%3D%3D&trk=flagship3_job_collections_leaf_page</td><td>AI/ML Engineer</td><td>Grow Your Staff</td><td>India (Remote)</td><td>grow your staff</td><td>India (Remote)</td><td>Remote</td></tr><tr><td>https://www.linkedin.com/jobs/view/4278492716/?eBP=CwEAAAGYgRRFuFBhckZrAS5VudGiS-Z0tB6oFiunIjw8tVhEnswlRRUTdJeypIBWAPL9VD9YzC8baKTQ7vEZfb5kLNtvNiJWFnrD6_V316EXy-dU190WN2b7nmyqNta8uY9e6pbPdD0-nHWMflldZMYCH2yN-2yRmGJNf86QFMpIHwnXyVxL2VwZHKea50rQnwFRrXtvgb4_x83FUe8g2qXzOFIALMiV3BFFHLWM7NlBAFnXZxTRkSW87NZX_1xkrDbJaa1AvbaVvHJhR0Rwvpon0uPoJ2w-2LN89p3FW8v8pAEyNsigMdNHtfzTlkZIN2lhT9_dSn_lLyA58k0covtGtU4CiEFDRs_dk_X_px3pyqXxfT5uHUiuNA8rYA_eNHc2wg-OLx7YOd90UnmXuzUcEYN2_PF2do5TbRcEePLImWk1ZZJujIcn_bRdaQKRPXKhs7DhdOGt5p2ygm1D3cFMVro3yvm-Ieo0gEBL7HC04Ke04u5EdMybUpwych-3xMQf3on8yO9rjyBU0oS_wash24HdnS-i&refId=yGFNBlPxF21UuzeReqTmiQ%3D%3D&trackingId=lFXT5nwZJMtcX88C4yyZDg%3D%3D&trk=flagship3_job_collections_leaf_page</td><td>Data Scientist</td><td>Recro</td><td>Bengaluru, Karnataka, India (On-site)</td><td>recro</td><td>Bengaluru</td><td>On-site</td></tr><tr><td>https://www.linkedin.com/jobs/view/4256657158/?eBP=CwEAAAGYgRRFuPQjPdUnuXNbhSTUa3DsR2af5o5WRykksCD50bJa7vAMHr1AsnsK1SyEAbYyhzNfqCP1y8UuDJ4BVzmdvDf7nLXfOdcHvCnN24CM8VWYaGzDdt0M4X_OPsq5xRUutYRYdhJTY8vAQ0MuSp0nAuRsLg7xn6iRkvH3Znaj0dlVYAEPe6UN_e6BCIBiRBQfLE3bCAIXe8ieg_61odAtv8A_1qkPA0q1TEy8Mc_LYEarWWBovqgzDdO9j3puqSCFQuke-jNekmv6zJAfs4e04HLHGtgTcynB6KRo1fqkWmN7NqiurSeFU2l9UnAbhvd_TcEoC064bI1jsl4pKtzg_VV7hfRa49Fy6LBH07cx8dNaQwGkGFXjPtF8TWuYvCLzEuIYQN-jqVOkCkBErQLXqytsYghiqU3O5-_wL-cI51_s1ESyT8Da4lGcL9qjBWmvZBRuadY2SWwAfq3QgnPlLDmVr07HP5m8Zaab4JHQrzoo3G-379d4zac4SAX23H80ghXWI3HK6gyFdx0mhYlU-u3J&refId=yGFNBlPxF21UuzeReqTmiQ%3D%3D&trackingId=SYr7R7y0UMyI%2BmqkhBLKsQ%3D%3D&trk=flagship3_job_collections_leaf_page</td><td>Machine Learning Engineer</td><td>Wissen Infotech</td><td>Bangalore Urban, Karnataka, India (On-site)</td><td>wissen infotech</td><td>Bangalore Urban</td><td>On-site</td></tr><tr><td>https://www.linkedin.com/jobs/view/4277376537/?eBP=BUDGET_EXHAUSTED_JOB&refId=yGFNBlPxF21UuzeReqTmiQ%3D%3D&trackingId=4PWmG0XS4s2zVlY8p3E7tg%3D%3D&trk=flagship3_job_collections_leaf_page</td><td>Python Developer</td><td>Persistent Systems</td><td>Bengaluru, Karnataka, India (On-site)</td><td>persistent systems</td><td>Bengaluru</td><td>On-site</td></tr><tr><td>https://www.linkedin.com/jobs/view/4275634343/?eBP=CwEAAAGYgRRFuZpRI7CwmVXmLlcRPwNOp-7g2l_bGp9Z-pDM0WV_r-L-tvsdPTLHaEIHm5DEyOgqNw9FtDkQVKdPN4MAsJ1c3wQXsodk0TN2hJdNatxIWbhWhBeZMhznBxP_uKWVIwumKsZDCWHgczjvO3rnMhL-1cJwczKG7l18x2SBUokRyOySU3je8JE-r1JtFYoKU2ruDM6wY-Ut9_hrxZ4tpzX4BEG0MFUHYK55W2geybY4jHl3HjpNPWmJEaFIp66ITLQVqubVEZcsQ1wz8lpr_USr5i4ViJffwUAIpXLhuD7v58W44AVA0ifKsUIcsKXPry4L7bN-Gf0iOi85dHUuJ-4ekRRTZRGrnHMnaGSi9ORowZEEpWuNh1wpaSAzDgPEeEqQyuwwzb66VWJ0HwLt6mrDIQxN4BcNccY0VwZpAG2P24tX-j_gXKO4lOUz_xGdAm-QdlI9OLTJQHdUaCwaqdtguPrENTQTLixDsU1U-imps7SrKxBm8gkhLdgFQ7JNxwzejxoejcqiBB2WERRSHQnk&refId=yGFNBlPxF21UuzeReqTmiQ%3D%3D&trackingId=b8uVvbcs1fgYW95uq6InSQ%3D%3D&trk=flagship3_job_collections_leaf_page</td><td>Software Engineer</td><td>Concentrix Catalyst</td><td>Bengaluru, Karnataka, India (On-site)</td><td>concentrix catalyst</td><td>Bengaluru</td><td>On-site</td></tr><tr><td>https://www.linkedin.com/jobs/view/4279718145/?eBP=BUDGET_EXHAUSTED_JOB&refId=yGFNBlPxF21UuzeReqTmiQ%3D%3D&trackingId=ICwxkNOd8g8NFldyhMblSw%3D%3D&trk=flagship3_job_collections_leaf_page</td><td>Data Analyst</td><td>Circle K</td><td>Gurugram, Haryana, India</td><td>circle k</td><td>Gurugram</td><td></td></tr><tr><td>https://www.linkedin.com/jobs/view/4273852689/?eBP=CwEAAAGYgRRFuWTQZmkwvjo62kbbCEiUr9rixhYBvlaoReGdc-Rt6Z2-n7uVDYzKhJsS5t6GTc2pnQckn769pxqp5j2a7IsFe4IIq-5_li4d27u68EOQssdjB-Ou5nZCRgoLrbP02FeUB7c0aA1ioH0ZMEqzWvobh_MWXQwZbxCzq40EtHya9vNvfdYdMxTquq5pC-xDOzn0T3Pa5iBCrlu1H3vjdJyhrx_0fzNMArsS2Pq3dwcerK43BLTBIS4MMEMqlPowVt-k4IG9-6KBp0YQr9Q-S_hzznEE-bzYHMqRyzJpuXf2GQmDchh9oIIDKcq77Udiek5iOHVEwhuBxAPm0j-994yk3YA86z9-z2i9UN2sqhShVZGAAUC8fNJBsrDJRTP5IcTEDTYCEdc0HdrL9NUMaZMBi29RTzOSzk-ovxHcdgVOu-T-gbtKZPMT9OgYJFHCr9Lsw3-L6_Cu3dVRWbn_YIsBLcbHCGT1F3SHfS3wb0c&refId=yGFNBlPxF21UuzeReqTmiQ%3D%3D&trackingId=rt2CSAjWggnS1ywmwW2JVg%3D%3D&trk=flagship3_job_collections_leaf_page</td><td>Python Data Engineer</td><td>Bajaj Technology Services</td><td>Bengaluru, Karnataka, India (On-site)</td><td>bajaj technology services</td><td>Bengaluru</td><td>On-site</td></tr><tr><td>https://www.linkedin.com/jobs/view/4273785117/?eBP=CwEAAAGYgRRFudPLdlTej0qcCkcFCeWvR5At16WsTM0ukRyWa_6VK2icxgPY-jX4dt-OBriODZj3yT3A14g6DTJ6wUQzr3quabvzqfqJmaAxg7bs7CwYoFaAfmK2F9rxbIj9YgbpPhDYXHBfRMYMCoXuLQxT7ONvr1uWs6iHYlETCISc3Uo8tOiOs7cDJD64_NQrrIwuS-nkTlWK9FhvhVCs4rFSD15xhBn7zTS2NWLQJt5zN2Imi2Hthrv0K9Y6NnO8ECKoEGi9Vww2mvmG-zeFq6-gM_denR8yJA5jhGs-YRpei_uhWjjfkHXRRXa7QICsOLpNHK1BXa8ZHY_OSzRwngkww4F7Eln08hJxvAXvv-V2rJOIUQxbJ9rKj6_fwndvfclt7b-499v2MyBpT3wK5aay4kUb0syjwiJWejESI9NF64ADyj9XJwWPZsG1tMxz4ujepaHF_hdf5uA9wZEPamKaYHVYR-9uKMkGxlc0I84TLpfcNJNXHQJBr0HTB0LTSqjluLhzeYbmioBNelIP-TG9Bg&refId=yGFNBlPxF21UuzeReqTmiQ%3D%3D&trackingId=GfETrAnq742RlYp486M3WA%3D%3D&trk=flagship3_job_collections_leaf_page</td><td>Computer Vision Engineer</td><td>Droisys</td><td>Noida, Uttar Pradesh, India (On-site)</td><td>droisys</td><td>Noida</td><td>On-site</td></tr><tr><td>https://www.linkedin.com/jobs/view/4280324360/?eBP=NOT_ELIGIBLE_FOR_CHARGING&refId=yGFNBlPxF21UuzeReqTmiQ%3D%3D&trackingId=zzQiWE5hpNsuQgYl%2FlM0bQ%3D%3D&trk=flagship3_job_collections_leaf_page</td><td>Machine Learning & NLP Engineer</td><td>NSKH Tech</td><td>India (Remote)</td><td>nskh tech</td><td>India (Remote)</td><td>Remote</td></tr><tr><td>https://www.linkedin.com/jobs/view/4275090921/?eBP=CwEAAAGYgRRFuSWl2n8vdOJ0Eeg-08DmlDN00Zq16HZnfs61Q494tHxpxWncjorXi-5hY1zGuRi2xshDT5WgvXNuDkI-bLavvpTZ90I39MQBfFS0edo3hVbamubNJjqXUHmtvCGqgaBtaNMVeGEwjw6vrI8vKca3MyQEx4O1Q0RJuKfHsFlA837o3dmwRGIs1cbjYgPWFU9ZcTGgUYnDUZ0mGeUmjbPneI7aapiEwF6mJNZ4r5ERgIPRmmIDUnR-1XvgSK8JiRlePRXlEcsXSg37RUR0QKSUNYdv6EC0BrFr140CXM3yX6z3nRZ7WcoBrG4rjjdYZDa0X1TPONJ2YGp7kLbvKLJ0L7uWgiJ1mv1UlHFiu9hWasSnQGOG5V-5TlQG-G6HNaXtwij2xPR8ix3X8zKTEItQTxHXDOdho_BSHfq1eN3s7lVGIYwA9Nis0rXOdpjfJKd2rT-6OwGz0L2Ip2AS2U4QV7bIsi8WysPdfp8Umsd9lOH5u4na2a8KnwDFxLAqZpMPpp7xYYpaZYPnLsy0geCa&refId=yGFNBlPxF21UuzeReqTmiQ%3D%3D&trackingId=Br%2FZKCI8YT02vm%2FjkAj4kg%3D%3D&trk=flagship3_job_collections_leaf_page</td><td>Back End Developer</td><td>L&T Technology Services</td><td>Bengaluru, Karnataka, India (On-site)</td><td>l&t technology services</td><td>Bengaluru</td><td>On-site</td></tr><tr><td>https://www.linkedin.com/jobs/view/4226062221/?eBP=BUDGET_EXHAUSTED_JOB&refId=yGFNBlPxF21UuzeReqTmiQ%3D%3D&trackingId=ojyLpXCsM0k79YRIdDbTlg%3D%3D&trk=flagship3_job_collections_leaf_page</td><td>Software development Engineer - Backend</td><td>Pocket FM</td><td>Bangalore Urban, Karnataka, India (Hybrid)</td><td>pocket fm</td><td>Bangalore Urban</td><td>Hybrid</td></tr><tr><td>https://www.linkedin.com/jobs/view/4280333628/?eBP=CwEAAAGYgRRFuo5lXXBHtCItiM_aHbc9JjQrLfK0r3RTSkcB3duh9POyN-Glumh_YDcIdICGpYnfwk4q-yfrTY6N0JffiGi7ek-smGvqfcdTE3QDDQMK7ks0WrPM98N6BQtkdomlvhA8dHVS1Fk2s8XImC-EC8CEz6lRSIhowiEAc1XQJew7dF1qiru-8QvrQP5NLgGHPSmoZwN0dYyCS-MYsR_3BthTZygFVPFjcf-fnTUI6FS7Uxef5G9MTRgrrHjm8zPInZMwfGJnwDRUlbn0lh7SCC0MjEWjgArHcvywXcSuTyYFRnQ_Xu_IrHQsmEayKnUDChclNdwsubXloIN-xpmbpJdPeAjUuEeAKdMKFSff6Wdsng1iqNezqkcwGvr90uCVumCm2q6dwVuvUtINgmdu8hlWUqiXo2kH9t54dHCTj8h5avkHkL3Bqphlm5AARh8dwL90UOYphpZk2eIo5wu2yT8a58aY2TSApJ0-GpBQW-_QrQ&refId=yGFNBlPxF21UuzeReqTmiQ%3D%3D&trackingId=ctnILpLXFm8h%2FfZLkoiljw%3D%3D&trk=flagship3_job_collections_leaf_page</td><td>Data Scientist</td><td>RevX</td><td>India (Remote)</td><td>revx</td><td>India (Remote)</td><td>Remote</td></tr><tr><td>https://www.linkedin.com/jobs/view/4272010373/?eBP=BUDGET_EXHAUSTED_JOB&refId=gEkwBXWXNmtlPZoL5RoWWg%3D%3D&trackingId=uIztw1HcXagiVne2q6jWTA%3D%3D&trk=flagship3_job_collections_leaf_page</td><td>Data Scientist</td><td>Solytics Partners</td><td>Pune, Maharashtra, India (Hybrid)</td><td>solytics partners</td><td>Pune</td><td>Hybrid</td></tr><tr><td>https://www.linkedin.com/jobs/view/4272059799/?eBP=CwEAAAGYgRRfgiSo9pqN1be7N19pFrJSBz1TxVTDl_pu_r-lZP9QNVxxM09x4N9FncAydw4Py2IKKrxVOc5hfTlf6Um6sF7SGLAUedlj5gJTOisFu2BtTyjLY7EhXtK60rElKj0esy_4x7oxwWiOePcVj0wzFvkO3yDXRYr2PHINdwG36CMK6kK8hJAzBd4_7Pu0wI3lOJF-eUC04-rUpgka1_6hX1csODlhWNXqSe65-xH0UDg7FZSB2iWe911or7RcrO2A2mcaI51tH0NTppRZbXErr0_54dDhAjT9NTN6MEvtzw4UeOf_meErH7DBm0j9Ue-yHguGxMyp8C4plbtQb9QwteqwF2DIqs3DzBNi71Vv_WjF8pl2bDLdJFHmdYHObKiBkeupsYS25EDeKQs6If_UUA1DpYj2b8bYcWBKwdN18LFg849TENpuOYUtS22fBhsaQZU22pj1duNAYpE_ez7I6FU2qJzSFU1dUg0uBrowcM4esck2E7EZ2RUbPClz_i581ULFNdRRcCw_4FL-EaSGpH9X&refId=gEkwBXWXNmtlPZoL5RoWWg%3D%3D&trackingId=WcJQRZsZia7V4bNzLlZFEQ%3D%3D&trk=flagship3_job_collections_leaf_page</td><td>Data Scientist</td><td>Zensar Technologies</td><td>Delhi, India (Hybrid)</td><td>zensar technologies</td><td>Delhi</td><td>Hybrid</td></tr><tr><td>https://www.linkedin.com/jobs/view/4277149208/?eBP=BUDGET_EXHAUSTED_JOB&refId=gEkwBXWXNmtlPZoL5RoWWg%3D%3D&trackingId=6%2Ff2L7e0eCC3%2FOG3rhtXDw%3D%3D&trk=flagship3_job_collections_leaf_page</td><td>Gen AI Engineer</td><td>immerso.ai</td><td>Chennai, Tamil Nadu, India (On-site)</td><td>immerso.ai</td><td>Chennai</td><td>On-site</td></tr><tr><td>https://www.linkedin.com/jobs/view/4278537311/?eBP=CwEAAAGYgRRfgzqSmu8dp-VcYbCZpHBctSq-tlkX-MkIhH-ptKUeNbbt6Dctp-NtM_cQgZAc0SpauXuFNvmq4mawa1qVD2tkkEthMsELuzmOemnoM7XpeXfBS9zI5X3jk3v_h85qKPpCc7W3mn-l5ecJLNQ2gzDO2LoKZzOsXee9Q1w0no1Qd7DMAfMfdfzKlnjWvSM0cN9SKoK4CnnTm2ZFDPEQoc50dQMkruqQq4vGVy8IJVGYwf4jCK1e5vdhfQC2zNSCNkjEPbJfxaHZjR7P7JyExHQyiydSvg-GUFyyRwfhn1_-ySL1fi7PFEqUEkqHSufcCDIyPhxhMCKHVEzGlmvZubw3w4lJBGRNOKw9TT8B8rRNQG5KB8tWH2L6YGPsiSgG6Gxh-wRzeI2pzx9CC1t6Iai9esOZhgVrlKWp52rTCb8kqMEdVUvpMoWnZ38hqRzSY5jnPbwqecHUstogQosWOPVwrFWxdU1k-ji6RVadz9VQ3u1D0gZREio22q8_avzU44AKH6JAlzLQOGIjLDFMxw&refId=gEkwBXWXNmtlPZoL5RoWWg%3D%3D&trackingId=0x%2BM5XShNriPQHa2HdajqQ%3D%3D&trk=flagship3_job_collections_leaf_page</td><td>Frontend Developer</td><td>DotPe</td><td>Gurugram, Haryana, India (On-site)</td><td>dotpe</td><td>Gurugram</td><td>On-site</td></tr><tr><td>https://www.linkedin.com/jobs/view/4278908810/?eBP=BUDGET_EXHAUSTED_JOB&refId=gEkwBXWXNmtlPZoL5RoWWg%3D%3D&trackingId=jEEzy3XFUgZ0V%2FUtjZQViw%3D%3D&trk=flagship3_job_collections_leaf_page</td><td>Frontend Developer</td><td>Vettam AI</td><td>India (Remote)</td><td>vettam ai</td><td>India (Remote)</td><td>Remote</td></tr><tr><td>https://www.linkedin.com/jobs/view/4277708203/?eBP=CwEAAAGYgRRfgwq-e5X5f69ME0XUyAsgBAscG4-U8w4jeslv5nmB9MnxCNWMJnBOg7KB1TcgsZp6bTvsakn5p_UsDlcqZKgL3NeHQ0qYlNHgToomkhibOZM3d48473Qoy-wkFSy9ISrbINAIv3eX2p0D9gT4MlMxGnlnMzIaYE7P1977phxVZLo_yHyweH9rJqyhPFAvrpYxX16-3P3SqaqzK7tfu-i0ojRl9AGdBxrqxpypAis4uqW_OqAUQfLbo66x7GpsdzMtDK0s5OLqY4I_CoQMuzEhoXajbzlR5sNh_VRYBZnI9tHvRbtpFBFHgJWdZBpOqoyvqfp2U4QBoo3XlhqxxdckZFBlzp3EdmbbNYH2hQTYU-Ouz_csxpzO9KhDk4_7QjdrtL_MWvGqfYLj0QMr8KN7-yFbE2N2gQg5K2UtDWP7T40wArf45aoOxwHS0lMAvA-aX2PhnMd5P11fWg3H5_C8Q_Hxa3gH445lIBIn8oEc2c-K7kB3EgfvOXPC5cC1KVjMYkep5oTs-HjYKF42dPGC&refId=gEkwBXWXNmtlPZoL5RoWWg%3D%3D&trackingId=3lDIP8vme%2FBzdPkSZwZ9tA%3D%3D&trk=flagship3_job_collections_leaf_page</td><td>Python Developer</td><td>Tech Mahindra</td><td>Bengaluru, Karnataka, India (On-site)</td><td>tech mahindra</td><td>Bengaluru</td><td>On-site</td></tr><tr><td>https://www.linkedin.com/jobs/view/4277704619/?eBP=BUDGET_EXHAUSTED_JOB&refId=gEkwBXWXNmtlPZoL5RoWWg%3D%3D&trackingId=sfPD7JoJZaYvfeYoBH%2F4qQ%3D%3D&trk=flagship3_job_collections_leaf_page</td><td>Data Engineer</td><td>Randstad Enterprise</td><td>India (Remote)</td><td>randstad enterprise</td><td>India (Remote)</td><td>Remote</td></tr><tr><td>https://www.linkedin.com/jobs/view/4280807474/?eBP=BUDGET_EXHAUSTED_JOB&refId=gEkwBXWXNmtlPZoL5RoWWg%3D%3D&trackingId=lb43av5HXqIJQI4QSjPnLQ%3D%3D&trk=flagship3_job_collections_leaf_page</td><td>Python Developer</td><td>SmartQ</td><td>Bengaluru, Karnataka, India (On-site)</td><td>smartq</td><td>Bengaluru</td><td>On-site</td></tr><tr><td>https://www.linkedin.com/jobs/view/4254722984/?eBP=BUDGET_EXHAUSTED_JOB&refId=gEkwBXWXNmtlPZoL5RoWWg%3D%3D&trackingId=LDn%2BQm2hD5Uph8UR7iT0Ww%3D%3D&trk=flagship3_job_collections_leaf_page</td><td>Python Developer</td><td>Accolite</td><td>Mumbai Metropolitan Region (Hybrid)</td><td>accolite</td><td>Mumbai Metropolitan Region (Hybrid)</td><td>Hybrid</td></tr><tr><td>https://www.linkedin.com/jobs/view/4246225855/?eBP=BUDGET_EXHAUSTED_JOB&refId=gEkwBXWXNmtlPZoL5RoWWg%3D%3D&trackingId=iu6BqIJZZdYzLneoj69J1g%3D%3D&trk=flagship3_job_collections_leaf_page</td><td>Python Developer</td><td>mthree</td><td>Mumbai, Maharashtra, India (Hybrid)</td><td>mthree</td><td>Mumbai</td><td>Hybrid</td></tr><tr><td>https://www.linkedin.com/jobs/view/4280800105/?eBP=CwEAAAGYgRRfg4EHQxXCKi9Od5r1oJUEiCPLSTvAar3zedoecmPUQmSmGU5JkEEDlavPVFIplAV0Go_NBpRJqxv0d_LBDu3nOrn8qcKzLaa_5C97iKlJzJ58EHIQeiVZbxmnN1tumBdwgXd9BnqYQz5EpwvXpc2WwrJQpxYX0n4RYk9-6EHydatalAms3HeFt4mumNNnBzsCyIWD8GtEwJFNFNbaUYTWy2waMAF7ppT5ChKmjFJMwE34Q45fSnZFK1LcGSqFrAxsKsXpQPPgTJyf3LEqI1wHVDlRPT5JUjBMdBjEW0WM5Vs8H_GYxn6ikHJz5ORcKi3Pu4V7GOhgLX43t0ND5np6KfQHWKfhozVHoQL_R1PhXFyXX_2_sJQUkvxNKu-gj7A4J6zx1osqYVyC-VM2dRS78ewhninZe3qsuLG3K5VDiiDCwkcrmAerncEkAHpOjcWu-AbScGkYwQPVIoElWS4a6MI3-mEd4dCGPsYqS0TWYA&refId=gEkwBXWXNmtlPZoL5RoWWg%3D%3D&trackingId=QJj7P%2B1mrEjhJriVkhTcqA%3D%3D&trk=flagship3_job_collections_leaf_page</td><td>Data Engineer</td><td>PwC Acceleration Centers</td><td>Bengaluru, Karnataka, India (Hybrid)</td><td>pwc acceleration centers</td><td>Bengaluru</td><td>Hybrid</td></tr><tr><td>https://www.linkedin.com/jobs/view/4277691099/?eBP=CwEAAAGYgRRs1XFqVl8gKzF_KV_gzTD_jQ2gQdKXwY_x-FFTnLWm58F13ECe9-1WKQYhyhHzuo53AxL3hzabdAmnIbxy7qsGj-YLi69K6umAqnSzOoN-Vp8IakCVwfrHYI1_dU-ykFppjwhdA4geRJXuO0zs5EXrLwIuemNHvXNqwrwbLtj3-rWX7_kCSY6s_XmvCulphH9WhHN__9jbC6Lrv4gt7qIf1eAaFbWl2UPXWzwGTTvB7dH_KDPuPtRBbaGOamL-ASnGUUOYPHPM15d6fgrGOC3YdrEHPIx9t1iDMEGHnttlel7uU2VPj8mO59Z9_4t2FkGj29yv1JAb69-qFRcJX1CQXrnpEODRWGCH7ep7hI03zBJItMMu_9ujmxjzolkoYODxy5tSkjuPadmdAuuYvI03vVDRiSfaMJY0gLGyPrGSOS9xv_aMiFxSs3a4QlQQYJ87w8YgTFcOE6L6a9EXD30XeDLo9BxOC_24KiW4lCmh7WipupGANFXIrMOxHw7tqnWJ7PsDafv4BSl9K5xRnCiC&refId=C1m6O88SDPW5eGDelaudEg%3D%3D&trackingId=4C4umh3tXmrO3ES5CGvXSg%3D%3D&trk=flagship3_job_collections_leaf_page</td><td>Machine Learning Engineer</td><td>Bounteous</td><td>Gurugram, Haryana, India (Hybrid)</td><td>bounteous</td><td>Gurugram</td><td>Hybrid</td></tr><tr><td>https://www.linkedin.com/jobs/view/4273549803/?eBP=BUDGET_EXHAUSTED_JOB&refId=C1m6O88SDPW5eGDelaudEg%3D%3D&trackingId=GafBCcTcYaFonTnObRdByg%3D%3D&trk=flagship3_job_collections_leaf_page</td><td>URGENT Hiring: Python Developer (LLM)</td><td>AquSag Technologies</td><td>India (Remote)</td><td>aqusag technologies</td><td>India (Remote)</td><td>Remote</td></tr><tr><td>https://www.linkedin.com/jobs/view/4268794618/?eBP=CwEAAAGYgRRs1iQKPF0wuM_RALmLun6TeaRpKxhzSjtUGHB_8u-X1riECl5Zt9CibTxScBCl5i9jYJtAzHhxHj2P6xmPW287itDrL5TowVTBVVY-HiUQ1Ig32Q8lu3vg7TjSX0teyR-F_DjsG8eYPXxUoq3ODHtCoTA94BR89Csm_-sfp8A0JnyUFuyc0-XUq1yZeEAitD-JnfL1F9YOiPp3EFtQWIKb2dS4MDD5jG8MOdzt1kI97apCK8gT3FFuM5QNdst8Gud1dy4jnXc17peT0oShgvQXObPL_oqdRE0SfWYzAR8geZUthsRA4X1QO4COzSmwPHQsNsGZlzdGrNcasNjkEAxBNrqQxeS2dl7M4tLJv0MhyvqaUsgj0wEQt02r3vMTD3H2Mn6ZHx8o9NT3XuGjbeTEoT50OiKsF8uN-h4NKB1WOpTXrTWJKAcjioOQfHm90qyOmPZC2D_iopAdE9zjmT5dn-KPrjLggNAr7F91d8XM_6cKAVTf8fY-pWWytf874HFyyVIE1hHXEmrj&refId=C1m6O88SDPW5eGDelaudEg%3D%3D&trackingId=iDuYn4jbqzmNGEX0wMvJBg%3D%3D&trk=flagship3_job_collections_leaf_page</td><td>Machine Learning Engineer</td><td>Prudent Technologies and Consulting, Inc.</td><td>Hyderabad, Telangana, India (On-site)</td><td>prudent technologies and consulting, inc.</td><td>Hyderabad</td><td>On-site</td></tr><tr><td>https://www.linkedin.com/jobs/view/4272058375/?eBP=CwEAAAGYgRRs1kmwP4FQawpKF8ZVBPBqGPnOvHsUaGtugj8Mju9ElH3hhotzKcCIRKURnosus1zqCejany4wqt8v1bbKVpbwRsDJG7Boe5kgV2k5Je9aT6qxXDzK1zN0CnszVMJPGdG0BEntQ3MZXBi7y9FSOh7BZUI_VijYp3t7Fu4cHcScVDBi8L9J-onuR8WfHlFuNtMNaWsNbZw_6hi9Vw1DwGF0rsfIUMsyjyFllStTJ5sST5ZjwKcPUlndIBX-RE6FVigexDWxrUvYreJWqiIFeo9Ho9iXl4KosQiXppdoTeVP3sLwM0QMhdEvJDUa-MQ94Gz4ibH6OOISs6UIza_zInITEcEyGwSqpoUD4zN8T_Rsr3_i4Md5HUhfMFQYgJ-0B0_zq7ekinZMB0UESNgGqRwSSpYmqFQ4FKzB-F5u06dHdelRWR8C7OxzYD7Q-aI-uIT3u-rRHr79K_QUX2kGmTzoMHEKszOAJxSjT82gyTs&refId=C1m6O88SDPW5eGDelaudEg%3D%3D&trackingId=5BkqcA1paT4QHC7FjQ32BA%3D%3D&trk=flagship3_job_collections_leaf_page</td><td>Machine Learning Engineer</td><td>Dentsu Global Services</td><td>Bengaluru, Karnataka, India (Hybrid)</td><td>dentsu global services</td><td>Bengaluru</td><td>Hybrid</td></tr><tr><td>https://www.linkedin.com/jobs/view/4278908252/?eBP=CwEAAAGYgRRs1siMaBMJKnH_jpL9yNDwRWEA3Lq93muUB6UXwexKPNCI6kjP6bzPTRPXdQsNyjArpZpAe8dJLNpNP6JUO4V5y28xmUjcg2xD3_zYpYzZ09JmUxFdoJHqSsPgD8iRAtSKyDW-NqggAe3Q4SCeqtyM6GsSmiuqxn2jnQxnRn3fuqWQrWxswonZIalA0MB5LcblUt2Khu7oP04CGssI7ZZjD0rcK1pHHvHjThCYXpDZdfj5DusYXSJubrGKFsOFduf0CQRkBVQsltKIe91gpLYmxr9c6x-2zTRA9zlwJ2W25PjjsHOovEm6cqIHOdEHreBU1ZjfKos-FaYZUZDc4X-5rBLJCs0kQPVIJMVU1enVpn9hFmCKMHKySQcBXZgN6W_PGXxEsZjS43Gxqp7EPQYqBIU9CDNXPKO9vPMZklRCJqfMdx9OuVUGatfai3lmsFW5gTbQFIw7YI09UbTOVwgQPEUdWujrK0urBQHL6YzGkm6n02gbh6lLDdww5M6ymlDKZKYtuMpxle2HxvTSKx5y&refId=C1m6O88SDPW5eGDelaudEg%3D%3D&trackingId=MjqSX2Vx5IBnvUXw56LEKQ%3D%3D&trk=flagship3_job_collections_leaf_page</td><td>Staff Engineer, Frontend React</td><td>Nagarro</td><td>Gurugram, Haryana, India (On-site)</td><td>nagarro</td><td>Gurugram</td><td>On-site</td></tr><tr><td>https://www.linkedin.com/jobs/view/4279379953/?eBP=CwEAAAGYgRRs1ib1k9589ENGdSHnT_0C0JO7oEaTz2WRGOkqA1KJRpEkZ4FBih8Ezag-LC3n6tFdGpO9yQxf1wwcTLdjIT9h08I9B28yR9y4pf3HXkWxwn33lI8Mj866FLc66c6Es4UEJ3EnTFbAbYT9XZCp9UL4nWDyUPmdUTVkKieGIFJ39pZYvl-a7VW_5wxysUQ0brs7CfhcX9ZwUIfpKiB8iN-aUSPbMpzuVgjrpzCTxviqgyWlJVL0I_NRN0Ro0rGmgNIBPXQ1-dyJTtC37WdfcRUFGcRR3B6LDqVrzrQUMke7Ncs47SmqP0dIyZXy9Xk2WPU0ElWBvzBE9QtZOumWt4KyINpAbGro-6XZkTKDClV-kj1C4aATFu4720r-AykXdBCurQH2BCxoLs3yr-IZr4lSOxfgdrXUtlhxYMAdwvthSi9EfLB8ttaqPYCHqFxBhMCOJhb0mjj9FVFjOSDDybPI-9HY3ncY6pQzeondz_j2-jteEKoj8UP2vsRPrBBjLUOsNbKVVsDUiMHxIJVwdCHQjKg&refId=C1m6O88SDPW5eGDelaudEg%3D%3D&trackingId=saIeFq0%2BL%2B3qAgBWcsM7Zg%3D%3D&trk=flagship3_job_collections_leaf_page</td><td>Python Developer</td><td>Ascendion</td><td>Gurugram, Haryana, India (Hybrid)</td><td>ascendion</td><td>Gurugram</td><td>Hybrid</td></tr><tr><td>https://www.linkedin.com/jobs/view/4277564515/?eBP=CwEAAAGYgRRs1mwdzZY8KoHOJCpQPbUKGF8OBAjaCW1__-vPcjrK5VdPK6l-89wfBiYkJ79GW3jK23Ao4H_ooHGn9FwSt8K9nZZcwXmotFfTkdUK9o3q69qVhIssGi05_VVz04GNbETJysqTmlQitwz7on-dDzOkV_DGDQFgfNDA_Q_d4vXkAOATNwSd1iibuWSpBi3fk1VPlqL8On0eM4-NRgSLrGeyH6ofFryA8KanVV0ZmFiBPebsyc-KXmhUfsuiYy6vudW4tdVM2CUp9ba3GMn8kp1bbb27MGfEi7uYnBAulk7RF7GXHk2ncTUkggxrhWo1bFR6o4w1C2dDElJW-lbEO4bcq_J3huq0Bm-YqJ9e0bqQ5FS38hXiicl-IF0jLUvMI3k3L3qQRDOp8kD-KacNt1MB77qSp_W-kZthhO1IIwSZvgN8YFkwsOs9DHrHzSb1onEedSVOURdzLeJLz-pdpEpFav5cY9FsH1Qj99Xw1BKNdMQGRpV7Rh8cNrHV6YUEgUObEokfTvI5b8_yyOmLdgXP&refId=C1m6O88SDPW5eGDelaudEg%3D%3D&trackingId=xMRf0QisgKsnOZQnoSf0KA%3D%3D&trk=flagship3_job_collections_leaf_page</td><td>Data Science - AI - Pharma</td><td>WNS</td><td>Gurgaon, Haryana, India (On-site)</td><td>wns</td><td>Gurgaon</td><td>On-site</td></tr><tr><td>https://www.linkedin.com/jobs/view/4278020681/?eBP=BUDGET_EXHAUSTED_JOB&refId=C1m6O88SDPW5eGDelaudEg%3D%3D&trackingId=cxJnqwjCtpIwDuyEgK1ynQ%3D%3D&trk=flagship3_job_collections_leaf_page</td><td>Machine Learning Engineer</td><td>Rail Labs</td><td>Chennai, Tamil Nadu, India (On-site)</td><td>rail labs</td><td>Chennai</td><td>On-site</td></tr><tr><td>https://www.linkedin.com/jobs/view/4277968906/?eBP=BUDGET_EXHAUSTED_JOB&refId=C1m6O88SDPW5eGDelaudEg%3D%3D&trackingId=WFGWAYyjJXVr1XuzL1Tifw%3D%3D&trk=flagship3_job_collections_leaf_page</td><td>Python Developer</td><td>Leeford Healthcare Limited</td><td>India (Remote)</td><td>leeford healthcare limited</td><td>India (Remote)</td><td>Remote</td></tr><tr><td>https://www.linkedin.com/jobs/view/4277177006/?eBP=CwEAAAGYgRRs1sZFhiGPUmdQ1Xie9cOYSgoCWnCbMQNtnpFZLTCL4oEP50gdFWlStM1HUVNTgkiNtymragb11JOiyVbTaozG3vuX9ifTWtLGKMJDbINe5oCVKRtAKBWJpIoR0l_CWoxOUAMjB2kMpYMPar5GjFutQw4W5T1XOEbun1eoLD3MQcpxFnGMipg2P9ughLRwAsxhw_BvOCiGaZaRokH4SE1P8sFkyzO6Lx8DsH0zdB-5jxL5Xo4KnDTQMa_Xl2fvOelyj5HCw_6yCaLs-iyfJ85mzpAL9Uch-QrZd-Nvd544UCx4zc7kncOP3Z2wTr4DxpzrapMIo0HfVVGzny0fc-JHVfYLfx9rwyhZurcBzwvkGbn0prnsQmAZsR8NSRbM-6Vm9C31CIrZBWsv2pVX-cLIHlXaQ380tKw2N-sPWxBXoqiY4xx8RpaUtNOrZtI_6vv724IEIQL2nPofCT8GoP78LHpzGs6gyPnB1x5nfPuECSl4YevBMSSaEr8T7zlnwrmLrCb5Pctuc7yMeE71gA&refId=C1m6O88SDPW5eGDelaudEg%3D%3D&trackingId=U05hy5i6WL8KY5bLYqqYBA%3D%3D&trk=flagship3_job_collections_leaf_page</td><td>Python Developer</td><td>Saisystems Technology</td><td>India (Remote)</td><td>saisystems technology</td><td>India (Remote)</td><td>Remote</td></tr><tr><td>https://www.linkedin.com/jobs/view/4278114996/?eBP=CwEAAAGYgRRs1nkZlOslwntcuWsPFyV1pGEcInX3CPVIV2q65uRJzQQ5H9SkK_StEiKWzyFGD7HeeAS3sHLR-4NFGNYGyXTAz5nEaUAMMep9iiAn6bUbmuXogBwTACFM0qF_KEP05i0V-W2oCwF9PrdG718sV86xzJkHHxkseHXsYXSuGQn2_xtcGy6qeICpfZ8tY9kqUYWIdEXQ_qIwfpaLs_qR4Rxr_v4TVDUkKnR6Y4dBEBE2jm3XQMsQUMtbQWNncOBoat9PNnIjSwh1SP3kX0FYl85o-E0j1P41XM64eiJJ6t08v2fCZ54AXzX2QMz8Q0zzOzt-8aPNUc5Vyt4QIlGdKL1FUUa1Om3GzYYn0btpZzm8gNlOOuY0IiGojje3CC7YTnOAuxl_KM7pQR360iF5OOorjUwM86RvAb0-SXRKqCEhEecoRJNG2I7HooN58-32wkYmOIZiM4qNiUrlYstffTnkp1pwlB_reZxdqis9GkqEL9REko00WL1GkdFmtVgsgTi428vP_mNAEqjcEEfDdp2q&refId=C1m6O88SDPW5eGDelaudEg%3D%3D&trackingId=5ng2lHPScXAjNKBRiQSI6A%3D%3D&trk=flagship3_job_collections_leaf_page</td><td>Associate Data Scientist</td><td>Circle K</td><td>Gurugram, Haryana, India</td><td>circle k</td><td>Gurugram</td><td></td></tr><tr><td>https://www.linkedin.com/jobs/view/4265420956/?eBP=BUDGET_EXHAUSTED_JOB&refId=C1m6O88SDPW5eGDelaudEg%3D%3D&trackingId=DFJ26591hdjGjrMtvLSYiw%3D%3D&trk=flagship3_job_collections_leaf_page</td><td>Machine Learning Specialist</td><td>HCLTech</td><td>Chennai, Tamil Nadu, India (Hybrid)</td><td>hcltech</td><td>Chennai</td><td>Hybrid</td></tr><tr><td>https://www.linkedin.com/jobs/view/4280023118/?eBP=CwEAAAGYgRRs1zpWZeynbWzwy0adFww1HlAyAqsypRccBBazJGqCKMIZLYve1_MD9IXXpUVsl50jGHXQ_UwS77GeEn52nK06drWvb1qo_J4eG4-hbo64X55mfHaY8_tT3yE95S8tGoILghFtGMD173nL7PS4bfK8PcgI2l_HcZfGhfUGdAlvljiPWMrC3qI-jjd0btBqGDuX6rDL0wSWuIx20xXTOabLOBE_g3IwyS_FU5nCNDsGfR7CXlEoIfqEtmuKUAFLXKuONKGOw77yB5zjizgmwTI9ff2KEbfO3SzeVDW1BWPPDbFWqydDJh01vUfTnesZ9TBcK0XNyRbwHgj04MSbuj4D8bq2v0ZekKU6TtAhu-xgP0ZtQ5oWHlmkII8hqHYI7MT8oZbF0tCN7jtq4NA5lvAzP7Q9mc2Zes5DUujukxZ6CZKGSl-e5NppTa-DaWmSoDQwnOBlpbdxtUpEDek5tUct2ls8ALP3rj5wianzdse2qAf-JzZ8-FQ-hLry0VuGeslECx2ySDSplKoLoS0&refId=C1m6O88SDPW5eGDelaudEg%3D%3D&trackingId=uE1IRh6xZCUR1ruJ9tuFfw%3D%3D&trk=flagship3_job_collections_leaf_page</td><td>Python Developer</td><td>Talentgigs</td><td>Hyderabad, Telangana, India (On-site)</td><td>talentgigs</td><td>Hyderabad</td><td>On-site</td></tr><tr><td>https://www.linkedin.com/jobs/view/4280166426/?eBP=BUDGET_EXHAUSTED_JOB&refId=HU7tKKPRmoYAbhpOIfM9nw%3D%3D&trackingId=UphimbfPWaUnNdgaqHZz4w%3D%3D&trk=flagship3_job_collections_leaf_page</td><td>Software Engineer</td><td>Experian</td><td>Hyderabad, Telangana, India (On-site)</td><td>experian</td><td>Hyderabad</td><td>On-site</td></tr><tr><td>https://www.linkedin.com/jobs/view/4262351983/?eBP=CwEAAAGYgRR6NKQe5qBXWQTiRtSRAHNQFSTEqs120-f4ef2Q2QES8zDs6xDHSD0KYT4s4qEnbIRXEhKeW7Xoz7qufbguP1KuUyOFunYcKBYUZvq07IaN2nRkybvfbSL_xGb69bAWh_5oWYbdx2BBsIXXNH1JxGCpBFj82pVTJJOaWI7CMs_pjmgihX16sKY9lnyKToqIbuiY_Eu8ncekaRwe5wx54zgTXkbcatPXV5x192cP7iISDK1-UIhoAn_BW5nzLIlBuxEnAn_0smILf0FBd8Zy_EmP1JaX97T7KBYdA31AzZO1qJJHO82U2GZF7nGjWL5fPLn241y_PX-BlQ_z6N7r2rV0uzpthKP_8uk_V1tjsf7pKyVPIkJoMXj64uJnYXLrl-x5_cJ1PBx-WSDip8gDUq1nL7JEYoVYyadDe6ndDLkd8d3_7cdUz-ZkibzrgKI3GO5Kp3VFD1C_WgnsL86PDQoZ2Zfo3O8wGhNO85LALXnSW3NecZi2VLGj0R5izsSH-j2w5X5keo4-FzAn7Za4wQ&refId=HU7tKKPRmoYAbhpOIfM9nw%3D%3D&trackingId=fsGoKTsNIqzKbPx2xnB3WQ%3D%3D&trk=flagship3_job_collections_leaf_page</td><td>Senior Software Engineer</td><td>LinkedIn</td><td>Bengaluru, Karnataka, India (Hybrid)</td><td>linkedin</td><td>Bengaluru</td><td>Hybrid</td></tr><tr><td>https://www.linkedin.com/jobs/view/4280506608/?eBP=CwEAAAGYgRR6NA2r9le3XUjXz7X7V6n0o6xybexEahjhI_9_tuRvjFkkUMIkcQ0KBYj2Xu5A2uMhTnhtANGYPy4wZa5_GtoD4ARxEKdVjTU-sckYPxnHgeikfe2GWfcZ_pfWsxd6YOCH_iUoxlrzpvtdfIxTEehwtodeayMDJ7_8saDPPDpxE8hveaAGLKzvtzYkTterR65fU90cVuBcMG3g9zVNK0KDvnIrZVeb0LN7U3h9j-Ux4CJWkLR5xqBvi9_N4xbSGHI--uHve7ic_c43dO-XDXwOZ5ObaDxxGGkRnOdZ0I4NfIIvZvBy_7Jir5ftrESCxIyY1O4ROTqrOWlljylQJFmtnNKkZfBAyGFW69WG5_1JpnR8ybVKQ8T-vsSJ6_z6ciGw4XfMt8q_chyragMUp84ANlkw0UFAIxImVc76s8MO7_2MwKFJnsvUszmxZ1rbRfNDYz2FZzguU9tqLumF4CZUYWE0YeKZ3lZdcr1LHrgSInD1hU9SbWAG1OaB1rT1IsWUoXTYtBk339ys09f7OsWcnBpu6Nvz726HZfi-x_zPV7bREKdkwXiSJIg&refId=HU7tKKPRmoYAbhpOIfM9nw%3D%3D&trackingId=Rqkmx7bWRxaZfbJlkVx0Zg%3D%3D&trk=flagship3_job_collections_leaf_page</td><td>Frontend Engineer</td><td>PhnyX Lab</td><td>Bengaluru, Karnataka, India (Hybrid)</td><td>phnyx lab</td><td>Bengaluru</td><td>Hybrid</td></tr><tr><td>https://www.linkedin.com/jobs/view/4278247578/?eBP=CwEAAAGYgRR6NDVlY1CSYgLTQ-LKG3slZo4n7nUvoYboawkPGpVD4XFCq0svTsM1FeDjXxQMib7dGAyyHd6E8xGYFmT01G8ifYukCagppVzOFSg5XaSnbnn3lok_3aKJMneUAiLZeiyW_Xj-KSKBM3Fz8ivVSZ48XAKLgaYnB00o2dK6Qrmj13o7mlYNO8W8HheXrnpDwc-Of2xuqSRkSQszrWoa_HNAadb2WCg8zThiilJe22R2slL9iFOHPYQzwZTWXlro9FE94Ku3prIgHn8GC06kYnM134THt8qKybBezldBchpXcBAjI1BtYbdpWek1m4MaP4Os69QaqO-smEF2zNLdNW647cYDHXlokYGUaVbbw9Mr3Ddj2Mw1ASlFIoplvOLp4_6r6-glvL8LzfX9Xy5oJoq_5jZGnqk1Ykr0g5aFZzItbxtF_yHJMh7iqSB29rrbL9-pSscAcrPW55Z6XGGga2SjwaFw2wU5jIYeFOqgPHRJMD2zMuHU2-boPqJ5zMwjfsuBkB1tPAgdL3jtdHTXT7AIhjA&refId=HU7tKKPRmoYAbhpOIfM9nw%3D%3D&trackingId=v6Lv%2BshX7eQApyk%2FDL27Zw%3D%3D&trk=flagship3_job_collections_leaf_page</td><td>Data Analyst</td><td>CareerUS Solutions</td><td>India (Remote)</td><td>careerus solutions</td><td>India (Remote)</td><td>Remote</td></tr><tr><td>https://www.linkedin.com/jobs/view/4273593598/?eBP=BUDGET_EXHAUSTED_JOB&refId=HU7tKKPRmoYAbhpOIfM9nw%3D%3D&trackingId=6sA%2BdRcQceHdBFuZTYLqbQ%3D%3D&trk=flagship3_job_collections_leaf_page</td><td>Python Developer</td><td>Datum Technologies Group</td><td>Bengaluru, Karnataka, India (Remote)</td><td>datum technologies group</td><td>Bengaluru</td><td>Remote</td></tr><tr><td>https://www.linkedin.com/jobs/view/4280141875/?eBP=CwEAAAGYgRR6NCZwe42hSSirH9Sz0o8RusjJYqS6izkOomHgR9MdcjawOgZ54qM87PceWtAp7xAwPHRmjQaWKS-GRwwWDvSD4T5tzSbREZbrjKceNi_08a9L113D9ZYUJL8z9wJM-jxNEfwQ5Gy90coQxMlHA8knzdWPuKpsaZj7gjm9YNfH8yk-3hb0r-rOlRC4bllJeYLMjlU7NUfvzbD0McNRoGgsO3jXLuyJqK6fCDSZk8cYERe5iA-MKPpnqAQG46dpfO6Oq_Bretj1oC7gLjo7Zg8qr_xk4ErdC7C1eymHDZzL951UA_GBzLAI6WFE50Di7F6UyrHtM0u8M3wbxnkimRnIzkS9nsWQiOwW-ONbQPyjHfzmipS7vd8GPVRyt15-0NwhyFUmMo6_e4JS6FYfnTegyRM93C4rPm-CgTvhPW4T75F47lAeuouxHTUA3PbfSQ0U6pTw9-ijjyJuNHPBwXM0M4vguC_44aFBFoDx3ps7TkZ_CNQ2r7RneKUSpg-4oMTdf71qDvbX44b_cy5bQaxiPZA&refId=HU7tKKPRmoYAbhpOIfM9nw%3D%3D&trackingId=1rjv0tcAjR%2Bku%2BxR6Cu06Q%3D%3D&trk=flagship3_job_collections_leaf_page</td><td>Software Development Engineer Test</td><td>Airtel Payments Bank</td><td>Gurugram, Haryana, India (On-site)</td><td>airtel payments bank</td><td>Gurugram</td><td>On-site</td></tr><tr><td>https://www.linkedin.com/jobs/view/4278062997/?eBP=CwEAAAGYgRR6NPjsud-JCM6_LEfbEy-EdUEYodoclOVyau1y8YIyD79YGll_luXVKRAlE5GuX-df0a_9RjU2Lr6VaHNWh7mrhBzQ4PeK7gwvwpj1FMDeJNuMXTjZQPT6KS_jACBktSojJJMvLg08VXmkiogliJEkdeLxRLe4n-Lybg3urosHnBtWZMVA-9LPOUXqZpxAQ7AbIKmufDCLD3TiINiIZPYbew6NnFGkaUl8JaxHb0fuATaCYvTgg-NB5KK8RChGon7xKNk3a4QEAiLldQQ6PdTxbK3bj0yGpIiZY4dh2aPkpb85F3iYwRKt3-bIp2WuBOd0ODQE4TiEvFLcPsnIrbe-zT6Uy9w85slAcdWLTc_MfhzwY-DJKiqDqGpY7-_MZ1SJam1mouq7TkEYGdx991gKAT-e0ZV31-OWwg83vHm-pe6t5ZQsyllbZcLB5eB7bMRLuRluUfPjmvVvxtRwmNvIRMnQOY_0xZm7guZ7jW-SQHPE-NlVngAtRR7Iyxgh3C4LOpcjA0QslhUJmjRXRbEF&refId=HU7tKKPRmoYAbhpOIfM9nw%3D%3D&trackingId=FRZMpeEhbcfD4ZicDPDbRg%3D%3D&trk=flagship3_job_collections_leaf_page</td><td>Python Developer</td><td>Datastack Technologies</td><td>India (Remote)</td><td>datastack technologies</td><td>India (Remote)</td><td>Remote</td></tr><tr><td>https://www.linkedin.com/jobs/view/4278814835/?eBP=CwEAAAGYgRR6NGefh3UFupIXXCqelAz44yWcMnEBVNCb8pCq72QdpZAGlMuO7mudjuSvQiwaJv-NXzntWsRemUACEXBzC0nXaVmo7T2N3BdN1RKpHgXFfOyvdmFkdbZzC6IPW2XYLNI_xdgFVe-b6bNo8DThNYMkntw7tDgFb41irVdPR_M0sjmVQHQ9GBCM7fDjUBSOXq9wIftEGjrpVBQZCH-rjrOjGU2mOOT_1Yloma-TMMJK_sA_KgXmwYuyxJwlataRpEmKiqcuuJ80T4zEldWrpq2Q__5fDEgMDbmcrbrt6DAC8xw6LOG_0PrerW6JT-x5jdG6QlU4dBfrgk3hCdu-BZSaUqmXwohvgM5qcdC6sVllnav_fWUoWH6Vt1qkujTosZPXR7pzNxsPFR3HqfK8TGcUHJFcpt7f0z8aKrkQkkZvySV0W8nzuq-mWjSOgOgfcx0-J2yqfvJWLskAajWTXx0SEEeZ5lIrehEbPD2awPhJ-8QIYUgPCbNe7fo7U7vvzFuGyMUUzwYm5_ApsDNS9xaxKJs&refId=HU7tKKPRmoYAbhpOIfM9nw%3D%3D&trackingId=C1Hou1knVMP8LLc21f9sIQ%3D%3D&trk=flagship3_job_collections_leaf_page</td><td>Python Developer</td><td>Wissen Infotech</td><td>Bangalore Urban, Karnataka, India (On-site)</td><td>wissen infotech</td><td>Bangalore Urban</td><td>On-site</td></tr><tr><td>https://www.linkedin.com/jobs/view/4274205056/?eBP=CwEAAAGYgRR6NKiilphPR2gIm7WK5LppzWHZC2QQ8QULLHpHrvWEKGPFomAPpntaBx7z6D4riLXYcjffOnca6Jtw_S9pIPMSn7qgwqXh2zKhsaZYmvPdALSoYa93VO7KEpAqi-l39p4iio4Br4CPgIsH8l3KZQsDlIda4mtJTDPdcj6cbeAaDiQ0bgjkgGT8vnDELo4bTN8egb7dOuQvraymjPmy0L_fxblAfIsl89x62mkp2iu5Gbav-cuBdtUQEzU8mgF00L119U-annqtafgvKRgYIbsF2yDa8UaMelt39y-4RB8V_7xeiOf8XBENSKWkmORzLvIGc0i_EuYwWJ5xwy65Og3F-tp_4jJN9pGTOLeXKhiD7-C9S65FU4MiqW2QFgh2RJWKe1n7q_vtjLwwKJwUtQp7M3bB8YMQu7327_CwlpTtqNerkILIr18GPjY23W482tLV5NBmbJgj9lo9ZaNtcHYAUHgEJbpFUFD8lOZc1xPPQH1e55lM1NSfIGL6O69lEZx0e8ta&refId=HU7tKKPRmoYAbhpOIfM9nw%3D%3D&trackingId=um7qcUl4GJbXXYMfJf2TrA%3D%3D&trk=flagship3_job_collections_leaf_page</td><td>Software Engineering- Web</td><td>Carousell Group</td><td>Bengaluru, Karnataka, India (Remote)</td><td>carousell group</td><td>Bengaluru</td><td>Remote</td></tr><tr><td>https://www.linkedin.com/jobs/view/4280800394/?eBP=BUDGET_EXHAUSTED_JOB&refId=HU7tKKPRmoYAbhpOIfM9nw%3D%3D&trackingId=4Pvz7lPHap%2BuvWNHLyUg4A%3D%3D&trk=flagship3_job_collections_leaf_page</td><td>GenAI Engineer</td><td>TO THE NEW</td><td>Noida, Uttar Pradesh, India (Hybrid)</td><td>to the new</td><td>Noida</td><td>Hybrid</td></tr><tr><td>https://www.linkedin.com/jobs/view/4245121446/?eBP=CwEAAAGYgRR6NQ4ZuPW5NoKadsFFZ-VYhS7yKaWQJ7svFhT78q9LhJ2pePvsG8mQUMm5IN4xrQHOtqxHooQCZx3oziZJ4-E4ZLne28DqWuohIHAai1Tf1ra51iZq76X6EMKAlVdDxsc-YnIHLn0SAPvKsgStvtrttjOAUy4QxDMuKJAQ8k6wHsMSVYgf2VR4CCB4HMirLlDv_GCjMJK8_kETemf7_j6bqYZuR9vXNPqmvD4INYwdoFSaMhvmrO2JVKw7BD8_MPi8RygtjZxdxwlYfx6YDZzR55kLV2_W5AP2JCpAQCIzKI-FqWsZkH_MC-I3ZqBJKjBgQVp3YUtvhBzm7D0EvLwqHof1F7U0YeUIBt40A29xLHho9nO9SXAm1Wbz0DGYzopjiqLGWmqU4WY9L571NNxnHjt4VFCM6dFqxC_vuZrOWIepRN4biNd_uaq9rL9Ff9-ETBl7CZ_1rDySG-xdQHshaVqxEBi-W0wtAXoHQFyNIeR3sXs-7xHUWaR7jeNw-oURqvqvHiYkKHMT2rLlnPck43o&refId=HU7tKKPRmoYAbhpOIfM9nw%3D%3D&trackingId=TK35dOditK9QcPiygCvFZA%3D%3D&trk=flagship3_job_collections_leaf_page</td><td>Data Engineer</td><td>Centrilogic</td><td>India (Remote)</td><td>centrilogic</td><td>India (Remote)</td><td>Remote</td></tr><tr><td>https://www.linkedin.com/jobs/view/4280166426/?eBP=BUDGET_EXHAUSTED_JOB&refId=HU7tKKPRmoYAbhpOIfM9nw%3D%3D&trackingId=UphimbfPWaUnNdgaqHZz4w%3D%3D&trk=flagship3_job_collections_leaf_page</td><td>Software Engineer</td><td>Experian</td><td>Hyderabad, Telangana, India (On-site)</td><td>experian</td><td>Hyderabad</td><td>On-site</td></tr><tr><td>https://www.linkedin.com/jobs/view/4262351983/?eBP=CwEAAAGYgRR6NKQe5qBXWQTiRtSRAHNQFSTEqs120-f4ef2Q2QES8zDs6xDHSD0KYT4s4qEnbIRXEhKeW7Xoz7qufbguP1KuUyOFunYcKBYUZvq07IaN2nRkybvfbSL_xGb69bAWh_5oWYbdx2BBsIXXNH1JxGCpBFj82pVTJJOaWI7CMs_pjmgihX16sKY9lnyKToqIbuiY_Eu8ncekaRwe5wx54zgTXkbcatPXV5x192cP7iISDK1-UIhoAn_BW5nzLIlBuxEnAn_0smILf0FBd8Zy_EmP1JaX97T7KBYdA31AzZO1qJJHO82U2GZF7nGjWL5fPLn241y_PX-BlQ_z6N7r2rV0uzpthKP_8uk_V1tjsf7pKyVPIkJoMXj64uJnYXLrl-x5_cJ1PBx-WSDip8gDUq1nL7JEYoVYyadDe6ndDLkd8d3_7cdUz-ZkibzrgKI3GO5Kp3VFD1C_WgnsL86PDQoZ2Zfo3O8wGhNO85LALXnSW3NecZi2VLGj0R5izsSH-j2w5X5keo4-FzAn7Za4wQ&refId=HU7tKKPRmoYAbhpOIfM9nw%3D%3D&trackingId=fsGoKTsNIqzKbPx2xnB3WQ%3D%3D&trk=flagship3_job_collections_leaf_page</td><td>Senior Software Engineer</td><td>LinkedIn</td><td>Bengaluru, Karnataka, India (Hybrid)</td><td>linkedin</td><td>Bengaluru</td><td>Hybrid</td></tr><tr><td>https://www.linkedin.com/jobs/view/4280506608/?eBP=CwEAAAGYgRR6NA2r9le3XUjXz7X7V6n0o6xybexEahjhI_9_tuRvjFkkUMIkcQ0KBYj2Xu5A2uMhTnhtANGYPy4wZa5_GtoD4ARxEKdVjTU-sckYPxnHgeikfe2GWfcZ_pfWsxd6YOCH_iUoxlrzpvtdfIxTEehwtodeayMDJ7_8saDPPDpxE8hveaAGLKzvtzYkTterR65fU90cVuBcMG3g9zVNK0KDvnIrZVeb0LN7U3h9j-Ux4CJWkLR5xqBvi9_N4xbSGHI--uHve7ic_c43dO-XDXwOZ5ObaDxxGGkRnOdZ0I4NfIIvZvBy_7Jir5ftrESCxIyY1O4ROTqrOWlljylQJFmtnNKkZfBAyGFW69WG5_1JpnR8ybVKQ8T-vsSJ6_z6ciGw4XfMt8q_chyragMUp84ANlkw0UFAIxImVc76s8MO7_2MwKFJnsvUszmxZ1rbRfNDYz2FZzguU9tqLumF4CZUYWE0YeKZ3lZdcr1LHrgSInD1hU9SbWAG1OaB1rT1IsWUoXTYtBk339ys09f7OsWcnBpu6Nvz726HZfi-x_zPV7bREKdkwXiSJIg&refId=HU7tKKPRmoYAbhpOIfM9nw%3D%3D&trackingId=Rqkmx7bWRxaZfbJlkVx0Zg%3D%3D&trk=flagship3_job_collections_leaf_page</td><td>Frontend Engineer</td><td>PhnyX Lab</td><td>Bengaluru, Karnataka, India (Hybrid)</td><td>phnyx lab</td><td>Bengaluru</td><td>Hybrid</td></tr><tr><td>https://www.linkedin.com/jobs/view/4278247578/?eBP=CwEAAAGYgRR6NDVlY1CSYgLTQ-LKG3slZo4n7nUvoYboawkPGpVD4XFCq0svTsM1FeDjXxQMib7dGAyyHd6E8xGYFmT01G8ifYukCagppVzOFSg5XaSnbnn3lok_3aKJMneUAiLZeiyW_Xj-KSKBM3Fz8ivVSZ48XAKLgaYnB00o2dK6Qrmj13o7mlYNO8W8HheXrnpDwc-Of2xuqSRkSQszrWoa_HNAadb2WCg8zThiilJe22R2slL9iFOHPYQzwZTWXlro9FE94Ku3prIgHn8GC06kYnM134THt8qKybBezldBchpXcBAjI1BtYbdpWek1m4MaP4Os69QaqO-smEF2zNLdNW647cYDHXlokYGUaVbbw9Mr3Ddj2Mw1ASlFIoplvOLp4_6r6-glvL8LzfX9Xy5oJoq_5jZGnqk1Ykr0g5aFZzItbxtF_yHJMh7iqSB29rrbL9-pSscAcrPW55Z6XGGga2SjwaFw2wU5jIYeFOqgPHRJMD2zMuHU2-boPqJ5zMwjfsuBkB1tPAgdL3jtdHTXT7AIhjA&refId=HU7tKKPRmoYAbhpOIfM9nw%3D%3D&trackingId=v6Lv%2BshX7eQApyk%2FDL27Zw%3D%3D&trk=flagship3_job_collections_leaf_page</td><td>Data Analyst</td><td>CareerUS Solutions</td><td>India (Remote)</td><td>careerus solutions</td><td>India (Remote)</td><td>Remote</td></tr><tr><td>https://www.linkedin.com/jobs/view/4273593598/?eBP=BUDGET_EXHAUSTED_JOB&refId=HU7tKKPRmoYAbhpOIfM9nw%3D%3D&trackingId=6sA%2BdRcQceHdBFuZTYLqbQ%3D%3D&trk=flagship3_job_collections_leaf_page</td><td>Python Developer</td><td>Datum Technologies Group</td><td>Bengaluru, Karnataka, India (Remote)</td><td>datum technologies group</td><td>Bengaluru</td><td>Remote</td></tr><tr><td>https://www.linkedin.com/jobs/view/4280141875/?eBP=CwEAAAGYgRR6NCZwe42hSSirH9Sz0o8RusjJYqS6izkOomHgR9MdcjawOgZ54qM87PceWtAp7xAwPHRmjQaWKS-GRwwWDvSD4T5tzSbREZbrjKceNi_08a9L113D9ZYUJL8z9wJM-jxNEfwQ5Gy90coQxMlHA8knzdWPuKpsaZj7gjm9YNfH8yk-3hb0r-rOlRC4bllJeYLMjlU7NUfvzbD0McNRoGgsO3jXLuyJqK6fCDSZk8cYERe5iA-MKPpnqAQG46dpfO6Oq_Bretj1oC7gLjo7Zg8qr_xk4ErdC7C1eymHDZzL951UA_GBzLAI6WFE50Di7F6UyrHtM0u8M3wbxnkimRnIzkS9nsWQiOwW-ONbQPyjHfzmipS7vd8GPVRyt15-0NwhyFUmMo6_e4JS6FYfnTegyRM93C4rPm-CgTvhPW4T75F47lAeuouxHTUA3PbfSQ0U6pTw9-ijjyJuNHPBwXM0M4vguC_44aFBFoDx3ps7TkZ_CNQ2r7RneKUSpg-4oMTdf71qDvbX44b_cy5bQaxiPZA&refId=HU7tKKPRmoYAbhpOIfM9nw%3D%3D&trackingId=1rjv0tcAjR%2Bku%2BxR6Cu06Q%3D%3D&trk=flagship3_job_collections_leaf_page</td><td>Software Development Engineer Test</td><td>Airtel Payments Bank</td><td>Gurugram, Haryana, India (On-site)</td><td>airtel payments bank</td><td>Gurugram</td><td>On-site</td></tr><tr><td>https://www.linkedin.com/jobs/view/4278062997/?eBP=CwEAAAGYgRR6NPjsud-JCM6_LEfbEy-EdUEYodoclOVyau1y8YIyD79YGll_luXVKRAlE5GuX-df0a_9RjU2Lr6VaHNWh7mrhBzQ4PeK7gwvwpj1FMDeJNuMXTjZQPT6KS_jACBktSojJJMvLg08VXmkiogliJEkdeLxRLe4n-Lybg3urosHnBtWZMVA-9LPOUXqZpxAQ7AbIKmufDCLD3TiINiIZPYbew6NnFGkaUl8JaxHb0fuATaCYvTgg-NB5KK8RChGon7xKNk3a4QEAiLldQQ6PdTxbK3bj0yGpIiZY4dh2aPkpb85F3iYwRKt3-bIp2WuBOd0ODQE4TiEvFLcPsnIrbe-zT6Uy9w85slAcdWLTc_MfhzwY-DJKiqDqGpY7-_MZ1SJam1mouq7TkEYGdx991gKAT-e0ZV31-OWwg83vHm-pe6t5ZQsyllbZcLB5eB7bMRLuRluUfPjmvVvxtRwmNvIRMnQOY_0xZm7guZ7jW-SQHPE-NlVngAtRR7Iyxgh3C4LOpcjA0QslhUJmjRXRbEF&refId=HU7tKKPRmoYAbhpOIfM9nw%3D%3D&trackingId=FRZMpeEhbcfD4ZicDPDbRg%3D%3D&trk=flagship3_job_collections_leaf_page</td><td>Python Developer</td><td>Datastack Technologies</td><td>India (Remote)</td><td>datastack technologies</td><td>India (Remote)</td><td>Remote</td></tr><tr><td>https://www.linkedin.com/jobs/view/4279361445/?eBP=CwEAAAGYgRR6NORvXTqamYdKMa3oFWm4INdL_Du8vD4zs7_I8EhTWgU3GEwYcTGzQiVPtiKqV2cNVjh_LVrp95TPPuTom-uEPXo2BdApc68Etx4J1pzZs_6M9HRkmzUpQPs-cxdM9X1vcv-sSeAMsIpZ-4AQ_8VU2ZmdkQ_7D8Sp0HqO38ag_2bUqNC40Rd1HCdTqpEVl2kTRO5Nfgowu7heBCWlTkdGo8SgovPoV_Orx104JJdS0x6IoXQmAvR7yHLuTK5jYnEe50Z7t-K34ZBpOYIPyZgT6eT4x3DMqls2z0OJQsKDI1M2XcXBVAJgNoI616SvcMurmc_lPP7BEyOfwnn4Cjtzgj41OplARirmeN3UjVicfLP8iBRRxxEXdrcbZn7aBh4ZsyD9mIYCnQUuWk8SAZ6DOz4V6vWl80YYrjz2kH_yQD-dJlQh398Qy1GLruM3uMHyRAxK7FwUY2_ZZ-1SQI6rmXldX8gLWoiqecVibPFtAQYFiptud5dJZM79TRe3L4cZRBAFixHeas6t2byZlqY0&refId=HU7tKKPRmoYAbhpOIfM9nw%3D%3D&trackingId=j4zt5xSJWnK%2F1Do%2Fr3AHRA%3D%3D&trk=flagship3_job_collections_leaf_page</td><td>Junior Developer</td><td>AAA Global</td><td>Mumbai, Maharashtra, India (On-site)</td><td>aaa global</td><td>Mumbai</td><td>On-site</td></tr><tr><td>https://www.linkedin.com/jobs/view/4278814835/?eBP=CwEAAAGYgRR6NGefh3UFupIXXCqelAz44yWcMnEBVNCb8pCq72QdpZAGlMuO7mudjuSvQiwaJv-NXzntWsRemUACEXBzC0nXaVmo7T2N3BdN1RKpHgXFfOyvdmFkdbZzC6IPW2XYLNI_xdgFVe-b6bNo8DThNYMkntw7tDgFb41irVdPR_M0sjmVQHQ9GBCM7fDjUBSOXq9wIftEGjrpVBQZCH-rjrOjGU2mOOT_1Yloma-TMMJK_sA_KgXmwYuyxJwlataRpEmKiqcuuJ80T4zEldWrpq2Q__5fDEgMDbmcrbrt6DAC8xw6LOG_0PrerW6JT-x5jdG6QlU4dBfrgk3hCdu-BZSaUqmXwohvgM5qcdC6sVllnav_fWUoWH6Vt1qkujTosZPXR7pzNxsPFR3HqfK8TGcUHJFcpt7f0z8aKrkQkkZvySV0W8nzuq-mWjSOgOgfcx0-J2yqfvJWLskAajWTXx0SEEeZ5lIrehEbPD2awPhJ-8QIYUgPCbNe7fo7U7vvzFuGyMUUzwYm5_ApsDNS9xaxKJs&refId=HU7tKKPRmoYAbhpOIfM9nw%3D%3D&trackingId=C1Hou1knVMP8LLc21f9sIQ%3D%3D&trk=flagship3_job_collections_leaf_page</td><td>Python Developer</td><td>Wissen Infotech</td><td>Bangalore Urban, Karnataka, India (On-site)</td><td>wissen infotech</td><td>Bangalore Urban</td><td>On-site</td></tr><tr><td>https://www.linkedin.com/jobs/view/4274205056/?eBP=CwEAAAGYgRR6NKiilphPR2gIm7WK5LppzWHZC2QQ8QULLHpHrvWEKGPFomAPpntaBx7z6D4riLXYcjffOnca6Jtw_S9pIPMSn7qgwqXh2zKhsaZYmvPdALSoYa93VO7KEpAqi-l39p4iio4Br4CPgIsH8l3KZQsDlIda4mtJTDPdcj6cbeAaDiQ0bgjkgGT8vnDELo4bTN8egb7dOuQvraymjPmy0L_fxblAfIsl89x62mkp2iu5Gbav-cuBdtUQEzU8mgF00L119U-annqtafgvKRgYIbsF2yDa8UaMelt39y-4RB8V_7xeiOf8XBENSKWkmORzLvIGc0i_EuYwWJ5xwy65Og3F-tp_4jJN9pGTOLeXKhiD7-C9S65FU4MiqW2QFgh2RJWKe1n7q_vtjLwwKJwUtQp7M3bB8YMQu7327_CwlpTtqNerkILIr18GPjY23W482tLV5NBmbJgj9lo9ZaNtcHYAUHgEJbpFUFD8lOZc1xPPQH1e55lM1NSfIGL6O69lEZx0e8ta&refId=HU7tKKPRmoYAbhpOIfM9nw%3D%3D&trackingId=um7qcUl4GJbXXYMfJf2TrA%3D%3D&trk=flagship3_job_collections_leaf_page</td><td>Software Engineering- Web</td><td>Carousell Group</td><td>Bengaluru, Karnataka, India (Remote)</td><td>carousell group</td><td>Bengaluru</td><td>Remote</td></tr><tr><td>https://www.linkedin.com/jobs/view/4280800394/?eBP=BUDGET_EXHAUSTED_JOB&refId=HU7tKKPRmoYAbhpOIfM9nw%3D%3D&trackingId=4Pvz7lPHap%2BuvWNHLyUg4A%3D%3D&trk=flagship3_job_collections_leaf_page</td><td>GenAI Engineer</td><td>TO THE NEW</td><td>Noida, Uttar Pradesh, India (Hybrid)</td><td>to the new</td><td>Noida</td><td>Hybrid</td></tr><tr><td>https://www.linkedin.com/jobs/view/4245121446/?eBP=CwEAAAGYgRR6NQ4ZuPW5NoKadsFFZ-VYhS7yKaWQJ7svFhT78q9LhJ2pePvsG8mQUMm5IN4xrQHOtqxHooQCZx3oziZJ4-E4ZLne28DqWuohIHAai1Tf1ra51iZq76X6EMKAlVdDxsc-YnIHLn0SAPvKsgStvtrttjOAUy4QxDMuKJAQ8k6wHsMSVYgf2VR4CCB4HMirLlDv_GCjMJK8_kETemf7_j6bqYZuR9vXNPqmvD4INYwdoFSaMhvmrO2JVKw7BD8_MPi8RygtjZxdxwlYfx6YDZzR55kLV2_W5AP2JCpAQCIzKI-FqWsZkH_MC-I3ZqBJKjBgQVp3YUtvhBzm7D0EvLwqHof1F7U0YeUIBt40A29xLHho9nO9SXAm1Wbz0DGYzopjiqLGWmqU4WY9L571NNxnHjt4VFCM6dFqxC_vuZrOWIepRN4biNd_uaq9rL9Ff9-ETBl7CZ_1rDySG-xdQHshaVqxEBi-W0wtAXoHQFyNIeR3sXs-7xHUWaR7jeNw-oURqvqvHiYkKHMT2rLlnPck43o&refId=HU7tKKPRmoYAbhpOIfM9nw%3D%3D&trackingId=TK35dOditK9QcPiygCvFZA%3D%3D&trk=flagship3_job_collections_leaf_page</td><td>Data Engineer</td><td>Centrilogic</td><td>India (Remote)</td><td>centrilogic</td><td>India (Remote)</td><td>Remote</td></tr><tr><td>https://www.linkedin.com/jobs/view/4278499830/?eBP=BUDGET_EXHAUSTED_JOB&refId=IXn%2B7T6IbKlYbETu2OTZWA%3D%3D&trackingId=UStwSF1dMfSfWZerjTNxQw%3D%3D&trk=flagship3_job_collections_leaf_page</td><td>Data Analyst</td><td>First Screen</td><td>Kochi, Kerala, India (On-site)</td><td>first screen</td><td>Kochi</td><td>On-site</td></tr><tr><td>https://www.linkedin.com/jobs/view/4280908957/?eBP=BUDGET_EXHAUSTED_JOB&refId=IXn%2B7T6IbKlYbETu2OTZWA%3D%3D&trackingId=1taqZsfAG7opCHSvh0%2F6WA%3D%3D&trk=flagship3_job_collections_leaf_page</td><td>Python Developer</td><td>PeopleLogic</td><td>Bengaluru, Karnataka, India (On-site)</td><td>peoplelogic</td><td>Bengaluru</td><td>On-site</td></tr><tr><td>https://www.linkedin.com/jobs/view/4275934453/?eBP=CwEAAAGYgRSHYQlBocX1aee5Y4B47a0ilvIj3x2b4sHK_Trxdj1Jw3BI8enV2QTjqlIOpNQIVAsJbqpSRDrcA0Dl9Kc7oC6xHOhQt0mNkzspgwkD5dylunHMN1wcbxHr5AcNc062hukfcPfr5bDuS-ugLCex8-Z2qYI-gMqzj2bbuipWgoo5UCRqRfFTvEdU63wjbQff3ycroIHRft1ZYINsoebENA9Kc_ceshhTTk2mwBDe76bDYg3TxKiB8nPIY_QW9zrULf70UdDf6y5TqQoDltR7W-uIoLzKTT_fe9GyoTTkHRc9eqw_fTs6H6Y7AIZNxZMjDOZTq9QJcLZR23AD9DqvJDLIzfsqhWVD400zgV3KCzTDBm5w0cJEF0kwHkP9h86k_EXOo3kRnKII9ffaXR60l0Sj0WbSlP4x-aanmKn12SvJAJKba0DlFxMLzebBzA1QNmSJBAGSSUWpTtH-eqbiqB5oHsmRLJkVMQCV6ri5mkP-FEsKRSalNC0lClo0QuhdKBKoOZsL-v6aYdRCGamKllAF&refId=IXn%2B7T6IbKlYbETu2OTZWA%3D%3D&trackingId=IFxwCcUSZmZw4y4GsT3Klw%3D%3D&trk=flagship3_job_collections_leaf_page</td><td>Data Engineer</td><td>Mphasis</td><td>Bengaluru, Karnataka, India (On-site)</td><td>mphasis</td><td>Bengaluru</td><td>On-site</td></tr><tr><td>https://www.linkedin.com/jobs/view/4266402388/?eBP=BUDGET_EXHAUSTED_JOB&refId=IXn%2B7T6IbKlYbETu2OTZWA%3D%3D&trackingId=wpHESDFp8IN4x8Cct1b2Bw%3D%3D&trk=flagship3_job_collections_leaf_page</td><td>Machine Learning Engineer</td><td>KeyValue Software Systems</td><td>Kochi, Kerala, India (Hybrid)</td><td>keyvalue software systems</td><td>Kochi</td><td>Hybrid</td></tr><tr><td>https://www.linkedin.com/jobs/view/4279555995/?eBP=CwEAAAGYgRSHYRqbWacCWN9MtaPKozxcrG_Xw1f9bVNPfGcKx_1640uqBQac989WB-NyOCs3gGFhAkalH9bcZ2-zCMTkQXhRCNBsesBEheI7TT-Oykg9k8hWrYTUxCMJn-bLEZKX_0eEQZ7K2M-yWHy8pqiBrYoLMdnOGk-jv2KPToe3IE7dQ8hSO0vNikZooGbKPC6HJc495YbXwo98nonU1XjSJ2YYXKmm7MDWx8eho31ri57siS1oI82KZHJbRSZLtGJnM8oSSlzyUJU640bH9kIaQOobryFnVYgb1RbuW7v_DcqCIdZQDFCDwz5LOm9ATBn-rGk5fKU2PHhzUkLRj9XXznyDgC-5RcXkStJB5x5KbAL462i8TzTTp86Sg83gyqwtTCacswOyncGcgutji9kn_xa17A_yA7BoVtMGD6_uMY37jwyRTpOPeDuiNYItOn7CTUzPl_rTzclstcKHIYsbLb1V7traOKS9OKa5YxCTXt7c_U-yzSpWk3zMXeo1_p8-1VIrkqDTDsf2IJj9ZeuH82lc&refId=IXn%2B7T6IbKlYbETu2OTZWA%3D%3D&trackingId=3oo5CSsTOD0mKIO9wHRQuA%3D%3D&trk=flagship3_job_collections_leaf_page</td><td>React with Python</td><td>InfoBeans</td><td>Pune, Maharashtra, India (Hybrid)</td><td>infobeans</td><td>Pune</td><td>Hybrid</td></tr><tr><td>https://www.linkedin.com/jobs/view/4280083964/?eBP=BUDGET_EXHAUSTED_JOB&refId=IXn%2B7T6IbKlYbETu2OTZWA%3D%3D&trackingId=3H5tkO6JmBNt5S9jIp26Aw%3D%3D&trk=flagship3_job_collections_leaf_page</td><td>Python Developer</td><td>Darwix AI</td><td>Gurugram, Haryana, India (On-site)</td><td>darwix ai</td><td>Gurugram</td><td>On-site</td></tr><tr><td>https://www.linkedin.com/jobs/view/4258100629/?eBP=CwEAAAGYgRSHYe1sV6LWIqEQ6ru6OvzRituNgxmjAGmaaj9j3gx64NJ53CI9gA5RNOjye_DEbuHkuprb0UitVU4tZAH4p8dvZ7n1MDxAIECJOaXBYHwTJ34dP6HqrunOJ43dt2WI3ZKJMFvfplBsiIAfsNxxoI0FmzUww8JHP3BsR4XzCRwtfzBxRUoau9Zuk7A3C9m4eVRNiu_PsgWaxMCS4Hq0uiYzh2eM8tLPW8GcBYz-B6IaIb534VsAnN-yqNoaDtWeIQwBL7I-G_3AZ29WfGHZIrsDiO1IQV6mscnkroq25qUiDzn4vWsz8AikZHGrPbtKEMgWu9_tIVWcVYCIpFmrKaXepG8nJPCF9aekkkDJB6hjDrm2yguitj_i19mZyWvmd1zFdhhssn58t8-6foLCJ8YpQP3FX2r_YIz-cOje_oxYRStrqsCknDDBOxiNV5PvNQwEl0MpzsoScvokB8CDasXLDedjjRvKSrMi8ivUDF8qfT6mv3mWi6bI6gN5DKEyzOybHOuENXhfTTuV2s2s5AsxWd257Q&refId=IXn%2B7T6IbKlYbETu2OTZWA%3D%3D&trackingId=pXH%2F%2FqLfOn1BAaIoANYdJA%3D%3D&trk=flagship3_job_collections_leaf_page</td><td>Geospatial Data Science Engineer</td><td>Esri India</td><td>Bengaluru, Karnataka, India (On-site)</td><td>esri india</td><td>Bengaluru</td><td>On-site</td></tr><tr><td>https://www.linkedin.com/jobs/view/4261958705/?eBP=CwEAAAGYgRSHYXq-2tNNLGZi3tyT7Af70M5BL5-Pi_K1HBDcKiynrFGF2e3LcpXQn7iT9HnVzOlx-CnpkI81QJIyQMjgkKxOJI3nHAozocToEZQ3fA8FM88So8qwPhkdgA0R0Z4Kn-9Pql-O5QKZyLmW6zVHMnV-RdAO6yCmmTrL1B_Y7PBA0T4fhfxdScTkIXIrurizBIEud2rMUIf2vmHsAI-LKzNL_0yF5V14BcEo2NyWgjjfOBUUwdlfTEextlrrl5QS-x8qKRmX7i53BJHaPfm_AR8LWQAwffXZBKoqNzF8VWAicfP7ywJG9OZ_V_3QJKJnAd9-FQ-6G5LCgaL9D8U6bc586b-7G72pQjMECQknRCWtw_AWiGFS7jQ-fF75OrI8CwlPPdVhet69yymUs2bNLDYS1tYfToQ3TJejpkM3IBIN6RpZU9im0l7rYGMT4__OiVU3dAw3ryMLBdzvdZORQDpRrS7pZ_5Oi7Qdqo0PJEdZRwKu9nfP3ZRvoiViaZs9vBRD627T2Z8g_WuinGmA_A&refId=IXn%2B7T6IbKlYbETu2OTZWA%3D%3D&trackingId=sgL49RdKujsj8ChiXEJl%2FA%3D%3D&trk=flagship3_job_collections_leaf_page</td><td>Sr. SW Engineer - AI Engineer</td><td>Roku</td><td>Bengaluru, Karnataka, India (Hybrid)</td><td>roku</td><td>Bengaluru</td><td>Hybrid</td></tr><tr><td>https://www.linkedin.com/jobs/view/4273865227/?eBP=CwEAAAGYgRSHYS77Qsl81O2Mp7sx0AvQFNJwhMVe_nHP8JEm0Xzl6o25QUzCEIlPnhMADCBlPnKh--GCvDQkcfIhzM2VdmaI8r7HxoucbqVsg7LZVKI3857sU9_rSeJM4CdzeSxL6l8br97iIB9NDPM08DWckEDn04tpxGpR6TMjWA5OnyuZtmVEH4N_aB8wTzQblpqUjPe87M_PjUq9RdA6alw7n0YRPYcsXmtZBcEdsgVUMN_XOwC24irK9Dz3DEP95vsjGGQc5-_QipYdmqTFO9kaW5ggeuGMEDXhIk38EoPGgJKVeklPNplgNa3RShXDOEFjamaQ_xF-PW1WBjodZopHsM9XxpQXxUnI4X0hbmo3hdl-2G2W_wIr63l-LuR5s2cHmV5K_HEd832o0FkmyeEsztYOFpdaWJfNWY50MUEKZiQf4dLiKTD0YCVLo1RE49z05NvYxjt_8ELafBDjCLdsUv7Tw1RWQVXwZUD7IOxgEpYQAbrKlAuaR6QW-5BBkJqfraPycCfnOtXmsoqW9CdtWTP05mU&refId=IXn%2B7T6IbKlYbETu2OTZWA%3D%3D&trackingId=Aq9CnYYL7gA6aWgVJKkajA%3D%3D&trk=flagship3_job_collections_leaf_page</td><td>Python Developer</td><td>Binary Semantics Ltd.</td><td>Gurugram, Haryana, India (On-site)</td><td>binary semantics ltd.</td><td>Gurugram</td><td>On-site</td></tr><tr><td>https://www.linkedin.com/jobs/view/4278056511/?eBP=CwEAAAGYgRSHYbKyK1t6aUVQpAHioJlUIGYPYPD0qZuJcA5sbG-5yJ9xXlsxCQN2bnrEeJynLuYdC4JOPRlkC5gLy7FDDbQZid1cw80_-l3nv5H07Us-DFcAL9Ef_mamod0c_ysEmpE5Vimg434q9tf8Mbz2FeIMFACwdG-r872fyRHghTCIltJPPziqdJ80MrSvA8dnJ4p6OujhcwkT44tWlkWKF5fk7mBKSavRx1s8oICg-_dHJI1wUitnIM5GFKDfbTthxUCAwDJmz47x_698X7t_wV7zMrFA4JXfVvuWpz7jbnBXvTBO7SmCJJ9p_yhmeOKHFP4qdC5yK8iNMBWiHaYgvtLs5Eo2iJkEA4dEgb3Rsfl-sDiUC4hWQrewrm_QORDlk3dw3ncVMtCzfuAFAsDrwUXsh9HDc2HrbJKxgEsMw8r_KEDWfBrBxWKA0SXOqDBGAIWMipv5zcsratuOC-6SS-1prh480ciACOu-KeD1d0U&refId=IXn%2B7T6IbKlYbETu2OTZWA%3D%3D&trackingId=al86rCGlIBzjPmyb%2FGunXA%3D%3D&trk=flagship3_job_collections_leaf_page</td><td>Python Developer</td><td>Relanto</td><td>Bengaluru, Karnataka, India (On-site)</td><td>relanto</td><td>Bengaluru</td><td>On-site</td></tr><tr><td>https://www.linkedin.com/jobs/view/4277157799/?eBP=BUDGET_EXHAUSTED_JOB&refId=IXn%2B7T6IbKlYbETu2OTZWA%3D%3D&trackingId=ByLFrh0x2XtwoPHts9Y9%2Bw%3D%3D&trk=flagship3_job_collections_leaf_page</td><td>Software Developer</td><td>ZEISS India</td><td>Bengaluru, Karnataka, India (Hybrid)</td><td>zeiss india</td><td>Bengaluru</td><td>Hybrid</td></tr><tr><td>https://www.linkedin.com/jobs/view/4280451154/?eBP=BUDGET_EXHAUSTED_JOB&refId=IXn%2B7T6IbKlYbETu2OTZWA%3D%3D&trackingId=nj834IAvHex%2F2%2FuP%2FaCGow%3D%3D&trk=flagship3_job_collections_leaf_page</td><td>Data Engineer</td><td>The Functionary</td><td>India (Remote)</td><td>the functionary</td><td>India (Remote)</td><td>Remote</td></tr><tr><td>https://www.linkedin.com/jobs/view/4280159089/?eBP=CwEAAAGYgRShx8mFwInd5Wtz4tKo5vhxu9PGSkhnIpiguzTWBAOASPujb6-ekNUa7oOzCfK_lTshBNbz4-hF-06OQNl2o53OnOA5IX3tX9ImsVQnYl_MgsYMj5Ktfodji77y5QC8P4J531-b_Wzz8OZvLvDs1VEgzeNnRBYTvUyWzELthchmd85APr28okiNzOPXg0EmZZR1HUaZXIMIOrmQzU8LPnbLkZ42sQlt65pQUuw9Cc8EWX0YAsuR1LPF8ZRPveXvJmkh3OR5OjdYCq3cmLH6khN2O4YLqWWfdgIEPzh1RaZi7-M1bSr95-8D0cSUYxg8DjHnYA3mcZH_F-2WhgGWm-_Sg6aAV66rJ2cHHRqqOG6d6OcMeslaR2PHIJWoOWZ30TtjN8-GILlOxT8FiqQAMnAfDV7oGUP7iTyCzcKk-m2CbjqNdGHd0fLhqBIFCqEW1EGRQVxXOZ4nHhtuh0J0xy8-nm0vaV3KzCuikIAHnB1ff_YKxz63Bzi_NXKAysRshfTjZAx7F6sondmOq5y8Y3vwu8wkdQ&refId=MYPN7y%2F6AW6jfo%2Fh5tzXMA%3D%3D&trackingId=xEsgmowR87anJxv07xJlOg%3D%3D&trk=flagship3_job_collections_leaf_page</td><td>Remote Data Science Analyst - 17843</td><td>Turing</td><td>Pune, Maharashtra, India (Remote)</td><td>turing</td><td>Pune</td><td>Remote</td></tr><tr><td>https://www.linkedin.com/jobs/view/4280346453/?eBP=BUDGET_EXHAUSTED_JOB&refId=MYPN7y%2F6AW6jfo%2Fh5tzXMA%3D%3D&trackingId=wK2%2F8zTdMPzdw6rnTyll%2FQ%3D%3D&trk=flagship3_job_collections_leaf_page</td><td>Computer Vision Intern Remote</td><td>Bhatiyani Astute Intelligence</td><td>Bengaluru, Karnataka, India (On-site)</td><td>bhatiyani astute intelligence</td><td>Bengaluru</td><td>On-site</td></tr><tr><td>https://www.linkedin.com/jobs/view/4280121497/?eBP=BUDGET_EXHAUSTED_JOB&refId=MYPN7y%2F6AW6jfo%2Fh5tzXMA%3D%3D&trackingId=A6Al2m%2F%2BYwDEgZrWC%2FiJ0g%3D%3D&trk=flagship3_job_collections_leaf_page</td><td>Data Scientist (AI/ML+ Python+ regression, classification, clustering+ SQL+ Cloud )- Group Manager-Data Science</td><td>WNS</td><td>Bengaluru, Karnataka, India (On-site)</td><td>wns</td><td>Bengaluru</td><td>On-site</td></tr><tr><td>https://www.linkedin.com/jobs/view/4275931334/?eBP=CwEAAAGYgRShx8FqwN_v7GT2o3MfO5XqjXZ0FGHQoj4og7uSXcJIn2HiNpBvkII_Q7ImY9L1xITqw6sSMxR5JzU8tFX0lHcnYRMr7p_tGmPLi0ZDAb5NAVn8XS49IWBxcXsevucIDyNe0caqD7Q2otq0yWZxbqrEmIfBK7nOS_VmLYAkzolgTr9wX2iXjfLZAMAjA7ldb4--GBy_JIzFyOQMouNYyHBWmraVEDJOVbJ1D_uxTi4u55aCHzD8_H6hfQV1QUl51dP7ymPq_Dp-6FwklEWpUH_IU7keakb2759MLFl_yxU0tZMZ7-l6DuXO8z5_jcYbmNG51xl2qxz6I2FjFdltlcNgTuyrLR1gRedj135BgEH9qoJ7nV98Rwe89WHqgyNTD7X6tW32AGcgA8nzFVWc7vypg5DZka_Z7rMbZoZPg1preQngKsSrl64cNPEm5I8zpF9d5dX-ljiCyUIWwJvWNymDz1bi5w4jtGY-35bAN7Qum41DijhH4Hl1Y4RtiNmPMkRDg5VsOfXCraSrYSlBK28oGRhm8g&refId=MYPN7y%2F6AW6jfo%2Fh5tzXMA%3D%3D&trackingId=o%2BSADGHi7wkXwyPxEswQjg%3D%3D&trk=flagship3_job_collections_leaf_page</td><td>Artificial Intelligence Engineer</td><td>Grid Dynamics</td><td>Bengaluru, Karnataka, India (On-site)</td><td>grid dynamics</td><td>Bengaluru</td><td>On-site</td></tr><tr><td>https://www.linkedin.com/jobs/view/4275584994/?eBP=BUDGET_EXHAUSTED_JOB&refId=MYPN7y%2F6AW6jfo%2Fh5tzXMA%3D%3D&trackingId=o2rg5nMH7ZJcKQMS8kQ22w%3D%3D&trk=flagship3_job_collections_leaf_page</td><td>Python Developer</td><td>HCLSoftware</td><td>Pune, Maharashtra, India (On-site)</td><td>hclsoftware</td><td>Pune</td><td>On-site</td></tr><tr><td>https://www.linkedin.com/jobs/view/4278123433/?eBP=CwEAAAGYgRShx3TZl56YZ6sZQvVs2waDUhC6-rqA3UnpjkiUH8LlWIxNKEueb0K3nw8sO8B-YtPwHz4oOIO70m_a4zW78NG2_gvj0et2LNfTNWOXKXaxDCWeHcAOWUcrRrBhBR5GtAfkiH8u7bm0M4iNdMoHKh2ZKO22skFrGt8QiimYwXku6N2Y-gDLAPN9w02kMW-75j1dk7FxTtMBrnzQipQfUxY8GPEYbkxGxtX8kAVpwIIgcNi5Ca_R9t7aE8pb65D7Q_1ag5WNR1Z5wu9WVuuNPVEnpJNHFPLN6yZHRMkvWlZwJSY07Q6gnkPdVZWzqd0mtljduNxBjwdN3AiVrecLmWxlYxnUzSp1I_dhIKZQgUPNlKI0p1WHfz0Skq75uBFNoVyg0-_vtjVe6ZYtQLl1VNsH0Zhgvev-qBKjCymk-yLUXhYyGaiKtM4VZUCnT80McFNPusIU1fW47VcWXGkOC7o5NWb-k_GmgXbz65B_wpyLn-MnvRbsoiEfdqJ74H3npBuhFLgp18wfEKfz8VodXaVwaOloRA&refId=MYPN7y%2F6AW6jfo%2Fh5tzXMA%3D%3D&trackingId=vo8pzKwkdxSqJBuE6x8FDA%3D%3D&trk=flagship3_job_collections_leaf_page</td><td>Data Scientist</td><td>Circle K</td><td>Gurugram, Haryana, India</td><td>circle k</td><td>Gurugram</td><td></td></tr><tr><td>https://www.linkedin.com/jobs/view/4272012450/?eBP=NOT_ELIGIBLE_FOR_CHARGING&refId=MYPN7y%2F6AW6jfo%2Fh5tzXMA%3D%3D&trackingId=6wdCZjJ1%2BXIG%2BhJWUqQo%2Fg%3D%3D&trk=flagship3_job_collections_leaf_page</td><td>Python developer</td><td>TestUnity</td><td>Bengaluru, Karnataka, India (Hybrid)</td><td>testunity</td><td>Bengaluru</td><td>Hybrid</td></tr><tr><td>https://www.linkedin.com/jobs/view/4277501095/?eBP=CwEAAAGYgRShyNaVrCDtY-Qlsz6VMJQpihbQdzjtLC4eWhIopdDHYSz9ndUrtFoZAdcFRhKQqGOPA8bpfTSTrHf_e2dcJtVZLOXdlqECRnM4wNMragLJEPkjqQyycjDBjighwpTtGepJ_39O9aVdCB9IdCFaEA7d88oJ4C6NIwqq7zDsQWJw3MAZhJGtCWF2clhOfpDe9IB7xL9PSN4lu0xbBSlGrGGTRnS33imPvSalk2FTPzoXhHJviQqQ64kg0XmUyHagftQTkqEO9ssh0sqbfiWu8l8JoSnS5RJcBXHxjG8WOGsaLwJz6-jDKl2EXMpE2g5fY8_4uoSphNnd6KicmVnSSAM6Y6aQ6WfPJnbADJKDr1uZwLsKeh28Bc42PIUWbnuJE4KENQsBN066UyQklx5hYBZOxLxso7TpgL6m8SU4DcLvxKBMf7ioeYei-8koYchAcXMNF0mMjRPbd2xD-rAg7zZ5__W9TVFxlhmo_QnoOw_wkRoC6xTCvwusafntydV0XtLEoxqMDKZUh_RqgNycyUOz0OU&refId=MYPN7y%2F6AW6jfo%2Fh5tzXMA%3D%3D&trackingId=HELp3b62bEVrf6V4k9dGIg%3D%3D&trk=flagship3_job_collections_leaf_page</td><td>Sr Python Developer</td><td>Nokia</td><td>Bengaluru, Karnataka, India (Hybrid)</td><td>nokia</td><td>Bengaluru</td><td>Hybrid</td></tr><tr><td>https://www.linkedin.com/jobs/view/4259429652/?eBP=CwEAAAGYgRShyCTm2v1zLa-TznmmKNaOcLt38Hiv-zEr5ob_DK-ejshPNlZ5Cp21eV0occQbdidT4ijq4U-2f8PuijG2Uzkp3FZIY5tJIDi69boyqzK7-khciDQSmObjt0tc7WfllFAb_Q1E65pXsRRI3CUe0ZyKYPdIEWhQ-gQ4GlNfk13_J8bVseT5xZGeeO1M3IKO4a5H9Osw9n5BcCBJspEAW8jiGgtZihJRXcVFqbOIvqeqCoeqmApD97T-9sERYnMHiC-y5pnVtzrhq5Kc02ZAlzN1dlLT0ESuW-ZM9K8d-tdsc6tlZPnc9wV4bJlK9YHVg6Iu2GUcNJRBfDzWjs03DZEhuex1SbkJQfibO-ZuBAjIBCHIsFcQCnWQG0Th4lHStqb9iKL-s8uOH_mLaDzqVBKaGHqxhr8PXq6ybC9mhvOLv1jzW6IKQgEb2QufdyTBsInhagBS6DrMqPodB5a9FrqGka6ekxNHgCPVAXyijLLUcdksQRhMjsx0Z_G8swKnKRQirYgxtFufEeb8qup74Op-HbQ&refId=MYPN7y%2F6AW6jfo%2Fh5tzXMA%3D%3D&trackingId=200YpSPF5ybsudwdVRypmQ%3D%3D&trk=flagship3_job_collections_leaf_page</td><td>Full Stack Developer</td><td>IDFC FIRST Bank</td><td>Chennai, Tamil Nadu, India (On-site)</td><td>idfc first bank</td><td>Chennai</td><td>On-site</td></tr><tr><td>https://www.linkedin.com/jobs/view/4277602277/?eBP=CwEAAAGYgRShyKyNJTlmK1pfAeEswA2CFD4VSmKsdET2eKkyr-zpWwkfocl4Pi513-1ZqmWhcsNcBhOdbK-t-7-cRMOMID27yvfUIItsxFdkJJ9qXwC-wT07FzxWYu6v7lynyJdETuYZIwlS7nUeolIIt4wg7GdbpisD9E5QE8z2ZJI95qhTIEaNwfhGjp-hA4UAiVfh_bAFFFUVQseambGS4VmoutUdlBV1UhvflpKOqKzOerMM0Ra69SyS_Gn46ujefliOQ1qfkHtFo2drNouQ1TK54uKN5Q0abQ3Km9lA_4UBdrD4HRDYvuvk8aP4Bo-v_9JJ34GW6HgnIKm4wk9-_iXHBEhReN3Ie9OnSc0BNwQe9ajvKY7R0RQBdSzescg9HqOWLCEsc721Lzy3MrHBCEvg5wTeGXZ_8r40ZQWkoY3oDK7EHD-JQDvD-W5q6XCIJmCFVAkAqKT8Vj-8H0qg_WvbrzoSLhdw2Im6uMYRQpKGAbgMZrSEb142XcbE35hRW_mgku_3gQcpooFPK6o-KHqpbyJYBWuWNQ&refId=MYPN7y%2F6AW6jfo%2Fh5tzXMA%3D%3D&trackingId=4ajm2bGTGhFZwINurlyhtQ%3D%3D&trk=flagship3_job_collections_leaf_page</td><td>Software Engineer</td><td>Nanonets</td><td>Greater Bengaluru Area (Hybrid)</td><td>nanonets</td><td>Greater Bengaluru Area (Hybrid)</td><td>Hybrid</td></tr><tr><td>https://www.linkedin.com/jobs/view/4250486850/?eBP=CwEAAAGYgRShyBsgTWqkc0sMGXqbaMwILYszW005WX-hc-2llOIj4THlwbg43-w4L5Dfw1r_VmYm17TsvoZtA14YSr8dEVIB3WT2VAlx55M2xNgv60okU-EEu4mRTpUv7X4wEGpHaIfqu_KUs_Xu1nNLjvMaNaLFepUqCHVSEioR6yeqnmfhMjEYhTIL913cxhKyXpzbcJuVz-ewgPSZFiX0I-8tJLE4oIhPNsNlPjdQ1ZV8ytrpzORgHkbNywznLHoMe44SMhVWLQPmbSUnhqEwgUknI2DJe6sUzn2HSTCpCCDM23UgxDbkP_-SBWMcvU4frR_eUGCmhNZhZif3iKguFMB-zsfNjyDLABITcqhdDffqYKSMTYxP44iE88HE31rOlfIaktyj9VNbIuaf1j51I06xd9OIPDZ2cGn0F9yaWmwQVm6xwJCmXJTdYJul_6SRMYq-kDwCfXE0uKbg8_UsZwJzOvMDOCbglrwl9T5TOtKtYVIsCFPZeyQUG1Veo-ml3AUvXgeWzqYDJatJExfe-JUtdvPC6XCQ0A&refId=MYPN7y%2F6AW6jfo%2Fh5tzXMA%3D%3D&trackingId=WeMUBb6LktSrAC2b%2BR4LuQ%3D%3D&trk=flagship3_job_collections_leaf_page</td><td>Data Engineer</td><td>PrismHR</td><td>Noida, Uttar Pradesh, India (On-site)</td><td>prismhr</td><td>Noida</td><td>On-site</td></tr><tr><td>https://www.linkedin.com/jobs/view/4278206174/?eBP=BUDGET_EXHAUSTED_JOB&refId=MYPN7y%2F6AW6jfo%2Fh5tzXMA%3D%3D&trackingId=kjig2QgL%2BJKE0XkT8BhdlQ%3D%3D&trk=flagship3_job_collections_leaf_page</td><td>Python Developer (FastAPI)</td><td>BeamX TechLabs</td><td>Hyderabad, Telangana, India (On-site)</td><td>beamx techlabs</td><td>Hyderabad</td><td>On-site</td></tr><tr><td>https://www.linkedin.com/jobs/view/4272841876/?eBP=CwEAAAGYgRSu0ynzr8P8Zh_cW-9jSXjrS_qD_ijkXkQKOaQGf0LsLdHsRZ-DwPSYTysmKlljRBY8pQmO6EqQwclwqFLgnERhNAtY5gq8KhkXEYyf9uS6E4gQzCrPRYBAmKrJPKuT_r-lxUjOvG24jl8QntUfN2LObLmZTJLLNDEwMDyeU9lIlbeaAfaUSMeFYuA95ZtGGQuiB_0uVRwO80Xq6kIDCJQc22-sgWqI2bpV08dwAtw1---P4v213iEemww7xUrJ20GBHZqa0emJ6Rmw_qofG2FsopS4scFrlozbcjrjm6pJWW4ZKvBdw_YS7VSqoL-38_hL7f9J5g3Ze-rr8_JxRcJC_0GnVUeXBv8uMjQA1Hlsw2VtE8XSxyITgGXEBSodgR3ByRmtgGP3xC_2JUfwVGrsnJtC2WjynA1tISE43vUpGxk5YL4maPz_6hOPxT18iM_bsoLZ_hnW3qPqo-aT1OMI270wierN8j8DIJar3-NvhomM6otbeRHXH6eUP8ep6gje_a0QNKRml8bmvwavvfny&refId=EBSmkZioQQPAVNqYw9%2BGTw%3D%3D&trackingId=Nt7moGcXYyt1NFl6DeQTPw%3D%3D&trk=flagship3_job_collections_leaf_page</td><td>AWS Data Engineer</td><td>Iris Software Inc.</td><td>Noida, Uttar Pradesh, India (Hybrid)</td><td>iris software inc.</td><td>Noida</td><td>Hybrid</td></tr><tr><td>https://www.linkedin.com/jobs/view/4267691249/?eBP=BUDGET_EXHAUSTED_JOB&refId=EBSmkZioQQPAVNqYw9%2BGTw%3D%3D&trackingId=jvJ8zzz7u1YO4DzFOgsNsg%3D%3D&trk=flagship3_job_collections_leaf_page</td><td>Growth Data Scientist</td><td>Moniepoint Group</td><td>Bengaluru, Karnataka, India (Remote)</td><td>moniepoint group</td><td>Bengaluru</td><td>Remote</td></tr><tr><td>https://www.linkedin.com/jobs/view/4278747387/?eBP=CwEAAAGYgRSu0_p5cl5v3mLO6Nrj5rBUTuwsarA-ZZ3LQM6FeBFfjJo4rTuFOBqqgOc3S6Z7TaIrXTJdVGksrGkpqOyzBUFbpsbfodRTE-uoPyjoJMckbq-BT3wQ1cHUThsWJcFJLCCNHbtZR0S9gu8OLPzp0uXZoVANOPTHmzv23ev3yyR3IuJjX7Js6wvDdK_Ok9RW0hCtDH7nE5_Rzq6u0yuk7ilOqOtPJzkDA-yr3_SBI4OM_Cud2o6Vw05b7WJ1YnJNXsF2VyoxSvBAD78r6sqo7ik_wcV2KQ4dfspR7Aa5zW_Ek4MqJKiBcYOzJUv8F9xX1VbvzheHIIs4huD3sfkhwWBDifPhRyJ-U2JuuxP1GxaZheNY-oOiNfN1f6A9f9N3shITlywtzHrL360ZhSOJ7Hz7LilrZJBMToatEBnj1hh4lN46nAYJd7Cjc9g99LwJngvXz60SmTQGnQ5-ZJlc68Q68qOGCngF_58ZnKwLgFczuDGmMY-NkZm0wqiO-rVIildPN-F7_hZzh-TW3BsSG6Ux&refId=EBSmkZioQQPAVNqYw9%2BGTw%3D%3D&trackingId=aMWpnZNin2TgYCEE4diZOQ%3D%3D&trk=flagship3_job_collections_leaf_page</td><td>Data Engineer</td><td>Flywire</td><td>Bengaluru, Karnataka, India (Hybrid)</td><td>flywire</td><td>Bengaluru</td><td>Hybrid</td></tr><tr><td>https://www.linkedin.com/jobs/view/4280132856/?eBP=BUDGET_EXHAUSTED_JOB&refId=EBSmkZioQQPAVNqYw9%2BGTw%3D%3D&trackingId=ngW3Yk868pVEItMSY3NA0Q%3D%3D&trk=flagship3_job_collections_leaf_page</td><td>Full Stack Engineer</td><td>PepsiCo</td><td>Hyderabad, Telangana, India (Hybrid)</td><td>pepsico</td><td>Hyderabad</td><td>Hybrid</td></tr><tr><td>https://www.linkedin.com/jobs/view/4271280137/?eBP=BUDGET_EXHAUSTED_JOB&refId=EBSmkZioQQPAVNqYw9%2BGTw%3D%3D&trackingId=bdAO%2B8jQWxFPiKwb%2BtuITQ%3D%3D&trk=flagship3_job_collections_leaf_page</td><td>Python Developer</td><td>NAV India</td><td>Jaipur, Rajasthan, India (On-site)</td><td>nav india</td><td>Jaipur</td><td>On-site</td></tr><tr><td>https://www.linkedin.com/jobs/view/4274202231/?eBP=CwEAAAGYgRSu0yaS5y0Tlyf9xBApUYTOI7z9t7vCRy-UpuwVe8LHwLPPPSDP5usEqCvifDix2UfFfJDB5XbQjCpBXhWP2QEUX4Co9o_DtYFAVor-i_EIq0wm2Shz_tF2npe2wEBta6aXYekMlhupQgBnwLnPsWQqT2NWVsqsWdbEcD4fcleIjRQKBN6QPYTswg0WuMs0RiCeF37VanKAMQr8fD_vkC05EY9jSQPRWt7Ia93X4RYe07BDfAoOzDNKPS_x2IPWkzH7UdYg-9eZXt1hT2Xs3XCepIuIU1S6-ZgyBEnWmvFkdjQ-gnkrTB_PMzAcLir0l8JL41KqH1mzEHiPeU1w1z7E-2epjVf3A2vVLsiqAVT3MjsT0j6spbBNpzGJIZghUUjumbVt-gAlawdo-ysZPalZoTp5TQHPFWoShSD6JBTbDIlG6BuAWN_xZs802mfDtjb90aiDZ8er5qTQgelf9Rj1IGLrc8Lr3pau8M0BBnMnzHmy_w9Xn58jFItBOm1gLFUbZ6b6BFIzgETE1_JC9u2kcxtUnQ&refId=EBSmkZioQQPAVNqYw9%2BGTw%3D%3D&trackingId=jiwVMb1aegFvy%2B%2BFBpo9NQ%3D%3D&trk=flagship3_job_collections_leaf_page</td><td>Python Developer</td><td>Vista Applied Solutions Group Inc</td><td>Bengaluru, Karnataka, India (On-site)</td><td>vista applied solutions group inc</td><td>Bengaluru</td><td>On-site</td></tr><tr><td>https://www.linkedin.com/jobs/view/4274041586/?eBP=BUDGET_EXHAUSTED_JOB&refId=EBSmkZioQQPAVNqYw9%2BGTw%3D%3D&trackingId=S4Y%2FTvkNT3bBUSG0zusF%2FQ%3D%3D&trk=flagship3_job_collections_leaf_page</td><td>Data Engineer</td><td>ThoughtFocus</td><td>Bangalore Urban, Karnataka, India (Hybrid)</td><td>thoughtfocus</td><td>Bangalore Urban</td><td>Hybrid</td></tr><tr><td>https://www.linkedin.com/jobs/view/4278056971/?eBP=NOT_ELIGIBLE_FOR_CHARGING&refId=EBSmkZioQQPAVNqYw9%2BGTw%3D%3D&trackingId=tL0tOK7WsLfWzkrArNyvwQ%3D%3D&trk=flagship3_job_collections_leaf_page</td><td>Python Developer</td><td>Prometteur Solutions Pvt. Ltd.</td><td>Mulshi, Maharashtra, India (On-site)</td><td>prometteur solutions pvt. ltd.</td><td>Mulshi</td><td>On-site</td></tr><tr><td>https://www.linkedin.com/jobs/view/4278053425/?eBP=CwEAAAGYgRSu1JdlAnupeNTWOdazeBSeU8sxuLlcsHSgon2rNXsn2NvNBEF_-CKKsPUW5pVnXEFlQX5NspJzCJXXOeEhXU056x63pBZkq9veyp49TKSoq0Ntjtkga9QZogZUeGyAXARlBDY-uzdhOHDZO3R0TQ15PVTTerJ-0iLYIwcpTJz5GGFibUvm8dBAogl1zKcUuNFLW_AfWfbQfFQMix8uvJSactJ5iStb4cHz5dSnuT1J1S6Z5HbGm0kFLl2PjqT1oBLjkp8cpWwYU9ttuc3WqHRzYIi2GLAA9ITusOeHZN_EnA4ptz-0jaLTIp2rMhPi0L8R2Ax3ED02oGckv0z6hKZ2hQYVddWBEEPX__CabULQ09DB9yIpv-avZkEoVEaFlbfB5uZGTTiorUI0eo-CpdV0koEQ8rpdM2aNjZHsujK0s5Slw0Ag-3YZxHDeMMhC0C1lnG-oUFeMe5K-fmJw18joX3YEIlbv6bH1aLZnQfA3yKIt_H2WezN6gUiHrzg8z_MS7g3AcINptRSW0lSgVl6LPn4qew&refId=EBSmkZioQQPAVNqYw9%2BGTw%3D%3D&trackingId=yIrVVI4nggaCSczQpcSVfA%3D%3D&trk=flagship3_job_collections_leaf_page</td><td>Python Developer</td><td>NIIT</td><td>Gurugram, Haryana, India (On-site)</td><td>niit</td><td>Gurugram</td><td>On-site</td></tr><tr><td>https://www.linkedin.com/jobs/view/4266230981/?eBP=BUDGET_EXHAUSTED_JOB&refId=EBSmkZioQQPAVNqYw9%2BGTw%3D%3D&trackingId=SAUSa3RE1GC3zL4q5zM5aw%3D%3D&trk=flagship3_job_collections_leaf_page</td><td>Lead - Data Analytics</td><td>Freshworks</td><td>Bengaluru, Karnataka, India (On-site)</td><td>freshworks</td><td>Bengaluru</td><td>On-site</td></tr><tr><td>https://www.linkedin.com/jobs/view/4277616307/?eBP=CwEAAAGYgRSu1OciLGpKKAU34yDQCFpmdP9i-d7AFG8kAQYoawBXq0-Wz4gW39Alnen7imlNrXWBA_hbYAPYX4AwNRpLIw8ETriJmMJQiZwQhP4tTzBHej7b6Cbt82AHjcw9ay4cp5qmmWf8YOXomY0PcZaQc-rdi8SYeX_yjZDHLCB8EIObMHyT7zxFL0Pt_rXoSKDZMppSsGXnOtI7WpF5Vc254-lGLQllbsNbstcgLQcbPNB7yBN15fgsLSTKyAjlqXjBkqBhz2zSL3hP09s_nwHLsq_UKm1xxxNYlbBZKKlv6HV5DkAzAQpdCp3eZ55QdESTw6pa509xdX4evMiTVfN9WUJfxCvbvAQHMHQOZjTk5AoYdib3N5q5mKTUV40K0vNxowotLUnLa-nq0iQOJI98sg3vme94eXmYwhOnXLeLvCUApZMX-Ni1d6U&refId=EBSmkZioQQPAVNqYw9%2BGTw%3D%3D&trackingId=u36Ji%2BX3P%2FKdP%2FWPadPnTg%3D%3D&trk=flagship3_job_collections_leaf_page</td><td>Associate QA Engineer</td><td>Cendyn</td><td>Hyderabad, Telangana, India (Hybrid)</td><td>cendyn</td><td>Hyderabad</td><td>Hybrid</td></tr></tbody></table></div>"
      ]
     },
     "metadata": {
      "application/vnd.databricks.v1+output": {
       "addedWidgets": {},
       "aggData": [],
       "aggError": "",
       "aggOverflow": false,
       "aggSchema": [],
       "aggSeriesLimitReached": false,
       "aggType": "",
       "arguments": {},
       "columnCustomDisplayInfos": {},
       "data": [
        [
         "https://www.linkedin.com/jobs/view/4277353126/?eBP=CwEAAAGYgRNcby_KMfZuM7o_bhgQ0uek5G8LIz3U7hjMncVVugI0W2_2x-lIQOk63MgV0pFj1MjE7HhaGb99RkLXZd7jc6H1r_q9un6ncxydzB4Zy4dvHyAMjBZusDk3BCMZXk6r9wePxGnPxBK6dsD_W2mnEKr3amupMQkiN3XZnOFFNNapGVk8qdkqTs0IAI_GeSbrH7zGtVWwYH6tXDFc27dAMFMF2a6J4ilRCR6xI7wl-bnmqR5plOLIXvROJcPcb4SEFZZYlH23vHwdNScpsPGI9Mo916ZU5ALO1qNqiqvKmo51EY2q6fT-5JM1Le5sgtVHSsi5njSw4f2kpL0fyUxR0TUd_ZMhrqCnSG5Kazaq7YI9f6mWYHAifiN_9F1GrdCMA54q9amRH6-AyDbsaL6ADQdVADtsG9iTYgiXgfkrd8sIwiRqXuDridZ34T7CKI_moz3IUU_2uFkqnLIxb8JZ4Z1mOexrhF65qQ6ZrdPpaGrubzWyhnwg9LegBFWPXreSmumgQ3yudbUw7lKA7yf50w&refId=VTdxZjP6Td02BrgNGEyD5A%3D%3D&trackingId=0ZNpZStGR73FRjLBjitcjg%3D%3D&trk=flagship3_job_collections_leaf_page",
         "Data scientist- Python- AI/ML GEN AI- Across india",
         "Capgemini Engineering",
         "Mumbai, Maharashtra, India (Hybrid)",
         "capgemini engineering",
         "Mumbai",
         "Hybrid"
        ],
        [
         "https://www.linkedin.com/jobs/view/4279260172/?eBP=CwEAAAGYgRNcb2s1qwNtsjoHmBzkZDTfCaIKh4_KcJSW4K5JiGezWlAfSSyLqmqvwEafp0lfK62lGPaszLMuoV1OfHtTiORVAuYwAHvPaZDfL9IxslYvQCgpzQkOvgQn0XY8fm7aSZUuxoz7k7Yc7Lw8BeQ_1F32c10tfeAI-D4CeQhRLnRQBWyyE93S3Pu49_0uyTWM5jVFVUCLPlznkBnUNWydS41ETB_Uo7UraHzR7AcVTBhfZVXxOnND5xaN_rHwAOIR4G2PhIMccU0Xu0o12TqGbUIcmY4R4ecX4uuUmV7S0rJRHU4Y_3LRmfobxeU4olIHHRLzrplIj0vhltiH9ZzHjaBUXZLnl-F-bXK1wDrsKcDaXndTmPDVaAR_y7705p4W04jw3zL90AJC2sOfY3_gua9nr9LNtNp4jInWiQur_pibVwKWpYS7Bpzxe0aPZ3g7RnI4na45YjYWRaqT9qUpQ48A9EOl472r-QKDOLnE4hiNvo309xdSfc-fN0641ulh-irR-8fQPyiA85JS-MGCHHb3&refId=VTdxZjP6Td02BrgNGEyD5A%3D%3D&trackingId=DFyDIfGzjUfLe4OLD7lvgQ%3D%3D&trk=flagship3_job_collections_leaf_page",
         "Junior Data Scientist",
         "AB InBev GCC India",
         "Bengaluru, Karnataka, India (On-site)",
         "ab inbev gcc india",
         "Bengaluru",
         "On-site"
        ],
        [
         "https://www.linkedin.com/jobs/view/4277908502/?eBP=NOT_ELIGIBLE_FOR_CHARGING&refId=VTdxZjP6Td02BrgNGEyD5A%3D%3D&trackingId=wd9LH%2B3Su9OdfoKJvC6W6Q%3D%3D&trk=flagship3_job_collections_leaf_page",
         "AI ML Intern",
         "Hubnex Labs",
         "India (Remote)",
         "hubnex labs",
         "India (Remote)",
         "Remote"
        ],
        [
         "https://www.linkedin.com/jobs/view/4280550072/?eBP=BUDGET_EXHAUSTED_JOB&refId=VTdxZjP6Td02BrgNGEyD5A%3D%3D&trackingId=Ffe%2FR0gnvKjESBdjFIr30A%3D%3D&trk=flagship3_job_collections_leaf_page",
         "AI Engineering Internship",
         "Deep Learning Titans",
         "Bengaluru, Karnataka, India (Remote)",
         "deep learning titans",
         "Bengaluru",
         "Remote"
        ],
        [
         "https://www.linkedin.com/jobs/view/4216659912/?eBP=CwEAAAGYgRNcb7pUVP4u1ndn0ccV-twoDKQpJgzTyFXjquRaqv9YuqDQZUCU45geb-XqNGUhWk2Wa_HxKSjnD0-THpdrzhsQUfpW7l_bR0NrPt7usu5ESbW4P_Ir5Zn2vOah5YPpj6pmUn6XRg58awc94KFovwd6s1aQps8SFuD-2K0YiyNRZe4GtITl9PL-vqqPJZ0DjkdoGpB8enCloNl16jPlUJQuLOqmbgz82Ger8j9uD6yG0Ed0O_pT2zqrhe5vKbeSsicsWej7xA-zmKWxKMW5g9jVUCCACej2rXoqJXlhpCWWFnhlvHunaIFL4U6bY1cr1_H0P6C63_a4gsFrrnvbzqk4xruhemFXZ01c0UoZz59IvX0zy81w9GU5m45E7vf1zrix-zphjYUpFFcBM0o4VnIEeVKGSUiLvueXSVsT-VOf8G88bRZX_7QRNBLu0w3Atq8WjuBgx7-5pvOyNIyvNF96Q2iZoIBmL-6KRWF3UWu1Qc62P_FRZBzoxjEgVozczLPlgnh10st-Vf9XdZuiQD6I&refId=VTdxZjP6Td02BrgNGEyD5A%3D%3D&trackingId=DBYgLD94oNPi0dzDo%2F0TOw%3D%3D&trk=flagship3_job_collections_leaf_page",
         "Gen AI Researcher",
         "HCLTech",
         "Bengaluru, Karnataka, India (On-site)",
         "hcltech",
         "Bengaluru",
         "On-site"
        ],
        [
         "https://www.linkedin.com/jobs/view/4274222266/?eBP=BUDGET_EXHAUSTED_JOB&refId=VTdxZjP6Td02BrgNGEyD5A%3D%3D&trackingId=bfRBbJuyo7u9QHzDgWM%2BAQ%3D%3D&trk=flagship3_job_collections_leaf_page",
         "Data Analyst I",
         "Navi",
         "Bengaluru, Karnataka, India (On-site)",
         "navi",
         "Bengaluru",
         "On-site"
        ],
        [
         "https://www.linkedin.com/jobs/view/4277354782/?eBP=BUDGET_EXHAUSTED_JOB&refId=VTdxZjP6Td02BrgNGEyD5A%3D%3D&trackingId=a62Q7extgMqaT9qRq4geaw%3D%3D&trk=flagship3_job_collections_leaf_page",
         "Junior Data Analyst",
         "The Guide",
         "India (Remote)",
         "the guide",
         "India (Remote)",
         "Remote"
        ],
        [
         "https://www.linkedin.com/jobs/view/4280144071/?eBP=BUDGET_EXHAUSTED_JOB&refId=VTdxZjP6Td02BrgNGEyD5A%3D%3D&trackingId=vgkb%2B2Cf%2FIrsrTqwqKQsDw%3D%3D&trk=flagship3_job_collections_leaf_page",
         "Python Developer",
         "LTIMindtree",
         "India (Remote)",
         "ltimindtree",
         "India (Remote)",
         "Remote"
        ],
        [
         "https://www.linkedin.com/jobs/view/4279278278/?eBP=BUDGET_EXHAUSTED_JOB&refId=VTdxZjP6Td02BrgNGEyD5A%3D%3D&trackingId=uYbbAZHlkuRTf55jYHMLyA%3D%3D&trk=flagship3_job_collections_leaf_page",
         "Machine Learning Engineer",
         "Tecnotree Corporation",
         "Bengaluru, Karnataka, India (Hybrid)",
         "tecnotree corporation",
         "Bengaluru",
         "Hybrid"
        ],
        [
         "https://www.linkedin.com/jobs/view/4274305695/?eBP=BUDGET_EXHAUSTED_JOB&refId=VTdxZjP6Td02BrgNGEyD5A%3D%3D&trackingId=fJC15olWXCub2haFX3DtcQ%3D%3D&trk=flagship3_job_collections_leaf_page",
         "Associate AI Developer (Remote | Flexible Hours)",
         "Pravartan",
         "India (Remote)",
         "pravartan",
         "India (Remote)",
         "Remote"
        ],
        [
         "https://www.linkedin.com/jobs/view/4279997390/?eBP=BUDGET_EXHAUSTED_JOB&refId=VTdxZjP6Td02BrgNGEyD5A%3D%3D&trackingId=2j8NIR5PQefhdtHQD1wuRA%3D%3D&trk=flagship3_job_collections_leaf_page",
         "SQL or Python Developer",
         "HRM Counsel Private Limited",
         "India (Remote)",
         "hrm counsel private limited",
         "India (Remote)",
         "Remote"
        ],
        [
         "https://www.linkedin.com/jobs/view/4275952439/?eBP=CwEAAAGYgRNpqyHT-WEjS04882Hj9u_yQpEwLAaYqLnkdpMaPI9Wg_Iac36A6p4Iy5bk6RvUNHk3JMh-ZWrIgs3JGFsSjhzAJfdaO0TjVLErO5QWcqIf4HufnKC_roMTu5pGpBSArCNMXcv8UNVlq8vThrmfV7w8jFj-ZB55PsRH_zEy-24RWZ2cKLvbT5eRQG93R6k1m2wGEOo_eRpp5D6-HBqlYEIW5hjAX3tuPVmlSXCWgV6Lo4o-XUXmqJ9AHM_7lToHxLOBsJhvlBQ9TnJzBOuf6JshVnchADnj9ad9eQoS1MClf7ih7S6_UX9dpk9zYmDGeK9HDi54BpF5Q7Y3Yo0bshd2V7-tXh4RxADm-jdoXodWc5nImV6a9j2iB-3yGFXqnYCa3zx3dY8aCXMpA1dTt8mJl97f3f-GKaOTE5GGDpMV7Z3SgEN1SAFU0sKWpTOwIXQIBKNUqWALq53mqeRaAsxeJGKverevXxhdbT28cnx2iPaNVF0OYFPcczgDZrnYEScrKstcClOdakatOKg&refId=jnPkbUaJgtXfmJknzztCHw%3D%3D&trackingId=IiWTfDrqeLuyzXP8wDIhqw%3D%3D&trk=flagship3_job_collections_leaf_page",
         "Data Scientist",
         "AB InBev GCC India",
         "Bengaluru, Karnataka, India (On-site)",
         "ab inbev gcc india",
         "Bengaluru",
         "On-site"
        ],
        [
         "https://www.linkedin.com/jobs/view/4280156304/?eBP=BUDGET_EXHAUSTED_JOB&refId=jnPkbUaJgtXfmJknzztCHw%3D%3D&trackingId=T9T6O7mFfNe749lbQNoeDg%3D%3D&trk=flagship3_job_collections_leaf_page",
         "Remote Data Science Analyst - 17843",
         "Turing",
         "Bengaluru, Karnataka, India (Remote)",
         "turing",
         "Bengaluru",
         "Remote"
        ],
        [
         "https://www.linkedin.com/jobs/view/4279597899/?eBP=CwEAAAGYgRNprJ7uURE3YHs3KKePwQuCG8SmvwHcI_C6zS1vfVzTIlh3hVa-7bMfEI1B9UwC7e9Da8XXaMFzqUbr9zPz4jPIGApqqrNgVyiNfbuoe0HxY0MlYkBepQ1urxIgdNGl2n7N3SeqazdpmHml7iGKSgUt9_a0DJsU2OJK34RkUh1mMPa-_gmSCm0xuV1G7HTWbJOzEgmyAWd3Z_OjmoA78v_6ZJcv5SMclsmOWK7_hFBIHR9vSRp3DNdCVaNRha2aXirFv7A7PyRv7q1f5vak_-miarZNCZvOHdhK4YE9rxO6knO_sI2KQsFRvy2_TuhQy9Fin8FQlSoE4BAnJIfgmy-BkPoQOx4uSKqCJLvdFfZw1hq2kdbB_3FUnmVb-r_2XPXp47tx2CRET3eFmvHNl6ObAAb6CP0lKZI-vJBdaFmFi-wN0LL4lahTkEDF517_pEmHYhpy813BsCRwAqIENxWYnmv_r_OptZvmwCIz8k8dTtIdFkzj2LpQuIg8d1GZ4CMNQ8ALEOhx0BrxOHICwg&refId=jnPkbUaJgtXfmJknzztCHw%3D%3D&trackingId=OT6kt4M4ESPfkhyKrDQVVg%3D%3D&trk=flagship3_job_collections_leaf_page",
         "3D Computer Vision Intern",
         "Sony Research India",
         "India (Remote)",
         "sony research india",
         "India (Remote)",
         "Remote"
        ],
        [
         "https://www.linkedin.com/jobs/view/4272868090/?eBP=CwEAAAGYgRNprBnKCDkS6HutgFZAHbFwjKz_mxCDEc4DKsm5ldmrH_iDFPLDdoU98OPfsrmNBwXZFaDOl2MnBgUyLPUUOO_99W-KWbJaX7NqjBxrBROEtcQ0AxIgfeUwyW8IzabHyjMr42UdHpaIOVpk4LJrvaoeDprmYBucBryTmpAZ7QzkaBikcu1uoUvg82-2uxhZkis7JFEDH0DvS911eFRO_M1gZJSPfJlzuphp5g10GaDtX5HCoaQKZHE3KY_y2Hg0nPrW40tn2gthsxhHxek36o_danT5zIX6eSVrHt3cr1pSu2-kY0qOIhOrzaKgeDTgIsn7LzndfvgSaFiZLvmQoZfjNICSjuNYn_XJ782wxIyMg_OYYXcFqc-dOP35hvsSsk-jH_pnXgoGNA2wLYh2uyUuPm7sq4mo5hmGszOxZMAQ7PXkyP8BVo9ewOC4KHHboyJ5DQ9n2Jp8pC-nVmFy75IYkm3hehPZJLiPx0JSEU-VvxrHlXugCxT1NbNqiYZrUB5AK97EdmBgd9S8gj6_1Q87&refId=jnPkbUaJgtXfmJknzztCHw%3D%3D&trackingId=m4W7sy9k9qaPNDo71rpXpg%3D%3D&trk=flagship3_job_collections_leaf_page",
         "Machine Learning Engineer",
         "Capgemini",
         "Bengaluru, Karnataka, India (Hybrid)",
         "capgemini",
         "Bengaluru",
         "Hybrid"
        ],
        [
         "https://www.linkedin.com/jobs/view/4280599999/?eBP=BUDGET_EXHAUSTED_JOB&refId=jnPkbUaJgtXfmJknzztCHw%3D%3D&trackingId=Ik53abofLEWdZv%2F1KPL%2F2Q%3D%3D&trk=flagship3_job_collections_leaf_page",
         "AI Engineering Intern (SDE)",
         "Darwix AI",
         "Gurugram, Haryana, India (On-site)",
         "darwix ai",
         "Gurugram",
         "On-site"
        ],
        [
         "https://www.linkedin.com/jobs/view/4277927708/?eBP=CwEAAAGYgRNprOP_oooAdlJczu9h3w2v6OUArF5QTtQ7c2XXsHXnbzlJNFDwTOXzBgNKtshb_I8au0mhJaNaph73o-Sq3kTmC0mTuTMcx5tsiN9cw1j6UlfgnMAjky6vU6BJJgSYEidJKgYTiRnz2SiRUs2YdefReTWdrZEuSKhcU49AImlIBw1elcmM3o0ikG_YR_I1VgwE7S-d9fWCRHLOCVALQ6AUgWJqBpvgmcppZS2R5WTQJE9JjevIoJQQqowZS7J7O85d6xpx6lPkvfnTzuvk2y0IcpoUzcSxdxx63aUs6eXhEFZnkpUUER_PFGZ7LmjSgIceC5vVETS89V6D4bufUxNsUaeRp6tzpWV0vhkSq7ghEmXxs0x25Hj_UuPqg5fdux97Ad_AjQ4NiOoGd1Qij7-6VQ-V0iS0lBI22hHTPQc-a0cyiZo6zxcVGoMStNhof5NAa3ReUyMTXVRe1b0gSojyi5bynmWu54EHCwCqJgmnvHNLdnvf0bvy5hFP0bD272U2-G-j1nJsZEkPRNWJNQ&refId=jnPkbUaJgtXfmJknzztCHw%3D%3D&trackingId=kpze6nqcO4zCHyRrbznPhw%3D%3D&trk=flagship3_job_collections_leaf_page",
         "Machine Learning Engineer",
         "Insight Global",
         "India (Remote)",
         "insight global",
         "India (Remote)",
         "Remote"
        ],
        [
         "https://www.linkedin.com/jobs/view/4222830764/?eBP=CwEAAAGYgRNprAnr9aF9EkqD1FwbnSS3riVgHFL-xuCtKJRPjLWqeJPTdW0MovTKXX8l1xv8WmT8PhmElm37SglA7Gbg3jJwrnZ4K8P8BUYREm8-U9kIOklwjcPispRP0bHDBbDlocu5HT3x-g6JIjGNaNAFh0Ct87ml0bet3_U4qEHcWMCCf3G1n_77pK_rnzoVtwgQ0VDvzwEDXK33Nv3Oni5Wo5_E1mFVzCACpPROP5SccJJPxz5st_fwUsc--R-SUfaysP_bkbW7cUfJgIB0NEYuPBnPAXDf9IP5Z2r_-9kSaRAD7ugUK_Q87-vdD9IaFM2pA8BjoDahTj0L1tc39IEMFTCSSSINAL9FLkfTxyMLZv8Wuy4w95F6VCh_2f2orGs9KqoTeGl5GYE_LB9VKVeOiIq2jB1VdpA-IBGOk4UnG7tyTDorBZqJoICim7Kcf9ex43w3kRHAToCl-Vqv-kAweAsvwFodK7Kr5RGGuM8M6yrQK6pnKnw5BLQ2Z2tvd9R235oLRAVMVbnM84n3gvaG8Zlu&refId=jnPkbUaJgtXfmJknzztCHw%3D%3D&trackingId=EbKQwPsh7xIkxjtR%2FYQKrw%3D%3D&trk=flagship3_job_collections_leaf_page",
         "Data science intern",
         "EVERSANA",
         "Bengaluru, Karnataka, India (On-site)",
         "eversana",
         "Bengaluru",
         "On-site"
        ],
        [
         "https://www.linkedin.com/jobs/view/4277368921/?eBP=CwEAAAGYgRNprer7s6kT-XxKQaF21PwnVIuzArtqRFD4649C6G5_HhT_1aS2fQaYahV46VNP39vVzuEgFTbtS4jQWB_7Sv7Ute8nXHrl5f1vjmKQjGDcqVyIj6gqkxp51e_Pn8qK3nMfjM_GOFbXzgmI5OAAFxxQ16cEMkHy1ztdL83_ip9Uu2W-ROM3Pu1MomnjNFjZcaexvieEWuKsywKoLH7MZhkTmYFW7gjNAnc72PXTvRY3ZVLG_5xcxbUx8HjZKaIQ6MKf5E25ZkMuvF-UO8MgRbrZ9xZJtnU_Icb6hUUdvUtc_IbEzzfe3jJmryKiHa1mdr6-vEfaKT4EilVD1-6dpcZ0lq9Eub1drlJl74BfvZECDzgMoAE0BlNESB6NouZI45ld6br3YVaCOGS2EpAkqvzuGbGPnn6-BJ4rvRPa0rsAyHkD0Vc6EwxGvA9bPhhw5u-ntdyH4myFgWK6_hFT5w4Z-9JUWAgD5mx7cr7fcMFqIrg3Be4He7OKVXNp91XGJiYyaZmwBVonIotzIXE6Ag&refId=jnPkbUaJgtXfmJknzztCHw%3D%3D&trackingId=AnIAsKIo9zVSD7DvHLzcDA%3D%3D&trk=flagship3_job_collections_leaf_page",
         "Digital Champaign Internship",
         "HDFC securities",
         "Mumbai, Maharashtra, India (On-site)",
         "hdfc securities",
         "Mumbai",
         "On-site"
        ],
        [
         "https://www.linkedin.com/jobs/view/4274097889/?eBP=CwEAAAGYgRNprQRKbBkb21jUfD2RLxds_f9OBopl9Z-IRr8LXqNd6UKi4Yytfk8EGYmfWCbsEmVol6K6p0iJvMxESg_HeveGXvrKgcZ5L3n0kjzm_ZAZ_0gCPxvPsVx6bzVdnpZT7sYIRXUYjuxjIUied1sraFSw89622eJ9-vKZt0OEGALTPeM6ZqZCQ3LMDsb2NoR2ozoF-5ysHXUGs2s1HPxUS6q1g6zewc1PKXho2p4_dSiT8QLqWD0i0NcZpzy84fvpxRpH1bVyvOEFPQhEG6II8ADuSWsW7liDA3dHejodc2ggSuemWpvk11QoTz8TmBnbR5Htxms4lyK4hmk1OBwBFmaW5O7uvDp0cJERGwe73AYf82qkCdfCf5cX46idm36Xagoub52A1LqIR8RQNoFig88bBS73bl-wFxIWpPptXLzZJpyh1bt8jBC10WwBLvZkMR9tYb9FMRkd3VBm1_g5rPpJ--8Uzmuhn8GUeQjIncwrK40-qNgcUjeb3NjlrZfThMBVK3xRLd7yYnUFNrCH9g&refId=jnPkbUaJgtXfmJknzztCHw%3D%3D&trackingId=jJNRm%2BYr7Q74Y%2BY4QYXD3Q%3D%3D&trk=flagship3_job_collections_leaf_page",
         "Data Scientist",
         "Pentair",
         "Noida, Uttar Pradesh, India (Hybrid)",
         "pentair",
         "Noida",
         "Hybrid"
        ],
        [
         "https://www.linkedin.com/jobs/view/4274697931/?eBP=BUDGET_EXHAUSTED_JOB&refId=jnPkbUaJgtXfmJknzztCHw%3D%3D&trackingId=b%2FFOO62TY%2BIrjYqTPhpmqA%3D%3D&trk=flagship3_job_collections_leaf_page",
         "Fresher Cloud Engineer",
         "CryptoChakra",
         "India (Remote)",
         "cryptochakra",
         "India (Remote)",
         "Remote"
        ],
        [
         "https://www.linkedin.com/jobs/view/4277577862/?eBP=BUDGET_EXHAUSTED_JOB&refId=jnPkbUaJgtXfmJknzztCHw%3D%3D&trackingId=TmdIiTagaheh8MU7Gd%2FL2A%3D%3D&trk=flagship3_job_collections_leaf_page",
         "Full Stack Engineer",
         "Orbital",
         "Hyderabad, Telangana, India (On-site)",
         "orbital",
         "Hyderabad",
         "On-site"
        ],
        [
         "https://www.linkedin.com/jobs/view/4280159123/?eBP=BUDGET_EXHAUSTED_JOB&refId=wL%2FRMpLMnaJ0PmhOiDKXgA%3D%3D&trackingId=94y1ZHcxTdsmNJo5kSZtRQ%3D%3D&trk=flagship3_job_collections_leaf_page",
         "Remote Data Science Analyst - 17843",
         "Turing",
         "Hyderabad, Telangana, India (Remote)",
         "turing",
         "Hyderabad",
         "Remote"
        ],
        [
         "https://www.linkedin.com/jobs/view/4279992774/?eBP=BUDGET_EXHAUSTED_JOB&refId=wL%2FRMpLMnaJ0PmhOiDKXgA%3D%3D&trackingId=kImrvh6mYAzViXgBqWIeuw%3D%3D&trk=flagship3_job_collections_leaf_page",
         "Speech Generation Intern",
         "Sony Research India",
         "Bengaluru, Karnataka, India (Remote)",
         "sony research india",
         "Bengaluru",
         "Remote"
        ],
        [
         "https://www.linkedin.com/jobs/view/4280776208/?eBP=BUDGET_EXHAUSTED_JOB&refId=wL%2FRMpLMnaJ0PmhOiDKXgA%3D%3D&trackingId=EHXgxqpbXfDHfsbRkKHxjA%3D%3D&trk=flagship3_job_collections_leaf_page",
         "Python Data Analyst",
         "Persistent Systems",
         "Bengaluru, Karnataka, India (On-site)",
         "persistent systems",
         "Bengaluru",
         "On-site"
        ],
        [
         "https://www.linkedin.com/jobs/view/4275076258/?eBP=BUDGET_EXHAUSTED_JOB&refId=wL%2FRMpLMnaJ0PmhOiDKXgA%3D%3D&trackingId=%2BWunzS%2F5uot4kOkMFZR1jA%3D%3D&trk=flagship3_job_collections_leaf_page",
         "Full Stack Developer SDE 1",
         "NxtWave",
         "Hyderabad, Telangana, India (On-site)",
         "nxtwave",
         "Hyderabad",
         "On-site"
        ],
        [
         "https://www.linkedin.com/jobs/view/4277562941/?eBP=CwEAAAGYgRQ36KJWeNRiTl4P1fOxEdXUglM7W0wWnlj-FUD4OvaatfSHVGToct-V6k-FTdD6vf9eBfgTvfz_CjlyZQoC69e-Qt9RC8t3lwYCa6lNFBK-bvgf-OovgqJeuRptFUf_xqcDhISYZwY43By2tTgGhNLYZpMreCTfWLJegs5rhro37rbumq2u6kahE6zBKHFpZ5LyiEr7Tb499P0Sze5T8DRJEkEHB7ESzoGdf0lyV6eiqSuzQG7DycDW7uwbIBM6CX1y2pH93yqRNqzOMhurzKKB_1iJVY6YS9tEHRAojOHfGqb24hDgL-GZd8e6TQGYSVlcm70Wo7noiGYpZPa-qMZJK2wD0w3jgaM1O403HF7lPRPTgU8V6ZP4o-7JPCVqGCdvDwASQnppvl4XTeM50fYTcavy61vWNSszNy9_cI4AkyH7TTwoQkkbFBtiz6iNYjOTKMxvmK_uwIEYWl74S6tiy1PHTKjTroqoBreISak5Bi2UtvuzssTmkN6scRMjT8z1r7MQXf9qsayQ6qEA7MzCQbM&refId=wL%2FRMpLMnaJ0PmhOiDKXgA%3D%3D&trackingId=zW0MpxhxrZI3Z0iA8iI3Lg%3D%3D&trk=flagship3_job_collections_leaf_page",
         "AI - ML",
         "WNS",
         "Noida, Uttar Pradesh, India (On-site)",
         "wns",
         "Noida",
         "On-site"
        ],
        [
         "https://www.linkedin.com/jobs/view/4280831022/?eBP=BUDGET_EXHAUSTED_JOB&refId=wL%2FRMpLMnaJ0PmhOiDKXgA%3D%3D&trackingId=5bOjCxntA6c0UczcZKotvg%3D%3D&trk=flagship3_job_collections_leaf_page",
         "Full Stack Engineer – AI/ML",
         "2Base Technologies",
         "Bengaluru, Karnataka, India (On-site)",
         "2base technologies",
         "Bengaluru",
         "On-site"
        ],
        [
         "https://www.linkedin.com/jobs/view/4273880274/?eBP=CwEAAAGYgRQ36GdbbgjA4YX2rUBvzoOaln0-D5vjRna3N9-iZ1lnI5vikD8T-NZPb-RNb5ovwVs--4Cgx-Z5WhHJdwmvtzxKZtJ0wUjg7ROxEeNQwqXReXIDhlar7mfWyQr4-DPb_U7xgIQVWg9hJ7gOUuOoJnA_6XPxTfXWUNOexvT_qkg3ucd0hT1uotEH4__jbBJldqXDCAdFtnP0RGIZuaVrtJFw3-2bPUfwpSKdz1J5wAHDMWTz9fWTncqqgRXDxtGHUn8m8U3L5K2_ZuPtYGhDW-rx6RHVvGghxFmh9aQdBda99tX1On7D0UnOtk8xmEr3u0DEBO2cwtKzH4r6b3LcZTDZ-Z1SY_x-hohx7eZNBCzx4czuHVXzGlYn7yEJJ9p5AYvfA5IGMI9gC0IralcK7lXENnQVripR7DCjeP6tvlh8x7PYZmahvQwR3OlmcNK2LNo6tmOUp3Edka2_QLHvLGMhok6AJigGZgg9uXXChgA&refId=wL%2FRMpLMnaJ0PmhOiDKXgA%3D%3D&trackingId=MVIyF4JFHcOa6FGm47LOXg%3D%3D&trk=flagship3_job_collections_leaf_page",
         "AI Engineer",
         "Zenduty",
         "Bangalore Urban, Karnataka, India (On-site)",
         "zenduty",
         "Bangalore Urban",
         "On-site"
        ],
        [
         "https://www.linkedin.com/jobs/view/4219931313/?eBP=CwEAAAGYgRQ36ETVhwHJ1MGAobk8UMYim2dc_9dihoaYx5f8WqdJY4gSSjREJF6MiQuh6uJRw3LKAaUN1SR2_6eWHnKSRuYPPfuR0piYsqNxPBt8eGS-hDo3lbJM6Ni-Kamhf-VD-muRhHj7_JOqjXXY6549a7Bdja4sX38-yiX8ppQZlJR9XSzruOsWNm88EuTpwu3JsdSYkjpkyF8QjLgNhZSA-OjMvF9IhNY7ZZbAJwm08GQsYNRg0lOrBX7LoV68qmzm4Hvnb6dp8PMb_jvJg6PiLY2IRebjvqu4NkPakDYtUnJafqEJoEhFxyhEr-xeOTiNjlPuz84rrgQxlJQkjwdCND_lBelQ50bHKt2peqPvgwmkR02s1p6KpG3goe2ib4btjom_39ZYzG8cQrtSFkaf2LlFu4vFMpFW3Sk0U5Q8xf1jehwx6q5Nd7D0VuvDSxlclhCFNBG3X4CfaXjX2iIsGBuEpigDly1mrk_HXSLGYWp03_4IERkiQ8Rec9xp23olkkHUrfgyEOG_QENAr52dKvF8&refId=wL%2FRMpLMnaJ0PmhOiDKXgA%3D%3D&trackingId=9u1%2FGL3Xr38rRkB0FsVS6Q%3D%3D&trk=flagship3_job_collections_leaf_page",
         "Software Engineer (AI / NLP / ML)",
         "Nextiva",
         "Greater Chennai Area (Hybrid)",
         "nextiva",
         "Greater Chennai Area (Hybrid)",
         "Hybrid"
        ],
        [
         "https://www.linkedin.com/jobs/view/4279543215/?eBP=CwEAAAGYgRQ36UlOYVyTOZF_hYfxTDWx5r1tIRN-hCtFStUXTBJ-Z4EHYpIIstgxiA6WO1yEUNYF85Guk9ASZAm9IdzobkyrafGXWtI4d3gYAKAz7WYmcJM1oEcSF3AVnEqgnsCKC0NIa5bywNYhVvAvV7HW-Fcat9Sb3ZKozwotvE9u_QlOKaSnya9lmz9EyFm4xWqicvFDhgNIY2jtQ2C6snx8_SnKPkstorBuJoFRFC_j0kmv0AlaD9vXRILdL_OJRY1wKx07k_f4jx4tSPvTC6Q6MBjiFN4YXg5yUPzZsqsD2QbTfwGfHMXERv6fUWRq8jKREj7yC3Fke0dV8-QAEd0poJip6RHAqobjzZ_QTh32zticN6gnHLuGZ9tuc370aApQUxAVwUkQ3VQoAKnXCwMuFflqDL5-XYp3ZPlKTFvAEHPHXJZEiVWzdI0wqEPQZPtV4ZId5RtKAKVBelhDxnCNebcIrKjZ7i4VMGAGeNyQDwJ-XqOES1dW2Mbyv3uI0kb4g90xN9ePDqDGvLW3VI4jykrYY8E&refId=wL%2FRMpLMnaJ0PmhOiDKXgA%3D%3D&trackingId=SM83wi2ga4rRTDNC%2FmKhUw%3D%3D&trk=flagship3_job_collections_leaf_page",
         "Data Scientist II",
         "Talkdesk",
         "Bengaluru, Karnataka, India (On-site)",
         "talkdesk",
         "Bengaluru",
         "On-site"
        ],
        [
         "https://www.linkedin.com/jobs/view/4275972625/?eBP=CwEAAAGYgRQ36fbQnx5QxkgMAUj13mmKBsQtKKOFRYaG95z9FdG-Eb53i0Oun4LOgQMgxCkif3giCM514RqQYw1ctItO7lDBskQVQayMD7G1UACKCHxv5L9PBwiTt4Y-b_T-rFOc1MEc6-Kg4q8i6JzQvUfohUrFS9ULMtxCDs_ekVGaDVohU9PWmXmT6v7C-Tx2Jg7rz91tOsRyLiLHphbQsFC-H6-1cLeLEV2X06RsxCUKhPLnNCjhRGpYWENu2E3LRzBWYqYqzRy4CHnVoKjrzFSZmX2Z8Qc4bhSWIEj3IRIk7nP96GJexOtYCmKkG6t6K2e5jZ3cMDmCreo2XuY5Sk5K2NqGmT3Q4sUTlSFkJ87fSnDKIum3DTcuFHCgS8wghD88OAZP9am4UU4VYChvChas-cyLTsmlHSaRIMVHQXOyeGQZ7xczJK1Vdy671NX8xZoSoR7qr_DXAooeiPnMqM2ymm_8WXCuVnMTLh_GBQEF1ITnWyKRIetF9UNwpj5S9AaoK1tIc3iE9ltKvC0nCMZWBdqX&refId=wL%2FRMpLMnaJ0PmhOiDKXgA%3D%3D&trackingId=pEYLZvwd3MzmQGvAnirMjg%3D%3D&trk=flagship3_job_collections_leaf_page",
         "Data Analyst",
         "Newsweek",
         "India (Remote)",
         "newsweek",
         "India (Remote)",
         "Remote"
        ],
        [
         "https://www.linkedin.com/jobs/view/4277363295/?eBP=BUDGET_EXHAUSTED_JOB&refId=wL%2FRMpLMnaJ0PmhOiDKXgA%3D%3D&trackingId=2cLqtEczLm%2B40hNj6AHMRQ%3D%3D&trk=flagship3_job_collections_leaf_page",
         "AI/ML Engineer",
         "Grow Your Staff",
         "India (Remote)",
         "grow your staff",
         "India (Remote)",
         "Remote"
        ],
        [
         "https://www.linkedin.com/jobs/view/4280159123/?eBP=BUDGET_EXHAUSTED_JOB&refId=wL%2FRMpLMnaJ0PmhOiDKXgA%3D%3D&trackingId=94y1ZHcxTdsmNJo5kSZtRQ%3D%3D&trk=flagship3_job_collections_leaf_page",
         "Remote Data Science Analyst - 17843",
         "Turing",
         "Hyderabad, Telangana, India (Remote)",
         "turing",
         "Hyderabad",
         "Remote"
        ],
        [
         "https://www.linkedin.com/jobs/view/4279992774/?eBP=BUDGET_EXHAUSTED_JOB&refId=wL%2FRMpLMnaJ0PmhOiDKXgA%3D%3D&trackingId=kImrvh6mYAzViXgBqWIeuw%3D%3D&trk=flagship3_job_collections_leaf_page",
         "Speech Generation Intern",
         "Sony Research India",
         "Bengaluru, Karnataka, India (Remote)",
         "sony research india",
         "Bengaluru",
         "Remote"
        ],
        [
         "https://www.linkedin.com/jobs/view/4280776208/?eBP=BUDGET_EXHAUSTED_JOB&refId=wL%2FRMpLMnaJ0PmhOiDKXgA%3D%3D&trackingId=EHXgxqpbXfDHfsbRkKHxjA%3D%3D&trk=flagship3_job_collections_leaf_page",
         "Python Data Analyst",
         "Persistent Systems",
         "Bengaluru, Karnataka, India (On-site)",
         "persistent systems",
         "Bengaluru",
         "On-site"
        ],
        [
         "https://www.linkedin.com/jobs/view/4275076258/?eBP=BUDGET_EXHAUSTED_JOB&refId=wL%2FRMpLMnaJ0PmhOiDKXgA%3D%3D&trackingId=%2BWunzS%2F5uot4kOkMFZR1jA%3D%3D&trk=flagship3_job_collections_leaf_page",
         "Full Stack Developer SDE 1",
         "NxtWave",
         "Hyderabad, Telangana, India (On-site)",
         "nxtwave",
         "Hyderabad",
         "On-site"
        ],
        [
         "https://www.linkedin.com/jobs/view/4277562941/?eBP=CwEAAAGYgRQ36KJWeNRiTl4P1fOxEdXUglM7W0wWnlj-FUD4OvaatfSHVGToct-V6k-FTdD6vf9eBfgTvfz_CjlyZQoC69e-Qt9RC8t3lwYCa6lNFBK-bvgf-OovgqJeuRptFUf_xqcDhISYZwY43By2tTgGhNLYZpMreCTfWLJegs5rhro37rbumq2u6kahE6zBKHFpZ5LyiEr7Tb499P0Sze5T8DRJEkEHB7ESzoGdf0lyV6eiqSuzQG7DycDW7uwbIBM6CX1y2pH93yqRNqzOMhurzKKB_1iJVY6YS9tEHRAojOHfGqb24hDgL-GZd8e6TQGYSVlcm70Wo7noiGYpZPa-qMZJK2wD0w3jgaM1O403HF7lPRPTgU8V6ZP4o-7JPCVqGCdvDwASQnppvl4XTeM50fYTcavy61vWNSszNy9_cI4AkyH7TTwoQkkbFBtiz6iNYjOTKMxvmK_uwIEYWl74S6tiy1PHTKjTroqoBreISak5Bi2UtvuzssTmkN6scRMjT8z1r7MQXf9qsayQ6qEA7MzCQbM&refId=wL%2FRMpLMnaJ0PmhOiDKXgA%3D%3D&trackingId=zW0MpxhxrZI3Z0iA8iI3Lg%3D%3D&trk=flagship3_job_collections_leaf_page",
         "AI - ML",
         "WNS",
         "Noida, Uttar Pradesh, India (On-site)",
         "wns",
         "Noida",
         "On-site"
        ],
        [
         "https://www.linkedin.com/jobs/view/4280831022/?eBP=BUDGET_EXHAUSTED_JOB&refId=wL%2FRMpLMnaJ0PmhOiDKXgA%3D%3D&trackingId=5bOjCxntA6c0UczcZKotvg%3D%3D&trk=flagship3_job_collections_leaf_page",
         "Full Stack Engineer – AI/ML",
         "2Base Technologies",
         "Bengaluru, Karnataka, India (On-site)",
         "2base technologies",
         "Bengaluru",
         "On-site"
        ],
        [
         "https://www.linkedin.com/jobs/view/4273880274/?eBP=CwEAAAGYgRQ36GdbbgjA4YX2rUBvzoOaln0-D5vjRna3N9-iZ1lnI5vikD8T-NZPb-RNb5ovwVs--4Cgx-Z5WhHJdwmvtzxKZtJ0wUjg7ROxEeNQwqXReXIDhlar7mfWyQr4-DPb_U7xgIQVWg9hJ7gOUuOoJnA_6XPxTfXWUNOexvT_qkg3ucd0hT1uotEH4__jbBJldqXDCAdFtnP0RGIZuaVrtJFw3-2bPUfwpSKdz1J5wAHDMWTz9fWTncqqgRXDxtGHUn8m8U3L5K2_ZuPtYGhDW-rx6RHVvGghxFmh9aQdBda99tX1On7D0UnOtk8xmEr3u0DEBO2cwtKzH4r6b3LcZTDZ-Z1SY_x-hohx7eZNBCzx4czuHVXzGlYn7yEJJ9p5AYvfA5IGMI9gC0IralcK7lXENnQVripR7DCjeP6tvlh8x7PYZmahvQwR3OlmcNK2LNo6tmOUp3Edka2_QLHvLGMhok6AJigGZgg9uXXChgA&refId=wL%2FRMpLMnaJ0PmhOiDKXgA%3D%3D&trackingId=MVIyF4JFHcOa6FGm47LOXg%3D%3D&trk=flagship3_job_collections_leaf_page",
         "AI Engineer",
         "Zenduty",
         "Bangalore Urban, Karnataka, India (On-site)",
         "zenduty",
         "Bangalore Urban",
         "On-site"
        ],
        [
         "https://www.linkedin.com/jobs/view/4279273971/?eBP=CwEAAAGYgRQ36HcC61SuAcAS2snyYNEPsiAOHIsdXe4s7KF2-bICtaT3I3RK5t9J6nmjQ2dgvkjVu90zBDbxuqJZ591TrEj2J1kFtkC7C4U7mWQwCkyggpaW3KejlB17XdVk57fM2cQhHfuO8NfYCsnuDml2I8Vxy8M3QXHPvQ_x_uZ7MEcTrODfYVpgi95bpIHXbv0CdBF7a8QFbzUBBF1avK6q307hkkov3cuKvy0sF4_zOZsxxwWrPuM8b_G2AOh30zLqGXFkrCSvXybpwEQY0Y3INb6dT41DHbhtOLQvK4ydkwBTepvGKffHV500x6P3WQKHTq9VIBWIKme9LdYCr70TQ9LFleB72i8uwxFvdSXWmdj02q9Eig6wBMD8eT0ukoYP9U_6F81mSCbcgugzHXYg1RCpOf3J5jNnRpgcZAYGQXQWsdChmbStBTG9oq9TM5p57xRy1R6qCbSJIy6Lmyy91PEqt-G-NGcCNTC5XIQBe2o1uYlDzp7RXiLviz78ZpUmWsrLFBE7cI01WIKj_NM&refId=wL%2FRMpLMnaJ0PmhOiDKXgA%3D%3D&trackingId=TaayOEKtud5QcgfcEDO1%2FQ%3D%3D&trk=flagship3_job_collections_leaf_page",
         "Python Developer with Javascript and Cloud Environment",
         "Ampstek",
         "Bengaluru, Karnataka, India (On-site)",
         "ampstek",
         "Bengaluru",
         "On-site"
        ],
        [
         "https://www.linkedin.com/jobs/view/4219931313/?eBP=CwEAAAGYgRQ36ETVhwHJ1MGAobk8UMYim2dc_9dihoaYx5f8WqdJY4gSSjREJF6MiQuh6uJRw3LKAaUN1SR2_6eWHnKSRuYPPfuR0piYsqNxPBt8eGS-hDo3lbJM6Ni-Kamhf-VD-muRhHj7_JOqjXXY6549a7Bdja4sX38-yiX8ppQZlJR9XSzruOsWNm88EuTpwu3JsdSYkjpkyF8QjLgNhZSA-OjMvF9IhNY7ZZbAJwm08GQsYNRg0lOrBX7LoV68qmzm4Hvnb6dp8PMb_jvJg6PiLY2IRebjvqu4NkPakDYtUnJafqEJoEhFxyhEr-xeOTiNjlPuz84rrgQxlJQkjwdCND_lBelQ50bHKt2peqPvgwmkR02s1p6KpG3goe2ib4btjom_39ZYzG8cQrtSFkaf2LlFu4vFMpFW3Sk0U5Q8xf1jehwx6q5Nd7D0VuvDSxlclhCFNBG3X4CfaXjX2iIsGBuEpigDly1mrk_HXSLGYWp03_4IERkiQ8Rec9xp23olkkHUrfgyEOG_QENAr52dKvF8&refId=wL%2FRMpLMnaJ0PmhOiDKXgA%3D%3D&trackingId=9u1%2FGL3Xr38rRkB0FsVS6Q%3D%3D&trk=flagship3_job_collections_leaf_page",
         "Software Engineer (AI / NLP / ML)",
         "Nextiva",
         "Greater Chennai Area (Hybrid)",
         "nextiva",
         "Greater Chennai Area (Hybrid)",
         "Hybrid"
        ],
        [
         "https://www.linkedin.com/jobs/view/4279543215/?eBP=CwEAAAGYgRQ36UlOYVyTOZF_hYfxTDWx5r1tIRN-hCtFStUXTBJ-Z4EHYpIIstgxiA6WO1yEUNYF85Guk9ASZAm9IdzobkyrafGXWtI4d3gYAKAz7WYmcJM1oEcSF3AVnEqgnsCKC0NIa5bywNYhVvAvV7HW-Fcat9Sb3ZKozwotvE9u_QlOKaSnya9lmz9EyFm4xWqicvFDhgNIY2jtQ2C6snx8_SnKPkstorBuJoFRFC_j0kmv0AlaD9vXRILdL_OJRY1wKx07k_f4jx4tSPvTC6Q6MBjiFN4YXg5yUPzZsqsD2QbTfwGfHMXERv6fUWRq8jKREj7yC3Fke0dV8-QAEd0poJip6RHAqobjzZ_QTh32zticN6gnHLuGZ9tuc370aApQUxAVwUkQ3VQoAKnXCwMuFflqDL5-XYp3ZPlKTFvAEHPHXJZEiVWzdI0wqEPQZPtV4ZId5RtKAKVBelhDxnCNebcIrKjZ7i4VMGAGeNyQDwJ-XqOES1dW2Mbyv3uI0kb4g90xN9ePDqDGvLW3VI4jykrYY8E&refId=wL%2FRMpLMnaJ0PmhOiDKXgA%3D%3D&trackingId=SM83wi2ga4rRTDNC%2FmKhUw%3D%3D&trk=flagship3_job_collections_leaf_page",
         "Data Scientist II",
         "Talkdesk",
         "Bengaluru, Karnataka, India (On-site)",
         "talkdesk",
         "Bengaluru",
         "On-site"
        ],
        [
         "https://www.linkedin.com/jobs/view/4275972625/?eBP=CwEAAAGYgRQ36fbQnx5QxkgMAUj13mmKBsQtKKOFRYaG95z9FdG-Eb53i0Oun4LOgQMgxCkif3giCM514RqQYw1ctItO7lDBskQVQayMD7G1UACKCHxv5L9PBwiTt4Y-b_T-rFOc1MEc6-Kg4q8i6JzQvUfohUrFS9ULMtxCDs_ekVGaDVohU9PWmXmT6v7C-Tx2Jg7rz91tOsRyLiLHphbQsFC-H6-1cLeLEV2X06RsxCUKhPLnNCjhRGpYWENu2E3LRzBWYqYqzRy4CHnVoKjrzFSZmX2Z8Qc4bhSWIEj3IRIk7nP96GJexOtYCmKkG6t6K2e5jZ3cMDmCreo2XuY5Sk5K2NqGmT3Q4sUTlSFkJ87fSnDKIum3DTcuFHCgS8wghD88OAZP9am4UU4VYChvChas-cyLTsmlHSaRIMVHQXOyeGQZ7xczJK1Vdy671NX8xZoSoR7qr_DXAooeiPnMqM2ymm_8WXCuVnMTLh_GBQEF1ITnWyKRIetF9UNwpj5S9AaoK1tIc3iE9ltKvC0nCMZWBdqX&refId=wL%2FRMpLMnaJ0PmhOiDKXgA%3D%3D&trackingId=pEYLZvwd3MzmQGvAnirMjg%3D%3D&trk=flagship3_job_collections_leaf_page",
         "Data Analyst",
         "Newsweek",
         "India (Remote)",
         "newsweek",
         "India (Remote)",
         "Remote"
        ],
        [
         "https://www.linkedin.com/jobs/view/4277363295/?eBP=BUDGET_EXHAUSTED_JOB&refId=wL%2FRMpLMnaJ0PmhOiDKXgA%3D%3D&trackingId=2cLqtEczLm%2B40hNj6AHMRQ%3D%3D&trk=flagship3_job_collections_leaf_page",
         "AI/ML Engineer",
         "Grow Your Staff",
         "India (Remote)",
         "grow your staff",
         "India (Remote)",
         "Remote"
        ],
        [
         "https://www.linkedin.com/jobs/view/4278492716/?eBP=CwEAAAGYgRRFuFBhckZrAS5VudGiS-Z0tB6oFiunIjw8tVhEnswlRRUTdJeypIBWAPL9VD9YzC8baKTQ7vEZfb5kLNtvNiJWFnrD6_V316EXy-dU190WN2b7nmyqNta8uY9e6pbPdD0-nHWMflldZMYCH2yN-2yRmGJNf86QFMpIHwnXyVxL2VwZHKea50rQnwFRrXtvgb4_x83FUe8g2qXzOFIALMiV3BFFHLWM7NlBAFnXZxTRkSW87NZX_1xkrDbJaa1AvbaVvHJhR0Rwvpon0uPoJ2w-2LN89p3FW8v8pAEyNsigMdNHtfzTlkZIN2lhT9_dSn_lLyA58k0covtGtU4CiEFDRs_dk_X_px3pyqXxfT5uHUiuNA8rYA_eNHc2wg-OLx7YOd90UnmXuzUcEYN2_PF2do5TbRcEePLImWk1ZZJujIcn_bRdaQKRPXKhs7DhdOGt5p2ygm1D3cFMVro3yvm-Ieo0gEBL7HC04Ke04u5EdMybUpwych-3xMQf3on8yO9rjyBU0oS_wash24HdnS-i&refId=yGFNBlPxF21UuzeReqTmiQ%3D%3D&trackingId=lFXT5nwZJMtcX88C4yyZDg%3D%3D&trk=flagship3_job_collections_leaf_page",
         "Data Scientist",
         "Recro",
         "Bengaluru, Karnataka, India (On-site)",
         "recro",
         "Bengaluru",
         "On-site"
        ],
        [
         "https://www.linkedin.com/jobs/view/4256657158/?eBP=CwEAAAGYgRRFuPQjPdUnuXNbhSTUa3DsR2af5o5WRykksCD50bJa7vAMHr1AsnsK1SyEAbYyhzNfqCP1y8UuDJ4BVzmdvDf7nLXfOdcHvCnN24CM8VWYaGzDdt0M4X_OPsq5xRUutYRYdhJTY8vAQ0MuSp0nAuRsLg7xn6iRkvH3Znaj0dlVYAEPe6UN_e6BCIBiRBQfLE3bCAIXe8ieg_61odAtv8A_1qkPA0q1TEy8Mc_LYEarWWBovqgzDdO9j3puqSCFQuke-jNekmv6zJAfs4e04HLHGtgTcynB6KRo1fqkWmN7NqiurSeFU2l9UnAbhvd_TcEoC064bI1jsl4pKtzg_VV7hfRa49Fy6LBH07cx8dNaQwGkGFXjPtF8TWuYvCLzEuIYQN-jqVOkCkBErQLXqytsYghiqU3O5-_wL-cI51_s1ESyT8Da4lGcL9qjBWmvZBRuadY2SWwAfq3QgnPlLDmVr07HP5m8Zaab4JHQrzoo3G-379d4zac4SAX23H80ghXWI3HK6gyFdx0mhYlU-u3J&refId=yGFNBlPxF21UuzeReqTmiQ%3D%3D&trackingId=SYr7R7y0UMyI%2BmqkhBLKsQ%3D%3D&trk=flagship3_job_collections_leaf_page",
         "Machine Learning Engineer",
         "Wissen Infotech",
         "Bangalore Urban, Karnataka, India (On-site)",
         "wissen infotech",
         "Bangalore Urban",
         "On-site"
        ],
        [
         "https://www.linkedin.com/jobs/view/4277376537/?eBP=BUDGET_EXHAUSTED_JOB&refId=yGFNBlPxF21UuzeReqTmiQ%3D%3D&trackingId=4PWmG0XS4s2zVlY8p3E7tg%3D%3D&trk=flagship3_job_collections_leaf_page",
         "Python Developer",
         "Persistent Systems",
         "Bengaluru, Karnataka, India (On-site)",
         "persistent systems",
         "Bengaluru",
         "On-site"
        ],
        [
         "https://www.linkedin.com/jobs/view/4275634343/?eBP=CwEAAAGYgRRFuZpRI7CwmVXmLlcRPwNOp-7g2l_bGp9Z-pDM0WV_r-L-tvsdPTLHaEIHm5DEyOgqNw9FtDkQVKdPN4MAsJ1c3wQXsodk0TN2hJdNatxIWbhWhBeZMhznBxP_uKWVIwumKsZDCWHgczjvO3rnMhL-1cJwczKG7l18x2SBUokRyOySU3je8JE-r1JtFYoKU2ruDM6wY-Ut9_hrxZ4tpzX4BEG0MFUHYK55W2geybY4jHl3HjpNPWmJEaFIp66ITLQVqubVEZcsQ1wz8lpr_USr5i4ViJffwUAIpXLhuD7v58W44AVA0ifKsUIcsKXPry4L7bN-Gf0iOi85dHUuJ-4ekRRTZRGrnHMnaGSi9ORowZEEpWuNh1wpaSAzDgPEeEqQyuwwzb66VWJ0HwLt6mrDIQxN4BcNccY0VwZpAG2P24tX-j_gXKO4lOUz_xGdAm-QdlI9OLTJQHdUaCwaqdtguPrENTQTLixDsU1U-imps7SrKxBm8gkhLdgFQ7JNxwzejxoejcqiBB2WERRSHQnk&refId=yGFNBlPxF21UuzeReqTmiQ%3D%3D&trackingId=b8uVvbcs1fgYW95uq6InSQ%3D%3D&trk=flagship3_job_collections_leaf_page",
         "Software Engineer",
         "Concentrix Catalyst",
         "Bengaluru, Karnataka, India (On-site)",
         "concentrix catalyst",
         "Bengaluru",
         "On-site"
        ],
        [
         "https://www.linkedin.com/jobs/view/4279718145/?eBP=BUDGET_EXHAUSTED_JOB&refId=yGFNBlPxF21UuzeReqTmiQ%3D%3D&trackingId=ICwxkNOd8g8NFldyhMblSw%3D%3D&trk=flagship3_job_collections_leaf_page",
         "Data Analyst",
         "Circle K",
         "Gurugram, Haryana, India",
         "circle k",
         "Gurugram",
         ""
        ],
        [
         "https://www.linkedin.com/jobs/view/4273852689/?eBP=CwEAAAGYgRRFuWTQZmkwvjo62kbbCEiUr9rixhYBvlaoReGdc-Rt6Z2-n7uVDYzKhJsS5t6GTc2pnQckn769pxqp5j2a7IsFe4IIq-5_li4d27u68EOQssdjB-Ou5nZCRgoLrbP02FeUB7c0aA1ioH0ZMEqzWvobh_MWXQwZbxCzq40EtHya9vNvfdYdMxTquq5pC-xDOzn0T3Pa5iBCrlu1H3vjdJyhrx_0fzNMArsS2Pq3dwcerK43BLTBIS4MMEMqlPowVt-k4IG9-6KBp0YQr9Q-S_hzznEE-bzYHMqRyzJpuXf2GQmDchh9oIIDKcq77Udiek5iOHVEwhuBxAPm0j-994yk3YA86z9-z2i9UN2sqhShVZGAAUC8fNJBsrDJRTP5IcTEDTYCEdc0HdrL9NUMaZMBi29RTzOSzk-ovxHcdgVOu-T-gbtKZPMT9OgYJFHCr9Lsw3-L6_Cu3dVRWbn_YIsBLcbHCGT1F3SHfS3wb0c&refId=yGFNBlPxF21UuzeReqTmiQ%3D%3D&trackingId=rt2CSAjWggnS1ywmwW2JVg%3D%3D&trk=flagship3_job_collections_leaf_page",
         "Python Data Engineer",
         "Bajaj Technology Services",
         "Bengaluru, Karnataka, India (On-site)",
         "bajaj technology services",
         "Bengaluru",
         "On-site"
        ],
        [
         "https://www.linkedin.com/jobs/view/4273785117/?eBP=CwEAAAGYgRRFudPLdlTej0qcCkcFCeWvR5At16WsTM0ukRyWa_6VK2icxgPY-jX4dt-OBriODZj3yT3A14g6DTJ6wUQzr3quabvzqfqJmaAxg7bs7CwYoFaAfmK2F9rxbIj9YgbpPhDYXHBfRMYMCoXuLQxT7ONvr1uWs6iHYlETCISc3Uo8tOiOs7cDJD64_NQrrIwuS-nkTlWK9FhvhVCs4rFSD15xhBn7zTS2NWLQJt5zN2Imi2Hthrv0K9Y6NnO8ECKoEGi9Vww2mvmG-zeFq6-gM_denR8yJA5jhGs-YRpei_uhWjjfkHXRRXa7QICsOLpNHK1BXa8ZHY_OSzRwngkww4F7Eln08hJxvAXvv-V2rJOIUQxbJ9rKj6_fwndvfclt7b-499v2MyBpT3wK5aay4kUb0syjwiJWejESI9NF64ADyj9XJwWPZsG1tMxz4ujepaHF_hdf5uA9wZEPamKaYHVYR-9uKMkGxlc0I84TLpfcNJNXHQJBr0HTB0LTSqjluLhzeYbmioBNelIP-TG9Bg&refId=yGFNBlPxF21UuzeReqTmiQ%3D%3D&trackingId=GfETrAnq742RlYp486M3WA%3D%3D&trk=flagship3_job_collections_leaf_page",
         "Computer Vision Engineer",
         "Droisys",
         "Noida, Uttar Pradesh, India (On-site)",
         "droisys",
         "Noida",
         "On-site"
        ],
        [
         "https://www.linkedin.com/jobs/view/4280324360/?eBP=NOT_ELIGIBLE_FOR_CHARGING&refId=yGFNBlPxF21UuzeReqTmiQ%3D%3D&trackingId=zzQiWE5hpNsuQgYl%2FlM0bQ%3D%3D&trk=flagship3_job_collections_leaf_page",
         "Machine Learning & NLP Engineer",
         "NSKH Tech",
         "India (Remote)",
         "nskh tech",
         "India (Remote)",
         "Remote"
        ],
        [
         "https://www.linkedin.com/jobs/view/4275090921/?eBP=CwEAAAGYgRRFuSWl2n8vdOJ0Eeg-08DmlDN00Zq16HZnfs61Q494tHxpxWncjorXi-5hY1zGuRi2xshDT5WgvXNuDkI-bLavvpTZ90I39MQBfFS0edo3hVbamubNJjqXUHmtvCGqgaBtaNMVeGEwjw6vrI8vKca3MyQEx4O1Q0RJuKfHsFlA837o3dmwRGIs1cbjYgPWFU9ZcTGgUYnDUZ0mGeUmjbPneI7aapiEwF6mJNZ4r5ERgIPRmmIDUnR-1XvgSK8JiRlePRXlEcsXSg37RUR0QKSUNYdv6EC0BrFr140CXM3yX6z3nRZ7WcoBrG4rjjdYZDa0X1TPONJ2YGp7kLbvKLJ0L7uWgiJ1mv1UlHFiu9hWasSnQGOG5V-5TlQG-G6HNaXtwij2xPR8ix3X8zKTEItQTxHXDOdho_BSHfq1eN3s7lVGIYwA9Nis0rXOdpjfJKd2rT-6OwGz0L2Ip2AS2U4QV7bIsi8WysPdfp8Umsd9lOH5u4na2a8KnwDFxLAqZpMPpp7xYYpaZYPnLsy0geCa&refId=yGFNBlPxF21UuzeReqTmiQ%3D%3D&trackingId=Br%2FZKCI8YT02vm%2FjkAj4kg%3D%3D&trk=flagship3_job_collections_leaf_page",
         "Back End Developer",
         "L&T Technology Services",
         "Bengaluru, Karnataka, India (On-site)",
         "l&t technology services",
         "Bengaluru",
         "On-site"
        ],
        [
         "https://www.linkedin.com/jobs/view/4226062221/?eBP=BUDGET_EXHAUSTED_JOB&refId=yGFNBlPxF21UuzeReqTmiQ%3D%3D&trackingId=ojyLpXCsM0k79YRIdDbTlg%3D%3D&trk=flagship3_job_collections_leaf_page",
         "Software development Engineer - Backend",
         "Pocket FM",
         "Bangalore Urban, Karnataka, India (Hybrid)",
         "pocket fm",
         "Bangalore Urban",
         "Hybrid"
        ],
        [
         "https://www.linkedin.com/jobs/view/4280333628/?eBP=CwEAAAGYgRRFuo5lXXBHtCItiM_aHbc9JjQrLfK0r3RTSkcB3duh9POyN-Glumh_YDcIdICGpYnfwk4q-yfrTY6N0JffiGi7ek-smGvqfcdTE3QDDQMK7ks0WrPM98N6BQtkdomlvhA8dHVS1Fk2s8XImC-EC8CEz6lRSIhowiEAc1XQJew7dF1qiru-8QvrQP5NLgGHPSmoZwN0dYyCS-MYsR_3BthTZygFVPFjcf-fnTUI6FS7Uxef5G9MTRgrrHjm8zPInZMwfGJnwDRUlbn0lh7SCC0MjEWjgArHcvywXcSuTyYFRnQ_Xu_IrHQsmEayKnUDChclNdwsubXloIN-xpmbpJdPeAjUuEeAKdMKFSff6Wdsng1iqNezqkcwGvr90uCVumCm2q6dwVuvUtINgmdu8hlWUqiXo2kH9t54dHCTj8h5avkHkL3Bqphlm5AARh8dwL90UOYphpZk2eIo5wu2yT8a58aY2TSApJ0-GpBQW-_QrQ&refId=yGFNBlPxF21UuzeReqTmiQ%3D%3D&trackingId=ctnILpLXFm8h%2FfZLkoiljw%3D%3D&trk=flagship3_job_collections_leaf_page",
         "Data Scientist",
         "RevX",
         "India (Remote)",
         "revx",
         "India (Remote)",
         "Remote"
        ],
        [
         "https://www.linkedin.com/jobs/view/4272010373/?eBP=BUDGET_EXHAUSTED_JOB&refId=gEkwBXWXNmtlPZoL5RoWWg%3D%3D&trackingId=uIztw1HcXagiVne2q6jWTA%3D%3D&trk=flagship3_job_collections_leaf_page",
         "Data Scientist",
         "Solytics Partners",
         "Pune, Maharashtra, India (Hybrid)",
         "solytics partners",
         "Pune",
         "Hybrid"
        ],
        [
         "https://www.linkedin.com/jobs/view/4272059799/?eBP=CwEAAAGYgRRfgiSo9pqN1be7N19pFrJSBz1TxVTDl_pu_r-lZP9QNVxxM09x4N9FncAydw4Py2IKKrxVOc5hfTlf6Um6sF7SGLAUedlj5gJTOisFu2BtTyjLY7EhXtK60rElKj0esy_4x7oxwWiOePcVj0wzFvkO3yDXRYr2PHINdwG36CMK6kK8hJAzBd4_7Pu0wI3lOJF-eUC04-rUpgka1_6hX1csODlhWNXqSe65-xH0UDg7FZSB2iWe911or7RcrO2A2mcaI51tH0NTppRZbXErr0_54dDhAjT9NTN6MEvtzw4UeOf_meErH7DBm0j9Ue-yHguGxMyp8C4plbtQb9QwteqwF2DIqs3DzBNi71Vv_WjF8pl2bDLdJFHmdYHObKiBkeupsYS25EDeKQs6If_UUA1DpYj2b8bYcWBKwdN18LFg849TENpuOYUtS22fBhsaQZU22pj1duNAYpE_ez7I6FU2qJzSFU1dUg0uBrowcM4esck2E7EZ2RUbPClz_i581ULFNdRRcCw_4FL-EaSGpH9X&refId=gEkwBXWXNmtlPZoL5RoWWg%3D%3D&trackingId=WcJQRZsZia7V4bNzLlZFEQ%3D%3D&trk=flagship3_job_collections_leaf_page",
         "Data Scientist",
         "Zensar Technologies",
         "Delhi, India (Hybrid)",
         "zensar technologies",
         "Delhi",
         "Hybrid"
        ],
        [
         "https://www.linkedin.com/jobs/view/4277149208/?eBP=BUDGET_EXHAUSTED_JOB&refId=gEkwBXWXNmtlPZoL5RoWWg%3D%3D&trackingId=6%2Ff2L7e0eCC3%2FOG3rhtXDw%3D%3D&trk=flagship3_job_collections_leaf_page",
         "Gen AI Engineer",
         "immerso.ai",
         "Chennai, Tamil Nadu, India (On-site)",
         "immerso.ai",
         "Chennai",
         "On-site"
        ],
        [
         "https://www.linkedin.com/jobs/view/4278537311/?eBP=CwEAAAGYgRRfgzqSmu8dp-VcYbCZpHBctSq-tlkX-MkIhH-ptKUeNbbt6Dctp-NtM_cQgZAc0SpauXuFNvmq4mawa1qVD2tkkEthMsELuzmOemnoM7XpeXfBS9zI5X3jk3v_h85qKPpCc7W3mn-l5ecJLNQ2gzDO2LoKZzOsXee9Q1w0no1Qd7DMAfMfdfzKlnjWvSM0cN9SKoK4CnnTm2ZFDPEQoc50dQMkruqQq4vGVy8IJVGYwf4jCK1e5vdhfQC2zNSCNkjEPbJfxaHZjR7P7JyExHQyiydSvg-GUFyyRwfhn1_-ySL1fi7PFEqUEkqHSufcCDIyPhxhMCKHVEzGlmvZubw3w4lJBGRNOKw9TT8B8rRNQG5KB8tWH2L6YGPsiSgG6Gxh-wRzeI2pzx9CC1t6Iai9esOZhgVrlKWp52rTCb8kqMEdVUvpMoWnZ38hqRzSY5jnPbwqecHUstogQosWOPVwrFWxdU1k-ji6RVadz9VQ3u1D0gZREio22q8_avzU44AKH6JAlzLQOGIjLDFMxw&refId=gEkwBXWXNmtlPZoL5RoWWg%3D%3D&trackingId=0x%2BM5XShNriPQHa2HdajqQ%3D%3D&trk=flagship3_job_collections_leaf_page",
         "Frontend Developer",
         "DotPe",
         "Gurugram, Haryana, India (On-site)",
         "dotpe",
         "Gurugram",
         "On-site"
        ],
        [
         "https://www.linkedin.com/jobs/view/4278908810/?eBP=BUDGET_EXHAUSTED_JOB&refId=gEkwBXWXNmtlPZoL5RoWWg%3D%3D&trackingId=jEEzy3XFUgZ0V%2FUtjZQViw%3D%3D&trk=flagship3_job_collections_leaf_page",
         "Frontend Developer",
         "Vettam AI",
         "India (Remote)",
         "vettam ai",
         "India (Remote)",
         "Remote"
        ],
        [
         "https://www.linkedin.com/jobs/view/4277708203/?eBP=CwEAAAGYgRRfgwq-e5X5f69ME0XUyAsgBAscG4-U8w4jeslv5nmB9MnxCNWMJnBOg7KB1TcgsZp6bTvsakn5p_UsDlcqZKgL3NeHQ0qYlNHgToomkhibOZM3d48473Qoy-wkFSy9ISrbINAIv3eX2p0D9gT4MlMxGnlnMzIaYE7P1977phxVZLo_yHyweH9rJqyhPFAvrpYxX16-3P3SqaqzK7tfu-i0ojRl9AGdBxrqxpypAis4uqW_OqAUQfLbo66x7GpsdzMtDK0s5OLqY4I_CoQMuzEhoXajbzlR5sNh_VRYBZnI9tHvRbtpFBFHgJWdZBpOqoyvqfp2U4QBoo3XlhqxxdckZFBlzp3EdmbbNYH2hQTYU-Ouz_csxpzO9KhDk4_7QjdrtL_MWvGqfYLj0QMr8KN7-yFbE2N2gQg5K2UtDWP7T40wArf45aoOxwHS0lMAvA-aX2PhnMd5P11fWg3H5_C8Q_Hxa3gH445lIBIn8oEc2c-K7kB3EgfvOXPC5cC1KVjMYkep5oTs-HjYKF42dPGC&refId=gEkwBXWXNmtlPZoL5RoWWg%3D%3D&trackingId=3lDIP8vme%2FBzdPkSZwZ9tA%3D%3D&trk=flagship3_job_collections_leaf_page",
         "Python Developer",
         "Tech Mahindra",
         "Bengaluru, Karnataka, India (On-site)",
         "tech mahindra",
         "Bengaluru",
         "On-site"
        ],
        [
         "https://www.linkedin.com/jobs/view/4277704619/?eBP=BUDGET_EXHAUSTED_JOB&refId=gEkwBXWXNmtlPZoL5RoWWg%3D%3D&trackingId=sfPD7JoJZaYvfeYoBH%2F4qQ%3D%3D&trk=flagship3_job_collections_leaf_page",
         "Data Engineer",
         "Randstad Enterprise",
         "India (Remote)",
         "randstad enterprise",
         "India (Remote)",
         "Remote"
        ],
        [
         "https://www.linkedin.com/jobs/view/4280807474/?eBP=BUDGET_EXHAUSTED_JOB&refId=gEkwBXWXNmtlPZoL5RoWWg%3D%3D&trackingId=lb43av5HXqIJQI4QSjPnLQ%3D%3D&trk=flagship3_job_collections_leaf_page",
         "Python Developer",
         "SmartQ",
         "Bengaluru, Karnataka, India (On-site)",
         "smartq",
         "Bengaluru",
         "On-site"
        ],
        [
         "https://www.linkedin.com/jobs/view/4254722984/?eBP=BUDGET_EXHAUSTED_JOB&refId=gEkwBXWXNmtlPZoL5RoWWg%3D%3D&trackingId=LDn%2BQm2hD5Uph8UR7iT0Ww%3D%3D&trk=flagship3_job_collections_leaf_page",
         "Python Developer",
         "Accolite",
         "Mumbai Metropolitan Region (Hybrid)",
         "accolite",
         "Mumbai Metropolitan Region (Hybrid)",
         "Hybrid"
        ],
        [
         "https://www.linkedin.com/jobs/view/4246225855/?eBP=BUDGET_EXHAUSTED_JOB&refId=gEkwBXWXNmtlPZoL5RoWWg%3D%3D&trackingId=iu6BqIJZZdYzLneoj69J1g%3D%3D&trk=flagship3_job_collections_leaf_page",
         "Python Developer",
         "mthree",
         "Mumbai, Maharashtra, India (Hybrid)",
         "mthree",
         "Mumbai",
         "Hybrid"
        ],
        [
         "https://www.linkedin.com/jobs/view/4280800105/?eBP=CwEAAAGYgRRfg4EHQxXCKi9Od5r1oJUEiCPLSTvAar3zedoecmPUQmSmGU5JkEEDlavPVFIplAV0Go_NBpRJqxv0d_LBDu3nOrn8qcKzLaa_5C97iKlJzJ58EHIQeiVZbxmnN1tumBdwgXd9BnqYQz5EpwvXpc2WwrJQpxYX0n4RYk9-6EHydatalAms3HeFt4mumNNnBzsCyIWD8GtEwJFNFNbaUYTWy2waMAF7ppT5ChKmjFJMwE34Q45fSnZFK1LcGSqFrAxsKsXpQPPgTJyf3LEqI1wHVDlRPT5JUjBMdBjEW0WM5Vs8H_GYxn6ikHJz5ORcKi3Pu4V7GOhgLX43t0ND5np6KfQHWKfhozVHoQL_R1PhXFyXX_2_sJQUkvxNKu-gj7A4J6zx1osqYVyC-VM2dRS78ewhninZe3qsuLG3K5VDiiDCwkcrmAerncEkAHpOjcWu-AbScGkYwQPVIoElWS4a6MI3-mEd4dCGPsYqS0TWYA&refId=gEkwBXWXNmtlPZoL5RoWWg%3D%3D&trackingId=QJj7P%2B1mrEjhJriVkhTcqA%3D%3D&trk=flagship3_job_collections_leaf_page",
         "Data Engineer",
         "PwC Acceleration Centers",
         "Bengaluru, Karnataka, India (Hybrid)",
         "pwc acceleration centers",
         "Bengaluru",
         "Hybrid"
        ],
        [
         "https://www.linkedin.com/jobs/view/4277691099/?eBP=CwEAAAGYgRRs1XFqVl8gKzF_KV_gzTD_jQ2gQdKXwY_x-FFTnLWm58F13ECe9-1WKQYhyhHzuo53AxL3hzabdAmnIbxy7qsGj-YLi69K6umAqnSzOoN-Vp8IakCVwfrHYI1_dU-ykFppjwhdA4geRJXuO0zs5EXrLwIuemNHvXNqwrwbLtj3-rWX7_kCSY6s_XmvCulphH9WhHN__9jbC6Lrv4gt7qIf1eAaFbWl2UPXWzwGTTvB7dH_KDPuPtRBbaGOamL-ASnGUUOYPHPM15d6fgrGOC3YdrEHPIx9t1iDMEGHnttlel7uU2VPj8mO59Z9_4t2FkGj29yv1JAb69-qFRcJX1CQXrnpEODRWGCH7ep7hI03zBJItMMu_9ujmxjzolkoYODxy5tSkjuPadmdAuuYvI03vVDRiSfaMJY0gLGyPrGSOS9xv_aMiFxSs3a4QlQQYJ87w8YgTFcOE6L6a9EXD30XeDLo9BxOC_24KiW4lCmh7WipupGANFXIrMOxHw7tqnWJ7PsDafv4BSl9K5xRnCiC&refId=C1m6O88SDPW5eGDelaudEg%3D%3D&trackingId=4C4umh3tXmrO3ES5CGvXSg%3D%3D&trk=flagship3_job_collections_leaf_page",
         "Machine Learning Engineer",
         "Bounteous",
         "Gurugram, Haryana, India (Hybrid)",
         "bounteous",
         "Gurugram",
         "Hybrid"
        ],
        [
         "https://www.linkedin.com/jobs/view/4273549803/?eBP=BUDGET_EXHAUSTED_JOB&refId=C1m6O88SDPW5eGDelaudEg%3D%3D&trackingId=GafBCcTcYaFonTnObRdByg%3D%3D&trk=flagship3_job_collections_leaf_page",
         "URGENT Hiring: Python Developer (LLM)",
         "AquSag Technologies",
         "India (Remote)",
         "aqusag technologies",
         "India (Remote)",
         "Remote"
        ],
        [
         "https://www.linkedin.com/jobs/view/4268794618/?eBP=CwEAAAGYgRRs1iQKPF0wuM_RALmLun6TeaRpKxhzSjtUGHB_8u-X1riECl5Zt9CibTxScBCl5i9jYJtAzHhxHj2P6xmPW287itDrL5TowVTBVVY-HiUQ1Ig32Q8lu3vg7TjSX0teyR-F_DjsG8eYPXxUoq3ODHtCoTA94BR89Csm_-sfp8A0JnyUFuyc0-XUq1yZeEAitD-JnfL1F9YOiPp3EFtQWIKb2dS4MDD5jG8MOdzt1kI97apCK8gT3FFuM5QNdst8Gud1dy4jnXc17peT0oShgvQXObPL_oqdRE0SfWYzAR8geZUthsRA4X1QO4COzSmwPHQsNsGZlzdGrNcasNjkEAxBNrqQxeS2dl7M4tLJv0MhyvqaUsgj0wEQt02r3vMTD3H2Mn6ZHx8o9NT3XuGjbeTEoT50OiKsF8uN-h4NKB1WOpTXrTWJKAcjioOQfHm90qyOmPZC2D_iopAdE9zjmT5dn-KPrjLggNAr7F91d8XM_6cKAVTf8fY-pWWytf874HFyyVIE1hHXEmrj&refId=C1m6O88SDPW5eGDelaudEg%3D%3D&trackingId=iDuYn4jbqzmNGEX0wMvJBg%3D%3D&trk=flagship3_job_collections_leaf_page",
         "Machine Learning Engineer",
         "Prudent Technologies and Consulting, Inc.",
         "Hyderabad, Telangana, India (On-site)",
         "prudent technologies and consulting, inc.",
         "Hyderabad",
         "On-site"
        ],
        [
         "https://www.linkedin.com/jobs/view/4272058375/?eBP=CwEAAAGYgRRs1kmwP4FQawpKF8ZVBPBqGPnOvHsUaGtugj8Mju9ElH3hhotzKcCIRKURnosus1zqCejany4wqt8v1bbKVpbwRsDJG7Boe5kgV2k5Je9aT6qxXDzK1zN0CnszVMJPGdG0BEntQ3MZXBi7y9FSOh7BZUI_VijYp3t7Fu4cHcScVDBi8L9J-onuR8WfHlFuNtMNaWsNbZw_6hi9Vw1DwGF0rsfIUMsyjyFllStTJ5sST5ZjwKcPUlndIBX-RE6FVigexDWxrUvYreJWqiIFeo9Ho9iXl4KosQiXppdoTeVP3sLwM0QMhdEvJDUa-MQ94Gz4ibH6OOISs6UIza_zInITEcEyGwSqpoUD4zN8T_Rsr3_i4Md5HUhfMFQYgJ-0B0_zq7ekinZMB0UESNgGqRwSSpYmqFQ4FKzB-F5u06dHdelRWR8C7OxzYD7Q-aI-uIT3u-rRHr79K_QUX2kGmTzoMHEKszOAJxSjT82gyTs&refId=C1m6O88SDPW5eGDelaudEg%3D%3D&trackingId=5BkqcA1paT4QHC7FjQ32BA%3D%3D&trk=flagship3_job_collections_leaf_page",
         "Machine Learning Engineer",
         "Dentsu Global Services",
         "Bengaluru, Karnataka, India (Hybrid)",
         "dentsu global services",
         "Bengaluru",
         "Hybrid"
        ],
        [
         "https://www.linkedin.com/jobs/view/4278908252/?eBP=CwEAAAGYgRRs1siMaBMJKnH_jpL9yNDwRWEA3Lq93muUB6UXwexKPNCI6kjP6bzPTRPXdQsNyjArpZpAe8dJLNpNP6JUO4V5y28xmUjcg2xD3_zYpYzZ09JmUxFdoJHqSsPgD8iRAtSKyDW-NqggAe3Q4SCeqtyM6GsSmiuqxn2jnQxnRn3fuqWQrWxswonZIalA0MB5LcblUt2Khu7oP04CGssI7ZZjD0rcK1pHHvHjThCYXpDZdfj5DusYXSJubrGKFsOFduf0CQRkBVQsltKIe91gpLYmxr9c6x-2zTRA9zlwJ2W25PjjsHOovEm6cqIHOdEHreBU1ZjfKos-FaYZUZDc4X-5rBLJCs0kQPVIJMVU1enVpn9hFmCKMHKySQcBXZgN6W_PGXxEsZjS43Gxqp7EPQYqBIU9CDNXPKO9vPMZklRCJqfMdx9OuVUGatfai3lmsFW5gTbQFIw7YI09UbTOVwgQPEUdWujrK0urBQHL6YzGkm6n02gbh6lLDdww5M6ymlDKZKYtuMpxle2HxvTSKx5y&refId=C1m6O88SDPW5eGDelaudEg%3D%3D&trackingId=MjqSX2Vx5IBnvUXw56LEKQ%3D%3D&trk=flagship3_job_collections_leaf_page",
         "Staff Engineer, Frontend React",
         "Nagarro",
         "Gurugram, Haryana, India (On-site)",
         "nagarro",
         "Gurugram",
         "On-site"
        ],
        [
         "https://www.linkedin.com/jobs/view/4279379953/?eBP=CwEAAAGYgRRs1ib1k9589ENGdSHnT_0C0JO7oEaTz2WRGOkqA1KJRpEkZ4FBih8Ezag-LC3n6tFdGpO9yQxf1wwcTLdjIT9h08I9B28yR9y4pf3HXkWxwn33lI8Mj866FLc66c6Es4UEJ3EnTFbAbYT9XZCp9UL4nWDyUPmdUTVkKieGIFJ39pZYvl-a7VW_5wxysUQ0brs7CfhcX9ZwUIfpKiB8iN-aUSPbMpzuVgjrpzCTxviqgyWlJVL0I_NRN0Ro0rGmgNIBPXQ1-dyJTtC37WdfcRUFGcRR3B6LDqVrzrQUMke7Ncs47SmqP0dIyZXy9Xk2WPU0ElWBvzBE9QtZOumWt4KyINpAbGro-6XZkTKDClV-kj1C4aATFu4720r-AykXdBCurQH2BCxoLs3yr-IZr4lSOxfgdrXUtlhxYMAdwvthSi9EfLB8ttaqPYCHqFxBhMCOJhb0mjj9FVFjOSDDybPI-9HY3ncY6pQzeondz_j2-jteEKoj8UP2vsRPrBBjLUOsNbKVVsDUiMHxIJVwdCHQjKg&refId=C1m6O88SDPW5eGDelaudEg%3D%3D&trackingId=saIeFq0%2BL%2B3qAgBWcsM7Zg%3D%3D&trk=flagship3_job_collections_leaf_page",
         "Python Developer",
         "Ascendion",
         "Gurugram, Haryana, India (Hybrid)",
         "ascendion",
         "Gurugram",
         "Hybrid"
        ],
        [
         "https://www.linkedin.com/jobs/view/4277564515/?eBP=CwEAAAGYgRRs1mwdzZY8KoHOJCpQPbUKGF8OBAjaCW1__-vPcjrK5VdPK6l-89wfBiYkJ79GW3jK23Ao4H_ooHGn9FwSt8K9nZZcwXmotFfTkdUK9o3q69qVhIssGi05_VVz04GNbETJysqTmlQitwz7on-dDzOkV_DGDQFgfNDA_Q_d4vXkAOATNwSd1iibuWSpBi3fk1VPlqL8On0eM4-NRgSLrGeyH6ofFryA8KanVV0ZmFiBPebsyc-KXmhUfsuiYy6vudW4tdVM2CUp9ba3GMn8kp1bbb27MGfEi7uYnBAulk7RF7GXHk2ncTUkggxrhWo1bFR6o4w1C2dDElJW-lbEO4bcq_J3huq0Bm-YqJ9e0bqQ5FS38hXiicl-IF0jLUvMI3k3L3qQRDOp8kD-KacNt1MB77qSp_W-kZthhO1IIwSZvgN8YFkwsOs9DHrHzSb1onEedSVOURdzLeJLz-pdpEpFav5cY9FsH1Qj99Xw1BKNdMQGRpV7Rh8cNrHV6YUEgUObEokfTvI5b8_yyOmLdgXP&refId=C1m6O88SDPW5eGDelaudEg%3D%3D&trackingId=xMRf0QisgKsnOZQnoSf0KA%3D%3D&trk=flagship3_job_collections_leaf_page",
         "Data Science - AI - Pharma",
         "WNS",
         "Gurgaon, Haryana, India (On-site)",
         "wns",
         "Gurgaon",
         "On-site"
        ],
        [
         "https://www.linkedin.com/jobs/view/4278020681/?eBP=BUDGET_EXHAUSTED_JOB&refId=C1m6O88SDPW5eGDelaudEg%3D%3D&trackingId=cxJnqwjCtpIwDuyEgK1ynQ%3D%3D&trk=flagship3_job_collections_leaf_page",
         "Machine Learning Engineer",
         "Rail Labs",
         "Chennai, Tamil Nadu, India (On-site)",
         "rail labs",
         "Chennai",
         "On-site"
        ],
        [
         "https://www.linkedin.com/jobs/view/4277968906/?eBP=BUDGET_EXHAUSTED_JOB&refId=C1m6O88SDPW5eGDelaudEg%3D%3D&trackingId=WFGWAYyjJXVr1XuzL1Tifw%3D%3D&trk=flagship3_job_collections_leaf_page",
         "Python Developer",
         "Leeford Healthcare Limited",
         "India (Remote)",
         "leeford healthcare limited",
         "India (Remote)",
         "Remote"
        ],
        [
         "https://www.linkedin.com/jobs/view/4277177006/?eBP=CwEAAAGYgRRs1sZFhiGPUmdQ1Xie9cOYSgoCWnCbMQNtnpFZLTCL4oEP50gdFWlStM1HUVNTgkiNtymragb11JOiyVbTaozG3vuX9ifTWtLGKMJDbINe5oCVKRtAKBWJpIoR0l_CWoxOUAMjB2kMpYMPar5GjFutQw4W5T1XOEbun1eoLD3MQcpxFnGMipg2P9ughLRwAsxhw_BvOCiGaZaRokH4SE1P8sFkyzO6Lx8DsH0zdB-5jxL5Xo4KnDTQMa_Xl2fvOelyj5HCw_6yCaLs-iyfJ85mzpAL9Uch-QrZd-Nvd544UCx4zc7kncOP3Z2wTr4DxpzrapMIo0HfVVGzny0fc-JHVfYLfx9rwyhZurcBzwvkGbn0prnsQmAZsR8NSRbM-6Vm9C31CIrZBWsv2pVX-cLIHlXaQ380tKw2N-sPWxBXoqiY4xx8RpaUtNOrZtI_6vv724IEIQL2nPofCT8GoP78LHpzGs6gyPnB1x5nfPuECSl4YevBMSSaEr8T7zlnwrmLrCb5Pctuc7yMeE71gA&refId=C1m6O88SDPW5eGDelaudEg%3D%3D&trackingId=U05hy5i6WL8KY5bLYqqYBA%3D%3D&trk=flagship3_job_collections_leaf_page",
         "Python Developer",
         "Saisystems Technology",
         "India (Remote)",
         "saisystems technology",
         "India (Remote)",
         "Remote"
        ],
        [
         "https://www.linkedin.com/jobs/view/4278114996/?eBP=CwEAAAGYgRRs1nkZlOslwntcuWsPFyV1pGEcInX3CPVIV2q65uRJzQQ5H9SkK_StEiKWzyFGD7HeeAS3sHLR-4NFGNYGyXTAz5nEaUAMMep9iiAn6bUbmuXogBwTACFM0qF_KEP05i0V-W2oCwF9PrdG718sV86xzJkHHxkseHXsYXSuGQn2_xtcGy6qeICpfZ8tY9kqUYWIdEXQ_qIwfpaLs_qR4Rxr_v4TVDUkKnR6Y4dBEBE2jm3XQMsQUMtbQWNncOBoat9PNnIjSwh1SP3kX0FYl85o-E0j1P41XM64eiJJ6t08v2fCZ54AXzX2QMz8Q0zzOzt-8aPNUc5Vyt4QIlGdKL1FUUa1Om3GzYYn0btpZzm8gNlOOuY0IiGojje3CC7YTnOAuxl_KM7pQR360iF5OOorjUwM86RvAb0-SXRKqCEhEecoRJNG2I7HooN58-32wkYmOIZiM4qNiUrlYstffTnkp1pwlB_reZxdqis9GkqEL9REko00WL1GkdFmtVgsgTi428vP_mNAEqjcEEfDdp2q&refId=C1m6O88SDPW5eGDelaudEg%3D%3D&trackingId=5ng2lHPScXAjNKBRiQSI6A%3D%3D&trk=flagship3_job_collections_leaf_page",
         "Associate Data Scientist",
         "Circle K",
         "Gurugram, Haryana, India",
         "circle k",
         "Gurugram",
         ""
        ],
        [
         "https://www.linkedin.com/jobs/view/4265420956/?eBP=BUDGET_EXHAUSTED_JOB&refId=C1m6O88SDPW5eGDelaudEg%3D%3D&trackingId=DFJ26591hdjGjrMtvLSYiw%3D%3D&trk=flagship3_job_collections_leaf_page",
         "Machine Learning Specialist",
         "HCLTech",
         "Chennai, Tamil Nadu, India (Hybrid)",
         "hcltech",
         "Chennai",
         "Hybrid"
        ],
        [
         "https://www.linkedin.com/jobs/view/4280023118/?eBP=CwEAAAGYgRRs1zpWZeynbWzwy0adFww1HlAyAqsypRccBBazJGqCKMIZLYve1_MD9IXXpUVsl50jGHXQ_UwS77GeEn52nK06drWvb1qo_J4eG4-hbo64X55mfHaY8_tT3yE95S8tGoILghFtGMD173nL7PS4bfK8PcgI2l_HcZfGhfUGdAlvljiPWMrC3qI-jjd0btBqGDuX6rDL0wSWuIx20xXTOabLOBE_g3IwyS_FU5nCNDsGfR7CXlEoIfqEtmuKUAFLXKuONKGOw77yB5zjizgmwTI9ff2KEbfO3SzeVDW1BWPPDbFWqydDJh01vUfTnesZ9TBcK0XNyRbwHgj04MSbuj4D8bq2v0ZekKU6TtAhu-xgP0ZtQ5oWHlmkII8hqHYI7MT8oZbF0tCN7jtq4NA5lvAzP7Q9mc2Zes5DUujukxZ6CZKGSl-e5NppTa-DaWmSoDQwnOBlpbdxtUpEDek5tUct2ls8ALP3rj5wianzdse2qAf-JzZ8-FQ-hLry0VuGeslECx2ySDSplKoLoS0&refId=C1m6O88SDPW5eGDelaudEg%3D%3D&trackingId=uE1IRh6xZCUR1ruJ9tuFfw%3D%3D&trk=flagship3_job_collections_leaf_page",
         "Python Developer",
         "Talentgigs",
         "Hyderabad, Telangana, India (On-site)",
         "talentgigs",
         "Hyderabad",
         "On-site"
        ],
        [
         "https://www.linkedin.com/jobs/view/4280166426/?eBP=BUDGET_EXHAUSTED_JOB&refId=HU7tKKPRmoYAbhpOIfM9nw%3D%3D&trackingId=UphimbfPWaUnNdgaqHZz4w%3D%3D&trk=flagship3_job_collections_leaf_page",
         "Software Engineer",
         "Experian",
         "Hyderabad, Telangana, India (On-site)",
         "experian",
         "Hyderabad",
         "On-site"
        ],
        [
         "https://www.linkedin.com/jobs/view/4262351983/?eBP=CwEAAAGYgRR6NKQe5qBXWQTiRtSRAHNQFSTEqs120-f4ef2Q2QES8zDs6xDHSD0KYT4s4qEnbIRXEhKeW7Xoz7qufbguP1KuUyOFunYcKBYUZvq07IaN2nRkybvfbSL_xGb69bAWh_5oWYbdx2BBsIXXNH1JxGCpBFj82pVTJJOaWI7CMs_pjmgihX16sKY9lnyKToqIbuiY_Eu8ncekaRwe5wx54zgTXkbcatPXV5x192cP7iISDK1-UIhoAn_BW5nzLIlBuxEnAn_0smILf0FBd8Zy_EmP1JaX97T7KBYdA31AzZO1qJJHO82U2GZF7nGjWL5fPLn241y_PX-BlQ_z6N7r2rV0uzpthKP_8uk_V1tjsf7pKyVPIkJoMXj64uJnYXLrl-x5_cJ1PBx-WSDip8gDUq1nL7JEYoVYyadDe6ndDLkd8d3_7cdUz-ZkibzrgKI3GO5Kp3VFD1C_WgnsL86PDQoZ2Zfo3O8wGhNO85LALXnSW3NecZi2VLGj0R5izsSH-j2w5X5keo4-FzAn7Za4wQ&refId=HU7tKKPRmoYAbhpOIfM9nw%3D%3D&trackingId=fsGoKTsNIqzKbPx2xnB3WQ%3D%3D&trk=flagship3_job_collections_leaf_page",
         "Senior Software Engineer",
         "LinkedIn",
         "Bengaluru, Karnataka, India (Hybrid)",
         "linkedin",
         "Bengaluru",
         "Hybrid"
        ],
        [
         "https://www.linkedin.com/jobs/view/4280506608/?eBP=CwEAAAGYgRR6NA2r9le3XUjXz7X7V6n0o6xybexEahjhI_9_tuRvjFkkUMIkcQ0KBYj2Xu5A2uMhTnhtANGYPy4wZa5_GtoD4ARxEKdVjTU-sckYPxnHgeikfe2GWfcZ_pfWsxd6YOCH_iUoxlrzpvtdfIxTEehwtodeayMDJ7_8saDPPDpxE8hveaAGLKzvtzYkTterR65fU90cVuBcMG3g9zVNK0KDvnIrZVeb0LN7U3h9j-Ux4CJWkLR5xqBvi9_N4xbSGHI--uHve7ic_c43dO-XDXwOZ5ObaDxxGGkRnOdZ0I4NfIIvZvBy_7Jir5ftrESCxIyY1O4ROTqrOWlljylQJFmtnNKkZfBAyGFW69WG5_1JpnR8ybVKQ8T-vsSJ6_z6ciGw4XfMt8q_chyragMUp84ANlkw0UFAIxImVc76s8MO7_2MwKFJnsvUszmxZ1rbRfNDYz2FZzguU9tqLumF4CZUYWE0YeKZ3lZdcr1LHrgSInD1hU9SbWAG1OaB1rT1IsWUoXTYtBk339ys09f7OsWcnBpu6Nvz726HZfi-x_zPV7bREKdkwXiSJIg&refId=HU7tKKPRmoYAbhpOIfM9nw%3D%3D&trackingId=Rqkmx7bWRxaZfbJlkVx0Zg%3D%3D&trk=flagship3_job_collections_leaf_page",
         "Frontend Engineer",
         "PhnyX Lab",
         "Bengaluru, Karnataka, India (Hybrid)",
         "phnyx lab",
         "Bengaluru",
         "Hybrid"
        ],
        [
         "https://www.linkedin.com/jobs/view/4278247578/?eBP=CwEAAAGYgRR6NDVlY1CSYgLTQ-LKG3slZo4n7nUvoYboawkPGpVD4XFCq0svTsM1FeDjXxQMib7dGAyyHd6E8xGYFmT01G8ifYukCagppVzOFSg5XaSnbnn3lok_3aKJMneUAiLZeiyW_Xj-KSKBM3Fz8ivVSZ48XAKLgaYnB00o2dK6Qrmj13o7mlYNO8W8HheXrnpDwc-Of2xuqSRkSQszrWoa_HNAadb2WCg8zThiilJe22R2slL9iFOHPYQzwZTWXlro9FE94Ku3prIgHn8GC06kYnM134THt8qKybBezldBchpXcBAjI1BtYbdpWek1m4MaP4Os69QaqO-smEF2zNLdNW647cYDHXlokYGUaVbbw9Mr3Ddj2Mw1ASlFIoplvOLp4_6r6-glvL8LzfX9Xy5oJoq_5jZGnqk1Ykr0g5aFZzItbxtF_yHJMh7iqSB29rrbL9-pSscAcrPW55Z6XGGga2SjwaFw2wU5jIYeFOqgPHRJMD2zMuHU2-boPqJ5zMwjfsuBkB1tPAgdL3jtdHTXT7AIhjA&refId=HU7tKKPRmoYAbhpOIfM9nw%3D%3D&trackingId=v6Lv%2BshX7eQApyk%2FDL27Zw%3D%3D&trk=flagship3_job_collections_leaf_page",
         "Data Analyst",
         "CareerUS Solutions",
         "India (Remote)",
         "careerus solutions",
         "India (Remote)",
         "Remote"
        ],
        [
         "https://www.linkedin.com/jobs/view/4273593598/?eBP=BUDGET_EXHAUSTED_JOB&refId=HU7tKKPRmoYAbhpOIfM9nw%3D%3D&trackingId=6sA%2BdRcQceHdBFuZTYLqbQ%3D%3D&trk=flagship3_job_collections_leaf_page",
         "Python Developer",
         "Datum Technologies Group",
         "Bengaluru, Karnataka, India (Remote)",
         "datum technologies group",
         "Bengaluru",
         "Remote"
        ],
        [
         "https://www.linkedin.com/jobs/view/4280141875/?eBP=CwEAAAGYgRR6NCZwe42hSSirH9Sz0o8RusjJYqS6izkOomHgR9MdcjawOgZ54qM87PceWtAp7xAwPHRmjQaWKS-GRwwWDvSD4T5tzSbREZbrjKceNi_08a9L113D9ZYUJL8z9wJM-jxNEfwQ5Gy90coQxMlHA8knzdWPuKpsaZj7gjm9YNfH8yk-3hb0r-rOlRC4bllJeYLMjlU7NUfvzbD0McNRoGgsO3jXLuyJqK6fCDSZk8cYERe5iA-MKPpnqAQG46dpfO6Oq_Bretj1oC7gLjo7Zg8qr_xk4ErdC7C1eymHDZzL951UA_GBzLAI6WFE50Di7F6UyrHtM0u8M3wbxnkimRnIzkS9nsWQiOwW-ONbQPyjHfzmipS7vd8GPVRyt15-0NwhyFUmMo6_e4JS6FYfnTegyRM93C4rPm-CgTvhPW4T75F47lAeuouxHTUA3PbfSQ0U6pTw9-ijjyJuNHPBwXM0M4vguC_44aFBFoDx3ps7TkZ_CNQ2r7RneKUSpg-4oMTdf71qDvbX44b_cy5bQaxiPZA&refId=HU7tKKPRmoYAbhpOIfM9nw%3D%3D&trackingId=1rjv0tcAjR%2Bku%2BxR6Cu06Q%3D%3D&trk=flagship3_job_collections_leaf_page",
         "Software Development Engineer Test",
         "Airtel Payments Bank",
         "Gurugram, Haryana, India (On-site)",
         "airtel payments bank",
         "Gurugram",
         "On-site"
        ],
        [
         "https://www.linkedin.com/jobs/view/4278062997/?eBP=CwEAAAGYgRR6NPjsud-JCM6_LEfbEy-EdUEYodoclOVyau1y8YIyD79YGll_luXVKRAlE5GuX-df0a_9RjU2Lr6VaHNWh7mrhBzQ4PeK7gwvwpj1FMDeJNuMXTjZQPT6KS_jACBktSojJJMvLg08VXmkiogliJEkdeLxRLe4n-Lybg3urosHnBtWZMVA-9LPOUXqZpxAQ7AbIKmufDCLD3TiINiIZPYbew6NnFGkaUl8JaxHb0fuATaCYvTgg-NB5KK8RChGon7xKNk3a4QEAiLldQQ6PdTxbK3bj0yGpIiZY4dh2aPkpb85F3iYwRKt3-bIp2WuBOd0ODQE4TiEvFLcPsnIrbe-zT6Uy9w85slAcdWLTc_MfhzwY-DJKiqDqGpY7-_MZ1SJam1mouq7TkEYGdx991gKAT-e0ZV31-OWwg83vHm-pe6t5ZQsyllbZcLB5eB7bMRLuRluUfPjmvVvxtRwmNvIRMnQOY_0xZm7guZ7jW-SQHPE-NlVngAtRR7Iyxgh3C4LOpcjA0QslhUJmjRXRbEF&refId=HU7tKKPRmoYAbhpOIfM9nw%3D%3D&trackingId=FRZMpeEhbcfD4ZicDPDbRg%3D%3D&trk=flagship3_job_collections_leaf_page",
         "Python Developer",
         "Datastack Technologies",
         "India (Remote)",
         "datastack technologies",
         "India (Remote)",
         "Remote"
        ],
        [
         "https://www.linkedin.com/jobs/view/4278814835/?eBP=CwEAAAGYgRR6NGefh3UFupIXXCqelAz44yWcMnEBVNCb8pCq72QdpZAGlMuO7mudjuSvQiwaJv-NXzntWsRemUACEXBzC0nXaVmo7T2N3BdN1RKpHgXFfOyvdmFkdbZzC6IPW2XYLNI_xdgFVe-b6bNo8DThNYMkntw7tDgFb41irVdPR_M0sjmVQHQ9GBCM7fDjUBSOXq9wIftEGjrpVBQZCH-rjrOjGU2mOOT_1Yloma-TMMJK_sA_KgXmwYuyxJwlataRpEmKiqcuuJ80T4zEldWrpq2Q__5fDEgMDbmcrbrt6DAC8xw6LOG_0PrerW6JT-x5jdG6QlU4dBfrgk3hCdu-BZSaUqmXwohvgM5qcdC6sVllnav_fWUoWH6Vt1qkujTosZPXR7pzNxsPFR3HqfK8TGcUHJFcpt7f0z8aKrkQkkZvySV0W8nzuq-mWjSOgOgfcx0-J2yqfvJWLskAajWTXx0SEEeZ5lIrehEbPD2awPhJ-8QIYUgPCbNe7fo7U7vvzFuGyMUUzwYm5_ApsDNS9xaxKJs&refId=HU7tKKPRmoYAbhpOIfM9nw%3D%3D&trackingId=C1Hou1knVMP8LLc21f9sIQ%3D%3D&trk=flagship3_job_collections_leaf_page",
         "Python Developer",
         "Wissen Infotech",
         "Bangalore Urban, Karnataka, India (On-site)",
         "wissen infotech",
         "Bangalore Urban",
         "On-site"
        ],
        [
         "https://www.linkedin.com/jobs/view/4274205056/?eBP=CwEAAAGYgRR6NKiilphPR2gIm7WK5LppzWHZC2QQ8QULLHpHrvWEKGPFomAPpntaBx7z6D4riLXYcjffOnca6Jtw_S9pIPMSn7qgwqXh2zKhsaZYmvPdALSoYa93VO7KEpAqi-l39p4iio4Br4CPgIsH8l3KZQsDlIda4mtJTDPdcj6cbeAaDiQ0bgjkgGT8vnDELo4bTN8egb7dOuQvraymjPmy0L_fxblAfIsl89x62mkp2iu5Gbav-cuBdtUQEzU8mgF00L119U-annqtafgvKRgYIbsF2yDa8UaMelt39y-4RB8V_7xeiOf8XBENSKWkmORzLvIGc0i_EuYwWJ5xwy65Og3F-tp_4jJN9pGTOLeXKhiD7-C9S65FU4MiqW2QFgh2RJWKe1n7q_vtjLwwKJwUtQp7M3bB8YMQu7327_CwlpTtqNerkILIr18GPjY23W482tLV5NBmbJgj9lo9ZaNtcHYAUHgEJbpFUFD8lOZc1xPPQH1e55lM1NSfIGL6O69lEZx0e8ta&refId=HU7tKKPRmoYAbhpOIfM9nw%3D%3D&trackingId=um7qcUl4GJbXXYMfJf2TrA%3D%3D&trk=flagship3_job_collections_leaf_page",
         "Software Engineering- Web",
         "Carousell Group",
         "Bengaluru, Karnataka, India (Remote)",
         "carousell group",
         "Bengaluru",
         "Remote"
        ],
        [
         "https://www.linkedin.com/jobs/view/4280800394/?eBP=BUDGET_EXHAUSTED_JOB&refId=HU7tKKPRmoYAbhpOIfM9nw%3D%3D&trackingId=4Pvz7lPHap%2BuvWNHLyUg4A%3D%3D&trk=flagship3_job_collections_leaf_page",
         "GenAI Engineer",
         "TO THE NEW",
         "Noida, Uttar Pradesh, India (Hybrid)",
         "to the new",
         "Noida",
         "Hybrid"
        ],
        [
         "https://www.linkedin.com/jobs/view/4245121446/?eBP=CwEAAAGYgRR6NQ4ZuPW5NoKadsFFZ-VYhS7yKaWQJ7svFhT78q9LhJ2pePvsG8mQUMm5IN4xrQHOtqxHooQCZx3oziZJ4-E4ZLne28DqWuohIHAai1Tf1ra51iZq76X6EMKAlVdDxsc-YnIHLn0SAPvKsgStvtrttjOAUy4QxDMuKJAQ8k6wHsMSVYgf2VR4CCB4HMirLlDv_GCjMJK8_kETemf7_j6bqYZuR9vXNPqmvD4INYwdoFSaMhvmrO2JVKw7BD8_MPi8RygtjZxdxwlYfx6YDZzR55kLV2_W5AP2JCpAQCIzKI-FqWsZkH_MC-I3ZqBJKjBgQVp3YUtvhBzm7D0EvLwqHof1F7U0YeUIBt40A29xLHho9nO9SXAm1Wbz0DGYzopjiqLGWmqU4WY9L571NNxnHjt4VFCM6dFqxC_vuZrOWIepRN4biNd_uaq9rL9Ff9-ETBl7CZ_1rDySG-xdQHshaVqxEBi-W0wtAXoHQFyNIeR3sXs-7xHUWaR7jeNw-oURqvqvHiYkKHMT2rLlnPck43o&refId=HU7tKKPRmoYAbhpOIfM9nw%3D%3D&trackingId=TK35dOditK9QcPiygCvFZA%3D%3D&trk=flagship3_job_collections_leaf_page",
         "Data Engineer",
         "Centrilogic",
         "India (Remote)",
         "centrilogic",
         "India (Remote)",
         "Remote"
        ],
        [
         "https://www.linkedin.com/jobs/view/4280166426/?eBP=BUDGET_EXHAUSTED_JOB&refId=HU7tKKPRmoYAbhpOIfM9nw%3D%3D&trackingId=UphimbfPWaUnNdgaqHZz4w%3D%3D&trk=flagship3_job_collections_leaf_page",
         "Software Engineer",
         "Experian",
         "Hyderabad, Telangana, India (On-site)",
         "experian",
         "Hyderabad",
         "On-site"
        ],
        [
         "https://www.linkedin.com/jobs/view/4262351983/?eBP=CwEAAAGYgRR6NKQe5qBXWQTiRtSRAHNQFSTEqs120-f4ef2Q2QES8zDs6xDHSD0KYT4s4qEnbIRXEhKeW7Xoz7qufbguP1KuUyOFunYcKBYUZvq07IaN2nRkybvfbSL_xGb69bAWh_5oWYbdx2BBsIXXNH1JxGCpBFj82pVTJJOaWI7CMs_pjmgihX16sKY9lnyKToqIbuiY_Eu8ncekaRwe5wx54zgTXkbcatPXV5x192cP7iISDK1-UIhoAn_BW5nzLIlBuxEnAn_0smILf0FBd8Zy_EmP1JaX97T7KBYdA31AzZO1qJJHO82U2GZF7nGjWL5fPLn241y_PX-BlQ_z6N7r2rV0uzpthKP_8uk_V1tjsf7pKyVPIkJoMXj64uJnYXLrl-x5_cJ1PBx-WSDip8gDUq1nL7JEYoVYyadDe6ndDLkd8d3_7cdUz-ZkibzrgKI3GO5Kp3VFD1C_WgnsL86PDQoZ2Zfo3O8wGhNO85LALXnSW3NecZi2VLGj0R5izsSH-j2w5X5keo4-FzAn7Za4wQ&refId=HU7tKKPRmoYAbhpOIfM9nw%3D%3D&trackingId=fsGoKTsNIqzKbPx2xnB3WQ%3D%3D&trk=flagship3_job_collections_leaf_page",
         "Senior Software Engineer",
         "LinkedIn",
         "Bengaluru, Karnataka, India (Hybrid)",
         "linkedin",
         "Bengaluru",
         "Hybrid"
        ],
        [
         "https://www.linkedin.com/jobs/view/4280506608/?eBP=CwEAAAGYgRR6NA2r9le3XUjXz7X7V6n0o6xybexEahjhI_9_tuRvjFkkUMIkcQ0KBYj2Xu5A2uMhTnhtANGYPy4wZa5_GtoD4ARxEKdVjTU-sckYPxnHgeikfe2GWfcZ_pfWsxd6YOCH_iUoxlrzpvtdfIxTEehwtodeayMDJ7_8saDPPDpxE8hveaAGLKzvtzYkTterR65fU90cVuBcMG3g9zVNK0KDvnIrZVeb0LN7U3h9j-Ux4CJWkLR5xqBvi9_N4xbSGHI--uHve7ic_c43dO-XDXwOZ5ObaDxxGGkRnOdZ0I4NfIIvZvBy_7Jir5ftrESCxIyY1O4ROTqrOWlljylQJFmtnNKkZfBAyGFW69WG5_1JpnR8ybVKQ8T-vsSJ6_z6ciGw4XfMt8q_chyragMUp84ANlkw0UFAIxImVc76s8MO7_2MwKFJnsvUszmxZ1rbRfNDYz2FZzguU9tqLumF4CZUYWE0YeKZ3lZdcr1LHrgSInD1hU9SbWAG1OaB1rT1IsWUoXTYtBk339ys09f7OsWcnBpu6Nvz726HZfi-x_zPV7bREKdkwXiSJIg&refId=HU7tKKPRmoYAbhpOIfM9nw%3D%3D&trackingId=Rqkmx7bWRxaZfbJlkVx0Zg%3D%3D&trk=flagship3_job_collections_leaf_page",
         "Frontend Engineer",
         "PhnyX Lab",
         "Bengaluru, Karnataka, India (Hybrid)",
         "phnyx lab",
         "Bengaluru",
         "Hybrid"
        ],
        [
         "https://www.linkedin.com/jobs/view/4278247578/?eBP=CwEAAAGYgRR6NDVlY1CSYgLTQ-LKG3slZo4n7nUvoYboawkPGpVD4XFCq0svTsM1FeDjXxQMib7dGAyyHd6E8xGYFmT01G8ifYukCagppVzOFSg5XaSnbnn3lok_3aKJMneUAiLZeiyW_Xj-KSKBM3Fz8ivVSZ48XAKLgaYnB00o2dK6Qrmj13o7mlYNO8W8HheXrnpDwc-Of2xuqSRkSQszrWoa_HNAadb2WCg8zThiilJe22R2slL9iFOHPYQzwZTWXlro9FE94Ku3prIgHn8GC06kYnM134THt8qKybBezldBchpXcBAjI1BtYbdpWek1m4MaP4Os69QaqO-smEF2zNLdNW647cYDHXlokYGUaVbbw9Mr3Ddj2Mw1ASlFIoplvOLp4_6r6-glvL8LzfX9Xy5oJoq_5jZGnqk1Ykr0g5aFZzItbxtF_yHJMh7iqSB29rrbL9-pSscAcrPW55Z6XGGga2SjwaFw2wU5jIYeFOqgPHRJMD2zMuHU2-boPqJ5zMwjfsuBkB1tPAgdL3jtdHTXT7AIhjA&refId=HU7tKKPRmoYAbhpOIfM9nw%3D%3D&trackingId=v6Lv%2BshX7eQApyk%2FDL27Zw%3D%3D&trk=flagship3_job_collections_leaf_page",
         "Data Analyst",
         "CareerUS Solutions",
         "India (Remote)",
         "careerus solutions",
         "India (Remote)",
         "Remote"
        ],
        [
         "https://www.linkedin.com/jobs/view/4273593598/?eBP=BUDGET_EXHAUSTED_JOB&refId=HU7tKKPRmoYAbhpOIfM9nw%3D%3D&trackingId=6sA%2BdRcQceHdBFuZTYLqbQ%3D%3D&trk=flagship3_job_collections_leaf_page",
         "Python Developer",
         "Datum Technologies Group",
         "Bengaluru, Karnataka, India (Remote)",
         "datum technologies group",
         "Bengaluru",
         "Remote"
        ],
        [
         "https://www.linkedin.com/jobs/view/4280141875/?eBP=CwEAAAGYgRR6NCZwe42hSSirH9Sz0o8RusjJYqS6izkOomHgR9MdcjawOgZ54qM87PceWtAp7xAwPHRmjQaWKS-GRwwWDvSD4T5tzSbREZbrjKceNi_08a9L113D9ZYUJL8z9wJM-jxNEfwQ5Gy90coQxMlHA8knzdWPuKpsaZj7gjm9YNfH8yk-3hb0r-rOlRC4bllJeYLMjlU7NUfvzbD0McNRoGgsO3jXLuyJqK6fCDSZk8cYERe5iA-MKPpnqAQG46dpfO6Oq_Bretj1oC7gLjo7Zg8qr_xk4ErdC7C1eymHDZzL951UA_GBzLAI6WFE50Di7F6UyrHtM0u8M3wbxnkimRnIzkS9nsWQiOwW-ONbQPyjHfzmipS7vd8GPVRyt15-0NwhyFUmMo6_e4JS6FYfnTegyRM93C4rPm-CgTvhPW4T75F47lAeuouxHTUA3PbfSQ0U6pTw9-ijjyJuNHPBwXM0M4vguC_44aFBFoDx3ps7TkZ_CNQ2r7RneKUSpg-4oMTdf71qDvbX44b_cy5bQaxiPZA&refId=HU7tKKPRmoYAbhpOIfM9nw%3D%3D&trackingId=1rjv0tcAjR%2Bku%2BxR6Cu06Q%3D%3D&trk=flagship3_job_collections_leaf_page",
         "Software Development Engineer Test",
         "Airtel Payments Bank",
         "Gurugram, Haryana, India (On-site)",
         "airtel payments bank",
         "Gurugram",
         "On-site"
        ],
        [
         "https://www.linkedin.com/jobs/view/4278062997/?eBP=CwEAAAGYgRR6NPjsud-JCM6_LEfbEy-EdUEYodoclOVyau1y8YIyD79YGll_luXVKRAlE5GuX-df0a_9RjU2Lr6VaHNWh7mrhBzQ4PeK7gwvwpj1FMDeJNuMXTjZQPT6KS_jACBktSojJJMvLg08VXmkiogliJEkdeLxRLe4n-Lybg3urosHnBtWZMVA-9LPOUXqZpxAQ7AbIKmufDCLD3TiINiIZPYbew6NnFGkaUl8JaxHb0fuATaCYvTgg-NB5KK8RChGon7xKNk3a4QEAiLldQQ6PdTxbK3bj0yGpIiZY4dh2aPkpb85F3iYwRKt3-bIp2WuBOd0ODQE4TiEvFLcPsnIrbe-zT6Uy9w85slAcdWLTc_MfhzwY-DJKiqDqGpY7-_MZ1SJam1mouq7TkEYGdx991gKAT-e0ZV31-OWwg83vHm-pe6t5ZQsyllbZcLB5eB7bMRLuRluUfPjmvVvxtRwmNvIRMnQOY_0xZm7guZ7jW-SQHPE-NlVngAtRR7Iyxgh3C4LOpcjA0QslhUJmjRXRbEF&refId=HU7tKKPRmoYAbhpOIfM9nw%3D%3D&trackingId=FRZMpeEhbcfD4ZicDPDbRg%3D%3D&trk=flagship3_job_collections_leaf_page",
         "Python Developer",
         "Datastack Technologies",
         "India (Remote)",
         "datastack technologies",
         "India (Remote)",
         "Remote"
        ],
        [
         "https://www.linkedin.com/jobs/view/4279361445/?eBP=CwEAAAGYgRR6NORvXTqamYdKMa3oFWm4INdL_Du8vD4zs7_I8EhTWgU3GEwYcTGzQiVPtiKqV2cNVjh_LVrp95TPPuTom-uEPXo2BdApc68Etx4J1pzZs_6M9HRkmzUpQPs-cxdM9X1vcv-sSeAMsIpZ-4AQ_8VU2ZmdkQ_7D8Sp0HqO38ag_2bUqNC40Rd1HCdTqpEVl2kTRO5Nfgowu7heBCWlTkdGo8SgovPoV_Orx104JJdS0x6IoXQmAvR7yHLuTK5jYnEe50Z7t-K34ZBpOYIPyZgT6eT4x3DMqls2z0OJQsKDI1M2XcXBVAJgNoI616SvcMurmc_lPP7BEyOfwnn4Cjtzgj41OplARirmeN3UjVicfLP8iBRRxxEXdrcbZn7aBh4ZsyD9mIYCnQUuWk8SAZ6DOz4V6vWl80YYrjz2kH_yQD-dJlQh398Qy1GLruM3uMHyRAxK7FwUY2_ZZ-1SQI6rmXldX8gLWoiqecVibPFtAQYFiptud5dJZM79TRe3L4cZRBAFixHeas6t2byZlqY0&refId=HU7tKKPRmoYAbhpOIfM9nw%3D%3D&trackingId=j4zt5xSJWnK%2F1Do%2Fr3AHRA%3D%3D&trk=flagship3_job_collections_leaf_page",
         "Junior Developer",
         "AAA Global",
         "Mumbai, Maharashtra, India (On-site)",
         "aaa global",
         "Mumbai",
         "On-site"
        ],
        [
         "https://www.linkedin.com/jobs/view/4278814835/?eBP=CwEAAAGYgRR6NGefh3UFupIXXCqelAz44yWcMnEBVNCb8pCq72QdpZAGlMuO7mudjuSvQiwaJv-NXzntWsRemUACEXBzC0nXaVmo7T2N3BdN1RKpHgXFfOyvdmFkdbZzC6IPW2XYLNI_xdgFVe-b6bNo8DThNYMkntw7tDgFb41irVdPR_M0sjmVQHQ9GBCM7fDjUBSOXq9wIftEGjrpVBQZCH-rjrOjGU2mOOT_1Yloma-TMMJK_sA_KgXmwYuyxJwlataRpEmKiqcuuJ80T4zEldWrpq2Q__5fDEgMDbmcrbrt6DAC8xw6LOG_0PrerW6JT-x5jdG6QlU4dBfrgk3hCdu-BZSaUqmXwohvgM5qcdC6sVllnav_fWUoWH6Vt1qkujTosZPXR7pzNxsPFR3HqfK8TGcUHJFcpt7f0z8aKrkQkkZvySV0W8nzuq-mWjSOgOgfcx0-J2yqfvJWLskAajWTXx0SEEeZ5lIrehEbPD2awPhJ-8QIYUgPCbNe7fo7U7vvzFuGyMUUzwYm5_ApsDNS9xaxKJs&refId=HU7tKKPRmoYAbhpOIfM9nw%3D%3D&trackingId=C1Hou1knVMP8LLc21f9sIQ%3D%3D&trk=flagship3_job_collections_leaf_page",
         "Python Developer",
         "Wissen Infotech",
         "Bangalore Urban, Karnataka, India (On-site)",
         "wissen infotech",
         "Bangalore Urban",
         "On-site"
        ],
        [
         "https://www.linkedin.com/jobs/view/4274205056/?eBP=CwEAAAGYgRR6NKiilphPR2gIm7WK5LppzWHZC2QQ8QULLHpHrvWEKGPFomAPpntaBx7z6D4riLXYcjffOnca6Jtw_S9pIPMSn7qgwqXh2zKhsaZYmvPdALSoYa93VO7KEpAqi-l39p4iio4Br4CPgIsH8l3KZQsDlIda4mtJTDPdcj6cbeAaDiQ0bgjkgGT8vnDELo4bTN8egb7dOuQvraymjPmy0L_fxblAfIsl89x62mkp2iu5Gbav-cuBdtUQEzU8mgF00L119U-annqtafgvKRgYIbsF2yDa8UaMelt39y-4RB8V_7xeiOf8XBENSKWkmORzLvIGc0i_EuYwWJ5xwy65Og3F-tp_4jJN9pGTOLeXKhiD7-C9S65FU4MiqW2QFgh2RJWKe1n7q_vtjLwwKJwUtQp7M3bB8YMQu7327_CwlpTtqNerkILIr18GPjY23W482tLV5NBmbJgj9lo9ZaNtcHYAUHgEJbpFUFD8lOZc1xPPQH1e55lM1NSfIGL6O69lEZx0e8ta&refId=HU7tKKPRmoYAbhpOIfM9nw%3D%3D&trackingId=um7qcUl4GJbXXYMfJf2TrA%3D%3D&trk=flagship3_job_collections_leaf_page",
         "Software Engineering- Web",
         "Carousell Group",
         "Bengaluru, Karnataka, India (Remote)",
         "carousell group",
         "Bengaluru",
         "Remote"
        ],
        [
         "https://www.linkedin.com/jobs/view/4280800394/?eBP=BUDGET_EXHAUSTED_JOB&refId=HU7tKKPRmoYAbhpOIfM9nw%3D%3D&trackingId=4Pvz7lPHap%2BuvWNHLyUg4A%3D%3D&trk=flagship3_job_collections_leaf_page",
         "GenAI Engineer",
         "TO THE NEW",
         "Noida, Uttar Pradesh, India (Hybrid)",
         "to the new",
         "Noida",
         "Hybrid"
        ],
        [
         "https://www.linkedin.com/jobs/view/4245121446/?eBP=CwEAAAGYgRR6NQ4ZuPW5NoKadsFFZ-VYhS7yKaWQJ7svFhT78q9LhJ2pePvsG8mQUMm5IN4xrQHOtqxHooQCZx3oziZJ4-E4ZLne28DqWuohIHAai1Tf1ra51iZq76X6EMKAlVdDxsc-YnIHLn0SAPvKsgStvtrttjOAUy4QxDMuKJAQ8k6wHsMSVYgf2VR4CCB4HMirLlDv_GCjMJK8_kETemf7_j6bqYZuR9vXNPqmvD4INYwdoFSaMhvmrO2JVKw7BD8_MPi8RygtjZxdxwlYfx6YDZzR55kLV2_W5AP2JCpAQCIzKI-FqWsZkH_MC-I3ZqBJKjBgQVp3YUtvhBzm7D0EvLwqHof1F7U0YeUIBt40A29xLHho9nO9SXAm1Wbz0DGYzopjiqLGWmqU4WY9L571NNxnHjt4VFCM6dFqxC_vuZrOWIepRN4biNd_uaq9rL9Ff9-ETBl7CZ_1rDySG-xdQHshaVqxEBi-W0wtAXoHQFyNIeR3sXs-7xHUWaR7jeNw-oURqvqvHiYkKHMT2rLlnPck43o&refId=HU7tKKPRmoYAbhpOIfM9nw%3D%3D&trackingId=TK35dOditK9QcPiygCvFZA%3D%3D&trk=flagship3_job_collections_leaf_page",
         "Data Engineer",
         "Centrilogic",
         "India (Remote)",
         "centrilogic",
         "India (Remote)",
         "Remote"
        ],
        [
         "https://www.linkedin.com/jobs/view/4278499830/?eBP=BUDGET_EXHAUSTED_JOB&refId=IXn%2B7T6IbKlYbETu2OTZWA%3D%3D&trackingId=UStwSF1dMfSfWZerjTNxQw%3D%3D&trk=flagship3_job_collections_leaf_page",
         "Data Analyst",
         "First Screen",
         "Kochi, Kerala, India (On-site)",
         "first screen",
         "Kochi",
         "On-site"
        ],
        [
         "https://www.linkedin.com/jobs/view/4280908957/?eBP=BUDGET_EXHAUSTED_JOB&refId=IXn%2B7T6IbKlYbETu2OTZWA%3D%3D&trackingId=1taqZsfAG7opCHSvh0%2F6WA%3D%3D&trk=flagship3_job_collections_leaf_page",
         "Python Developer",
         "PeopleLogic",
         "Bengaluru, Karnataka, India (On-site)",
         "peoplelogic",
         "Bengaluru",
         "On-site"
        ],
        [
         "https://www.linkedin.com/jobs/view/4275934453/?eBP=CwEAAAGYgRSHYQlBocX1aee5Y4B47a0ilvIj3x2b4sHK_Trxdj1Jw3BI8enV2QTjqlIOpNQIVAsJbqpSRDrcA0Dl9Kc7oC6xHOhQt0mNkzspgwkD5dylunHMN1wcbxHr5AcNc062hukfcPfr5bDuS-ugLCex8-Z2qYI-gMqzj2bbuipWgoo5UCRqRfFTvEdU63wjbQff3ycroIHRft1ZYINsoebENA9Kc_ceshhTTk2mwBDe76bDYg3TxKiB8nPIY_QW9zrULf70UdDf6y5TqQoDltR7W-uIoLzKTT_fe9GyoTTkHRc9eqw_fTs6H6Y7AIZNxZMjDOZTq9QJcLZR23AD9DqvJDLIzfsqhWVD400zgV3KCzTDBm5w0cJEF0kwHkP9h86k_EXOo3kRnKII9ffaXR60l0Sj0WbSlP4x-aanmKn12SvJAJKba0DlFxMLzebBzA1QNmSJBAGSSUWpTtH-eqbiqB5oHsmRLJkVMQCV6ri5mkP-FEsKRSalNC0lClo0QuhdKBKoOZsL-v6aYdRCGamKllAF&refId=IXn%2B7T6IbKlYbETu2OTZWA%3D%3D&trackingId=IFxwCcUSZmZw4y4GsT3Klw%3D%3D&trk=flagship3_job_collections_leaf_page",
         "Data Engineer",
         "Mphasis",
         "Bengaluru, Karnataka, India (On-site)",
         "mphasis",
         "Bengaluru",
         "On-site"
        ],
        [
         "https://www.linkedin.com/jobs/view/4266402388/?eBP=BUDGET_EXHAUSTED_JOB&refId=IXn%2B7T6IbKlYbETu2OTZWA%3D%3D&trackingId=wpHESDFp8IN4x8Cct1b2Bw%3D%3D&trk=flagship3_job_collections_leaf_page",
         "Machine Learning Engineer",
         "KeyValue Software Systems",
         "Kochi, Kerala, India (Hybrid)",
         "keyvalue software systems",
         "Kochi",
         "Hybrid"
        ],
        [
         "https://www.linkedin.com/jobs/view/4279555995/?eBP=CwEAAAGYgRSHYRqbWacCWN9MtaPKozxcrG_Xw1f9bVNPfGcKx_1640uqBQac989WB-NyOCs3gGFhAkalH9bcZ2-zCMTkQXhRCNBsesBEheI7TT-Oykg9k8hWrYTUxCMJn-bLEZKX_0eEQZ7K2M-yWHy8pqiBrYoLMdnOGk-jv2KPToe3IE7dQ8hSO0vNikZooGbKPC6HJc495YbXwo98nonU1XjSJ2YYXKmm7MDWx8eho31ri57siS1oI82KZHJbRSZLtGJnM8oSSlzyUJU640bH9kIaQOobryFnVYgb1RbuW7v_DcqCIdZQDFCDwz5LOm9ATBn-rGk5fKU2PHhzUkLRj9XXznyDgC-5RcXkStJB5x5KbAL462i8TzTTp86Sg83gyqwtTCacswOyncGcgutji9kn_xa17A_yA7BoVtMGD6_uMY37jwyRTpOPeDuiNYItOn7CTUzPl_rTzclstcKHIYsbLb1V7traOKS9OKa5YxCTXt7c_U-yzSpWk3zMXeo1_p8-1VIrkqDTDsf2IJj9ZeuH82lc&refId=IXn%2B7T6IbKlYbETu2OTZWA%3D%3D&trackingId=3oo5CSsTOD0mKIO9wHRQuA%3D%3D&trk=flagship3_job_collections_leaf_page",
         "React with Python",
         "InfoBeans",
         "Pune, Maharashtra, India (Hybrid)",
         "infobeans",
         "Pune",
         "Hybrid"
        ],
        [
         "https://www.linkedin.com/jobs/view/4280083964/?eBP=BUDGET_EXHAUSTED_JOB&refId=IXn%2B7T6IbKlYbETu2OTZWA%3D%3D&trackingId=3H5tkO6JmBNt5S9jIp26Aw%3D%3D&trk=flagship3_job_collections_leaf_page",
         "Python Developer",
         "Darwix AI",
         "Gurugram, Haryana, India (On-site)",
         "darwix ai",
         "Gurugram",
         "On-site"
        ],
        [
         "https://www.linkedin.com/jobs/view/4258100629/?eBP=CwEAAAGYgRSHYe1sV6LWIqEQ6ru6OvzRituNgxmjAGmaaj9j3gx64NJ53CI9gA5RNOjye_DEbuHkuprb0UitVU4tZAH4p8dvZ7n1MDxAIECJOaXBYHwTJ34dP6HqrunOJ43dt2WI3ZKJMFvfplBsiIAfsNxxoI0FmzUww8JHP3BsR4XzCRwtfzBxRUoau9Zuk7A3C9m4eVRNiu_PsgWaxMCS4Hq0uiYzh2eM8tLPW8GcBYz-B6IaIb534VsAnN-yqNoaDtWeIQwBL7I-G_3AZ29WfGHZIrsDiO1IQV6mscnkroq25qUiDzn4vWsz8AikZHGrPbtKEMgWu9_tIVWcVYCIpFmrKaXepG8nJPCF9aekkkDJB6hjDrm2yguitj_i19mZyWvmd1zFdhhssn58t8-6foLCJ8YpQP3FX2r_YIz-cOje_oxYRStrqsCknDDBOxiNV5PvNQwEl0MpzsoScvokB8CDasXLDedjjRvKSrMi8ivUDF8qfT6mv3mWi6bI6gN5DKEyzOybHOuENXhfTTuV2s2s5AsxWd257Q&refId=IXn%2B7T6IbKlYbETu2OTZWA%3D%3D&trackingId=pXH%2F%2FqLfOn1BAaIoANYdJA%3D%3D&trk=flagship3_job_collections_leaf_page",
         "Geospatial Data Science Engineer",
         "Esri India",
         "Bengaluru, Karnataka, India (On-site)",
         "esri india",
         "Bengaluru",
         "On-site"
        ],
        [
         "https://www.linkedin.com/jobs/view/4261958705/?eBP=CwEAAAGYgRSHYXq-2tNNLGZi3tyT7Af70M5BL5-Pi_K1HBDcKiynrFGF2e3LcpXQn7iT9HnVzOlx-CnpkI81QJIyQMjgkKxOJI3nHAozocToEZQ3fA8FM88So8qwPhkdgA0R0Z4Kn-9Pql-O5QKZyLmW6zVHMnV-RdAO6yCmmTrL1B_Y7PBA0T4fhfxdScTkIXIrurizBIEud2rMUIf2vmHsAI-LKzNL_0yF5V14BcEo2NyWgjjfOBUUwdlfTEextlrrl5QS-x8qKRmX7i53BJHaPfm_AR8LWQAwffXZBKoqNzF8VWAicfP7ywJG9OZ_V_3QJKJnAd9-FQ-6G5LCgaL9D8U6bc586b-7G72pQjMECQknRCWtw_AWiGFS7jQ-fF75OrI8CwlPPdVhet69yymUs2bNLDYS1tYfToQ3TJejpkM3IBIN6RpZU9im0l7rYGMT4__OiVU3dAw3ryMLBdzvdZORQDpRrS7pZ_5Oi7Qdqo0PJEdZRwKu9nfP3ZRvoiViaZs9vBRD627T2Z8g_WuinGmA_A&refId=IXn%2B7T6IbKlYbETu2OTZWA%3D%3D&trackingId=sgL49RdKujsj8ChiXEJl%2FA%3D%3D&trk=flagship3_job_collections_leaf_page",
         "Sr. SW Engineer - AI Engineer",
         "Roku",
         "Bengaluru, Karnataka, India (Hybrid)",
         "roku",
         "Bengaluru",
         "Hybrid"
        ],
        [
         "https://www.linkedin.com/jobs/view/4273865227/?eBP=CwEAAAGYgRSHYS77Qsl81O2Mp7sx0AvQFNJwhMVe_nHP8JEm0Xzl6o25QUzCEIlPnhMADCBlPnKh--GCvDQkcfIhzM2VdmaI8r7HxoucbqVsg7LZVKI3857sU9_rSeJM4CdzeSxL6l8br97iIB9NDPM08DWckEDn04tpxGpR6TMjWA5OnyuZtmVEH4N_aB8wTzQblpqUjPe87M_PjUq9RdA6alw7n0YRPYcsXmtZBcEdsgVUMN_XOwC24irK9Dz3DEP95vsjGGQc5-_QipYdmqTFO9kaW5ggeuGMEDXhIk38EoPGgJKVeklPNplgNa3RShXDOEFjamaQ_xF-PW1WBjodZopHsM9XxpQXxUnI4X0hbmo3hdl-2G2W_wIr63l-LuR5s2cHmV5K_HEd832o0FkmyeEsztYOFpdaWJfNWY50MUEKZiQf4dLiKTD0YCVLo1RE49z05NvYxjt_8ELafBDjCLdsUv7Tw1RWQVXwZUD7IOxgEpYQAbrKlAuaR6QW-5BBkJqfraPycCfnOtXmsoqW9CdtWTP05mU&refId=IXn%2B7T6IbKlYbETu2OTZWA%3D%3D&trackingId=Aq9CnYYL7gA6aWgVJKkajA%3D%3D&trk=flagship3_job_collections_leaf_page",
         "Python Developer",
         "Binary Semantics Ltd.",
         "Gurugram, Haryana, India (On-site)",
         "binary semantics ltd.",
         "Gurugram",
         "On-site"
        ],
        [
         "https://www.linkedin.com/jobs/view/4278056511/?eBP=CwEAAAGYgRSHYbKyK1t6aUVQpAHioJlUIGYPYPD0qZuJcA5sbG-5yJ9xXlsxCQN2bnrEeJynLuYdC4JOPRlkC5gLy7FDDbQZid1cw80_-l3nv5H07Us-DFcAL9Ef_mamod0c_ysEmpE5Vimg434q9tf8Mbz2FeIMFACwdG-r872fyRHghTCIltJPPziqdJ80MrSvA8dnJ4p6OujhcwkT44tWlkWKF5fk7mBKSavRx1s8oICg-_dHJI1wUitnIM5GFKDfbTthxUCAwDJmz47x_698X7t_wV7zMrFA4JXfVvuWpz7jbnBXvTBO7SmCJJ9p_yhmeOKHFP4qdC5yK8iNMBWiHaYgvtLs5Eo2iJkEA4dEgb3Rsfl-sDiUC4hWQrewrm_QORDlk3dw3ncVMtCzfuAFAsDrwUXsh9HDc2HrbJKxgEsMw8r_KEDWfBrBxWKA0SXOqDBGAIWMipv5zcsratuOC-6SS-1prh480ciACOu-KeD1d0U&refId=IXn%2B7T6IbKlYbETu2OTZWA%3D%3D&trackingId=al86rCGlIBzjPmyb%2FGunXA%3D%3D&trk=flagship3_job_collections_leaf_page",
         "Python Developer",
         "Relanto",
         "Bengaluru, Karnataka, India (On-site)",
         "relanto",
         "Bengaluru",
         "On-site"
        ],
        [
         "https://www.linkedin.com/jobs/view/4277157799/?eBP=BUDGET_EXHAUSTED_JOB&refId=IXn%2B7T6IbKlYbETu2OTZWA%3D%3D&trackingId=ByLFrh0x2XtwoPHts9Y9%2Bw%3D%3D&trk=flagship3_job_collections_leaf_page",
         "Software Developer",
         "ZEISS India",
         "Bengaluru, Karnataka, India (Hybrid)",
         "zeiss india",
         "Bengaluru",
         "Hybrid"
        ],
        [
         "https://www.linkedin.com/jobs/view/4280451154/?eBP=BUDGET_EXHAUSTED_JOB&refId=IXn%2B7T6IbKlYbETu2OTZWA%3D%3D&trackingId=nj834IAvHex%2F2%2FuP%2FaCGow%3D%3D&trk=flagship3_job_collections_leaf_page",
         "Data Engineer",
         "The Functionary",
         "India (Remote)",
         "the functionary",
         "India (Remote)",
         "Remote"
        ],
        [
         "https://www.linkedin.com/jobs/view/4280159089/?eBP=CwEAAAGYgRShx8mFwInd5Wtz4tKo5vhxu9PGSkhnIpiguzTWBAOASPujb6-ekNUa7oOzCfK_lTshBNbz4-hF-06OQNl2o53OnOA5IX3tX9ImsVQnYl_MgsYMj5Ktfodji77y5QC8P4J531-b_Wzz8OZvLvDs1VEgzeNnRBYTvUyWzELthchmd85APr28okiNzOPXg0EmZZR1HUaZXIMIOrmQzU8LPnbLkZ42sQlt65pQUuw9Cc8EWX0YAsuR1LPF8ZRPveXvJmkh3OR5OjdYCq3cmLH6khN2O4YLqWWfdgIEPzh1RaZi7-M1bSr95-8D0cSUYxg8DjHnYA3mcZH_F-2WhgGWm-_Sg6aAV66rJ2cHHRqqOG6d6OcMeslaR2PHIJWoOWZ30TtjN8-GILlOxT8FiqQAMnAfDV7oGUP7iTyCzcKk-m2CbjqNdGHd0fLhqBIFCqEW1EGRQVxXOZ4nHhtuh0J0xy8-nm0vaV3KzCuikIAHnB1ff_YKxz63Bzi_NXKAysRshfTjZAx7F6sondmOq5y8Y3vwu8wkdQ&refId=MYPN7y%2F6AW6jfo%2Fh5tzXMA%3D%3D&trackingId=xEsgmowR87anJxv07xJlOg%3D%3D&trk=flagship3_job_collections_leaf_page",
         "Remote Data Science Analyst - 17843",
         "Turing",
         "Pune, Maharashtra, India (Remote)",
         "turing",
         "Pune",
         "Remote"
        ],
        [
         "https://www.linkedin.com/jobs/view/4280346453/?eBP=BUDGET_EXHAUSTED_JOB&refId=MYPN7y%2F6AW6jfo%2Fh5tzXMA%3D%3D&trackingId=wK2%2F8zTdMPzdw6rnTyll%2FQ%3D%3D&trk=flagship3_job_collections_leaf_page",
         "Computer Vision Intern Remote",
         "Bhatiyani Astute Intelligence",
         "Bengaluru, Karnataka, India (On-site)",
         "bhatiyani astute intelligence",
         "Bengaluru",
         "On-site"
        ],
        [
         "https://www.linkedin.com/jobs/view/4280121497/?eBP=BUDGET_EXHAUSTED_JOB&refId=MYPN7y%2F6AW6jfo%2Fh5tzXMA%3D%3D&trackingId=A6Al2m%2F%2BYwDEgZrWC%2FiJ0g%3D%3D&trk=flagship3_job_collections_leaf_page",
         "Data Scientist (AI/ML+ Python+ regression, classification, clustering+ SQL+ Cloud )- Group Manager-Data Science",
         "WNS",
         "Bengaluru, Karnataka, India (On-site)",
         "wns",
         "Bengaluru",
         "On-site"
        ],
        [
         "https://www.linkedin.com/jobs/view/4275931334/?eBP=CwEAAAGYgRShx8FqwN_v7GT2o3MfO5XqjXZ0FGHQoj4og7uSXcJIn2HiNpBvkII_Q7ImY9L1xITqw6sSMxR5JzU8tFX0lHcnYRMr7p_tGmPLi0ZDAb5NAVn8XS49IWBxcXsevucIDyNe0caqD7Q2otq0yWZxbqrEmIfBK7nOS_VmLYAkzolgTr9wX2iXjfLZAMAjA7ldb4--GBy_JIzFyOQMouNYyHBWmraVEDJOVbJ1D_uxTi4u55aCHzD8_H6hfQV1QUl51dP7ymPq_Dp-6FwklEWpUH_IU7keakb2759MLFl_yxU0tZMZ7-l6DuXO8z5_jcYbmNG51xl2qxz6I2FjFdltlcNgTuyrLR1gRedj135BgEH9qoJ7nV98Rwe89WHqgyNTD7X6tW32AGcgA8nzFVWc7vypg5DZka_Z7rMbZoZPg1preQngKsSrl64cNPEm5I8zpF9d5dX-ljiCyUIWwJvWNymDz1bi5w4jtGY-35bAN7Qum41DijhH4Hl1Y4RtiNmPMkRDg5VsOfXCraSrYSlBK28oGRhm8g&refId=MYPN7y%2F6AW6jfo%2Fh5tzXMA%3D%3D&trackingId=o%2BSADGHi7wkXwyPxEswQjg%3D%3D&trk=flagship3_job_collections_leaf_page",
         "Artificial Intelligence Engineer",
         "Grid Dynamics",
         "Bengaluru, Karnataka, India (On-site)",
         "grid dynamics",
         "Bengaluru",
         "On-site"
        ],
        [
         "https://www.linkedin.com/jobs/view/4275584994/?eBP=BUDGET_EXHAUSTED_JOB&refId=MYPN7y%2F6AW6jfo%2Fh5tzXMA%3D%3D&trackingId=o2rg5nMH7ZJcKQMS8kQ22w%3D%3D&trk=flagship3_job_collections_leaf_page",
         "Python Developer",
         "HCLSoftware",
         "Pune, Maharashtra, India (On-site)",
         "hclsoftware",
         "Pune",
         "On-site"
        ],
        [
         "https://www.linkedin.com/jobs/view/4278123433/?eBP=CwEAAAGYgRShx3TZl56YZ6sZQvVs2waDUhC6-rqA3UnpjkiUH8LlWIxNKEueb0K3nw8sO8B-YtPwHz4oOIO70m_a4zW78NG2_gvj0et2LNfTNWOXKXaxDCWeHcAOWUcrRrBhBR5GtAfkiH8u7bm0M4iNdMoHKh2ZKO22skFrGt8QiimYwXku6N2Y-gDLAPN9w02kMW-75j1dk7FxTtMBrnzQipQfUxY8GPEYbkxGxtX8kAVpwIIgcNi5Ca_R9t7aE8pb65D7Q_1ag5WNR1Z5wu9WVuuNPVEnpJNHFPLN6yZHRMkvWlZwJSY07Q6gnkPdVZWzqd0mtljduNxBjwdN3AiVrecLmWxlYxnUzSp1I_dhIKZQgUPNlKI0p1WHfz0Skq75uBFNoVyg0-_vtjVe6ZYtQLl1VNsH0Zhgvev-qBKjCymk-yLUXhYyGaiKtM4VZUCnT80McFNPusIU1fW47VcWXGkOC7o5NWb-k_GmgXbz65B_wpyLn-MnvRbsoiEfdqJ74H3npBuhFLgp18wfEKfz8VodXaVwaOloRA&refId=MYPN7y%2F6AW6jfo%2Fh5tzXMA%3D%3D&trackingId=vo8pzKwkdxSqJBuE6x8FDA%3D%3D&trk=flagship3_job_collections_leaf_page",
         "Data Scientist",
         "Circle K",
         "Gurugram, Haryana, India",
         "circle k",
         "Gurugram",
         ""
        ],
        [
         "https://www.linkedin.com/jobs/view/4272012450/?eBP=NOT_ELIGIBLE_FOR_CHARGING&refId=MYPN7y%2F6AW6jfo%2Fh5tzXMA%3D%3D&trackingId=6wdCZjJ1%2BXIG%2BhJWUqQo%2Fg%3D%3D&trk=flagship3_job_collections_leaf_page",
         "Python developer",
         "TestUnity",
         "Bengaluru, Karnataka, India (Hybrid)",
         "testunity",
         "Bengaluru",
         "Hybrid"
        ],
        [
         "https://www.linkedin.com/jobs/view/4277501095/?eBP=CwEAAAGYgRShyNaVrCDtY-Qlsz6VMJQpihbQdzjtLC4eWhIopdDHYSz9ndUrtFoZAdcFRhKQqGOPA8bpfTSTrHf_e2dcJtVZLOXdlqECRnM4wNMragLJEPkjqQyycjDBjighwpTtGepJ_39O9aVdCB9IdCFaEA7d88oJ4C6NIwqq7zDsQWJw3MAZhJGtCWF2clhOfpDe9IB7xL9PSN4lu0xbBSlGrGGTRnS33imPvSalk2FTPzoXhHJviQqQ64kg0XmUyHagftQTkqEO9ssh0sqbfiWu8l8JoSnS5RJcBXHxjG8WOGsaLwJz6-jDKl2EXMpE2g5fY8_4uoSphNnd6KicmVnSSAM6Y6aQ6WfPJnbADJKDr1uZwLsKeh28Bc42PIUWbnuJE4KENQsBN066UyQklx5hYBZOxLxso7TpgL6m8SU4DcLvxKBMf7ioeYei-8koYchAcXMNF0mMjRPbd2xD-rAg7zZ5__W9TVFxlhmo_QnoOw_wkRoC6xTCvwusafntydV0XtLEoxqMDKZUh_RqgNycyUOz0OU&refId=MYPN7y%2F6AW6jfo%2Fh5tzXMA%3D%3D&trackingId=HELp3b62bEVrf6V4k9dGIg%3D%3D&trk=flagship3_job_collections_leaf_page",
         "Sr Python Developer",
         "Nokia",
         "Bengaluru, Karnataka, India (Hybrid)",
         "nokia",
         "Bengaluru",
         "Hybrid"
        ],
        [
         "https://www.linkedin.com/jobs/view/4259429652/?eBP=CwEAAAGYgRShyCTm2v1zLa-TznmmKNaOcLt38Hiv-zEr5ob_DK-ejshPNlZ5Cp21eV0occQbdidT4ijq4U-2f8PuijG2Uzkp3FZIY5tJIDi69boyqzK7-khciDQSmObjt0tc7WfllFAb_Q1E65pXsRRI3CUe0ZyKYPdIEWhQ-gQ4GlNfk13_J8bVseT5xZGeeO1M3IKO4a5H9Osw9n5BcCBJspEAW8jiGgtZihJRXcVFqbOIvqeqCoeqmApD97T-9sERYnMHiC-y5pnVtzrhq5Kc02ZAlzN1dlLT0ESuW-ZM9K8d-tdsc6tlZPnc9wV4bJlK9YHVg6Iu2GUcNJRBfDzWjs03DZEhuex1SbkJQfibO-ZuBAjIBCHIsFcQCnWQG0Th4lHStqb9iKL-s8uOH_mLaDzqVBKaGHqxhr8PXq6ybC9mhvOLv1jzW6IKQgEb2QufdyTBsInhagBS6DrMqPodB5a9FrqGka6ekxNHgCPVAXyijLLUcdksQRhMjsx0Z_G8swKnKRQirYgxtFufEeb8qup74Op-HbQ&refId=MYPN7y%2F6AW6jfo%2Fh5tzXMA%3D%3D&trackingId=200YpSPF5ybsudwdVRypmQ%3D%3D&trk=flagship3_job_collections_leaf_page",
         "Full Stack Developer",
         "IDFC FIRST Bank",
         "Chennai, Tamil Nadu, India (On-site)",
         "idfc first bank",
         "Chennai",
         "On-site"
        ],
        [
         "https://www.linkedin.com/jobs/view/4277602277/?eBP=CwEAAAGYgRShyKyNJTlmK1pfAeEswA2CFD4VSmKsdET2eKkyr-zpWwkfocl4Pi513-1ZqmWhcsNcBhOdbK-t-7-cRMOMID27yvfUIItsxFdkJJ9qXwC-wT07FzxWYu6v7lynyJdETuYZIwlS7nUeolIIt4wg7GdbpisD9E5QE8z2ZJI95qhTIEaNwfhGjp-hA4UAiVfh_bAFFFUVQseambGS4VmoutUdlBV1UhvflpKOqKzOerMM0Ra69SyS_Gn46ujefliOQ1qfkHtFo2drNouQ1TK54uKN5Q0abQ3Km9lA_4UBdrD4HRDYvuvk8aP4Bo-v_9JJ34GW6HgnIKm4wk9-_iXHBEhReN3Ie9OnSc0BNwQe9ajvKY7R0RQBdSzescg9HqOWLCEsc721Lzy3MrHBCEvg5wTeGXZ_8r40ZQWkoY3oDK7EHD-JQDvD-W5q6XCIJmCFVAkAqKT8Vj-8H0qg_WvbrzoSLhdw2Im6uMYRQpKGAbgMZrSEb142XcbE35hRW_mgku_3gQcpooFPK6o-KHqpbyJYBWuWNQ&refId=MYPN7y%2F6AW6jfo%2Fh5tzXMA%3D%3D&trackingId=4ajm2bGTGhFZwINurlyhtQ%3D%3D&trk=flagship3_job_collections_leaf_page",
         "Software Engineer",
         "Nanonets",
         "Greater Bengaluru Area (Hybrid)",
         "nanonets",
         "Greater Bengaluru Area (Hybrid)",
         "Hybrid"
        ],
        [
         "https://www.linkedin.com/jobs/view/4250486850/?eBP=CwEAAAGYgRShyBsgTWqkc0sMGXqbaMwILYszW005WX-hc-2llOIj4THlwbg43-w4L5Dfw1r_VmYm17TsvoZtA14YSr8dEVIB3WT2VAlx55M2xNgv60okU-EEu4mRTpUv7X4wEGpHaIfqu_KUs_Xu1nNLjvMaNaLFepUqCHVSEioR6yeqnmfhMjEYhTIL913cxhKyXpzbcJuVz-ewgPSZFiX0I-8tJLE4oIhPNsNlPjdQ1ZV8ytrpzORgHkbNywznLHoMe44SMhVWLQPmbSUnhqEwgUknI2DJe6sUzn2HSTCpCCDM23UgxDbkP_-SBWMcvU4frR_eUGCmhNZhZif3iKguFMB-zsfNjyDLABITcqhdDffqYKSMTYxP44iE88HE31rOlfIaktyj9VNbIuaf1j51I06xd9OIPDZ2cGn0F9yaWmwQVm6xwJCmXJTdYJul_6SRMYq-kDwCfXE0uKbg8_UsZwJzOvMDOCbglrwl9T5TOtKtYVIsCFPZeyQUG1Veo-ml3AUvXgeWzqYDJatJExfe-JUtdvPC6XCQ0A&refId=MYPN7y%2F6AW6jfo%2Fh5tzXMA%3D%3D&trackingId=WeMUBb6LktSrAC2b%2BR4LuQ%3D%3D&trk=flagship3_job_collections_leaf_page",
         "Data Engineer",
         "PrismHR",
         "Noida, Uttar Pradesh, India (On-site)",
         "prismhr",
         "Noida",
         "On-site"
        ],
        [
         "https://www.linkedin.com/jobs/view/4278206174/?eBP=BUDGET_EXHAUSTED_JOB&refId=MYPN7y%2F6AW6jfo%2Fh5tzXMA%3D%3D&trackingId=kjig2QgL%2BJKE0XkT8BhdlQ%3D%3D&trk=flagship3_job_collections_leaf_page",
         "Python Developer (FastAPI)",
         "BeamX TechLabs",
         "Hyderabad, Telangana, India (On-site)",
         "beamx techlabs",
         "Hyderabad",
         "On-site"
        ],
        [
         "https://www.linkedin.com/jobs/view/4272841876/?eBP=CwEAAAGYgRSu0ynzr8P8Zh_cW-9jSXjrS_qD_ijkXkQKOaQGf0LsLdHsRZ-DwPSYTysmKlljRBY8pQmO6EqQwclwqFLgnERhNAtY5gq8KhkXEYyf9uS6E4gQzCrPRYBAmKrJPKuT_r-lxUjOvG24jl8QntUfN2LObLmZTJLLNDEwMDyeU9lIlbeaAfaUSMeFYuA95ZtGGQuiB_0uVRwO80Xq6kIDCJQc22-sgWqI2bpV08dwAtw1---P4v213iEemww7xUrJ20GBHZqa0emJ6Rmw_qofG2FsopS4scFrlozbcjrjm6pJWW4ZKvBdw_YS7VSqoL-38_hL7f9J5g3Ze-rr8_JxRcJC_0GnVUeXBv8uMjQA1Hlsw2VtE8XSxyITgGXEBSodgR3ByRmtgGP3xC_2JUfwVGrsnJtC2WjynA1tISE43vUpGxk5YL4maPz_6hOPxT18iM_bsoLZ_hnW3qPqo-aT1OMI270wierN8j8DIJar3-NvhomM6otbeRHXH6eUP8ep6gje_a0QNKRml8bmvwavvfny&refId=EBSmkZioQQPAVNqYw9%2BGTw%3D%3D&trackingId=Nt7moGcXYyt1NFl6DeQTPw%3D%3D&trk=flagship3_job_collections_leaf_page",
         "AWS Data Engineer",
         "Iris Software Inc.",
         "Noida, Uttar Pradesh, India (Hybrid)",
         "iris software inc.",
         "Noida",
         "Hybrid"
        ],
        [
         "https://www.linkedin.com/jobs/view/4267691249/?eBP=BUDGET_EXHAUSTED_JOB&refId=EBSmkZioQQPAVNqYw9%2BGTw%3D%3D&trackingId=jvJ8zzz7u1YO4DzFOgsNsg%3D%3D&trk=flagship3_job_collections_leaf_page",
         "Growth Data Scientist",
         "Moniepoint Group",
         "Bengaluru, Karnataka, India (Remote)",
         "moniepoint group",
         "Bengaluru",
         "Remote"
        ],
        [
         "https://www.linkedin.com/jobs/view/4278747387/?eBP=CwEAAAGYgRSu0_p5cl5v3mLO6Nrj5rBUTuwsarA-ZZ3LQM6FeBFfjJo4rTuFOBqqgOc3S6Z7TaIrXTJdVGksrGkpqOyzBUFbpsbfodRTE-uoPyjoJMckbq-BT3wQ1cHUThsWJcFJLCCNHbtZR0S9gu8OLPzp0uXZoVANOPTHmzv23ev3yyR3IuJjX7Js6wvDdK_Ok9RW0hCtDH7nE5_Rzq6u0yuk7ilOqOtPJzkDA-yr3_SBI4OM_Cud2o6Vw05b7WJ1YnJNXsF2VyoxSvBAD78r6sqo7ik_wcV2KQ4dfspR7Aa5zW_Ek4MqJKiBcYOzJUv8F9xX1VbvzheHIIs4huD3sfkhwWBDifPhRyJ-U2JuuxP1GxaZheNY-oOiNfN1f6A9f9N3shITlywtzHrL360ZhSOJ7Hz7LilrZJBMToatEBnj1hh4lN46nAYJd7Cjc9g99LwJngvXz60SmTQGnQ5-ZJlc68Q68qOGCngF_58ZnKwLgFczuDGmMY-NkZm0wqiO-rVIildPN-F7_hZzh-TW3BsSG6Ux&refId=EBSmkZioQQPAVNqYw9%2BGTw%3D%3D&trackingId=aMWpnZNin2TgYCEE4diZOQ%3D%3D&trk=flagship3_job_collections_leaf_page",
         "Data Engineer",
         "Flywire",
         "Bengaluru, Karnataka, India (Hybrid)",
         "flywire",
         "Bengaluru",
         "Hybrid"
        ],
        [
         "https://www.linkedin.com/jobs/view/4280132856/?eBP=BUDGET_EXHAUSTED_JOB&refId=EBSmkZioQQPAVNqYw9%2BGTw%3D%3D&trackingId=ngW3Yk868pVEItMSY3NA0Q%3D%3D&trk=flagship3_job_collections_leaf_page",
         "Full Stack Engineer",
         "PepsiCo",
         "Hyderabad, Telangana, India (Hybrid)",
         "pepsico",
         "Hyderabad",
         "Hybrid"
        ],
        [
         "https://www.linkedin.com/jobs/view/4271280137/?eBP=BUDGET_EXHAUSTED_JOB&refId=EBSmkZioQQPAVNqYw9%2BGTw%3D%3D&trackingId=bdAO%2B8jQWxFPiKwb%2BtuITQ%3D%3D&trk=flagship3_job_collections_leaf_page",
         "Python Developer",
         "NAV India",
         "Jaipur, Rajasthan, India (On-site)",
         "nav india",
         "Jaipur",
         "On-site"
        ],
        [
         "https://www.linkedin.com/jobs/view/4274202231/?eBP=CwEAAAGYgRSu0yaS5y0Tlyf9xBApUYTOI7z9t7vCRy-UpuwVe8LHwLPPPSDP5usEqCvifDix2UfFfJDB5XbQjCpBXhWP2QEUX4Co9o_DtYFAVor-i_EIq0wm2Shz_tF2npe2wEBta6aXYekMlhupQgBnwLnPsWQqT2NWVsqsWdbEcD4fcleIjRQKBN6QPYTswg0WuMs0RiCeF37VanKAMQr8fD_vkC05EY9jSQPRWt7Ia93X4RYe07BDfAoOzDNKPS_x2IPWkzH7UdYg-9eZXt1hT2Xs3XCepIuIU1S6-ZgyBEnWmvFkdjQ-gnkrTB_PMzAcLir0l8JL41KqH1mzEHiPeU1w1z7E-2epjVf3A2vVLsiqAVT3MjsT0j6spbBNpzGJIZghUUjumbVt-gAlawdo-ysZPalZoTp5TQHPFWoShSD6JBTbDIlG6BuAWN_xZs802mfDtjb90aiDZ8er5qTQgelf9Rj1IGLrc8Lr3pau8M0BBnMnzHmy_w9Xn58jFItBOm1gLFUbZ6b6BFIzgETE1_JC9u2kcxtUnQ&refId=EBSmkZioQQPAVNqYw9%2BGTw%3D%3D&trackingId=jiwVMb1aegFvy%2B%2BFBpo9NQ%3D%3D&trk=flagship3_job_collections_leaf_page",
         "Python Developer",
         "Vista Applied Solutions Group Inc",
         "Bengaluru, Karnataka, India (On-site)",
         "vista applied solutions group inc",
         "Bengaluru",
         "On-site"
        ],
        [
         "https://www.linkedin.com/jobs/view/4274041586/?eBP=BUDGET_EXHAUSTED_JOB&refId=EBSmkZioQQPAVNqYw9%2BGTw%3D%3D&trackingId=S4Y%2FTvkNT3bBUSG0zusF%2FQ%3D%3D&trk=flagship3_job_collections_leaf_page",
         "Data Engineer",
         "ThoughtFocus",
         "Bangalore Urban, Karnataka, India (Hybrid)",
         "thoughtfocus",
         "Bangalore Urban",
         "Hybrid"
        ],
        [
         "https://www.linkedin.com/jobs/view/4278056971/?eBP=NOT_ELIGIBLE_FOR_CHARGING&refId=EBSmkZioQQPAVNqYw9%2BGTw%3D%3D&trackingId=tL0tOK7WsLfWzkrArNyvwQ%3D%3D&trk=flagship3_job_collections_leaf_page",
         "Python Developer",
         "Prometteur Solutions Pvt. Ltd.",
         "Mulshi, Maharashtra, India (On-site)",
         "prometteur solutions pvt. ltd.",
         "Mulshi",
         "On-site"
        ],
        [
         "https://www.linkedin.com/jobs/view/4278053425/?eBP=CwEAAAGYgRSu1JdlAnupeNTWOdazeBSeU8sxuLlcsHSgon2rNXsn2NvNBEF_-CKKsPUW5pVnXEFlQX5NspJzCJXXOeEhXU056x63pBZkq9veyp49TKSoq0Ntjtkga9QZogZUeGyAXARlBDY-uzdhOHDZO3R0TQ15PVTTerJ-0iLYIwcpTJz5GGFibUvm8dBAogl1zKcUuNFLW_AfWfbQfFQMix8uvJSactJ5iStb4cHz5dSnuT1J1S6Z5HbGm0kFLl2PjqT1oBLjkp8cpWwYU9ttuc3WqHRzYIi2GLAA9ITusOeHZN_EnA4ptz-0jaLTIp2rMhPi0L8R2Ax3ED02oGckv0z6hKZ2hQYVddWBEEPX__CabULQ09DB9yIpv-avZkEoVEaFlbfB5uZGTTiorUI0eo-CpdV0koEQ8rpdM2aNjZHsujK0s5Slw0Ag-3YZxHDeMMhC0C1lnG-oUFeMe5K-fmJw18joX3YEIlbv6bH1aLZnQfA3yKIt_H2WezN6gUiHrzg8z_MS7g3AcINptRSW0lSgVl6LPn4qew&refId=EBSmkZioQQPAVNqYw9%2BGTw%3D%3D&trackingId=yIrVVI4nggaCSczQpcSVfA%3D%3D&trk=flagship3_job_collections_leaf_page",
         "Python Developer",
         "NIIT",
         "Gurugram, Haryana, India (On-site)",
         "niit",
         "Gurugram",
         "On-site"
        ],
        [
         "https://www.linkedin.com/jobs/view/4266230981/?eBP=BUDGET_EXHAUSTED_JOB&refId=EBSmkZioQQPAVNqYw9%2BGTw%3D%3D&trackingId=SAUSa3RE1GC3zL4q5zM5aw%3D%3D&trk=flagship3_job_collections_leaf_page",
         "Lead - Data Analytics",
         "Freshworks",
         "Bengaluru, Karnataka, India (On-site)",
         "freshworks",
         "Bengaluru",
         "On-site"
        ],
        [
         "https://www.linkedin.com/jobs/view/4277616307/?eBP=CwEAAAGYgRSu1OciLGpKKAU34yDQCFpmdP9i-d7AFG8kAQYoawBXq0-Wz4gW39Alnen7imlNrXWBA_hbYAPYX4AwNRpLIw8ETriJmMJQiZwQhP4tTzBHej7b6Cbt82AHjcw9ay4cp5qmmWf8YOXomY0PcZaQc-rdi8SYeX_yjZDHLCB8EIObMHyT7zxFL0Pt_rXoSKDZMppSsGXnOtI7WpF5Vc254-lGLQllbsNbstcgLQcbPNB7yBN15fgsLSTKyAjlqXjBkqBhz2zSL3hP09s_nwHLsq_UKm1xxxNYlbBZKKlv6HV5DkAzAQpdCp3eZ55QdESTw6pa509xdX4evMiTVfN9WUJfxCvbvAQHMHQOZjTk5AoYdib3N5q5mKTUV40K0vNxowotLUnLa-nq0iQOJI98sg3vme94eXmYwhOnXLeLvCUApZMX-Ni1d6U&refId=EBSmkZioQQPAVNqYw9%2BGTw%3D%3D&trackingId=u36Ji%2BX3P%2FKdP%2FWPadPnTg%3D%3D&trk=flagship3_job_collections_leaf_page",
         "Associate QA Engineer",
         "Cendyn",
         "Hyderabad, Telangana, India (Hybrid)",
         "cendyn",
         "Hyderabad",
         "Hybrid"
        ]
       ],
       "datasetInfos": [],
       "dbfsResultPath": null,
       "isJsonSchema": true,
       "metadata": {},
       "overflow": false,
       "plotOptions": {
        "customPlotOptions": {},
        "displayType": "table",
        "pivotAggregation": null,
        "pivotColumns": null,
        "xColumns": null,
        "yColumns": null
       },
       "removedWidgets": [],
       "schema": [
        {
         "metadata": "{}",
         "name": "job_url",
         "type": "\"string\""
        },
        {
         "metadata": "{}",
         "name": "job_details",
         "type": "\"string\""
        },
        {
         "metadata": "{}",
         "name": "company",
         "type": "\"string\""
        },
        {
         "metadata": "{}",
         "name": "location_details",
         "type": "\"string\""
        },
        {
         "metadata": "{}",
         "name": "company_clean",
         "type": "\"string\""
        },
        {
         "metadata": "{}",
         "name": "city",
         "type": "\"string\""
        },
        {
         "metadata": "{}",
         "name": "job_type",
         "type": "\"string\""
        }
       ],
       "type": "table"
      }
     },
     "output_type": "display_data"
    }
   ],
   "source": [
    "from pyspark.sql.functions import split, regexp_extract\n",
    "\n",
    "# Split the location string by ',' to get the city\n",
    "df_transformed = df_transformed.withColumn(\"city\", split(col(\"location_details\"), \",\")[0])\n",
    "\n",
    "# Extract the job type (e.g., 'Hybrid') from within the parentheses\n",
    "# The regex '\\\\((.*?)\\\\)' finds text inside parentheses\n",
    "df_transformed = df_transformed.withColumn(\"job_type\", regexp_extract(col(\"location_details\"), \"\\\\((.*?)\\\\)\", 1))\n",
    "\n",
    "display(df_transformed)"
   ]
  },
  {
   "cell_type": "code",
   "execution_count": 0,
   "metadata": {
    "application/vnd.databricks.v1+cell": {
     "cellMetadata": {
      "byteLimit": 2048000,
      "rowLimit": 10000
     },
     "inputWidgets": {},
     "nuid": "eeb1d198-1cfe-465d-aada-80366d6f7c09",
     "showTitle": false,
     "tableResultSettingsMap": {},
     "title": ""
    }
   },
   "outputs": [
    {
     "output_type": "display_data",
     "data": {
      "text/html": [
       "<style scoped>\n",
       "  .table-result-container {\n",
       "    max-height: 300px;\n",
       "    overflow: auto;\n",
       "  }\n",
       "  table, th, td {\n",
       "    border: 1px solid black;\n",
       "    border-collapse: collapse;\n",
       "  }\n",
       "  th, td {\n",
       "    padding: 5px;\n",
       "  }\n",
       "  th {\n",
       "    text-align: left;\n",
       "  }\n",
       "</style><div class='table-result-container'><table class='table-result'><thead style='background-color: white'><tr><th>company_clean</th><th>city</th><th>job_type</th></tr></thead><tbody><tr><td>capgemini engineering</td><td>Mumbai</td><td>Hybrid</td></tr><tr><td>ab inbev gcc india</td><td>Bengaluru</td><td>On-site</td></tr><tr><td>hubnex labs</td><td>India (Remote)</td><td>Remote</td></tr><tr><td>deep learning titans</td><td>Bengaluru</td><td>Remote</td></tr><tr><td>hcltech</td><td>Bengaluru</td><td>On-site</td></tr><tr><td>navi</td><td>Bengaluru</td><td>On-site</td></tr><tr><td>the guide</td><td>India (Remote)</td><td>Remote</td></tr><tr><td>ltimindtree</td><td>India (Remote)</td><td>Remote</td></tr><tr><td>tecnotree corporation</td><td>Bengaluru</td><td>Hybrid</td></tr><tr><td>pravartan</td><td>India (Remote)</td><td>Remote</td></tr><tr><td>hrm counsel private limited</td><td>India (Remote)</td><td>Remote</td></tr><tr><td>ab inbev gcc india</td><td>Bengaluru</td><td>On-site</td></tr><tr><td>turing</td><td>Bengaluru</td><td>Remote</td></tr><tr><td>sony research india</td><td>India (Remote)</td><td>Remote</td></tr><tr><td>capgemini</td><td>Bengaluru</td><td>Hybrid</td></tr><tr><td>darwix ai</td><td>Gurugram</td><td>On-site</td></tr><tr><td>insight global</td><td>India (Remote)</td><td>Remote</td></tr><tr><td>eversana</td><td>Bengaluru</td><td>On-site</td></tr><tr><td>hdfc securities</td><td>Mumbai</td><td>On-site</td></tr><tr><td>pentair</td><td>Noida</td><td>Hybrid</td></tr><tr><td>cryptochakra</td><td>India (Remote)</td><td>Remote</td></tr><tr><td>orbital</td><td>Hyderabad</td><td>On-site</td></tr><tr><td>turing</td><td>Hyderabad</td><td>Remote</td></tr><tr><td>sony research india</td><td>Bengaluru</td><td>Remote</td></tr><tr><td>persistent systems</td><td>Bengaluru</td><td>On-site</td></tr><tr><td>nxtwave</td><td>Hyderabad</td><td>On-site</td></tr><tr><td>wns</td><td>Noida</td><td>On-site</td></tr><tr><td>2base technologies</td><td>Bengaluru</td><td>On-site</td></tr><tr><td>zenduty</td><td>Bangalore Urban</td><td>On-site</td></tr><tr><td>nextiva</td><td>Greater Chennai Area (Hybrid)</td><td>Hybrid</td></tr><tr><td>talkdesk</td><td>Bengaluru</td><td>On-site</td></tr><tr><td>newsweek</td><td>India (Remote)</td><td>Remote</td></tr><tr><td>grow your staff</td><td>India (Remote)</td><td>Remote</td></tr><tr><td>turing</td><td>Hyderabad</td><td>Remote</td></tr><tr><td>sony research india</td><td>Bengaluru</td><td>Remote</td></tr><tr><td>persistent systems</td><td>Bengaluru</td><td>On-site</td></tr><tr><td>nxtwave</td><td>Hyderabad</td><td>On-site</td></tr><tr><td>wns</td><td>Noida</td><td>On-site</td></tr><tr><td>2base technologies</td><td>Bengaluru</td><td>On-site</td></tr><tr><td>zenduty</td><td>Bangalore Urban</td><td>On-site</td></tr><tr><td>ampstek</td><td>Bengaluru</td><td>On-site</td></tr><tr><td>nextiva</td><td>Greater Chennai Area (Hybrid)</td><td>Hybrid</td></tr><tr><td>talkdesk</td><td>Bengaluru</td><td>On-site</td></tr><tr><td>newsweek</td><td>India (Remote)</td><td>Remote</td></tr><tr><td>grow your staff</td><td>India (Remote)</td><td>Remote</td></tr><tr><td>recro</td><td>Bengaluru</td><td>On-site</td></tr><tr><td>wissen infotech</td><td>Bangalore Urban</td><td>On-site</td></tr><tr><td>persistent systems</td><td>Bengaluru</td><td>On-site</td></tr><tr><td>concentrix catalyst</td><td>Bengaluru</td><td>On-site</td></tr><tr><td>circle k</td><td>Gurugram</td><td></td></tr><tr><td>bajaj technology services</td><td>Bengaluru</td><td>On-site</td></tr><tr><td>droisys</td><td>Noida</td><td>On-site</td></tr><tr><td>nskh tech</td><td>India (Remote)</td><td>Remote</td></tr><tr><td>l&t technology services</td><td>Bengaluru</td><td>On-site</td></tr><tr><td>pocket fm</td><td>Bangalore Urban</td><td>Hybrid</td></tr><tr><td>revx</td><td>India (Remote)</td><td>Remote</td></tr><tr><td>solytics partners</td><td>Pune</td><td>Hybrid</td></tr><tr><td>zensar technologies</td><td>Delhi</td><td>Hybrid</td></tr><tr><td>immerso.ai</td><td>Chennai</td><td>On-site</td></tr><tr><td>dotpe</td><td>Gurugram</td><td>On-site</td></tr><tr><td>vettam ai</td><td>India (Remote)</td><td>Remote</td></tr><tr><td>tech mahindra</td><td>Bengaluru</td><td>On-site</td></tr><tr><td>randstad enterprise</td><td>India (Remote)</td><td>Remote</td></tr><tr><td>smartq</td><td>Bengaluru</td><td>On-site</td></tr><tr><td>accolite</td><td>Mumbai Metropolitan Region (Hybrid)</td><td>Hybrid</td></tr><tr><td>mthree</td><td>Mumbai</td><td>Hybrid</td></tr><tr><td>pwc acceleration centers</td><td>Bengaluru</td><td>Hybrid</td></tr><tr><td>bounteous</td><td>Gurugram</td><td>Hybrid</td></tr><tr><td>aqusag technologies</td><td>India (Remote)</td><td>Remote</td></tr><tr><td>prudent technologies and consulting, inc.</td><td>Hyderabad</td><td>On-site</td></tr><tr><td>dentsu global services</td><td>Bengaluru</td><td>Hybrid</td></tr><tr><td>nagarro</td><td>Gurugram</td><td>On-site</td></tr><tr><td>ascendion</td><td>Gurugram</td><td>Hybrid</td></tr><tr><td>wns</td><td>Gurgaon</td><td>On-site</td></tr><tr><td>rail labs</td><td>Chennai</td><td>On-site</td></tr><tr><td>leeford healthcare limited</td><td>India (Remote)</td><td>Remote</td></tr><tr><td>saisystems technology</td><td>India (Remote)</td><td>Remote</td></tr><tr><td>circle k</td><td>Gurugram</td><td></td></tr><tr><td>hcltech</td><td>Chennai</td><td>Hybrid</td></tr><tr><td>talentgigs</td><td>Hyderabad</td><td>On-site</td></tr><tr><td>experian</td><td>Hyderabad</td><td>On-site</td></tr><tr><td>linkedin</td><td>Bengaluru</td><td>Hybrid</td></tr><tr><td>phnyx lab</td><td>Bengaluru</td><td>Hybrid</td></tr><tr><td>careerus solutions</td><td>India (Remote)</td><td>Remote</td></tr><tr><td>datum technologies group</td><td>Bengaluru</td><td>Remote</td></tr><tr><td>airtel payments bank</td><td>Gurugram</td><td>On-site</td></tr><tr><td>datastack technologies</td><td>India (Remote)</td><td>Remote</td></tr><tr><td>wissen infotech</td><td>Bangalore Urban</td><td>On-site</td></tr><tr><td>carousell group</td><td>Bengaluru</td><td>Remote</td></tr><tr><td>to the new</td><td>Noida</td><td>Hybrid</td></tr><tr><td>centrilogic</td><td>India (Remote)</td><td>Remote</td></tr><tr><td>experian</td><td>Hyderabad</td><td>On-site</td></tr><tr><td>linkedin</td><td>Bengaluru</td><td>Hybrid</td></tr><tr><td>phnyx lab</td><td>Bengaluru</td><td>Hybrid</td></tr><tr><td>careerus solutions</td><td>India (Remote)</td><td>Remote</td></tr><tr><td>datum technologies group</td><td>Bengaluru</td><td>Remote</td></tr><tr><td>airtel payments bank</td><td>Gurugram</td><td>On-site</td></tr><tr><td>datastack technologies</td><td>India (Remote)</td><td>Remote</td></tr><tr><td>aaa global</td><td>Mumbai</td><td>On-site</td></tr><tr><td>wissen infotech</td><td>Bangalore Urban</td><td>On-site</td></tr><tr><td>carousell group</td><td>Bengaluru</td><td>Remote</td></tr><tr><td>to the new</td><td>Noida</td><td>Hybrid</td></tr><tr><td>centrilogic</td><td>India (Remote)</td><td>Remote</td></tr><tr><td>first screen</td><td>Kochi</td><td>On-site</td></tr><tr><td>peoplelogic</td><td>Bengaluru</td><td>On-site</td></tr><tr><td>mphasis</td><td>Bengaluru</td><td>On-site</td></tr><tr><td>keyvalue software systems</td><td>Kochi</td><td>Hybrid</td></tr><tr><td>infobeans</td><td>Pune</td><td>Hybrid</td></tr><tr><td>darwix ai</td><td>Gurugram</td><td>On-site</td></tr><tr><td>esri india</td><td>Bengaluru</td><td>On-site</td></tr><tr><td>roku</td><td>Bengaluru</td><td>Hybrid</td></tr><tr><td>binary semantics ltd.</td><td>Gurugram</td><td>On-site</td></tr><tr><td>relanto</td><td>Bengaluru</td><td>On-site</td></tr><tr><td>zeiss india</td><td>Bengaluru</td><td>Hybrid</td></tr><tr><td>the functionary</td><td>India (Remote)</td><td>Remote</td></tr><tr><td>turing</td><td>Pune</td><td>Remote</td></tr><tr><td>bhatiyani astute intelligence</td><td>Bengaluru</td><td>On-site</td></tr><tr><td>wns</td><td>Bengaluru</td><td>On-site</td></tr><tr><td>grid dynamics</td><td>Bengaluru</td><td>On-site</td></tr><tr><td>hclsoftware</td><td>Pune</td><td>On-site</td></tr><tr><td>circle k</td><td>Gurugram</td><td></td></tr><tr><td>testunity</td><td>Bengaluru</td><td>Hybrid</td></tr><tr><td>nokia</td><td>Bengaluru</td><td>Hybrid</td></tr><tr><td>idfc first bank</td><td>Chennai</td><td>On-site</td></tr><tr><td>nanonets</td><td>Greater Bengaluru Area (Hybrid)</td><td>Hybrid</td></tr><tr><td>prismhr</td><td>Noida</td><td>On-site</td></tr><tr><td>beamx techlabs</td><td>Hyderabad</td><td>On-site</td></tr><tr><td>iris software inc.</td><td>Noida</td><td>Hybrid</td></tr><tr><td>moniepoint group</td><td>Bengaluru</td><td>Remote</td></tr><tr><td>flywire</td><td>Bengaluru</td><td>Hybrid</td></tr><tr><td>pepsico</td><td>Hyderabad</td><td>Hybrid</td></tr><tr><td>nav india</td><td>Jaipur</td><td>On-site</td></tr><tr><td>vista applied solutions group inc</td><td>Bengaluru</td><td>On-site</td></tr><tr><td>thoughtfocus</td><td>Bangalore Urban</td><td>Hybrid</td></tr><tr><td>prometteur solutions pvt. ltd.</td><td>Mulshi</td><td>On-site</td></tr><tr><td>niit</td><td>Gurugram</td><td>On-site</td></tr><tr><td>freshworks</td><td>Bengaluru</td><td>On-site</td></tr><tr><td>cendyn</td><td>Hyderabad</td><td>Hybrid</td></tr></tbody></table></div>"
      ]
     },
     "metadata": {
      "application/vnd.databricks.v1+output": {
       "addedWidgets": {},
       "aggData": [],
       "aggError": "",
       "aggOverflow": false,
       "aggSchema": [],
       "aggSeriesLimitReached": false,
       "aggType": "",
       "arguments": {},
       "columnCustomDisplayInfos": {},
       "data": [
        [
         "capgemini engineering",
         "Mumbai",
         "Hybrid"
        ],
        [
         "ab inbev gcc india",
         "Bengaluru",
         "On-site"
        ],
        [
         "hubnex labs",
         "India (Remote)",
         "Remote"
        ],
        [
         "deep learning titans",
         "Bengaluru",
         "Remote"
        ],
        [
         "hcltech",
         "Bengaluru",
         "On-site"
        ],
        [
         "navi",
         "Bengaluru",
         "On-site"
        ],
        [
         "the guide",
         "India (Remote)",
         "Remote"
        ],
        [
         "ltimindtree",
         "India (Remote)",
         "Remote"
        ],
        [
         "tecnotree corporation",
         "Bengaluru",
         "Hybrid"
        ],
        [
         "pravartan",
         "India (Remote)",
         "Remote"
        ],
        [
         "hrm counsel private limited",
         "India (Remote)",
         "Remote"
        ],
        [
         "ab inbev gcc india",
         "Bengaluru",
         "On-site"
        ],
        [
         "turing",
         "Bengaluru",
         "Remote"
        ],
        [
         "sony research india",
         "India (Remote)",
         "Remote"
        ],
        [
         "capgemini",
         "Bengaluru",
         "Hybrid"
        ],
        [
         "darwix ai",
         "Gurugram",
         "On-site"
        ],
        [
         "insight global",
         "India (Remote)",
         "Remote"
        ],
        [
         "eversana",
         "Bengaluru",
         "On-site"
        ],
        [
         "hdfc securities",
         "Mumbai",
         "On-site"
        ],
        [
         "pentair",
         "Noida",
         "Hybrid"
        ],
        [
         "cryptochakra",
         "India (Remote)",
         "Remote"
        ],
        [
         "orbital",
         "Hyderabad",
         "On-site"
        ],
        [
         "turing",
         "Hyderabad",
         "Remote"
        ],
        [
         "sony research india",
         "Bengaluru",
         "Remote"
        ],
        [
         "persistent systems",
         "Bengaluru",
         "On-site"
        ],
        [
         "nxtwave",
         "Hyderabad",
         "On-site"
        ],
        [
         "wns",
         "Noida",
         "On-site"
        ],
        [
         "2base technologies",
         "Bengaluru",
         "On-site"
        ],
        [
         "zenduty",
         "Bangalore Urban",
         "On-site"
        ],
        [
         "nextiva",
         "Greater Chennai Area (Hybrid)",
         "Hybrid"
        ],
        [
         "talkdesk",
         "Bengaluru",
         "On-site"
        ],
        [
         "newsweek",
         "India (Remote)",
         "Remote"
        ],
        [
         "grow your staff",
         "India (Remote)",
         "Remote"
        ],
        [
         "turing",
         "Hyderabad",
         "Remote"
        ],
        [
         "sony research india",
         "Bengaluru",
         "Remote"
        ],
        [
         "persistent systems",
         "Bengaluru",
         "On-site"
        ],
        [
         "nxtwave",
         "Hyderabad",
         "On-site"
        ],
        [
         "wns",
         "Noida",
         "On-site"
        ],
        [
         "2base technologies",
         "Bengaluru",
         "On-site"
        ],
        [
         "zenduty",
         "Bangalore Urban",
         "On-site"
        ],
        [
         "ampstek",
         "Bengaluru",
         "On-site"
        ],
        [
         "nextiva",
         "Greater Chennai Area (Hybrid)",
         "Hybrid"
        ],
        [
         "talkdesk",
         "Bengaluru",
         "On-site"
        ],
        [
         "newsweek",
         "India (Remote)",
         "Remote"
        ],
        [
         "grow your staff",
         "India (Remote)",
         "Remote"
        ],
        [
         "recro",
         "Bengaluru",
         "On-site"
        ],
        [
         "wissen infotech",
         "Bangalore Urban",
         "On-site"
        ],
        [
         "persistent systems",
         "Bengaluru",
         "On-site"
        ],
        [
         "concentrix catalyst",
         "Bengaluru",
         "On-site"
        ],
        [
         "circle k",
         "Gurugram",
         ""
        ],
        [
         "bajaj technology services",
         "Bengaluru",
         "On-site"
        ],
        [
         "droisys",
         "Noida",
         "On-site"
        ],
        [
         "nskh tech",
         "India (Remote)",
         "Remote"
        ],
        [
         "l&t technology services",
         "Bengaluru",
         "On-site"
        ],
        [
         "pocket fm",
         "Bangalore Urban",
         "Hybrid"
        ],
        [
         "revx",
         "India (Remote)",
         "Remote"
        ],
        [
         "solytics partners",
         "Pune",
         "Hybrid"
        ],
        [
         "zensar technologies",
         "Delhi",
         "Hybrid"
        ],
        [
         "immerso.ai",
         "Chennai",
         "On-site"
        ],
        [
         "dotpe",
         "Gurugram",
         "On-site"
        ],
        [
         "vettam ai",
         "India (Remote)",
         "Remote"
        ],
        [
         "tech mahindra",
         "Bengaluru",
         "On-site"
        ],
        [
         "randstad enterprise",
         "India (Remote)",
         "Remote"
        ],
        [
         "smartq",
         "Bengaluru",
         "On-site"
        ],
        [
         "accolite",
         "Mumbai Metropolitan Region (Hybrid)",
         "Hybrid"
        ],
        [
         "mthree",
         "Mumbai",
         "Hybrid"
        ],
        [
         "pwc acceleration centers",
         "Bengaluru",
         "Hybrid"
        ],
        [
         "bounteous",
         "Gurugram",
         "Hybrid"
        ],
        [
         "aqusag technologies",
         "India (Remote)",
         "Remote"
        ],
        [
         "prudent technologies and consulting, inc.",
         "Hyderabad",
         "On-site"
        ],
        [
         "dentsu global services",
         "Bengaluru",
         "Hybrid"
        ],
        [
         "nagarro",
         "Gurugram",
         "On-site"
        ],
        [
         "ascendion",
         "Gurugram",
         "Hybrid"
        ],
        [
         "wns",
         "Gurgaon",
         "On-site"
        ],
        [
         "rail labs",
         "Chennai",
         "On-site"
        ],
        [
         "leeford healthcare limited",
         "India (Remote)",
         "Remote"
        ],
        [
         "saisystems technology",
         "India (Remote)",
         "Remote"
        ],
        [
         "circle k",
         "Gurugram",
         ""
        ],
        [
         "hcltech",
         "Chennai",
         "Hybrid"
        ],
        [
         "talentgigs",
         "Hyderabad",
         "On-site"
        ],
        [
         "experian",
         "Hyderabad",
         "On-site"
        ],
        [
         "linkedin",
         "Bengaluru",
         "Hybrid"
        ],
        [
         "phnyx lab",
         "Bengaluru",
         "Hybrid"
        ],
        [
         "careerus solutions",
         "India (Remote)",
         "Remote"
        ],
        [
         "datum technologies group",
         "Bengaluru",
         "Remote"
        ],
        [
         "airtel payments bank",
         "Gurugram",
         "On-site"
        ],
        [
         "datastack technologies",
         "India (Remote)",
         "Remote"
        ],
        [
         "wissen infotech",
         "Bangalore Urban",
         "On-site"
        ],
        [
         "carousell group",
         "Bengaluru",
         "Remote"
        ],
        [
         "to the new",
         "Noida",
         "Hybrid"
        ],
        [
         "centrilogic",
         "India (Remote)",
         "Remote"
        ],
        [
         "experian",
         "Hyderabad",
         "On-site"
        ],
        [
         "linkedin",
         "Bengaluru",
         "Hybrid"
        ],
        [
         "phnyx lab",
         "Bengaluru",
         "Hybrid"
        ],
        [
         "careerus solutions",
         "India (Remote)",
         "Remote"
        ],
        [
         "datum technologies group",
         "Bengaluru",
         "Remote"
        ],
        [
         "airtel payments bank",
         "Gurugram",
         "On-site"
        ],
        [
         "datastack technologies",
         "India (Remote)",
         "Remote"
        ],
        [
         "aaa global",
         "Mumbai",
         "On-site"
        ],
        [
         "wissen infotech",
         "Bangalore Urban",
         "On-site"
        ],
        [
         "carousell group",
         "Bengaluru",
         "Remote"
        ],
        [
         "to the new",
         "Noida",
         "Hybrid"
        ],
        [
         "centrilogic",
         "India (Remote)",
         "Remote"
        ],
        [
         "first screen",
         "Kochi",
         "On-site"
        ],
        [
         "peoplelogic",
         "Bengaluru",
         "On-site"
        ],
        [
         "mphasis",
         "Bengaluru",
         "On-site"
        ],
        [
         "keyvalue software systems",
         "Kochi",
         "Hybrid"
        ],
        [
         "infobeans",
         "Pune",
         "Hybrid"
        ],
        [
         "darwix ai",
         "Gurugram",
         "On-site"
        ],
        [
         "esri india",
         "Bengaluru",
         "On-site"
        ],
        [
         "roku",
         "Bengaluru",
         "Hybrid"
        ],
        [
         "binary semantics ltd.",
         "Gurugram",
         "On-site"
        ],
        [
         "relanto",
         "Bengaluru",
         "On-site"
        ],
        [
         "zeiss india",
         "Bengaluru",
         "Hybrid"
        ],
        [
         "the functionary",
         "India (Remote)",
         "Remote"
        ],
        [
         "turing",
         "Pune",
         "Remote"
        ],
        [
         "bhatiyani astute intelligence",
         "Bengaluru",
         "On-site"
        ],
        [
         "wns",
         "Bengaluru",
         "On-site"
        ],
        [
         "grid dynamics",
         "Bengaluru",
         "On-site"
        ],
        [
         "hclsoftware",
         "Pune",
         "On-site"
        ],
        [
         "circle k",
         "Gurugram",
         ""
        ],
        [
         "testunity",
         "Bengaluru",
         "Hybrid"
        ],
        [
         "nokia",
         "Bengaluru",
         "Hybrid"
        ],
        [
         "idfc first bank",
         "Chennai",
         "On-site"
        ],
        [
         "nanonets",
         "Greater Bengaluru Area (Hybrid)",
         "Hybrid"
        ],
        [
         "prismhr",
         "Noida",
         "On-site"
        ],
        [
         "beamx techlabs",
         "Hyderabad",
         "On-site"
        ],
        [
         "iris software inc.",
         "Noida",
         "Hybrid"
        ],
        [
         "moniepoint group",
         "Bengaluru",
         "Remote"
        ],
        [
         "flywire",
         "Bengaluru",
         "Hybrid"
        ],
        [
         "pepsico",
         "Hyderabad",
         "Hybrid"
        ],
        [
         "nav india",
         "Jaipur",
         "On-site"
        ],
        [
         "vista applied solutions group inc",
         "Bengaluru",
         "On-site"
        ],
        [
         "thoughtfocus",
         "Bangalore Urban",
         "Hybrid"
        ],
        [
         "prometteur solutions pvt. ltd.",
         "Mulshi",
         "On-site"
        ],
        [
         "niit",
         "Gurugram",
         "On-site"
        ],
        [
         "freshworks",
         "Bengaluru",
         "On-site"
        ],
        [
         "cendyn",
         "Hyderabad",
         "Hybrid"
        ]
       ],
       "datasetInfos": [],
       "dbfsResultPath": null,
       "isJsonSchema": true,
       "metadata": {},
       "overflow": false,
       "plotOptions": {
        "customPlotOptions": {},
        "displayType": "table",
        "pivotAggregation": null,
        "pivotColumns": null,
        "xColumns": null,
        "yColumns": null
       },
       "removedWidgets": [],
       "schema": [
        {
         "metadata": "{}",
         "name": "company_clean",
         "type": "\"string\""
        },
        {
         "metadata": "{}",
         "name": "city",
         "type": "\"string\""
        },
        {
         "metadata": "{}",
         "name": "job_type",
         "type": "\"string\""
        }
       ],
       "type": "table"
      }
     },
     "output_type": "display_data"
    }
   ],
   "source": [
    "display(df_transformed.select(col(\"company_clean\"), col(\"city\"), col(\"job_type\")))"
   ]
  },
  {
   "cell_type": "code",
   "execution_count": 0,
   "metadata": {
    "application/vnd.databricks.v1+cell": {
     "cellMetadata": {
      "byteLimit": 2048000,
      "rowLimit": 10000
     },
     "inputWidgets": {},
     "nuid": "d3045ecd-e23c-4e90-820d-f580872a4c4f",
     "showTitle": false,
     "tableResultSettingsMap": {},
     "title": ""
    }
   },
   "outputs": [
    {
     "output_type": "display_data",
     "data": {
      "text/html": [
       "<style scoped>\n",
       "  .table-result-container {\n",
       "    max-height: 300px;\n",
       "    overflow: auto;\n",
       "  }\n",
       "  table, th, td {\n",
       "    border: 1px solid black;\n",
       "    border-collapse: collapse;\n",
       "  }\n",
       "  th, td {\n",
       "    padding: 5px;\n",
       "  }\n",
       "  th {\n",
       "    text-align: left;\n",
       "  }\n",
       "</style><div class='table-result-container'><table class='table-result'><thead style='background-color: white'><tr><th>job_url</th><th>job_details</th><th>company</th><th>location_details</th><th>company_clean</th><th>city</th><th>job_type</th></tr></thead><tbody><tr><td>https://www.linkedin.com/jobs/view/4277353126/?eBP=CwEAAAGYgRNcby_KMfZuM7o_bhgQ0uek5G8LIz3U7hjMncVVugI0W2_2x-lIQOk63MgV0pFj1MjE7HhaGb99RkLXZd7jc6H1r_q9un6ncxydzB4Zy4dvHyAMjBZusDk3BCMZXk6r9wePxGnPxBK6dsD_W2mnEKr3amupMQkiN3XZnOFFNNapGVk8qdkqTs0IAI_GeSbrH7zGtVWwYH6tXDFc27dAMFMF2a6J4ilRCR6xI7wl-bnmqR5plOLIXvROJcPcb4SEFZZYlH23vHwdNScpsPGI9Mo916ZU5ALO1qNqiqvKmo51EY2q6fT-5JM1Le5sgtVHSsi5njSw4f2kpL0fyUxR0TUd_ZMhrqCnSG5Kazaq7YI9f6mWYHAifiN_9F1GrdCMA54q9amRH6-AyDbsaL6ADQdVADtsG9iTYgiXgfkrd8sIwiRqXuDridZ34T7CKI_moz3IUU_2uFkqnLIxb8JZ4Z1mOexrhF65qQ6ZrdPpaGrubzWyhnwg9LegBFWPXreSmumgQ3yudbUw7lKA7yf50w&refId=VTdxZjP6Td02BrgNGEyD5A%3D%3D&trackingId=0ZNpZStGR73FRjLBjitcjg%3D%3D&trk=flagship3_job_collections_leaf_page</td><td>Data scientist- Python- AI/ML GEN AI- Across india</td><td>Capgemini Engineering</td><td>Mumbai, Maharashtra, India (Hybrid)</td><td>capgemini engineering</td><td>Mumbai</td><td>Hybrid</td></tr><tr><td>https://www.linkedin.com/jobs/view/4279260172/?eBP=CwEAAAGYgRNcb2s1qwNtsjoHmBzkZDTfCaIKh4_KcJSW4K5JiGezWlAfSSyLqmqvwEafp0lfK62lGPaszLMuoV1OfHtTiORVAuYwAHvPaZDfL9IxslYvQCgpzQkOvgQn0XY8fm7aSZUuxoz7k7Yc7Lw8BeQ_1F32c10tfeAI-D4CeQhRLnRQBWyyE93S3Pu49_0uyTWM5jVFVUCLPlznkBnUNWydS41ETB_Uo7UraHzR7AcVTBhfZVXxOnND5xaN_rHwAOIR4G2PhIMccU0Xu0o12TqGbUIcmY4R4ecX4uuUmV7S0rJRHU4Y_3LRmfobxeU4olIHHRLzrplIj0vhltiH9ZzHjaBUXZLnl-F-bXK1wDrsKcDaXndTmPDVaAR_y7705p4W04jw3zL90AJC2sOfY3_gua9nr9LNtNp4jInWiQur_pibVwKWpYS7Bpzxe0aPZ3g7RnI4na45YjYWRaqT9qUpQ48A9EOl472r-QKDOLnE4hiNvo309xdSfc-fN0641ulh-irR-8fQPyiA85JS-MGCHHb3&refId=VTdxZjP6Td02BrgNGEyD5A%3D%3D&trackingId=DFyDIfGzjUfLe4OLD7lvgQ%3D%3D&trk=flagship3_job_collections_leaf_page</td><td>Junior Data Scientist</td><td>AB InBev GCC India</td><td>Bengaluru, Karnataka, India (On-site)</td><td>ab inbev gcc india</td><td>Bengaluru</td><td>On-site</td></tr><tr><td>https://www.linkedin.com/jobs/view/4277908502/?eBP=NOT_ELIGIBLE_FOR_CHARGING&refId=VTdxZjP6Td02BrgNGEyD5A%3D%3D&trackingId=wd9LH%2B3Su9OdfoKJvC6W6Q%3D%3D&trk=flagship3_job_collections_leaf_page</td><td>AI ML Intern</td><td>Hubnex Labs</td><td>India (Remote)</td><td>hubnex labs</td><td>India (Remote)</td><td>Remote</td></tr><tr><td>https://www.linkedin.com/jobs/view/4280550072/?eBP=BUDGET_EXHAUSTED_JOB&refId=VTdxZjP6Td02BrgNGEyD5A%3D%3D&trackingId=Ffe%2FR0gnvKjESBdjFIr30A%3D%3D&trk=flagship3_job_collections_leaf_page</td><td>AI Engineering Internship</td><td>Deep Learning Titans</td><td>Bengaluru, Karnataka, India (Remote)</td><td>deep learning titans</td><td>Bengaluru</td><td>Remote</td></tr><tr><td>https://www.linkedin.com/jobs/view/4216659912/?eBP=CwEAAAGYgRNcb7pUVP4u1ndn0ccV-twoDKQpJgzTyFXjquRaqv9YuqDQZUCU45geb-XqNGUhWk2Wa_HxKSjnD0-THpdrzhsQUfpW7l_bR0NrPt7usu5ESbW4P_Ir5Zn2vOah5YPpj6pmUn6XRg58awc94KFovwd6s1aQps8SFuD-2K0YiyNRZe4GtITl9PL-vqqPJZ0DjkdoGpB8enCloNl16jPlUJQuLOqmbgz82Ger8j9uD6yG0Ed0O_pT2zqrhe5vKbeSsicsWej7xA-zmKWxKMW5g9jVUCCACej2rXoqJXlhpCWWFnhlvHunaIFL4U6bY1cr1_H0P6C63_a4gsFrrnvbzqk4xruhemFXZ01c0UoZz59IvX0zy81w9GU5m45E7vf1zrix-zphjYUpFFcBM0o4VnIEeVKGSUiLvueXSVsT-VOf8G88bRZX_7QRNBLu0w3Atq8WjuBgx7-5pvOyNIyvNF96Q2iZoIBmL-6KRWF3UWu1Qc62P_FRZBzoxjEgVozczLPlgnh10st-Vf9XdZuiQD6I&refId=VTdxZjP6Td02BrgNGEyD5A%3D%3D&trackingId=DBYgLD94oNPi0dzDo%2F0TOw%3D%3D&trk=flagship3_job_collections_leaf_page</td><td>Gen AI Researcher</td><td>HCLTech</td><td>Bengaluru, Karnataka, India (On-site)</td><td>hcltech</td><td>Bengaluru</td><td>On-site</td></tr><tr><td>https://www.linkedin.com/jobs/view/4274222266/?eBP=BUDGET_EXHAUSTED_JOB&refId=VTdxZjP6Td02BrgNGEyD5A%3D%3D&trackingId=bfRBbJuyo7u9QHzDgWM%2BAQ%3D%3D&trk=flagship3_job_collections_leaf_page</td><td>Data Analyst I</td><td>Navi</td><td>Bengaluru, Karnataka, India (On-site)</td><td>navi</td><td>Bengaluru</td><td>On-site</td></tr><tr><td>https://www.linkedin.com/jobs/view/4277354782/?eBP=BUDGET_EXHAUSTED_JOB&refId=VTdxZjP6Td02BrgNGEyD5A%3D%3D&trackingId=a62Q7extgMqaT9qRq4geaw%3D%3D&trk=flagship3_job_collections_leaf_page</td><td>Junior Data Analyst</td><td>The Guide</td><td>India (Remote)</td><td>the guide</td><td>India (Remote)</td><td>Remote</td></tr><tr><td>https://www.linkedin.com/jobs/view/4280144071/?eBP=BUDGET_EXHAUSTED_JOB&refId=VTdxZjP6Td02BrgNGEyD5A%3D%3D&trackingId=vgkb%2B2Cf%2FIrsrTqwqKQsDw%3D%3D&trk=flagship3_job_collections_leaf_page</td><td>Python Developer</td><td>LTIMindtree</td><td>India (Remote)</td><td>ltimindtree</td><td>India (Remote)</td><td>Remote</td></tr><tr><td>https://www.linkedin.com/jobs/view/4279278278/?eBP=BUDGET_EXHAUSTED_JOB&refId=VTdxZjP6Td02BrgNGEyD5A%3D%3D&trackingId=uYbbAZHlkuRTf55jYHMLyA%3D%3D&trk=flagship3_job_collections_leaf_page</td><td>Machine Learning Engineer</td><td>Tecnotree Corporation</td><td>Bengaluru, Karnataka, India (Hybrid)</td><td>tecnotree corporation</td><td>Bengaluru</td><td>Hybrid</td></tr><tr><td>https://www.linkedin.com/jobs/view/4274305695/?eBP=BUDGET_EXHAUSTED_JOB&refId=VTdxZjP6Td02BrgNGEyD5A%3D%3D&trackingId=fJC15olWXCub2haFX3DtcQ%3D%3D&trk=flagship3_job_collections_leaf_page</td><td>Associate AI Developer (Remote | Flexible Hours)</td><td>Pravartan</td><td>India (Remote)</td><td>pravartan</td><td>India (Remote)</td><td>Remote</td></tr><tr><td>https://www.linkedin.com/jobs/view/4279997390/?eBP=BUDGET_EXHAUSTED_JOB&refId=VTdxZjP6Td02BrgNGEyD5A%3D%3D&trackingId=2j8NIR5PQefhdtHQD1wuRA%3D%3D&trk=flagship3_job_collections_leaf_page</td><td>SQL or Python Developer</td><td>HRM Counsel Private Limited</td><td>India (Remote)</td><td>hrm counsel private limited</td><td>India (Remote)</td><td>Remote</td></tr><tr><td>https://www.linkedin.com/jobs/view/4275952439/?eBP=CwEAAAGYgRNpqyHT-WEjS04882Hj9u_yQpEwLAaYqLnkdpMaPI9Wg_Iac36A6p4Iy5bk6RvUNHk3JMh-ZWrIgs3JGFsSjhzAJfdaO0TjVLErO5QWcqIf4HufnKC_roMTu5pGpBSArCNMXcv8UNVlq8vThrmfV7w8jFj-ZB55PsRH_zEy-24RWZ2cKLvbT5eRQG93R6k1m2wGEOo_eRpp5D6-HBqlYEIW5hjAX3tuPVmlSXCWgV6Lo4o-XUXmqJ9AHM_7lToHxLOBsJhvlBQ9TnJzBOuf6JshVnchADnj9ad9eQoS1MClf7ih7S6_UX9dpk9zYmDGeK9HDi54BpF5Q7Y3Yo0bshd2V7-tXh4RxADm-jdoXodWc5nImV6a9j2iB-3yGFXqnYCa3zx3dY8aCXMpA1dTt8mJl97f3f-GKaOTE5GGDpMV7Z3SgEN1SAFU0sKWpTOwIXQIBKNUqWALq53mqeRaAsxeJGKverevXxhdbT28cnx2iPaNVF0OYFPcczgDZrnYEScrKstcClOdakatOKg&refId=jnPkbUaJgtXfmJknzztCHw%3D%3D&trackingId=IiWTfDrqeLuyzXP8wDIhqw%3D%3D&trk=flagship3_job_collections_leaf_page</td><td>Data Scientist</td><td>AB InBev GCC India</td><td>Bengaluru, Karnataka, India (On-site)</td><td>ab inbev gcc india</td><td>Bengaluru</td><td>On-site</td></tr><tr><td>https://www.linkedin.com/jobs/view/4280156304/?eBP=BUDGET_EXHAUSTED_JOB&refId=jnPkbUaJgtXfmJknzztCHw%3D%3D&trackingId=T9T6O7mFfNe749lbQNoeDg%3D%3D&trk=flagship3_job_collections_leaf_page</td><td>Remote Data Science Analyst - 17843</td><td>Turing</td><td>Bengaluru, Karnataka, India (Remote)</td><td>turing</td><td>Bengaluru</td><td>Remote</td></tr><tr><td>https://www.linkedin.com/jobs/view/4279597899/?eBP=CwEAAAGYgRNprJ7uURE3YHs3KKePwQuCG8SmvwHcI_C6zS1vfVzTIlh3hVa-7bMfEI1B9UwC7e9Da8XXaMFzqUbr9zPz4jPIGApqqrNgVyiNfbuoe0HxY0MlYkBepQ1urxIgdNGl2n7N3SeqazdpmHml7iGKSgUt9_a0DJsU2OJK34RkUh1mMPa-_gmSCm0xuV1G7HTWbJOzEgmyAWd3Z_OjmoA78v_6ZJcv5SMclsmOWK7_hFBIHR9vSRp3DNdCVaNRha2aXirFv7A7PyRv7q1f5vak_-miarZNCZvOHdhK4YE9rxO6knO_sI2KQsFRvy2_TuhQy9Fin8FQlSoE4BAnJIfgmy-BkPoQOx4uSKqCJLvdFfZw1hq2kdbB_3FUnmVb-r_2XPXp47tx2CRET3eFmvHNl6ObAAb6CP0lKZI-vJBdaFmFi-wN0LL4lahTkEDF517_pEmHYhpy813BsCRwAqIENxWYnmv_r_OptZvmwCIz8k8dTtIdFkzj2LpQuIg8d1GZ4CMNQ8ALEOhx0BrxOHICwg&refId=jnPkbUaJgtXfmJknzztCHw%3D%3D&trackingId=OT6kt4M4ESPfkhyKrDQVVg%3D%3D&trk=flagship3_job_collections_leaf_page</td><td>3D Computer Vision Intern</td><td>Sony Research India</td><td>India (Remote)</td><td>sony research india</td><td>India (Remote)</td><td>Remote</td></tr><tr><td>https://www.linkedin.com/jobs/view/4272868090/?eBP=CwEAAAGYgRNprBnKCDkS6HutgFZAHbFwjKz_mxCDEc4DKsm5ldmrH_iDFPLDdoU98OPfsrmNBwXZFaDOl2MnBgUyLPUUOO_99W-KWbJaX7NqjBxrBROEtcQ0AxIgfeUwyW8IzabHyjMr42UdHpaIOVpk4LJrvaoeDprmYBucBryTmpAZ7QzkaBikcu1uoUvg82-2uxhZkis7JFEDH0DvS911eFRO_M1gZJSPfJlzuphp5g10GaDtX5HCoaQKZHE3KY_y2Hg0nPrW40tn2gthsxhHxek36o_danT5zIX6eSVrHt3cr1pSu2-kY0qOIhOrzaKgeDTgIsn7LzndfvgSaFiZLvmQoZfjNICSjuNYn_XJ782wxIyMg_OYYXcFqc-dOP35hvsSsk-jH_pnXgoGNA2wLYh2uyUuPm7sq4mo5hmGszOxZMAQ7PXkyP8BVo9ewOC4KHHboyJ5DQ9n2Jp8pC-nVmFy75IYkm3hehPZJLiPx0JSEU-VvxrHlXugCxT1NbNqiYZrUB5AK97EdmBgd9S8gj6_1Q87&refId=jnPkbUaJgtXfmJknzztCHw%3D%3D&trackingId=m4W7sy9k9qaPNDo71rpXpg%3D%3D&trk=flagship3_job_collections_leaf_page</td><td>Machine Learning Engineer</td><td>Capgemini</td><td>Bengaluru, Karnataka, India (Hybrid)</td><td>capgemini</td><td>Bengaluru</td><td>Hybrid</td></tr><tr><td>https://www.linkedin.com/jobs/view/4280599999/?eBP=BUDGET_EXHAUSTED_JOB&refId=jnPkbUaJgtXfmJknzztCHw%3D%3D&trackingId=Ik53abofLEWdZv%2F1KPL%2F2Q%3D%3D&trk=flagship3_job_collections_leaf_page</td><td>AI Engineering Intern (SDE)</td><td>Darwix AI</td><td>Gurugram, Haryana, India (On-site)</td><td>darwix ai</td><td>Gurugram</td><td>On-site</td></tr><tr><td>https://www.linkedin.com/jobs/view/4277927708/?eBP=CwEAAAGYgRNprOP_oooAdlJczu9h3w2v6OUArF5QTtQ7c2XXsHXnbzlJNFDwTOXzBgNKtshb_I8au0mhJaNaph73o-Sq3kTmC0mTuTMcx5tsiN9cw1j6UlfgnMAjky6vU6BJJgSYEidJKgYTiRnz2SiRUs2YdefReTWdrZEuSKhcU49AImlIBw1elcmM3o0ikG_YR_I1VgwE7S-d9fWCRHLOCVALQ6AUgWJqBpvgmcppZS2R5WTQJE9JjevIoJQQqowZS7J7O85d6xpx6lPkvfnTzuvk2y0IcpoUzcSxdxx63aUs6eXhEFZnkpUUER_PFGZ7LmjSgIceC5vVETS89V6D4bufUxNsUaeRp6tzpWV0vhkSq7ghEmXxs0x25Hj_UuPqg5fdux97Ad_AjQ4NiOoGd1Qij7-6VQ-V0iS0lBI22hHTPQc-a0cyiZo6zxcVGoMStNhof5NAa3ReUyMTXVRe1b0gSojyi5bynmWu54EHCwCqJgmnvHNLdnvf0bvy5hFP0bD272U2-G-j1nJsZEkPRNWJNQ&refId=jnPkbUaJgtXfmJknzztCHw%3D%3D&trackingId=kpze6nqcO4zCHyRrbznPhw%3D%3D&trk=flagship3_job_collections_leaf_page</td><td>Machine Learning Engineer</td><td>Insight Global</td><td>India (Remote)</td><td>insight global</td><td>India (Remote)</td><td>Remote</td></tr><tr><td>https://www.linkedin.com/jobs/view/4222830764/?eBP=CwEAAAGYgRNprAnr9aF9EkqD1FwbnSS3riVgHFL-xuCtKJRPjLWqeJPTdW0MovTKXX8l1xv8WmT8PhmElm37SglA7Gbg3jJwrnZ4K8P8BUYREm8-U9kIOklwjcPispRP0bHDBbDlocu5HT3x-g6JIjGNaNAFh0Ct87ml0bet3_U4qEHcWMCCf3G1n_77pK_rnzoVtwgQ0VDvzwEDXK33Nv3Oni5Wo5_E1mFVzCACpPROP5SccJJPxz5st_fwUsc--R-SUfaysP_bkbW7cUfJgIB0NEYuPBnPAXDf9IP5Z2r_-9kSaRAD7ugUK_Q87-vdD9IaFM2pA8BjoDahTj0L1tc39IEMFTCSSSINAL9FLkfTxyMLZv8Wuy4w95F6VCh_2f2orGs9KqoTeGl5GYE_LB9VKVeOiIq2jB1VdpA-IBGOk4UnG7tyTDorBZqJoICim7Kcf9ex43w3kRHAToCl-Vqv-kAweAsvwFodK7Kr5RGGuM8M6yrQK6pnKnw5BLQ2Z2tvd9R235oLRAVMVbnM84n3gvaG8Zlu&refId=jnPkbUaJgtXfmJknzztCHw%3D%3D&trackingId=EbKQwPsh7xIkxjtR%2FYQKrw%3D%3D&trk=flagship3_job_collections_leaf_page</td><td>Data science intern</td><td>EVERSANA</td><td>Bengaluru, Karnataka, India (On-site)</td><td>eversana</td><td>Bengaluru</td><td>On-site</td></tr><tr><td>https://www.linkedin.com/jobs/view/4277368921/?eBP=CwEAAAGYgRNprer7s6kT-XxKQaF21PwnVIuzArtqRFD4649C6G5_HhT_1aS2fQaYahV46VNP39vVzuEgFTbtS4jQWB_7Sv7Ute8nXHrl5f1vjmKQjGDcqVyIj6gqkxp51e_Pn8qK3nMfjM_GOFbXzgmI5OAAFxxQ16cEMkHy1ztdL83_ip9Uu2W-ROM3Pu1MomnjNFjZcaexvieEWuKsywKoLH7MZhkTmYFW7gjNAnc72PXTvRY3ZVLG_5xcxbUx8HjZKaIQ6MKf5E25ZkMuvF-UO8MgRbrZ9xZJtnU_Icb6hUUdvUtc_IbEzzfe3jJmryKiHa1mdr6-vEfaKT4EilVD1-6dpcZ0lq9Eub1drlJl74BfvZECDzgMoAE0BlNESB6NouZI45ld6br3YVaCOGS2EpAkqvzuGbGPnn6-BJ4rvRPa0rsAyHkD0Vc6EwxGvA9bPhhw5u-ntdyH4myFgWK6_hFT5w4Z-9JUWAgD5mx7cr7fcMFqIrg3Be4He7OKVXNp91XGJiYyaZmwBVonIotzIXE6Ag&refId=jnPkbUaJgtXfmJknzztCHw%3D%3D&trackingId=AnIAsKIo9zVSD7DvHLzcDA%3D%3D&trk=flagship3_job_collections_leaf_page</td><td>Digital Champaign Internship</td><td>HDFC securities</td><td>Mumbai, Maharashtra, India (On-site)</td><td>hdfc securities</td><td>Mumbai</td><td>On-site</td></tr><tr><td>https://www.linkedin.com/jobs/view/4274097889/?eBP=CwEAAAGYgRNprQRKbBkb21jUfD2RLxds_f9OBopl9Z-IRr8LXqNd6UKi4Yytfk8EGYmfWCbsEmVol6K6p0iJvMxESg_HeveGXvrKgcZ5L3n0kjzm_ZAZ_0gCPxvPsVx6bzVdnpZT7sYIRXUYjuxjIUied1sraFSw89622eJ9-vKZt0OEGALTPeM6ZqZCQ3LMDsb2NoR2ozoF-5ysHXUGs2s1HPxUS6q1g6zewc1PKXho2p4_dSiT8QLqWD0i0NcZpzy84fvpxRpH1bVyvOEFPQhEG6II8ADuSWsW7liDA3dHejodc2ggSuemWpvk11QoTz8TmBnbR5Htxms4lyK4hmk1OBwBFmaW5O7uvDp0cJERGwe73AYf82qkCdfCf5cX46idm36Xagoub52A1LqIR8RQNoFig88bBS73bl-wFxIWpPptXLzZJpyh1bt8jBC10WwBLvZkMR9tYb9FMRkd3VBm1_g5rPpJ--8Uzmuhn8GUeQjIncwrK40-qNgcUjeb3NjlrZfThMBVK3xRLd7yYnUFNrCH9g&refId=jnPkbUaJgtXfmJknzztCHw%3D%3D&trackingId=jJNRm%2BYr7Q74Y%2BY4QYXD3Q%3D%3D&trk=flagship3_job_collections_leaf_page</td><td>Data Scientist</td><td>Pentair</td><td>Noida, Uttar Pradesh, India (Hybrid)</td><td>pentair</td><td>Noida</td><td>Hybrid</td></tr><tr><td>https://www.linkedin.com/jobs/view/4274697931/?eBP=BUDGET_EXHAUSTED_JOB&refId=jnPkbUaJgtXfmJknzztCHw%3D%3D&trackingId=b%2FFOO62TY%2BIrjYqTPhpmqA%3D%3D&trk=flagship3_job_collections_leaf_page</td><td>Fresher Cloud Engineer</td><td>CryptoChakra</td><td>India (Remote)</td><td>cryptochakra</td><td>India (Remote)</td><td>Remote</td></tr><tr><td>https://www.linkedin.com/jobs/view/4277577862/?eBP=BUDGET_EXHAUSTED_JOB&refId=jnPkbUaJgtXfmJknzztCHw%3D%3D&trackingId=TmdIiTagaheh8MU7Gd%2FL2A%3D%3D&trk=flagship3_job_collections_leaf_page</td><td>Full Stack Engineer</td><td>Orbital</td><td>Hyderabad, Telangana, India (On-site)</td><td>orbital</td><td>Hyderabad</td><td>On-site</td></tr><tr><td>https://www.linkedin.com/jobs/view/4280159123/?eBP=BUDGET_EXHAUSTED_JOB&refId=wL%2FRMpLMnaJ0PmhOiDKXgA%3D%3D&trackingId=94y1ZHcxTdsmNJo5kSZtRQ%3D%3D&trk=flagship3_job_collections_leaf_page</td><td>Remote Data Science Analyst - 17843</td><td>Turing</td><td>Hyderabad, Telangana, India (Remote)</td><td>turing</td><td>Hyderabad</td><td>Remote</td></tr><tr><td>https://www.linkedin.com/jobs/view/4279992774/?eBP=BUDGET_EXHAUSTED_JOB&refId=wL%2FRMpLMnaJ0PmhOiDKXgA%3D%3D&trackingId=kImrvh6mYAzViXgBqWIeuw%3D%3D&trk=flagship3_job_collections_leaf_page</td><td>Speech Generation Intern</td><td>Sony Research India</td><td>Bengaluru, Karnataka, India (Remote)</td><td>sony research india</td><td>Bengaluru</td><td>Remote</td></tr><tr><td>https://www.linkedin.com/jobs/view/4280776208/?eBP=BUDGET_EXHAUSTED_JOB&refId=wL%2FRMpLMnaJ0PmhOiDKXgA%3D%3D&trackingId=EHXgxqpbXfDHfsbRkKHxjA%3D%3D&trk=flagship3_job_collections_leaf_page</td><td>Python Data Analyst</td><td>Persistent Systems</td><td>Bengaluru, Karnataka, India (On-site)</td><td>persistent systems</td><td>Bengaluru</td><td>On-site</td></tr><tr><td>https://www.linkedin.com/jobs/view/4275076258/?eBP=BUDGET_EXHAUSTED_JOB&refId=wL%2FRMpLMnaJ0PmhOiDKXgA%3D%3D&trackingId=%2BWunzS%2F5uot4kOkMFZR1jA%3D%3D&trk=flagship3_job_collections_leaf_page</td><td>Full Stack Developer SDE 1</td><td>NxtWave</td><td>Hyderabad, Telangana, India (On-site)</td><td>nxtwave</td><td>Hyderabad</td><td>On-site</td></tr><tr><td>https://www.linkedin.com/jobs/view/4277562941/?eBP=CwEAAAGYgRQ36KJWeNRiTl4P1fOxEdXUglM7W0wWnlj-FUD4OvaatfSHVGToct-V6k-FTdD6vf9eBfgTvfz_CjlyZQoC69e-Qt9RC8t3lwYCa6lNFBK-bvgf-OovgqJeuRptFUf_xqcDhISYZwY43By2tTgGhNLYZpMreCTfWLJegs5rhro37rbumq2u6kahE6zBKHFpZ5LyiEr7Tb499P0Sze5T8DRJEkEHB7ESzoGdf0lyV6eiqSuzQG7DycDW7uwbIBM6CX1y2pH93yqRNqzOMhurzKKB_1iJVY6YS9tEHRAojOHfGqb24hDgL-GZd8e6TQGYSVlcm70Wo7noiGYpZPa-qMZJK2wD0w3jgaM1O403HF7lPRPTgU8V6ZP4o-7JPCVqGCdvDwASQnppvl4XTeM50fYTcavy61vWNSszNy9_cI4AkyH7TTwoQkkbFBtiz6iNYjOTKMxvmK_uwIEYWl74S6tiy1PHTKjTroqoBreISak5Bi2UtvuzssTmkN6scRMjT8z1r7MQXf9qsayQ6qEA7MzCQbM&refId=wL%2FRMpLMnaJ0PmhOiDKXgA%3D%3D&trackingId=zW0MpxhxrZI3Z0iA8iI3Lg%3D%3D&trk=flagship3_job_collections_leaf_page</td><td>AI - ML</td><td>WNS</td><td>Noida, Uttar Pradesh, India (On-site)</td><td>wns</td><td>Noida</td><td>On-site</td></tr><tr><td>https://www.linkedin.com/jobs/view/4280831022/?eBP=BUDGET_EXHAUSTED_JOB&refId=wL%2FRMpLMnaJ0PmhOiDKXgA%3D%3D&trackingId=5bOjCxntA6c0UczcZKotvg%3D%3D&trk=flagship3_job_collections_leaf_page</td><td>Full Stack Engineer – AI/ML</td><td>2Base Technologies</td><td>Bengaluru, Karnataka, India (On-site)</td><td>2base technologies</td><td>Bengaluru</td><td>On-site</td></tr><tr><td>https://www.linkedin.com/jobs/view/4273880274/?eBP=CwEAAAGYgRQ36GdbbgjA4YX2rUBvzoOaln0-D5vjRna3N9-iZ1lnI5vikD8T-NZPb-RNb5ovwVs--4Cgx-Z5WhHJdwmvtzxKZtJ0wUjg7ROxEeNQwqXReXIDhlar7mfWyQr4-DPb_U7xgIQVWg9hJ7gOUuOoJnA_6XPxTfXWUNOexvT_qkg3ucd0hT1uotEH4__jbBJldqXDCAdFtnP0RGIZuaVrtJFw3-2bPUfwpSKdz1J5wAHDMWTz9fWTncqqgRXDxtGHUn8m8U3L5K2_ZuPtYGhDW-rx6RHVvGghxFmh9aQdBda99tX1On7D0UnOtk8xmEr3u0DEBO2cwtKzH4r6b3LcZTDZ-Z1SY_x-hohx7eZNBCzx4czuHVXzGlYn7yEJJ9p5AYvfA5IGMI9gC0IralcK7lXENnQVripR7DCjeP6tvlh8x7PYZmahvQwR3OlmcNK2LNo6tmOUp3Edka2_QLHvLGMhok6AJigGZgg9uXXChgA&refId=wL%2FRMpLMnaJ0PmhOiDKXgA%3D%3D&trackingId=MVIyF4JFHcOa6FGm47LOXg%3D%3D&trk=flagship3_job_collections_leaf_page</td><td>AI Engineer</td><td>Zenduty</td><td>Bangalore Urban, Karnataka, India (On-site)</td><td>zenduty</td><td>Bangalore Urban</td><td>On-site</td></tr><tr><td>https://www.linkedin.com/jobs/view/4219931313/?eBP=CwEAAAGYgRQ36ETVhwHJ1MGAobk8UMYim2dc_9dihoaYx5f8WqdJY4gSSjREJF6MiQuh6uJRw3LKAaUN1SR2_6eWHnKSRuYPPfuR0piYsqNxPBt8eGS-hDo3lbJM6Ni-Kamhf-VD-muRhHj7_JOqjXXY6549a7Bdja4sX38-yiX8ppQZlJR9XSzruOsWNm88EuTpwu3JsdSYkjpkyF8QjLgNhZSA-OjMvF9IhNY7ZZbAJwm08GQsYNRg0lOrBX7LoV68qmzm4Hvnb6dp8PMb_jvJg6PiLY2IRebjvqu4NkPakDYtUnJafqEJoEhFxyhEr-xeOTiNjlPuz84rrgQxlJQkjwdCND_lBelQ50bHKt2peqPvgwmkR02s1p6KpG3goe2ib4btjom_39ZYzG8cQrtSFkaf2LlFu4vFMpFW3Sk0U5Q8xf1jehwx6q5Nd7D0VuvDSxlclhCFNBG3X4CfaXjX2iIsGBuEpigDly1mrk_HXSLGYWp03_4IERkiQ8Rec9xp23olkkHUrfgyEOG_QENAr52dKvF8&refId=wL%2FRMpLMnaJ0PmhOiDKXgA%3D%3D&trackingId=9u1%2FGL3Xr38rRkB0FsVS6Q%3D%3D&trk=flagship3_job_collections_leaf_page</td><td>Software Engineer (AI / NLP / ML)</td><td>Nextiva</td><td>Greater Chennai Area (Hybrid)</td><td>nextiva</td><td>Greater Chennai Area (Hybrid)</td><td>Hybrid</td></tr><tr><td>https://www.linkedin.com/jobs/view/4279543215/?eBP=CwEAAAGYgRQ36UlOYVyTOZF_hYfxTDWx5r1tIRN-hCtFStUXTBJ-Z4EHYpIIstgxiA6WO1yEUNYF85Guk9ASZAm9IdzobkyrafGXWtI4d3gYAKAz7WYmcJM1oEcSF3AVnEqgnsCKC0NIa5bywNYhVvAvV7HW-Fcat9Sb3ZKozwotvE9u_QlOKaSnya9lmz9EyFm4xWqicvFDhgNIY2jtQ2C6snx8_SnKPkstorBuJoFRFC_j0kmv0AlaD9vXRILdL_OJRY1wKx07k_f4jx4tSPvTC6Q6MBjiFN4YXg5yUPzZsqsD2QbTfwGfHMXERv6fUWRq8jKREj7yC3Fke0dV8-QAEd0poJip6RHAqobjzZ_QTh32zticN6gnHLuGZ9tuc370aApQUxAVwUkQ3VQoAKnXCwMuFflqDL5-XYp3ZPlKTFvAEHPHXJZEiVWzdI0wqEPQZPtV4ZId5RtKAKVBelhDxnCNebcIrKjZ7i4VMGAGeNyQDwJ-XqOES1dW2Mbyv3uI0kb4g90xN9ePDqDGvLW3VI4jykrYY8E&refId=wL%2FRMpLMnaJ0PmhOiDKXgA%3D%3D&trackingId=SM83wi2ga4rRTDNC%2FmKhUw%3D%3D&trk=flagship3_job_collections_leaf_page</td><td>Data Scientist II</td><td>Talkdesk</td><td>Bengaluru, Karnataka, India (On-site)</td><td>talkdesk</td><td>Bengaluru</td><td>On-site</td></tr><tr><td>https://www.linkedin.com/jobs/view/4275972625/?eBP=CwEAAAGYgRQ36fbQnx5QxkgMAUj13mmKBsQtKKOFRYaG95z9FdG-Eb53i0Oun4LOgQMgxCkif3giCM514RqQYw1ctItO7lDBskQVQayMD7G1UACKCHxv5L9PBwiTt4Y-b_T-rFOc1MEc6-Kg4q8i6JzQvUfohUrFS9ULMtxCDs_ekVGaDVohU9PWmXmT6v7C-Tx2Jg7rz91tOsRyLiLHphbQsFC-H6-1cLeLEV2X06RsxCUKhPLnNCjhRGpYWENu2E3LRzBWYqYqzRy4CHnVoKjrzFSZmX2Z8Qc4bhSWIEj3IRIk7nP96GJexOtYCmKkG6t6K2e5jZ3cMDmCreo2XuY5Sk5K2NqGmT3Q4sUTlSFkJ87fSnDKIum3DTcuFHCgS8wghD88OAZP9am4UU4VYChvChas-cyLTsmlHSaRIMVHQXOyeGQZ7xczJK1Vdy671NX8xZoSoR7qr_DXAooeiPnMqM2ymm_8WXCuVnMTLh_GBQEF1ITnWyKRIetF9UNwpj5S9AaoK1tIc3iE9ltKvC0nCMZWBdqX&refId=wL%2FRMpLMnaJ0PmhOiDKXgA%3D%3D&trackingId=pEYLZvwd3MzmQGvAnirMjg%3D%3D&trk=flagship3_job_collections_leaf_page</td><td>Data Analyst</td><td>Newsweek</td><td>India (Remote)</td><td>newsweek</td><td>India (Remote)</td><td>Remote</td></tr><tr><td>https://www.linkedin.com/jobs/view/4277363295/?eBP=BUDGET_EXHAUSTED_JOB&refId=wL%2FRMpLMnaJ0PmhOiDKXgA%3D%3D&trackingId=2cLqtEczLm%2B40hNj6AHMRQ%3D%3D&trk=flagship3_job_collections_leaf_page</td><td>AI/ML Engineer</td><td>Grow Your Staff</td><td>India (Remote)</td><td>grow your staff</td><td>India (Remote)</td><td>Remote</td></tr><tr><td>https://www.linkedin.com/jobs/view/4280159123/?eBP=BUDGET_EXHAUSTED_JOB&refId=wL%2FRMpLMnaJ0PmhOiDKXgA%3D%3D&trackingId=94y1ZHcxTdsmNJo5kSZtRQ%3D%3D&trk=flagship3_job_collections_leaf_page</td><td>Remote Data Science Analyst - 17843</td><td>Turing</td><td>Hyderabad, Telangana, India (Remote)</td><td>turing</td><td>Hyderabad</td><td>Remote</td></tr><tr><td>https://www.linkedin.com/jobs/view/4279992774/?eBP=BUDGET_EXHAUSTED_JOB&refId=wL%2FRMpLMnaJ0PmhOiDKXgA%3D%3D&trackingId=kImrvh6mYAzViXgBqWIeuw%3D%3D&trk=flagship3_job_collections_leaf_page</td><td>Speech Generation Intern</td><td>Sony Research India</td><td>Bengaluru, Karnataka, India (Remote)</td><td>sony research india</td><td>Bengaluru</td><td>Remote</td></tr><tr><td>https://www.linkedin.com/jobs/view/4280776208/?eBP=BUDGET_EXHAUSTED_JOB&refId=wL%2FRMpLMnaJ0PmhOiDKXgA%3D%3D&trackingId=EHXgxqpbXfDHfsbRkKHxjA%3D%3D&trk=flagship3_job_collections_leaf_page</td><td>Python Data Analyst</td><td>Persistent Systems</td><td>Bengaluru, Karnataka, India (On-site)</td><td>persistent systems</td><td>Bengaluru</td><td>On-site</td></tr><tr><td>https://www.linkedin.com/jobs/view/4275076258/?eBP=BUDGET_EXHAUSTED_JOB&refId=wL%2FRMpLMnaJ0PmhOiDKXgA%3D%3D&trackingId=%2BWunzS%2F5uot4kOkMFZR1jA%3D%3D&trk=flagship3_job_collections_leaf_page</td><td>Full Stack Developer SDE 1</td><td>NxtWave</td><td>Hyderabad, Telangana, India (On-site)</td><td>nxtwave</td><td>Hyderabad</td><td>On-site</td></tr><tr><td>https://www.linkedin.com/jobs/view/4277562941/?eBP=CwEAAAGYgRQ36KJWeNRiTl4P1fOxEdXUglM7W0wWnlj-FUD4OvaatfSHVGToct-V6k-FTdD6vf9eBfgTvfz_CjlyZQoC69e-Qt9RC8t3lwYCa6lNFBK-bvgf-OovgqJeuRptFUf_xqcDhISYZwY43By2tTgGhNLYZpMreCTfWLJegs5rhro37rbumq2u6kahE6zBKHFpZ5LyiEr7Tb499P0Sze5T8DRJEkEHB7ESzoGdf0lyV6eiqSuzQG7DycDW7uwbIBM6CX1y2pH93yqRNqzOMhurzKKB_1iJVY6YS9tEHRAojOHfGqb24hDgL-GZd8e6TQGYSVlcm70Wo7noiGYpZPa-qMZJK2wD0w3jgaM1O403HF7lPRPTgU8V6ZP4o-7JPCVqGCdvDwASQnppvl4XTeM50fYTcavy61vWNSszNy9_cI4AkyH7TTwoQkkbFBtiz6iNYjOTKMxvmK_uwIEYWl74S6tiy1PHTKjTroqoBreISak5Bi2UtvuzssTmkN6scRMjT8z1r7MQXf9qsayQ6qEA7MzCQbM&refId=wL%2FRMpLMnaJ0PmhOiDKXgA%3D%3D&trackingId=zW0MpxhxrZI3Z0iA8iI3Lg%3D%3D&trk=flagship3_job_collections_leaf_page</td><td>AI - ML</td><td>WNS</td><td>Noida, Uttar Pradesh, India (On-site)</td><td>wns</td><td>Noida</td><td>On-site</td></tr><tr><td>https://www.linkedin.com/jobs/view/4280831022/?eBP=BUDGET_EXHAUSTED_JOB&refId=wL%2FRMpLMnaJ0PmhOiDKXgA%3D%3D&trackingId=5bOjCxntA6c0UczcZKotvg%3D%3D&trk=flagship3_job_collections_leaf_page</td><td>Full Stack Engineer – AI/ML</td><td>2Base Technologies</td><td>Bengaluru, Karnataka, India (On-site)</td><td>2base technologies</td><td>Bengaluru</td><td>On-site</td></tr><tr><td>https://www.linkedin.com/jobs/view/4273880274/?eBP=CwEAAAGYgRQ36GdbbgjA4YX2rUBvzoOaln0-D5vjRna3N9-iZ1lnI5vikD8T-NZPb-RNb5ovwVs--4Cgx-Z5WhHJdwmvtzxKZtJ0wUjg7ROxEeNQwqXReXIDhlar7mfWyQr4-DPb_U7xgIQVWg9hJ7gOUuOoJnA_6XPxTfXWUNOexvT_qkg3ucd0hT1uotEH4__jbBJldqXDCAdFtnP0RGIZuaVrtJFw3-2bPUfwpSKdz1J5wAHDMWTz9fWTncqqgRXDxtGHUn8m8U3L5K2_ZuPtYGhDW-rx6RHVvGghxFmh9aQdBda99tX1On7D0UnOtk8xmEr3u0DEBO2cwtKzH4r6b3LcZTDZ-Z1SY_x-hohx7eZNBCzx4czuHVXzGlYn7yEJJ9p5AYvfA5IGMI9gC0IralcK7lXENnQVripR7DCjeP6tvlh8x7PYZmahvQwR3OlmcNK2LNo6tmOUp3Edka2_QLHvLGMhok6AJigGZgg9uXXChgA&refId=wL%2FRMpLMnaJ0PmhOiDKXgA%3D%3D&trackingId=MVIyF4JFHcOa6FGm47LOXg%3D%3D&trk=flagship3_job_collections_leaf_page</td><td>AI Engineer</td><td>Zenduty</td><td>Bangalore Urban, Karnataka, India (On-site)</td><td>zenduty</td><td>Bangalore Urban</td><td>On-site</td></tr><tr><td>https://www.linkedin.com/jobs/view/4279273971/?eBP=CwEAAAGYgRQ36HcC61SuAcAS2snyYNEPsiAOHIsdXe4s7KF2-bICtaT3I3RK5t9J6nmjQ2dgvkjVu90zBDbxuqJZ591TrEj2J1kFtkC7C4U7mWQwCkyggpaW3KejlB17XdVk57fM2cQhHfuO8NfYCsnuDml2I8Vxy8M3QXHPvQ_x_uZ7MEcTrODfYVpgi95bpIHXbv0CdBF7a8QFbzUBBF1avK6q307hkkov3cuKvy0sF4_zOZsxxwWrPuM8b_G2AOh30zLqGXFkrCSvXybpwEQY0Y3INb6dT41DHbhtOLQvK4ydkwBTepvGKffHV500x6P3WQKHTq9VIBWIKme9LdYCr70TQ9LFleB72i8uwxFvdSXWmdj02q9Eig6wBMD8eT0ukoYP9U_6F81mSCbcgugzHXYg1RCpOf3J5jNnRpgcZAYGQXQWsdChmbStBTG9oq9TM5p57xRy1R6qCbSJIy6Lmyy91PEqt-G-NGcCNTC5XIQBe2o1uYlDzp7RXiLviz78ZpUmWsrLFBE7cI01WIKj_NM&refId=wL%2FRMpLMnaJ0PmhOiDKXgA%3D%3D&trackingId=TaayOEKtud5QcgfcEDO1%2FQ%3D%3D&trk=flagship3_job_collections_leaf_page</td><td>Python Developer with Javascript and Cloud Environment</td><td>Ampstek</td><td>Bengaluru, Karnataka, India (On-site)</td><td>ampstek</td><td>Bengaluru</td><td>On-site</td></tr><tr><td>https://www.linkedin.com/jobs/view/4219931313/?eBP=CwEAAAGYgRQ36ETVhwHJ1MGAobk8UMYim2dc_9dihoaYx5f8WqdJY4gSSjREJF6MiQuh6uJRw3LKAaUN1SR2_6eWHnKSRuYPPfuR0piYsqNxPBt8eGS-hDo3lbJM6Ni-Kamhf-VD-muRhHj7_JOqjXXY6549a7Bdja4sX38-yiX8ppQZlJR9XSzruOsWNm88EuTpwu3JsdSYkjpkyF8QjLgNhZSA-OjMvF9IhNY7ZZbAJwm08GQsYNRg0lOrBX7LoV68qmzm4Hvnb6dp8PMb_jvJg6PiLY2IRebjvqu4NkPakDYtUnJafqEJoEhFxyhEr-xeOTiNjlPuz84rrgQxlJQkjwdCND_lBelQ50bHKt2peqPvgwmkR02s1p6KpG3goe2ib4btjom_39ZYzG8cQrtSFkaf2LlFu4vFMpFW3Sk0U5Q8xf1jehwx6q5Nd7D0VuvDSxlclhCFNBG3X4CfaXjX2iIsGBuEpigDly1mrk_HXSLGYWp03_4IERkiQ8Rec9xp23olkkHUrfgyEOG_QENAr52dKvF8&refId=wL%2FRMpLMnaJ0PmhOiDKXgA%3D%3D&trackingId=9u1%2FGL3Xr38rRkB0FsVS6Q%3D%3D&trk=flagship3_job_collections_leaf_page</td><td>Software Engineer (AI / NLP / ML)</td><td>Nextiva</td><td>Greater Chennai Area (Hybrid)</td><td>nextiva</td><td>Greater Chennai Area (Hybrid)</td><td>Hybrid</td></tr><tr><td>https://www.linkedin.com/jobs/view/4279543215/?eBP=CwEAAAGYgRQ36UlOYVyTOZF_hYfxTDWx5r1tIRN-hCtFStUXTBJ-Z4EHYpIIstgxiA6WO1yEUNYF85Guk9ASZAm9IdzobkyrafGXWtI4d3gYAKAz7WYmcJM1oEcSF3AVnEqgnsCKC0NIa5bywNYhVvAvV7HW-Fcat9Sb3ZKozwotvE9u_QlOKaSnya9lmz9EyFm4xWqicvFDhgNIY2jtQ2C6snx8_SnKPkstorBuJoFRFC_j0kmv0AlaD9vXRILdL_OJRY1wKx07k_f4jx4tSPvTC6Q6MBjiFN4YXg5yUPzZsqsD2QbTfwGfHMXERv6fUWRq8jKREj7yC3Fke0dV8-QAEd0poJip6RHAqobjzZ_QTh32zticN6gnHLuGZ9tuc370aApQUxAVwUkQ3VQoAKnXCwMuFflqDL5-XYp3ZPlKTFvAEHPHXJZEiVWzdI0wqEPQZPtV4ZId5RtKAKVBelhDxnCNebcIrKjZ7i4VMGAGeNyQDwJ-XqOES1dW2Mbyv3uI0kb4g90xN9ePDqDGvLW3VI4jykrYY8E&refId=wL%2FRMpLMnaJ0PmhOiDKXgA%3D%3D&trackingId=SM83wi2ga4rRTDNC%2FmKhUw%3D%3D&trk=flagship3_job_collections_leaf_page</td><td>Data Scientist II</td><td>Talkdesk</td><td>Bengaluru, Karnataka, India (On-site)</td><td>talkdesk</td><td>Bengaluru</td><td>On-site</td></tr><tr><td>https://www.linkedin.com/jobs/view/4275972625/?eBP=CwEAAAGYgRQ36fbQnx5QxkgMAUj13mmKBsQtKKOFRYaG95z9FdG-Eb53i0Oun4LOgQMgxCkif3giCM514RqQYw1ctItO7lDBskQVQayMD7G1UACKCHxv5L9PBwiTt4Y-b_T-rFOc1MEc6-Kg4q8i6JzQvUfohUrFS9ULMtxCDs_ekVGaDVohU9PWmXmT6v7C-Tx2Jg7rz91tOsRyLiLHphbQsFC-H6-1cLeLEV2X06RsxCUKhPLnNCjhRGpYWENu2E3LRzBWYqYqzRy4CHnVoKjrzFSZmX2Z8Qc4bhSWIEj3IRIk7nP96GJexOtYCmKkG6t6K2e5jZ3cMDmCreo2XuY5Sk5K2NqGmT3Q4sUTlSFkJ87fSnDKIum3DTcuFHCgS8wghD88OAZP9am4UU4VYChvChas-cyLTsmlHSaRIMVHQXOyeGQZ7xczJK1Vdy671NX8xZoSoR7qr_DXAooeiPnMqM2ymm_8WXCuVnMTLh_GBQEF1ITnWyKRIetF9UNwpj5S9AaoK1tIc3iE9ltKvC0nCMZWBdqX&refId=wL%2FRMpLMnaJ0PmhOiDKXgA%3D%3D&trackingId=pEYLZvwd3MzmQGvAnirMjg%3D%3D&trk=flagship3_job_collections_leaf_page</td><td>Data Analyst</td><td>Newsweek</td><td>India (Remote)</td><td>newsweek</td><td>India (Remote)</td><td>Remote</td></tr><tr><td>https://www.linkedin.com/jobs/view/4277363295/?eBP=BUDGET_EXHAUSTED_JOB&refId=wL%2FRMpLMnaJ0PmhOiDKXgA%3D%3D&trackingId=2cLqtEczLm%2B40hNj6AHMRQ%3D%3D&trk=flagship3_job_collections_leaf_page</td><td>AI/ML Engineer</td><td>Grow Your Staff</td><td>India (Remote)</td><td>grow your staff</td><td>India (Remote)</td><td>Remote</td></tr><tr><td>https://www.linkedin.com/jobs/view/4278492716/?eBP=CwEAAAGYgRRFuFBhckZrAS5VudGiS-Z0tB6oFiunIjw8tVhEnswlRRUTdJeypIBWAPL9VD9YzC8baKTQ7vEZfb5kLNtvNiJWFnrD6_V316EXy-dU190WN2b7nmyqNta8uY9e6pbPdD0-nHWMflldZMYCH2yN-2yRmGJNf86QFMpIHwnXyVxL2VwZHKea50rQnwFRrXtvgb4_x83FUe8g2qXzOFIALMiV3BFFHLWM7NlBAFnXZxTRkSW87NZX_1xkrDbJaa1AvbaVvHJhR0Rwvpon0uPoJ2w-2LN89p3FW8v8pAEyNsigMdNHtfzTlkZIN2lhT9_dSn_lLyA58k0covtGtU4CiEFDRs_dk_X_px3pyqXxfT5uHUiuNA8rYA_eNHc2wg-OLx7YOd90UnmXuzUcEYN2_PF2do5TbRcEePLImWk1ZZJujIcn_bRdaQKRPXKhs7DhdOGt5p2ygm1D3cFMVro3yvm-Ieo0gEBL7HC04Ke04u5EdMybUpwych-3xMQf3on8yO9rjyBU0oS_wash24HdnS-i&refId=yGFNBlPxF21UuzeReqTmiQ%3D%3D&trackingId=lFXT5nwZJMtcX88C4yyZDg%3D%3D&trk=flagship3_job_collections_leaf_page</td><td>Data Scientist</td><td>Recro</td><td>Bengaluru, Karnataka, India (On-site)</td><td>recro</td><td>Bengaluru</td><td>On-site</td></tr><tr><td>https://www.linkedin.com/jobs/view/4256657158/?eBP=CwEAAAGYgRRFuPQjPdUnuXNbhSTUa3DsR2af5o5WRykksCD50bJa7vAMHr1AsnsK1SyEAbYyhzNfqCP1y8UuDJ4BVzmdvDf7nLXfOdcHvCnN24CM8VWYaGzDdt0M4X_OPsq5xRUutYRYdhJTY8vAQ0MuSp0nAuRsLg7xn6iRkvH3Znaj0dlVYAEPe6UN_e6BCIBiRBQfLE3bCAIXe8ieg_61odAtv8A_1qkPA0q1TEy8Mc_LYEarWWBovqgzDdO9j3puqSCFQuke-jNekmv6zJAfs4e04HLHGtgTcynB6KRo1fqkWmN7NqiurSeFU2l9UnAbhvd_TcEoC064bI1jsl4pKtzg_VV7hfRa49Fy6LBH07cx8dNaQwGkGFXjPtF8TWuYvCLzEuIYQN-jqVOkCkBErQLXqytsYghiqU3O5-_wL-cI51_s1ESyT8Da4lGcL9qjBWmvZBRuadY2SWwAfq3QgnPlLDmVr07HP5m8Zaab4JHQrzoo3G-379d4zac4SAX23H80ghXWI3HK6gyFdx0mhYlU-u3J&refId=yGFNBlPxF21UuzeReqTmiQ%3D%3D&trackingId=SYr7R7y0UMyI%2BmqkhBLKsQ%3D%3D&trk=flagship3_job_collections_leaf_page</td><td>Machine Learning Engineer</td><td>Wissen Infotech</td><td>Bangalore Urban, Karnataka, India (On-site)</td><td>wissen infotech</td><td>Bangalore Urban</td><td>On-site</td></tr><tr><td>https://www.linkedin.com/jobs/view/4277376537/?eBP=BUDGET_EXHAUSTED_JOB&refId=yGFNBlPxF21UuzeReqTmiQ%3D%3D&trackingId=4PWmG0XS4s2zVlY8p3E7tg%3D%3D&trk=flagship3_job_collections_leaf_page</td><td>Python Developer</td><td>Persistent Systems</td><td>Bengaluru, Karnataka, India (On-site)</td><td>persistent systems</td><td>Bengaluru</td><td>On-site</td></tr><tr><td>https://www.linkedin.com/jobs/view/4275634343/?eBP=CwEAAAGYgRRFuZpRI7CwmVXmLlcRPwNOp-7g2l_bGp9Z-pDM0WV_r-L-tvsdPTLHaEIHm5DEyOgqNw9FtDkQVKdPN4MAsJ1c3wQXsodk0TN2hJdNatxIWbhWhBeZMhznBxP_uKWVIwumKsZDCWHgczjvO3rnMhL-1cJwczKG7l18x2SBUokRyOySU3je8JE-r1JtFYoKU2ruDM6wY-Ut9_hrxZ4tpzX4BEG0MFUHYK55W2geybY4jHl3HjpNPWmJEaFIp66ITLQVqubVEZcsQ1wz8lpr_USr5i4ViJffwUAIpXLhuD7v58W44AVA0ifKsUIcsKXPry4L7bN-Gf0iOi85dHUuJ-4ekRRTZRGrnHMnaGSi9ORowZEEpWuNh1wpaSAzDgPEeEqQyuwwzb66VWJ0HwLt6mrDIQxN4BcNccY0VwZpAG2P24tX-j_gXKO4lOUz_xGdAm-QdlI9OLTJQHdUaCwaqdtguPrENTQTLixDsU1U-imps7SrKxBm8gkhLdgFQ7JNxwzejxoejcqiBB2WERRSHQnk&refId=yGFNBlPxF21UuzeReqTmiQ%3D%3D&trackingId=b8uVvbcs1fgYW95uq6InSQ%3D%3D&trk=flagship3_job_collections_leaf_page</td><td>Software Engineer</td><td>Concentrix Catalyst</td><td>Bengaluru, Karnataka, India (On-site)</td><td>concentrix catalyst</td><td>Bengaluru</td><td>On-site</td></tr><tr><td>https://www.linkedin.com/jobs/view/4279718145/?eBP=BUDGET_EXHAUSTED_JOB&refId=yGFNBlPxF21UuzeReqTmiQ%3D%3D&trackingId=ICwxkNOd8g8NFldyhMblSw%3D%3D&trk=flagship3_job_collections_leaf_page</td><td>Data Analyst</td><td>Circle K</td><td>Gurugram, Haryana, India</td><td>circle k</td><td>Gurugram</td><td></td></tr><tr><td>https://www.linkedin.com/jobs/view/4273852689/?eBP=CwEAAAGYgRRFuWTQZmkwvjo62kbbCEiUr9rixhYBvlaoReGdc-Rt6Z2-n7uVDYzKhJsS5t6GTc2pnQckn769pxqp5j2a7IsFe4IIq-5_li4d27u68EOQssdjB-Ou5nZCRgoLrbP02FeUB7c0aA1ioH0ZMEqzWvobh_MWXQwZbxCzq40EtHya9vNvfdYdMxTquq5pC-xDOzn0T3Pa5iBCrlu1H3vjdJyhrx_0fzNMArsS2Pq3dwcerK43BLTBIS4MMEMqlPowVt-k4IG9-6KBp0YQr9Q-S_hzznEE-bzYHMqRyzJpuXf2GQmDchh9oIIDKcq77Udiek5iOHVEwhuBxAPm0j-994yk3YA86z9-z2i9UN2sqhShVZGAAUC8fNJBsrDJRTP5IcTEDTYCEdc0HdrL9NUMaZMBi29RTzOSzk-ovxHcdgVOu-T-gbtKZPMT9OgYJFHCr9Lsw3-L6_Cu3dVRWbn_YIsBLcbHCGT1F3SHfS3wb0c&refId=yGFNBlPxF21UuzeReqTmiQ%3D%3D&trackingId=rt2CSAjWggnS1ywmwW2JVg%3D%3D&trk=flagship3_job_collections_leaf_page</td><td>Python Data Engineer</td><td>Bajaj Technology Services</td><td>Bengaluru, Karnataka, India (On-site)</td><td>bajaj technology services</td><td>Bengaluru</td><td>On-site</td></tr><tr><td>https://www.linkedin.com/jobs/view/4273785117/?eBP=CwEAAAGYgRRFudPLdlTej0qcCkcFCeWvR5At16WsTM0ukRyWa_6VK2icxgPY-jX4dt-OBriODZj3yT3A14g6DTJ6wUQzr3quabvzqfqJmaAxg7bs7CwYoFaAfmK2F9rxbIj9YgbpPhDYXHBfRMYMCoXuLQxT7ONvr1uWs6iHYlETCISc3Uo8tOiOs7cDJD64_NQrrIwuS-nkTlWK9FhvhVCs4rFSD15xhBn7zTS2NWLQJt5zN2Imi2Hthrv0K9Y6NnO8ECKoEGi9Vww2mvmG-zeFq6-gM_denR8yJA5jhGs-YRpei_uhWjjfkHXRRXa7QICsOLpNHK1BXa8ZHY_OSzRwngkww4F7Eln08hJxvAXvv-V2rJOIUQxbJ9rKj6_fwndvfclt7b-499v2MyBpT3wK5aay4kUb0syjwiJWejESI9NF64ADyj9XJwWPZsG1tMxz4ujepaHF_hdf5uA9wZEPamKaYHVYR-9uKMkGxlc0I84TLpfcNJNXHQJBr0HTB0LTSqjluLhzeYbmioBNelIP-TG9Bg&refId=yGFNBlPxF21UuzeReqTmiQ%3D%3D&trackingId=GfETrAnq742RlYp486M3WA%3D%3D&trk=flagship3_job_collections_leaf_page</td><td>Computer Vision Engineer</td><td>Droisys</td><td>Noida, Uttar Pradesh, India (On-site)</td><td>droisys</td><td>Noida</td><td>On-site</td></tr><tr><td>https://www.linkedin.com/jobs/view/4280324360/?eBP=NOT_ELIGIBLE_FOR_CHARGING&refId=yGFNBlPxF21UuzeReqTmiQ%3D%3D&trackingId=zzQiWE5hpNsuQgYl%2FlM0bQ%3D%3D&trk=flagship3_job_collections_leaf_page</td><td>Machine Learning & NLP Engineer</td><td>NSKH Tech</td><td>India (Remote)</td><td>nskh tech</td><td>India (Remote)</td><td>Remote</td></tr><tr><td>https://www.linkedin.com/jobs/view/4275090921/?eBP=CwEAAAGYgRRFuSWl2n8vdOJ0Eeg-08DmlDN00Zq16HZnfs61Q494tHxpxWncjorXi-5hY1zGuRi2xshDT5WgvXNuDkI-bLavvpTZ90I39MQBfFS0edo3hVbamubNJjqXUHmtvCGqgaBtaNMVeGEwjw6vrI8vKca3MyQEx4O1Q0RJuKfHsFlA837o3dmwRGIs1cbjYgPWFU9ZcTGgUYnDUZ0mGeUmjbPneI7aapiEwF6mJNZ4r5ERgIPRmmIDUnR-1XvgSK8JiRlePRXlEcsXSg37RUR0QKSUNYdv6EC0BrFr140CXM3yX6z3nRZ7WcoBrG4rjjdYZDa0X1TPONJ2YGp7kLbvKLJ0L7uWgiJ1mv1UlHFiu9hWasSnQGOG5V-5TlQG-G6HNaXtwij2xPR8ix3X8zKTEItQTxHXDOdho_BSHfq1eN3s7lVGIYwA9Nis0rXOdpjfJKd2rT-6OwGz0L2Ip2AS2U4QV7bIsi8WysPdfp8Umsd9lOH5u4na2a8KnwDFxLAqZpMPpp7xYYpaZYPnLsy0geCa&refId=yGFNBlPxF21UuzeReqTmiQ%3D%3D&trackingId=Br%2FZKCI8YT02vm%2FjkAj4kg%3D%3D&trk=flagship3_job_collections_leaf_page</td><td>Back End Developer</td><td>L&T Technology Services</td><td>Bengaluru, Karnataka, India (On-site)</td><td>l&t technology services</td><td>Bengaluru</td><td>On-site</td></tr><tr><td>https://www.linkedin.com/jobs/view/4226062221/?eBP=BUDGET_EXHAUSTED_JOB&refId=yGFNBlPxF21UuzeReqTmiQ%3D%3D&trackingId=ojyLpXCsM0k79YRIdDbTlg%3D%3D&trk=flagship3_job_collections_leaf_page</td><td>Software development Engineer - Backend</td><td>Pocket FM</td><td>Bangalore Urban, Karnataka, India (Hybrid)</td><td>pocket fm</td><td>Bangalore Urban</td><td>Hybrid</td></tr><tr><td>https://www.linkedin.com/jobs/view/4280333628/?eBP=CwEAAAGYgRRFuo5lXXBHtCItiM_aHbc9JjQrLfK0r3RTSkcB3duh9POyN-Glumh_YDcIdICGpYnfwk4q-yfrTY6N0JffiGi7ek-smGvqfcdTE3QDDQMK7ks0WrPM98N6BQtkdomlvhA8dHVS1Fk2s8XImC-EC8CEz6lRSIhowiEAc1XQJew7dF1qiru-8QvrQP5NLgGHPSmoZwN0dYyCS-MYsR_3BthTZygFVPFjcf-fnTUI6FS7Uxef5G9MTRgrrHjm8zPInZMwfGJnwDRUlbn0lh7SCC0MjEWjgArHcvywXcSuTyYFRnQ_Xu_IrHQsmEayKnUDChclNdwsubXloIN-xpmbpJdPeAjUuEeAKdMKFSff6Wdsng1iqNezqkcwGvr90uCVumCm2q6dwVuvUtINgmdu8hlWUqiXo2kH9t54dHCTj8h5avkHkL3Bqphlm5AARh8dwL90UOYphpZk2eIo5wu2yT8a58aY2TSApJ0-GpBQW-_QrQ&refId=yGFNBlPxF21UuzeReqTmiQ%3D%3D&trackingId=ctnILpLXFm8h%2FfZLkoiljw%3D%3D&trk=flagship3_job_collections_leaf_page</td><td>Data Scientist</td><td>RevX</td><td>India (Remote)</td><td>revx</td><td>India (Remote)</td><td>Remote</td></tr><tr><td>https://www.linkedin.com/jobs/view/4272010373/?eBP=BUDGET_EXHAUSTED_JOB&refId=gEkwBXWXNmtlPZoL5RoWWg%3D%3D&trackingId=uIztw1HcXagiVne2q6jWTA%3D%3D&trk=flagship3_job_collections_leaf_page</td><td>Data Scientist</td><td>Solytics Partners</td><td>Pune, Maharashtra, India (Hybrid)</td><td>solytics partners</td><td>Pune</td><td>Hybrid</td></tr><tr><td>https://www.linkedin.com/jobs/view/4272059799/?eBP=CwEAAAGYgRRfgiSo9pqN1be7N19pFrJSBz1TxVTDl_pu_r-lZP9QNVxxM09x4N9FncAydw4Py2IKKrxVOc5hfTlf6Um6sF7SGLAUedlj5gJTOisFu2BtTyjLY7EhXtK60rElKj0esy_4x7oxwWiOePcVj0wzFvkO3yDXRYr2PHINdwG36CMK6kK8hJAzBd4_7Pu0wI3lOJF-eUC04-rUpgka1_6hX1csODlhWNXqSe65-xH0UDg7FZSB2iWe911or7RcrO2A2mcaI51tH0NTppRZbXErr0_54dDhAjT9NTN6MEvtzw4UeOf_meErH7DBm0j9Ue-yHguGxMyp8C4plbtQb9QwteqwF2DIqs3DzBNi71Vv_WjF8pl2bDLdJFHmdYHObKiBkeupsYS25EDeKQs6If_UUA1DpYj2b8bYcWBKwdN18LFg849TENpuOYUtS22fBhsaQZU22pj1duNAYpE_ez7I6FU2qJzSFU1dUg0uBrowcM4esck2E7EZ2RUbPClz_i581ULFNdRRcCw_4FL-EaSGpH9X&refId=gEkwBXWXNmtlPZoL5RoWWg%3D%3D&trackingId=WcJQRZsZia7V4bNzLlZFEQ%3D%3D&trk=flagship3_job_collections_leaf_page</td><td>Data Scientist</td><td>Zensar Technologies</td><td>Delhi, India (Hybrid)</td><td>zensar technologies</td><td>Delhi</td><td>Hybrid</td></tr><tr><td>https://www.linkedin.com/jobs/view/4277149208/?eBP=BUDGET_EXHAUSTED_JOB&refId=gEkwBXWXNmtlPZoL5RoWWg%3D%3D&trackingId=6%2Ff2L7e0eCC3%2FOG3rhtXDw%3D%3D&trk=flagship3_job_collections_leaf_page</td><td>Gen AI Engineer</td><td>immerso.ai</td><td>Chennai, Tamil Nadu, India (On-site)</td><td>immerso.ai</td><td>Chennai</td><td>On-site</td></tr><tr><td>https://www.linkedin.com/jobs/view/4278537311/?eBP=CwEAAAGYgRRfgzqSmu8dp-VcYbCZpHBctSq-tlkX-MkIhH-ptKUeNbbt6Dctp-NtM_cQgZAc0SpauXuFNvmq4mawa1qVD2tkkEthMsELuzmOemnoM7XpeXfBS9zI5X3jk3v_h85qKPpCc7W3mn-l5ecJLNQ2gzDO2LoKZzOsXee9Q1w0no1Qd7DMAfMfdfzKlnjWvSM0cN9SKoK4CnnTm2ZFDPEQoc50dQMkruqQq4vGVy8IJVGYwf4jCK1e5vdhfQC2zNSCNkjEPbJfxaHZjR7P7JyExHQyiydSvg-GUFyyRwfhn1_-ySL1fi7PFEqUEkqHSufcCDIyPhxhMCKHVEzGlmvZubw3w4lJBGRNOKw9TT8B8rRNQG5KB8tWH2L6YGPsiSgG6Gxh-wRzeI2pzx9CC1t6Iai9esOZhgVrlKWp52rTCb8kqMEdVUvpMoWnZ38hqRzSY5jnPbwqecHUstogQosWOPVwrFWxdU1k-ji6RVadz9VQ3u1D0gZREio22q8_avzU44AKH6JAlzLQOGIjLDFMxw&refId=gEkwBXWXNmtlPZoL5RoWWg%3D%3D&trackingId=0x%2BM5XShNriPQHa2HdajqQ%3D%3D&trk=flagship3_job_collections_leaf_page</td><td>Frontend Developer</td><td>DotPe</td><td>Gurugram, Haryana, India (On-site)</td><td>dotpe</td><td>Gurugram</td><td>On-site</td></tr><tr><td>https://www.linkedin.com/jobs/view/4278908810/?eBP=BUDGET_EXHAUSTED_JOB&refId=gEkwBXWXNmtlPZoL5RoWWg%3D%3D&trackingId=jEEzy3XFUgZ0V%2FUtjZQViw%3D%3D&trk=flagship3_job_collections_leaf_page</td><td>Frontend Developer</td><td>Vettam AI</td><td>India (Remote)</td><td>vettam ai</td><td>India (Remote)</td><td>Remote</td></tr><tr><td>https://www.linkedin.com/jobs/view/4277708203/?eBP=CwEAAAGYgRRfgwq-e5X5f69ME0XUyAsgBAscG4-U8w4jeslv5nmB9MnxCNWMJnBOg7KB1TcgsZp6bTvsakn5p_UsDlcqZKgL3NeHQ0qYlNHgToomkhibOZM3d48473Qoy-wkFSy9ISrbINAIv3eX2p0D9gT4MlMxGnlnMzIaYE7P1977phxVZLo_yHyweH9rJqyhPFAvrpYxX16-3P3SqaqzK7tfu-i0ojRl9AGdBxrqxpypAis4uqW_OqAUQfLbo66x7GpsdzMtDK0s5OLqY4I_CoQMuzEhoXajbzlR5sNh_VRYBZnI9tHvRbtpFBFHgJWdZBpOqoyvqfp2U4QBoo3XlhqxxdckZFBlzp3EdmbbNYH2hQTYU-Ouz_csxpzO9KhDk4_7QjdrtL_MWvGqfYLj0QMr8KN7-yFbE2N2gQg5K2UtDWP7T40wArf45aoOxwHS0lMAvA-aX2PhnMd5P11fWg3H5_C8Q_Hxa3gH445lIBIn8oEc2c-K7kB3EgfvOXPC5cC1KVjMYkep5oTs-HjYKF42dPGC&refId=gEkwBXWXNmtlPZoL5RoWWg%3D%3D&trackingId=3lDIP8vme%2FBzdPkSZwZ9tA%3D%3D&trk=flagship3_job_collections_leaf_page</td><td>Python Developer</td><td>Tech Mahindra</td><td>Bengaluru, Karnataka, India (On-site)</td><td>tech mahindra</td><td>Bengaluru</td><td>On-site</td></tr><tr><td>https://www.linkedin.com/jobs/view/4277704619/?eBP=BUDGET_EXHAUSTED_JOB&refId=gEkwBXWXNmtlPZoL5RoWWg%3D%3D&trackingId=sfPD7JoJZaYvfeYoBH%2F4qQ%3D%3D&trk=flagship3_job_collections_leaf_page</td><td>Data Engineer</td><td>Randstad Enterprise</td><td>India (Remote)</td><td>randstad enterprise</td><td>India (Remote)</td><td>Remote</td></tr><tr><td>https://www.linkedin.com/jobs/view/4280807474/?eBP=BUDGET_EXHAUSTED_JOB&refId=gEkwBXWXNmtlPZoL5RoWWg%3D%3D&trackingId=lb43av5HXqIJQI4QSjPnLQ%3D%3D&trk=flagship3_job_collections_leaf_page</td><td>Python Developer</td><td>SmartQ</td><td>Bengaluru, Karnataka, India (On-site)</td><td>smartq</td><td>Bengaluru</td><td>On-site</td></tr><tr><td>https://www.linkedin.com/jobs/view/4254722984/?eBP=BUDGET_EXHAUSTED_JOB&refId=gEkwBXWXNmtlPZoL5RoWWg%3D%3D&trackingId=LDn%2BQm2hD5Uph8UR7iT0Ww%3D%3D&trk=flagship3_job_collections_leaf_page</td><td>Python Developer</td><td>Accolite</td><td>Mumbai Metropolitan Region (Hybrid)</td><td>accolite</td><td>Mumbai Metropolitan Region (Hybrid)</td><td>Hybrid</td></tr><tr><td>https://www.linkedin.com/jobs/view/4246225855/?eBP=BUDGET_EXHAUSTED_JOB&refId=gEkwBXWXNmtlPZoL5RoWWg%3D%3D&trackingId=iu6BqIJZZdYzLneoj69J1g%3D%3D&trk=flagship3_job_collections_leaf_page</td><td>Python Developer</td><td>mthree</td><td>Mumbai, Maharashtra, India (Hybrid)</td><td>mthree</td><td>Mumbai</td><td>Hybrid</td></tr><tr><td>https://www.linkedin.com/jobs/view/4280800105/?eBP=CwEAAAGYgRRfg4EHQxXCKi9Od5r1oJUEiCPLSTvAar3zedoecmPUQmSmGU5JkEEDlavPVFIplAV0Go_NBpRJqxv0d_LBDu3nOrn8qcKzLaa_5C97iKlJzJ58EHIQeiVZbxmnN1tumBdwgXd9BnqYQz5EpwvXpc2WwrJQpxYX0n4RYk9-6EHydatalAms3HeFt4mumNNnBzsCyIWD8GtEwJFNFNbaUYTWy2waMAF7ppT5ChKmjFJMwE34Q45fSnZFK1LcGSqFrAxsKsXpQPPgTJyf3LEqI1wHVDlRPT5JUjBMdBjEW0WM5Vs8H_GYxn6ikHJz5ORcKi3Pu4V7GOhgLX43t0ND5np6KfQHWKfhozVHoQL_R1PhXFyXX_2_sJQUkvxNKu-gj7A4J6zx1osqYVyC-VM2dRS78ewhninZe3qsuLG3K5VDiiDCwkcrmAerncEkAHpOjcWu-AbScGkYwQPVIoElWS4a6MI3-mEd4dCGPsYqS0TWYA&refId=gEkwBXWXNmtlPZoL5RoWWg%3D%3D&trackingId=QJj7P%2B1mrEjhJriVkhTcqA%3D%3D&trk=flagship3_job_collections_leaf_page</td><td>Data Engineer</td><td>PwC Acceleration Centers</td><td>Bengaluru, Karnataka, India (Hybrid)</td><td>pwc acceleration centers</td><td>Bengaluru</td><td>Hybrid</td></tr><tr><td>https://www.linkedin.com/jobs/view/4277691099/?eBP=CwEAAAGYgRRs1XFqVl8gKzF_KV_gzTD_jQ2gQdKXwY_x-FFTnLWm58F13ECe9-1WKQYhyhHzuo53AxL3hzabdAmnIbxy7qsGj-YLi69K6umAqnSzOoN-Vp8IakCVwfrHYI1_dU-ykFppjwhdA4geRJXuO0zs5EXrLwIuemNHvXNqwrwbLtj3-rWX7_kCSY6s_XmvCulphH9WhHN__9jbC6Lrv4gt7qIf1eAaFbWl2UPXWzwGTTvB7dH_KDPuPtRBbaGOamL-ASnGUUOYPHPM15d6fgrGOC3YdrEHPIx9t1iDMEGHnttlel7uU2VPj8mO59Z9_4t2FkGj29yv1JAb69-qFRcJX1CQXrnpEODRWGCH7ep7hI03zBJItMMu_9ujmxjzolkoYODxy5tSkjuPadmdAuuYvI03vVDRiSfaMJY0gLGyPrGSOS9xv_aMiFxSs3a4QlQQYJ87w8YgTFcOE6L6a9EXD30XeDLo9BxOC_24KiW4lCmh7WipupGANFXIrMOxHw7tqnWJ7PsDafv4BSl9K5xRnCiC&refId=C1m6O88SDPW5eGDelaudEg%3D%3D&trackingId=4C4umh3tXmrO3ES5CGvXSg%3D%3D&trk=flagship3_job_collections_leaf_page</td><td>Machine Learning Engineer</td><td>Bounteous</td><td>Gurugram, Haryana, India (Hybrid)</td><td>bounteous</td><td>Gurugram</td><td>Hybrid</td></tr><tr><td>https://www.linkedin.com/jobs/view/4273549803/?eBP=BUDGET_EXHAUSTED_JOB&refId=C1m6O88SDPW5eGDelaudEg%3D%3D&trackingId=GafBCcTcYaFonTnObRdByg%3D%3D&trk=flagship3_job_collections_leaf_page</td><td>URGENT Hiring: Python Developer (LLM)</td><td>AquSag Technologies</td><td>India (Remote)</td><td>aqusag technologies</td><td>India (Remote)</td><td>Remote</td></tr><tr><td>https://www.linkedin.com/jobs/view/4268794618/?eBP=CwEAAAGYgRRs1iQKPF0wuM_RALmLun6TeaRpKxhzSjtUGHB_8u-X1riECl5Zt9CibTxScBCl5i9jYJtAzHhxHj2P6xmPW287itDrL5TowVTBVVY-HiUQ1Ig32Q8lu3vg7TjSX0teyR-F_DjsG8eYPXxUoq3ODHtCoTA94BR89Csm_-sfp8A0JnyUFuyc0-XUq1yZeEAitD-JnfL1F9YOiPp3EFtQWIKb2dS4MDD5jG8MOdzt1kI97apCK8gT3FFuM5QNdst8Gud1dy4jnXc17peT0oShgvQXObPL_oqdRE0SfWYzAR8geZUthsRA4X1QO4COzSmwPHQsNsGZlzdGrNcasNjkEAxBNrqQxeS2dl7M4tLJv0MhyvqaUsgj0wEQt02r3vMTD3H2Mn6ZHx8o9NT3XuGjbeTEoT50OiKsF8uN-h4NKB1WOpTXrTWJKAcjioOQfHm90qyOmPZC2D_iopAdE9zjmT5dn-KPrjLggNAr7F91d8XM_6cKAVTf8fY-pWWytf874HFyyVIE1hHXEmrj&refId=C1m6O88SDPW5eGDelaudEg%3D%3D&trackingId=iDuYn4jbqzmNGEX0wMvJBg%3D%3D&trk=flagship3_job_collections_leaf_page</td><td>Machine Learning Engineer</td><td>Prudent Technologies and Consulting, Inc.</td><td>Hyderabad, Telangana, India (On-site)</td><td>prudent technologies and consulting, inc.</td><td>Hyderabad</td><td>On-site</td></tr><tr><td>https://www.linkedin.com/jobs/view/4272058375/?eBP=CwEAAAGYgRRs1kmwP4FQawpKF8ZVBPBqGPnOvHsUaGtugj8Mju9ElH3hhotzKcCIRKURnosus1zqCejany4wqt8v1bbKVpbwRsDJG7Boe5kgV2k5Je9aT6qxXDzK1zN0CnszVMJPGdG0BEntQ3MZXBi7y9FSOh7BZUI_VijYp3t7Fu4cHcScVDBi8L9J-onuR8WfHlFuNtMNaWsNbZw_6hi9Vw1DwGF0rsfIUMsyjyFllStTJ5sST5ZjwKcPUlndIBX-RE6FVigexDWxrUvYreJWqiIFeo9Ho9iXl4KosQiXppdoTeVP3sLwM0QMhdEvJDUa-MQ94Gz4ibH6OOISs6UIza_zInITEcEyGwSqpoUD4zN8T_Rsr3_i4Md5HUhfMFQYgJ-0B0_zq7ekinZMB0UESNgGqRwSSpYmqFQ4FKzB-F5u06dHdelRWR8C7OxzYD7Q-aI-uIT3u-rRHr79K_QUX2kGmTzoMHEKszOAJxSjT82gyTs&refId=C1m6O88SDPW5eGDelaudEg%3D%3D&trackingId=5BkqcA1paT4QHC7FjQ32BA%3D%3D&trk=flagship3_job_collections_leaf_page</td><td>Machine Learning Engineer</td><td>Dentsu Global Services</td><td>Bengaluru, Karnataka, India (Hybrid)</td><td>dentsu global services</td><td>Bengaluru</td><td>Hybrid</td></tr><tr><td>https://www.linkedin.com/jobs/view/4278908252/?eBP=CwEAAAGYgRRs1siMaBMJKnH_jpL9yNDwRWEA3Lq93muUB6UXwexKPNCI6kjP6bzPTRPXdQsNyjArpZpAe8dJLNpNP6JUO4V5y28xmUjcg2xD3_zYpYzZ09JmUxFdoJHqSsPgD8iRAtSKyDW-NqggAe3Q4SCeqtyM6GsSmiuqxn2jnQxnRn3fuqWQrWxswonZIalA0MB5LcblUt2Khu7oP04CGssI7ZZjD0rcK1pHHvHjThCYXpDZdfj5DusYXSJubrGKFsOFduf0CQRkBVQsltKIe91gpLYmxr9c6x-2zTRA9zlwJ2W25PjjsHOovEm6cqIHOdEHreBU1ZjfKos-FaYZUZDc4X-5rBLJCs0kQPVIJMVU1enVpn9hFmCKMHKySQcBXZgN6W_PGXxEsZjS43Gxqp7EPQYqBIU9CDNXPKO9vPMZklRCJqfMdx9OuVUGatfai3lmsFW5gTbQFIw7YI09UbTOVwgQPEUdWujrK0urBQHL6YzGkm6n02gbh6lLDdww5M6ymlDKZKYtuMpxle2HxvTSKx5y&refId=C1m6O88SDPW5eGDelaudEg%3D%3D&trackingId=MjqSX2Vx5IBnvUXw56LEKQ%3D%3D&trk=flagship3_job_collections_leaf_page</td><td>Staff Engineer, Frontend React</td><td>Nagarro</td><td>Gurugram, Haryana, India (On-site)</td><td>nagarro</td><td>Gurugram</td><td>On-site</td></tr><tr><td>https://www.linkedin.com/jobs/view/4279379953/?eBP=CwEAAAGYgRRs1ib1k9589ENGdSHnT_0C0JO7oEaTz2WRGOkqA1KJRpEkZ4FBih8Ezag-LC3n6tFdGpO9yQxf1wwcTLdjIT9h08I9B28yR9y4pf3HXkWxwn33lI8Mj866FLc66c6Es4UEJ3EnTFbAbYT9XZCp9UL4nWDyUPmdUTVkKieGIFJ39pZYvl-a7VW_5wxysUQ0brs7CfhcX9ZwUIfpKiB8iN-aUSPbMpzuVgjrpzCTxviqgyWlJVL0I_NRN0Ro0rGmgNIBPXQ1-dyJTtC37WdfcRUFGcRR3B6LDqVrzrQUMke7Ncs47SmqP0dIyZXy9Xk2WPU0ElWBvzBE9QtZOumWt4KyINpAbGro-6XZkTKDClV-kj1C4aATFu4720r-AykXdBCurQH2BCxoLs3yr-IZr4lSOxfgdrXUtlhxYMAdwvthSi9EfLB8ttaqPYCHqFxBhMCOJhb0mjj9FVFjOSDDybPI-9HY3ncY6pQzeondz_j2-jteEKoj8UP2vsRPrBBjLUOsNbKVVsDUiMHxIJVwdCHQjKg&refId=C1m6O88SDPW5eGDelaudEg%3D%3D&trackingId=saIeFq0%2BL%2B3qAgBWcsM7Zg%3D%3D&trk=flagship3_job_collections_leaf_page</td><td>Python Developer</td><td>Ascendion</td><td>Gurugram, Haryana, India (Hybrid)</td><td>ascendion</td><td>Gurugram</td><td>Hybrid</td></tr><tr><td>https://www.linkedin.com/jobs/view/4277564515/?eBP=CwEAAAGYgRRs1mwdzZY8KoHOJCpQPbUKGF8OBAjaCW1__-vPcjrK5VdPK6l-89wfBiYkJ79GW3jK23Ao4H_ooHGn9FwSt8K9nZZcwXmotFfTkdUK9o3q69qVhIssGi05_VVz04GNbETJysqTmlQitwz7on-dDzOkV_DGDQFgfNDA_Q_d4vXkAOATNwSd1iibuWSpBi3fk1VPlqL8On0eM4-NRgSLrGeyH6ofFryA8KanVV0ZmFiBPebsyc-KXmhUfsuiYy6vudW4tdVM2CUp9ba3GMn8kp1bbb27MGfEi7uYnBAulk7RF7GXHk2ncTUkggxrhWo1bFR6o4w1C2dDElJW-lbEO4bcq_J3huq0Bm-YqJ9e0bqQ5FS38hXiicl-IF0jLUvMI3k3L3qQRDOp8kD-KacNt1MB77qSp_W-kZthhO1IIwSZvgN8YFkwsOs9DHrHzSb1onEedSVOURdzLeJLz-pdpEpFav5cY9FsH1Qj99Xw1BKNdMQGRpV7Rh8cNrHV6YUEgUObEokfTvI5b8_yyOmLdgXP&refId=C1m6O88SDPW5eGDelaudEg%3D%3D&trackingId=xMRf0QisgKsnOZQnoSf0KA%3D%3D&trk=flagship3_job_collections_leaf_page</td><td>Data Science - AI - Pharma</td><td>WNS</td><td>Gurgaon, Haryana, India (On-site)</td><td>wns</td><td>Gurgaon</td><td>On-site</td></tr><tr><td>https://www.linkedin.com/jobs/view/4278020681/?eBP=BUDGET_EXHAUSTED_JOB&refId=C1m6O88SDPW5eGDelaudEg%3D%3D&trackingId=cxJnqwjCtpIwDuyEgK1ynQ%3D%3D&trk=flagship3_job_collections_leaf_page</td><td>Machine Learning Engineer</td><td>Rail Labs</td><td>Chennai, Tamil Nadu, India (On-site)</td><td>rail labs</td><td>Chennai</td><td>On-site</td></tr><tr><td>https://www.linkedin.com/jobs/view/4277968906/?eBP=BUDGET_EXHAUSTED_JOB&refId=C1m6O88SDPW5eGDelaudEg%3D%3D&trackingId=WFGWAYyjJXVr1XuzL1Tifw%3D%3D&trk=flagship3_job_collections_leaf_page</td><td>Python Developer</td><td>Leeford Healthcare Limited</td><td>India (Remote)</td><td>leeford healthcare limited</td><td>India (Remote)</td><td>Remote</td></tr><tr><td>https://www.linkedin.com/jobs/view/4277177006/?eBP=CwEAAAGYgRRs1sZFhiGPUmdQ1Xie9cOYSgoCWnCbMQNtnpFZLTCL4oEP50gdFWlStM1HUVNTgkiNtymragb11JOiyVbTaozG3vuX9ifTWtLGKMJDbINe5oCVKRtAKBWJpIoR0l_CWoxOUAMjB2kMpYMPar5GjFutQw4W5T1XOEbun1eoLD3MQcpxFnGMipg2P9ughLRwAsxhw_BvOCiGaZaRokH4SE1P8sFkyzO6Lx8DsH0zdB-5jxL5Xo4KnDTQMa_Xl2fvOelyj5HCw_6yCaLs-iyfJ85mzpAL9Uch-QrZd-Nvd544UCx4zc7kncOP3Z2wTr4DxpzrapMIo0HfVVGzny0fc-JHVfYLfx9rwyhZurcBzwvkGbn0prnsQmAZsR8NSRbM-6Vm9C31CIrZBWsv2pVX-cLIHlXaQ380tKw2N-sPWxBXoqiY4xx8RpaUtNOrZtI_6vv724IEIQL2nPofCT8GoP78LHpzGs6gyPnB1x5nfPuECSl4YevBMSSaEr8T7zlnwrmLrCb5Pctuc7yMeE71gA&refId=C1m6O88SDPW5eGDelaudEg%3D%3D&trackingId=U05hy5i6WL8KY5bLYqqYBA%3D%3D&trk=flagship3_job_collections_leaf_page</td><td>Python Developer</td><td>Saisystems Technology</td><td>India (Remote)</td><td>saisystems technology</td><td>India (Remote)</td><td>Remote</td></tr><tr><td>https://www.linkedin.com/jobs/view/4278114996/?eBP=CwEAAAGYgRRs1nkZlOslwntcuWsPFyV1pGEcInX3CPVIV2q65uRJzQQ5H9SkK_StEiKWzyFGD7HeeAS3sHLR-4NFGNYGyXTAz5nEaUAMMep9iiAn6bUbmuXogBwTACFM0qF_KEP05i0V-W2oCwF9PrdG718sV86xzJkHHxkseHXsYXSuGQn2_xtcGy6qeICpfZ8tY9kqUYWIdEXQ_qIwfpaLs_qR4Rxr_v4TVDUkKnR6Y4dBEBE2jm3XQMsQUMtbQWNncOBoat9PNnIjSwh1SP3kX0FYl85o-E0j1P41XM64eiJJ6t08v2fCZ54AXzX2QMz8Q0zzOzt-8aPNUc5Vyt4QIlGdKL1FUUa1Om3GzYYn0btpZzm8gNlOOuY0IiGojje3CC7YTnOAuxl_KM7pQR360iF5OOorjUwM86RvAb0-SXRKqCEhEecoRJNG2I7HooN58-32wkYmOIZiM4qNiUrlYstffTnkp1pwlB_reZxdqis9GkqEL9REko00WL1GkdFmtVgsgTi428vP_mNAEqjcEEfDdp2q&refId=C1m6O88SDPW5eGDelaudEg%3D%3D&trackingId=5ng2lHPScXAjNKBRiQSI6A%3D%3D&trk=flagship3_job_collections_leaf_page</td><td>Associate Data Scientist</td><td>Circle K</td><td>Gurugram, Haryana, India</td><td>circle k</td><td>Gurugram</td><td></td></tr><tr><td>https://www.linkedin.com/jobs/view/4265420956/?eBP=BUDGET_EXHAUSTED_JOB&refId=C1m6O88SDPW5eGDelaudEg%3D%3D&trackingId=DFJ26591hdjGjrMtvLSYiw%3D%3D&trk=flagship3_job_collections_leaf_page</td><td>Machine Learning Specialist</td><td>HCLTech</td><td>Chennai, Tamil Nadu, India (Hybrid)</td><td>hcltech</td><td>Chennai</td><td>Hybrid</td></tr><tr><td>https://www.linkedin.com/jobs/view/4280023118/?eBP=CwEAAAGYgRRs1zpWZeynbWzwy0adFww1HlAyAqsypRccBBazJGqCKMIZLYve1_MD9IXXpUVsl50jGHXQ_UwS77GeEn52nK06drWvb1qo_J4eG4-hbo64X55mfHaY8_tT3yE95S8tGoILghFtGMD173nL7PS4bfK8PcgI2l_HcZfGhfUGdAlvljiPWMrC3qI-jjd0btBqGDuX6rDL0wSWuIx20xXTOabLOBE_g3IwyS_FU5nCNDsGfR7CXlEoIfqEtmuKUAFLXKuONKGOw77yB5zjizgmwTI9ff2KEbfO3SzeVDW1BWPPDbFWqydDJh01vUfTnesZ9TBcK0XNyRbwHgj04MSbuj4D8bq2v0ZekKU6TtAhu-xgP0ZtQ5oWHlmkII8hqHYI7MT8oZbF0tCN7jtq4NA5lvAzP7Q9mc2Zes5DUujukxZ6CZKGSl-e5NppTa-DaWmSoDQwnOBlpbdxtUpEDek5tUct2ls8ALP3rj5wianzdse2qAf-JzZ8-FQ-hLry0VuGeslECx2ySDSplKoLoS0&refId=C1m6O88SDPW5eGDelaudEg%3D%3D&trackingId=uE1IRh6xZCUR1ruJ9tuFfw%3D%3D&trk=flagship3_job_collections_leaf_page</td><td>Python Developer</td><td>Talentgigs</td><td>Hyderabad, Telangana, India (On-site)</td><td>talentgigs</td><td>Hyderabad</td><td>On-site</td></tr><tr><td>https://www.linkedin.com/jobs/view/4280166426/?eBP=BUDGET_EXHAUSTED_JOB&refId=HU7tKKPRmoYAbhpOIfM9nw%3D%3D&trackingId=UphimbfPWaUnNdgaqHZz4w%3D%3D&trk=flagship3_job_collections_leaf_page</td><td>Software Engineer</td><td>Experian</td><td>Hyderabad, Telangana, India (On-site)</td><td>experian</td><td>Hyderabad</td><td>On-site</td></tr><tr><td>https://www.linkedin.com/jobs/view/4262351983/?eBP=CwEAAAGYgRR6NKQe5qBXWQTiRtSRAHNQFSTEqs120-f4ef2Q2QES8zDs6xDHSD0KYT4s4qEnbIRXEhKeW7Xoz7qufbguP1KuUyOFunYcKBYUZvq07IaN2nRkybvfbSL_xGb69bAWh_5oWYbdx2BBsIXXNH1JxGCpBFj82pVTJJOaWI7CMs_pjmgihX16sKY9lnyKToqIbuiY_Eu8ncekaRwe5wx54zgTXkbcatPXV5x192cP7iISDK1-UIhoAn_BW5nzLIlBuxEnAn_0smILf0FBd8Zy_EmP1JaX97T7KBYdA31AzZO1qJJHO82U2GZF7nGjWL5fPLn241y_PX-BlQ_z6N7r2rV0uzpthKP_8uk_V1tjsf7pKyVPIkJoMXj64uJnYXLrl-x5_cJ1PBx-WSDip8gDUq1nL7JEYoVYyadDe6ndDLkd8d3_7cdUz-ZkibzrgKI3GO5Kp3VFD1C_WgnsL86PDQoZ2Zfo3O8wGhNO85LALXnSW3NecZi2VLGj0R5izsSH-j2w5X5keo4-FzAn7Za4wQ&refId=HU7tKKPRmoYAbhpOIfM9nw%3D%3D&trackingId=fsGoKTsNIqzKbPx2xnB3WQ%3D%3D&trk=flagship3_job_collections_leaf_page</td><td>Senior Software Engineer</td><td>LinkedIn</td><td>Bengaluru, Karnataka, India (Hybrid)</td><td>linkedin</td><td>Bengaluru</td><td>Hybrid</td></tr><tr><td>https://www.linkedin.com/jobs/view/4280506608/?eBP=CwEAAAGYgRR6NA2r9le3XUjXz7X7V6n0o6xybexEahjhI_9_tuRvjFkkUMIkcQ0KBYj2Xu5A2uMhTnhtANGYPy4wZa5_GtoD4ARxEKdVjTU-sckYPxnHgeikfe2GWfcZ_pfWsxd6YOCH_iUoxlrzpvtdfIxTEehwtodeayMDJ7_8saDPPDpxE8hveaAGLKzvtzYkTterR65fU90cVuBcMG3g9zVNK0KDvnIrZVeb0LN7U3h9j-Ux4CJWkLR5xqBvi9_N4xbSGHI--uHve7ic_c43dO-XDXwOZ5ObaDxxGGkRnOdZ0I4NfIIvZvBy_7Jir5ftrESCxIyY1O4ROTqrOWlljylQJFmtnNKkZfBAyGFW69WG5_1JpnR8ybVKQ8T-vsSJ6_z6ciGw4XfMt8q_chyragMUp84ANlkw0UFAIxImVc76s8MO7_2MwKFJnsvUszmxZ1rbRfNDYz2FZzguU9tqLumF4CZUYWE0YeKZ3lZdcr1LHrgSInD1hU9SbWAG1OaB1rT1IsWUoXTYtBk339ys09f7OsWcnBpu6Nvz726HZfi-x_zPV7bREKdkwXiSJIg&refId=HU7tKKPRmoYAbhpOIfM9nw%3D%3D&trackingId=Rqkmx7bWRxaZfbJlkVx0Zg%3D%3D&trk=flagship3_job_collections_leaf_page</td><td>Frontend Engineer</td><td>PhnyX Lab</td><td>Bengaluru, Karnataka, India (Hybrid)</td><td>phnyx lab</td><td>Bengaluru</td><td>Hybrid</td></tr><tr><td>https://www.linkedin.com/jobs/view/4278247578/?eBP=CwEAAAGYgRR6NDVlY1CSYgLTQ-LKG3slZo4n7nUvoYboawkPGpVD4XFCq0svTsM1FeDjXxQMib7dGAyyHd6E8xGYFmT01G8ifYukCagppVzOFSg5XaSnbnn3lok_3aKJMneUAiLZeiyW_Xj-KSKBM3Fz8ivVSZ48XAKLgaYnB00o2dK6Qrmj13o7mlYNO8W8HheXrnpDwc-Of2xuqSRkSQszrWoa_HNAadb2WCg8zThiilJe22R2slL9iFOHPYQzwZTWXlro9FE94Ku3prIgHn8GC06kYnM134THt8qKybBezldBchpXcBAjI1BtYbdpWek1m4MaP4Os69QaqO-smEF2zNLdNW647cYDHXlokYGUaVbbw9Mr3Ddj2Mw1ASlFIoplvOLp4_6r6-glvL8LzfX9Xy5oJoq_5jZGnqk1Ykr0g5aFZzItbxtF_yHJMh7iqSB29rrbL9-pSscAcrPW55Z6XGGga2SjwaFw2wU5jIYeFOqgPHRJMD2zMuHU2-boPqJ5zMwjfsuBkB1tPAgdL3jtdHTXT7AIhjA&refId=HU7tKKPRmoYAbhpOIfM9nw%3D%3D&trackingId=v6Lv%2BshX7eQApyk%2FDL27Zw%3D%3D&trk=flagship3_job_collections_leaf_page</td><td>Data Analyst</td><td>CareerUS Solutions</td><td>India (Remote)</td><td>careerus solutions</td><td>India (Remote)</td><td>Remote</td></tr><tr><td>https://www.linkedin.com/jobs/view/4273593598/?eBP=BUDGET_EXHAUSTED_JOB&refId=HU7tKKPRmoYAbhpOIfM9nw%3D%3D&trackingId=6sA%2BdRcQceHdBFuZTYLqbQ%3D%3D&trk=flagship3_job_collections_leaf_page</td><td>Python Developer</td><td>Datum Technologies Group</td><td>Bengaluru, Karnataka, India (Remote)</td><td>datum technologies group</td><td>Bengaluru</td><td>Remote</td></tr><tr><td>https://www.linkedin.com/jobs/view/4280141875/?eBP=CwEAAAGYgRR6NCZwe42hSSirH9Sz0o8RusjJYqS6izkOomHgR9MdcjawOgZ54qM87PceWtAp7xAwPHRmjQaWKS-GRwwWDvSD4T5tzSbREZbrjKceNi_08a9L113D9ZYUJL8z9wJM-jxNEfwQ5Gy90coQxMlHA8knzdWPuKpsaZj7gjm9YNfH8yk-3hb0r-rOlRC4bllJeYLMjlU7NUfvzbD0McNRoGgsO3jXLuyJqK6fCDSZk8cYERe5iA-MKPpnqAQG46dpfO6Oq_Bretj1oC7gLjo7Zg8qr_xk4ErdC7C1eymHDZzL951UA_GBzLAI6WFE50Di7F6UyrHtM0u8M3wbxnkimRnIzkS9nsWQiOwW-ONbQPyjHfzmipS7vd8GPVRyt15-0NwhyFUmMo6_e4JS6FYfnTegyRM93C4rPm-CgTvhPW4T75F47lAeuouxHTUA3PbfSQ0U6pTw9-ijjyJuNHPBwXM0M4vguC_44aFBFoDx3ps7TkZ_CNQ2r7RneKUSpg-4oMTdf71qDvbX44b_cy5bQaxiPZA&refId=HU7tKKPRmoYAbhpOIfM9nw%3D%3D&trackingId=1rjv0tcAjR%2Bku%2BxR6Cu06Q%3D%3D&trk=flagship3_job_collections_leaf_page</td><td>Software Development Engineer Test</td><td>Airtel Payments Bank</td><td>Gurugram, Haryana, India (On-site)</td><td>airtel payments bank</td><td>Gurugram</td><td>On-site</td></tr><tr><td>https://www.linkedin.com/jobs/view/4278062997/?eBP=CwEAAAGYgRR6NPjsud-JCM6_LEfbEy-EdUEYodoclOVyau1y8YIyD79YGll_luXVKRAlE5GuX-df0a_9RjU2Lr6VaHNWh7mrhBzQ4PeK7gwvwpj1FMDeJNuMXTjZQPT6KS_jACBktSojJJMvLg08VXmkiogliJEkdeLxRLe4n-Lybg3urosHnBtWZMVA-9LPOUXqZpxAQ7AbIKmufDCLD3TiINiIZPYbew6NnFGkaUl8JaxHb0fuATaCYvTgg-NB5KK8RChGon7xKNk3a4QEAiLldQQ6PdTxbK3bj0yGpIiZY4dh2aPkpb85F3iYwRKt3-bIp2WuBOd0ODQE4TiEvFLcPsnIrbe-zT6Uy9w85slAcdWLTc_MfhzwY-DJKiqDqGpY7-_MZ1SJam1mouq7TkEYGdx991gKAT-e0ZV31-OWwg83vHm-pe6t5ZQsyllbZcLB5eB7bMRLuRluUfPjmvVvxtRwmNvIRMnQOY_0xZm7guZ7jW-SQHPE-NlVngAtRR7Iyxgh3C4LOpcjA0QslhUJmjRXRbEF&refId=HU7tKKPRmoYAbhpOIfM9nw%3D%3D&trackingId=FRZMpeEhbcfD4ZicDPDbRg%3D%3D&trk=flagship3_job_collections_leaf_page</td><td>Python Developer</td><td>Datastack Technologies</td><td>India (Remote)</td><td>datastack technologies</td><td>India (Remote)</td><td>Remote</td></tr><tr><td>https://www.linkedin.com/jobs/view/4278814835/?eBP=CwEAAAGYgRR6NGefh3UFupIXXCqelAz44yWcMnEBVNCb8pCq72QdpZAGlMuO7mudjuSvQiwaJv-NXzntWsRemUACEXBzC0nXaVmo7T2N3BdN1RKpHgXFfOyvdmFkdbZzC6IPW2XYLNI_xdgFVe-b6bNo8DThNYMkntw7tDgFb41irVdPR_M0sjmVQHQ9GBCM7fDjUBSOXq9wIftEGjrpVBQZCH-rjrOjGU2mOOT_1Yloma-TMMJK_sA_KgXmwYuyxJwlataRpEmKiqcuuJ80T4zEldWrpq2Q__5fDEgMDbmcrbrt6DAC8xw6LOG_0PrerW6JT-x5jdG6QlU4dBfrgk3hCdu-BZSaUqmXwohvgM5qcdC6sVllnav_fWUoWH6Vt1qkujTosZPXR7pzNxsPFR3HqfK8TGcUHJFcpt7f0z8aKrkQkkZvySV0W8nzuq-mWjSOgOgfcx0-J2yqfvJWLskAajWTXx0SEEeZ5lIrehEbPD2awPhJ-8QIYUgPCbNe7fo7U7vvzFuGyMUUzwYm5_ApsDNS9xaxKJs&refId=HU7tKKPRmoYAbhpOIfM9nw%3D%3D&trackingId=C1Hou1knVMP8LLc21f9sIQ%3D%3D&trk=flagship3_job_collections_leaf_page</td><td>Python Developer</td><td>Wissen Infotech</td><td>Bangalore Urban, Karnataka, India (On-site)</td><td>wissen infotech</td><td>Bangalore Urban</td><td>On-site</td></tr><tr><td>https://www.linkedin.com/jobs/view/4274205056/?eBP=CwEAAAGYgRR6NKiilphPR2gIm7WK5LppzWHZC2QQ8QULLHpHrvWEKGPFomAPpntaBx7z6D4riLXYcjffOnca6Jtw_S9pIPMSn7qgwqXh2zKhsaZYmvPdALSoYa93VO7KEpAqi-l39p4iio4Br4CPgIsH8l3KZQsDlIda4mtJTDPdcj6cbeAaDiQ0bgjkgGT8vnDELo4bTN8egb7dOuQvraymjPmy0L_fxblAfIsl89x62mkp2iu5Gbav-cuBdtUQEzU8mgF00L119U-annqtafgvKRgYIbsF2yDa8UaMelt39y-4RB8V_7xeiOf8XBENSKWkmORzLvIGc0i_EuYwWJ5xwy65Og3F-tp_4jJN9pGTOLeXKhiD7-C9S65FU4MiqW2QFgh2RJWKe1n7q_vtjLwwKJwUtQp7M3bB8YMQu7327_CwlpTtqNerkILIr18GPjY23W482tLV5NBmbJgj9lo9ZaNtcHYAUHgEJbpFUFD8lOZc1xPPQH1e55lM1NSfIGL6O69lEZx0e8ta&refId=HU7tKKPRmoYAbhpOIfM9nw%3D%3D&trackingId=um7qcUl4GJbXXYMfJf2TrA%3D%3D&trk=flagship3_job_collections_leaf_page</td><td>Software Engineering- Web</td><td>Carousell Group</td><td>Bengaluru, Karnataka, India (Remote)</td><td>carousell group</td><td>Bengaluru</td><td>Remote</td></tr><tr><td>https://www.linkedin.com/jobs/view/4280800394/?eBP=BUDGET_EXHAUSTED_JOB&refId=HU7tKKPRmoYAbhpOIfM9nw%3D%3D&trackingId=4Pvz7lPHap%2BuvWNHLyUg4A%3D%3D&trk=flagship3_job_collections_leaf_page</td><td>GenAI Engineer</td><td>TO THE NEW</td><td>Noida, Uttar Pradesh, India (Hybrid)</td><td>to the new</td><td>Noida</td><td>Hybrid</td></tr><tr><td>https://www.linkedin.com/jobs/view/4245121446/?eBP=CwEAAAGYgRR6NQ4ZuPW5NoKadsFFZ-VYhS7yKaWQJ7svFhT78q9LhJ2pePvsG8mQUMm5IN4xrQHOtqxHooQCZx3oziZJ4-E4ZLne28DqWuohIHAai1Tf1ra51iZq76X6EMKAlVdDxsc-YnIHLn0SAPvKsgStvtrttjOAUy4QxDMuKJAQ8k6wHsMSVYgf2VR4CCB4HMirLlDv_GCjMJK8_kETemf7_j6bqYZuR9vXNPqmvD4INYwdoFSaMhvmrO2JVKw7BD8_MPi8RygtjZxdxwlYfx6YDZzR55kLV2_W5AP2JCpAQCIzKI-FqWsZkH_MC-I3ZqBJKjBgQVp3YUtvhBzm7D0EvLwqHof1F7U0YeUIBt40A29xLHho9nO9SXAm1Wbz0DGYzopjiqLGWmqU4WY9L571NNxnHjt4VFCM6dFqxC_vuZrOWIepRN4biNd_uaq9rL9Ff9-ETBl7CZ_1rDySG-xdQHshaVqxEBi-W0wtAXoHQFyNIeR3sXs-7xHUWaR7jeNw-oURqvqvHiYkKHMT2rLlnPck43o&refId=HU7tKKPRmoYAbhpOIfM9nw%3D%3D&trackingId=TK35dOditK9QcPiygCvFZA%3D%3D&trk=flagship3_job_collections_leaf_page</td><td>Data Engineer</td><td>Centrilogic</td><td>India (Remote)</td><td>centrilogic</td><td>India (Remote)</td><td>Remote</td></tr><tr><td>https://www.linkedin.com/jobs/view/4280166426/?eBP=BUDGET_EXHAUSTED_JOB&refId=HU7tKKPRmoYAbhpOIfM9nw%3D%3D&trackingId=UphimbfPWaUnNdgaqHZz4w%3D%3D&trk=flagship3_job_collections_leaf_page</td><td>Software Engineer</td><td>Experian</td><td>Hyderabad, Telangana, India (On-site)</td><td>experian</td><td>Hyderabad</td><td>On-site</td></tr><tr><td>https://www.linkedin.com/jobs/view/4262351983/?eBP=CwEAAAGYgRR6NKQe5qBXWQTiRtSRAHNQFSTEqs120-f4ef2Q2QES8zDs6xDHSD0KYT4s4qEnbIRXEhKeW7Xoz7qufbguP1KuUyOFunYcKBYUZvq07IaN2nRkybvfbSL_xGb69bAWh_5oWYbdx2BBsIXXNH1JxGCpBFj82pVTJJOaWI7CMs_pjmgihX16sKY9lnyKToqIbuiY_Eu8ncekaRwe5wx54zgTXkbcatPXV5x192cP7iISDK1-UIhoAn_BW5nzLIlBuxEnAn_0smILf0FBd8Zy_EmP1JaX97T7KBYdA31AzZO1qJJHO82U2GZF7nGjWL5fPLn241y_PX-BlQ_z6N7r2rV0uzpthKP_8uk_V1tjsf7pKyVPIkJoMXj64uJnYXLrl-x5_cJ1PBx-WSDip8gDUq1nL7JEYoVYyadDe6ndDLkd8d3_7cdUz-ZkibzrgKI3GO5Kp3VFD1C_WgnsL86PDQoZ2Zfo3O8wGhNO85LALXnSW3NecZi2VLGj0R5izsSH-j2w5X5keo4-FzAn7Za4wQ&refId=HU7tKKPRmoYAbhpOIfM9nw%3D%3D&trackingId=fsGoKTsNIqzKbPx2xnB3WQ%3D%3D&trk=flagship3_job_collections_leaf_page</td><td>Senior Software Engineer</td><td>LinkedIn</td><td>Bengaluru, Karnataka, India (Hybrid)</td><td>linkedin</td><td>Bengaluru</td><td>Hybrid</td></tr><tr><td>https://www.linkedin.com/jobs/view/4280506608/?eBP=CwEAAAGYgRR6NA2r9le3XUjXz7X7V6n0o6xybexEahjhI_9_tuRvjFkkUMIkcQ0KBYj2Xu5A2uMhTnhtANGYPy4wZa5_GtoD4ARxEKdVjTU-sckYPxnHgeikfe2GWfcZ_pfWsxd6YOCH_iUoxlrzpvtdfIxTEehwtodeayMDJ7_8saDPPDpxE8hveaAGLKzvtzYkTterR65fU90cVuBcMG3g9zVNK0KDvnIrZVeb0LN7U3h9j-Ux4CJWkLR5xqBvi9_N4xbSGHI--uHve7ic_c43dO-XDXwOZ5ObaDxxGGkRnOdZ0I4NfIIvZvBy_7Jir5ftrESCxIyY1O4ROTqrOWlljylQJFmtnNKkZfBAyGFW69WG5_1JpnR8ybVKQ8T-vsSJ6_z6ciGw4XfMt8q_chyragMUp84ANlkw0UFAIxImVc76s8MO7_2MwKFJnsvUszmxZ1rbRfNDYz2FZzguU9tqLumF4CZUYWE0YeKZ3lZdcr1LHrgSInD1hU9SbWAG1OaB1rT1IsWUoXTYtBk339ys09f7OsWcnBpu6Nvz726HZfi-x_zPV7bREKdkwXiSJIg&refId=HU7tKKPRmoYAbhpOIfM9nw%3D%3D&trackingId=Rqkmx7bWRxaZfbJlkVx0Zg%3D%3D&trk=flagship3_job_collections_leaf_page</td><td>Frontend Engineer</td><td>PhnyX Lab</td><td>Bengaluru, Karnataka, India (Hybrid)</td><td>phnyx lab</td><td>Bengaluru</td><td>Hybrid</td></tr><tr><td>https://www.linkedin.com/jobs/view/4278247578/?eBP=CwEAAAGYgRR6NDVlY1CSYgLTQ-LKG3slZo4n7nUvoYboawkPGpVD4XFCq0svTsM1FeDjXxQMib7dGAyyHd6E8xGYFmT01G8ifYukCagppVzOFSg5XaSnbnn3lok_3aKJMneUAiLZeiyW_Xj-KSKBM3Fz8ivVSZ48XAKLgaYnB00o2dK6Qrmj13o7mlYNO8W8HheXrnpDwc-Of2xuqSRkSQszrWoa_HNAadb2WCg8zThiilJe22R2slL9iFOHPYQzwZTWXlro9FE94Ku3prIgHn8GC06kYnM134THt8qKybBezldBchpXcBAjI1BtYbdpWek1m4MaP4Os69QaqO-smEF2zNLdNW647cYDHXlokYGUaVbbw9Mr3Ddj2Mw1ASlFIoplvOLp4_6r6-glvL8LzfX9Xy5oJoq_5jZGnqk1Ykr0g5aFZzItbxtF_yHJMh7iqSB29rrbL9-pSscAcrPW55Z6XGGga2SjwaFw2wU5jIYeFOqgPHRJMD2zMuHU2-boPqJ5zMwjfsuBkB1tPAgdL3jtdHTXT7AIhjA&refId=HU7tKKPRmoYAbhpOIfM9nw%3D%3D&trackingId=v6Lv%2BshX7eQApyk%2FDL27Zw%3D%3D&trk=flagship3_job_collections_leaf_page</td><td>Data Analyst</td><td>CareerUS Solutions</td><td>India (Remote)</td><td>careerus solutions</td><td>India (Remote)</td><td>Remote</td></tr><tr><td>https://www.linkedin.com/jobs/view/4273593598/?eBP=BUDGET_EXHAUSTED_JOB&refId=HU7tKKPRmoYAbhpOIfM9nw%3D%3D&trackingId=6sA%2BdRcQceHdBFuZTYLqbQ%3D%3D&trk=flagship3_job_collections_leaf_page</td><td>Python Developer</td><td>Datum Technologies Group</td><td>Bengaluru, Karnataka, India (Remote)</td><td>datum technologies group</td><td>Bengaluru</td><td>Remote</td></tr><tr><td>https://www.linkedin.com/jobs/view/4280141875/?eBP=CwEAAAGYgRR6NCZwe42hSSirH9Sz0o8RusjJYqS6izkOomHgR9MdcjawOgZ54qM87PceWtAp7xAwPHRmjQaWKS-GRwwWDvSD4T5tzSbREZbrjKceNi_08a9L113D9ZYUJL8z9wJM-jxNEfwQ5Gy90coQxMlHA8knzdWPuKpsaZj7gjm9YNfH8yk-3hb0r-rOlRC4bllJeYLMjlU7NUfvzbD0McNRoGgsO3jXLuyJqK6fCDSZk8cYERe5iA-MKPpnqAQG46dpfO6Oq_Bretj1oC7gLjo7Zg8qr_xk4ErdC7C1eymHDZzL951UA_GBzLAI6WFE50Di7F6UyrHtM0u8M3wbxnkimRnIzkS9nsWQiOwW-ONbQPyjHfzmipS7vd8GPVRyt15-0NwhyFUmMo6_e4JS6FYfnTegyRM93C4rPm-CgTvhPW4T75F47lAeuouxHTUA3PbfSQ0U6pTw9-ijjyJuNHPBwXM0M4vguC_44aFBFoDx3ps7TkZ_CNQ2r7RneKUSpg-4oMTdf71qDvbX44b_cy5bQaxiPZA&refId=HU7tKKPRmoYAbhpOIfM9nw%3D%3D&trackingId=1rjv0tcAjR%2Bku%2BxR6Cu06Q%3D%3D&trk=flagship3_job_collections_leaf_page</td><td>Software Development Engineer Test</td><td>Airtel Payments Bank</td><td>Gurugram, Haryana, India (On-site)</td><td>airtel payments bank</td><td>Gurugram</td><td>On-site</td></tr><tr><td>https://www.linkedin.com/jobs/view/4278062997/?eBP=CwEAAAGYgRR6NPjsud-JCM6_LEfbEy-EdUEYodoclOVyau1y8YIyD79YGll_luXVKRAlE5GuX-df0a_9RjU2Lr6VaHNWh7mrhBzQ4PeK7gwvwpj1FMDeJNuMXTjZQPT6KS_jACBktSojJJMvLg08VXmkiogliJEkdeLxRLe4n-Lybg3urosHnBtWZMVA-9LPOUXqZpxAQ7AbIKmufDCLD3TiINiIZPYbew6NnFGkaUl8JaxHb0fuATaCYvTgg-NB5KK8RChGon7xKNk3a4QEAiLldQQ6PdTxbK3bj0yGpIiZY4dh2aPkpb85F3iYwRKt3-bIp2WuBOd0ODQE4TiEvFLcPsnIrbe-zT6Uy9w85slAcdWLTc_MfhzwY-DJKiqDqGpY7-_MZ1SJam1mouq7TkEYGdx991gKAT-e0ZV31-OWwg83vHm-pe6t5ZQsyllbZcLB5eB7bMRLuRluUfPjmvVvxtRwmNvIRMnQOY_0xZm7guZ7jW-SQHPE-NlVngAtRR7Iyxgh3C4LOpcjA0QslhUJmjRXRbEF&refId=HU7tKKPRmoYAbhpOIfM9nw%3D%3D&trackingId=FRZMpeEhbcfD4ZicDPDbRg%3D%3D&trk=flagship3_job_collections_leaf_page</td><td>Python Developer</td><td>Datastack Technologies</td><td>India (Remote)</td><td>datastack technologies</td><td>India (Remote)</td><td>Remote</td></tr><tr><td>https://www.linkedin.com/jobs/view/4279361445/?eBP=CwEAAAGYgRR6NORvXTqamYdKMa3oFWm4INdL_Du8vD4zs7_I8EhTWgU3GEwYcTGzQiVPtiKqV2cNVjh_LVrp95TPPuTom-uEPXo2BdApc68Etx4J1pzZs_6M9HRkmzUpQPs-cxdM9X1vcv-sSeAMsIpZ-4AQ_8VU2ZmdkQ_7D8Sp0HqO38ag_2bUqNC40Rd1HCdTqpEVl2kTRO5Nfgowu7heBCWlTkdGo8SgovPoV_Orx104JJdS0x6IoXQmAvR7yHLuTK5jYnEe50Z7t-K34ZBpOYIPyZgT6eT4x3DMqls2z0OJQsKDI1M2XcXBVAJgNoI616SvcMurmc_lPP7BEyOfwnn4Cjtzgj41OplARirmeN3UjVicfLP8iBRRxxEXdrcbZn7aBh4ZsyD9mIYCnQUuWk8SAZ6DOz4V6vWl80YYrjz2kH_yQD-dJlQh398Qy1GLruM3uMHyRAxK7FwUY2_ZZ-1SQI6rmXldX8gLWoiqecVibPFtAQYFiptud5dJZM79TRe3L4cZRBAFixHeas6t2byZlqY0&refId=HU7tKKPRmoYAbhpOIfM9nw%3D%3D&trackingId=j4zt5xSJWnK%2F1Do%2Fr3AHRA%3D%3D&trk=flagship3_job_collections_leaf_page</td><td>Junior Developer</td><td>AAA Global</td><td>Mumbai, Maharashtra, India (On-site)</td><td>aaa global</td><td>Mumbai</td><td>On-site</td></tr><tr><td>https://www.linkedin.com/jobs/view/4278814835/?eBP=CwEAAAGYgRR6NGefh3UFupIXXCqelAz44yWcMnEBVNCb8pCq72QdpZAGlMuO7mudjuSvQiwaJv-NXzntWsRemUACEXBzC0nXaVmo7T2N3BdN1RKpHgXFfOyvdmFkdbZzC6IPW2XYLNI_xdgFVe-b6bNo8DThNYMkntw7tDgFb41irVdPR_M0sjmVQHQ9GBCM7fDjUBSOXq9wIftEGjrpVBQZCH-rjrOjGU2mOOT_1Yloma-TMMJK_sA_KgXmwYuyxJwlataRpEmKiqcuuJ80T4zEldWrpq2Q__5fDEgMDbmcrbrt6DAC8xw6LOG_0PrerW6JT-x5jdG6QlU4dBfrgk3hCdu-BZSaUqmXwohvgM5qcdC6sVllnav_fWUoWH6Vt1qkujTosZPXR7pzNxsPFR3HqfK8TGcUHJFcpt7f0z8aKrkQkkZvySV0W8nzuq-mWjSOgOgfcx0-J2yqfvJWLskAajWTXx0SEEeZ5lIrehEbPD2awPhJ-8QIYUgPCbNe7fo7U7vvzFuGyMUUzwYm5_ApsDNS9xaxKJs&refId=HU7tKKPRmoYAbhpOIfM9nw%3D%3D&trackingId=C1Hou1knVMP8LLc21f9sIQ%3D%3D&trk=flagship3_job_collections_leaf_page</td><td>Python Developer</td><td>Wissen Infotech</td><td>Bangalore Urban, Karnataka, India (On-site)</td><td>wissen infotech</td><td>Bangalore Urban</td><td>On-site</td></tr><tr><td>https://www.linkedin.com/jobs/view/4274205056/?eBP=CwEAAAGYgRR6NKiilphPR2gIm7WK5LppzWHZC2QQ8QULLHpHrvWEKGPFomAPpntaBx7z6D4riLXYcjffOnca6Jtw_S9pIPMSn7qgwqXh2zKhsaZYmvPdALSoYa93VO7KEpAqi-l39p4iio4Br4CPgIsH8l3KZQsDlIda4mtJTDPdcj6cbeAaDiQ0bgjkgGT8vnDELo4bTN8egb7dOuQvraymjPmy0L_fxblAfIsl89x62mkp2iu5Gbav-cuBdtUQEzU8mgF00L119U-annqtafgvKRgYIbsF2yDa8UaMelt39y-4RB8V_7xeiOf8XBENSKWkmORzLvIGc0i_EuYwWJ5xwy65Og3F-tp_4jJN9pGTOLeXKhiD7-C9S65FU4MiqW2QFgh2RJWKe1n7q_vtjLwwKJwUtQp7M3bB8YMQu7327_CwlpTtqNerkILIr18GPjY23W482tLV5NBmbJgj9lo9ZaNtcHYAUHgEJbpFUFD8lOZc1xPPQH1e55lM1NSfIGL6O69lEZx0e8ta&refId=HU7tKKPRmoYAbhpOIfM9nw%3D%3D&trackingId=um7qcUl4GJbXXYMfJf2TrA%3D%3D&trk=flagship3_job_collections_leaf_page</td><td>Software Engineering- Web</td><td>Carousell Group</td><td>Bengaluru, Karnataka, India (Remote)</td><td>carousell group</td><td>Bengaluru</td><td>Remote</td></tr><tr><td>https://www.linkedin.com/jobs/view/4280800394/?eBP=BUDGET_EXHAUSTED_JOB&refId=HU7tKKPRmoYAbhpOIfM9nw%3D%3D&trackingId=4Pvz7lPHap%2BuvWNHLyUg4A%3D%3D&trk=flagship3_job_collections_leaf_page</td><td>GenAI Engineer</td><td>TO THE NEW</td><td>Noida, Uttar Pradesh, India (Hybrid)</td><td>to the new</td><td>Noida</td><td>Hybrid</td></tr><tr><td>https://www.linkedin.com/jobs/view/4245121446/?eBP=CwEAAAGYgRR6NQ4ZuPW5NoKadsFFZ-VYhS7yKaWQJ7svFhT78q9LhJ2pePvsG8mQUMm5IN4xrQHOtqxHooQCZx3oziZJ4-E4ZLne28DqWuohIHAai1Tf1ra51iZq76X6EMKAlVdDxsc-YnIHLn0SAPvKsgStvtrttjOAUy4QxDMuKJAQ8k6wHsMSVYgf2VR4CCB4HMirLlDv_GCjMJK8_kETemf7_j6bqYZuR9vXNPqmvD4INYwdoFSaMhvmrO2JVKw7BD8_MPi8RygtjZxdxwlYfx6YDZzR55kLV2_W5AP2JCpAQCIzKI-FqWsZkH_MC-I3ZqBJKjBgQVp3YUtvhBzm7D0EvLwqHof1F7U0YeUIBt40A29xLHho9nO9SXAm1Wbz0DGYzopjiqLGWmqU4WY9L571NNxnHjt4VFCM6dFqxC_vuZrOWIepRN4biNd_uaq9rL9Ff9-ETBl7CZ_1rDySG-xdQHshaVqxEBi-W0wtAXoHQFyNIeR3sXs-7xHUWaR7jeNw-oURqvqvHiYkKHMT2rLlnPck43o&refId=HU7tKKPRmoYAbhpOIfM9nw%3D%3D&trackingId=TK35dOditK9QcPiygCvFZA%3D%3D&trk=flagship3_job_collections_leaf_page</td><td>Data Engineer</td><td>Centrilogic</td><td>India (Remote)</td><td>centrilogic</td><td>India (Remote)</td><td>Remote</td></tr><tr><td>https://www.linkedin.com/jobs/view/4278499830/?eBP=BUDGET_EXHAUSTED_JOB&refId=IXn%2B7T6IbKlYbETu2OTZWA%3D%3D&trackingId=UStwSF1dMfSfWZerjTNxQw%3D%3D&trk=flagship3_job_collections_leaf_page</td><td>Data Analyst</td><td>First Screen</td><td>Kochi, Kerala, India (On-site)</td><td>first screen</td><td>Kochi</td><td>On-site</td></tr><tr><td>https://www.linkedin.com/jobs/view/4280908957/?eBP=BUDGET_EXHAUSTED_JOB&refId=IXn%2B7T6IbKlYbETu2OTZWA%3D%3D&trackingId=1taqZsfAG7opCHSvh0%2F6WA%3D%3D&trk=flagship3_job_collections_leaf_page</td><td>Python Developer</td><td>PeopleLogic</td><td>Bengaluru, Karnataka, India (On-site)</td><td>peoplelogic</td><td>Bengaluru</td><td>On-site</td></tr><tr><td>https://www.linkedin.com/jobs/view/4275934453/?eBP=CwEAAAGYgRSHYQlBocX1aee5Y4B47a0ilvIj3x2b4sHK_Trxdj1Jw3BI8enV2QTjqlIOpNQIVAsJbqpSRDrcA0Dl9Kc7oC6xHOhQt0mNkzspgwkD5dylunHMN1wcbxHr5AcNc062hukfcPfr5bDuS-ugLCex8-Z2qYI-gMqzj2bbuipWgoo5UCRqRfFTvEdU63wjbQff3ycroIHRft1ZYINsoebENA9Kc_ceshhTTk2mwBDe76bDYg3TxKiB8nPIY_QW9zrULf70UdDf6y5TqQoDltR7W-uIoLzKTT_fe9GyoTTkHRc9eqw_fTs6H6Y7AIZNxZMjDOZTq9QJcLZR23AD9DqvJDLIzfsqhWVD400zgV3KCzTDBm5w0cJEF0kwHkP9h86k_EXOo3kRnKII9ffaXR60l0Sj0WbSlP4x-aanmKn12SvJAJKba0DlFxMLzebBzA1QNmSJBAGSSUWpTtH-eqbiqB5oHsmRLJkVMQCV6ri5mkP-FEsKRSalNC0lClo0QuhdKBKoOZsL-v6aYdRCGamKllAF&refId=IXn%2B7T6IbKlYbETu2OTZWA%3D%3D&trackingId=IFxwCcUSZmZw4y4GsT3Klw%3D%3D&trk=flagship3_job_collections_leaf_page</td><td>Data Engineer</td><td>Mphasis</td><td>Bengaluru, Karnataka, India (On-site)</td><td>mphasis</td><td>Bengaluru</td><td>On-site</td></tr><tr><td>https://www.linkedin.com/jobs/view/4266402388/?eBP=BUDGET_EXHAUSTED_JOB&refId=IXn%2B7T6IbKlYbETu2OTZWA%3D%3D&trackingId=wpHESDFp8IN4x8Cct1b2Bw%3D%3D&trk=flagship3_job_collections_leaf_page</td><td>Machine Learning Engineer</td><td>KeyValue Software Systems</td><td>Kochi, Kerala, India (Hybrid)</td><td>keyvalue software systems</td><td>Kochi</td><td>Hybrid</td></tr><tr><td>https://www.linkedin.com/jobs/view/4279555995/?eBP=CwEAAAGYgRSHYRqbWacCWN9MtaPKozxcrG_Xw1f9bVNPfGcKx_1640uqBQac989WB-NyOCs3gGFhAkalH9bcZ2-zCMTkQXhRCNBsesBEheI7TT-Oykg9k8hWrYTUxCMJn-bLEZKX_0eEQZ7K2M-yWHy8pqiBrYoLMdnOGk-jv2KPToe3IE7dQ8hSO0vNikZooGbKPC6HJc495YbXwo98nonU1XjSJ2YYXKmm7MDWx8eho31ri57siS1oI82KZHJbRSZLtGJnM8oSSlzyUJU640bH9kIaQOobryFnVYgb1RbuW7v_DcqCIdZQDFCDwz5LOm9ATBn-rGk5fKU2PHhzUkLRj9XXznyDgC-5RcXkStJB5x5KbAL462i8TzTTp86Sg83gyqwtTCacswOyncGcgutji9kn_xa17A_yA7BoVtMGD6_uMY37jwyRTpOPeDuiNYItOn7CTUzPl_rTzclstcKHIYsbLb1V7traOKS9OKa5YxCTXt7c_U-yzSpWk3zMXeo1_p8-1VIrkqDTDsf2IJj9ZeuH82lc&refId=IXn%2B7T6IbKlYbETu2OTZWA%3D%3D&trackingId=3oo5CSsTOD0mKIO9wHRQuA%3D%3D&trk=flagship3_job_collections_leaf_page</td><td>React with Python</td><td>InfoBeans</td><td>Pune, Maharashtra, India (Hybrid)</td><td>infobeans</td><td>Pune</td><td>Hybrid</td></tr><tr><td>https://www.linkedin.com/jobs/view/4280083964/?eBP=BUDGET_EXHAUSTED_JOB&refId=IXn%2B7T6IbKlYbETu2OTZWA%3D%3D&trackingId=3H5tkO6JmBNt5S9jIp26Aw%3D%3D&trk=flagship3_job_collections_leaf_page</td><td>Python Developer</td><td>Darwix AI</td><td>Gurugram, Haryana, India (On-site)</td><td>darwix ai</td><td>Gurugram</td><td>On-site</td></tr><tr><td>https://www.linkedin.com/jobs/view/4258100629/?eBP=CwEAAAGYgRSHYe1sV6LWIqEQ6ru6OvzRituNgxmjAGmaaj9j3gx64NJ53CI9gA5RNOjye_DEbuHkuprb0UitVU4tZAH4p8dvZ7n1MDxAIECJOaXBYHwTJ34dP6HqrunOJ43dt2WI3ZKJMFvfplBsiIAfsNxxoI0FmzUww8JHP3BsR4XzCRwtfzBxRUoau9Zuk7A3C9m4eVRNiu_PsgWaxMCS4Hq0uiYzh2eM8tLPW8GcBYz-B6IaIb534VsAnN-yqNoaDtWeIQwBL7I-G_3AZ29WfGHZIrsDiO1IQV6mscnkroq25qUiDzn4vWsz8AikZHGrPbtKEMgWu9_tIVWcVYCIpFmrKaXepG8nJPCF9aekkkDJB6hjDrm2yguitj_i19mZyWvmd1zFdhhssn58t8-6foLCJ8YpQP3FX2r_YIz-cOje_oxYRStrqsCknDDBOxiNV5PvNQwEl0MpzsoScvokB8CDasXLDedjjRvKSrMi8ivUDF8qfT6mv3mWi6bI6gN5DKEyzOybHOuENXhfTTuV2s2s5AsxWd257Q&refId=IXn%2B7T6IbKlYbETu2OTZWA%3D%3D&trackingId=pXH%2F%2FqLfOn1BAaIoANYdJA%3D%3D&trk=flagship3_job_collections_leaf_page</td><td>Geospatial Data Science Engineer</td><td>Esri India</td><td>Bengaluru, Karnataka, India (On-site)</td><td>esri india</td><td>Bengaluru</td><td>On-site</td></tr><tr><td>https://www.linkedin.com/jobs/view/4261958705/?eBP=CwEAAAGYgRSHYXq-2tNNLGZi3tyT7Af70M5BL5-Pi_K1HBDcKiynrFGF2e3LcpXQn7iT9HnVzOlx-CnpkI81QJIyQMjgkKxOJI3nHAozocToEZQ3fA8FM88So8qwPhkdgA0R0Z4Kn-9Pql-O5QKZyLmW6zVHMnV-RdAO6yCmmTrL1B_Y7PBA0T4fhfxdScTkIXIrurizBIEud2rMUIf2vmHsAI-LKzNL_0yF5V14BcEo2NyWgjjfOBUUwdlfTEextlrrl5QS-x8qKRmX7i53BJHaPfm_AR8LWQAwffXZBKoqNzF8VWAicfP7ywJG9OZ_V_3QJKJnAd9-FQ-6G5LCgaL9D8U6bc586b-7G72pQjMECQknRCWtw_AWiGFS7jQ-fF75OrI8CwlPPdVhet69yymUs2bNLDYS1tYfToQ3TJejpkM3IBIN6RpZU9im0l7rYGMT4__OiVU3dAw3ryMLBdzvdZORQDpRrS7pZ_5Oi7Qdqo0PJEdZRwKu9nfP3ZRvoiViaZs9vBRD627T2Z8g_WuinGmA_A&refId=IXn%2B7T6IbKlYbETu2OTZWA%3D%3D&trackingId=sgL49RdKujsj8ChiXEJl%2FA%3D%3D&trk=flagship3_job_collections_leaf_page</td><td>Sr. SW Engineer - AI Engineer</td><td>Roku</td><td>Bengaluru, Karnataka, India (Hybrid)</td><td>roku</td><td>Bengaluru</td><td>Hybrid</td></tr><tr><td>https://www.linkedin.com/jobs/view/4273865227/?eBP=CwEAAAGYgRSHYS77Qsl81O2Mp7sx0AvQFNJwhMVe_nHP8JEm0Xzl6o25QUzCEIlPnhMADCBlPnKh--GCvDQkcfIhzM2VdmaI8r7HxoucbqVsg7LZVKI3857sU9_rSeJM4CdzeSxL6l8br97iIB9NDPM08DWckEDn04tpxGpR6TMjWA5OnyuZtmVEH4N_aB8wTzQblpqUjPe87M_PjUq9RdA6alw7n0YRPYcsXmtZBcEdsgVUMN_XOwC24irK9Dz3DEP95vsjGGQc5-_QipYdmqTFO9kaW5ggeuGMEDXhIk38EoPGgJKVeklPNplgNa3RShXDOEFjamaQ_xF-PW1WBjodZopHsM9XxpQXxUnI4X0hbmo3hdl-2G2W_wIr63l-LuR5s2cHmV5K_HEd832o0FkmyeEsztYOFpdaWJfNWY50MUEKZiQf4dLiKTD0YCVLo1RE49z05NvYxjt_8ELafBDjCLdsUv7Tw1RWQVXwZUD7IOxgEpYQAbrKlAuaR6QW-5BBkJqfraPycCfnOtXmsoqW9CdtWTP05mU&refId=IXn%2B7T6IbKlYbETu2OTZWA%3D%3D&trackingId=Aq9CnYYL7gA6aWgVJKkajA%3D%3D&trk=flagship3_job_collections_leaf_page</td><td>Python Developer</td><td>Binary Semantics Ltd.</td><td>Gurugram, Haryana, India (On-site)</td><td>binary semantics ltd.</td><td>Gurugram</td><td>On-site</td></tr><tr><td>https://www.linkedin.com/jobs/view/4278056511/?eBP=CwEAAAGYgRSHYbKyK1t6aUVQpAHioJlUIGYPYPD0qZuJcA5sbG-5yJ9xXlsxCQN2bnrEeJynLuYdC4JOPRlkC5gLy7FDDbQZid1cw80_-l3nv5H07Us-DFcAL9Ef_mamod0c_ysEmpE5Vimg434q9tf8Mbz2FeIMFACwdG-r872fyRHghTCIltJPPziqdJ80MrSvA8dnJ4p6OujhcwkT44tWlkWKF5fk7mBKSavRx1s8oICg-_dHJI1wUitnIM5GFKDfbTthxUCAwDJmz47x_698X7t_wV7zMrFA4JXfVvuWpz7jbnBXvTBO7SmCJJ9p_yhmeOKHFP4qdC5yK8iNMBWiHaYgvtLs5Eo2iJkEA4dEgb3Rsfl-sDiUC4hWQrewrm_QORDlk3dw3ncVMtCzfuAFAsDrwUXsh9HDc2HrbJKxgEsMw8r_KEDWfBrBxWKA0SXOqDBGAIWMipv5zcsratuOC-6SS-1prh480ciACOu-KeD1d0U&refId=IXn%2B7T6IbKlYbETu2OTZWA%3D%3D&trackingId=al86rCGlIBzjPmyb%2FGunXA%3D%3D&trk=flagship3_job_collections_leaf_page</td><td>Python Developer</td><td>Relanto</td><td>Bengaluru, Karnataka, India (On-site)</td><td>relanto</td><td>Bengaluru</td><td>On-site</td></tr><tr><td>https://www.linkedin.com/jobs/view/4277157799/?eBP=BUDGET_EXHAUSTED_JOB&refId=IXn%2B7T6IbKlYbETu2OTZWA%3D%3D&trackingId=ByLFrh0x2XtwoPHts9Y9%2Bw%3D%3D&trk=flagship3_job_collections_leaf_page</td><td>Software Developer</td><td>ZEISS India</td><td>Bengaluru, Karnataka, India (Hybrid)</td><td>zeiss india</td><td>Bengaluru</td><td>Hybrid</td></tr><tr><td>https://www.linkedin.com/jobs/view/4280451154/?eBP=BUDGET_EXHAUSTED_JOB&refId=IXn%2B7T6IbKlYbETu2OTZWA%3D%3D&trackingId=nj834IAvHex%2F2%2FuP%2FaCGow%3D%3D&trk=flagship3_job_collections_leaf_page</td><td>Data Engineer</td><td>The Functionary</td><td>India (Remote)</td><td>the functionary</td><td>India (Remote)</td><td>Remote</td></tr><tr><td>https://www.linkedin.com/jobs/view/4280159089/?eBP=CwEAAAGYgRShx8mFwInd5Wtz4tKo5vhxu9PGSkhnIpiguzTWBAOASPujb6-ekNUa7oOzCfK_lTshBNbz4-hF-06OQNl2o53OnOA5IX3tX9ImsVQnYl_MgsYMj5Ktfodji77y5QC8P4J531-b_Wzz8OZvLvDs1VEgzeNnRBYTvUyWzELthchmd85APr28okiNzOPXg0EmZZR1HUaZXIMIOrmQzU8LPnbLkZ42sQlt65pQUuw9Cc8EWX0YAsuR1LPF8ZRPveXvJmkh3OR5OjdYCq3cmLH6khN2O4YLqWWfdgIEPzh1RaZi7-M1bSr95-8D0cSUYxg8DjHnYA3mcZH_F-2WhgGWm-_Sg6aAV66rJ2cHHRqqOG6d6OcMeslaR2PHIJWoOWZ30TtjN8-GILlOxT8FiqQAMnAfDV7oGUP7iTyCzcKk-m2CbjqNdGHd0fLhqBIFCqEW1EGRQVxXOZ4nHhtuh0J0xy8-nm0vaV3KzCuikIAHnB1ff_YKxz63Bzi_NXKAysRshfTjZAx7F6sondmOq5y8Y3vwu8wkdQ&refId=MYPN7y%2F6AW6jfo%2Fh5tzXMA%3D%3D&trackingId=xEsgmowR87anJxv07xJlOg%3D%3D&trk=flagship3_job_collections_leaf_page</td><td>Remote Data Science Analyst - 17843</td><td>Turing</td><td>Pune, Maharashtra, India (Remote)</td><td>turing</td><td>Pune</td><td>Remote</td></tr><tr><td>https://www.linkedin.com/jobs/view/4280346453/?eBP=BUDGET_EXHAUSTED_JOB&refId=MYPN7y%2F6AW6jfo%2Fh5tzXMA%3D%3D&trackingId=wK2%2F8zTdMPzdw6rnTyll%2FQ%3D%3D&trk=flagship3_job_collections_leaf_page</td><td>Computer Vision Intern Remote</td><td>Bhatiyani Astute Intelligence</td><td>Bengaluru, Karnataka, India (On-site)</td><td>bhatiyani astute intelligence</td><td>Bengaluru</td><td>On-site</td></tr><tr><td>https://www.linkedin.com/jobs/view/4280121497/?eBP=BUDGET_EXHAUSTED_JOB&refId=MYPN7y%2F6AW6jfo%2Fh5tzXMA%3D%3D&trackingId=A6Al2m%2F%2BYwDEgZrWC%2FiJ0g%3D%3D&trk=flagship3_job_collections_leaf_page</td><td>Data Scientist (AI/ML+ Python+ regression, classification, clustering+ SQL+ Cloud )- Group Manager-Data Science</td><td>WNS</td><td>Bengaluru, Karnataka, India (On-site)</td><td>wns</td><td>Bengaluru</td><td>On-site</td></tr><tr><td>https://www.linkedin.com/jobs/view/4275931334/?eBP=CwEAAAGYgRShx8FqwN_v7GT2o3MfO5XqjXZ0FGHQoj4og7uSXcJIn2HiNpBvkII_Q7ImY9L1xITqw6sSMxR5JzU8tFX0lHcnYRMr7p_tGmPLi0ZDAb5NAVn8XS49IWBxcXsevucIDyNe0caqD7Q2otq0yWZxbqrEmIfBK7nOS_VmLYAkzolgTr9wX2iXjfLZAMAjA7ldb4--GBy_JIzFyOQMouNYyHBWmraVEDJOVbJ1D_uxTi4u55aCHzD8_H6hfQV1QUl51dP7ymPq_Dp-6FwklEWpUH_IU7keakb2759MLFl_yxU0tZMZ7-l6DuXO8z5_jcYbmNG51xl2qxz6I2FjFdltlcNgTuyrLR1gRedj135BgEH9qoJ7nV98Rwe89WHqgyNTD7X6tW32AGcgA8nzFVWc7vypg5DZka_Z7rMbZoZPg1preQngKsSrl64cNPEm5I8zpF9d5dX-ljiCyUIWwJvWNymDz1bi5w4jtGY-35bAN7Qum41DijhH4Hl1Y4RtiNmPMkRDg5VsOfXCraSrYSlBK28oGRhm8g&refId=MYPN7y%2F6AW6jfo%2Fh5tzXMA%3D%3D&trackingId=o%2BSADGHi7wkXwyPxEswQjg%3D%3D&trk=flagship3_job_collections_leaf_page</td><td>Artificial Intelligence Engineer</td><td>Grid Dynamics</td><td>Bengaluru, Karnataka, India (On-site)</td><td>grid dynamics</td><td>Bengaluru</td><td>On-site</td></tr><tr><td>https://www.linkedin.com/jobs/view/4275584994/?eBP=BUDGET_EXHAUSTED_JOB&refId=MYPN7y%2F6AW6jfo%2Fh5tzXMA%3D%3D&trackingId=o2rg5nMH7ZJcKQMS8kQ22w%3D%3D&trk=flagship3_job_collections_leaf_page</td><td>Python Developer</td><td>HCLSoftware</td><td>Pune, Maharashtra, India (On-site)</td><td>hclsoftware</td><td>Pune</td><td>On-site</td></tr><tr><td>https://www.linkedin.com/jobs/view/4278123433/?eBP=CwEAAAGYgRShx3TZl56YZ6sZQvVs2waDUhC6-rqA3UnpjkiUH8LlWIxNKEueb0K3nw8sO8B-YtPwHz4oOIO70m_a4zW78NG2_gvj0et2LNfTNWOXKXaxDCWeHcAOWUcrRrBhBR5GtAfkiH8u7bm0M4iNdMoHKh2ZKO22skFrGt8QiimYwXku6N2Y-gDLAPN9w02kMW-75j1dk7FxTtMBrnzQipQfUxY8GPEYbkxGxtX8kAVpwIIgcNi5Ca_R9t7aE8pb65D7Q_1ag5WNR1Z5wu9WVuuNPVEnpJNHFPLN6yZHRMkvWlZwJSY07Q6gnkPdVZWzqd0mtljduNxBjwdN3AiVrecLmWxlYxnUzSp1I_dhIKZQgUPNlKI0p1WHfz0Skq75uBFNoVyg0-_vtjVe6ZYtQLl1VNsH0Zhgvev-qBKjCymk-yLUXhYyGaiKtM4VZUCnT80McFNPusIU1fW47VcWXGkOC7o5NWb-k_GmgXbz65B_wpyLn-MnvRbsoiEfdqJ74H3npBuhFLgp18wfEKfz8VodXaVwaOloRA&refId=MYPN7y%2F6AW6jfo%2Fh5tzXMA%3D%3D&trackingId=vo8pzKwkdxSqJBuE6x8FDA%3D%3D&trk=flagship3_job_collections_leaf_page</td><td>Data Scientist</td><td>Circle K</td><td>Gurugram, Haryana, India</td><td>circle k</td><td>Gurugram</td><td></td></tr><tr><td>https://www.linkedin.com/jobs/view/4272012450/?eBP=NOT_ELIGIBLE_FOR_CHARGING&refId=MYPN7y%2F6AW6jfo%2Fh5tzXMA%3D%3D&trackingId=6wdCZjJ1%2BXIG%2BhJWUqQo%2Fg%3D%3D&trk=flagship3_job_collections_leaf_page</td><td>Python developer</td><td>TestUnity</td><td>Bengaluru, Karnataka, India (Hybrid)</td><td>testunity</td><td>Bengaluru</td><td>Hybrid</td></tr><tr><td>https://www.linkedin.com/jobs/view/4277501095/?eBP=CwEAAAGYgRShyNaVrCDtY-Qlsz6VMJQpihbQdzjtLC4eWhIopdDHYSz9ndUrtFoZAdcFRhKQqGOPA8bpfTSTrHf_e2dcJtVZLOXdlqECRnM4wNMragLJEPkjqQyycjDBjighwpTtGepJ_39O9aVdCB9IdCFaEA7d88oJ4C6NIwqq7zDsQWJw3MAZhJGtCWF2clhOfpDe9IB7xL9PSN4lu0xbBSlGrGGTRnS33imPvSalk2FTPzoXhHJviQqQ64kg0XmUyHagftQTkqEO9ssh0sqbfiWu8l8JoSnS5RJcBXHxjG8WOGsaLwJz6-jDKl2EXMpE2g5fY8_4uoSphNnd6KicmVnSSAM6Y6aQ6WfPJnbADJKDr1uZwLsKeh28Bc42PIUWbnuJE4KENQsBN066UyQklx5hYBZOxLxso7TpgL6m8SU4DcLvxKBMf7ioeYei-8koYchAcXMNF0mMjRPbd2xD-rAg7zZ5__W9TVFxlhmo_QnoOw_wkRoC6xTCvwusafntydV0XtLEoxqMDKZUh_RqgNycyUOz0OU&refId=MYPN7y%2F6AW6jfo%2Fh5tzXMA%3D%3D&trackingId=HELp3b62bEVrf6V4k9dGIg%3D%3D&trk=flagship3_job_collections_leaf_page</td><td>Sr Python Developer</td><td>Nokia</td><td>Bengaluru, Karnataka, India (Hybrid)</td><td>nokia</td><td>Bengaluru</td><td>Hybrid</td></tr><tr><td>https://www.linkedin.com/jobs/view/4259429652/?eBP=CwEAAAGYgRShyCTm2v1zLa-TznmmKNaOcLt38Hiv-zEr5ob_DK-ejshPNlZ5Cp21eV0occQbdidT4ijq4U-2f8PuijG2Uzkp3FZIY5tJIDi69boyqzK7-khciDQSmObjt0tc7WfllFAb_Q1E65pXsRRI3CUe0ZyKYPdIEWhQ-gQ4GlNfk13_J8bVseT5xZGeeO1M3IKO4a5H9Osw9n5BcCBJspEAW8jiGgtZihJRXcVFqbOIvqeqCoeqmApD97T-9sERYnMHiC-y5pnVtzrhq5Kc02ZAlzN1dlLT0ESuW-ZM9K8d-tdsc6tlZPnc9wV4bJlK9YHVg6Iu2GUcNJRBfDzWjs03DZEhuex1SbkJQfibO-ZuBAjIBCHIsFcQCnWQG0Th4lHStqb9iKL-s8uOH_mLaDzqVBKaGHqxhr8PXq6ybC9mhvOLv1jzW6IKQgEb2QufdyTBsInhagBS6DrMqPodB5a9FrqGka6ekxNHgCPVAXyijLLUcdksQRhMjsx0Z_G8swKnKRQirYgxtFufEeb8qup74Op-HbQ&refId=MYPN7y%2F6AW6jfo%2Fh5tzXMA%3D%3D&trackingId=200YpSPF5ybsudwdVRypmQ%3D%3D&trk=flagship3_job_collections_leaf_page</td><td>Full Stack Developer</td><td>IDFC FIRST Bank</td><td>Chennai, Tamil Nadu, India (On-site)</td><td>idfc first bank</td><td>Chennai</td><td>On-site</td></tr><tr><td>https://www.linkedin.com/jobs/view/4277602277/?eBP=CwEAAAGYgRShyKyNJTlmK1pfAeEswA2CFD4VSmKsdET2eKkyr-zpWwkfocl4Pi513-1ZqmWhcsNcBhOdbK-t-7-cRMOMID27yvfUIItsxFdkJJ9qXwC-wT07FzxWYu6v7lynyJdETuYZIwlS7nUeolIIt4wg7GdbpisD9E5QE8z2ZJI95qhTIEaNwfhGjp-hA4UAiVfh_bAFFFUVQseambGS4VmoutUdlBV1UhvflpKOqKzOerMM0Ra69SyS_Gn46ujefliOQ1qfkHtFo2drNouQ1TK54uKN5Q0abQ3Km9lA_4UBdrD4HRDYvuvk8aP4Bo-v_9JJ34GW6HgnIKm4wk9-_iXHBEhReN3Ie9OnSc0BNwQe9ajvKY7R0RQBdSzescg9HqOWLCEsc721Lzy3MrHBCEvg5wTeGXZ_8r40ZQWkoY3oDK7EHD-JQDvD-W5q6XCIJmCFVAkAqKT8Vj-8H0qg_WvbrzoSLhdw2Im6uMYRQpKGAbgMZrSEb142XcbE35hRW_mgku_3gQcpooFPK6o-KHqpbyJYBWuWNQ&refId=MYPN7y%2F6AW6jfo%2Fh5tzXMA%3D%3D&trackingId=4ajm2bGTGhFZwINurlyhtQ%3D%3D&trk=flagship3_job_collections_leaf_page</td><td>Software Engineer</td><td>Nanonets</td><td>Greater Bengaluru Area (Hybrid)</td><td>nanonets</td><td>Greater Bengaluru Area (Hybrid)</td><td>Hybrid</td></tr><tr><td>https://www.linkedin.com/jobs/view/4250486850/?eBP=CwEAAAGYgRShyBsgTWqkc0sMGXqbaMwILYszW005WX-hc-2llOIj4THlwbg43-w4L5Dfw1r_VmYm17TsvoZtA14YSr8dEVIB3WT2VAlx55M2xNgv60okU-EEu4mRTpUv7X4wEGpHaIfqu_KUs_Xu1nNLjvMaNaLFepUqCHVSEioR6yeqnmfhMjEYhTIL913cxhKyXpzbcJuVz-ewgPSZFiX0I-8tJLE4oIhPNsNlPjdQ1ZV8ytrpzORgHkbNywznLHoMe44SMhVWLQPmbSUnhqEwgUknI2DJe6sUzn2HSTCpCCDM23UgxDbkP_-SBWMcvU4frR_eUGCmhNZhZif3iKguFMB-zsfNjyDLABITcqhdDffqYKSMTYxP44iE88HE31rOlfIaktyj9VNbIuaf1j51I06xd9OIPDZ2cGn0F9yaWmwQVm6xwJCmXJTdYJul_6SRMYq-kDwCfXE0uKbg8_UsZwJzOvMDOCbglrwl9T5TOtKtYVIsCFPZeyQUG1Veo-ml3AUvXgeWzqYDJatJExfe-JUtdvPC6XCQ0A&refId=MYPN7y%2F6AW6jfo%2Fh5tzXMA%3D%3D&trackingId=WeMUBb6LktSrAC2b%2BR4LuQ%3D%3D&trk=flagship3_job_collections_leaf_page</td><td>Data Engineer</td><td>PrismHR</td><td>Noida, Uttar Pradesh, India (On-site)</td><td>prismhr</td><td>Noida</td><td>On-site</td></tr><tr><td>https://www.linkedin.com/jobs/view/4278206174/?eBP=BUDGET_EXHAUSTED_JOB&refId=MYPN7y%2F6AW6jfo%2Fh5tzXMA%3D%3D&trackingId=kjig2QgL%2BJKE0XkT8BhdlQ%3D%3D&trk=flagship3_job_collections_leaf_page</td><td>Python Developer (FastAPI)</td><td>BeamX TechLabs</td><td>Hyderabad, Telangana, India (On-site)</td><td>beamx techlabs</td><td>Hyderabad</td><td>On-site</td></tr><tr><td>https://www.linkedin.com/jobs/view/4272841876/?eBP=CwEAAAGYgRSu0ynzr8P8Zh_cW-9jSXjrS_qD_ijkXkQKOaQGf0LsLdHsRZ-DwPSYTysmKlljRBY8pQmO6EqQwclwqFLgnERhNAtY5gq8KhkXEYyf9uS6E4gQzCrPRYBAmKrJPKuT_r-lxUjOvG24jl8QntUfN2LObLmZTJLLNDEwMDyeU9lIlbeaAfaUSMeFYuA95ZtGGQuiB_0uVRwO80Xq6kIDCJQc22-sgWqI2bpV08dwAtw1---P4v213iEemww7xUrJ20GBHZqa0emJ6Rmw_qofG2FsopS4scFrlozbcjrjm6pJWW4ZKvBdw_YS7VSqoL-38_hL7f9J5g3Ze-rr8_JxRcJC_0GnVUeXBv8uMjQA1Hlsw2VtE8XSxyITgGXEBSodgR3ByRmtgGP3xC_2JUfwVGrsnJtC2WjynA1tISE43vUpGxk5YL4maPz_6hOPxT18iM_bsoLZ_hnW3qPqo-aT1OMI270wierN8j8DIJar3-NvhomM6otbeRHXH6eUP8ep6gje_a0QNKRml8bmvwavvfny&refId=EBSmkZioQQPAVNqYw9%2BGTw%3D%3D&trackingId=Nt7moGcXYyt1NFl6DeQTPw%3D%3D&trk=flagship3_job_collections_leaf_page</td><td>AWS Data Engineer</td><td>Iris Software Inc.</td><td>Noida, Uttar Pradesh, India (Hybrid)</td><td>iris software inc.</td><td>Noida</td><td>Hybrid</td></tr><tr><td>https://www.linkedin.com/jobs/view/4267691249/?eBP=BUDGET_EXHAUSTED_JOB&refId=EBSmkZioQQPAVNqYw9%2BGTw%3D%3D&trackingId=jvJ8zzz7u1YO4DzFOgsNsg%3D%3D&trk=flagship3_job_collections_leaf_page</td><td>Growth Data Scientist</td><td>Moniepoint Group</td><td>Bengaluru, Karnataka, India (Remote)</td><td>moniepoint group</td><td>Bengaluru</td><td>Remote</td></tr><tr><td>https://www.linkedin.com/jobs/view/4278747387/?eBP=CwEAAAGYgRSu0_p5cl5v3mLO6Nrj5rBUTuwsarA-ZZ3LQM6FeBFfjJo4rTuFOBqqgOc3S6Z7TaIrXTJdVGksrGkpqOyzBUFbpsbfodRTE-uoPyjoJMckbq-BT3wQ1cHUThsWJcFJLCCNHbtZR0S9gu8OLPzp0uXZoVANOPTHmzv23ev3yyR3IuJjX7Js6wvDdK_Ok9RW0hCtDH7nE5_Rzq6u0yuk7ilOqOtPJzkDA-yr3_SBI4OM_Cud2o6Vw05b7WJ1YnJNXsF2VyoxSvBAD78r6sqo7ik_wcV2KQ4dfspR7Aa5zW_Ek4MqJKiBcYOzJUv8F9xX1VbvzheHIIs4huD3sfkhwWBDifPhRyJ-U2JuuxP1GxaZheNY-oOiNfN1f6A9f9N3shITlywtzHrL360ZhSOJ7Hz7LilrZJBMToatEBnj1hh4lN46nAYJd7Cjc9g99LwJngvXz60SmTQGnQ5-ZJlc68Q68qOGCngF_58ZnKwLgFczuDGmMY-NkZm0wqiO-rVIildPN-F7_hZzh-TW3BsSG6Ux&refId=EBSmkZioQQPAVNqYw9%2BGTw%3D%3D&trackingId=aMWpnZNin2TgYCEE4diZOQ%3D%3D&trk=flagship3_job_collections_leaf_page</td><td>Data Engineer</td><td>Flywire</td><td>Bengaluru, Karnataka, India (Hybrid)</td><td>flywire</td><td>Bengaluru</td><td>Hybrid</td></tr><tr><td>https://www.linkedin.com/jobs/view/4280132856/?eBP=BUDGET_EXHAUSTED_JOB&refId=EBSmkZioQQPAVNqYw9%2BGTw%3D%3D&trackingId=ngW3Yk868pVEItMSY3NA0Q%3D%3D&trk=flagship3_job_collections_leaf_page</td><td>Full Stack Engineer</td><td>PepsiCo</td><td>Hyderabad, Telangana, India (Hybrid)</td><td>pepsico</td><td>Hyderabad</td><td>Hybrid</td></tr><tr><td>https://www.linkedin.com/jobs/view/4271280137/?eBP=BUDGET_EXHAUSTED_JOB&refId=EBSmkZioQQPAVNqYw9%2BGTw%3D%3D&trackingId=bdAO%2B8jQWxFPiKwb%2BtuITQ%3D%3D&trk=flagship3_job_collections_leaf_page</td><td>Python Developer</td><td>NAV India</td><td>Jaipur, Rajasthan, India (On-site)</td><td>nav india</td><td>Jaipur</td><td>On-site</td></tr><tr><td>https://www.linkedin.com/jobs/view/4274202231/?eBP=CwEAAAGYgRSu0yaS5y0Tlyf9xBApUYTOI7z9t7vCRy-UpuwVe8LHwLPPPSDP5usEqCvifDix2UfFfJDB5XbQjCpBXhWP2QEUX4Co9o_DtYFAVor-i_EIq0wm2Shz_tF2npe2wEBta6aXYekMlhupQgBnwLnPsWQqT2NWVsqsWdbEcD4fcleIjRQKBN6QPYTswg0WuMs0RiCeF37VanKAMQr8fD_vkC05EY9jSQPRWt7Ia93X4RYe07BDfAoOzDNKPS_x2IPWkzH7UdYg-9eZXt1hT2Xs3XCepIuIU1S6-ZgyBEnWmvFkdjQ-gnkrTB_PMzAcLir0l8JL41KqH1mzEHiPeU1w1z7E-2epjVf3A2vVLsiqAVT3MjsT0j6spbBNpzGJIZghUUjumbVt-gAlawdo-ysZPalZoTp5TQHPFWoShSD6JBTbDIlG6BuAWN_xZs802mfDtjb90aiDZ8er5qTQgelf9Rj1IGLrc8Lr3pau8M0BBnMnzHmy_w9Xn58jFItBOm1gLFUbZ6b6BFIzgETE1_JC9u2kcxtUnQ&refId=EBSmkZioQQPAVNqYw9%2BGTw%3D%3D&trackingId=jiwVMb1aegFvy%2B%2BFBpo9NQ%3D%3D&trk=flagship3_job_collections_leaf_page</td><td>Python Developer</td><td>Vista Applied Solutions Group Inc</td><td>Bengaluru, Karnataka, India (On-site)</td><td>vista applied solutions group inc</td><td>Bengaluru</td><td>On-site</td></tr><tr><td>https://www.linkedin.com/jobs/view/4274041586/?eBP=BUDGET_EXHAUSTED_JOB&refId=EBSmkZioQQPAVNqYw9%2BGTw%3D%3D&trackingId=S4Y%2FTvkNT3bBUSG0zusF%2FQ%3D%3D&trk=flagship3_job_collections_leaf_page</td><td>Data Engineer</td><td>ThoughtFocus</td><td>Bangalore Urban, Karnataka, India (Hybrid)</td><td>thoughtfocus</td><td>Bangalore Urban</td><td>Hybrid</td></tr><tr><td>https://www.linkedin.com/jobs/view/4278056971/?eBP=NOT_ELIGIBLE_FOR_CHARGING&refId=EBSmkZioQQPAVNqYw9%2BGTw%3D%3D&trackingId=tL0tOK7WsLfWzkrArNyvwQ%3D%3D&trk=flagship3_job_collections_leaf_page</td><td>Python Developer</td><td>Prometteur Solutions Pvt. Ltd.</td><td>Mulshi, Maharashtra, India (On-site)</td><td>prometteur solutions pvt. ltd.</td><td>Mulshi</td><td>On-site</td></tr><tr><td>https://www.linkedin.com/jobs/view/4278053425/?eBP=CwEAAAGYgRSu1JdlAnupeNTWOdazeBSeU8sxuLlcsHSgon2rNXsn2NvNBEF_-CKKsPUW5pVnXEFlQX5NspJzCJXXOeEhXU056x63pBZkq9veyp49TKSoq0Ntjtkga9QZogZUeGyAXARlBDY-uzdhOHDZO3R0TQ15PVTTerJ-0iLYIwcpTJz5GGFibUvm8dBAogl1zKcUuNFLW_AfWfbQfFQMix8uvJSactJ5iStb4cHz5dSnuT1J1S6Z5HbGm0kFLl2PjqT1oBLjkp8cpWwYU9ttuc3WqHRzYIi2GLAA9ITusOeHZN_EnA4ptz-0jaLTIp2rMhPi0L8R2Ax3ED02oGckv0z6hKZ2hQYVddWBEEPX__CabULQ09DB9yIpv-avZkEoVEaFlbfB5uZGTTiorUI0eo-CpdV0koEQ8rpdM2aNjZHsujK0s5Slw0Ag-3YZxHDeMMhC0C1lnG-oUFeMe5K-fmJw18joX3YEIlbv6bH1aLZnQfA3yKIt_H2WezN6gUiHrzg8z_MS7g3AcINptRSW0lSgVl6LPn4qew&refId=EBSmkZioQQPAVNqYw9%2BGTw%3D%3D&trackingId=yIrVVI4nggaCSczQpcSVfA%3D%3D&trk=flagship3_job_collections_leaf_page</td><td>Python Developer</td><td>NIIT</td><td>Gurugram, Haryana, India (On-site)</td><td>niit</td><td>Gurugram</td><td>On-site</td></tr><tr><td>https://www.linkedin.com/jobs/view/4266230981/?eBP=BUDGET_EXHAUSTED_JOB&refId=EBSmkZioQQPAVNqYw9%2BGTw%3D%3D&trackingId=SAUSa3RE1GC3zL4q5zM5aw%3D%3D&trk=flagship3_job_collections_leaf_page</td><td>Lead - Data Analytics</td><td>Freshworks</td><td>Bengaluru, Karnataka, India (On-site)</td><td>freshworks</td><td>Bengaluru</td><td>On-site</td></tr><tr><td>https://www.linkedin.com/jobs/view/4277616307/?eBP=CwEAAAGYgRSu1OciLGpKKAU34yDQCFpmdP9i-d7AFG8kAQYoawBXq0-Wz4gW39Alnen7imlNrXWBA_hbYAPYX4AwNRpLIw8ETriJmMJQiZwQhP4tTzBHej7b6Cbt82AHjcw9ay4cp5qmmWf8YOXomY0PcZaQc-rdi8SYeX_yjZDHLCB8EIObMHyT7zxFL0Pt_rXoSKDZMppSsGXnOtI7WpF5Vc254-lGLQllbsNbstcgLQcbPNB7yBN15fgsLSTKyAjlqXjBkqBhz2zSL3hP09s_nwHLsq_UKm1xxxNYlbBZKKlv6HV5DkAzAQpdCp3eZ55QdESTw6pa509xdX4evMiTVfN9WUJfxCvbvAQHMHQOZjTk5AoYdib3N5q5mKTUV40K0vNxowotLUnLa-nq0iQOJI98sg3vme94eXmYwhOnXLeLvCUApZMX-Ni1d6U&refId=EBSmkZioQQPAVNqYw9%2BGTw%3D%3D&trackingId=u36Ji%2BX3P%2FKdP%2FWPadPnTg%3D%3D&trk=flagship3_job_collections_leaf_page</td><td>Associate QA Engineer</td><td>Cendyn</td><td>Hyderabad, Telangana, India (Hybrid)</td><td>cendyn</td><td>Hyderabad</td><td>Hybrid</td></tr></tbody></table></div>"
      ]
     },
     "metadata": {
      "application/vnd.databricks.v1+output": {
       "addedWidgets": {},
       "aggData": [],
       "aggError": "",
       "aggOverflow": false,
       "aggSchema": [],
       "aggSeriesLimitReached": false,
       "aggType": "",
       "arguments": {},
       "columnCustomDisplayInfos": {},
       "data": [
        [
         "https://www.linkedin.com/jobs/view/4277353126/?eBP=CwEAAAGYgRNcby_KMfZuM7o_bhgQ0uek5G8LIz3U7hjMncVVugI0W2_2x-lIQOk63MgV0pFj1MjE7HhaGb99RkLXZd7jc6H1r_q9un6ncxydzB4Zy4dvHyAMjBZusDk3BCMZXk6r9wePxGnPxBK6dsD_W2mnEKr3amupMQkiN3XZnOFFNNapGVk8qdkqTs0IAI_GeSbrH7zGtVWwYH6tXDFc27dAMFMF2a6J4ilRCR6xI7wl-bnmqR5plOLIXvROJcPcb4SEFZZYlH23vHwdNScpsPGI9Mo916ZU5ALO1qNqiqvKmo51EY2q6fT-5JM1Le5sgtVHSsi5njSw4f2kpL0fyUxR0TUd_ZMhrqCnSG5Kazaq7YI9f6mWYHAifiN_9F1GrdCMA54q9amRH6-AyDbsaL6ADQdVADtsG9iTYgiXgfkrd8sIwiRqXuDridZ34T7CKI_moz3IUU_2uFkqnLIxb8JZ4Z1mOexrhF65qQ6ZrdPpaGrubzWyhnwg9LegBFWPXreSmumgQ3yudbUw7lKA7yf50w&refId=VTdxZjP6Td02BrgNGEyD5A%3D%3D&trackingId=0ZNpZStGR73FRjLBjitcjg%3D%3D&trk=flagship3_job_collections_leaf_page",
         "Data scientist- Python- AI/ML GEN AI- Across india",
         "Capgemini Engineering",
         "Mumbai, Maharashtra, India (Hybrid)",
         "capgemini engineering",
         "Mumbai",
         "Hybrid"
        ],
        [
         "https://www.linkedin.com/jobs/view/4279260172/?eBP=CwEAAAGYgRNcb2s1qwNtsjoHmBzkZDTfCaIKh4_KcJSW4K5JiGezWlAfSSyLqmqvwEafp0lfK62lGPaszLMuoV1OfHtTiORVAuYwAHvPaZDfL9IxslYvQCgpzQkOvgQn0XY8fm7aSZUuxoz7k7Yc7Lw8BeQ_1F32c10tfeAI-D4CeQhRLnRQBWyyE93S3Pu49_0uyTWM5jVFVUCLPlznkBnUNWydS41ETB_Uo7UraHzR7AcVTBhfZVXxOnND5xaN_rHwAOIR4G2PhIMccU0Xu0o12TqGbUIcmY4R4ecX4uuUmV7S0rJRHU4Y_3LRmfobxeU4olIHHRLzrplIj0vhltiH9ZzHjaBUXZLnl-F-bXK1wDrsKcDaXndTmPDVaAR_y7705p4W04jw3zL90AJC2sOfY3_gua9nr9LNtNp4jInWiQur_pibVwKWpYS7Bpzxe0aPZ3g7RnI4na45YjYWRaqT9qUpQ48A9EOl472r-QKDOLnE4hiNvo309xdSfc-fN0641ulh-irR-8fQPyiA85JS-MGCHHb3&refId=VTdxZjP6Td02BrgNGEyD5A%3D%3D&trackingId=DFyDIfGzjUfLe4OLD7lvgQ%3D%3D&trk=flagship3_job_collections_leaf_page",
         "Junior Data Scientist",
         "AB InBev GCC India",
         "Bengaluru, Karnataka, India (On-site)",
         "ab inbev gcc india",
         "Bengaluru",
         "On-site"
        ],
        [
         "https://www.linkedin.com/jobs/view/4277908502/?eBP=NOT_ELIGIBLE_FOR_CHARGING&refId=VTdxZjP6Td02BrgNGEyD5A%3D%3D&trackingId=wd9LH%2B3Su9OdfoKJvC6W6Q%3D%3D&trk=flagship3_job_collections_leaf_page",
         "AI ML Intern",
         "Hubnex Labs",
         "India (Remote)",
         "hubnex labs",
         "India (Remote)",
         "Remote"
        ],
        [
         "https://www.linkedin.com/jobs/view/4280550072/?eBP=BUDGET_EXHAUSTED_JOB&refId=VTdxZjP6Td02BrgNGEyD5A%3D%3D&trackingId=Ffe%2FR0gnvKjESBdjFIr30A%3D%3D&trk=flagship3_job_collections_leaf_page",
         "AI Engineering Internship",
         "Deep Learning Titans",
         "Bengaluru, Karnataka, India (Remote)",
         "deep learning titans",
         "Bengaluru",
         "Remote"
        ],
        [
         "https://www.linkedin.com/jobs/view/4216659912/?eBP=CwEAAAGYgRNcb7pUVP4u1ndn0ccV-twoDKQpJgzTyFXjquRaqv9YuqDQZUCU45geb-XqNGUhWk2Wa_HxKSjnD0-THpdrzhsQUfpW7l_bR0NrPt7usu5ESbW4P_Ir5Zn2vOah5YPpj6pmUn6XRg58awc94KFovwd6s1aQps8SFuD-2K0YiyNRZe4GtITl9PL-vqqPJZ0DjkdoGpB8enCloNl16jPlUJQuLOqmbgz82Ger8j9uD6yG0Ed0O_pT2zqrhe5vKbeSsicsWej7xA-zmKWxKMW5g9jVUCCACej2rXoqJXlhpCWWFnhlvHunaIFL4U6bY1cr1_H0P6C63_a4gsFrrnvbzqk4xruhemFXZ01c0UoZz59IvX0zy81w9GU5m45E7vf1zrix-zphjYUpFFcBM0o4VnIEeVKGSUiLvueXSVsT-VOf8G88bRZX_7QRNBLu0w3Atq8WjuBgx7-5pvOyNIyvNF96Q2iZoIBmL-6KRWF3UWu1Qc62P_FRZBzoxjEgVozczLPlgnh10st-Vf9XdZuiQD6I&refId=VTdxZjP6Td02BrgNGEyD5A%3D%3D&trackingId=DBYgLD94oNPi0dzDo%2F0TOw%3D%3D&trk=flagship3_job_collections_leaf_page",
         "Gen AI Researcher",
         "HCLTech",
         "Bengaluru, Karnataka, India (On-site)",
         "hcltech",
         "Bengaluru",
         "On-site"
        ],
        [
         "https://www.linkedin.com/jobs/view/4274222266/?eBP=BUDGET_EXHAUSTED_JOB&refId=VTdxZjP6Td02BrgNGEyD5A%3D%3D&trackingId=bfRBbJuyo7u9QHzDgWM%2BAQ%3D%3D&trk=flagship3_job_collections_leaf_page",
         "Data Analyst I",
         "Navi",
         "Bengaluru, Karnataka, India (On-site)",
         "navi",
         "Bengaluru",
         "On-site"
        ],
        [
         "https://www.linkedin.com/jobs/view/4277354782/?eBP=BUDGET_EXHAUSTED_JOB&refId=VTdxZjP6Td02BrgNGEyD5A%3D%3D&trackingId=a62Q7extgMqaT9qRq4geaw%3D%3D&trk=flagship3_job_collections_leaf_page",
         "Junior Data Analyst",
         "The Guide",
         "India (Remote)",
         "the guide",
         "India (Remote)",
         "Remote"
        ],
        [
         "https://www.linkedin.com/jobs/view/4280144071/?eBP=BUDGET_EXHAUSTED_JOB&refId=VTdxZjP6Td02BrgNGEyD5A%3D%3D&trackingId=vgkb%2B2Cf%2FIrsrTqwqKQsDw%3D%3D&trk=flagship3_job_collections_leaf_page",
         "Python Developer",
         "LTIMindtree",
         "India (Remote)",
         "ltimindtree",
         "India (Remote)",
         "Remote"
        ],
        [
         "https://www.linkedin.com/jobs/view/4279278278/?eBP=BUDGET_EXHAUSTED_JOB&refId=VTdxZjP6Td02BrgNGEyD5A%3D%3D&trackingId=uYbbAZHlkuRTf55jYHMLyA%3D%3D&trk=flagship3_job_collections_leaf_page",
         "Machine Learning Engineer",
         "Tecnotree Corporation",
         "Bengaluru, Karnataka, India (Hybrid)",
         "tecnotree corporation",
         "Bengaluru",
         "Hybrid"
        ],
        [
         "https://www.linkedin.com/jobs/view/4274305695/?eBP=BUDGET_EXHAUSTED_JOB&refId=VTdxZjP6Td02BrgNGEyD5A%3D%3D&trackingId=fJC15olWXCub2haFX3DtcQ%3D%3D&trk=flagship3_job_collections_leaf_page",
         "Associate AI Developer (Remote | Flexible Hours)",
         "Pravartan",
         "India (Remote)",
         "pravartan",
         "India (Remote)",
         "Remote"
        ],
        [
         "https://www.linkedin.com/jobs/view/4279997390/?eBP=BUDGET_EXHAUSTED_JOB&refId=VTdxZjP6Td02BrgNGEyD5A%3D%3D&trackingId=2j8NIR5PQefhdtHQD1wuRA%3D%3D&trk=flagship3_job_collections_leaf_page",
         "SQL or Python Developer",
         "HRM Counsel Private Limited",
         "India (Remote)",
         "hrm counsel private limited",
         "India (Remote)",
         "Remote"
        ],
        [
         "https://www.linkedin.com/jobs/view/4275952439/?eBP=CwEAAAGYgRNpqyHT-WEjS04882Hj9u_yQpEwLAaYqLnkdpMaPI9Wg_Iac36A6p4Iy5bk6RvUNHk3JMh-ZWrIgs3JGFsSjhzAJfdaO0TjVLErO5QWcqIf4HufnKC_roMTu5pGpBSArCNMXcv8UNVlq8vThrmfV7w8jFj-ZB55PsRH_zEy-24RWZ2cKLvbT5eRQG93R6k1m2wGEOo_eRpp5D6-HBqlYEIW5hjAX3tuPVmlSXCWgV6Lo4o-XUXmqJ9AHM_7lToHxLOBsJhvlBQ9TnJzBOuf6JshVnchADnj9ad9eQoS1MClf7ih7S6_UX9dpk9zYmDGeK9HDi54BpF5Q7Y3Yo0bshd2V7-tXh4RxADm-jdoXodWc5nImV6a9j2iB-3yGFXqnYCa3zx3dY8aCXMpA1dTt8mJl97f3f-GKaOTE5GGDpMV7Z3SgEN1SAFU0sKWpTOwIXQIBKNUqWALq53mqeRaAsxeJGKverevXxhdbT28cnx2iPaNVF0OYFPcczgDZrnYEScrKstcClOdakatOKg&refId=jnPkbUaJgtXfmJknzztCHw%3D%3D&trackingId=IiWTfDrqeLuyzXP8wDIhqw%3D%3D&trk=flagship3_job_collections_leaf_page",
         "Data Scientist",
         "AB InBev GCC India",
         "Bengaluru, Karnataka, India (On-site)",
         "ab inbev gcc india",
         "Bengaluru",
         "On-site"
        ],
        [
         "https://www.linkedin.com/jobs/view/4280156304/?eBP=BUDGET_EXHAUSTED_JOB&refId=jnPkbUaJgtXfmJknzztCHw%3D%3D&trackingId=T9T6O7mFfNe749lbQNoeDg%3D%3D&trk=flagship3_job_collections_leaf_page",
         "Remote Data Science Analyst - 17843",
         "Turing",
         "Bengaluru, Karnataka, India (Remote)",
         "turing",
         "Bengaluru",
         "Remote"
        ],
        [
         "https://www.linkedin.com/jobs/view/4279597899/?eBP=CwEAAAGYgRNprJ7uURE3YHs3KKePwQuCG8SmvwHcI_C6zS1vfVzTIlh3hVa-7bMfEI1B9UwC7e9Da8XXaMFzqUbr9zPz4jPIGApqqrNgVyiNfbuoe0HxY0MlYkBepQ1urxIgdNGl2n7N3SeqazdpmHml7iGKSgUt9_a0DJsU2OJK34RkUh1mMPa-_gmSCm0xuV1G7HTWbJOzEgmyAWd3Z_OjmoA78v_6ZJcv5SMclsmOWK7_hFBIHR9vSRp3DNdCVaNRha2aXirFv7A7PyRv7q1f5vak_-miarZNCZvOHdhK4YE9rxO6knO_sI2KQsFRvy2_TuhQy9Fin8FQlSoE4BAnJIfgmy-BkPoQOx4uSKqCJLvdFfZw1hq2kdbB_3FUnmVb-r_2XPXp47tx2CRET3eFmvHNl6ObAAb6CP0lKZI-vJBdaFmFi-wN0LL4lahTkEDF517_pEmHYhpy813BsCRwAqIENxWYnmv_r_OptZvmwCIz8k8dTtIdFkzj2LpQuIg8d1GZ4CMNQ8ALEOhx0BrxOHICwg&refId=jnPkbUaJgtXfmJknzztCHw%3D%3D&trackingId=OT6kt4M4ESPfkhyKrDQVVg%3D%3D&trk=flagship3_job_collections_leaf_page",
         "3D Computer Vision Intern",
         "Sony Research India",
         "India (Remote)",
         "sony research india",
         "India (Remote)",
         "Remote"
        ],
        [
         "https://www.linkedin.com/jobs/view/4272868090/?eBP=CwEAAAGYgRNprBnKCDkS6HutgFZAHbFwjKz_mxCDEc4DKsm5ldmrH_iDFPLDdoU98OPfsrmNBwXZFaDOl2MnBgUyLPUUOO_99W-KWbJaX7NqjBxrBROEtcQ0AxIgfeUwyW8IzabHyjMr42UdHpaIOVpk4LJrvaoeDprmYBucBryTmpAZ7QzkaBikcu1uoUvg82-2uxhZkis7JFEDH0DvS911eFRO_M1gZJSPfJlzuphp5g10GaDtX5HCoaQKZHE3KY_y2Hg0nPrW40tn2gthsxhHxek36o_danT5zIX6eSVrHt3cr1pSu2-kY0qOIhOrzaKgeDTgIsn7LzndfvgSaFiZLvmQoZfjNICSjuNYn_XJ782wxIyMg_OYYXcFqc-dOP35hvsSsk-jH_pnXgoGNA2wLYh2uyUuPm7sq4mo5hmGszOxZMAQ7PXkyP8BVo9ewOC4KHHboyJ5DQ9n2Jp8pC-nVmFy75IYkm3hehPZJLiPx0JSEU-VvxrHlXugCxT1NbNqiYZrUB5AK97EdmBgd9S8gj6_1Q87&refId=jnPkbUaJgtXfmJknzztCHw%3D%3D&trackingId=m4W7sy9k9qaPNDo71rpXpg%3D%3D&trk=flagship3_job_collections_leaf_page",
         "Machine Learning Engineer",
         "Capgemini",
         "Bengaluru, Karnataka, India (Hybrid)",
         "capgemini",
         "Bengaluru",
         "Hybrid"
        ],
        [
         "https://www.linkedin.com/jobs/view/4280599999/?eBP=BUDGET_EXHAUSTED_JOB&refId=jnPkbUaJgtXfmJknzztCHw%3D%3D&trackingId=Ik53abofLEWdZv%2F1KPL%2F2Q%3D%3D&trk=flagship3_job_collections_leaf_page",
         "AI Engineering Intern (SDE)",
         "Darwix AI",
         "Gurugram, Haryana, India (On-site)",
         "darwix ai",
         "Gurugram",
         "On-site"
        ],
        [
         "https://www.linkedin.com/jobs/view/4277927708/?eBP=CwEAAAGYgRNprOP_oooAdlJczu9h3w2v6OUArF5QTtQ7c2XXsHXnbzlJNFDwTOXzBgNKtshb_I8au0mhJaNaph73o-Sq3kTmC0mTuTMcx5tsiN9cw1j6UlfgnMAjky6vU6BJJgSYEidJKgYTiRnz2SiRUs2YdefReTWdrZEuSKhcU49AImlIBw1elcmM3o0ikG_YR_I1VgwE7S-d9fWCRHLOCVALQ6AUgWJqBpvgmcppZS2R5WTQJE9JjevIoJQQqowZS7J7O85d6xpx6lPkvfnTzuvk2y0IcpoUzcSxdxx63aUs6eXhEFZnkpUUER_PFGZ7LmjSgIceC5vVETS89V6D4bufUxNsUaeRp6tzpWV0vhkSq7ghEmXxs0x25Hj_UuPqg5fdux97Ad_AjQ4NiOoGd1Qij7-6VQ-V0iS0lBI22hHTPQc-a0cyiZo6zxcVGoMStNhof5NAa3ReUyMTXVRe1b0gSojyi5bynmWu54EHCwCqJgmnvHNLdnvf0bvy5hFP0bD272U2-G-j1nJsZEkPRNWJNQ&refId=jnPkbUaJgtXfmJknzztCHw%3D%3D&trackingId=kpze6nqcO4zCHyRrbznPhw%3D%3D&trk=flagship3_job_collections_leaf_page",
         "Machine Learning Engineer",
         "Insight Global",
         "India (Remote)",
         "insight global",
         "India (Remote)",
         "Remote"
        ],
        [
         "https://www.linkedin.com/jobs/view/4222830764/?eBP=CwEAAAGYgRNprAnr9aF9EkqD1FwbnSS3riVgHFL-xuCtKJRPjLWqeJPTdW0MovTKXX8l1xv8WmT8PhmElm37SglA7Gbg3jJwrnZ4K8P8BUYREm8-U9kIOklwjcPispRP0bHDBbDlocu5HT3x-g6JIjGNaNAFh0Ct87ml0bet3_U4qEHcWMCCf3G1n_77pK_rnzoVtwgQ0VDvzwEDXK33Nv3Oni5Wo5_E1mFVzCACpPROP5SccJJPxz5st_fwUsc--R-SUfaysP_bkbW7cUfJgIB0NEYuPBnPAXDf9IP5Z2r_-9kSaRAD7ugUK_Q87-vdD9IaFM2pA8BjoDahTj0L1tc39IEMFTCSSSINAL9FLkfTxyMLZv8Wuy4w95F6VCh_2f2orGs9KqoTeGl5GYE_LB9VKVeOiIq2jB1VdpA-IBGOk4UnG7tyTDorBZqJoICim7Kcf9ex43w3kRHAToCl-Vqv-kAweAsvwFodK7Kr5RGGuM8M6yrQK6pnKnw5BLQ2Z2tvd9R235oLRAVMVbnM84n3gvaG8Zlu&refId=jnPkbUaJgtXfmJknzztCHw%3D%3D&trackingId=EbKQwPsh7xIkxjtR%2FYQKrw%3D%3D&trk=flagship3_job_collections_leaf_page",
         "Data science intern",
         "EVERSANA",
         "Bengaluru, Karnataka, India (On-site)",
         "eversana",
         "Bengaluru",
         "On-site"
        ],
        [
         "https://www.linkedin.com/jobs/view/4277368921/?eBP=CwEAAAGYgRNprer7s6kT-XxKQaF21PwnVIuzArtqRFD4649C6G5_HhT_1aS2fQaYahV46VNP39vVzuEgFTbtS4jQWB_7Sv7Ute8nXHrl5f1vjmKQjGDcqVyIj6gqkxp51e_Pn8qK3nMfjM_GOFbXzgmI5OAAFxxQ16cEMkHy1ztdL83_ip9Uu2W-ROM3Pu1MomnjNFjZcaexvieEWuKsywKoLH7MZhkTmYFW7gjNAnc72PXTvRY3ZVLG_5xcxbUx8HjZKaIQ6MKf5E25ZkMuvF-UO8MgRbrZ9xZJtnU_Icb6hUUdvUtc_IbEzzfe3jJmryKiHa1mdr6-vEfaKT4EilVD1-6dpcZ0lq9Eub1drlJl74BfvZECDzgMoAE0BlNESB6NouZI45ld6br3YVaCOGS2EpAkqvzuGbGPnn6-BJ4rvRPa0rsAyHkD0Vc6EwxGvA9bPhhw5u-ntdyH4myFgWK6_hFT5w4Z-9JUWAgD5mx7cr7fcMFqIrg3Be4He7OKVXNp91XGJiYyaZmwBVonIotzIXE6Ag&refId=jnPkbUaJgtXfmJknzztCHw%3D%3D&trackingId=AnIAsKIo9zVSD7DvHLzcDA%3D%3D&trk=flagship3_job_collections_leaf_page",
         "Digital Champaign Internship",
         "HDFC securities",
         "Mumbai, Maharashtra, India (On-site)",
         "hdfc securities",
         "Mumbai",
         "On-site"
        ],
        [
         "https://www.linkedin.com/jobs/view/4274097889/?eBP=CwEAAAGYgRNprQRKbBkb21jUfD2RLxds_f9OBopl9Z-IRr8LXqNd6UKi4Yytfk8EGYmfWCbsEmVol6K6p0iJvMxESg_HeveGXvrKgcZ5L3n0kjzm_ZAZ_0gCPxvPsVx6bzVdnpZT7sYIRXUYjuxjIUied1sraFSw89622eJ9-vKZt0OEGALTPeM6ZqZCQ3LMDsb2NoR2ozoF-5ysHXUGs2s1HPxUS6q1g6zewc1PKXho2p4_dSiT8QLqWD0i0NcZpzy84fvpxRpH1bVyvOEFPQhEG6II8ADuSWsW7liDA3dHejodc2ggSuemWpvk11QoTz8TmBnbR5Htxms4lyK4hmk1OBwBFmaW5O7uvDp0cJERGwe73AYf82qkCdfCf5cX46idm36Xagoub52A1LqIR8RQNoFig88bBS73bl-wFxIWpPptXLzZJpyh1bt8jBC10WwBLvZkMR9tYb9FMRkd3VBm1_g5rPpJ--8Uzmuhn8GUeQjIncwrK40-qNgcUjeb3NjlrZfThMBVK3xRLd7yYnUFNrCH9g&refId=jnPkbUaJgtXfmJknzztCHw%3D%3D&trackingId=jJNRm%2BYr7Q74Y%2BY4QYXD3Q%3D%3D&trk=flagship3_job_collections_leaf_page",
         "Data Scientist",
         "Pentair",
         "Noida, Uttar Pradesh, India (Hybrid)",
         "pentair",
         "Noida",
         "Hybrid"
        ],
        [
         "https://www.linkedin.com/jobs/view/4274697931/?eBP=BUDGET_EXHAUSTED_JOB&refId=jnPkbUaJgtXfmJknzztCHw%3D%3D&trackingId=b%2FFOO62TY%2BIrjYqTPhpmqA%3D%3D&trk=flagship3_job_collections_leaf_page",
         "Fresher Cloud Engineer",
         "CryptoChakra",
         "India (Remote)",
         "cryptochakra",
         "India (Remote)",
         "Remote"
        ],
        [
         "https://www.linkedin.com/jobs/view/4277577862/?eBP=BUDGET_EXHAUSTED_JOB&refId=jnPkbUaJgtXfmJknzztCHw%3D%3D&trackingId=TmdIiTagaheh8MU7Gd%2FL2A%3D%3D&trk=flagship3_job_collections_leaf_page",
         "Full Stack Engineer",
         "Orbital",
         "Hyderabad, Telangana, India (On-site)",
         "orbital",
         "Hyderabad",
         "On-site"
        ],
        [
         "https://www.linkedin.com/jobs/view/4280159123/?eBP=BUDGET_EXHAUSTED_JOB&refId=wL%2FRMpLMnaJ0PmhOiDKXgA%3D%3D&trackingId=94y1ZHcxTdsmNJo5kSZtRQ%3D%3D&trk=flagship3_job_collections_leaf_page",
         "Remote Data Science Analyst - 17843",
         "Turing",
         "Hyderabad, Telangana, India (Remote)",
         "turing",
         "Hyderabad",
         "Remote"
        ],
        [
         "https://www.linkedin.com/jobs/view/4279992774/?eBP=BUDGET_EXHAUSTED_JOB&refId=wL%2FRMpLMnaJ0PmhOiDKXgA%3D%3D&trackingId=kImrvh6mYAzViXgBqWIeuw%3D%3D&trk=flagship3_job_collections_leaf_page",
         "Speech Generation Intern",
         "Sony Research India",
         "Bengaluru, Karnataka, India (Remote)",
         "sony research india",
         "Bengaluru",
         "Remote"
        ],
        [
         "https://www.linkedin.com/jobs/view/4280776208/?eBP=BUDGET_EXHAUSTED_JOB&refId=wL%2FRMpLMnaJ0PmhOiDKXgA%3D%3D&trackingId=EHXgxqpbXfDHfsbRkKHxjA%3D%3D&trk=flagship3_job_collections_leaf_page",
         "Python Data Analyst",
         "Persistent Systems",
         "Bengaluru, Karnataka, India (On-site)",
         "persistent systems",
         "Bengaluru",
         "On-site"
        ],
        [
         "https://www.linkedin.com/jobs/view/4275076258/?eBP=BUDGET_EXHAUSTED_JOB&refId=wL%2FRMpLMnaJ0PmhOiDKXgA%3D%3D&trackingId=%2BWunzS%2F5uot4kOkMFZR1jA%3D%3D&trk=flagship3_job_collections_leaf_page",
         "Full Stack Developer SDE 1",
         "NxtWave",
         "Hyderabad, Telangana, India (On-site)",
         "nxtwave",
         "Hyderabad",
         "On-site"
        ],
        [
         "https://www.linkedin.com/jobs/view/4277562941/?eBP=CwEAAAGYgRQ36KJWeNRiTl4P1fOxEdXUglM7W0wWnlj-FUD4OvaatfSHVGToct-V6k-FTdD6vf9eBfgTvfz_CjlyZQoC69e-Qt9RC8t3lwYCa6lNFBK-bvgf-OovgqJeuRptFUf_xqcDhISYZwY43By2tTgGhNLYZpMreCTfWLJegs5rhro37rbumq2u6kahE6zBKHFpZ5LyiEr7Tb499P0Sze5T8DRJEkEHB7ESzoGdf0lyV6eiqSuzQG7DycDW7uwbIBM6CX1y2pH93yqRNqzOMhurzKKB_1iJVY6YS9tEHRAojOHfGqb24hDgL-GZd8e6TQGYSVlcm70Wo7noiGYpZPa-qMZJK2wD0w3jgaM1O403HF7lPRPTgU8V6ZP4o-7JPCVqGCdvDwASQnppvl4XTeM50fYTcavy61vWNSszNy9_cI4AkyH7TTwoQkkbFBtiz6iNYjOTKMxvmK_uwIEYWl74S6tiy1PHTKjTroqoBreISak5Bi2UtvuzssTmkN6scRMjT8z1r7MQXf9qsayQ6qEA7MzCQbM&refId=wL%2FRMpLMnaJ0PmhOiDKXgA%3D%3D&trackingId=zW0MpxhxrZI3Z0iA8iI3Lg%3D%3D&trk=flagship3_job_collections_leaf_page",
         "AI - ML",
         "WNS",
         "Noida, Uttar Pradesh, India (On-site)",
         "wns",
         "Noida",
         "On-site"
        ],
        [
         "https://www.linkedin.com/jobs/view/4280831022/?eBP=BUDGET_EXHAUSTED_JOB&refId=wL%2FRMpLMnaJ0PmhOiDKXgA%3D%3D&trackingId=5bOjCxntA6c0UczcZKotvg%3D%3D&trk=flagship3_job_collections_leaf_page",
         "Full Stack Engineer – AI/ML",
         "2Base Technologies",
         "Bengaluru, Karnataka, India (On-site)",
         "2base technologies",
         "Bengaluru",
         "On-site"
        ],
        [
         "https://www.linkedin.com/jobs/view/4273880274/?eBP=CwEAAAGYgRQ36GdbbgjA4YX2rUBvzoOaln0-D5vjRna3N9-iZ1lnI5vikD8T-NZPb-RNb5ovwVs--4Cgx-Z5WhHJdwmvtzxKZtJ0wUjg7ROxEeNQwqXReXIDhlar7mfWyQr4-DPb_U7xgIQVWg9hJ7gOUuOoJnA_6XPxTfXWUNOexvT_qkg3ucd0hT1uotEH4__jbBJldqXDCAdFtnP0RGIZuaVrtJFw3-2bPUfwpSKdz1J5wAHDMWTz9fWTncqqgRXDxtGHUn8m8U3L5K2_ZuPtYGhDW-rx6RHVvGghxFmh9aQdBda99tX1On7D0UnOtk8xmEr3u0DEBO2cwtKzH4r6b3LcZTDZ-Z1SY_x-hohx7eZNBCzx4czuHVXzGlYn7yEJJ9p5AYvfA5IGMI9gC0IralcK7lXENnQVripR7DCjeP6tvlh8x7PYZmahvQwR3OlmcNK2LNo6tmOUp3Edka2_QLHvLGMhok6AJigGZgg9uXXChgA&refId=wL%2FRMpLMnaJ0PmhOiDKXgA%3D%3D&trackingId=MVIyF4JFHcOa6FGm47LOXg%3D%3D&trk=flagship3_job_collections_leaf_page",
         "AI Engineer",
         "Zenduty",
         "Bangalore Urban, Karnataka, India (On-site)",
         "zenduty",
         "Bangalore Urban",
         "On-site"
        ],
        [
         "https://www.linkedin.com/jobs/view/4219931313/?eBP=CwEAAAGYgRQ36ETVhwHJ1MGAobk8UMYim2dc_9dihoaYx5f8WqdJY4gSSjREJF6MiQuh6uJRw3LKAaUN1SR2_6eWHnKSRuYPPfuR0piYsqNxPBt8eGS-hDo3lbJM6Ni-Kamhf-VD-muRhHj7_JOqjXXY6549a7Bdja4sX38-yiX8ppQZlJR9XSzruOsWNm88EuTpwu3JsdSYkjpkyF8QjLgNhZSA-OjMvF9IhNY7ZZbAJwm08GQsYNRg0lOrBX7LoV68qmzm4Hvnb6dp8PMb_jvJg6PiLY2IRebjvqu4NkPakDYtUnJafqEJoEhFxyhEr-xeOTiNjlPuz84rrgQxlJQkjwdCND_lBelQ50bHKt2peqPvgwmkR02s1p6KpG3goe2ib4btjom_39ZYzG8cQrtSFkaf2LlFu4vFMpFW3Sk0U5Q8xf1jehwx6q5Nd7D0VuvDSxlclhCFNBG3X4CfaXjX2iIsGBuEpigDly1mrk_HXSLGYWp03_4IERkiQ8Rec9xp23olkkHUrfgyEOG_QENAr52dKvF8&refId=wL%2FRMpLMnaJ0PmhOiDKXgA%3D%3D&trackingId=9u1%2FGL3Xr38rRkB0FsVS6Q%3D%3D&trk=flagship3_job_collections_leaf_page",
         "Software Engineer (AI / NLP / ML)",
         "Nextiva",
         "Greater Chennai Area (Hybrid)",
         "nextiva",
         "Greater Chennai Area (Hybrid)",
         "Hybrid"
        ],
        [
         "https://www.linkedin.com/jobs/view/4279543215/?eBP=CwEAAAGYgRQ36UlOYVyTOZF_hYfxTDWx5r1tIRN-hCtFStUXTBJ-Z4EHYpIIstgxiA6WO1yEUNYF85Guk9ASZAm9IdzobkyrafGXWtI4d3gYAKAz7WYmcJM1oEcSF3AVnEqgnsCKC0NIa5bywNYhVvAvV7HW-Fcat9Sb3ZKozwotvE9u_QlOKaSnya9lmz9EyFm4xWqicvFDhgNIY2jtQ2C6snx8_SnKPkstorBuJoFRFC_j0kmv0AlaD9vXRILdL_OJRY1wKx07k_f4jx4tSPvTC6Q6MBjiFN4YXg5yUPzZsqsD2QbTfwGfHMXERv6fUWRq8jKREj7yC3Fke0dV8-QAEd0poJip6RHAqobjzZ_QTh32zticN6gnHLuGZ9tuc370aApQUxAVwUkQ3VQoAKnXCwMuFflqDL5-XYp3ZPlKTFvAEHPHXJZEiVWzdI0wqEPQZPtV4ZId5RtKAKVBelhDxnCNebcIrKjZ7i4VMGAGeNyQDwJ-XqOES1dW2Mbyv3uI0kb4g90xN9ePDqDGvLW3VI4jykrYY8E&refId=wL%2FRMpLMnaJ0PmhOiDKXgA%3D%3D&trackingId=SM83wi2ga4rRTDNC%2FmKhUw%3D%3D&trk=flagship3_job_collections_leaf_page",
         "Data Scientist II",
         "Talkdesk",
         "Bengaluru, Karnataka, India (On-site)",
         "talkdesk",
         "Bengaluru",
         "On-site"
        ],
        [
         "https://www.linkedin.com/jobs/view/4275972625/?eBP=CwEAAAGYgRQ36fbQnx5QxkgMAUj13mmKBsQtKKOFRYaG95z9FdG-Eb53i0Oun4LOgQMgxCkif3giCM514RqQYw1ctItO7lDBskQVQayMD7G1UACKCHxv5L9PBwiTt4Y-b_T-rFOc1MEc6-Kg4q8i6JzQvUfohUrFS9ULMtxCDs_ekVGaDVohU9PWmXmT6v7C-Tx2Jg7rz91tOsRyLiLHphbQsFC-H6-1cLeLEV2X06RsxCUKhPLnNCjhRGpYWENu2E3LRzBWYqYqzRy4CHnVoKjrzFSZmX2Z8Qc4bhSWIEj3IRIk7nP96GJexOtYCmKkG6t6K2e5jZ3cMDmCreo2XuY5Sk5K2NqGmT3Q4sUTlSFkJ87fSnDKIum3DTcuFHCgS8wghD88OAZP9am4UU4VYChvChas-cyLTsmlHSaRIMVHQXOyeGQZ7xczJK1Vdy671NX8xZoSoR7qr_DXAooeiPnMqM2ymm_8WXCuVnMTLh_GBQEF1ITnWyKRIetF9UNwpj5S9AaoK1tIc3iE9ltKvC0nCMZWBdqX&refId=wL%2FRMpLMnaJ0PmhOiDKXgA%3D%3D&trackingId=pEYLZvwd3MzmQGvAnirMjg%3D%3D&trk=flagship3_job_collections_leaf_page",
         "Data Analyst",
         "Newsweek",
         "India (Remote)",
         "newsweek",
         "India (Remote)",
         "Remote"
        ],
        [
         "https://www.linkedin.com/jobs/view/4277363295/?eBP=BUDGET_EXHAUSTED_JOB&refId=wL%2FRMpLMnaJ0PmhOiDKXgA%3D%3D&trackingId=2cLqtEczLm%2B40hNj6AHMRQ%3D%3D&trk=flagship3_job_collections_leaf_page",
         "AI/ML Engineer",
         "Grow Your Staff",
         "India (Remote)",
         "grow your staff",
         "India (Remote)",
         "Remote"
        ],
        [
         "https://www.linkedin.com/jobs/view/4280159123/?eBP=BUDGET_EXHAUSTED_JOB&refId=wL%2FRMpLMnaJ0PmhOiDKXgA%3D%3D&trackingId=94y1ZHcxTdsmNJo5kSZtRQ%3D%3D&trk=flagship3_job_collections_leaf_page",
         "Remote Data Science Analyst - 17843",
         "Turing",
         "Hyderabad, Telangana, India (Remote)",
         "turing",
         "Hyderabad",
         "Remote"
        ],
        [
         "https://www.linkedin.com/jobs/view/4279992774/?eBP=BUDGET_EXHAUSTED_JOB&refId=wL%2FRMpLMnaJ0PmhOiDKXgA%3D%3D&trackingId=kImrvh6mYAzViXgBqWIeuw%3D%3D&trk=flagship3_job_collections_leaf_page",
         "Speech Generation Intern",
         "Sony Research India",
         "Bengaluru, Karnataka, India (Remote)",
         "sony research india",
         "Bengaluru",
         "Remote"
        ],
        [
         "https://www.linkedin.com/jobs/view/4280776208/?eBP=BUDGET_EXHAUSTED_JOB&refId=wL%2FRMpLMnaJ0PmhOiDKXgA%3D%3D&trackingId=EHXgxqpbXfDHfsbRkKHxjA%3D%3D&trk=flagship3_job_collections_leaf_page",
         "Python Data Analyst",
         "Persistent Systems",
         "Bengaluru, Karnataka, India (On-site)",
         "persistent systems",
         "Bengaluru",
         "On-site"
        ],
        [
         "https://www.linkedin.com/jobs/view/4275076258/?eBP=BUDGET_EXHAUSTED_JOB&refId=wL%2FRMpLMnaJ0PmhOiDKXgA%3D%3D&trackingId=%2BWunzS%2F5uot4kOkMFZR1jA%3D%3D&trk=flagship3_job_collections_leaf_page",
         "Full Stack Developer SDE 1",
         "NxtWave",
         "Hyderabad, Telangana, India (On-site)",
         "nxtwave",
         "Hyderabad",
         "On-site"
        ],
        [
         "https://www.linkedin.com/jobs/view/4277562941/?eBP=CwEAAAGYgRQ36KJWeNRiTl4P1fOxEdXUglM7W0wWnlj-FUD4OvaatfSHVGToct-V6k-FTdD6vf9eBfgTvfz_CjlyZQoC69e-Qt9RC8t3lwYCa6lNFBK-bvgf-OovgqJeuRptFUf_xqcDhISYZwY43By2tTgGhNLYZpMreCTfWLJegs5rhro37rbumq2u6kahE6zBKHFpZ5LyiEr7Tb499P0Sze5T8DRJEkEHB7ESzoGdf0lyV6eiqSuzQG7DycDW7uwbIBM6CX1y2pH93yqRNqzOMhurzKKB_1iJVY6YS9tEHRAojOHfGqb24hDgL-GZd8e6TQGYSVlcm70Wo7noiGYpZPa-qMZJK2wD0w3jgaM1O403HF7lPRPTgU8V6ZP4o-7JPCVqGCdvDwASQnppvl4XTeM50fYTcavy61vWNSszNy9_cI4AkyH7TTwoQkkbFBtiz6iNYjOTKMxvmK_uwIEYWl74S6tiy1PHTKjTroqoBreISak5Bi2UtvuzssTmkN6scRMjT8z1r7MQXf9qsayQ6qEA7MzCQbM&refId=wL%2FRMpLMnaJ0PmhOiDKXgA%3D%3D&trackingId=zW0MpxhxrZI3Z0iA8iI3Lg%3D%3D&trk=flagship3_job_collections_leaf_page",
         "AI - ML",
         "WNS",
         "Noida, Uttar Pradesh, India (On-site)",
         "wns",
         "Noida",
         "On-site"
        ],
        [
         "https://www.linkedin.com/jobs/view/4280831022/?eBP=BUDGET_EXHAUSTED_JOB&refId=wL%2FRMpLMnaJ0PmhOiDKXgA%3D%3D&trackingId=5bOjCxntA6c0UczcZKotvg%3D%3D&trk=flagship3_job_collections_leaf_page",
         "Full Stack Engineer – AI/ML",
         "2Base Technologies",
         "Bengaluru, Karnataka, India (On-site)",
         "2base technologies",
         "Bengaluru",
         "On-site"
        ],
        [
         "https://www.linkedin.com/jobs/view/4273880274/?eBP=CwEAAAGYgRQ36GdbbgjA4YX2rUBvzoOaln0-D5vjRna3N9-iZ1lnI5vikD8T-NZPb-RNb5ovwVs--4Cgx-Z5WhHJdwmvtzxKZtJ0wUjg7ROxEeNQwqXReXIDhlar7mfWyQr4-DPb_U7xgIQVWg9hJ7gOUuOoJnA_6XPxTfXWUNOexvT_qkg3ucd0hT1uotEH4__jbBJldqXDCAdFtnP0RGIZuaVrtJFw3-2bPUfwpSKdz1J5wAHDMWTz9fWTncqqgRXDxtGHUn8m8U3L5K2_ZuPtYGhDW-rx6RHVvGghxFmh9aQdBda99tX1On7D0UnOtk8xmEr3u0DEBO2cwtKzH4r6b3LcZTDZ-Z1SY_x-hohx7eZNBCzx4czuHVXzGlYn7yEJJ9p5AYvfA5IGMI9gC0IralcK7lXENnQVripR7DCjeP6tvlh8x7PYZmahvQwR3OlmcNK2LNo6tmOUp3Edka2_QLHvLGMhok6AJigGZgg9uXXChgA&refId=wL%2FRMpLMnaJ0PmhOiDKXgA%3D%3D&trackingId=MVIyF4JFHcOa6FGm47LOXg%3D%3D&trk=flagship3_job_collections_leaf_page",
         "AI Engineer",
         "Zenduty",
         "Bangalore Urban, Karnataka, India (On-site)",
         "zenduty",
         "Bangalore Urban",
         "On-site"
        ],
        [
         "https://www.linkedin.com/jobs/view/4279273971/?eBP=CwEAAAGYgRQ36HcC61SuAcAS2snyYNEPsiAOHIsdXe4s7KF2-bICtaT3I3RK5t9J6nmjQ2dgvkjVu90zBDbxuqJZ591TrEj2J1kFtkC7C4U7mWQwCkyggpaW3KejlB17XdVk57fM2cQhHfuO8NfYCsnuDml2I8Vxy8M3QXHPvQ_x_uZ7MEcTrODfYVpgi95bpIHXbv0CdBF7a8QFbzUBBF1avK6q307hkkov3cuKvy0sF4_zOZsxxwWrPuM8b_G2AOh30zLqGXFkrCSvXybpwEQY0Y3INb6dT41DHbhtOLQvK4ydkwBTepvGKffHV500x6P3WQKHTq9VIBWIKme9LdYCr70TQ9LFleB72i8uwxFvdSXWmdj02q9Eig6wBMD8eT0ukoYP9U_6F81mSCbcgugzHXYg1RCpOf3J5jNnRpgcZAYGQXQWsdChmbStBTG9oq9TM5p57xRy1R6qCbSJIy6Lmyy91PEqt-G-NGcCNTC5XIQBe2o1uYlDzp7RXiLviz78ZpUmWsrLFBE7cI01WIKj_NM&refId=wL%2FRMpLMnaJ0PmhOiDKXgA%3D%3D&trackingId=TaayOEKtud5QcgfcEDO1%2FQ%3D%3D&trk=flagship3_job_collections_leaf_page",
         "Python Developer with Javascript and Cloud Environment",
         "Ampstek",
         "Bengaluru, Karnataka, India (On-site)",
         "ampstek",
         "Bengaluru",
         "On-site"
        ],
        [
         "https://www.linkedin.com/jobs/view/4219931313/?eBP=CwEAAAGYgRQ36ETVhwHJ1MGAobk8UMYim2dc_9dihoaYx5f8WqdJY4gSSjREJF6MiQuh6uJRw3LKAaUN1SR2_6eWHnKSRuYPPfuR0piYsqNxPBt8eGS-hDo3lbJM6Ni-Kamhf-VD-muRhHj7_JOqjXXY6549a7Bdja4sX38-yiX8ppQZlJR9XSzruOsWNm88EuTpwu3JsdSYkjpkyF8QjLgNhZSA-OjMvF9IhNY7ZZbAJwm08GQsYNRg0lOrBX7LoV68qmzm4Hvnb6dp8PMb_jvJg6PiLY2IRebjvqu4NkPakDYtUnJafqEJoEhFxyhEr-xeOTiNjlPuz84rrgQxlJQkjwdCND_lBelQ50bHKt2peqPvgwmkR02s1p6KpG3goe2ib4btjom_39ZYzG8cQrtSFkaf2LlFu4vFMpFW3Sk0U5Q8xf1jehwx6q5Nd7D0VuvDSxlclhCFNBG3X4CfaXjX2iIsGBuEpigDly1mrk_HXSLGYWp03_4IERkiQ8Rec9xp23olkkHUrfgyEOG_QENAr52dKvF8&refId=wL%2FRMpLMnaJ0PmhOiDKXgA%3D%3D&trackingId=9u1%2FGL3Xr38rRkB0FsVS6Q%3D%3D&trk=flagship3_job_collections_leaf_page",
         "Software Engineer (AI / NLP / ML)",
         "Nextiva",
         "Greater Chennai Area (Hybrid)",
         "nextiva",
         "Greater Chennai Area (Hybrid)",
         "Hybrid"
        ],
        [
         "https://www.linkedin.com/jobs/view/4279543215/?eBP=CwEAAAGYgRQ36UlOYVyTOZF_hYfxTDWx5r1tIRN-hCtFStUXTBJ-Z4EHYpIIstgxiA6WO1yEUNYF85Guk9ASZAm9IdzobkyrafGXWtI4d3gYAKAz7WYmcJM1oEcSF3AVnEqgnsCKC0NIa5bywNYhVvAvV7HW-Fcat9Sb3ZKozwotvE9u_QlOKaSnya9lmz9EyFm4xWqicvFDhgNIY2jtQ2C6snx8_SnKPkstorBuJoFRFC_j0kmv0AlaD9vXRILdL_OJRY1wKx07k_f4jx4tSPvTC6Q6MBjiFN4YXg5yUPzZsqsD2QbTfwGfHMXERv6fUWRq8jKREj7yC3Fke0dV8-QAEd0poJip6RHAqobjzZ_QTh32zticN6gnHLuGZ9tuc370aApQUxAVwUkQ3VQoAKnXCwMuFflqDL5-XYp3ZPlKTFvAEHPHXJZEiVWzdI0wqEPQZPtV4ZId5RtKAKVBelhDxnCNebcIrKjZ7i4VMGAGeNyQDwJ-XqOES1dW2Mbyv3uI0kb4g90xN9ePDqDGvLW3VI4jykrYY8E&refId=wL%2FRMpLMnaJ0PmhOiDKXgA%3D%3D&trackingId=SM83wi2ga4rRTDNC%2FmKhUw%3D%3D&trk=flagship3_job_collections_leaf_page",
         "Data Scientist II",
         "Talkdesk",
         "Bengaluru, Karnataka, India (On-site)",
         "talkdesk",
         "Bengaluru",
         "On-site"
        ],
        [
         "https://www.linkedin.com/jobs/view/4275972625/?eBP=CwEAAAGYgRQ36fbQnx5QxkgMAUj13mmKBsQtKKOFRYaG95z9FdG-Eb53i0Oun4LOgQMgxCkif3giCM514RqQYw1ctItO7lDBskQVQayMD7G1UACKCHxv5L9PBwiTt4Y-b_T-rFOc1MEc6-Kg4q8i6JzQvUfohUrFS9ULMtxCDs_ekVGaDVohU9PWmXmT6v7C-Tx2Jg7rz91tOsRyLiLHphbQsFC-H6-1cLeLEV2X06RsxCUKhPLnNCjhRGpYWENu2E3LRzBWYqYqzRy4CHnVoKjrzFSZmX2Z8Qc4bhSWIEj3IRIk7nP96GJexOtYCmKkG6t6K2e5jZ3cMDmCreo2XuY5Sk5K2NqGmT3Q4sUTlSFkJ87fSnDKIum3DTcuFHCgS8wghD88OAZP9am4UU4VYChvChas-cyLTsmlHSaRIMVHQXOyeGQZ7xczJK1Vdy671NX8xZoSoR7qr_DXAooeiPnMqM2ymm_8WXCuVnMTLh_GBQEF1ITnWyKRIetF9UNwpj5S9AaoK1tIc3iE9ltKvC0nCMZWBdqX&refId=wL%2FRMpLMnaJ0PmhOiDKXgA%3D%3D&trackingId=pEYLZvwd3MzmQGvAnirMjg%3D%3D&trk=flagship3_job_collections_leaf_page",
         "Data Analyst",
         "Newsweek",
         "India (Remote)",
         "newsweek",
         "India (Remote)",
         "Remote"
        ],
        [
         "https://www.linkedin.com/jobs/view/4277363295/?eBP=BUDGET_EXHAUSTED_JOB&refId=wL%2FRMpLMnaJ0PmhOiDKXgA%3D%3D&trackingId=2cLqtEczLm%2B40hNj6AHMRQ%3D%3D&trk=flagship3_job_collections_leaf_page",
         "AI/ML Engineer",
         "Grow Your Staff",
         "India (Remote)",
         "grow your staff",
         "India (Remote)",
         "Remote"
        ],
        [
         "https://www.linkedin.com/jobs/view/4278492716/?eBP=CwEAAAGYgRRFuFBhckZrAS5VudGiS-Z0tB6oFiunIjw8tVhEnswlRRUTdJeypIBWAPL9VD9YzC8baKTQ7vEZfb5kLNtvNiJWFnrD6_V316EXy-dU190WN2b7nmyqNta8uY9e6pbPdD0-nHWMflldZMYCH2yN-2yRmGJNf86QFMpIHwnXyVxL2VwZHKea50rQnwFRrXtvgb4_x83FUe8g2qXzOFIALMiV3BFFHLWM7NlBAFnXZxTRkSW87NZX_1xkrDbJaa1AvbaVvHJhR0Rwvpon0uPoJ2w-2LN89p3FW8v8pAEyNsigMdNHtfzTlkZIN2lhT9_dSn_lLyA58k0covtGtU4CiEFDRs_dk_X_px3pyqXxfT5uHUiuNA8rYA_eNHc2wg-OLx7YOd90UnmXuzUcEYN2_PF2do5TbRcEePLImWk1ZZJujIcn_bRdaQKRPXKhs7DhdOGt5p2ygm1D3cFMVro3yvm-Ieo0gEBL7HC04Ke04u5EdMybUpwych-3xMQf3on8yO9rjyBU0oS_wash24HdnS-i&refId=yGFNBlPxF21UuzeReqTmiQ%3D%3D&trackingId=lFXT5nwZJMtcX88C4yyZDg%3D%3D&trk=flagship3_job_collections_leaf_page",
         "Data Scientist",
         "Recro",
         "Bengaluru, Karnataka, India (On-site)",
         "recro",
         "Bengaluru",
         "On-site"
        ],
        [
         "https://www.linkedin.com/jobs/view/4256657158/?eBP=CwEAAAGYgRRFuPQjPdUnuXNbhSTUa3DsR2af5o5WRykksCD50bJa7vAMHr1AsnsK1SyEAbYyhzNfqCP1y8UuDJ4BVzmdvDf7nLXfOdcHvCnN24CM8VWYaGzDdt0M4X_OPsq5xRUutYRYdhJTY8vAQ0MuSp0nAuRsLg7xn6iRkvH3Znaj0dlVYAEPe6UN_e6BCIBiRBQfLE3bCAIXe8ieg_61odAtv8A_1qkPA0q1TEy8Mc_LYEarWWBovqgzDdO9j3puqSCFQuke-jNekmv6zJAfs4e04HLHGtgTcynB6KRo1fqkWmN7NqiurSeFU2l9UnAbhvd_TcEoC064bI1jsl4pKtzg_VV7hfRa49Fy6LBH07cx8dNaQwGkGFXjPtF8TWuYvCLzEuIYQN-jqVOkCkBErQLXqytsYghiqU3O5-_wL-cI51_s1ESyT8Da4lGcL9qjBWmvZBRuadY2SWwAfq3QgnPlLDmVr07HP5m8Zaab4JHQrzoo3G-379d4zac4SAX23H80ghXWI3HK6gyFdx0mhYlU-u3J&refId=yGFNBlPxF21UuzeReqTmiQ%3D%3D&trackingId=SYr7R7y0UMyI%2BmqkhBLKsQ%3D%3D&trk=flagship3_job_collections_leaf_page",
         "Machine Learning Engineer",
         "Wissen Infotech",
         "Bangalore Urban, Karnataka, India (On-site)",
         "wissen infotech",
         "Bangalore Urban",
         "On-site"
        ],
        [
         "https://www.linkedin.com/jobs/view/4277376537/?eBP=BUDGET_EXHAUSTED_JOB&refId=yGFNBlPxF21UuzeReqTmiQ%3D%3D&trackingId=4PWmG0XS4s2zVlY8p3E7tg%3D%3D&trk=flagship3_job_collections_leaf_page",
         "Python Developer",
         "Persistent Systems",
         "Bengaluru, Karnataka, India (On-site)",
         "persistent systems",
         "Bengaluru",
         "On-site"
        ],
        [
         "https://www.linkedin.com/jobs/view/4275634343/?eBP=CwEAAAGYgRRFuZpRI7CwmVXmLlcRPwNOp-7g2l_bGp9Z-pDM0WV_r-L-tvsdPTLHaEIHm5DEyOgqNw9FtDkQVKdPN4MAsJ1c3wQXsodk0TN2hJdNatxIWbhWhBeZMhznBxP_uKWVIwumKsZDCWHgczjvO3rnMhL-1cJwczKG7l18x2SBUokRyOySU3je8JE-r1JtFYoKU2ruDM6wY-Ut9_hrxZ4tpzX4BEG0MFUHYK55W2geybY4jHl3HjpNPWmJEaFIp66ITLQVqubVEZcsQ1wz8lpr_USr5i4ViJffwUAIpXLhuD7v58W44AVA0ifKsUIcsKXPry4L7bN-Gf0iOi85dHUuJ-4ekRRTZRGrnHMnaGSi9ORowZEEpWuNh1wpaSAzDgPEeEqQyuwwzb66VWJ0HwLt6mrDIQxN4BcNccY0VwZpAG2P24tX-j_gXKO4lOUz_xGdAm-QdlI9OLTJQHdUaCwaqdtguPrENTQTLixDsU1U-imps7SrKxBm8gkhLdgFQ7JNxwzejxoejcqiBB2WERRSHQnk&refId=yGFNBlPxF21UuzeReqTmiQ%3D%3D&trackingId=b8uVvbcs1fgYW95uq6InSQ%3D%3D&trk=flagship3_job_collections_leaf_page",
         "Software Engineer",
         "Concentrix Catalyst",
         "Bengaluru, Karnataka, India (On-site)",
         "concentrix catalyst",
         "Bengaluru",
         "On-site"
        ],
        [
         "https://www.linkedin.com/jobs/view/4279718145/?eBP=BUDGET_EXHAUSTED_JOB&refId=yGFNBlPxF21UuzeReqTmiQ%3D%3D&trackingId=ICwxkNOd8g8NFldyhMblSw%3D%3D&trk=flagship3_job_collections_leaf_page",
         "Data Analyst",
         "Circle K",
         "Gurugram, Haryana, India",
         "circle k",
         "Gurugram",
         ""
        ],
        [
         "https://www.linkedin.com/jobs/view/4273852689/?eBP=CwEAAAGYgRRFuWTQZmkwvjo62kbbCEiUr9rixhYBvlaoReGdc-Rt6Z2-n7uVDYzKhJsS5t6GTc2pnQckn769pxqp5j2a7IsFe4IIq-5_li4d27u68EOQssdjB-Ou5nZCRgoLrbP02FeUB7c0aA1ioH0ZMEqzWvobh_MWXQwZbxCzq40EtHya9vNvfdYdMxTquq5pC-xDOzn0T3Pa5iBCrlu1H3vjdJyhrx_0fzNMArsS2Pq3dwcerK43BLTBIS4MMEMqlPowVt-k4IG9-6KBp0YQr9Q-S_hzznEE-bzYHMqRyzJpuXf2GQmDchh9oIIDKcq77Udiek5iOHVEwhuBxAPm0j-994yk3YA86z9-z2i9UN2sqhShVZGAAUC8fNJBsrDJRTP5IcTEDTYCEdc0HdrL9NUMaZMBi29RTzOSzk-ovxHcdgVOu-T-gbtKZPMT9OgYJFHCr9Lsw3-L6_Cu3dVRWbn_YIsBLcbHCGT1F3SHfS3wb0c&refId=yGFNBlPxF21UuzeReqTmiQ%3D%3D&trackingId=rt2CSAjWggnS1ywmwW2JVg%3D%3D&trk=flagship3_job_collections_leaf_page",
         "Python Data Engineer",
         "Bajaj Technology Services",
         "Bengaluru, Karnataka, India (On-site)",
         "bajaj technology services",
         "Bengaluru",
         "On-site"
        ],
        [
         "https://www.linkedin.com/jobs/view/4273785117/?eBP=CwEAAAGYgRRFudPLdlTej0qcCkcFCeWvR5At16WsTM0ukRyWa_6VK2icxgPY-jX4dt-OBriODZj3yT3A14g6DTJ6wUQzr3quabvzqfqJmaAxg7bs7CwYoFaAfmK2F9rxbIj9YgbpPhDYXHBfRMYMCoXuLQxT7ONvr1uWs6iHYlETCISc3Uo8tOiOs7cDJD64_NQrrIwuS-nkTlWK9FhvhVCs4rFSD15xhBn7zTS2NWLQJt5zN2Imi2Hthrv0K9Y6NnO8ECKoEGi9Vww2mvmG-zeFq6-gM_denR8yJA5jhGs-YRpei_uhWjjfkHXRRXa7QICsOLpNHK1BXa8ZHY_OSzRwngkww4F7Eln08hJxvAXvv-V2rJOIUQxbJ9rKj6_fwndvfclt7b-499v2MyBpT3wK5aay4kUb0syjwiJWejESI9NF64ADyj9XJwWPZsG1tMxz4ujepaHF_hdf5uA9wZEPamKaYHVYR-9uKMkGxlc0I84TLpfcNJNXHQJBr0HTB0LTSqjluLhzeYbmioBNelIP-TG9Bg&refId=yGFNBlPxF21UuzeReqTmiQ%3D%3D&trackingId=GfETrAnq742RlYp486M3WA%3D%3D&trk=flagship3_job_collections_leaf_page",
         "Computer Vision Engineer",
         "Droisys",
         "Noida, Uttar Pradesh, India (On-site)",
         "droisys",
         "Noida",
         "On-site"
        ],
        [
         "https://www.linkedin.com/jobs/view/4280324360/?eBP=NOT_ELIGIBLE_FOR_CHARGING&refId=yGFNBlPxF21UuzeReqTmiQ%3D%3D&trackingId=zzQiWE5hpNsuQgYl%2FlM0bQ%3D%3D&trk=flagship3_job_collections_leaf_page",
         "Machine Learning & NLP Engineer",
         "NSKH Tech",
         "India (Remote)",
         "nskh tech",
         "India (Remote)",
         "Remote"
        ],
        [
         "https://www.linkedin.com/jobs/view/4275090921/?eBP=CwEAAAGYgRRFuSWl2n8vdOJ0Eeg-08DmlDN00Zq16HZnfs61Q494tHxpxWncjorXi-5hY1zGuRi2xshDT5WgvXNuDkI-bLavvpTZ90I39MQBfFS0edo3hVbamubNJjqXUHmtvCGqgaBtaNMVeGEwjw6vrI8vKca3MyQEx4O1Q0RJuKfHsFlA837o3dmwRGIs1cbjYgPWFU9ZcTGgUYnDUZ0mGeUmjbPneI7aapiEwF6mJNZ4r5ERgIPRmmIDUnR-1XvgSK8JiRlePRXlEcsXSg37RUR0QKSUNYdv6EC0BrFr140CXM3yX6z3nRZ7WcoBrG4rjjdYZDa0X1TPONJ2YGp7kLbvKLJ0L7uWgiJ1mv1UlHFiu9hWasSnQGOG5V-5TlQG-G6HNaXtwij2xPR8ix3X8zKTEItQTxHXDOdho_BSHfq1eN3s7lVGIYwA9Nis0rXOdpjfJKd2rT-6OwGz0L2Ip2AS2U4QV7bIsi8WysPdfp8Umsd9lOH5u4na2a8KnwDFxLAqZpMPpp7xYYpaZYPnLsy0geCa&refId=yGFNBlPxF21UuzeReqTmiQ%3D%3D&trackingId=Br%2FZKCI8YT02vm%2FjkAj4kg%3D%3D&trk=flagship3_job_collections_leaf_page",
         "Back End Developer",
         "L&T Technology Services",
         "Bengaluru, Karnataka, India (On-site)",
         "l&t technology services",
         "Bengaluru",
         "On-site"
        ],
        [
         "https://www.linkedin.com/jobs/view/4226062221/?eBP=BUDGET_EXHAUSTED_JOB&refId=yGFNBlPxF21UuzeReqTmiQ%3D%3D&trackingId=ojyLpXCsM0k79YRIdDbTlg%3D%3D&trk=flagship3_job_collections_leaf_page",
         "Software development Engineer - Backend",
         "Pocket FM",
         "Bangalore Urban, Karnataka, India (Hybrid)",
         "pocket fm",
         "Bangalore Urban",
         "Hybrid"
        ],
        [
         "https://www.linkedin.com/jobs/view/4280333628/?eBP=CwEAAAGYgRRFuo5lXXBHtCItiM_aHbc9JjQrLfK0r3RTSkcB3duh9POyN-Glumh_YDcIdICGpYnfwk4q-yfrTY6N0JffiGi7ek-smGvqfcdTE3QDDQMK7ks0WrPM98N6BQtkdomlvhA8dHVS1Fk2s8XImC-EC8CEz6lRSIhowiEAc1XQJew7dF1qiru-8QvrQP5NLgGHPSmoZwN0dYyCS-MYsR_3BthTZygFVPFjcf-fnTUI6FS7Uxef5G9MTRgrrHjm8zPInZMwfGJnwDRUlbn0lh7SCC0MjEWjgArHcvywXcSuTyYFRnQ_Xu_IrHQsmEayKnUDChclNdwsubXloIN-xpmbpJdPeAjUuEeAKdMKFSff6Wdsng1iqNezqkcwGvr90uCVumCm2q6dwVuvUtINgmdu8hlWUqiXo2kH9t54dHCTj8h5avkHkL3Bqphlm5AARh8dwL90UOYphpZk2eIo5wu2yT8a58aY2TSApJ0-GpBQW-_QrQ&refId=yGFNBlPxF21UuzeReqTmiQ%3D%3D&trackingId=ctnILpLXFm8h%2FfZLkoiljw%3D%3D&trk=flagship3_job_collections_leaf_page",
         "Data Scientist",
         "RevX",
         "India (Remote)",
         "revx",
         "India (Remote)",
         "Remote"
        ],
        [
         "https://www.linkedin.com/jobs/view/4272010373/?eBP=BUDGET_EXHAUSTED_JOB&refId=gEkwBXWXNmtlPZoL5RoWWg%3D%3D&trackingId=uIztw1HcXagiVne2q6jWTA%3D%3D&trk=flagship3_job_collections_leaf_page",
         "Data Scientist",
         "Solytics Partners",
         "Pune, Maharashtra, India (Hybrid)",
         "solytics partners",
         "Pune",
         "Hybrid"
        ],
        [
         "https://www.linkedin.com/jobs/view/4272059799/?eBP=CwEAAAGYgRRfgiSo9pqN1be7N19pFrJSBz1TxVTDl_pu_r-lZP9QNVxxM09x4N9FncAydw4Py2IKKrxVOc5hfTlf6Um6sF7SGLAUedlj5gJTOisFu2BtTyjLY7EhXtK60rElKj0esy_4x7oxwWiOePcVj0wzFvkO3yDXRYr2PHINdwG36CMK6kK8hJAzBd4_7Pu0wI3lOJF-eUC04-rUpgka1_6hX1csODlhWNXqSe65-xH0UDg7FZSB2iWe911or7RcrO2A2mcaI51tH0NTppRZbXErr0_54dDhAjT9NTN6MEvtzw4UeOf_meErH7DBm0j9Ue-yHguGxMyp8C4plbtQb9QwteqwF2DIqs3DzBNi71Vv_WjF8pl2bDLdJFHmdYHObKiBkeupsYS25EDeKQs6If_UUA1DpYj2b8bYcWBKwdN18LFg849TENpuOYUtS22fBhsaQZU22pj1duNAYpE_ez7I6FU2qJzSFU1dUg0uBrowcM4esck2E7EZ2RUbPClz_i581ULFNdRRcCw_4FL-EaSGpH9X&refId=gEkwBXWXNmtlPZoL5RoWWg%3D%3D&trackingId=WcJQRZsZia7V4bNzLlZFEQ%3D%3D&trk=flagship3_job_collections_leaf_page",
         "Data Scientist",
         "Zensar Technologies",
         "Delhi, India (Hybrid)",
         "zensar technologies",
         "Delhi",
         "Hybrid"
        ],
        [
         "https://www.linkedin.com/jobs/view/4277149208/?eBP=BUDGET_EXHAUSTED_JOB&refId=gEkwBXWXNmtlPZoL5RoWWg%3D%3D&trackingId=6%2Ff2L7e0eCC3%2FOG3rhtXDw%3D%3D&trk=flagship3_job_collections_leaf_page",
         "Gen AI Engineer",
         "immerso.ai",
         "Chennai, Tamil Nadu, India (On-site)",
         "immerso.ai",
         "Chennai",
         "On-site"
        ],
        [
         "https://www.linkedin.com/jobs/view/4278537311/?eBP=CwEAAAGYgRRfgzqSmu8dp-VcYbCZpHBctSq-tlkX-MkIhH-ptKUeNbbt6Dctp-NtM_cQgZAc0SpauXuFNvmq4mawa1qVD2tkkEthMsELuzmOemnoM7XpeXfBS9zI5X3jk3v_h85qKPpCc7W3mn-l5ecJLNQ2gzDO2LoKZzOsXee9Q1w0no1Qd7DMAfMfdfzKlnjWvSM0cN9SKoK4CnnTm2ZFDPEQoc50dQMkruqQq4vGVy8IJVGYwf4jCK1e5vdhfQC2zNSCNkjEPbJfxaHZjR7P7JyExHQyiydSvg-GUFyyRwfhn1_-ySL1fi7PFEqUEkqHSufcCDIyPhxhMCKHVEzGlmvZubw3w4lJBGRNOKw9TT8B8rRNQG5KB8tWH2L6YGPsiSgG6Gxh-wRzeI2pzx9CC1t6Iai9esOZhgVrlKWp52rTCb8kqMEdVUvpMoWnZ38hqRzSY5jnPbwqecHUstogQosWOPVwrFWxdU1k-ji6RVadz9VQ3u1D0gZREio22q8_avzU44AKH6JAlzLQOGIjLDFMxw&refId=gEkwBXWXNmtlPZoL5RoWWg%3D%3D&trackingId=0x%2BM5XShNriPQHa2HdajqQ%3D%3D&trk=flagship3_job_collections_leaf_page",
         "Frontend Developer",
         "DotPe",
         "Gurugram, Haryana, India (On-site)",
         "dotpe",
         "Gurugram",
         "On-site"
        ],
        [
         "https://www.linkedin.com/jobs/view/4278908810/?eBP=BUDGET_EXHAUSTED_JOB&refId=gEkwBXWXNmtlPZoL5RoWWg%3D%3D&trackingId=jEEzy3XFUgZ0V%2FUtjZQViw%3D%3D&trk=flagship3_job_collections_leaf_page",
         "Frontend Developer",
         "Vettam AI",
         "India (Remote)",
         "vettam ai",
         "India (Remote)",
         "Remote"
        ],
        [
         "https://www.linkedin.com/jobs/view/4277708203/?eBP=CwEAAAGYgRRfgwq-e5X5f69ME0XUyAsgBAscG4-U8w4jeslv5nmB9MnxCNWMJnBOg7KB1TcgsZp6bTvsakn5p_UsDlcqZKgL3NeHQ0qYlNHgToomkhibOZM3d48473Qoy-wkFSy9ISrbINAIv3eX2p0D9gT4MlMxGnlnMzIaYE7P1977phxVZLo_yHyweH9rJqyhPFAvrpYxX16-3P3SqaqzK7tfu-i0ojRl9AGdBxrqxpypAis4uqW_OqAUQfLbo66x7GpsdzMtDK0s5OLqY4I_CoQMuzEhoXajbzlR5sNh_VRYBZnI9tHvRbtpFBFHgJWdZBpOqoyvqfp2U4QBoo3XlhqxxdckZFBlzp3EdmbbNYH2hQTYU-Ouz_csxpzO9KhDk4_7QjdrtL_MWvGqfYLj0QMr8KN7-yFbE2N2gQg5K2UtDWP7T40wArf45aoOxwHS0lMAvA-aX2PhnMd5P11fWg3H5_C8Q_Hxa3gH445lIBIn8oEc2c-K7kB3EgfvOXPC5cC1KVjMYkep5oTs-HjYKF42dPGC&refId=gEkwBXWXNmtlPZoL5RoWWg%3D%3D&trackingId=3lDIP8vme%2FBzdPkSZwZ9tA%3D%3D&trk=flagship3_job_collections_leaf_page",
         "Python Developer",
         "Tech Mahindra",
         "Bengaluru, Karnataka, India (On-site)",
         "tech mahindra",
         "Bengaluru",
         "On-site"
        ],
        [
         "https://www.linkedin.com/jobs/view/4277704619/?eBP=BUDGET_EXHAUSTED_JOB&refId=gEkwBXWXNmtlPZoL5RoWWg%3D%3D&trackingId=sfPD7JoJZaYvfeYoBH%2F4qQ%3D%3D&trk=flagship3_job_collections_leaf_page",
         "Data Engineer",
         "Randstad Enterprise",
         "India (Remote)",
         "randstad enterprise",
         "India (Remote)",
         "Remote"
        ],
        [
         "https://www.linkedin.com/jobs/view/4280807474/?eBP=BUDGET_EXHAUSTED_JOB&refId=gEkwBXWXNmtlPZoL5RoWWg%3D%3D&trackingId=lb43av5HXqIJQI4QSjPnLQ%3D%3D&trk=flagship3_job_collections_leaf_page",
         "Python Developer",
         "SmartQ",
         "Bengaluru, Karnataka, India (On-site)",
         "smartq",
         "Bengaluru",
         "On-site"
        ],
        [
         "https://www.linkedin.com/jobs/view/4254722984/?eBP=BUDGET_EXHAUSTED_JOB&refId=gEkwBXWXNmtlPZoL5RoWWg%3D%3D&trackingId=LDn%2BQm2hD5Uph8UR7iT0Ww%3D%3D&trk=flagship3_job_collections_leaf_page",
         "Python Developer",
         "Accolite",
         "Mumbai Metropolitan Region (Hybrid)",
         "accolite",
         "Mumbai Metropolitan Region (Hybrid)",
         "Hybrid"
        ],
        [
         "https://www.linkedin.com/jobs/view/4246225855/?eBP=BUDGET_EXHAUSTED_JOB&refId=gEkwBXWXNmtlPZoL5RoWWg%3D%3D&trackingId=iu6BqIJZZdYzLneoj69J1g%3D%3D&trk=flagship3_job_collections_leaf_page",
         "Python Developer",
         "mthree",
         "Mumbai, Maharashtra, India (Hybrid)",
         "mthree",
         "Mumbai",
         "Hybrid"
        ],
        [
         "https://www.linkedin.com/jobs/view/4280800105/?eBP=CwEAAAGYgRRfg4EHQxXCKi9Od5r1oJUEiCPLSTvAar3zedoecmPUQmSmGU5JkEEDlavPVFIplAV0Go_NBpRJqxv0d_LBDu3nOrn8qcKzLaa_5C97iKlJzJ58EHIQeiVZbxmnN1tumBdwgXd9BnqYQz5EpwvXpc2WwrJQpxYX0n4RYk9-6EHydatalAms3HeFt4mumNNnBzsCyIWD8GtEwJFNFNbaUYTWy2waMAF7ppT5ChKmjFJMwE34Q45fSnZFK1LcGSqFrAxsKsXpQPPgTJyf3LEqI1wHVDlRPT5JUjBMdBjEW0WM5Vs8H_GYxn6ikHJz5ORcKi3Pu4V7GOhgLX43t0ND5np6KfQHWKfhozVHoQL_R1PhXFyXX_2_sJQUkvxNKu-gj7A4J6zx1osqYVyC-VM2dRS78ewhninZe3qsuLG3K5VDiiDCwkcrmAerncEkAHpOjcWu-AbScGkYwQPVIoElWS4a6MI3-mEd4dCGPsYqS0TWYA&refId=gEkwBXWXNmtlPZoL5RoWWg%3D%3D&trackingId=QJj7P%2B1mrEjhJriVkhTcqA%3D%3D&trk=flagship3_job_collections_leaf_page",
         "Data Engineer",
         "PwC Acceleration Centers",
         "Bengaluru, Karnataka, India (Hybrid)",
         "pwc acceleration centers",
         "Bengaluru",
         "Hybrid"
        ],
        [
         "https://www.linkedin.com/jobs/view/4277691099/?eBP=CwEAAAGYgRRs1XFqVl8gKzF_KV_gzTD_jQ2gQdKXwY_x-FFTnLWm58F13ECe9-1WKQYhyhHzuo53AxL3hzabdAmnIbxy7qsGj-YLi69K6umAqnSzOoN-Vp8IakCVwfrHYI1_dU-ykFppjwhdA4geRJXuO0zs5EXrLwIuemNHvXNqwrwbLtj3-rWX7_kCSY6s_XmvCulphH9WhHN__9jbC6Lrv4gt7qIf1eAaFbWl2UPXWzwGTTvB7dH_KDPuPtRBbaGOamL-ASnGUUOYPHPM15d6fgrGOC3YdrEHPIx9t1iDMEGHnttlel7uU2VPj8mO59Z9_4t2FkGj29yv1JAb69-qFRcJX1CQXrnpEODRWGCH7ep7hI03zBJItMMu_9ujmxjzolkoYODxy5tSkjuPadmdAuuYvI03vVDRiSfaMJY0gLGyPrGSOS9xv_aMiFxSs3a4QlQQYJ87w8YgTFcOE6L6a9EXD30XeDLo9BxOC_24KiW4lCmh7WipupGANFXIrMOxHw7tqnWJ7PsDafv4BSl9K5xRnCiC&refId=C1m6O88SDPW5eGDelaudEg%3D%3D&trackingId=4C4umh3tXmrO3ES5CGvXSg%3D%3D&trk=flagship3_job_collections_leaf_page",
         "Machine Learning Engineer",
         "Bounteous",
         "Gurugram, Haryana, India (Hybrid)",
         "bounteous",
         "Gurugram",
         "Hybrid"
        ],
        [
         "https://www.linkedin.com/jobs/view/4273549803/?eBP=BUDGET_EXHAUSTED_JOB&refId=C1m6O88SDPW5eGDelaudEg%3D%3D&trackingId=GafBCcTcYaFonTnObRdByg%3D%3D&trk=flagship3_job_collections_leaf_page",
         "URGENT Hiring: Python Developer (LLM)",
         "AquSag Technologies",
         "India (Remote)",
         "aqusag technologies",
         "India (Remote)",
         "Remote"
        ],
        [
         "https://www.linkedin.com/jobs/view/4268794618/?eBP=CwEAAAGYgRRs1iQKPF0wuM_RALmLun6TeaRpKxhzSjtUGHB_8u-X1riECl5Zt9CibTxScBCl5i9jYJtAzHhxHj2P6xmPW287itDrL5TowVTBVVY-HiUQ1Ig32Q8lu3vg7TjSX0teyR-F_DjsG8eYPXxUoq3ODHtCoTA94BR89Csm_-sfp8A0JnyUFuyc0-XUq1yZeEAitD-JnfL1F9YOiPp3EFtQWIKb2dS4MDD5jG8MOdzt1kI97apCK8gT3FFuM5QNdst8Gud1dy4jnXc17peT0oShgvQXObPL_oqdRE0SfWYzAR8geZUthsRA4X1QO4COzSmwPHQsNsGZlzdGrNcasNjkEAxBNrqQxeS2dl7M4tLJv0MhyvqaUsgj0wEQt02r3vMTD3H2Mn6ZHx8o9NT3XuGjbeTEoT50OiKsF8uN-h4NKB1WOpTXrTWJKAcjioOQfHm90qyOmPZC2D_iopAdE9zjmT5dn-KPrjLggNAr7F91d8XM_6cKAVTf8fY-pWWytf874HFyyVIE1hHXEmrj&refId=C1m6O88SDPW5eGDelaudEg%3D%3D&trackingId=iDuYn4jbqzmNGEX0wMvJBg%3D%3D&trk=flagship3_job_collections_leaf_page",
         "Machine Learning Engineer",
         "Prudent Technologies and Consulting, Inc.",
         "Hyderabad, Telangana, India (On-site)",
         "prudent technologies and consulting, inc.",
         "Hyderabad",
         "On-site"
        ],
        [
         "https://www.linkedin.com/jobs/view/4272058375/?eBP=CwEAAAGYgRRs1kmwP4FQawpKF8ZVBPBqGPnOvHsUaGtugj8Mju9ElH3hhotzKcCIRKURnosus1zqCejany4wqt8v1bbKVpbwRsDJG7Boe5kgV2k5Je9aT6qxXDzK1zN0CnszVMJPGdG0BEntQ3MZXBi7y9FSOh7BZUI_VijYp3t7Fu4cHcScVDBi8L9J-onuR8WfHlFuNtMNaWsNbZw_6hi9Vw1DwGF0rsfIUMsyjyFllStTJ5sST5ZjwKcPUlndIBX-RE6FVigexDWxrUvYreJWqiIFeo9Ho9iXl4KosQiXppdoTeVP3sLwM0QMhdEvJDUa-MQ94Gz4ibH6OOISs6UIza_zInITEcEyGwSqpoUD4zN8T_Rsr3_i4Md5HUhfMFQYgJ-0B0_zq7ekinZMB0UESNgGqRwSSpYmqFQ4FKzB-F5u06dHdelRWR8C7OxzYD7Q-aI-uIT3u-rRHr79K_QUX2kGmTzoMHEKszOAJxSjT82gyTs&refId=C1m6O88SDPW5eGDelaudEg%3D%3D&trackingId=5BkqcA1paT4QHC7FjQ32BA%3D%3D&trk=flagship3_job_collections_leaf_page",
         "Machine Learning Engineer",
         "Dentsu Global Services",
         "Bengaluru, Karnataka, India (Hybrid)",
         "dentsu global services",
         "Bengaluru",
         "Hybrid"
        ],
        [
         "https://www.linkedin.com/jobs/view/4278908252/?eBP=CwEAAAGYgRRs1siMaBMJKnH_jpL9yNDwRWEA3Lq93muUB6UXwexKPNCI6kjP6bzPTRPXdQsNyjArpZpAe8dJLNpNP6JUO4V5y28xmUjcg2xD3_zYpYzZ09JmUxFdoJHqSsPgD8iRAtSKyDW-NqggAe3Q4SCeqtyM6GsSmiuqxn2jnQxnRn3fuqWQrWxswonZIalA0MB5LcblUt2Khu7oP04CGssI7ZZjD0rcK1pHHvHjThCYXpDZdfj5DusYXSJubrGKFsOFduf0CQRkBVQsltKIe91gpLYmxr9c6x-2zTRA9zlwJ2W25PjjsHOovEm6cqIHOdEHreBU1ZjfKos-FaYZUZDc4X-5rBLJCs0kQPVIJMVU1enVpn9hFmCKMHKySQcBXZgN6W_PGXxEsZjS43Gxqp7EPQYqBIU9CDNXPKO9vPMZklRCJqfMdx9OuVUGatfai3lmsFW5gTbQFIw7YI09UbTOVwgQPEUdWujrK0urBQHL6YzGkm6n02gbh6lLDdww5M6ymlDKZKYtuMpxle2HxvTSKx5y&refId=C1m6O88SDPW5eGDelaudEg%3D%3D&trackingId=MjqSX2Vx5IBnvUXw56LEKQ%3D%3D&trk=flagship3_job_collections_leaf_page",
         "Staff Engineer, Frontend React",
         "Nagarro",
         "Gurugram, Haryana, India (On-site)",
         "nagarro",
         "Gurugram",
         "On-site"
        ],
        [
         "https://www.linkedin.com/jobs/view/4279379953/?eBP=CwEAAAGYgRRs1ib1k9589ENGdSHnT_0C0JO7oEaTz2WRGOkqA1KJRpEkZ4FBih8Ezag-LC3n6tFdGpO9yQxf1wwcTLdjIT9h08I9B28yR9y4pf3HXkWxwn33lI8Mj866FLc66c6Es4UEJ3EnTFbAbYT9XZCp9UL4nWDyUPmdUTVkKieGIFJ39pZYvl-a7VW_5wxysUQ0brs7CfhcX9ZwUIfpKiB8iN-aUSPbMpzuVgjrpzCTxviqgyWlJVL0I_NRN0Ro0rGmgNIBPXQ1-dyJTtC37WdfcRUFGcRR3B6LDqVrzrQUMke7Ncs47SmqP0dIyZXy9Xk2WPU0ElWBvzBE9QtZOumWt4KyINpAbGro-6XZkTKDClV-kj1C4aATFu4720r-AykXdBCurQH2BCxoLs3yr-IZr4lSOxfgdrXUtlhxYMAdwvthSi9EfLB8ttaqPYCHqFxBhMCOJhb0mjj9FVFjOSDDybPI-9HY3ncY6pQzeondz_j2-jteEKoj8UP2vsRPrBBjLUOsNbKVVsDUiMHxIJVwdCHQjKg&refId=C1m6O88SDPW5eGDelaudEg%3D%3D&trackingId=saIeFq0%2BL%2B3qAgBWcsM7Zg%3D%3D&trk=flagship3_job_collections_leaf_page",
         "Python Developer",
         "Ascendion",
         "Gurugram, Haryana, India (Hybrid)",
         "ascendion",
         "Gurugram",
         "Hybrid"
        ],
        [
         "https://www.linkedin.com/jobs/view/4277564515/?eBP=CwEAAAGYgRRs1mwdzZY8KoHOJCpQPbUKGF8OBAjaCW1__-vPcjrK5VdPK6l-89wfBiYkJ79GW3jK23Ao4H_ooHGn9FwSt8K9nZZcwXmotFfTkdUK9o3q69qVhIssGi05_VVz04GNbETJysqTmlQitwz7on-dDzOkV_DGDQFgfNDA_Q_d4vXkAOATNwSd1iibuWSpBi3fk1VPlqL8On0eM4-NRgSLrGeyH6ofFryA8KanVV0ZmFiBPebsyc-KXmhUfsuiYy6vudW4tdVM2CUp9ba3GMn8kp1bbb27MGfEi7uYnBAulk7RF7GXHk2ncTUkggxrhWo1bFR6o4w1C2dDElJW-lbEO4bcq_J3huq0Bm-YqJ9e0bqQ5FS38hXiicl-IF0jLUvMI3k3L3qQRDOp8kD-KacNt1MB77qSp_W-kZthhO1IIwSZvgN8YFkwsOs9DHrHzSb1onEedSVOURdzLeJLz-pdpEpFav5cY9FsH1Qj99Xw1BKNdMQGRpV7Rh8cNrHV6YUEgUObEokfTvI5b8_yyOmLdgXP&refId=C1m6O88SDPW5eGDelaudEg%3D%3D&trackingId=xMRf0QisgKsnOZQnoSf0KA%3D%3D&trk=flagship3_job_collections_leaf_page",
         "Data Science - AI - Pharma",
         "WNS",
         "Gurgaon, Haryana, India (On-site)",
         "wns",
         "Gurgaon",
         "On-site"
        ],
        [
         "https://www.linkedin.com/jobs/view/4278020681/?eBP=BUDGET_EXHAUSTED_JOB&refId=C1m6O88SDPW5eGDelaudEg%3D%3D&trackingId=cxJnqwjCtpIwDuyEgK1ynQ%3D%3D&trk=flagship3_job_collections_leaf_page",
         "Machine Learning Engineer",
         "Rail Labs",
         "Chennai, Tamil Nadu, India (On-site)",
         "rail labs",
         "Chennai",
         "On-site"
        ],
        [
         "https://www.linkedin.com/jobs/view/4277968906/?eBP=BUDGET_EXHAUSTED_JOB&refId=C1m6O88SDPW5eGDelaudEg%3D%3D&trackingId=WFGWAYyjJXVr1XuzL1Tifw%3D%3D&trk=flagship3_job_collections_leaf_page",
         "Python Developer",
         "Leeford Healthcare Limited",
         "India (Remote)",
         "leeford healthcare limited",
         "India (Remote)",
         "Remote"
        ],
        [
         "https://www.linkedin.com/jobs/view/4277177006/?eBP=CwEAAAGYgRRs1sZFhiGPUmdQ1Xie9cOYSgoCWnCbMQNtnpFZLTCL4oEP50gdFWlStM1HUVNTgkiNtymragb11JOiyVbTaozG3vuX9ifTWtLGKMJDbINe5oCVKRtAKBWJpIoR0l_CWoxOUAMjB2kMpYMPar5GjFutQw4W5T1XOEbun1eoLD3MQcpxFnGMipg2P9ughLRwAsxhw_BvOCiGaZaRokH4SE1P8sFkyzO6Lx8DsH0zdB-5jxL5Xo4KnDTQMa_Xl2fvOelyj5HCw_6yCaLs-iyfJ85mzpAL9Uch-QrZd-Nvd544UCx4zc7kncOP3Z2wTr4DxpzrapMIo0HfVVGzny0fc-JHVfYLfx9rwyhZurcBzwvkGbn0prnsQmAZsR8NSRbM-6Vm9C31CIrZBWsv2pVX-cLIHlXaQ380tKw2N-sPWxBXoqiY4xx8RpaUtNOrZtI_6vv724IEIQL2nPofCT8GoP78LHpzGs6gyPnB1x5nfPuECSl4YevBMSSaEr8T7zlnwrmLrCb5Pctuc7yMeE71gA&refId=C1m6O88SDPW5eGDelaudEg%3D%3D&trackingId=U05hy5i6WL8KY5bLYqqYBA%3D%3D&trk=flagship3_job_collections_leaf_page",
         "Python Developer",
         "Saisystems Technology",
         "India (Remote)",
         "saisystems technology",
         "India (Remote)",
         "Remote"
        ],
        [
         "https://www.linkedin.com/jobs/view/4278114996/?eBP=CwEAAAGYgRRs1nkZlOslwntcuWsPFyV1pGEcInX3CPVIV2q65uRJzQQ5H9SkK_StEiKWzyFGD7HeeAS3sHLR-4NFGNYGyXTAz5nEaUAMMep9iiAn6bUbmuXogBwTACFM0qF_KEP05i0V-W2oCwF9PrdG718sV86xzJkHHxkseHXsYXSuGQn2_xtcGy6qeICpfZ8tY9kqUYWIdEXQ_qIwfpaLs_qR4Rxr_v4TVDUkKnR6Y4dBEBE2jm3XQMsQUMtbQWNncOBoat9PNnIjSwh1SP3kX0FYl85o-E0j1P41XM64eiJJ6t08v2fCZ54AXzX2QMz8Q0zzOzt-8aPNUc5Vyt4QIlGdKL1FUUa1Om3GzYYn0btpZzm8gNlOOuY0IiGojje3CC7YTnOAuxl_KM7pQR360iF5OOorjUwM86RvAb0-SXRKqCEhEecoRJNG2I7HooN58-32wkYmOIZiM4qNiUrlYstffTnkp1pwlB_reZxdqis9GkqEL9REko00WL1GkdFmtVgsgTi428vP_mNAEqjcEEfDdp2q&refId=C1m6O88SDPW5eGDelaudEg%3D%3D&trackingId=5ng2lHPScXAjNKBRiQSI6A%3D%3D&trk=flagship3_job_collections_leaf_page",
         "Associate Data Scientist",
         "Circle K",
         "Gurugram, Haryana, India",
         "circle k",
         "Gurugram",
         ""
        ],
        [
         "https://www.linkedin.com/jobs/view/4265420956/?eBP=BUDGET_EXHAUSTED_JOB&refId=C1m6O88SDPW5eGDelaudEg%3D%3D&trackingId=DFJ26591hdjGjrMtvLSYiw%3D%3D&trk=flagship3_job_collections_leaf_page",
         "Machine Learning Specialist",
         "HCLTech",
         "Chennai, Tamil Nadu, India (Hybrid)",
         "hcltech",
         "Chennai",
         "Hybrid"
        ],
        [
         "https://www.linkedin.com/jobs/view/4280023118/?eBP=CwEAAAGYgRRs1zpWZeynbWzwy0adFww1HlAyAqsypRccBBazJGqCKMIZLYve1_MD9IXXpUVsl50jGHXQ_UwS77GeEn52nK06drWvb1qo_J4eG4-hbo64X55mfHaY8_tT3yE95S8tGoILghFtGMD173nL7PS4bfK8PcgI2l_HcZfGhfUGdAlvljiPWMrC3qI-jjd0btBqGDuX6rDL0wSWuIx20xXTOabLOBE_g3IwyS_FU5nCNDsGfR7CXlEoIfqEtmuKUAFLXKuONKGOw77yB5zjizgmwTI9ff2KEbfO3SzeVDW1BWPPDbFWqydDJh01vUfTnesZ9TBcK0XNyRbwHgj04MSbuj4D8bq2v0ZekKU6TtAhu-xgP0ZtQ5oWHlmkII8hqHYI7MT8oZbF0tCN7jtq4NA5lvAzP7Q9mc2Zes5DUujukxZ6CZKGSl-e5NppTa-DaWmSoDQwnOBlpbdxtUpEDek5tUct2ls8ALP3rj5wianzdse2qAf-JzZ8-FQ-hLry0VuGeslECx2ySDSplKoLoS0&refId=C1m6O88SDPW5eGDelaudEg%3D%3D&trackingId=uE1IRh6xZCUR1ruJ9tuFfw%3D%3D&trk=flagship3_job_collections_leaf_page",
         "Python Developer",
         "Talentgigs",
         "Hyderabad, Telangana, India (On-site)",
         "talentgigs",
         "Hyderabad",
         "On-site"
        ],
        [
         "https://www.linkedin.com/jobs/view/4280166426/?eBP=BUDGET_EXHAUSTED_JOB&refId=HU7tKKPRmoYAbhpOIfM9nw%3D%3D&trackingId=UphimbfPWaUnNdgaqHZz4w%3D%3D&trk=flagship3_job_collections_leaf_page",
         "Software Engineer",
         "Experian",
         "Hyderabad, Telangana, India (On-site)",
         "experian",
         "Hyderabad",
         "On-site"
        ],
        [
         "https://www.linkedin.com/jobs/view/4262351983/?eBP=CwEAAAGYgRR6NKQe5qBXWQTiRtSRAHNQFSTEqs120-f4ef2Q2QES8zDs6xDHSD0KYT4s4qEnbIRXEhKeW7Xoz7qufbguP1KuUyOFunYcKBYUZvq07IaN2nRkybvfbSL_xGb69bAWh_5oWYbdx2BBsIXXNH1JxGCpBFj82pVTJJOaWI7CMs_pjmgihX16sKY9lnyKToqIbuiY_Eu8ncekaRwe5wx54zgTXkbcatPXV5x192cP7iISDK1-UIhoAn_BW5nzLIlBuxEnAn_0smILf0FBd8Zy_EmP1JaX97T7KBYdA31AzZO1qJJHO82U2GZF7nGjWL5fPLn241y_PX-BlQ_z6N7r2rV0uzpthKP_8uk_V1tjsf7pKyVPIkJoMXj64uJnYXLrl-x5_cJ1PBx-WSDip8gDUq1nL7JEYoVYyadDe6ndDLkd8d3_7cdUz-ZkibzrgKI3GO5Kp3VFD1C_WgnsL86PDQoZ2Zfo3O8wGhNO85LALXnSW3NecZi2VLGj0R5izsSH-j2w5X5keo4-FzAn7Za4wQ&refId=HU7tKKPRmoYAbhpOIfM9nw%3D%3D&trackingId=fsGoKTsNIqzKbPx2xnB3WQ%3D%3D&trk=flagship3_job_collections_leaf_page",
         "Senior Software Engineer",
         "LinkedIn",
         "Bengaluru, Karnataka, India (Hybrid)",
         "linkedin",
         "Bengaluru",
         "Hybrid"
        ],
        [
         "https://www.linkedin.com/jobs/view/4280506608/?eBP=CwEAAAGYgRR6NA2r9le3XUjXz7X7V6n0o6xybexEahjhI_9_tuRvjFkkUMIkcQ0KBYj2Xu5A2uMhTnhtANGYPy4wZa5_GtoD4ARxEKdVjTU-sckYPxnHgeikfe2GWfcZ_pfWsxd6YOCH_iUoxlrzpvtdfIxTEehwtodeayMDJ7_8saDPPDpxE8hveaAGLKzvtzYkTterR65fU90cVuBcMG3g9zVNK0KDvnIrZVeb0LN7U3h9j-Ux4CJWkLR5xqBvi9_N4xbSGHI--uHve7ic_c43dO-XDXwOZ5ObaDxxGGkRnOdZ0I4NfIIvZvBy_7Jir5ftrESCxIyY1O4ROTqrOWlljylQJFmtnNKkZfBAyGFW69WG5_1JpnR8ybVKQ8T-vsSJ6_z6ciGw4XfMt8q_chyragMUp84ANlkw0UFAIxImVc76s8MO7_2MwKFJnsvUszmxZ1rbRfNDYz2FZzguU9tqLumF4CZUYWE0YeKZ3lZdcr1LHrgSInD1hU9SbWAG1OaB1rT1IsWUoXTYtBk339ys09f7OsWcnBpu6Nvz726HZfi-x_zPV7bREKdkwXiSJIg&refId=HU7tKKPRmoYAbhpOIfM9nw%3D%3D&trackingId=Rqkmx7bWRxaZfbJlkVx0Zg%3D%3D&trk=flagship3_job_collections_leaf_page",
         "Frontend Engineer",
         "PhnyX Lab",
         "Bengaluru, Karnataka, India (Hybrid)",
         "phnyx lab",
         "Bengaluru",
         "Hybrid"
        ],
        [
         "https://www.linkedin.com/jobs/view/4278247578/?eBP=CwEAAAGYgRR6NDVlY1CSYgLTQ-LKG3slZo4n7nUvoYboawkPGpVD4XFCq0svTsM1FeDjXxQMib7dGAyyHd6E8xGYFmT01G8ifYukCagppVzOFSg5XaSnbnn3lok_3aKJMneUAiLZeiyW_Xj-KSKBM3Fz8ivVSZ48XAKLgaYnB00o2dK6Qrmj13o7mlYNO8W8HheXrnpDwc-Of2xuqSRkSQszrWoa_HNAadb2WCg8zThiilJe22R2slL9iFOHPYQzwZTWXlro9FE94Ku3prIgHn8GC06kYnM134THt8qKybBezldBchpXcBAjI1BtYbdpWek1m4MaP4Os69QaqO-smEF2zNLdNW647cYDHXlokYGUaVbbw9Mr3Ddj2Mw1ASlFIoplvOLp4_6r6-glvL8LzfX9Xy5oJoq_5jZGnqk1Ykr0g5aFZzItbxtF_yHJMh7iqSB29rrbL9-pSscAcrPW55Z6XGGga2SjwaFw2wU5jIYeFOqgPHRJMD2zMuHU2-boPqJ5zMwjfsuBkB1tPAgdL3jtdHTXT7AIhjA&refId=HU7tKKPRmoYAbhpOIfM9nw%3D%3D&trackingId=v6Lv%2BshX7eQApyk%2FDL27Zw%3D%3D&trk=flagship3_job_collections_leaf_page",
         "Data Analyst",
         "CareerUS Solutions",
         "India (Remote)",
         "careerus solutions",
         "India (Remote)",
         "Remote"
        ],
        [
         "https://www.linkedin.com/jobs/view/4273593598/?eBP=BUDGET_EXHAUSTED_JOB&refId=HU7tKKPRmoYAbhpOIfM9nw%3D%3D&trackingId=6sA%2BdRcQceHdBFuZTYLqbQ%3D%3D&trk=flagship3_job_collections_leaf_page",
         "Python Developer",
         "Datum Technologies Group",
         "Bengaluru, Karnataka, India (Remote)",
         "datum technologies group",
         "Bengaluru",
         "Remote"
        ],
        [
         "https://www.linkedin.com/jobs/view/4280141875/?eBP=CwEAAAGYgRR6NCZwe42hSSirH9Sz0o8RusjJYqS6izkOomHgR9MdcjawOgZ54qM87PceWtAp7xAwPHRmjQaWKS-GRwwWDvSD4T5tzSbREZbrjKceNi_08a9L113D9ZYUJL8z9wJM-jxNEfwQ5Gy90coQxMlHA8knzdWPuKpsaZj7gjm9YNfH8yk-3hb0r-rOlRC4bllJeYLMjlU7NUfvzbD0McNRoGgsO3jXLuyJqK6fCDSZk8cYERe5iA-MKPpnqAQG46dpfO6Oq_Bretj1oC7gLjo7Zg8qr_xk4ErdC7C1eymHDZzL951UA_GBzLAI6WFE50Di7F6UyrHtM0u8M3wbxnkimRnIzkS9nsWQiOwW-ONbQPyjHfzmipS7vd8GPVRyt15-0NwhyFUmMo6_e4JS6FYfnTegyRM93C4rPm-CgTvhPW4T75F47lAeuouxHTUA3PbfSQ0U6pTw9-ijjyJuNHPBwXM0M4vguC_44aFBFoDx3ps7TkZ_CNQ2r7RneKUSpg-4oMTdf71qDvbX44b_cy5bQaxiPZA&refId=HU7tKKPRmoYAbhpOIfM9nw%3D%3D&trackingId=1rjv0tcAjR%2Bku%2BxR6Cu06Q%3D%3D&trk=flagship3_job_collections_leaf_page",
         "Software Development Engineer Test",
         "Airtel Payments Bank",
         "Gurugram, Haryana, India (On-site)",
         "airtel payments bank",
         "Gurugram",
         "On-site"
        ],
        [
         "https://www.linkedin.com/jobs/view/4278062997/?eBP=CwEAAAGYgRR6NPjsud-JCM6_LEfbEy-EdUEYodoclOVyau1y8YIyD79YGll_luXVKRAlE5GuX-df0a_9RjU2Lr6VaHNWh7mrhBzQ4PeK7gwvwpj1FMDeJNuMXTjZQPT6KS_jACBktSojJJMvLg08VXmkiogliJEkdeLxRLe4n-Lybg3urosHnBtWZMVA-9LPOUXqZpxAQ7AbIKmufDCLD3TiINiIZPYbew6NnFGkaUl8JaxHb0fuATaCYvTgg-NB5KK8RChGon7xKNk3a4QEAiLldQQ6PdTxbK3bj0yGpIiZY4dh2aPkpb85F3iYwRKt3-bIp2WuBOd0ODQE4TiEvFLcPsnIrbe-zT6Uy9w85slAcdWLTc_MfhzwY-DJKiqDqGpY7-_MZ1SJam1mouq7TkEYGdx991gKAT-e0ZV31-OWwg83vHm-pe6t5ZQsyllbZcLB5eB7bMRLuRluUfPjmvVvxtRwmNvIRMnQOY_0xZm7guZ7jW-SQHPE-NlVngAtRR7Iyxgh3C4LOpcjA0QslhUJmjRXRbEF&refId=HU7tKKPRmoYAbhpOIfM9nw%3D%3D&trackingId=FRZMpeEhbcfD4ZicDPDbRg%3D%3D&trk=flagship3_job_collections_leaf_page",
         "Python Developer",
         "Datastack Technologies",
         "India (Remote)",
         "datastack technologies",
         "India (Remote)",
         "Remote"
        ],
        [
         "https://www.linkedin.com/jobs/view/4278814835/?eBP=CwEAAAGYgRR6NGefh3UFupIXXCqelAz44yWcMnEBVNCb8pCq72QdpZAGlMuO7mudjuSvQiwaJv-NXzntWsRemUACEXBzC0nXaVmo7T2N3BdN1RKpHgXFfOyvdmFkdbZzC6IPW2XYLNI_xdgFVe-b6bNo8DThNYMkntw7tDgFb41irVdPR_M0sjmVQHQ9GBCM7fDjUBSOXq9wIftEGjrpVBQZCH-rjrOjGU2mOOT_1Yloma-TMMJK_sA_KgXmwYuyxJwlataRpEmKiqcuuJ80T4zEldWrpq2Q__5fDEgMDbmcrbrt6DAC8xw6LOG_0PrerW6JT-x5jdG6QlU4dBfrgk3hCdu-BZSaUqmXwohvgM5qcdC6sVllnav_fWUoWH6Vt1qkujTosZPXR7pzNxsPFR3HqfK8TGcUHJFcpt7f0z8aKrkQkkZvySV0W8nzuq-mWjSOgOgfcx0-J2yqfvJWLskAajWTXx0SEEeZ5lIrehEbPD2awPhJ-8QIYUgPCbNe7fo7U7vvzFuGyMUUzwYm5_ApsDNS9xaxKJs&refId=HU7tKKPRmoYAbhpOIfM9nw%3D%3D&trackingId=C1Hou1knVMP8LLc21f9sIQ%3D%3D&trk=flagship3_job_collections_leaf_page",
         "Python Developer",
         "Wissen Infotech",
         "Bangalore Urban, Karnataka, India (On-site)",
         "wissen infotech",
         "Bangalore Urban",
         "On-site"
        ],
        [
         "https://www.linkedin.com/jobs/view/4274205056/?eBP=CwEAAAGYgRR6NKiilphPR2gIm7WK5LppzWHZC2QQ8QULLHpHrvWEKGPFomAPpntaBx7z6D4riLXYcjffOnca6Jtw_S9pIPMSn7qgwqXh2zKhsaZYmvPdALSoYa93VO7KEpAqi-l39p4iio4Br4CPgIsH8l3KZQsDlIda4mtJTDPdcj6cbeAaDiQ0bgjkgGT8vnDELo4bTN8egb7dOuQvraymjPmy0L_fxblAfIsl89x62mkp2iu5Gbav-cuBdtUQEzU8mgF00L119U-annqtafgvKRgYIbsF2yDa8UaMelt39y-4RB8V_7xeiOf8XBENSKWkmORzLvIGc0i_EuYwWJ5xwy65Og3F-tp_4jJN9pGTOLeXKhiD7-C9S65FU4MiqW2QFgh2RJWKe1n7q_vtjLwwKJwUtQp7M3bB8YMQu7327_CwlpTtqNerkILIr18GPjY23W482tLV5NBmbJgj9lo9ZaNtcHYAUHgEJbpFUFD8lOZc1xPPQH1e55lM1NSfIGL6O69lEZx0e8ta&refId=HU7tKKPRmoYAbhpOIfM9nw%3D%3D&trackingId=um7qcUl4GJbXXYMfJf2TrA%3D%3D&trk=flagship3_job_collections_leaf_page",
         "Software Engineering- Web",
         "Carousell Group",
         "Bengaluru, Karnataka, India (Remote)",
         "carousell group",
         "Bengaluru",
         "Remote"
        ],
        [
         "https://www.linkedin.com/jobs/view/4280800394/?eBP=BUDGET_EXHAUSTED_JOB&refId=HU7tKKPRmoYAbhpOIfM9nw%3D%3D&trackingId=4Pvz7lPHap%2BuvWNHLyUg4A%3D%3D&trk=flagship3_job_collections_leaf_page",
         "GenAI Engineer",
         "TO THE NEW",
         "Noida, Uttar Pradesh, India (Hybrid)",
         "to the new",
         "Noida",
         "Hybrid"
        ],
        [
         "https://www.linkedin.com/jobs/view/4245121446/?eBP=CwEAAAGYgRR6NQ4ZuPW5NoKadsFFZ-VYhS7yKaWQJ7svFhT78q9LhJ2pePvsG8mQUMm5IN4xrQHOtqxHooQCZx3oziZJ4-E4ZLne28DqWuohIHAai1Tf1ra51iZq76X6EMKAlVdDxsc-YnIHLn0SAPvKsgStvtrttjOAUy4QxDMuKJAQ8k6wHsMSVYgf2VR4CCB4HMirLlDv_GCjMJK8_kETemf7_j6bqYZuR9vXNPqmvD4INYwdoFSaMhvmrO2JVKw7BD8_MPi8RygtjZxdxwlYfx6YDZzR55kLV2_W5AP2JCpAQCIzKI-FqWsZkH_MC-I3ZqBJKjBgQVp3YUtvhBzm7D0EvLwqHof1F7U0YeUIBt40A29xLHho9nO9SXAm1Wbz0DGYzopjiqLGWmqU4WY9L571NNxnHjt4VFCM6dFqxC_vuZrOWIepRN4biNd_uaq9rL9Ff9-ETBl7CZ_1rDySG-xdQHshaVqxEBi-W0wtAXoHQFyNIeR3sXs-7xHUWaR7jeNw-oURqvqvHiYkKHMT2rLlnPck43o&refId=HU7tKKPRmoYAbhpOIfM9nw%3D%3D&trackingId=TK35dOditK9QcPiygCvFZA%3D%3D&trk=flagship3_job_collections_leaf_page",
         "Data Engineer",
         "Centrilogic",
         "India (Remote)",
         "centrilogic",
         "India (Remote)",
         "Remote"
        ],
        [
         "https://www.linkedin.com/jobs/view/4280166426/?eBP=BUDGET_EXHAUSTED_JOB&refId=HU7tKKPRmoYAbhpOIfM9nw%3D%3D&trackingId=UphimbfPWaUnNdgaqHZz4w%3D%3D&trk=flagship3_job_collections_leaf_page",
         "Software Engineer",
         "Experian",
         "Hyderabad, Telangana, India (On-site)",
         "experian",
         "Hyderabad",
         "On-site"
        ],
        [
         "https://www.linkedin.com/jobs/view/4262351983/?eBP=CwEAAAGYgRR6NKQe5qBXWQTiRtSRAHNQFSTEqs120-f4ef2Q2QES8zDs6xDHSD0KYT4s4qEnbIRXEhKeW7Xoz7qufbguP1KuUyOFunYcKBYUZvq07IaN2nRkybvfbSL_xGb69bAWh_5oWYbdx2BBsIXXNH1JxGCpBFj82pVTJJOaWI7CMs_pjmgihX16sKY9lnyKToqIbuiY_Eu8ncekaRwe5wx54zgTXkbcatPXV5x192cP7iISDK1-UIhoAn_BW5nzLIlBuxEnAn_0smILf0FBd8Zy_EmP1JaX97T7KBYdA31AzZO1qJJHO82U2GZF7nGjWL5fPLn241y_PX-BlQ_z6N7r2rV0uzpthKP_8uk_V1tjsf7pKyVPIkJoMXj64uJnYXLrl-x5_cJ1PBx-WSDip8gDUq1nL7JEYoVYyadDe6ndDLkd8d3_7cdUz-ZkibzrgKI3GO5Kp3VFD1C_WgnsL86PDQoZ2Zfo3O8wGhNO85LALXnSW3NecZi2VLGj0R5izsSH-j2w5X5keo4-FzAn7Za4wQ&refId=HU7tKKPRmoYAbhpOIfM9nw%3D%3D&trackingId=fsGoKTsNIqzKbPx2xnB3WQ%3D%3D&trk=flagship3_job_collections_leaf_page",
         "Senior Software Engineer",
         "LinkedIn",
         "Bengaluru, Karnataka, India (Hybrid)",
         "linkedin",
         "Bengaluru",
         "Hybrid"
        ],
        [
         "https://www.linkedin.com/jobs/view/4280506608/?eBP=CwEAAAGYgRR6NA2r9le3XUjXz7X7V6n0o6xybexEahjhI_9_tuRvjFkkUMIkcQ0KBYj2Xu5A2uMhTnhtANGYPy4wZa5_GtoD4ARxEKdVjTU-sckYPxnHgeikfe2GWfcZ_pfWsxd6YOCH_iUoxlrzpvtdfIxTEehwtodeayMDJ7_8saDPPDpxE8hveaAGLKzvtzYkTterR65fU90cVuBcMG3g9zVNK0KDvnIrZVeb0LN7U3h9j-Ux4CJWkLR5xqBvi9_N4xbSGHI--uHve7ic_c43dO-XDXwOZ5ObaDxxGGkRnOdZ0I4NfIIvZvBy_7Jir5ftrESCxIyY1O4ROTqrOWlljylQJFmtnNKkZfBAyGFW69WG5_1JpnR8ybVKQ8T-vsSJ6_z6ciGw4XfMt8q_chyragMUp84ANlkw0UFAIxImVc76s8MO7_2MwKFJnsvUszmxZ1rbRfNDYz2FZzguU9tqLumF4CZUYWE0YeKZ3lZdcr1LHrgSInD1hU9SbWAG1OaB1rT1IsWUoXTYtBk339ys09f7OsWcnBpu6Nvz726HZfi-x_zPV7bREKdkwXiSJIg&refId=HU7tKKPRmoYAbhpOIfM9nw%3D%3D&trackingId=Rqkmx7bWRxaZfbJlkVx0Zg%3D%3D&trk=flagship3_job_collections_leaf_page",
         "Frontend Engineer",
         "PhnyX Lab",
         "Bengaluru, Karnataka, India (Hybrid)",
         "phnyx lab",
         "Bengaluru",
         "Hybrid"
        ],
        [
         "https://www.linkedin.com/jobs/view/4278247578/?eBP=CwEAAAGYgRR6NDVlY1CSYgLTQ-LKG3slZo4n7nUvoYboawkPGpVD4XFCq0svTsM1FeDjXxQMib7dGAyyHd6E8xGYFmT01G8ifYukCagppVzOFSg5XaSnbnn3lok_3aKJMneUAiLZeiyW_Xj-KSKBM3Fz8ivVSZ48XAKLgaYnB00o2dK6Qrmj13o7mlYNO8W8HheXrnpDwc-Of2xuqSRkSQszrWoa_HNAadb2WCg8zThiilJe22R2slL9iFOHPYQzwZTWXlro9FE94Ku3prIgHn8GC06kYnM134THt8qKybBezldBchpXcBAjI1BtYbdpWek1m4MaP4Os69QaqO-smEF2zNLdNW647cYDHXlokYGUaVbbw9Mr3Ddj2Mw1ASlFIoplvOLp4_6r6-glvL8LzfX9Xy5oJoq_5jZGnqk1Ykr0g5aFZzItbxtF_yHJMh7iqSB29rrbL9-pSscAcrPW55Z6XGGga2SjwaFw2wU5jIYeFOqgPHRJMD2zMuHU2-boPqJ5zMwjfsuBkB1tPAgdL3jtdHTXT7AIhjA&refId=HU7tKKPRmoYAbhpOIfM9nw%3D%3D&trackingId=v6Lv%2BshX7eQApyk%2FDL27Zw%3D%3D&trk=flagship3_job_collections_leaf_page",
         "Data Analyst",
         "CareerUS Solutions",
         "India (Remote)",
         "careerus solutions",
         "India (Remote)",
         "Remote"
        ],
        [
         "https://www.linkedin.com/jobs/view/4273593598/?eBP=BUDGET_EXHAUSTED_JOB&refId=HU7tKKPRmoYAbhpOIfM9nw%3D%3D&trackingId=6sA%2BdRcQceHdBFuZTYLqbQ%3D%3D&trk=flagship3_job_collections_leaf_page",
         "Python Developer",
         "Datum Technologies Group",
         "Bengaluru, Karnataka, India (Remote)",
         "datum technologies group",
         "Bengaluru",
         "Remote"
        ],
        [
         "https://www.linkedin.com/jobs/view/4280141875/?eBP=CwEAAAGYgRR6NCZwe42hSSirH9Sz0o8RusjJYqS6izkOomHgR9MdcjawOgZ54qM87PceWtAp7xAwPHRmjQaWKS-GRwwWDvSD4T5tzSbREZbrjKceNi_08a9L113D9ZYUJL8z9wJM-jxNEfwQ5Gy90coQxMlHA8knzdWPuKpsaZj7gjm9YNfH8yk-3hb0r-rOlRC4bllJeYLMjlU7NUfvzbD0McNRoGgsO3jXLuyJqK6fCDSZk8cYERe5iA-MKPpnqAQG46dpfO6Oq_Bretj1oC7gLjo7Zg8qr_xk4ErdC7C1eymHDZzL951UA_GBzLAI6WFE50Di7F6UyrHtM0u8M3wbxnkimRnIzkS9nsWQiOwW-ONbQPyjHfzmipS7vd8GPVRyt15-0NwhyFUmMo6_e4JS6FYfnTegyRM93C4rPm-CgTvhPW4T75F47lAeuouxHTUA3PbfSQ0U6pTw9-ijjyJuNHPBwXM0M4vguC_44aFBFoDx3ps7TkZ_CNQ2r7RneKUSpg-4oMTdf71qDvbX44b_cy5bQaxiPZA&refId=HU7tKKPRmoYAbhpOIfM9nw%3D%3D&trackingId=1rjv0tcAjR%2Bku%2BxR6Cu06Q%3D%3D&trk=flagship3_job_collections_leaf_page",
         "Software Development Engineer Test",
         "Airtel Payments Bank",
         "Gurugram, Haryana, India (On-site)",
         "airtel payments bank",
         "Gurugram",
         "On-site"
        ],
        [
         "https://www.linkedin.com/jobs/view/4278062997/?eBP=CwEAAAGYgRR6NPjsud-JCM6_LEfbEy-EdUEYodoclOVyau1y8YIyD79YGll_luXVKRAlE5GuX-df0a_9RjU2Lr6VaHNWh7mrhBzQ4PeK7gwvwpj1FMDeJNuMXTjZQPT6KS_jACBktSojJJMvLg08VXmkiogliJEkdeLxRLe4n-Lybg3urosHnBtWZMVA-9LPOUXqZpxAQ7AbIKmufDCLD3TiINiIZPYbew6NnFGkaUl8JaxHb0fuATaCYvTgg-NB5KK8RChGon7xKNk3a4QEAiLldQQ6PdTxbK3bj0yGpIiZY4dh2aPkpb85F3iYwRKt3-bIp2WuBOd0ODQE4TiEvFLcPsnIrbe-zT6Uy9w85slAcdWLTc_MfhzwY-DJKiqDqGpY7-_MZ1SJam1mouq7TkEYGdx991gKAT-e0ZV31-OWwg83vHm-pe6t5ZQsyllbZcLB5eB7bMRLuRluUfPjmvVvxtRwmNvIRMnQOY_0xZm7guZ7jW-SQHPE-NlVngAtRR7Iyxgh3C4LOpcjA0QslhUJmjRXRbEF&refId=HU7tKKPRmoYAbhpOIfM9nw%3D%3D&trackingId=FRZMpeEhbcfD4ZicDPDbRg%3D%3D&trk=flagship3_job_collections_leaf_page",
         "Python Developer",
         "Datastack Technologies",
         "India (Remote)",
         "datastack technologies",
         "India (Remote)",
         "Remote"
        ],
        [
         "https://www.linkedin.com/jobs/view/4279361445/?eBP=CwEAAAGYgRR6NORvXTqamYdKMa3oFWm4INdL_Du8vD4zs7_I8EhTWgU3GEwYcTGzQiVPtiKqV2cNVjh_LVrp95TPPuTom-uEPXo2BdApc68Etx4J1pzZs_6M9HRkmzUpQPs-cxdM9X1vcv-sSeAMsIpZ-4AQ_8VU2ZmdkQ_7D8Sp0HqO38ag_2bUqNC40Rd1HCdTqpEVl2kTRO5Nfgowu7heBCWlTkdGo8SgovPoV_Orx104JJdS0x6IoXQmAvR7yHLuTK5jYnEe50Z7t-K34ZBpOYIPyZgT6eT4x3DMqls2z0OJQsKDI1M2XcXBVAJgNoI616SvcMurmc_lPP7BEyOfwnn4Cjtzgj41OplARirmeN3UjVicfLP8iBRRxxEXdrcbZn7aBh4ZsyD9mIYCnQUuWk8SAZ6DOz4V6vWl80YYrjz2kH_yQD-dJlQh398Qy1GLruM3uMHyRAxK7FwUY2_ZZ-1SQI6rmXldX8gLWoiqecVibPFtAQYFiptud5dJZM79TRe3L4cZRBAFixHeas6t2byZlqY0&refId=HU7tKKPRmoYAbhpOIfM9nw%3D%3D&trackingId=j4zt5xSJWnK%2F1Do%2Fr3AHRA%3D%3D&trk=flagship3_job_collections_leaf_page",
         "Junior Developer",
         "AAA Global",
         "Mumbai, Maharashtra, India (On-site)",
         "aaa global",
         "Mumbai",
         "On-site"
        ],
        [
         "https://www.linkedin.com/jobs/view/4278814835/?eBP=CwEAAAGYgRR6NGefh3UFupIXXCqelAz44yWcMnEBVNCb8pCq72QdpZAGlMuO7mudjuSvQiwaJv-NXzntWsRemUACEXBzC0nXaVmo7T2N3BdN1RKpHgXFfOyvdmFkdbZzC6IPW2XYLNI_xdgFVe-b6bNo8DThNYMkntw7tDgFb41irVdPR_M0sjmVQHQ9GBCM7fDjUBSOXq9wIftEGjrpVBQZCH-rjrOjGU2mOOT_1Yloma-TMMJK_sA_KgXmwYuyxJwlataRpEmKiqcuuJ80T4zEldWrpq2Q__5fDEgMDbmcrbrt6DAC8xw6LOG_0PrerW6JT-x5jdG6QlU4dBfrgk3hCdu-BZSaUqmXwohvgM5qcdC6sVllnav_fWUoWH6Vt1qkujTosZPXR7pzNxsPFR3HqfK8TGcUHJFcpt7f0z8aKrkQkkZvySV0W8nzuq-mWjSOgOgfcx0-J2yqfvJWLskAajWTXx0SEEeZ5lIrehEbPD2awPhJ-8QIYUgPCbNe7fo7U7vvzFuGyMUUzwYm5_ApsDNS9xaxKJs&refId=HU7tKKPRmoYAbhpOIfM9nw%3D%3D&trackingId=C1Hou1knVMP8LLc21f9sIQ%3D%3D&trk=flagship3_job_collections_leaf_page",
         "Python Developer",
         "Wissen Infotech",
         "Bangalore Urban, Karnataka, India (On-site)",
         "wissen infotech",
         "Bangalore Urban",
         "On-site"
        ],
        [
         "https://www.linkedin.com/jobs/view/4274205056/?eBP=CwEAAAGYgRR6NKiilphPR2gIm7WK5LppzWHZC2QQ8QULLHpHrvWEKGPFomAPpntaBx7z6D4riLXYcjffOnca6Jtw_S9pIPMSn7qgwqXh2zKhsaZYmvPdALSoYa93VO7KEpAqi-l39p4iio4Br4CPgIsH8l3KZQsDlIda4mtJTDPdcj6cbeAaDiQ0bgjkgGT8vnDELo4bTN8egb7dOuQvraymjPmy0L_fxblAfIsl89x62mkp2iu5Gbav-cuBdtUQEzU8mgF00L119U-annqtafgvKRgYIbsF2yDa8UaMelt39y-4RB8V_7xeiOf8XBENSKWkmORzLvIGc0i_EuYwWJ5xwy65Og3F-tp_4jJN9pGTOLeXKhiD7-C9S65FU4MiqW2QFgh2RJWKe1n7q_vtjLwwKJwUtQp7M3bB8YMQu7327_CwlpTtqNerkILIr18GPjY23W482tLV5NBmbJgj9lo9ZaNtcHYAUHgEJbpFUFD8lOZc1xPPQH1e55lM1NSfIGL6O69lEZx0e8ta&refId=HU7tKKPRmoYAbhpOIfM9nw%3D%3D&trackingId=um7qcUl4GJbXXYMfJf2TrA%3D%3D&trk=flagship3_job_collections_leaf_page",
         "Software Engineering- Web",
         "Carousell Group",
         "Bengaluru, Karnataka, India (Remote)",
         "carousell group",
         "Bengaluru",
         "Remote"
        ],
        [
         "https://www.linkedin.com/jobs/view/4280800394/?eBP=BUDGET_EXHAUSTED_JOB&refId=HU7tKKPRmoYAbhpOIfM9nw%3D%3D&trackingId=4Pvz7lPHap%2BuvWNHLyUg4A%3D%3D&trk=flagship3_job_collections_leaf_page",
         "GenAI Engineer",
         "TO THE NEW",
         "Noida, Uttar Pradesh, India (Hybrid)",
         "to the new",
         "Noida",
         "Hybrid"
        ],
        [
         "https://www.linkedin.com/jobs/view/4245121446/?eBP=CwEAAAGYgRR6NQ4ZuPW5NoKadsFFZ-VYhS7yKaWQJ7svFhT78q9LhJ2pePvsG8mQUMm5IN4xrQHOtqxHooQCZx3oziZJ4-E4ZLne28DqWuohIHAai1Tf1ra51iZq76X6EMKAlVdDxsc-YnIHLn0SAPvKsgStvtrttjOAUy4QxDMuKJAQ8k6wHsMSVYgf2VR4CCB4HMirLlDv_GCjMJK8_kETemf7_j6bqYZuR9vXNPqmvD4INYwdoFSaMhvmrO2JVKw7BD8_MPi8RygtjZxdxwlYfx6YDZzR55kLV2_W5AP2JCpAQCIzKI-FqWsZkH_MC-I3ZqBJKjBgQVp3YUtvhBzm7D0EvLwqHof1F7U0YeUIBt40A29xLHho9nO9SXAm1Wbz0DGYzopjiqLGWmqU4WY9L571NNxnHjt4VFCM6dFqxC_vuZrOWIepRN4biNd_uaq9rL9Ff9-ETBl7CZ_1rDySG-xdQHshaVqxEBi-W0wtAXoHQFyNIeR3sXs-7xHUWaR7jeNw-oURqvqvHiYkKHMT2rLlnPck43o&refId=HU7tKKPRmoYAbhpOIfM9nw%3D%3D&trackingId=TK35dOditK9QcPiygCvFZA%3D%3D&trk=flagship3_job_collections_leaf_page",
         "Data Engineer",
         "Centrilogic",
         "India (Remote)",
         "centrilogic",
         "India (Remote)",
         "Remote"
        ],
        [
         "https://www.linkedin.com/jobs/view/4278499830/?eBP=BUDGET_EXHAUSTED_JOB&refId=IXn%2B7T6IbKlYbETu2OTZWA%3D%3D&trackingId=UStwSF1dMfSfWZerjTNxQw%3D%3D&trk=flagship3_job_collections_leaf_page",
         "Data Analyst",
         "First Screen",
         "Kochi, Kerala, India (On-site)",
         "first screen",
         "Kochi",
         "On-site"
        ],
        [
         "https://www.linkedin.com/jobs/view/4280908957/?eBP=BUDGET_EXHAUSTED_JOB&refId=IXn%2B7T6IbKlYbETu2OTZWA%3D%3D&trackingId=1taqZsfAG7opCHSvh0%2F6WA%3D%3D&trk=flagship3_job_collections_leaf_page",
         "Python Developer",
         "PeopleLogic",
         "Bengaluru, Karnataka, India (On-site)",
         "peoplelogic",
         "Bengaluru",
         "On-site"
        ],
        [
         "https://www.linkedin.com/jobs/view/4275934453/?eBP=CwEAAAGYgRSHYQlBocX1aee5Y4B47a0ilvIj3x2b4sHK_Trxdj1Jw3BI8enV2QTjqlIOpNQIVAsJbqpSRDrcA0Dl9Kc7oC6xHOhQt0mNkzspgwkD5dylunHMN1wcbxHr5AcNc062hukfcPfr5bDuS-ugLCex8-Z2qYI-gMqzj2bbuipWgoo5UCRqRfFTvEdU63wjbQff3ycroIHRft1ZYINsoebENA9Kc_ceshhTTk2mwBDe76bDYg3TxKiB8nPIY_QW9zrULf70UdDf6y5TqQoDltR7W-uIoLzKTT_fe9GyoTTkHRc9eqw_fTs6H6Y7AIZNxZMjDOZTq9QJcLZR23AD9DqvJDLIzfsqhWVD400zgV3KCzTDBm5w0cJEF0kwHkP9h86k_EXOo3kRnKII9ffaXR60l0Sj0WbSlP4x-aanmKn12SvJAJKba0DlFxMLzebBzA1QNmSJBAGSSUWpTtH-eqbiqB5oHsmRLJkVMQCV6ri5mkP-FEsKRSalNC0lClo0QuhdKBKoOZsL-v6aYdRCGamKllAF&refId=IXn%2B7T6IbKlYbETu2OTZWA%3D%3D&trackingId=IFxwCcUSZmZw4y4GsT3Klw%3D%3D&trk=flagship3_job_collections_leaf_page",
         "Data Engineer",
         "Mphasis",
         "Bengaluru, Karnataka, India (On-site)",
         "mphasis",
         "Bengaluru",
         "On-site"
        ],
        [
         "https://www.linkedin.com/jobs/view/4266402388/?eBP=BUDGET_EXHAUSTED_JOB&refId=IXn%2B7T6IbKlYbETu2OTZWA%3D%3D&trackingId=wpHESDFp8IN4x8Cct1b2Bw%3D%3D&trk=flagship3_job_collections_leaf_page",
         "Machine Learning Engineer",
         "KeyValue Software Systems",
         "Kochi, Kerala, India (Hybrid)",
         "keyvalue software systems",
         "Kochi",
         "Hybrid"
        ],
        [
         "https://www.linkedin.com/jobs/view/4279555995/?eBP=CwEAAAGYgRSHYRqbWacCWN9MtaPKozxcrG_Xw1f9bVNPfGcKx_1640uqBQac989WB-NyOCs3gGFhAkalH9bcZ2-zCMTkQXhRCNBsesBEheI7TT-Oykg9k8hWrYTUxCMJn-bLEZKX_0eEQZ7K2M-yWHy8pqiBrYoLMdnOGk-jv2KPToe3IE7dQ8hSO0vNikZooGbKPC6HJc495YbXwo98nonU1XjSJ2YYXKmm7MDWx8eho31ri57siS1oI82KZHJbRSZLtGJnM8oSSlzyUJU640bH9kIaQOobryFnVYgb1RbuW7v_DcqCIdZQDFCDwz5LOm9ATBn-rGk5fKU2PHhzUkLRj9XXznyDgC-5RcXkStJB5x5KbAL462i8TzTTp86Sg83gyqwtTCacswOyncGcgutji9kn_xa17A_yA7BoVtMGD6_uMY37jwyRTpOPeDuiNYItOn7CTUzPl_rTzclstcKHIYsbLb1V7traOKS9OKa5YxCTXt7c_U-yzSpWk3zMXeo1_p8-1VIrkqDTDsf2IJj9ZeuH82lc&refId=IXn%2B7T6IbKlYbETu2OTZWA%3D%3D&trackingId=3oo5CSsTOD0mKIO9wHRQuA%3D%3D&trk=flagship3_job_collections_leaf_page",
         "React with Python",
         "InfoBeans",
         "Pune, Maharashtra, India (Hybrid)",
         "infobeans",
         "Pune",
         "Hybrid"
        ],
        [
         "https://www.linkedin.com/jobs/view/4280083964/?eBP=BUDGET_EXHAUSTED_JOB&refId=IXn%2B7T6IbKlYbETu2OTZWA%3D%3D&trackingId=3H5tkO6JmBNt5S9jIp26Aw%3D%3D&trk=flagship3_job_collections_leaf_page",
         "Python Developer",
         "Darwix AI",
         "Gurugram, Haryana, India (On-site)",
         "darwix ai",
         "Gurugram",
         "On-site"
        ],
        [
         "https://www.linkedin.com/jobs/view/4258100629/?eBP=CwEAAAGYgRSHYe1sV6LWIqEQ6ru6OvzRituNgxmjAGmaaj9j3gx64NJ53CI9gA5RNOjye_DEbuHkuprb0UitVU4tZAH4p8dvZ7n1MDxAIECJOaXBYHwTJ34dP6HqrunOJ43dt2WI3ZKJMFvfplBsiIAfsNxxoI0FmzUww8JHP3BsR4XzCRwtfzBxRUoau9Zuk7A3C9m4eVRNiu_PsgWaxMCS4Hq0uiYzh2eM8tLPW8GcBYz-B6IaIb534VsAnN-yqNoaDtWeIQwBL7I-G_3AZ29WfGHZIrsDiO1IQV6mscnkroq25qUiDzn4vWsz8AikZHGrPbtKEMgWu9_tIVWcVYCIpFmrKaXepG8nJPCF9aekkkDJB6hjDrm2yguitj_i19mZyWvmd1zFdhhssn58t8-6foLCJ8YpQP3FX2r_YIz-cOje_oxYRStrqsCknDDBOxiNV5PvNQwEl0MpzsoScvokB8CDasXLDedjjRvKSrMi8ivUDF8qfT6mv3mWi6bI6gN5DKEyzOybHOuENXhfTTuV2s2s5AsxWd257Q&refId=IXn%2B7T6IbKlYbETu2OTZWA%3D%3D&trackingId=pXH%2F%2FqLfOn1BAaIoANYdJA%3D%3D&trk=flagship3_job_collections_leaf_page",
         "Geospatial Data Science Engineer",
         "Esri India",
         "Bengaluru, Karnataka, India (On-site)",
         "esri india",
         "Bengaluru",
         "On-site"
        ],
        [
         "https://www.linkedin.com/jobs/view/4261958705/?eBP=CwEAAAGYgRSHYXq-2tNNLGZi3tyT7Af70M5BL5-Pi_K1HBDcKiynrFGF2e3LcpXQn7iT9HnVzOlx-CnpkI81QJIyQMjgkKxOJI3nHAozocToEZQ3fA8FM88So8qwPhkdgA0R0Z4Kn-9Pql-O5QKZyLmW6zVHMnV-RdAO6yCmmTrL1B_Y7PBA0T4fhfxdScTkIXIrurizBIEud2rMUIf2vmHsAI-LKzNL_0yF5V14BcEo2NyWgjjfOBUUwdlfTEextlrrl5QS-x8qKRmX7i53BJHaPfm_AR8LWQAwffXZBKoqNzF8VWAicfP7ywJG9OZ_V_3QJKJnAd9-FQ-6G5LCgaL9D8U6bc586b-7G72pQjMECQknRCWtw_AWiGFS7jQ-fF75OrI8CwlPPdVhet69yymUs2bNLDYS1tYfToQ3TJejpkM3IBIN6RpZU9im0l7rYGMT4__OiVU3dAw3ryMLBdzvdZORQDpRrS7pZ_5Oi7Qdqo0PJEdZRwKu9nfP3ZRvoiViaZs9vBRD627T2Z8g_WuinGmA_A&refId=IXn%2B7T6IbKlYbETu2OTZWA%3D%3D&trackingId=sgL49RdKujsj8ChiXEJl%2FA%3D%3D&trk=flagship3_job_collections_leaf_page",
         "Sr. SW Engineer - AI Engineer",
         "Roku",
         "Bengaluru, Karnataka, India (Hybrid)",
         "roku",
         "Bengaluru",
         "Hybrid"
        ],
        [
         "https://www.linkedin.com/jobs/view/4273865227/?eBP=CwEAAAGYgRSHYS77Qsl81O2Mp7sx0AvQFNJwhMVe_nHP8JEm0Xzl6o25QUzCEIlPnhMADCBlPnKh--GCvDQkcfIhzM2VdmaI8r7HxoucbqVsg7LZVKI3857sU9_rSeJM4CdzeSxL6l8br97iIB9NDPM08DWckEDn04tpxGpR6TMjWA5OnyuZtmVEH4N_aB8wTzQblpqUjPe87M_PjUq9RdA6alw7n0YRPYcsXmtZBcEdsgVUMN_XOwC24irK9Dz3DEP95vsjGGQc5-_QipYdmqTFO9kaW5ggeuGMEDXhIk38EoPGgJKVeklPNplgNa3RShXDOEFjamaQ_xF-PW1WBjodZopHsM9XxpQXxUnI4X0hbmo3hdl-2G2W_wIr63l-LuR5s2cHmV5K_HEd832o0FkmyeEsztYOFpdaWJfNWY50MUEKZiQf4dLiKTD0YCVLo1RE49z05NvYxjt_8ELafBDjCLdsUv7Tw1RWQVXwZUD7IOxgEpYQAbrKlAuaR6QW-5BBkJqfraPycCfnOtXmsoqW9CdtWTP05mU&refId=IXn%2B7T6IbKlYbETu2OTZWA%3D%3D&trackingId=Aq9CnYYL7gA6aWgVJKkajA%3D%3D&trk=flagship3_job_collections_leaf_page",
         "Python Developer",
         "Binary Semantics Ltd.",
         "Gurugram, Haryana, India (On-site)",
         "binary semantics ltd.",
         "Gurugram",
         "On-site"
        ],
        [
         "https://www.linkedin.com/jobs/view/4278056511/?eBP=CwEAAAGYgRSHYbKyK1t6aUVQpAHioJlUIGYPYPD0qZuJcA5sbG-5yJ9xXlsxCQN2bnrEeJynLuYdC4JOPRlkC5gLy7FDDbQZid1cw80_-l3nv5H07Us-DFcAL9Ef_mamod0c_ysEmpE5Vimg434q9tf8Mbz2FeIMFACwdG-r872fyRHghTCIltJPPziqdJ80MrSvA8dnJ4p6OujhcwkT44tWlkWKF5fk7mBKSavRx1s8oICg-_dHJI1wUitnIM5GFKDfbTthxUCAwDJmz47x_698X7t_wV7zMrFA4JXfVvuWpz7jbnBXvTBO7SmCJJ9p_yhmeOKHFP4qdC5yK8iNMBWiHaYgvtLs5Eo2iJkEA4dEgb3Rsfl-sDiUC4hWQrewrm_QORDlk3dw3ncVMtCzfuAFAsDrwUXsh9HDc2HrbJKxgEsMw8r_KEDWfBrBxWKA0SXOqDBGAIWMipv5zcsratuOC-6SS-1prh480ciACOu-KeD1d0U&refId=IXn%2B7T6IbKlYbETu2OTZWA%3D%3D&trackingId=al86rCGlIBzjPmyb%2FGunXA%3D%3D&trk=flagship3_job_collections_leaf_page",
         "Python Developer",
         "Relanto",
         "Bengaluru, Karnataka, India (On-site)",
         "relanto",
         "Bengaluru",
         "On-site"
        ],
        [
         "https://www.linkedin.com/jobs/view/4277157799/?eBP=BUDGET_EXHAUSTED_JOB&refId=IXn%2B7T6IbKlYbETu2OTZWA%3D%3D&trackingId=ByLFrh0x2XtwoPHts9Y9%2Bw%3D%3D&trk=flagship3_job_collections_leaf_page",
         "Software Developer",
         "ZEISS India",
         "Bengaluru, Karnataka, India (Hybrid)",
         "zeiss india",
         "Bengaluru",
         "Hybrid"
        ],
        [
         "https://www.linkedin.com/jobs/view/4280451154/?eBP=BUDGET_EXHAUSTED_JOB&refId=IXn%2B7T6IbKlYbETu2OTZWA%3D%3D&trackingId=nj834IAvHex%2F2%2FuP%2FaCGow%3D%3D&trk=flagship3_job_collections_leaf_page",
         "Data Engineer",
         "The Functionary",
         "India (Remote)",
         "the functionary",
         "India (Remote)",
         "Remote"
        ],
        [
         "https://www.linkedin.com/jobs/view/4280159089/?eBP=CwEAAAGYgRShx8mFwInd5Wtz4tKo5vhxu9PGSkhnIpiguzTWBAOASPujb6-ekNUa7oOzCfK_lTshBNbz4-hF-06OQNl2o53OnOA5IX3tX9ImsVQnYl_MgsYMj5Ktfodji77y5QC8P4J531-b_Wzz8OZvLvDs1VEgzeNnRBYTvUyWzELthchmd85APr28okiNzOPXg0EmZZR1HUaZXIMIOrmQzU8LPnbLkZ42sQlt65pQUuw9Cc8EWX0YAsuR1LPF8ZRPveXvJmkh3OR5OjdYCq3cmLH6khN2O4YLqWWfdgIEPzh1RaZi7-M1bSr95-8D0cSUYxg8DjHnYA3mcZH_F-2WhgGWm-_Sg6aAV66rJ2cHHRqqOG6d6OcMeslaR2PHIJWoOWZ30TtjN8-GILlOxT8FiqQAMnAfDV7oGUP7iTyCzcKk-m2CbjqNdGHd0fLhqBIFCqEW1EGRQVxXOZ4nHhtuh0J0xy8-nm0vaV3KzCuikIAHnB1ff_YKxz63Bzi_NXKAysRshfTjZAx7F6sondmOq5y8Y3vwu8wkdQ&refId=MYPN7y%2F6AW6jfo%2Fh5tzXMA%3D%3D&trackingId=xEsgmowR87anJxv07xJlOg%3D%3D&trk=flagship3_job_collections_leaf_page",
         "Remote Data Science Analyst - 17843",
         "Turing",
         "Pune, Maharashtra, India (Remote)",
         "turing",
         "Pune",
         "Remote"
        ],
        [
         "https://www.linkedin.com/jobs/view/4280346453/?eBP=BUDGET_EXHAUSTED_JOB&refId=MYPN7y%2F6AW6jfo%2Fh5tzXMA%3D%3D&trackingId=wK2%2F8zTdMPzdw6rnTyll%2FQ%3D%3D&trk=flagship3_job_collections_leaf_page",
         "Computer Vision Intern Remote",
         "Bhatiyani Astute Intelligence",
         "Bengaluru, Karnataka, India (On-site)",
         "bhatiyani astute intelligence",
         "Bengaluru",
         "On-site"
        ],
        [
         "https://www.linkedin.com/jobs/view/4280121497/?eBP=BUDGET_EXHAUSTED_JOB&refId=MYPN7y%2F6AW6jfo%2Fh5tzXMA%3D%3D&trackingId=A6Al2m%2F%2BYwDEgZrWC%2FiJ0g%3D%3D&trk=flagship3_job_collections_leaf_page",
         "Data Scientist (AI/ML+ Python+ regression, classification, clustering+ SQL+ Cloud )- Group Manager-Data Science",
         "WNS",
         "Bengaluru, Karnataka, India (On-site)",
         "wns",
         "Bengaluru",
         "On-site"
        ],
        [
         "https://www.linkedin.com/jobs/view/4275931334/?eBP=CwEAAAGYgRShx8FqwN_v7GT2o3MfO5XqjXZ0FGHQoj4og7uSXcJIn2HiNpBvkII_Q7ImY9L1xITqw6sSMxR5JzU8tFX0lHcnYRMr7p_tGmPLi0ZDAb5NAVn8XS49IWBxcXsevucIDyNe0caqD7Q2otq0yWZxbqrEmIfBK7nOS_VmLYAkzolgTr9wX2iXjfLZAMAjA7ldb4--GBy_JIzFyOQMouNYyHBWmraVEDJOVbJ1D_uxTi4u55aCHzD8_H6hfQV1QUl51dP7ymPq_Dp-6FwklEWpUH_IU7keakb2759MLFl_yxU0tZMZ7-l6DuXO8z5_jcYbmNG51xl2qxz6I2FjFdltlcNgTuyrLR1gRedj135BgEH9qoJ7nV98Rwe89WHqgyNTD7X6tW32AGcgA8nzFVWc7vypg5DZka_Z7rMbZoZPg1preQngKsSrl64cNPEm5I8zpF9d5dX-ljiCyUIWwJvWNymDz1bi5w4jtGY-35bAN7Qum41DijhH4Hl1Y4RtiNmPMkRDg5VsOfXCraSrYSlBK28oGRhm8g&refId=MYPN7y%2F6AW6jfo%2Fh5tzXMA%3D%3D&trackingId=o%2BSADGHi7wkXwyPxEswQjg%3D%3D&trk=flagship3_job_collections_leaf_page",
         "Artificial Intelligence Engineer",
         "Grid Dynamics",
         "Bengaluru, Karnataka, India (On-site)",
         "grid dynamics",
         "Bengaluru",
         "On-site"
        ],
        [
         "https://www.linkedin.com/jobs/view/4275584994/?eBP=BUDGET_EXHAUSTED_JOB&refId=MYPN7y%2F6AW6jfo%2Fh5tzXMA%3D%3D&trackingId=o2rg5nMH7ZJcKQMS8kQ22w%3D%3D&trk=flagship3_job_collections_leaf_page",
         "Python Developer",
         "HCLSoftware",
         "Pune, Maharashtra, India (On-site)",
         "hclsoftware",
         "Pune",
         "On-site"
        ],
        [
         "https://www.linkedin.com/jobs/view/4278123433/?eBP=CwEAAAGYgRShx3TZl56YZ6sZQvVs2waDUhC6-rqA3UnpjkiUH8LlWIxNKEueb0K3nw8sO8B-YtPwHz4oOIO70m_a4zW78NG2_gvj0et2LNfTNWOXKXaxDCWeHcAOWUcrRrBhBR5GtAfkiH8u7bm0M4iNdMoHKh2ZKO22skFrGt8QiimYwXku6N2Y-gDLAPN9w02kMW-75j1dk7FxTtMBrnzQipQfUxY8GPEYbkxGxtX8kAVpwIIgcNi5Ca_R9t7aE8pb65D7Q_1ag5WNR1Z5wu9WVuuNPVEnpJNHFPLN6yZHRMkvWlZwJSY07Q6gnkPdVZWzqd0mtljduNxBjwdN3AiVrecLmWxlYxnUzSp1I_dhIKZQgUPNlKI0p1WHfz0Skq75uBFNoVyg0-_vtjVe6ZYtQLl1VNsH0Zhgvev-qBKjCymk-yLUXhYyGaiKtM4VZUCnT80McFNPusIU1fW47VcWXGkOC7o5NWb-k_GmgXbz65B_wpyLn-MnvRbsoiEfdqJ74H3npBuhFLgp18wfEKfz8VodXaVwaOloRA&refId=MYPN7y%2F6AW6jfo%2Fh5tzXMA%3D%3D&trackingId=vo8pzKwkdxSqJBuE6x8FDA%3D%3D&trk=flagship3_job_collections_leaf_page",
         "Data Scientist",
         "Circle K",
         "Gurugram, Haryana, India",
         "circle k",
         "Gurugram",
         ""
        ],
        [
         "https://www.linkedin.com/jobs/view/4272012450/?eBP=NOT_ELIGIBLE_FOR_CHARGING&refId=MYPN7y%2F6AW6jfo%2Fh5tzXMA%3D%3D&trackingId=6wdCZjJ1%2BXIG%2BhJWUqQo%2Fg%3D%3D&trk=flagship3_job_collections_leaf_page",
         "Python developer",
         "TestUnity",
         "Bengaluru, Karnataka, India (Hybrid)",
         "testunity",
         "Bengaluru",
         "Hybrid"
        ],
        [
         "https://www.linkedin.com/jobs/view/4277501095/?eBP=CwEAAAGYgRShyNaVrCDtY-Qlsz6VMJQpihbQdzjtLC4eWhIopdDHYSz9ndUrtFoZAdcFRhKQqGOPA8bpfTSTrHf_e2dcJtVZLOXdlqECRnM4wNMragLJEPkjqQyycjDBjighwpTtGepJ_39O9aVdCB9IdCFaEA7d88oJ4C6NIwqq7zDsQWJw3MAZhJGtCWF2clhOfpDe9IB7xL9PSN4lu0xbBSlGrGGTRnS33imPvSalk2FTPzoXhHJviQqQ64kg0XmUyHagftQTkqEO9ssh0sqbfiWu8l8JoSnS5RJcBXHxjG8WOGsaLwJz6-jDKl2EXMpE2g5fY8_4uoSphNnd6KicmVnSSAM6Y6aQ6WfPJnbADJKDr1uZwLsKeh28Bc42PIUWbnuJE4KENQsBN066UyQklx5hYBZOxLxso7TpgL6m8SU4DcLvxKBMf7ioeYei-8koYchAcXMNF0mMjRPbd2xD-rAg7zZ5__W9TVFxlhmo_QnoOw_wkRoC6xTCvwusafntydV0XtLEoxqMDKZUh_RqgNycyUOz0OU&refId=MYPN7y%2F6AW6jfo%2Fh5tzXMA%3D%3D&trackingId=HELp3b62bEVrf6V4k9dGIg%3D%3D&trk=flagship3_job_collections_leaf_page",
         "Sr Python Developer",
         "Nokia",
         "Bengaluru, Karnataka, India (Hybrid)",
         "nokia",
         "Bengaluru",
         "Hybrid"
        ],
        [
         "https://www.linkedin.com/jobs/view/4259429652/?eBP=CwEAAAGYgRShyCTm2v1zLa-TznmmKNaOcLt38Hiv-zEr5ob_DK-ejshPNlZ5Cp21eV0occQbdidT4ijq4U-2f8PuijG2Uzkp3FZIY5tJIDi69boyqzK7-khciDQSmObjt0tc7WfllFAb_Q1E65pXsRRI3CUe0ZyKYPdIEWhQ-gQ4GlNfk13_J8bVseT5xZGeeO1M3IKO4a5H9Osw9n5BcCBJspEAW8jiGgtZihJRXcVFqbOIvqeqCoeqmApD97T-9sERYnMHiC-y5pnVtzrhq5Kc02ZAlzN1dlLT0ESuW-ZM9K8d-tdsc6tlZPnc9wV4bJlK9YHVg6Iu2GUcNJRBfDzWjs03DZEhuex1SbkJQfibO-ZuBAjIBCHIsFcQCnWQG0Th4lHStqb9iKL-s8uOH_mLaDzqVBKaGHqxhr8PXq6ybC9mhvOLv1jzW6IKQgEb2QufdyTBsInhagBS6DrMqPodB5a9FrqGka6ekxNHgCPVAXyijLLUcdksQRhMjsx0Z_G8swKnKRQirYgxtFufEeb8qup74Op-HbQ&refId=MYPN7y%2F6AW6jfo%2Fh5tzXMA%3D%3D&trackingId=200YpSPF5ybsudwdVRypmQ%3D%3D&trk=flagship3_job_collections_leaf_page",
         "Full Stack Developer",
         "IDFC FIRST Bank",
         "Chennai, Tamil Nadu, India (On-site)",
         "idfc first bank",
         "Chennai",
         "On-site"
        ],
        [
         "https://www.linkedin.com/jobs/view/4277602277/?eBP=CwEAAAGYgRShyKyNJTlmK1pfAeEswA2CFD4VSmKsdET2eKkyr-zpWwkfocl4Pi513-1ZqmWhcsNcBhOdbK-t-7-cRMOMID27yvfUIItsxFdkJJ9qXwC-wT07FzxWYu6v7lynyJdETuYZIwlS7nUeolIIt4wg7GdbpisD9E5QE8z2ZJI95qhTIEaNwfhGjp-hA4UAiVfh_bAFFFUVQseambGS4VmoutUdlBV1UhvflpKOqKzOerMM0Ra69SyS_Gn46ujefliOQ1qfkHtFo2drNouQ1TK54uKN5Q0abQ3Km9lA_4UBdrD4HRDYvuvk8aP4Bo-v_9JJ34GW6HgnIKm4wk9-_iXHBEhReN3Ie9OnSc0BNwQe9ajvKY7R0RQBdSzescg9HqOWLCEsc721Lzy3MrHBCEvg5wTeGXZ_8r40ZQWkoY3oDK7EHD-JQDvD-W5q6XCIJmCFVAkAqKT8Vj-8H0qg_WvbrzoSLhdw2Im6uMYRQpKGAbgMZrSEb142XcbE35hRW_mgku_3gQcpooFPK6o-KHqpbyJYBWuWNQ&refId=MYPN7y%2F6AW6jfo%2Fh5tzXMA%3D%3D&trackingId=4ajm2bGTGhFZwINurlyhtQ%3D%3D&trk=flagship3_job_collections_leaf_page",
         "Software Engineer",
         "Nanonets",
         "Greater Bengaluru Area (Hybrid)",
         "nanonets",
         "Greater Bengaluru Area (Hybrid)",
         "Hybrid"
        ],
        [
         "https://www.linkedin.com/jobs/view/4250486850/?eBP=CwEAAAGYgRShyBsgTWqkc0sMGXqbaMwILYszW005WX-hc-2llOIj4THlwbg43-w4L5Dfw1r_VmYm17TsvoZtA14YSr8dEVIB3WT2VAlx55M2xNgv60okU-EEu4mRTpUv7X4wEGpHaIfqu_KUs_Xu1nNLjvMaNaLFepUqCHVSEioR6yeqnmfhMjEYhTIL913cxhKyXpzbcJuVz-ewgPSZFiX0I-8tJLE4oIhPNsNlPjdQ1ZV8ytrpzORgHkbNywznLHoMe44SMhVWLQPmbSUnhqEwgUknI2DJe6sUzn2HSTCpCCDM23UgxDbkP_-SBWMcvU4frR_eUGCmhNZhZif3iKguFMB-zsfNjyDLABITcqhdDffqYKSMTYxP44iE88HE31rOlfIaktyj9VNbIuaf1j51I06xd9OIPDZ2cGn0F9yaWmwQVm6xwJCmXJTdYJul_6SRMYq-kDwCfXE0uKbg8_UsZwJzOvMDOCbglrwl9T5TOtKtYVIsCFPZeyQUG1Veo-ml3AUvXgeWzqYDJatJExfe-JUtdvPC6XCQ0A&refId=MYPN7y%2F6AW6jfo%2Fh5tzXMA%3D%3D&trackingId=WeMUBb6LktSrAC2b%2BR4LuQ%3D%3D&trk=flagship3_job_collections_leaf_page",
         "Data Engineer",
         "PrismHR",
         "Noida, Uttar Pradesh, India (On-site)",
         "prismhr",
         "Noida",
         "On-site"
        ],
        [
         "https://www.linkedin.com/jobs/view/4278206174/?eBP=BUDGET_EXHAUSTED_JOB&refId=MYPN7y%2F6AW6jfo%2Fh5tzXMA%3D%3D&trackingId=kjig2QgL%2BJKE0XkT8BhdlQ%3D%3D&trk=flagship3_job_collections_leaf_page",
         "Python Developer (FastAPI)",
         "BeamX TechLabs",
         "Hyderabad, Telangana, India (On-site)",
         "beamx techlabs",
         "Hyderabad",
         "On-site"
        ],
        [
         "https://www.linkedin.com/jobs/view/4272841876/?eBP=CwEAAAGYgRSu0ynzr8P8Zh_cW-9jSXjrS_qD_ijkXkQKOaQGf0LsLdHsRZ-DwPSYTysmKlljRBY8pQmO6EqQwclwqFLgnERhNAtY5gq8KhkXEYyf9uS6E4gQzCrPRYBAmKrJPKuT_r-lxUjOvG24jl8QntUfN2LObLmZTJLLNDEwMDyeU9lIlbeaAfaUSMeFYuA95ZtGGQuiB_0uVRwO80Xq6kIDCJQc22-sgWqI2bpV08dwAtw1---P4v213iEemww7xUrJ20GBHZqa0emJ6Rmw_qofG2FsopS4scFrlozbcjrjm6pJWW4ZKvBdw_YS7VSqoL-38_hL7f9J5g3Ze-rr8_JxRcJC_0GnVUeXBv8uMjQA1Hlsw2VtE8XSxyITgGXEBSodgR3ByRmtgGP3xC_2JUfwVGrsnJtC2WjynA1tISE43vUpGxk5YL4maPz_6hOPxT18iM_bsoLZ_hnW3qPqo-aT1OMI270wierN8j8DIJar3-NvhomM6otbeRHXH6eUP8ep6gje_a0QNKRml8bmvwavvfny&refId=EBSmkZioQQPAVNqYw9%2BGTw%3D%3D&trackingId=Nt7moGcXYyt1NFl6DeQTPw%3D%3D&trk=flagship3_job_collections_leaf_page",
         "AWS Data Engineer",
         "Iris Software Inc.",
         "Noida, Uttar Pradesh, India (Hybrid)",
         "iris software inc.",
         "Noida",
         "Hybrid"
        ],
        [
         "https://www.linkedin.com/jobs/view/4267691249/?eBP=BUDGET_EXHAUSTED_JOB&refId=EBSmkZioQQPAVNqYw9%2BGTw%3D%3D&trackingId=jvJ8zzz7u1YO4DzFOgsNsg%3D%3D&trk=flagship3_job_collections_leaf_page",
         "Growth Data Scientist",
         "Moniepoint Group",
         "Bengaluru, Karnataka, India (Remote)",
         "moniepoint group",
         "Bengaluru",
         "Remote"
        ],
        [
         "https://www.linkedin.com/jobs/view/4278747387/?eBP=CwEAAAGYgRSu0_p5cl5v3mLO6Nrj5rBUTuwsarA-ZZ3LQM6FeBFfjJo4rTuFOBqqgOc3S6Z7TaIrXTJdVGksrGkpqOyzBUFbpsbfodRTE-uoPyjoJMckbq-BT3wQ1cHUThsWJcFJLCCNHbtZR0S9gu8OLPzp0uXZoVANOPTHmzv23ev3yyR3IuJjX7Js6wvDdK_Ok9RW0hCtDH7nE5_Rzq6u0yuk7ilOqOtPJzkDA-yr3_SBI4OM_Cud2o6Vw05b7WJ1YnJNXsF2VyoxSvBAD78r6sqo7ik_wcV2KQ4dfspR7Aa5zW_Ek4MqJKiBcYOzJUv8F9xX1VbvzheHIIs4huD3sfkhwWBDifPhRyJ-U2JuuxP1GxaZheNY-oOiNfN1f6A9f9N3shITlywtzHrL360ZhSOJ7Hz7LilrZJBMToatEBnj1hh4lN46nAYJd7Cjc9g99LwJngvXz60SmTQGnQ5-ZJlc68Q68qOGCngF_58ZnKwLgFczuDGmMY-NkZm0wqiO-rVIildPN-F7_hZzh-TW3BsSG6Ux&refId=EBSmkZioQQPAVNqYw9%2BGTw%3D%3D&trackingId=aMWpnZNin2TgYCEE4diZOQ%3D%3D&trk=flagship3_job_collections_leaf_page",
         "Data Engineer",
         "Flywire",
         "Bengaluru, Karnataka, India (Hybrid)",
         "flywire",
         "Bengaluru",
         "Hybrid"
        ],
        [
         "https://www.linkedin.com/jobs/view/4280132856/?eBP=BUDGET_EXHAUSTED_JOB&refId=EBSmkZioQQPAVNqYw9%2BGTw%3D%3D&trackingId=ngW3Yk868pVEItMSY3NA0Q%3D%3D&trk=flagship3_job_collections_leaf_page",
         "Full Stack Engineer",
         "PepsiCo",
         "Hyderabad, Telangana, India (Hybrid)",
         "pepsico",
         "Hyderabad",
         "Hybrid"
        ],
        [
         "https://www.linkedin.com/jobs/view/4271280137/?eBP=BUDGET_EXHAUSTED_JOB&refId=EBSmkZioQQPAVNqYw9%2BGTw%3D%3D&trackingId=bdAO%2B8jQWxFPiKwb%2BtuITQ%3D%3D&trk=flagship3_job_collections_leaf_page",
         "Python Developer",
         "NAV India",
         "Jaipur, Rajasthan, India (On-site)",
         "nav india",
         "Jaipur",
         "On-site"
        ],
        [
         "https://www.linkedin.com/jobs/view/4274202231/?eBP=CwEAAAGYgRSu0yaS5y0Tlyf9xBApUYTOI7z9t7vCRy-UpuwVe8LHwLPPPSDP5usEqCvifDix2UfFfJDB5XbQjCpBXhWP2QEUX4Co9o_DtYFAVor-i_EIq0wm2Shz_tF2npe2wEBta6aXYekMlhupQgBnwLnPsWQqT2NWVsqsWdbEcD4fcleIjRQKBN6QPYTswg0WuMs0RiCeF37VanKAMQr8fD_vkC05EY9jSQPRWt7Ia93X4RYe07BDfAoOzDNKPS_x2IPWkzH7UdYg-9eZXt1hT2Xs3XCepIuIU1S6-ZgyBEnWmvFkdjQ-gnkrTB_PMzAcLir0l8JL41KqH1mzEHiPeU1w1z7E-2epjVf3A2vVLsiqAVT3MjsT0j6spbBNpzGJIZghUUjumbVt-gAlawdo-ysZPalZoTp5TQHPFWoShSD6JBTbDIlG6BuAWN_xZs802mfDtjb90aiDZ8er5qTQgelf9Rj1IGLrc8Lr3pau8M0BBnMnzHmy_w9Xn58jFItBOm1gLFUbZ6b6BFIzgETE1_JC9u2kcxtUnQ&refId=EBSmkZioQQPAVNqYw9%2BGTw%3D%3D&trackingId=jiwVMb1aegFvy%2B%2BFBpo9NQ%3D%3D&trk=flagship3_job_collections_leaf_page",
         "Python Developer",
         "Vista Applied Solutions Group Inc",
         "Bengaluru, Karnataka, India (On-site)",
         "vista applied solutions group inc",
         "Bengaluru",
         "On-site"
        ],
        [
         "https://www.linkedin.com/jobs/view/4274041586/?eBP=BUDGET_EXHAUSTED_JOB&refId=EBSmkZioQQPAVNqYw9%2BGTw%3D%3D&trackingId=S4Y%2FTvkNT3bBUSG0zusF%2FQ%3D%3D&trk=flagship3_job_collections_leaf_page",
         "Data Engineer",
         "ThoughtFocus",
         "Bangalore Urban, Karnataka, India (Hybrid)",
         "thoughtfocus",
         "Bangalore Urban",
         "Hybrid"
        ],
        [
         "https://www.linkedin.com/jobs/view/4278056971/?eBP=NOT_ELIGIBLE_FOR_CHARGING&refId=EBSmkZioQQPAVNqYw9%2BGTw%3D%3D&trackingId=tL0tOK7WsLfWzkrArNyvwQ%3D%3D&trk=flagship3_job_collections_leaf_page",
         "Python Developer",
         "Prometteur Solutions Pvt. Ltd.",
         "Mulshi, Maharashtra, India (On-site)",
         "prometteur solutions pvt. ltd.",
         "Mulshi",
         "On-site"
        ],
        [
         "https://www.linkedin.com/jobs/view/4278053425/?eBP=CwEAAAGYgRSu1JdlAnupeNTWOdazeBSeU8sxuLlcsHSgon2rNXsn2NvNBEF_-CKKsPUW5pVnXEFlQX5NspJzCJXXOeEhXU056x63pBZkq9veyp49TKSoq0Ntjtkga9QZogZUeGyAXARlBDY-uzdhOHDZO3R0TQ15PVTTerJ-0iLYIwcpTJz5GGFibUvm8dBAogl1zKcUuNFLW_AfWfbQfFQMix8uvJSactJ5iStb4cHz5dSnuT1J1S6Z5HbGm0kFLl2PjqT1oBLjkp8cpWwYU9ttuc3WqHRzYIi2GLAA9ITusOeHZN_EnA4ptz-0jaLTIp2rMhPi0L8R2Ax3ED02oGckv0z6hKZ2hQYVddWBEEPX__CabULQ09DB9yIpv-avZkEoVEaFlbfB5uZGTTiorUI0eo-CpdV0koEQ8rpdM2aNjZHsujK0s5Slw0Ag-3YZxHDeMMhC0C1lnG-oUFeMe5K-fmJw18joX3YEIlbv6bH1aLZnQfA3yKIt_H2WezN6gUiHrzg8z_MS7g3AcINptRSW0lSgVl6LPn4qew&refId=EBSmkZioQQPAVNqYw9%2BGTw%3D%3D&trackingId=yIrVVI4nggaCSczQpcSVfA%3D%3D&trk=flagship3_job_collections_leaf_page",
         "Python Developer",
         "NIIT",
         "Gurugram, Haryana, India (On-site)",
         "niit",
         "Gurugram",
         "On-site"
        ],
        [
         "https://www.linkedin.com/jobs/view/4266230981/?eBP=BUDGET_EXHAUSTED_JOB&refId=EBSmkZioQQPAVNqYw9%2BGTw%3D%3D&trackingId=SAUSa3RE1GC3zL4q5zM5aw%3D%3D&trk=flagship3_job_collections_leaf_page",
         "Lead - Data Analytics",
         "Freshworks",
         "Bengaluru, Karnataka, India (On-site)",
         "freshworks",
         "Bengaluru",
         "On-site"
        ],
        [
         "https://www.linkedin.com/jobs/view/4277616307/?eBP=CwEAAAGYgRSu1OciLGpKKAU34yDQCFpmdP9i-d7AFG8kAQYoawBXq0-Wz4gW39Alnen7imlNrXWBA_hbYAPYX4AwNRpLIw8ETriJmMJQiZwQhP4tTzBHej7b6Cbt82AHjcw9ay4cp5qmmWf8YOXomY0PcZaQc-rdi8SYeX_yjZDHLCB8EIObMHyT7zxFL0Pt_rXoSKDZMppSsGXnOtI7WpF5Vc254-lGLQllbsNbstcgLQcbPNB7yBN15fgsLSTKyAjlqXjBkqBhz2zSL3hP09s_nwHLsq_UKm1xxxNYlbBZKKlv6HV5DkAzAQpdCp3eZ55QdESTw6pa509xdX4evMiTVfN9WUJfxCvbvAQHMHQOZjTk5AoYdib3N5q5mKTUV40K0vNxowotLUnLa-nq0iQOJI98sg3vme94eXmYwhOnXLeLvCUApZMX-Ni1d6U&refId=EBSmkZioQQPAVNqYw9%2BGTw%3D%3D&trackingId=u36Ji%2BX3P%2FKdP%2FWPadPnTg%3D%3D&trk=flagship3_job_collections_leaf_page",
         "Associate QA Engineer",
         "Cendyn",
         "Hyderabad, Telangana, India (Hybrid)",
         "cendyn",
         "Hyderabad",
         "Hybrid"
        ]
       ],
       "datasetInfos": [],
       "dbfsResultPath": null,
       "isJsonSchema": true,
       "metadata": {},
       "overflow": false,
       "plotOptions": {
        "customPlotOptions": {},
        "displayType": "table",
        "pivotAggregation": null,
        "pivotColumns": null,
        "xColumns": null,
        "yColumns": null
       },
       "removedWidgets": [],
       "schema": [
        {
         "metadata": "{}",
         "name": "job_url",
         "type": "\"string\""
        },
        {
         "metadata": "{}",
         "name": "job_details",
         "type": "\"string\""
        },
        {
         "metadata": "{}",
         "name": "company",
         "type": "\"string\""
        },
        {
         "metadata": "{}",
         "name": "location_details",
         "type": "\"string\""
        },
        {
         "metadata": "{}",
         "name": "company_clean",
         "type": "\"string\""
        },
        {
         "metadata": "{}",
         "name": "city",
         "type": "\"string\""
        },
        {
         "metadata": "{}",
         "name": "job_type",
         "type": "\"string\""
        }
       ],
       "type": "table"
      }
     },
     "output_type": "display_data"
    }
   ],
   "source": [
    "display(df_transformed)"
   ]
  },
  {
   "cell_type": "markdown",
   "metadata": {
    "application/vnd.databricks.v1+cell": {
     "cellMetadata": {
      "byteLimit": 2048000,
      "rowLimit": 10000
     },
     "inputWidgets": {},
     "nuid": "37b43e84-a190-41c3-8a89-a354a7c555f7",
     "showTitle": false,
     "tableResultSettingsMap": {},
     "title": ""
    }
   },
   "source": [
    "# THIS GETS THIS DF AS TABLE TO PWBI"
   ]
  },
  {
   "cell_type": "code",
   "execution_count": 0,
   "metadata": {
    "application/vnd.databricks.v1+cell": {
     "cellMetadata": {
      "byteLimit": 2048000,
      "rowLimit": 10000
     },
     "inputWidgets": {},
     "nuid": "08c16422-41de-46b3-a144-1e620c0ca45d",
     "showTitle": false,
     "tableResultSettingsMap": {},
     "title": ""
    }
   },
   "outputs": [
    {
     "output_type": "stream",
     "name": "stdout",
     "output_type": "stream",
     "text": [
      "Successfully created the table 'jobs_with_skillo'. You can now load this table in Power BI.\n"
     ]
    }
   ],
   "source": [
    "\n",
    "df_transformed.write.mode(\"overwrite\").saveAsTable(\"mycatz.default.jobs_with_skillo\")\n",
    "\n",
    "print(\"Successfully created the table 'jobs_with_skillo'. You can now load this table in Power BI.\")\n",
    "\n"
   ]
  },
  {
   "cell_type": "code",
   "execution_count": 0,
   "metadata": {
    "application/vnd.databricks.v1+cell": {
     "cellMetadata": {
      "byteLimit": 2048000,
      "rowLimit": 10000
     },
     "inputWidgets": {},
     "nuid": "06fdbd94-bfd1-4fb1-8a25-d6291c92eef6",
     "showTitle": false,
     "tableResultSettingsMap": {},
     "title": ""
    }
   },
   "outputs": [
    {
     "output_type": "stream",
     "name": "stdout",
     "output_type": "stream",
     "text": [
      "Table saved to: /Volumes/mycatz/default/myvolz/jobs\n"
     ]
    }
   ],
   "source": [
    "# The full name of the table you want to download\n",
    "table_name = \"mycatz.default.jobs_with_skillo\"\n",
    "\n",
    "# The location in your volume where the CSV will be saved\n",
    "output_path = \"/Volumes/mycatz/default/myvolz/jobs\"\n",
    "\n",
    "# Read the table into a DataFrame\n",
    "df = spark.table(table_name)\n",
    "\n",
    "# Save the DataFrame as a single CSV file with a header\n",
    "# The .repartition(1) is important to ensure it saves as one file\n",
    "df.repartition(1).write.mode(\"overwrite\").option(\"header\", \"true\").csv(output_path)\n",
    "\n",
    "print(f\"Table saved to: {output_path}\")"
   ]
  },
  {
   "cell_type": "code",
   "execution_count": 0,
   "metadata": {
    "application/vnd.databricks.v1+cell": {
     "cellMetadata": {
      "byteLimit": 2048000,
      "implicitDf": true,
      "rowLimit": 10000
     },
     "inputWidgets": {},
     "nuid": "eed35281-8ecb-4ac1-8dbd-615a2bdc3c39",
     "showTitle": false,
     "tableResultSettingsMap": {},
     "title": ""
    }
   },
   "outputs": [],
   "source": [
    "%sql\n",
    "-- DROP TABLE mycatz.default.jobs_with_skillo"
   ]
  },
  {
   "cell_type": "code",
   "execution_count": 0,
   "metadata": {
    "application/vnd.databricks.v1+cell": {
     "cellMetadata": {
      "byteLimit": 2048000,
      "rowLimit": 10000
     },
     "inputWidgets": {},
     "nuid": "5da1a528-4ebf-4448-a484-5b1d1e8d4f8d",
     "showTitle": false,
     "tableResultSettingsMap": {},
     "title": ""
    }
   },
   "outputs": [],
   "source": [
    "# The path to the CSV directory you want to delete\n",
    "# path_to_delete = \"/Volumes/mycatz/default/myvolz/jobs/\"\n",
    "\n",
    "# # Use dbutils.fs.rm to remove the directory and its contents\n",
    "# dbutils.fs.rm(path_to_delete, recurse=True)\n",
    "\n",
    "# print(f\"Successfully deleted: {path_to_delete}\")"
   ]
  },
  {
   "cell_type": "code",
   "execution_count": 0,
   "metadata": {
    "application/vnd.databricks.v1+cell": {
     "cellMetadata": {
      "byteLimit": 2048000,
      "rowLimit": 10000
     },
     "inputWidgets": {},
     "nuid": "29683e20-4792-49ed-bc69-f933ca51163f",
     "showTitle": false,
     "tableResultSettingsMap": {},
     "title": ""
    }
   },
   "outputs": [],
   "source": []
  }
 ],
 "metadata": {
  "application/vnd.databricks.v1+notebook": {
   "computePreferences": {
    "hardware": {
     "accelerator": null,
     "gpuPoolId": null,
     "memory": null
    }
   },
   "dashboards": [],
   "environmentMetadata": {
    "base_environment": "",
    "environment_version": "2"
   },
   "inputWidgetPreferences": null,
   "language": "python",
   "notebookMetadata": {
    "mostRecentlyExecutedCommandWithImplicitDF": {
     "commandId": -1,
     "dataframes": [
      "_sqldf"
     ]
    },
    "pythonIndentUnit": 4
   },
   "notebookName": "job_helper",
   "widgets": {}
  },
  "language_info": {
   "name": "python"
  }
 },
 "nbformat": 4,
 "nbformat_minor": 0
}